{
 "cells": [
  {
   "cell_type": "markdown",
   "id": "3fff3a50",
   "metadata": {},
   "source": [
    "# Data Understanding Profiling"
   ]
  },
  {
   "cell_type": "code",
   "execution_count": 1,
   "id": "2ff44fe7",
   "metadata": {},
   "outputs": [],
   "source": [
    "import scipy\n",
    "import numpy as np\n",
    "import pandas as pd\n",
    "import matplotlib.pyplot as plt"
   ]
  },
  {
   "cell_type": "code",
   "execution_count": 2,
   "id": "6c32182d",
   "metadata": {},
   "outputs": [],
   "source": [
    "users = pd.read_csv(\"dataset/user_profiles.csv\", index_col=0)"
   ]
  },
  {
   "cell_type": "code",
   "execution_count": 3,
   "id": "2a558cda",
   "metadata": {},
   "outputs": [
    {
     "data": {
      "text/plain": [
       "(11508, 19)"
      ]
     },
     "execution_count": 3,
     "metadata": {},
     "output_type": "execute_result"
    }
   ],
   "source": [
    "users.shape"
   ]
  },
  {
   "cell_type": "code",
   "execution_count": 4,
   "id": "f89b757c",
   "metadata": {},
   "outputs": [
    {
     "data": {
      "text/html": [
       "<div>\n",
       "<style scoped>\n",
       "    .dataframe tbody tr th:only-of-type {\n",
       "        vertical-align: middle;\n",
       "    }\n",
       "\n",
       "    .dataframe tbody tr th {\n",
       "        vertical-align: top;\n",
       "    }\n",
       "\n",
       "    .dataframe thead th {\n",
       "        text-align: right;\n",
       "    }\n",
       "</style>\n",
       "<table border=\"1\" class=\"dataframe\">\n",
       "  <thead>\n",
       "    <tr style=\"text-align: right;\">\n",
       "      <th></th>\n",
       "      <th>name</th>\n",
       "      <th>lang</th>\n",
       "      <th>bot</th>\n",
       "      <th>created_at</th>\n",
       "      <th>statuses_count</th>\n",
       "      <th>avg_length</th>\n",
       "      <th>avg_special_chars</th>\n",
       "      <th>urls_ratio</th>\n",
       "      <th>mentions_ratio</th>\n",
       "      <th>hashtags_ratio</th>\n",
       "      <th>reply_count_mean</th>\n",
       "      <th>reply_count_std</th>\n",
       "      <th>reply_count_entropy</th>\n",
       "      <th>favorite_count_mean</th>\n",
       "      <th>favorite_count_std</th>\n",
       "      <th>favorite_count_entropy</th>\n",
       "      <th>retweet_count_mean</th>\n",
       "      <th>retweet_count_std</th>\n",
       "      <th>retweet_count_entropy</th>\n",
       "    </tr>\n",
       "  </thead>\n",
       "  <tbody>\n",
       "    <tr>\n",
       "      <th>2353593986</th>\n",
       "      <td>Lamonica Raborn</td>\n",
       "      <td>en</td>\n",
       "      <td>1</td>\n",
       "      <td>2019-02-22 18:00:42</td>\n",
       "      <td>76</td>\n",
       "      <td>62.340909</td>\n",
       "      <td>14.015152</td>\n",
       "      <td>0.000000</td>\n",
       "      <td>0.272727</td>\n",
       "      <td>0.098485</td>\n",
       "      <td>0.000000</td>\n",
       "      <td>0.000000</td>\n",
       "      <td>0.0</td>\n",
       "      <td>0.037879</td>\n",
       "      <td>0.190903</td>\n",
       "      <td>1.609438</td>\n",
       "      <td>0.037879</td>\n",
       "      <td>0.190903</td>\n",
       "      <td>1.609438</td>\n",
       "    </tr>\n",
       "    <tr>\n",
       "      <th>2358850842</th>\n",
       "      <td>Lourie Botton</td>\n",
       "      <td>en</td>\n",
       "      <td>0</td>\n",
       "      <td>2019-02-26 03:02:32</td>\n",
       "      <td>4</td>\n",
       "      <td>69.082645</td>\n",
       "      <td>15.041322</td>\n",
       "      <td>0.000000</td>\n",
       "      <td>0.338843</td>\n",
       "      <td>0.024793</td>\n",
       "      <td>0.000000</td>\n",
       "      <td>0.000000</td>\n",
       "      <td>0.0</td>\n",
       "      <td>0.049587</td>\n",
       "      <td>0.217090</td>\n",
       "      <td>1.791759</td>\n",
       "      <td>0.024793</td>\n",
       "      <td>0.155495</td>\n",
       "      <td>1.098612</td>\n",
       "    </tr>\n",
       "    <tr>\n",
       "      <th>137959629</th>\n",
       "      <td>Dadan Syarifudin</td>\n",
       "      <td>en</td>\n",
       "      <td>1</td>\n",
       "      <td>2015-04-30 07:09:56</td>\n",
       "      <td>7</td>\n",
       "      <td>19.250000</td>\n",
       "      <td>5.250000</td>\n",
       "      <td>0.000000</td>\n",
       "      <td>0.000000</td>\n",
       "      <td>0.000000</td>\n",
       "      <td>0.000000</td>\n",
       "      <td>0.000000</td>\n",
       "      <td>0.0</td>\n",
       "      <td>0.000000</td>\n",
       "      <td>0.000000</td>\n",
       "      <td>0.000000</td>\n",
       "      <td>0.000000</td>\n",
       "      <td>0.000000</td>\n",
       "      <td>0.000000</td>\n",
       "    </tr>\n",
       "    <tr>\n",
       "      <th>466124818</th>\n",
       "      <td>Carletto Focia</td>\n",
       "      <td>it</td>\n",
       "      <td>1</td>\n",
       "      <td>2017-01-18 02:49:18</td>\n",
       "      <td>50</td>\n",
       "      <td>86.944871</td>\n",
       "      <td>18.689463</td>\n",
       "      <td>0.022331</td>\n",
       "      <td>0.006281</td>\n",
       "      <td>0.072575</td>\n",
       "      <td>0.000000</td>\n",
       "      <td>0.000000</td>\n",
       "      <td>0.0</td>\n",
       "      <td>0.165387</td>\n",
       "      <td>0.530838</td>\n",
       "      <td>5.105129</td>\n",
       "      <td>0.826239</td>\n",
       "      <td>13.034008</td>\n",
       "      <td>2.170410</td>\n",
       "    </tr>\n",
       "    <tr>\n",
       "      <th>2571493866</th>\n",
       "      <td>MBK Ebook</td>\n",
       "      <td>en</td>\n",
       "      <td>0</td>\n",
       "      <td>2019-06-18 19:30:21</td>\n",
       "      <td>8</td>\n",
       "      <td>72.311246</td>\n",
       "      <td>14.582073</td>\n",
       "      <td>0.000825</td>\n",
       "      <td>0.506461</td>\n",
       "      <td>0.118229</td>\n",
       "      <td>0.000000</td>\n",
       "      <td>0.000000</td>\n",
       "      <td>0.0</td>\n",
       "      <td>0.056365</td>\n",
       "      <td>0.243387</td>\n",
       "      <td>5.248623</td>\n",
       "      <td>0.016772</td>\n",
       "      <td>0.142619</td>\n",
       "      <td>3.965939</td>\n",
       "    </tr>\n",
       "    <tr>\n",
       "      <th>2199062688</th>\n",
       "      <td>Qq</td>\n",
       "      <td>en</td>\n",
       "      <td>0</td>\n",
       "      <td>2018-11-19 06:58:18</td>\n",
       "      <td>8</td>\n",
       "      <td>45.132176</td>\n",
       "      <td>9.732754</td>\n",
       "      <td>0.022672</td>\n",
       "      <td>0.926676</td>\n",
       "      <td>0.024120</td>\n",
       "      <td>0.000000</td>\n",
       "      <td>0.000000</td>\n",
       "      <td>0.0</td>\n",
       "      <td>0.685480</td>\n",
       "      <td>2.111569</td>\n",
       "      <td>5.773195</td>\n",
       "      <td>15.277376</td>\n",
       "      <td>50.170955</td>\n",
       "      <td>5.692726</td>\n",
       "    </tr>\n",
       "    <tr>\n",
       "      <th>1174869769</th>\n",
       "      <td>Tania Wren</td>\n",
       "      <td>en</td>\n",
       "      <td>1</td>\n",
       "      <td>2018-02-15 10:51:28</td>\n",
       "      <td>21</td>\n",
       "      <td>64.041667</td>\n",
       "      <td>13.666667</td>\n",
       "      <td>0.125000</td>\n",
       "      <td>0.125000</td>\n",
       "      <td>0.458333</td>\n",
       "      <td>0.000000</td>\n",
       "      <td>0.000000</td>\n",
       "      <td>0.0</td>\n",
       "      <td>0.000000</td>\n",
       "      <td>0.000000</td>\n",
       "      <td>0.000000</td>\n",
       "      <td>0.000000</td>\n",
       "      <td>0.000000</td>\n",
       "      <td>0.000000</td>\n",
       "    </tr>\n",
       "    <tr>\n",
       "      <th>3118659848</th>\n",
       "      <td>charlotte gray</td>\n",
       "      <td>en</td>\n",
       "      <td>0</td>\n",
       "      <td>2020-03-31 21:19:59</td>\n",
       "      <td>4</td>\n",
       "      <td>62.362963</td>\n",
       "      <td>12.807407</td>\n",
       "      <td>0.088889</td>\n",
       "      <td>0.807407</td>\n",
       "      <td>0.111111</td>\n",
       "      <td>0.000000</td>\n",
       "      <td>0.000000</td>\n",
       "      <td>0.0</td>\n",
       "      <td>0.918519</td>\n",
       "      <td>1.813741</td>\n",
       "      <td>3.603718</td>\n",
       "      <td>4.370370</td>\n",
       "      <td>22.814791</td>\n",
       "      <td>1.735419</td>\n",
       "    </tr>\n",
       "    <tr>\n",
       "      <th>616225564</th>\n",
       "      <td>Anisha Williams</td>\n",
       "      <td>en</td>\n",
       "      <td>0</td>\n",
       "      <td>2017-06-25 15:49:36</td>\n",
       "      <td>7</td>\n",
       "      <td>66.850000</td>\n",
       "      <td>14.950000</td>\n",
       "      <td>0.033333</td>\n",
       "      <td>0.016667</td>\n",
       "      <td>0.233333</td>\n",
       "      <td>0.016667</td>\n",
       "      <td>0.128019</td>\n",
       "      <td>0.0</td>\n",
       "      <td>0.050000</td>\n",
       "      <td>0.284312</td>\n",
       "      <td>0.636514</td>\n",
       "      <td>0.016667</td>\n",
       "      <td>0.128019</td>\n",
       "      <td>0.000000</td>\n",
       "    </tr>\n",
       "    <tr>\n",
       "      <th>2357425536</th>\n",
       "      <td>Meda Tatlock</td>\n",
       "      <td>en</td>\n",
       "      <td>1</td>\n",
       "      <td>2019-02-25 04:30:56</td>\n",
       "      <td>69</td>\n",
       "      <td>65.074324</td>\n",
       "      <td>14.398649</td>\n",
       "      <td>0.000000</td>\n",
       "      <td>0.344595</td>\n",
       "      <td>0.101351</td>\n",
       "      <td>0.000000</td>\n",
       "      <td>0.000000</td>\n",
       "      <td>0.0</td>\n",
       "      <td>0.033784</td>\n",
       "      <td>0.180672</td>\n",
       "      <td>1.609438</td>\n",
       "      <td>0.040541</td>\n",
       "      <td>0.197223</td>\n",
       "      <td>1.791759</td>\n",
       "    </tr>\n",
       "  </tbody>\n",
       "</table>\n",
       "</div>"
      ],
      "text/plain": [
       "                        name lang  bot           created_at  statuses_count  \\\n",
       "2353593986   Lamonica Raborn   en    1  2019-02-22 18:00:42              76   \n",
       "2358850842     Lourie Botton   en    0  2019-02-26 03:02:32               4   \n",
       "137959629   Dadan Syarifudin   en    1  2015-04-30 07:09:56               7   \n",
       "466124818     Carletto Focia   it    1  2017-01-18 02:49:18              50   \n",
       "2571493866         MBK Ebook   en    0  2019-06-18 19:30:21               8   \n",
       "2199062688                Qq   en    0  2018-11-19 06:58:18               8   \n",
       "1174869769        Tania Wren   en    1  2018-02-15 10:51:28              21   \n",
       "3118659848    charlotte gray   en    0  2020-03-31 21:19:59               4   \n",
       "616225564    Anisha Williams   en    0  2017-06-25 15:49:36               7   \n",
       "2357425536      Meda Tatlock   en    1  2019-02-25 04:30:56              69   \n",
       "\n",
       "            avg_length  avg_special_chars  urls_ratio  mentions_ratio  \\\n",
       "2353593986   62.340909          14.015152    0.000000        0.272727   \n",
       "2358850842   69.082645          15.041322    0.000000        0.338843   \n",
       "137959629    19.250000           5.250000    0.000000        0.000000   \n",
       "466124818    86.944871          18.689463    0.022331        0.006281   \n",
       "2571493866   72.311246          14.582073    0.000825        0.506461   \n",
       "2199062688   45.132176           9.732754    0.022672        0.926676   \n",
       "1174869769   64.041667          13.666667    0.125000        0.125000   \n",
       "3118659848   62.362963          12.807407    0.088889        0.807407   \n",
       "616225564    66.850000          14.950000    0.033333        0.016667   \n",
       "2357425536   65.074324          14.398649    0.000000        0.344595   \n",
       "\n",
       "            hashtags_ratio  reply_count_mean  reply_count_std  \\\n",
       "2353593986        0.098485          0.000000         0.000000   \n",
       "2358850842        0.024793          0.000000         0.000000   \n",
       "137959629         0.000000          0.000000         0.000000   \n",
       "466124818         0.072575          0.000000         0.000000   \n",
       "2571493866        0.118229          0.000000         0.000000   \n",
       "2199062688        0.024120          0.000000         0.000000   \n",
       "1174869769        0.458333          0.000000         0.000000   \n",
       "3118659848        0.111111          0.000000         0.000000   \n",
       "616225564         0.233333          0.016667         0.128019   \n",
       "2357425536        0.101351          0.000000         0.000000   \n",
       "\n",
       "            reply_count_entropy  favorite_count_mean  favorite_count_std  \\\n",
       "2353593986                  0.0             0.037879            0.190903   \n",
       "2358850842                  0.0             0.049587            0.217090   \n",
       "137959629                   0.0             0.000000            0.000000   \n",
       "466124818                   0.0             0.165387            0.530838   \n",
       "2571493866                  0.0             0.056365            0.243387   \n",
       "2199062688                  0.0             0.685480            2.111569   \n",
       "1174869769                  0.0             0.000000            0.000000   \n",
       "3118659848                  0.0             0.918519            1.813741   \n",
       "616225564                   0.0             0.050000            0.284312   \n",
       "2357425536                  0.0             0.033784            0.180672   \n",
       "\n",
       "            favorite_count_entropy  retweet_count_mean  retweet_count_std  \\\n",
       "2353593986                1.609438            0.037879           0.190903   \n",
       "2358850842                1.791759            0.024793           0.155495   \n",
       "137959629                 0.000000            0.000000           0.000000   \n",
       "466124818                 5.105129            0.826239          13.034008   \n",
       "2571493866                5.248623            0.016772           0.142619   \n",
       "2199062688                5.773195           15.277376          50.170955   \n",
       "1174869769                0.000000            0.000000           0.000000   \n",
       "3118659848                3.603718            4.370370          22.814791   \n",
       "616225564                 0.636514            0.016667           0.128019   \n",
       "2357425536                1.609438            0.040541           0.197223   \n",
       "\n",
       "            retweet_count_entropy  \n",
       "2353593986               1.609438  \n",
       "2358850842               1.098612  \n",
       "137959629                0.000000  \n",
       "466124818                2.170410  \n",
       "2571493866               3.965939  \n",
       "2199062688               5.692726  \n",
       "1174869769               0.000000  \n",
       "3118659848               1.735419  \n",
       "616225564                0.000000  \n",
       "2357425536               1.791759  "
      ]
     },
     "execution_count": 4,
     "metadata": {},
     "output_type": "execute_result"
    }
   ],
   "source": [
    "users.head(10)"
   ]
  },
  {
   "cell_type": "code",
   "execution_count": 5,
   "id": "5759b083",
   "metadata": {},
   "outputs": [
    {
     "data": {
      "text/plain": [
       "<bound method DataFrame.info of                           name lang  bot           created_at  statuses_count  \\\n",
       "2353593986     Lamonica Raborn   en    1  2019-02-22 18:00:42              76   \n",
       "2358850842       Lourie Botton   en    0  2019-02-26 03:02:32               4   \n",
       "137959629     Dadan Syarifudin   en    1  2015-04-30 07:09:56               7   \n",
       "466124818       Carletto Focia   it    1  2017-01-18 02:49:18              50   \n",
       "2571493866           MBK Ebook   en    0  2019-06-18 19:30:21               8   \n",
       "...                        ...  ...  ...                  ...             ...   \n",
       "2911861962  Madrid Lae Maika .   en    0  2019-11-29 13:16:02               7   \n",
       "1378532629           Clau Sato   en    0  2018-04-27 03:01:58               8   \n",
       "126984069   ALMA LETICIA NUÑO    es    0  2015-03-29 17:01:24               1   \n",
       "2383025796     Minnie Guadagno   en    1  2019-03-13 02:44:13              42   \n",
       "933183398            Corvanna    en    0  2017-11-09 23:24:16               8   \n",
       "\n",
       "            avg_length  avg_special_chars  urls_ratio  mentions_ratio  \\\n",
       "2353593986   62.340909          14.015152    0.000000        0.272727   \n",
       "2358850842   69.082645          15.041322    0.000000        0.338843   \n",
       "137959629    19.250000           5.250000    0.000000        0.000000   \n",
       "466124818    86.944871          18.689463    0.022331        0.006281   \n",
       "2571493866   72.311246          14.582073    0.000825        0.506461   \n",
       "...                ...                ...         ...             ...   \n",
       "2911861962   52.677158          12.767086    0.024281        0.775180   \n",
       "1378532629   59.716210          12.984608    0.088504        0.524772   \n",
       "126984069    67.666667          15.833333    0.666667        0.333333   \n",
       "2383025796   63.278846          13.971154    0.000000        0.365385   \n",
       "933183398    52.068064          11.291587    0.011707        0.785189   \n",
       "\n",
       "            hashtags_ratio  reply_count_mean  reply_count_std  \\\n",
       "2353593986        0.098485               0.0              0.0   \n",
       "2358850842        0.024793               0.0              0.0   \n",
       "137959629         0.000000               0.0              0.0   \n",
       "466124818         0.072575               0.0              0.0   \n",
       "2571493866        0.118229               0.0              0.0   \n",
       "...                    ...               ...              ...   \n",
       "2911861962        0.192446               0.0              0.0   \n",
       "1378532629        0.114959               0.0              0.0   \n",
       "126984069         0.333333               0.0              0.0   \n",
       "2383025796        0.009615               0.0              0.0   \n",
       "933183398         0.041111               0.0              0.0   \n",
       "\n",
       "            reply_count_entropy  favorite_count_mean  favorite_count_std  \\\n",
       "2353593986                  0.0             0.037879            0.190903   \n",
       "2358850842                  0.0             0.049587            0.217090   \n",
       "137959629                   0.0             0.000000            0.000000   \n",
       "466124818                   0.0             0.165387            0.530838   \n",
       "2571493866                  0.0             0.056365            0.243387   \n",
       "...                         ...                  ...                 ...   \n",
       "2911861962                  0.0             0.053058            0.250664   \n",
       "1378532629                  0.0             0.199134            0.506598   \n",
       "126984069                   0.0             0.000000            0.000000   \n",
       "2383025796                  0.0             0.076923            0.266469   \n",
       "933183398                   0.0             0.118160            0.381551   \n",
       "\n",
       "            favorite_count_entropy  retweet_count_mean  retweet_count_std  \\\n",
       "2353593986                1.609438            0.037879           0.190903   \n",
       "2358850842                1.791759            0.024793           0.155495   \n",
       "137959629                 0.000000            0.000000           0.000000   \n",
       "466124818                 5.105129            0.826239          13.034008   \n",
       "2571493866                5.248623            0.016772           0.142619   \n",
       "...                            ...                 ...                ...   \n",
       "2911861962                3.942318           17.565647          56.180298   \n",
       "1378532629                5.721018            3.541126          27.644189   \n",
       "126984069                 0.000000            0.000000           0.000000   \n",
       "2383025796                2.079442            0.067308           0.286371   \n",
       "933183398                 5.852158           14.494419          50.770315   \n",
       "\n",
       "            retweet_count_entropy  \n",
       "2353593986               1.609438  \n",
       "2358850842               1.098612  \n",
       "137959629                0.000000  \n",
       "466124818                2.170410  \n",
       "2571493866               3.965939  \n",
       "...                           ...  \n",
       "2911861962               4.747000  \n",
       "1378532629               3.751964  \n",
       "126984069                0.000000  \n",
       "2383025796               1.747868  \n",
       "933183398                6.003333  \n",
       "\n",
       "[11508 rows x 19 columns]>"
      ]
     },
     "execution_count": 5,
     "metadata": {},
     "output_type": "execute_result"
    }
   ],
   "source": [
    "users.info"
   ]
  },
  {
   "cell_type": "markdown",
   "id": "afc8b058",
   "metadata": {},
   "source": [
    "## avg_length"
   ]
  },
  {
   "cell_type": "code",
   "execution_count": 6,
   "id": "5a8a0950",
   "metadata": {},
   "outputs": [
    {
     "data": {
      "text/plain": [
       "60.000000    13\n",
       "57.000000     9\n",
       "50.000000     9\n",
       "64.000000     8\n",
       "71.000000     8\n",
       "             ..\n",
       "67.948148     1\n",
       "70.032680     1\n",
       "62.942529     1\n",
       "99.298701     1\n",
       "52.068064     1\n",
       "Name: avg_length, Length: 10794, dtype: int64"
      ]
     },
     "execution_count": 6,
     "metadata": {},
     "output_type": "execute_result"
    }
   ],
   "source": [
    "users.avg_length.value_counts()"
   ]
  },
  {
   "cell_type": "code",
   "execution_count": 7,
   "id": "16a61e00",
   "metadata": {},
   "outputs": [
    {
     "data": {
      "image/png": "[encoded data removed]",
      "text/plain": [
       "<Figure size 432x288 with 1 Axes>"
      ]
     },
     "metadata": {
      "needs_background": "light"
     },
     "output_type": "display_data"
    }
   ],
   "source": [
    "users.avg_length.hist()\n",
    "plt.show()"
   ]
  },
  {
   "cell_type": "code",
   "execution_count": 8,
   "id": "80835d1c",
   "metadata": {},
   "outputs": [
    {
     "data": {
      "text/plain": [
       "count    11508.000000\n",
       "mean        68.140132\n",
       "std         16.206471\n",
       "min          3.000000\n",
       "25%         59.398274\n",
       "50%         65.527658\n",
       "75%         77.422770\n",
       "max        245.000000\n",
       "Name: avg_length, dtype: float64"
      ]
     },
     "execution_count": 8,
     "metadata": {},
     "output_type": "execute_result"
    }
   ],
   "source": [
    "users.avg_length.describe()"
   ]
  },
  {
   "cell_type": "code",
   "execution_count": 9,
   "id": "f863bbd3",
   "metadata": {},
   "outputs": [
    {
     "data": {
      "text/plain": [
       "65.52765789965359"
      ]
     },
     "execution_count": 9,
     "metadata": {},
     "output_type": "execute_result"
    }
   ],
   "source": [
    "users.avg_length.median()"
   ]
  },
  {
   "cell_type": "code",
   "execution_count": 10,
   "id": "cb3033d8",
   "metadata": {},
   "outputs": [
    {
     "data": {
      "image/png": "[encoded data removed]",
      "text/plain": [
       "<Figure size 432x288 with 1 Axes>"
      ]
     },
     "metadata": {
      "needs_background": "light"
     },
     "output_type": "display_data"
    }
   ],
   "source": [
    "pd.DataFrame(users.avg_length).boxplot()\n",
    "plt.show()"
   ]
  },
  {
   "cell_type": "code",
   "execution_count": 11,
   "id": "f21cd1a0",
   "metadata": {},
   "outputs": [
    {
     "data": {
      "text/plain": [
       "<AxesSubplot:>"
      ]
     },
     "execution_count": 11,
     "metadata": {},
     "output_type": "execute_result"
    },
    {
     "data": {
      "image/png": "[encoded data removed]",
      "text/plain": [
       "<Figure size 432x288 with 1 Axes>"
      ]
     },
     "metadata": {
      "needs_background": "light"
     },
     "output_type": "display_data"
    }
   ],
   "source": [
    "log_feature = pd.Series(np.log(users.avg_length + 1))\n",
    "log_feature.hist()"
   ]
  },
  {
   "cell_type": "code",
   "execution_count": 12,
   "id": "82dbffc1",
   "metadata": {},
   "outputs": [
    {
     "data": {
      "image/png": "[encoded data removed]",
      "text/plain": [
       "<Figure size 432x288 with 1 Axes>"
      ]
     },
     "metadata": {
      "needs_background": "light"
     },
     "output_type": "display_data"
    }
   ],
   "source": [
    "pd.DataFrame(log_feature).boxplot()\n",
    "plt.show()"
   ]
  },
  {
   "cell_type": "markdown",
   "id": "e69be4f8",
   "metadata": {},
   "source": [
    "## avg_special_chars"
   ]
  },
  {
   "cell_type": "code",
   "execution_count": 13,
   "id": "43900ae0",
   "metadata": {},
   "outputs": [
    {
     "data": {
      "text/plain": [
       "13.000000    34\n",
       "14.000000    30\n",
       "15.000000    23\n",
       "12.000000    19\n",
       "14.666667    19\n",
       "             ..\n",
       "18.503876     1\n",
       "12.524872     1\n",
       "16.116667     1\n",
       "17.209358     1\n",
       "11.291587     1\n",
       "Name: avg_special_chars, Length: 9943, dtype: int64"
      ]
     },
     "execution_count": 13,
     "metadata": {},
     "output_type": "execute_result"
    }
   ],
   "source": [
    "users.avg_special_chars.value_counts()"
   ]
  },
  {
   "cell_type": "code",
   "execution_count": 14,
   "id": "47e44bd7",
   "metadata": {},
   "outputs": [
    {
     "data": {
      "image/png": "[encoded data removed]",
      "text/plain": [
       "<Figure size 432x288 with 1 Axes>"
      ]
     },
     "metadata": {
      "needs_background": "light"
     },
     "output_type": "display_data"
    }
   ],
   "source": [
    "users.avg_special_chars.hist()\n",
    "plt.show()"
   ]
  },
  {
   "cell_type": "code",
   "execution_count": 15,
   "id": "6fec8fdf",
   "metadata": {},
   "outputs": [
    {
     "data": {
      "text/plain": [
       "count    11508.000000\n",
       "mean        15.481021\n",
       "std          5.457811\n",
       "min          0.000000\n",
       "25%         13.181641\n",
       "50%         14.694363\n",
       "75%         17.228965\n",
       "max        149.000000\n",
       "Name: avg_special_chars, dtype: float64"
      ]
     },
     "execution_count": 15,
     "metadata": {},
     "output_type": "execute_result"
    }
   ],
   "source": [
    "users.avg_special_chars.describe() "
   ]
  },
  {
   "cell_type": "code",
   "execution_count": 16,
   "id": "fd7c4d7b",
   "metadata": {},
   "outputs": [
    {
     "data": {
      "text/plain": [
       "14.69436341242059"
      ]
     },
     "execution_count": 16,
     "metadata": {},
     "output_type": "execute_result"
    }
   ],
   "source": [
    "users.avg_special_chars.median()"
   ]
  },
  {
   "cell_type": "code",
   "execution_count": 17,
   "id": "519b33dd",
   "metadata": {},
   "outputs": [
    {
     "data": {
      "image/png": "[encoded data removed]",
      "text/plain": [
       "<Figure size 432x288 with 1 Axes>"
      ]
     },
     "metadata": {
      "needs_background": "light"
     },
     "output_type": "display_data"
    }
   ],
   "source": [
    "pd.DataFrame(users.avg_special_chars).boxplot()\n",
    "plt.show()"
   ]
  },
  {
   "cell_type": "code",
   "execution_count": 18,
   "id": "998831f2",
   "metadata": {},
   "outputs": [
    {
     "data": {
      "text/plain": [
       "<AxesSubplot:>"
      ]
     },
     "execution_count": 18,
     "metadata": {},
     "output_type": "execute_result"
    },
    {
     "data": {
      "image/png": "[encoded data removed]",
      "text/plain": [
       "<Figure size 432x288 with 1 Axes>"
      ]
     },
     "metadata": {
      "needs_background": "light"
     },
     "output_type": "display_data"
    }
   ],
   "source": [
    "log_feature = pd.Series(np.log(users.avg_special_chars + 1))\n",
    "log_feature.hist()"
   ]
  },
  {
   "cell_type": "code",
   "execution_count": 19,
   "id": "9a0e1ff2",
   "metadata": {},
   "outputs": [
    {
     "data": {
      "image/png": "[encoded data removed]",
      "text/plain": [
       "<Figure size 432x288 with 1 Axes>"
      ]
     },
     "metadata": {
      "needs_background": "light"
     },
     "output_type": "display_data"
    }
   ],
   "source": [
    "pd.DataFrame(log_feature).boxplot()\n",
    "plt.show()"
   ]
  },
  {
   "cell_type": "markdown",
   "id": "8ca212a9",
   "metadata": {},
   "source": [
    "## urls_ratio"
   ]
  },
  {
   "cell_type": "code",
   "execution_count": 20,
   "id": "2082f493",
   "metadata": {},
   "outputs": [
    {
     "data": {
      "text/plain": [
       "0.000000    5104\n",
       "1.000000      67\n",
       "0.050000      31\n",
       "0.040000      29\n",
       "0.047619      29\n",
       "            ... \n",
       "0.006751       1\n",
       "0.724675       1\n",
       "0.020518       1\n",
       "0.661855       1\n",
       "0.011707       1\n",
       "Name: urls_ratio, Length: 5028, dtype: int64"
      ]
     },
     "execution_count": 20,
     "metadata": {},
     "output_type": "execute_result"
    }
   ],
   "source": [
    "users.urls_ratio.value_counts()"
   ]
  },
  {
   "cell_type": "code",
   "execution_count": 21,
   "id": "8303c289",
   "metadata": {},
   "outputs": [
    {
     "data": {
      "text/plain": [
       "count    11508.000000\n",
       "mean         0.085288\n",
       "std          0.178616\n",
       "min          0.000000\n",
       "25%          0.000000\n",
       "50%          0.016129\n",
       "75%          0.070043\n",
       "max          2.000000\n",
       "Name: urls_ratio, dtype: float64"
      ]
     },
     "execution_count": 21,
     "metadata": {},
     "output_type": "execute_result"
    }
   ],
   "source": [
    "users.urls_ratio.describe()"
   ]
  },
  {
   "cell_type": "code",
   "execution_count": 22,
   "id": "bc9d05f2",
   "metadata": {},
   "outputs": [
    {
     "data": {
      "image/png": "[encoded data removed]",
      "text/plain": [
       "<Figure size 432x288 with 1 Axes>"
      ]
     },
     "metadata": {
      "needs_background": "light"
     },
     "output_type": "display_data"
    }
   ],
   "source": [
    "users.urls_ratio.hist()\n",
    "plt.show()"
   ]
  },
  {
   "cell_type": "code",
   "execution_count": 23,
   "id": "f1ab209a",
   "metadata": {},
   "outputs": [
    {
     "data": {
      "text/plain": [
       "0.0161290322580645"
      ]
     },
     "execution_count": 23,
     "metadata": {},
     "output_type": "execute_result"
    }
   ],
   "source": [
    "users.urls_ratio.median()"
   ]
  },
  {
   "cell_type": "code",
   "execution_count": 24,
   "id": "f62ac76c",
   "metadata": {},
   "outputs": [
    {
     "data": {
      "image/png": "[encoded data removed]",
      "text/plain": [
       "<Figure size 432x288 with 1 Axes>"
      ]
     },
     "metadata": {
      "needs_background": "light"
     },
     "output_type": "display_data"
    }
   ],
   "source": [
    "pd.DataFrame(users.urls_ratio).boxplot()\n",
    "plt.show()"
   ]
  },
  {
   "cell_type": "code",
   "execution_count": 25,
   "id": "0cb908ce",
   "metadata": {},
   "outputs": [
    {
     "data": {
      "text/plain": [
       "<AxesSubplot:>"
      ]
     },
     "execution_count": 25,
     "metadata": {},
     "output_type": "execute_result"
    },
    {
     "data": {
      "image/png": "[encoded data removed]",
      "text/plain": [
       "<Figure size 432x288 with 1 Axes>"
      ]
     },
     "metadata": {
      "needs_background": "light"
     },
     "output_type": "display_data"
    }
   ],
   "source": [
    "log_feature = pd.Series(np.log(users.urls_ratio + 1))\n",
    "log_feature.hist()"
   ]
  },
  {
   "cell_type": "code",
   "execution_count": 26,
   "id": "da24c399",
   "metadata": {},
   "outputs": [
    {
     "data": {
      "image/png": "[encoded data removed]",
      "text/plain": [
       "<Figure size 432x288 with 1 Axes>"
      ]
     },
     "metadata": {
      "needs_background": "light"
     },
     "output_type": "display_data"
    }
   ],
   "source": [
    "pd.DataFrame(log_feature).boxplot()\n",
    "plt.show()"
   ]
  },
  {
   "cell_type": "markdown",
   "id": "241bca13",
   "metadata": {},
   "source": [
    "## mentions_ratio"
   ]
  },
  {
   "cell_type": "code",
   "execution_count": 27,
   "id": "918934cf",
   "metadata": {},
   "outputs": [
    {
     "data": {
      "text/plain": [
       "0.000000    2093\n",
       "0.333333     110\n",
       "1.000000      48\n",
       "0.285714      34\n",
       "0.300000      32\n",
       "            ... \n",
       "1.298795       1\n",
       "0.401198       1\n",
       "1.076923       1\n",
       "0.378151       1\n",
       "0.785189       1\n",
       "Name: mentions_ratio, Length: 5968, dtype: int64"
      ]
     },
     "execution_count": 27,
     "metadata": {},
     "output_type": "execute_result"
    }
   ],
   "source": [
    "users.mentions_ratio.value_counts()"
   ]
  },
  {
   "cell_type": "code",
   "execution_count": 28,
   "id": "6dac88eb",
   "metadata": {},
   "outputs": [
    {
     "data": {
      "image/png": "[encoded data removed]",
      "text/plain": [
       "<Figure size 432x288 with 1 Axes>"
      ]
     },
     "metadata": {
      "needs_background": "light"
     },
     "output_type": "display_data"
    }
   ],
   "source": [
    "users.mentions_ratio.hist()\n",
    "plt.show()"
   ]
  },
  {
   "cell_type": "code",
   "execution_count": 29,
   "id": "da49c480",
   "metadata": {},
   "outputs": [
    {
     "data": {
      "text/plain": [
       "count    11508.000000\n",
       "mean         0.353250\n",
       "std          0.361928\n",
       "min          0.000000\n",
       "25%          0.010260\n",
       "50%          0.304348\n",
       "75%          0.504230\n",
       "max          5.785124\n",
       "Name: mentions_ratio, dtype: float64"
      ]
     },
     "execution_count": 29,
     "metadata": {},
     "output_type": "execute_result"
    }
   ],
   "source": [
    "users.mentions_ratio.describe()"
   ]
  },
  {
   "cell_type": "code",
   "execution_count": 30,
   "id": "d70803ae",
   "metadata": {},
   "outputs": [
    {
     "data": {
      "text/plain": [
       "0.3043478260869565"
      ]
     },
     "execution_count": 30,
     "metadata": {},
     "output_type": "execute_result"
    }
   ],
   "source": [
    "users.mentions_ratio.median()"
   ]
  },
  {
   "cell_type": "code",
   "execution_count": 31,
   "id": "7a7e0517",
   "metadata": {},
   "outputs": [
    {
     "data": {
      "image/png": "[encoded data removed]",
      "text/plain": [
       "<Figure size 432x288 with 1 Axes>"
      ]
     },
     "metadata": {
      "needs_background": "light"
     },
     "output_type": "display_data"
    }
   ],
   "source": [
    "pd.DataFrame(users.mentions_ratio).boxplot()\n",
    "plt.show()"
   ]
  },
  {
   "cell_type": "code",
   "execution_count": 32,
   "id": "e165480e",
   "metadata": {},
   "outputs": [
    {
     "data": {
      "text/plain": [
       "<AxesSubplot:>"
      ]
     },
     "execution_count": 32,
     "metadata": {},
     "output_type": "execute_result"
    },
    {
     "data": {
      "image/png": "[encoded data removed]",
      "text/plain": [
       "<Figure size 432x288 with 1 Axes>"
      ]
     },
     "metadata": {
      "needs_background": "light"
     },
     "output_type": "display_data"
    }
   ],
   "source": [
    "log_feature = pd.Series(np.log(users.mentions_ratio + 1))\n",
    "log_feature.hist()"
   ]
  },
  {
   "cell_type": "code",
   "execution_count": 33,
   "id": "f2569fe5",
   "metadata": {},
   "outputs": [
    {
     "data": {
      "image/png": "[encoded data removed]",
      "text/plain": [
       "<Figure size 432x288 with 1 Axes>"
      ]
     },
     "metadata": {
      "needs_background": "light"
     },
     "output_type": "display_data"
    }
   ],
   "source": [
    "pd.DataFrame(log_feature).boxplot()\n",
    "plt.show()"
   ]
  },
  {
   "cell_type": "markdown",
   "id": "d426a7ff",
   "metadata": {},
   "source": [
    "## hashtags_ratio"
   ]
  },
  {
   "cell_type": "code",
   "execution_count": 34,
   "id": "f9999d9c",
   "metadata": {},
   "outputs": [
    {
     "data": {
      "text/plain": [
       "0.000000    1054\n",
       "0.125000      63\n",
       "0.090909      57\n",
       "0.076923      56\n",
       "0.200000      54\n",
       "            ... \n",
       "0.027190       1\n",
       "0.070455       1\n",
       "0.244161       1\n",
       "0.054230       1\n",
       "0.041111       1\n",
       "Name: hashtags_ratio, Length: 5562, dtype: int64"
      ]
     },
     "execution_count": 34,
     "metadata": {},
     "output_type": "execute_result"
    }
   ],
   "source": [
    "users.hashtags_ratio.value_counts()"
   ]
  },
  {
   "cell_type": "code",
   "execution_count": 35,
   "id": "687c5abf",
   "metadata": {},
   "outputs": [
    {
     "data": {
      "image/png": "[encoded data removed]",
      "text/plain": [
       "<Figure size 432x288 with 1 Axes>"
      ]
     },
     "metadata": {
      "needs_background": "light"
     },
     "output_type": "display_data"
    }
   ],
   "source": [
    "users.hashtags_ratio.hist()\n",
    "plt.show()"
   ]
  },
  {
   "cell_type": "code",
   "execution_count": 36,
   "id": "5d13bcf3",
   "metadata": {},
   "outputs": [
    {
     "data": {
      "text/plain": [
       "count    11508.000000\n",
       "mean         0.140665\n",
       "std          0.212670\n",
       "min          0.000000\n",
       "25%          0.045455\n",
       "50%          0.076923\n",
       "75%          0.153658\n",
       "max          5.669974\n",
       "Name: hashtags_ratio, dtype: float64"
      ]
     },
     "execution_count": 36,
     "metadata": {},
     "output_type": "execute_result"
    }
   ],
   "source": [
    "users.hashtags_ratio.describe()"
   ]
  },
  {
   "cell_type": "code",
   "execution_count": 37,
   "id": "08ed3515",
   "metadata": {},
   "outputs": [
    {
     "data": {
      "text/plain": [
       "0.0769230769230769"
      ]
     },
     "execution_count": 37,
     "metadata": {},
     "output_type": "execute_result"
    }
   ],
   "source": [
    "users.hashtags_ratio.median()"
   ]
  },
  {
   "cell_type": "code",
   "execution_count": 38,
   "id": "edaf76dd",
   "metadata": {},
   "outputs": [
    {
     "data": {
      "image/png": "[encoded data removed]",
      "text/plain": [
       "<Figure size 432x288 with 1 Axes>"
      ]
     },
     "metadata": {
      "needs_background": "light"
     },
     "output_type": "display_data"
    }
   ],
   "source": [
    "pd.DataFrame(users.hashtags_ratio).boxplot()\n",
    "plt.show()"
   ]
  },
  {
   "cell_type": "code",
   "execution_count": 39,
   "id": "98ef651c",
   "metadata": {},
   "outputs": [
    {
     "data": {
      "text/plain": [
       "<AxesSubplot:>"
      ]
     },
     "execution_count": 39,
     "metadata": {},
     "output_type": "execute_result"
    },
    {
     "data": {
      "image/png": "[encoded data removed]",
      "text/plain": [
       "<Figure size 432x288 with 1 Axes>"
      ]
     },
     "metadata": {
      "needs_background": "light"
     },
     "output_type": "display_data"
    }
   ],
   "source": [
    "log_feature = pd.Series(np.log(users.hashtags_ratio + 1))\n",
    "log_feature.hist()"
   ]
  },
  {
   "cell_type": "code",
   "execution_count": 40,
   "id": "36de4893",
   "metadata": {},
   "outputs": [
    {
     "data": {
      "image/png": "[encoded data removed]",
      "text/plain": [
       "<Figure size 432x288 with 1 Axes>"
      ]
     },
     "metadata": {
      "needs_background": "light"
     },
     "output_type": "display_data"
    }
   ],
   "source": [
    "pd.DataFrame(log_feature).boxplot()\n",
    "plt.show()"
   ]
  },
  {
   "cell_type": "markdown",
   "id": "cbcb9d20",
   "metadata": {},
   "source": [
    "## reply_count_mean"
   ]
  },
  {
   "cell_type": "code",
   "execution_count": 41,
   "id": "0645490b",
   "metadata": {},
   "outputs": [
    {
     "data": {
      "text/plain": [
       "0.000000    9617\n",
       "0.047619      51\n",
       "0.045455      42\n",
       "0.038462      41\n",
       "0.043478      40\n",
       "            ... \n",
       "0.207143       1\n",
       "0.592834       1\n",
       "0.015812       1\n",
       "1.695652       1\n",
       "0.402757       1\n",
       "Name: reply_count_mean, Length: 595, dtype: int64"
      ]
     },
     "execution_count": 41,
     "metadata": {},
     "output_type": "execute_result"
    }
   ],
   "source": [
    "users.reply_count_mean.value_counts()"
   ]
  },
  {
   "cell_type": "code",
   "execution_count": 42,
   "id": "a434c9d0",
   "metadata": {},
   "outputs": [
    {
     "data": {
      "image/png": "[encoded data removed]",
      "text/plain": [
       "<Figure size 432x288 with 1 Axes>"
      ]
     },
     "metadata": {
      "needs_background": "light"
     },
     "output_type": "display_data"
    }
   ],
   "source": [
    "users.reply_count_mean.hist()\n",
    "plt.show()"
   ]
  },
  {
   "cell_type": "code",
   "execution_count": 43,
   "id": "3fda253b",
   "metadata": {},
   "outputs": [
    {
     "data": {
      "text/plain": [
       "count    11508.000000\n",
       "mean         0.056410\n",
       "std          0.658114\n",
       "min          0.000000\n",
       "25%          0.000000\n",
       "50%          0.000000\n",
       "75%          0.000000\n",
       "max         32.500000\n",
       "Name: reply_count_mean, dtype: float64"
      ]
     },
     "execution_count": 43,
     "metadata": {},
     "output_type": "execute_result"
    }
   ],
   "source": [
    "users.reply_count_mean.describe()"
   ]
  },
  {
   "cell_type": "code",
   "execution_count": 44,
   "id": "ab843ffe",
   "metadata": {},
   "outputs": [
    {
     "data": {
      "text/plain": [
       "0.0"
      ]
     },
     "execution_count": 44,
     "metadata": {},
     "output_type": "execute_result"
    }
   ],
   "source": [
    "users.reply_count_mean.median()"
   ]
  },
  {
   "cell_type": "code",
   "execution_count": 45,
   "id": "70bb3a83",
   "metadata": {},
   "outputs": [
    {
     "data": {
      "image/png": "[encoded data removed]",
      "text/plain": [
       "<Figure size 432x288 with 1 Axes>"
      ]
     },
     "metadata": {
      "needs_background": "light"
     },
     "output_type": "display_data"
    }
   ],
   "source": [
    "pd.DataFrame(users.reply_count_mean).boxplot()\n",
    "plt.show()"
   ]
  },
  {
   "cell_type": "code",
   "execution_count": 46,
   "id": "acd8297b",
   "metadata": {},
   "outputs": [
    {
     "data": {
      "text/plain": [
       "<AxesSubplot:>"
      ]
     },
     "execution_count": 46,
     "metadata": {},
     "output_type": "execute_result"
    },
    {
     "data": {
      "image/png": "[encoded data removed]",
      "text/plain": [
       "<Figure size 432x288 with 1 Axes>"
      ]
     },
     "metadata": {
      "needs_background": "light"
     },
     "output_type": "display_data"
    }
   ],
   "source": [
    "log_feature = pd.Series(np.log(users.reply_count_mean + 1))\n",
    "log_feature.hist()"
   ]
  },
  {
   "cell_type": "code",
   "execution_count": 47,
   "id": "eba115a3",
   "metadata": {},
   "outputs": [
    {
     "data": {
      "image/png": "[encoded data removed]",
      "text/plain": [
       "<Figure size 432x288 with 1 Axes>"
      ]
     },
     "metadata": {
      "needs_background": "light"
     },
     "output_type": "display_data"
    }
   ],
   "source": [
    "pd.DataFrame(log_feature).boxplot()\n",
    "plt.show()"
   ]
  },
  {
   "cell_type": "markdown",
   "id": "78d48894",
   "metadata": {},
   "source": [
    "## reply_count_std"
   ]
  },
  {
   "cell_type": "code",
   "execution_count": 48,
   "id": "78e74c6d",
   "metadata": {},
   "outputs": [
    {
     "data": {
      "text/plain": [
       "0.000000    9623\n",
       "0.192308      41\n",
       "0.203931      38\n",
       "0.217945      38\n",
       "0.195959      38\n",
       "            ... \n",
       "0.126474       1\n",
       "1.538851       1\n",
       "0.354043       1\n",
       "0.456813       1\n",
       "4.240669       1\n",
       "Name: reply_count_std, Length: 807, dtype: int64"
      ]
     },
     "execution_count": 48,
     "metadata": {},
     "output_type": "execute_result"
    }
   ],
   "source": [
    "users.reply_count_std.value_counts()"
   ]
  },
  {
   "cell_type": "code",
   "execution_count": 49,
   "id": "4c40630f",
   "metadata": {},
   "outputs": [
    {
     "data": {
      "image/png": "[encoded data removed]",
      "text/plain": [
       "<Figure size 432x288 with 1 Axes>"
      ]
     },
     "metadata": {
      "needs_background": "light"
     },
     "output_type": "display_data"
    }
   ],
   "source": [
    "users.reply_count_std.hist()\n",
    "plt.show()"
   ]
  },
  {
   "cell_type": "code",
   "execution_count": 50,
   "id": "9e50590e",
   "metadata": {},
   "outputs": [
    {
     "data": {
      "text/plain": [
       "count    11508.000000\n",
       "mean         0.167430\n",
       "std          1.273833\n",
       "min          0.000000\n",
       "25%          0.000000\n",
       "50%          0.000000\n",
       "75%          0.000000\n",
       "max         48.877909\n",
       "Name: reply_count_std, dtype: float64"
      ]
     },
     "execution_count": 50,
     "metadata": {},
     "output_type": "execute_result"
    }
   ],
   "source": [
    "users.reply_count_std.describe()"
   ]
  },
  {
   "cell_type": "code",
   "execution_count": 51,
   "id": "5bf3ab93",
   "metadata": {},
   "outputs": [
    {
     "data": {
      "text/plain": [
       "0.0"
      ]
     },
     "execution_count": 51,
     "metadata": {},
     "output_type": "execute_result"
    }
   ],
   "source": [
    "users.reply_count_std.median()"
   ]
  },
  {
   "cell_type": "code",
   "execution_count": 52,
   "id": "aaee5389",
   "metadata": {},
   "outputs": [
    {
     "data": {
      "image/png": "[encoded data removed]",
      "text/plain": [
       "<Figure size 432x288 with 1 Axes>"
      ]
     },
     "metadata": {
      "needs_background": "light"
     },
     "output_type": "display_data"
    }
   ],
   "source": [
    "pd.DataFrame(users.reply_count_std).boxplot()\n",
    "plt.show()"
   ]
  },
  {
   "cell_type": "code",
   "execution_count": 53,
   "id": "19f79793",
   "metadata": {},
   "outputs": [
    {
     "data": {
      "text/plain": [
       "<AxesSubplot:>"
      ]
     },
     "execution_count": 53,
     "metadata": {},
     "output_type": "execute_result"
    },
    {
     "data": {
      "image/png": "[encoded data removed]",
      "text/plain": [
       "<Figure size 432x288 with 1 Axes>"
      ]
     },
     "metadata": {
      "needs_background": "light"
     },
     "output_type": "display_data"
    }
   ],
   "source": [
    "log_feature = pd.Series(np.log(users.reply_count_std + 1))\n",
    "log_feature.hist()"
   ]
  },
  {
   "cell_type": "code",
   "execution_count": 54,
   "id": "b468155c",
   "metadata": {},
   "outputs": [
    {
     "data": {
      "image/png": "[encoded data removed]",
      "text/plain": [
       "<Figure size 432x288 with 1 Axes>"
      ]
     },
     "metadata": {
      "needs_background": "light"
     },
     "output_type": "display_data"
    }
   ],
   "source": [
    "pd.DataFrame(log_feature).boxplot()\n",
    "plt.show()"
   ]
  },
  {
   "cell_type": "markdown",
   "id": "08208b85",
   "metadata": {},
   "source": [
    "## reply_count_entropy"
   ]
  },
  {
   "cell_type": "code",
   "execution_count": 55,
   "id": "ace83a5a",
   "metadata": {},
   "outputs": [
    {
     "data": {
      "text/plain": [
       "0.000000    10518\n",
       "0.693147      313\n",
       "1.098612      132\n",
       "1.386294       64\n",
       "0.636514       51\n",
       "            ...  \n",
       "2.826115        1\n",
       "2.403640        1\n",
       "1.724507        1\n",
       "3.192446        1\n",
       "2.882973        1\n",
       "Name: reply_count_entropy, Length: 275, dtype: int64"
      ]
     },
     "execution_count": 55,
     "metadata": {},
     "output_type": "execute_result"
    }
   ],
   "source": [
    "users.reply_count_entropy.value_counts()"
   ]
  },
  {
   "cell_type": "code",
   "execution_count": 56,
   "id": "214f2b34",
   "metadata": {},
   "outputs": [
    {
     "data": {
      "image/png": "[encoded data removed]",
      "text/plain": [
       "<Figure size 432x288 with 1 Axes>"
      ]
     },
     "metadata": {
      "needs_background": "light"
     },
     "output_type": "display_data"
    }
   ],
   "source": [
    "users.reply_count_entropy.hist()\n",
    "plt.show()"
   ]
  },
  {
   "cell_type": "code",
   "execution_count": 57,
   "id": "3c8e9bcd",
   "metadata": {},
   "outputs": [
    {
     "data": {
      "text/plain": [
       "count    11508.000000\n",
       "mean         0.107280\n",
       "std          0.437746\n",
       "min          0.000000\n",
       "25%          0.000000\n",
       "50%          0.000000\n",
       "75%          0.000000\n",
       "max          7.003780\n",
       "Name: reply_count_entropy, dtype: float64"
      ]
     },
     "execution_count": 57,
     "metadata": {},
     "output_type": "execute_result"
    }
   ],
   "source": [
    "users.reply_count_entropy.describe()"
   ]
  },
  {
   "cell_type": "code",
   "execution_count": 58,
   "id": "a7d55f8a",
   "metadata": {},
   "outputs": [
    {
     "data": {
      "text/plain": [
       "0.0"
      ]
     },
     "execution_count": 58,
     "metadata": {},
     "output_type": "execute_result"
    }
   ],
   "source": [
    "users.reply_count_entropy.median()"
   ]
  },
  {
   "cell_type": "code",
   "execution_count": 59,
   "id": "bf472199",
   "metadata": {},
   "outputs": [
    {
     "data": {
      "image/png": "[encoded data removed]",
      "text/plain": [
       "<Figure size 432x288 with 1 Axes>"
      ]
     },
     "metadata": {
      "needs_background": "light"
     },
     "output_type": "display_data"
    }
   ],
   "source": [
    "pd.DataFrame(users.reply_count_entropy).boxplot()\n",
    "plt.show()"
   ]
  },
  {
   "cell_type": "code",
   "execution_count": 60,
   "id": "4b52dd6b",
   "metadata": {},
   "outputs": [
    {
     "data": {
      "text/plain": [
       "<AxesSubplot:>"
      ]
     },
     "execution_count": 60,
     "metadata": {},
     "output_type": "execute_result"
    },
    {
     "data": {
      "image/png": "[encoded data removed]",
      "text/plain": [
       "<Figure size 432x288 with 1 Axes>"
      ]
     },
     "metadata": {
      "needs_background": "light"
     },
     "output_type": "display_data"
    }
   ],
   "source": [
    "log_feature = pd.Series(np.log(users.reply_count_entropy + 1))\n",
    "log_feature.hist()"
   ]
  },
  {
   "cell_type": "code",
   "execution_count": 61,
   "id": "f60a172a",
   "metadata": {},
   "outputs": [
    {
     "data": {
      "image/png": "[encoded data removed]",
      "text/plain": [
       "<Figure size 432x288 with 1 Axes>"
      ]
     },
     "metadata": {
      "needs_background": "light"
     },
     "output_type": "display_data"
    }
   ],
   "source": [
    "pd.DataFrame(log_feature).boxplot()\n",
    "plt.show()"
   ]
  },
  {
   "cell_type": "markdown",
   "id": "dcb90d57",
   "metadata": {},
   "source": [
    "## favorite_count_mean"
   ]
  },
  {
   "cell_type": "code",
   "execution_count": 62,
   "id": "3fc0e519",
   "metadata": {},
   "outputs": [
    {
     "data": {
      "text/plain": [
       "0.000000    1996\n",
       "0.037037      49\n",
       "0.055556      48\n",
       "0.052632      47\n",
       "0.050000      46\n",
       "            ... \n",
       "0.190476       1\n",
       "0.404392       1\n",
       "0.005844       1\n",
       "0.188445       1\n",
       "0.118160       1\n",
       "Name: favorite_count_mean, Length: 5758, dtype: int64"
      ]
     },
     "execution_count": 62,
     "metadata": {},
     "output_type": "execute_result"
    }
   ],
   "source": [
    "users.favorite_count_mean.value_counts()"
   ]
  },
  {
   "cell_type": "code",
   "execution_count": 63,
   "id": "10717c22",
   "metadata": {},
   "outputs": [
    {
     "data": {
      "image/png": "[encoded data removed]",
      "text/plain": [
       "<Figure size 432x288 with 1 Axes>"
      ]
     },
     "metadata": {
      "needs_background": "light"
     },
     "output_type": "display_data"
    }
   ],
   "source": [
    "users.favorite_count_mean.hist()\n",
    "plt.show()"
   ]
  },
  {
   "cell_type": "code",
   "execution_count": 64,
   "id": "b7f59087",
   "metadata": {},
   "outputs": [
    {
     "data": {
      "text/plain": [
       "count    11508.000000\n",
       "mean         0.239172\n",
       "std          0.792009\n",
       "min          0.000000\n",
       "25%          0.017738\n",
       "50%          0.052632\n",
       "75%          0.179675\n",
       "max         30.476554\n",
       "Name: favorite_count_mean, dtype: float64"
      ]
     },
     "execution_count": 64,
     "metadata": {},
     "output_type": "execute_result"
    }
   ],
   "source": [
    "users.favorite_count_mean.describe()"
   ]
  },
  {
   "cell_type": "code",
   "execution_count": 65,
   "id": "19e4d5d0",
   "metadata": {},
   "outputs": [
    {
     "data": {
      "text/plain": [
       "0.0526315789473684"
      ]
     },
     "execution_count": 65,
     "metadata": {},
     "output_type": "execute_result"
    }
   ],
   "source": [
    "users.favorite_count_mean.median()"
   ]
  },
  {
   "cell_type": "code",
   "execution_count": 66,
   "id": "a6659c04",
   "metadata": {},
   "outputs": [
    {
     "data": {
      "image/png": "[encoded data removed]",
      "text/plain": [
       "<Figure size 432x288 with 1 Axes>"
      ]
     },
     "metadata": {
      "needs_background": "light"
     },
     "output_type": "display_data"
    }
   ],
   "source": [
    "pd.DataFrame(users.favorite_count_mean).boxplot()\n",
    "plt.show()"
   ]
  },
  {
   "cell_type": "code",
   "execution_count": 67,
   "id": "792089e6",
   "metadata": {},
   "outputs": [
    {
     "data": {
      "text/plain": [
       "<AxesSubplot:>"
      ]
     },
     "execution_count": 67,
     "metadata": {},
     "output_type": "execute_result"
    },
    {
     "data": {
      "image/png": "[encoded data removed]",
      "text/plain": [
       "<Figure size 432x288 with 1 Axes>"
      ]
     },
     "metadata": {
      "needs_background": "light"
     },
     "output_type": "display_data"
    }
   ],
   "source": [
    "log_feature = pd.Series(np.log(users.favorite_count_mean + 1))\n",
    "log_feature.hist()"
   ]
  },
  {
   "cell_type": "code",
   "execution_count": 68,
   "id": "7af7d1d3",
   "metadata": {},
   "outputs": [
    {
     "data": {
      "image/png": "[encoded data removed]",
      "text/plain": [
       "<Figure size 432x288 with 1 Axes>"
      ]
     },
     "metadata": {
      "needs_background": "light"
     },
     "output_type": "display_data"
    }
   ],
   "source": [
    "pd.DataFrame(log_feature).boxplot()\n",
    "plt.show()"
   ]
  },
  {
   "cell_type": "markdown",
   "id": "f71058c1",
   "metadata": {},
   "source": [
    "## favorite_count_std"
   ]
  },
  {
   "cell_type": "code",
   "execution_count": 69,
   "id": "3d9a9a8e",
   "metadata": {},
   "outputs": [
    {
     "data": {
      "text/plain": [
       "0.000000    2006\n",
       "0.188853      44\n",
       "0.173993      39\n",
       "0.203931      37\n",
       "0.192308      37\n",
       "            ... \n",
       "0.269486       1\n",
       "0.180956       1\n",
       "0.389856       1\n",
       "1.309470       1\n",
       "0.381551       1\n",
       "Name: favorite_count_std, Length: 6771, dtype: int64"
      ]
     },
     "execution_count": 69,
     "metadata": {},
     "output_type": "execute_result"
    }
   ],
   "source": [
    "users.favorite_count_std.value_counts()"
   ]
  },
  {
   "cell_type": "code",
   "execution_count": 70,
   "id": "774febd1",
   "metadata": {},
   "outputs": [
    {
     "data": {
      "image/png": "[encoded data removed]",
      "text/plain": [
       "<Figure size 432x288 with 1 Axes>"
      ]
     },
     "metadata": {
      "needs_background": "light"
     },
     "output_type": "display_data"
    }
   ],
   "source": [
    "users.favorite_count_std.hist()\n",
    "plt.show()"
   ]
  },
  {
   "cell_type": "code",
   "execution_count": 71,
   "id": "6c6ab0d6",
   "metadata": {},
   "outputs": [
    {
     "data": {
      "text/plain": [
       "count    11508.000000\n",
       "mean         0.537340\n",
       "std          0.960470\n",
       "min          0.000000\n",
       "25%          0.136692\n",
       "50%          0.240315\n",
       "75%          0.565676\n",
       "max         17.745109\n",
       "Name: favorite_count_std, dtype: float64"
      ]
     },
     "execution_count": 71,
     "metadata": {},
     "output_type": "execute_result"
    }
   ],
   "source": [
    "users.favorite_count_std.describe()"
   ]
  },
  {
   "cell_type": "code",
   "execution_count": 72,
   "id": "53737b72",
   "metadata": {},
   "outputs": [
    {
     "data": {
      "text/plain": [
       "0.2403153746432816"
      ]
     },
     "execution_count": 72,
     "metadata": {},
     "output_type": "execute_result"
    }
   ],
   "source": [
    "users.favorite_count_std.median()"
   ]
  },
  {
   "cell_type": "code",
   "execution_count": 73,
   "id": "d2802f91",
   "metadata": {},
   "outputs": [
    {
     "data": {
      "image/png": "[encoded data removed]",
      "text/plain": [
       "<Figure size 432x288 with 1 Axes>"
      ]
     },
     "metadata": {
      "needs_background": "light"
     },
     "output_type": "display_data"
    }
   ],
   "source": [
    "pd.DataFrame(users.favorite_count_std).boxplot()\n",
    "plt.show()"
   ]
  },
  {
   "cell_type": "code",
   "execution_count": 74,
   "id": "66f851c0",
   "metadata": {},
   "outputs": [
    {
     "data": {
      "text/plain": [
       "<AxesSubplot:>"
      ]
     },
     "execution_count": 74,
     "metadata": {},
     "output_type": "execute_result"
    },
    {
     "data": {
      "image/png": "[encoded data removed]",
      "text/plain": [
       "<Figure size 432x288 with 1 Axes>"
      ]
     },
     "metadata": {
      "needs_background": "light"
     },
     "output_type": "display_data"
    }
   ],
   "source": [
    "log_feature = pd.Series(np.log(users.favorite_count_std + 1))\n",
    "log_feature.hist()"
   ]
  },
  {
   "cell_type": "code",
   "execution_count": 75,
   "id": "0a9dfff1",
   "metadata": {},
   "outputs": [
    {
     "data": {
      "image/png": "[encoded data removed]",
      "text/plain": [
       "<Figure size 432x288 with 1 Axes>"
      ]
     },
     "metadata": {
      "needs_background": "light"
     },
     "output_type": "display_data"
    }
   ],
   "source": [
    "pd.DataFrame(log_feature).boxplot()\n",
    "plt.show()"
   ]
  },
  {
   "cell_type": "markdown",
   "id": "a0555506",
   "metadata": {},
   "source": [
    "## favorite_count_entropy"
   ]
  },
  {
   "cell_type": "code",
   "execution_count": 76,
   "id": "ac6ee74e",
   "metadata": {},
   "outputs": [
    {
     "data": {
      "text/plain": [
       "0.000000    2838\n",
       "1.609438     463\n",
       "1.386294     408\n",
       "1.791759     375\n",
       "1.098612     350\n",
       "            ... \n",
       "5.498410       1\n",
       "3.390773       1\n",
       "4.082587       1\n",
       "5.562176       1\n",
       "5.852158       1\n",
       "Name: favorite_count_entropy, Length: 4665, dtype: int64"
      ]
     },
     "execution_count": 76,
     "metadata": {},
     "output_type": "execute_result"
    }
   ],
   "source": [
    "users.favorite_count_entropy.value_counts()"
   ]
  },
  {
   "cell_type": "code",
   "execution_count": 77,
   "id": "59c47726",
   "metadata": {},
   "outputs": [
    {
     "data": {
      "image/png": "[encoded data removed]",
      "text/plain": [
       "<Figure size 432x288 with 1 Axes>"
      ]
     },
     "metadata": {
      "needs_background": "light"
     },
     "output_type": "display_data"
    }
   ],
   "source": [
    "users.favorite_count_entropy.hist()\n",
    "plt.show()"
   ]
  },
  {
   "cell_type": "code",
   "execution_count": 78,
   "id": "f1e7a145",
   "metadata": {},
   "outputs": [
    {
     "data": {
      "text/plain": [
       "count    11508.000000\n",
       "mean         2.681342\n",
       "std          2.354728\n",
       "min          0.000000\n",
       "25%          0.450561\n",
       "50%          1.945910\n",
       "75%          5.066375\n",
       "max          8.191328\n",
       "Name: favorite_count_entropy, dtype: float64"
      ]
     },
     "execution_count": 78,
     "metadata": {},
     "output_type": "execute_result"
    }
   ],
   "source": [
    "users.favorite_count_entropy.describe()"
   ]
  },
  {
   "cell_type": "code",
   "execution_count": 79,
   "id": "a9dfefee",
   "metadata": {},
   "outputs": [
    {
     "data": {
      "text/plain": [
       "1.9459101490553128"
      ]
     },
     "execution_count": 79,
     "metadata": {},
     "output_type": "execute_result"
    }
   ],
   "source": [
    "users.favorite_count_entropy.median()"
   ]
  },
  {
   "cell_type": "code",
   "execution_count": 80,
   "id": "867133ec",
   "metadata": {},
   "outputs": [
    {
     "data": {
      "image/png": "[encoded data removed]",
      "text/plain": [
       "<Figure size 432x288 with 1 Axes>"
      ]
     },
     "metadata": {
      "needs_background": "light"
     },
     "output_type": "display_data"
    }
   ],
   "source": [
    "pd.DataFrame(users.favorite_count_entropy).boxplot()\n",
    "plt.show()"
   ]
  },
  {
   "cell_type": "code",
   "execution_count": 81,
   "id": "dfd37d00",
   "metadata": {},
   "outputs": [
    {
     "data": {
      "text/plain": [
       "<AxesSubplot:>"
      ]
     },
     "execution_count": 81,
     "metadata": {},
     "output_type": "execute_result"
    },
    {
     "data": {
      "image/png": "[encoded data removed]",
      "text/plain": [
       "<Figure size 432x288 with 1 Axes>"
      ]
     },
     "metadata": {
      "needs_background": "light"
     },
     "output_type": "display_data"
    }
   ],
   "source": [
    "log_feature = pd.Series(np.log(users.favorite_count_entropy + 1))\n",
    "log_feature.hist()"
   ]
  },
  {
   "cell_type": "code",
   "execution_count": 82,
   "id": "e3000b80",
   "metadata": {},
   "outputs": [
    {
     "data": {
      "image/png": "[encoded data removed]",
      "text/plain": [
       "<Figure size 432x288 with 1 Axes>"
      ]
     },
     "metadata": {
      "needs_background": "light"
     },
     "output_type": "display_data"
    }
   ],
   "source": [
    "pd.DataFrame(log_feature).boxplot()\n",
    "plt.show()"
   ]
  },
  {
   "cell_type": "markdown",
   "id": "5676c0c7",
   "metadata": {},
   "source": [
    "## retweet_count_mean"
   ]
  },
  {
   "cell_type": "code",
   "execution_count": 83,
   "id": "8d48f41c",
   "metadata": {},
   "outputs": [
    {
     "data": {
      "text/plain": [
       "0.000000     2340\n",
       "0.040000       41\n",
       "0.027778       36\n",
       "0.043478       36\n",
       "0.050000       34\n",
       "             ... \n",
       "1.079457        1\n",
       "19.585495       1\n",
       "0.005356        1\n",
       "12.151222       1\n",
       "14.494419       1\n",
       "Name: retweet_count_mean, Length: 5946, dtype: int64"
      ]
     },
     "execution_count": 83,
     "metadata": {},
     "output_type": "execute_result"
    }
   ],
   "source": [
    "users.retweet_count_mean.value_counts()"
   ]
  },
  {
   "cell_type": "code",
   "execution_count": 84,
   "id": "db3c2465",
   "metadata": {},
   "outputs": [
    {
     "data": {
      "image/png": "[encoded data removed]",
      "text/plain": [
       "<Figure size 432x288 with 1 Axes>"
      ]
     },
     "metadata": {
      "needs_background": "light"
     },
     "output_type": "display_data"
    }
   ],
   "source": [
    "users.retweet_count_mean.hist()\n",
    "plt.show()"
   ]
  },
  {
   "cell_type": "code",
   "execution_count": 85,
   "id": "efa4e920",
   "metadata": {},
   "outputs": [
    {
     "data": {
      "text/plain": [
       "count    11508.000000\n",
       "mean         3.488927\n",
       "std          8.405731\n",
       "min          0.000000\n",
       "25%          0.010309\n",
       "50%          0.053571\n",
       "75%          3.025329\n",
       "max        158.222989\n",
       "Name: retweet_count_mean, dtype: float64"
      ]
     },
     "execution_count": 85,
     "metadata": {},
     "output_type": "execute_result"
    }
   ],
   "source": [
    "users.retweet_count_mean.describe()"
   ]
  },
  {
   "cell_type": "code",
   "execution_count": 86,
   "id": "d386bce6",
   "metadata": {},
   "outputs": [
    {
     "data": {
      "text/plain": [
       "0.0535714285714285"
      ]
     },
     "execution_count": 86,
     "metadata": {},
     "output_type": "execute_result"
    }
   ],
   "source": [
    "users.retweet_count_mean.median()"
   ]
  },
  {
   "cell_type": "code",
   "execution_count": 87,
   "id": "abdcd608",
   "metadata": {},
   "outputs": [
    {
     "data": {
      "image/png": "[encoded data removed]",
      "text/plain": [
       "<Figure size 432x288 with 1 Axes>"
      ]
     },
     "metadata": {
      "needs_background": "light"
     },
     "output_type": "display_data"
    }
   ],
   "source": [
    "pd.DataFrame(users.retweet_count_mean).boxplot()\n",
    "plt.show()"
   ]
  },
  {
   "cell_type": "code",
   "execution_count": 88,
   "id": "166fe0a2",
   "metadata": {},
   "outputs": [
    {
     "data": {
      "text/plain": [
       "<AxesSubplot:>"
      ]
     },
     "execution_count": 88,
     "metadata": {},
     "output_type": "execute_result"
    },
    {
     "data": {
      "image/png": "[encoded data removed]",
      "text/plain": [
       "<Figure size 432x288 with 1 Axes>"
      ]
     },
     "metadata": {
      "needs_background": "light"
     },
     "output_type": "display_data"
    }
   ],
   "source": [
    "log_feature = pd.Series(np.log(users.retweet_count_mean + 1))\n",
    "log_feature.hist()"
   ]
  },
  {
   "cell_type": "code",
   "execution_count": 89,
   "id": "e0ab0fc9",
   "metadata": {},
   "outputs": [
    {
     "data": {
      "image/png": "[encoded data removed]",
      "text/plain": [
       "<Figure size 432x288 with 1 Axes>"
      ]
     },
     "metadata": {
      "needs_background": "light"
     },
     "output_type": "display_data"
    }
   ],
   "source": [
    "pd.DataFrame(log_feature).boxplot()\n",
    "plt.show()"
   ]
  },
  {
   "cell_type": "markdown",
   "id": "e2632b2f",
   "metadata": {},
   "source": [
    "## retweet_count_std"
   ]
  },
  {
   "cell_type": "code",
   "execution_count": 90,
   "id": "a66eff48",
   "metadata": {},
   "outputs": [
    {
     "data": {
      "text/plain": [
       "0.000000     2345\n",
       "0.195959       35\n",
       "0.203931       32\n",
       "0.199826       31\n",
       "0.173993       30\n",
       "             ... \n",
       "90.979187       1\n",
       "12.470452       1\n",
       "34.184649       1\n",
       "46.966144       1\n",
       "50.770315       1\n",
       "Name: retweet_count_std, Length: 6599, dtype: int64"
      ]
     },
     "execution_count": 90,
     "metadata": {},
     "output_type": "execute_result"
    }
   ],
   "source": [
    "users.retweet_count_std.value_counts()"
   ]
  },
  {
   "cell_type": "code",
   "execution_count": 91,
   "id": "560a5b9c",
   "metadata": {},
   "outputs": [
    {
     "data": {
      "image/png": "[encoded data removed]",
      "text/plain": [
       "<Figure size 432x288 with 1 Axes>"
      ]
     },
     "metadata": {
      "needs_background": "light"
     },
     "output_type": "display_data"
    }
   ],
   "source": [
    "users.retweet_count_std.hist()\n",
    "plt.show()"
   ]
  },
  {
   "cell_type": "code",
   "execution_count": 92,
   "id": "4aaeeae4",
   "metadata": {},
   "outputs": [
    {
     "data": {
      "text/plain": [
       "count    11508.000000\n",
       "mean        12.757379\n",
       "std         20.513190\n",
       "min          0.000000\n",
       "25%          0.103689\n",
       "50%          0.237902\n",
       "75%         21.767025\n",
       "max        139.322048\n",
       "Name: retweet_count_std, dtype: float64"
      ]
     },
     "execution_count": 92,
     "metadata": {},
     "output_type": "execute_result"
    }
   ],
   "source": [
    "users.retweet_count_std.describe()"
   ]
  },
  {
   "cell_type": "code",
   "execution_count": 93,
   "id": "74ccf250",
   "metadata": {},
   "outputs": [
    {
     "data": {
      "text/plain": [
       "0.2379017070603366"
      ]
     },
     "execution_count": 93,
     "metadata": {},
     "output_type": "execute_result"
    }
   ],
   "source": [
    "users.retweet_count_std.median()"
   ]
  },
  {
   "cell_type": "code",
   "execution_count": 94,
   "id": "e900c6e5",
   "metadata": {},
   "outputs": [
    {
     "data": {
      "image/png": "[encoded data removed]",
      "text/plain": [
       "<Figure size 432x288 with 1 Axes>"
      ]
     },
     "metadata": {
      "needs_background": "light"
     },
     "output_type": "display_data"
    }
   ],
   "source": [
    "pd.DataFrame(users.retweet_count_std).boxplot()\n",
    "plt.show()"
   ]
  },
  {
   "cell_type": "code",
   "execution_count": 95,
   "id": "86c63e0f",
   "metadata": {},
   "outputs": [
    {
     "data": {
      "text/plain": [
       "<AxesSubplot:>"
      ]
     },
     "execution_count": 95,
     "metadata": {},
     "output_type": "execute_result"
    },
    {
     "data": {
      "image/png": "[encoded data removed]",
      "text/plain": [
       "<Figure size 432x288 with 1 Axes>"
      ]
     },
     "metadata": {
      "needs_background": "light"
     },
     "output_type": "display_data"
    }
   ],
   "source": [
    "log_feature = pd.Series(np.log(users.retweet_count_std + 1))\n",
    "log_feature.hist()"
   ]
  },
  {
   "cell_type": "code",
   "execution_count": 96,
   "id": "c2ba2996",
   "metadata": {},
   "outputs": [
    {
     "data": {
      "image/png": "[encoded data removed]",
      "text/plain": [
       "<Figure size 432x288 with 1 Axes>"
      ]
     },
     "metadata": {
      "needs_background": "light"
     },
     "output_type": "display_data"
    }
   ],
   "source": [
    "pd.DataFrame(log_feature).boxplot()\n",
    "plt.show()"
   ]
  },
  {
   "cell_type": "markdown",
   "id": "10601e27",
   "metadata": {},
   "source": [
    "## reply_count_mean"
   ]
  },
  {
   "cell_type": "code",
   "execution_count": 97,
   "id": "6a6943d2",
   "metadata": {},
   "outputs": [
    {
     "data": {
      "text/plain": [
       "0.000000    9617\n",
       "0.047619      51\n",
       "0.045455      42\n",
       "0.038462      41\n",
       "0.043478      40\n",
       "            ... \n",
       "0.207143       1\n",
       "0.592834       1\n",
       "0.015812       1\n",
       "1.695652       1\n",
       "0.402757       1\n",
       "Name: reply_count_mean, Length: 595, dtype: int64"
      ]
     },
     "execution_count": 97,
     "metadata": {},
     "output_type": "execute_result"
    }
   ],
   "source": [
    "users.reply_count_mean.value_counts()"
   ]
  },
  {
   "cell_type": "code",
   "execution_count": 98,
   "id": "3122cc26",
   "metadata": {},
   "outputs": [
    {
     "data": {
      "image/png": "[encoded data removed]",
      "text/plain": [
       "<Figure size 432x288 with 1 Axes>"
      ]
     },
     "metadata": {
      "needs_background": "light"
     },
     "output_type": "display_data"
    }
   ],
   "source": [
    "users.reply_count_mean.hist()\n",
    "plt.show()"
   ]
  },
  {
   "cell_type": "code",
   "execution_count": 99,
   "id": "c48767a7",
   "metadata": {},
   "outputs": [
    {
     "data": {
      "text/plain": [
       "count    11508.000000\n",
       "mean         0.056410\n",
       "std          0.658114\n",
       "min          0.000000\n",
       "25%          0.000000\n",
       "50%          0.000000\n",
       "75%          0.000000\n",
       "max         32.500000\n",
       "Name: reply_count_mean, dtype: float64"
      ]
     },
     "execution_count": 99,
     "metadata": {},
     "output_type": "execute_result"
    }
   ],
   "source": [
    "users.reply_count_mean.describe()"
   ]
  },
  {
   "cell_type": "code",
   "execution_count": 100,
   "id": "ef3d3e44",
   "metadata": {},
   "outputs": [
    {
     "data": {
      "text/plain": [
       "0.0"
      ]
     },
     "execution_count": 100,
     "metadata": {},
     "output_type": "execute_result"
    }
   ],
   "source": [
    "users.reply_count_mean.median()"
   ]
  },
  {
   "cell_type": "code",
   "execution_count": 101,
   "id": "bf3bef03",
   "metadata": {},
   "outputs": [
    {
     "data": {
      "image/png": "[encoded data removed]",
      "text/plain": [
       "<Figure size 432x288 with 1 Axes>"
      ]
     },
     "metadata": {
      "needs_background": "light"
     },
     "output_type": "display_data"
    }
   ],
   "source": [
    "pd.DataFrame(users.reply_count_mean).boxplot()\n",
    "plt.show()"
   ]
  },
  {
   "cell_type": "code",
   "execution_count": 102,
   "id": "3d27bf7c",
   "metadata": {},
   "outputs": [
    {
     "data": {
      "text/plain": [
       "<AxesSubplot:>"
      ]
     },
     "execution_count": 102,
     "metadata": {},
     "output_type": "execute_result"
    },
    {
     "data": {
      "image/png": "[encoded data removed]",
      "text/plain": [
       "<Figure size 432x288 with 1 Axes>"
      ]
     },
     "metadata": {
      "needs_background": "light"
     },
     "output_type": "display_data"
    }
   ],
   "source": [
    "log_feature = pd.Series(np.log(users.reply_count_mean + 1))\n",
    "log_feature.hist()"
   ]
  },
  {
   "cell_type": "code",
   "execution_count": 103,
   "id": "cd84a581",
   "metadata": {},
   "outputs": [
    {
     "data": {
      "image/png": "[encoded data removed]",
      "text/plain": [
       "<Figure size 432x288 with 1 Axes>"
      ]
     },
     "metadata": {
      "needs_background": "light"
     },
     "output_type": "display_data"
    }
   ],
   "source": [
    "pd.DataFrame(log_feature).boxplot()\n",
    "plt.show()"
   ]
  },
  {
   "cell_type": "markdown",
   "id": "2c2c2961",
   "metadata": {},
   "source": [
    "## retweet_count_entropy"
   ]
  },
  {
   "cell_type": "code",
   "execution_count": 104,
   "id": "e1c17a31",
   "metadata": {},
   "outputs": [
    {
     "data": {
      "text/plain": [
       "0.000000    3143\n",
       "0.693147     489\n",
       "1.386294     442\n",
       "1.098612     441\n",
       "1.609438     377\n",
       "            ... \n",
       "5.522771       1\n",
       "2.081676       1\n",
       "5.970095       1\n",
       "7.413351       1\n",
       "6.003333       1\n",
       "Name: retweet_count_entropy, Length: 4999, dtype: int64"
      ]
     },
     "execution_count": 104,
     "metadata": {},
     "output_type": "execute_result"
    }
   ],
   "source": [
    "users.retweet_count_entropy.value_counts()"
   ]
  },
  {
   "cell_type": "code",
   "execution_count": 105,
   "id": "fe2549e3",
   "metadata": {},
   "outputs": [
    {
     "data": {
      "image/png": "[encoded data removed]",
      "text/plain": [
       "<Figure size 432x288 with 1 Axes>"
      ]
     },
     "metadata": {
      "needs_background": "light"
     },
     "output_type": "display_data"
    }
   ],
   "source": [
    "users.retweet_count_entropy.hist()\n",
    "plt.show()"
   ]
  },
  {
   "cell_type": "code",
   "execution_count": 106,
   "id": "f68c8e30",
   "metadata": {},
   "outputs": [
    {
     "data": {
      "text/plain": [
       "count    11508.000000\n",
       "mean         2.258023\n",
       "std          2.077753\n",
       "min          0.000000\n",
       "25%          0.000000\n",
       "50%          1.747868\n",
       "75%          4.103871\n",
       "max          8.027767\n",
       "Name: retweet_count_entropy, dtype: float64"
      ]
     },
     "execution_count": 106,
     "metadata": {},
     "output_type": "execute_result"
    }
   ],
   "source": [
    "users.retweet_count_entropy.describe()"
   ]
  },
  {
   "cell_type": "code",
   "execution_count": 107,
   "id": "8779d07b",
   "metadata": {},
   "outputs": [
    {
     "data": {
      "text/plain": [
       "1.7478680974667575"
      ]
     },
     "execution_count": 107,
     "metadata": {},
     "output_type": "execute_result"
    }
   ],
   "source": [
    "users.retweet_count_entropy.median()"
   ]
  },
  {
   "cell_type": "code",
   "execution_count": 108,
   "id": "2696d05e",
   "metadata": {},
   "outputs": [
    {
     "data": {
      "image/png": "[encoded data removed]",
      "text/plain": [
       "<Figure size 432x288 with 1 Axes>"
      ]
     },
     "metadata": {
      "needs_background": "light"
     },
     "output_type": "display_data"
    }
   ],
   "source": [
    "pd.DataFrame(users.retweet_count_entropy).boxplot()\n",
    "plt.show()"
   ]
  },
  {
   "cell_type": "code",
   "execution_count": 109,
   "id": "447a405e",
   "metadata": {},
   "outputs": [
    {
     "data": {
      "text/plain": [
       "<AxesSubplot:>"
      ]
     },
     "execution_count": 109,
     "metadata": {},
     "output_type": "execute_result"
    },
    {
     "data": {
      "image/png": "[encoded data removed]",
      "text/plain": [
       "<Figure size 432x288 with 1 Axes>"
      ]
     },
     "metadata": {
      "needs_background": "light"
     },
     "output_type": "display_data"
    }
   ],
   "source": [
    "log_feature = pd.Series(np.log(users.retweet_count_entropy + 1))\n",
    "log_feature.hist()"
   ]
  },
  {
   "cell_type": "code",
   "execution_count": 110,
   "id": "4dc6b0b5",
   "metadata": {},
   "outputs": [
    {
     "data": {
      "image/png": "[encoded data removed]",
      "text/plain": [
       "<Figure size 432x288 with 1 Axes>"
      ]
     },
     "metadata": {
      "needs_background": "light"
     },
     "output_type": "display_data"
    }
   ],
   "source": [
    "pd.DataFrame(log_feature).boxplot()\n",
    "plt.show()"
   ]
  },
  {
   "cell_type": "code",
   "execution_count": null,
   "id": "51113f17",
   "metadata": {},
   "outputs": [],
   "source": []
  }
 ],
 "metadata": {
  "kernelspec": {
   "display_name": "Python 3.10.0 64-bit ('ENV_QISKIT': conda)",
   "language": "python",
   "name": "python3100jvsc74a57bd0c5e87bfbfa3c90e89cf1f4538ec67e797b427a447b5e3952a28879be8e41eafe"
  },
  "language_info": {
   "codemirror_mode": {
    "name": "ipython",
    "version": 3
   },
   "file_extension": ".py",
   "mimetype": "text/x-python",
   "name": "python",
   "nbconvert_exporter": "python",
   "pygments_lexer": "ipython3",
   "version": "3.10.0"
  }
 },
 "nbformat": 4,
 "nbformat_minor": 5
}
