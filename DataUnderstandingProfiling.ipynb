{
 "cells": [
  {
   "cell_type": "markdown",
   "id": "3fff3a50",
   "metadata": {},
   "source": [
    "# Data Understanding Profiling"
   ]
  },
  {
   "cell_type": "code",
   "execution_count": 1,
   "id": "2ff44fe7",
   "metadata": {},
   "outputs": [],
   "source": [
    "import scipy\n",
    "import numpy as np\n",
    "import pandas as pd\n",
    "import matplotlib.pyplot as plt"
   ]
  },
  {
   "cell_type": "code",
   "execution_count": 2,
   "id": "64678bc3",
   "metadata": {},
   "outputs": [],
   "source": [
    "def remove_outliers_boxplot(feature):\n",
    "    Q1 = feature.quantile(0.25)\n",
    "    Q3 = feature.quantile(0.75)\n",
    "    IQR = Q3 - Q1\n",
    "\n",
    "    median = feature[np.logical_and((feature >= Q1 - 1.5 * IQR), (feature <= Q3 + 1.5 * IQR))].median()\n",
    "\n",
    "    median\n",
    "\n",
    "    feature[(feature < Q1 - 1.5 * IQR)] = median\n",
    "    feature[(feature > Q3 + 1.5 * IQR)] = median\n",
    "\n",
    "    pd.DataFrame(feature).boxplot()\n",
    "    plt.show()\n",
    "    \n",
    "def remove_outliers(feature, q1, q2):\n",
    "    Q1 = feature.quantile(q1)\n",
    "    Q3 = feature.quantile(q2)\n",
    "\n",
    "    median = feature[(log_feature >= Q1) & (feature <= Q3)].median()\n",
    "\n",
    "    feature[log_feature < Q1] = median\n",
    "    feature[log_feature > Q3] = median\n",
    "\n",
    "    pd.DataFrame(feature).boxplot()\n",
    "    plt.show()"
   ]
  },
  {
   "cell_type": "code",
   "execution_count": 3,
   "id": "6c32182d",
   "metadata": {},
   "outputs": [],
   "source": [
    "users = pd.read_csv(\"dataset/user_profiles.csv\", index_col = 0)"
   ]
  },
  {
   "cell_type": "code",
   "execution_count": 4,
   "id": "2a558cda",
   "metadata": {},
   "outputs": [
    {
     "data": {
      "text/plain": [
       "(11508, 19)"
      ]
     },
     "execution_count": 4,
     "metadata": {},
     "output_type": "execute_result"
    }
   ],
   "source": [
    "users.shape"
   ]
  },
  {
   "cell_type": "code",
   "execution_count": 5,
   "id": "f89b757c",
   "metadata": {},
   "outputs": [
    {
     "data": {
      "text/html": [
       "<div>\n",
       "<style scoped>\n",
       "    .dataframe tbody tr th:only-of-type {\n",
       "        vertical-align: middle;\n",
       "    }\n",
       "\n",
       "    .dataframe tbody tr th {\n",
       "        vertical-align: top;\n",
       "    }\n",
       "\n",
       "    .dataframe thead th {\n",
       "        text-align: right;\n",
       "    }\n",
       "</style>\n",
       "<table border=\"1\" class=\"dataframe\">\n",
       "  <thead>\n",
       "    <tr style=\"text-align: right;\">\n",
       "      <th></th>\n",
       "      <th>name</th>\n",
       "      <th>lang</th>\n",
       "      <th>bot</th>\n",
       "      <th>created_at</th>\n",
       "      <th>statuses_count</th>\n",
       "      <th>avg_length</th>\n",
       "      <th>avg_special_chars</th>\n",
       "      <th>urls_ratio</th>\n",
       "      <th>mentions_ratio</th>\n",
       "      <th>hashtags_ratio</th>\n",
       "      <th>reply_count_mean</th>\n",
       "      <th>reply_count_std</th>\n",
       "      <th>reply_count_entropy</th>\n",
       "      <th>favorite_count_mean</th>\n",
       "      <th>favorite_count_std</th>\n",
       "      <th>favorite_count_entropy</th>\n",
       "      <th>retweet_count_mean</th>\n",
       "      <th>retweet_count_std</th>\n",
       "      <th>retweet_count_entropy</th>\n",
       "    </tr>\n",
       "  </thead>\n",
       "  <tbody>\n",
       "    <tr>\n",
       "      <th>2353593986</th>\n",
       "      <td>Lamonica Raborn</td>\n",
       "      <td>en</td>\n",
       "      <td>1</td>\n",
       "      <td>2019-02-22 18:00:42</td>\n",
       "      <td>76</td>\n",
       "      <td>62.340909</td>\n",
       "      <td>14.015152</td>\n",
       "      <td>0.0</td>\n",
       "      <td>0.272727</td>\n",
       "      <td>0.098485</td>\n",
       "      <td>0.0</td>\n",
       "      <td>0.0</td>\n",
       "      <td>0.0</td>\n",
       "      <td>0.037879</td>\n",
       "      <td>0.190903</td>\n",
       "      <td>1.609438</td>\n",
       "      <td>0.037879</td>\n",
       "      <td>0.190903</td>\n",
       "      <td>1.609438</td>\n",
       "    </tr>\n",
       "  </tbody>\n",
       "</table>\n",
       "</div>"
      ],
      "text/plain": [
       "                       name lang  bot           created_at  statuses_count  \\\n",
       "2353593986  Lamonica Raborn   en    1  2019-02-22 18:00:42              76   \n",
       "\n",
       "            avg_length  avg_special_chars  urls_ratio  mentions_ratio  \\\n",
       "2353593986   62.340909          14.015152         0.0        0.272727   \n",
       "\n",
       "            hashtags_ratio  reply_count_mean  reply_count_std  \\\n",
       "2353593986        0.098485               0.0              0.0   \n",
       "\n",
       "            reply_count_entropy  favorite_count_mean  favorite_count_std  \\\n",
       "2353593986                  0.0             0.037879            0.190903   \n",
       "\n",
       "            favorite_count_entropy  retweet_count_mean  retweet_count_std  \\\n",
       "2353593986                1.609438            0.037879           0.190903   \n",
       "\n",
       "            retweet_count_entropy  \n",
       "2353593986               1.609438  "
      ]
     },
     "execution_count": 5,
     "metadata": {},
     "output_type": "execute_result"
    }
   ],
   "source": [
    "users.head(1)"
   ]
  },
  {
   "cell_type": "code",
   "execution_count": 6,
   "id": "5759b083",
   "metadata": {},
   "outputs": [
    {
     "data": {
      "text/plain": [
       "<bound method DataFrame.info of                           name lang  bot           created_at  statuses_count  \\\n",
       "2353593986     Lamonica Raborn   en    1  2019-02-22 18:00:42              76   \n",
       "2358850842       Lourie Botton   en    0  2019-02-26 03:02:32               4   \n",
       "137959629     Dadan Syarifudin   en    1  2015-04-30 07:09:56               7   \n",
       "466124818       Carletto Focia   it    1  2017-01-18 02:49:18              50   \n",
       "2571493866           MBK Ebook   en    0  2019-06-18 19:30:21               8   \n",
       "...                        ...  ...  ...                  ...             ...   \n",
       "2911861962  Madrid Lae Maika .   en    0  2019-11-29 13:16:02               7   \n",
       "1378532629           Clau Sato   en    0  2018-04-27 03:01:58               8   \n",
       "126984069   ALMA LETICIA NUÑO    es    0  2015-03-29 17:01:24               1   \n",
       "2383025796     Minnie Guadagno   en    1  2019-03-13 02:44:13              42   \n",
       "933183398            Corvanna    en    0  2017-11-09 23:24:16               8   \n",
       "\n",
       "            avg_length  avg_special_chars  urls_ratio  mentions_ratio  \\\n",
       "2353593986   62.340909          14.015152    0.000000        0.272727   \n",
       "2358850842   69.082645          15.041322    0.000000        0.338843   \n",
       "137959629    19.250000           5.250000    0.000000        0.000000   \n",
       "466124818    86.944871          18.689463    0.022331        0.006281   \n",
       "2571493866   72.311246          14.582073    0.000825        0.506461   \n",
       "...                ...                ...         ...             ...   \n",
       "2911861962   52.677158          12.767086    0.024281        0.775180   \n",
       "1378532629   59.716210          12.984608    0.088504        0.524772   \n",
       "126984069    67.666667          15.833333    0.666667        0.333333   \n",
       "2383025796   63.278846          13.971154    0.000000        0.365385   \n",
       "933183398    52.068064          11.291587    0.011707        0.785189   \n",
       "\n",
       "            hashtags_ratio  reply_count_mean  reply_count_std  \\\n",
       "2353593986        0.098485               0.0              0.0   \n",
       "2358850842        0.024793               0.0              0.0   \n",
       "137959629         0.000000               0.0              0.0   \n",
       "466124818         0.072575               0.0              0.0   \n",
       "2571493866        0.118229               0.0              0.0   \n",
       "...                    ...               ...              ...   \n",
       "2911861962        0.192446               0.0              0.0   \n",
       "1378532629        0.114959               0.0              0.0   \n",
       "126984069         0.333333               0.0              0.0   \n",
       "2383025796        0.009615               0.0              0.0   \n",
       "933183398         0.041111               0.0              0.0   \n",
       "\n",
       "            reply_count_entropy  favorite_count_mean  favorite_count_std  \\\n",
       "2353593986                  0.0             0.037879            0.190903   \n",
       "2358850842                  0.0             0.049587            0.217090   \n",
       "137959629                   0.0             0.000000            0.000000   \n",
       "466124818                   0.0             0.165387            0.530838   \n",
       "2571493866                  0.0             0.056365            0.243387   \n",
       "...                         ...                  ...                 ...   \n",
       "2911861962                  0.0             0.053058            0.250664   \n",
       "1378532629                  0.0             0.199134            0.506598   \n",
       "126984069                   0.0             0.000000            0.000000   \n",
       "2383025796                  0.0             0.076923            0.266469   \n",
       "933183398                   0.0             0.118160            0.381551   \n",
       "\n",
       "            favorite_count_entropy  retweet_count_mean  retweet_count_std  \\\n",
       "2353593986                1.609438            0.037879           0.190903   \n",
       "2358850842                1.791759            0.024793           0.155495   \n",
       "137959629                 0.000000            0.000000           0.000000   \n",
       "466124818                 5.105129            0.826239          13.034008   \n",
       "2571493866                5.248623            0.016772           0.142619   \n",
       "...                            ...                 ...                ...   \n",
       "2911861962                3.942318           18.339928          58.838683   \n",
       "1378532629                5.721018            4.565176          34.533536   \n",
       "126984069                 0.000000            0.000000           0.000000   \n",
       "2383025796                2.079442            0.067308           0.286371   \n",
       "933183398                 5.852158           16.206643          56.984353   \n",
       "\n",
       "            retweet_count_entropy  \n",
       "2353593986               1.609438  \n",
       "2358850842               1.098612  \n",
       "137959629                0.000000  \n",
       "466124818                2.170410  \n",
       "2571493866               3.965939  \n",
       "...                           ...  \n",
       "2911861962               4.750769  \n",
       "1378532629               3.803514  \n",
       "126984069                0.000000  \n",
       "2383025796               1.747868  \n",
       "933183398                5.990673  \n",
       "\n",
       "[11508 rows x 19 columns]>"
      ]
     },
     "execution_count": 6,
     "metadata": {},
     "output_type": "execute_result"
    }
   ],
   "source": [
    "users.info"
   ]
  },
  {
   "cell_type": "markdown",
   "id": "afc8b058",
   "metadata": {},
   "source": [
    "## avg_length"
   ]
  },
  {
   "cell_type": "code",
   "execution_count": 7,
   "id": "5a8a0950",
   "metadata": {},
   "outputs": [
    {
     "data": {
      "text/plain": [
       "60.000000    13\n",
       "57.000000     9\n",
       "50.000000     9\n",
       "64.000000     8\n",
       "71.000000     8\n",
       "             ..\n",
       "67.948148     1\n",
       "70.032680     1\n",
       "62.942529     1\n",
       "99.298701     1\n",
       "52.068064     1\n",
       "Name: avg_length, Length: 10794, dtype: int64"
      ]
     },
     "execution_count": 7,
     "metadata": {},
     "output_type": "execute_result"
    }
   ],
   "source": [
    "users.avg_length.value_counts()"
   ]
  },
  {
   "cell_type": "code",
   "execution_count": 8,
   "id": "16a61e00",
   "metadata": {},
   "outputs": [
    {
     "data": {
      "image/png": "[encoded data removed]",
      "text/plain": [
       "<Figure size 432x288 with 1 Axes>"
      ]
     },
     "metadata": {
      "needs_background": "light"
     },
     "output_type": "display_data"
    }
   ],
   "source": [
    "users.avg_length.hist()\n",
    "plt.show()"
   ]
  },
  {
   "cell_type": "code",
   "execution_count": 9,
   "id": "80835d1c",
   "metadata": {},
   "outputs": [
    {
     "data": {
      "text/plain": [
       "count    11508.000000\n",
       "mean        68.140132\n",
       "std         16.206471\n",
       "min          3.000000\n",
       "25%         59.398274\n",
       "50%         65.527658\n",
       "75%         77.422770\n",
       "max        245.000000\n",
       "Name: avg_length, dtype: float64"
      ]
     },
     "execution_count": 9,
     "metadata": {},
     "output_type": "execute_result"
    }
   ],
   "source": [
    "users.avg_length.describe()"
   ]
  },
  {
   "cell_type": "code",
   "execution_count": 10,
   "id": "f863bbd3",
   "metadata": {},
   "outputs": [
    {
     "data": {
      "text/plain": [
       "65.52765789965359"
      ]
     },
     "execution_count": 10,
     "metadata": {},
     "output_type": "execute_result"
    }
   ],
   "source": [
    "users.avg_length.median()"
   ]
  },
  {
   "cell_type": "code",
   "execution_count": 11,
   "id": "cb3033d8",
   "metadata": {},
   "outputs": [
    {
     "data": {
      "image/png": "[encoded data removed]",
      "text/plain": [
       "<Figure size 432x288 with 1 Axes>"
      ]
     },
     "metadata": {
      "needs_background": "light"
     },
     "output_type": "display_data"
    }
   ],
   "source": [
    "pd.DataFrame(users.avg_length).boxplot()\n",
    "plt.show()"
   ]
  },
  {
   "cell_type": "code",
   "execution_count": 12,
   "id": "37c9ffd1",
   "metadata": {},
   "outputs": [
    {
     "name": "stderr",
     "output_type": "stream",
     "text": [
      "/var/folders/lk/pc9s8f3x0gs3hgzyhh6x1t6h0000gn/T/ipykernel_1457/1062178392.py:10: SettingWithCopyWarning: \n",
      "A value is trying to be set on a copy of a slice from a DataFrame\n",
      "\n",
      "See the caveats in the documentation: https://pandas.pydata.org/pandas-docs/stable/user_guide/indexing.html#returning-a-view-versus-a-copy\n",
      "  feature[(feature < Q1 - 1.5 * IQR)] = median\n",
      "/var/folders/lk/pc9s8f3x0gs3hgzyhh6x1t6h0000gn/T/ipykernel_1457/1062178392.py:11: SettingWithCopyWarning: \n",
      "A value is trying to be set on a copy of a slice from a DataFrame\n",
      "\n",
      "See the caveats in the documentation: https://pandas.pydata.org/pandas-docs/stable/user_guide/indexing.html#returning-a-view-versus-a-copy\n",
      "  feature[(feature > Q3 + 1.5 * IQR)] = median\n"
     ]
    },
    {
     "data": {
      "image/png": "[encoded data removed]",
      "text/plain": [
       "<Figure size 432x288 with 1 Axes>"
      ]
     },
     "metadata": {
      "needs_background": "light"
     },
     "output_type": "display_data"
    }
   ],
   "source": [
    "remove_outliers_boxplot(users.avg_length)"
   ]
  },
  {
   "cell_type": "code",
   "execution_count": 13,
   "id": "ad102958",
   "metadata": {},
   "outputs": [
    {
     "data": {
      "image/png": "[encoded data removed]",
      "text/plain": [
       "<Figure size 432x288 with 1 Axes>"
      ]
     },
     "metadata": {
      "needs_background": "light"
     },
     "output_type": "display_data"
    }
   ],
   "source": [
    "users.avg_length.hist()\n",
    "plt.show()"
   ]
  },
  {
   "cell_type": "markdown",
   "id": "e69be4f8",
   "metadata": {},
   "source": [
    "## avg_special_chars"
   ]
  },
  {
   "cell_type": "code",
   "execution_count": 14,
   "id": "43900ae0",
   "metadata": {},
   "outputs": [
    {
     "data": {
      "text/plain": [
       "13.000000    34\n",
       "14.000000    30\n",
       "15.000000    23\n",
       "12.000000    19\n",
       "14.666667    19\n",
       "             ..\n",
       "18.503876     1\n",
       "12.524872     1\n",
       "16.116667     1\n",
       "17.209358     1\n",
       "11.291587     1\n",
       "Name: avg_special_chars, Length: 9943, dtype: int64"
      ]
     },
     "execution_count": 14,
     "metadata": {},
     "output_type": "execute_result"
    }
   ],
   "source": [
    "users.avg_special_chars.value_counts()"
   ]
  },
  {
   "cell_type": "code",
   "execution_count": 15,
   "id": "47e44bd7",
   "metadata": {},
   "outputs": [
    {
     "data": {
      "image/png": "[encoded data removed]",
      "text/plain": [
       "<Figure size 432x288 with 1 Axes>"
      ]
     },
     "metadata": {
      "needs_background": "light"
     },
     "output_type": "display_data"
    }
   ],
   "source": [
    "users.avg_special_chars.hist()\n",
    "plt.show()"
   ]
  },
  {
   "cell_type": "code",
   "execution_count": 16,
   "id": "6fec8fdf",
   "metadata": {},
   "outputs": [
    {
     "data": {
      "text/plain": [
       "count    11508.000000\n",
       "mean        15.481021\n",
       "std          5.457811\n",
       "min          0.000000\n",
       "25%         13.181641\n",
       "50%         14.694363\n",
       "75%         17.228965\n",
       "max        149.000000\n",
       "Name: avg_special_chars, dtype: float64"
      ]
     },
     "execution_count": 16,
     "metadata": {},
     "output_type": "execute_result"
    }
   ],
   "source": [
    "users.avg_special_chars.describe() "
   ]
  },
  {
   "cell_type": "code",
   "execution_count": 17,
   "id": "fd7c4d7b",
   "metadata": {},
   "outputs": [
    {
     "data": {
      "text/plain": [
       "14.69436341242059"
      ]
     },
     "execution_count": 17,
     "metadata": {},
     "output_type": "execute_result"
    }
   ],
   "source": [
    "users.avg_special_chars.median()"
   ]
  },
  {
   "cell_type": "code",
   "execution_count": 18,
   "id": "519b33dd",
   "metadata": {},
   "outputs": [
    {
     "data": {
      "image/png": "[encoded data removed]",
      "text/plain": [
       "<Figure size 432x288 with 1 Axes>"
      ]
     },
     "metadata": {
      "needs_background": "light"
     },
     "output_type": "display_data"
    }
   ],
   "source": [
    "pd.DataFrame(users.avg_special_chars).boxplot()\n",
    "plt.show()"
   ]
  },
  {
   "cell_type": "code",
   "execution_count": 19,
   "id": "998831f2",
   "metadata": {},
   "outputs": [
    {
     "data": {
      "text/plain": [
       "<AxesSubplot:>"
      ]
     },
     "execution_count": 19,
     "metadata": {},
     "output_type": "execute_result"
    },
    {
     "data": {
      "image/png": "[encoded data removed]",
      "text/plain": [
       "<Figure size 432x288 with 1 Axes>"
      ]
     },
     "metadata": {
      "needs_background": "light"
     },
     "output_type": "display_data"
    }
   ],
   "source": [
    "log_feature = pd.Series(np.log(users.avg_special_chars + 1))\n",
    "log_feature.hist()"
   ]
  },
  {
   "cell_type": "code",
   "execution_count": 20,
   "id": "9a0e1ff2",
   "metadata": {},
   "outputs": [
    {
     "data": {
      "image/png": "[encoded data removed]",
      "text/plain": [
       "<Figure size 432x288 with 1 Axes>"
      ]
     },
     "metadata": {
      "needs_background": "light"
     },
     "output_type": "display_data"
    }
   ],
   "source": [
    "pd.DataFrame(log_feature).boxplot()\n",
    "plt.show()"
   ]
  },
  {
   "cell_type": "code",
   "execution_count": 21,
   "id": "7d1abe0a",
   "metadata": {},
   "outputs": [
    {
     "data": {
      "image/png": "[encoded data removed]",
      "text/plain": [
       "<Figure size 432x288 with 1 Axes>"
      ]
     },
     "metadata": {
      "needs_background": "light"
     },
     "output_type": "display_data"
    }
   ],
   "source": [
    "remove_outliers(log_feature, 0.05, 0.95)"
   ]
  },
  {
   "cell_type": "code",
   "execution_count": 22,
   "id": "616753af",
   "metadata": {},
   "outputs": [
    {
     "data": {
      "image/png": "[encoded data removed]",
      "text/plain": [
       "<Figure size 432x288 with 1 Axes>"
      ]
     },
     "metadata": {
      "needs_background": "light"
     },
     "output_type": "display_data"
    }
   ],
   "source": [
    "users.avg_special_chars = pd.Series(np.exp(log_feature) - 1)\n",
    "users.avg_special_chars.hist()\n",
    "plt.show()"
   ]
  },
  {
   "cell_type": "code",
   "execution_count": 23,
   "id": "0dab5608",
   "metadata": {},
   "outputs": [
    {
     "data": {
      "image/png": "[encoded data removed]",
      "text/plain": [
       "<Figure size 432x288 with 1 Axes>"
      ]
     },
     "metadata": {
      "needs_background": "light"
     },
     "output_type": "display_data"
    }
   ],
   "source": [
    "pd.DataFrame(users.avg_special_chars).boxplot()\n",
    "plt.show()"
   ]
  },
  {
   "cell_type": "markdown",
   "id": "8ca212a9",
   "metadata": {},
   "source": [
    "## urls_ratio"
   ]
  },
  {
   "cell_type": "code",
   "execution_count": 24,
   "id": "2082f493",
   "metadata": {},
   "outputs": [
    {
     "data": {
      "text/plain": [
       "0.000000    5104\n",
       "1.000000      67\n",
       "0.050000      31\n",
       "0.040000      29\n",
       "0.047619      29\n",
       "            ... \n",
       "0.006751       1\n",
       "0.724675       1\n",
       "0.020518       1\n",
       "0.661855       1\n",
       "0.011707       1\n",
       "Name: urls_ratio, Length: 5028, dtype: int64"
      ]
     },
     "execution_count": 24,
     "metadata": {},
     "output_type": "execute_result"
    }
   ],
   "source": [
    "users.urls_ratio.value_counts()"
   ]
  },
  {
   "cell_type": "code",
   "execution_count": 25,
   "id": "8303c289",
   "metadata": {},
   "outputs": [
    {
     "data": {
      "text/plain": [
       "count    11508.000000\n",
       "mean         0.085288\n",
       "std          0.178616\n",
       "min          0.000000\n",
       "25%          0.000000\n",
       "50%          0.016129\n",
       "75%          0.070043\n",
       "max          2.000000\n",
       "Name: urls_ratio, dtype: float64"
      ]
     },
     "execution_count": 25,
     "metadata": {},
     "output_type": "execute_result"
    }
   ],
   "source": [
    "users.urls_ratio.describe()"
   ]
  },
  {
   "cell_type": "code",
   "execution_count": 26,
   "id": "bc9d05f2",
   "metadata": {},
   "outputs": [
    {
     "data": {
      "image/png": "[encoded data removed]",
      "text/plain": [
       "<Figure size 432x288 with 1 Axes>"
      ]
     },
     "metadata": {
      "needs_background": "light"
     },
     "output_type": "display_data"
    }
   ],
   "source": [
    "users.urls_ratio.hist()\n",
    "plt.show()"
   ]
  },
  {
   "cell_type": "code",
   "execution_count": 27,
   "id": "f1ab209a",
   "metadata": {},
   "outputs": [
    {
     "data": {
      "text/plain": [
       "0.0161290322580645"
      ]
     },
     "execution_count": 27,
     "metadata": {},
     "output_type": "execute_result"
    }
   ],
   "source": [
    "users.urls_ratio.median()"
   ]
  },
  {
   "cell_type": "code",
   "execution_count": 28,
   "id": "f62ac76c",
   "metadata": {},
   "outputs": [
    {
     "data": {
      "image/png": "[encoded data removed]",
      "text/plain": [
       "<Figure size 432x288 with 1 Axes>"
      ]
     },
     "metadata": {
      "needs_background": "light"
     },
     "output_type": "display_data"
    }
   ],
   "source": [
    "pd.DataFrame(users.urls_ratio).boxplot()\n",
    "plt.show()"
   ]
  },
  {
   "cell_type": "code",
   "execution_count": 29,
   "id": "06d126e2",
   "metadata": {},
   "outputs": [
    {
     "data": {
      "text/plain": [
       "<AxesSubplot:>"
      ]
     },
     "execution_count": 29,
     "metadata": {},
     "output_type": "execute_result"
    },
    {
     "data": {
      "image/png": "[encoded data removed]",
      "text/plain": [
       "<Figure size 432x288 with 1 Axes>"
      ]
     },
     "metadata": {
      "needs_background": "light"
     },
     "output_type": "display_data"
    }
   ],
   "source": [
    "log_feature = pd.Series(np.log(users.urls_ratio + 1))\n",
    "log_feature.hist()"
   ]
  },
  {
   "cell_type": "code",
   "execution_count": 30,
   "id": "10a2a3e2",
   "metadata": {},
   "outputs": [
    {
     "data": {
      "image/png": "[encoded data removed]",
      "text/plain": [
       "<Figure size 432x288 with 1 Axes>"
      ]
     },
     "metadata": {
      "needs_background": "light"
     },
     "output_type": "display_data"
    }
   ],
   "source": [
    "pd.DataFrame(log_feature).boxplot()\n",
    "plt.show()"
   ]
  },
  {
   "cell_type": "code",
   "execution_count": 31,
   "id": "2f26a211",
   "metadata": {},
   "outputs": [
    {
     "data": {
      "image/png": "[encoded data removed]",
      "text/plain": [
       "<Figure size 432x288 with 1 Axes>"
      ]
     },
     "metadata": {
      "needs_background": "light"
     },
     "output_type": "display_data"
    }
   ],
   "source": [
    "remove_outliers(log_feature, 0.0, 0.90)"
   ]
  },
  {
   "cell_type": "code",
   "execution_count": 32,
   "id": "c78ac31a",
   "metadata": {},
   "outputs": [
    {
     "data": {
      "image/png": "[encoded data removed]",
      "text/plain": [
       "<Figure size 432x288 with 1 Axes>"
      ]
     },
     "metadata": {
      "needs_background": "light"
     },
     "output_type": "display_data"
    }
   ],
   "source": [
    "users.urls_ratio = pd.Series(np.exp(log_feature) - 1)\n",
    "users.urls_ratio.hist()\n",
    "plt.show()"
   ]
  },
  {
   "cell_type": "code",
   "execution_count": 33,
   "id": "cd2c109a",
   "metadata": {},
   "outputs": [
    {
     "data": {
      "image/png": "[encoded data removed]",
      "text/plain": [
       "<Figure size 432x288 with 1 Axes>"
      ]
     },
     "metadata": {
      "needs_background": "light"
     },
     "output_type": "display_data"
    }
   ],
   "source": [
    "pd.DataFrame(users.urls_ratio).boxplot()\n",
    "plt.show()"
   ]
  },
  {
   "cell_type": "markdown",
   "id": "241bca13",
   "metadata": {},
   "source": [
    "## mentions_ratio"
   ]
  },
  {
   "cell_type": "code",
   "execution_count": 34,
   "id": "918934cf",
   "metadata": {},
   "outputs": [
    {
     "data": {
      "text/plain": [
       "0.000000    2093\n",
       "0.333333     110\n",
       "1.000000      48\n",
       "0.285714      34\n",
       "0.300000      32\n",
       "            ... \n",
       "1.298795       1\n",
       "0.401198       1\n",
       "1.076923       1\n",
       "0.378151       1\n",
       "0.785189       1\n",
       "Name: mentions_ratio, Length: 5968, dtype: int64"
      ]
     },
     "execution_count": 34,
     "metadata": {},
     "output_type": "execute_result"
    }
   ],
   "source": [
    "users.mentions_ratio.value_counts()"
   ]
  },
  {
   "cell_type": "code",
   "execution_count": 35,
   "id": "6dac88eb",
   "metadata": {},
   "outputs": [
    {
     "data": {
      "image/png": "[encoded data removed]",
      "text/plain": [
       "<Figure size 432x288 with 1 Axes>"
      ]
     },
     "metadata": {
      "needs_background": "light"
     },
     "output_type": "display_data"
    }
   ],
   "source": [
    "users.mentions_ratio.hist()\n",
    "plt.show()"
   ]
  },
  {
   "cell_type": "code",
   "execution_count": 36,
   "id": "da49c480",
   "metadata": {},
   "outputs": [
    {
     "data": {
      "text/plain": [
       "count    11508.000000\n",
       "mean         0.353244\n",
       "std          0.361926\n",
       "min          0.000000\n",
       "25%          0.010260\n",
       "50%          0.304348\n",
       "75%          0.503422\n",
       "max          5.785124\n",
       "Name: mentions_ratio, dtype: float64"
      ]
     },
     "execution_count": 36,
     "metadata": {},
     "output_type": "execute_result"
    }
   ],
   "source": [
    "users.mentions_ratio.describe()"
   ]
  },
  {
   "cell_type": "code",
   "execution_count": 37,
   "id": "d70803ae",
   "metadata": {},
   "outputs": [
    {
     "data": {
      "text/plain": [
       "0.3043478260869565"
      ]
     },
     "execution_count": 37,
     "metadata": {},
     "output_type": "execute_result"
    }
   ],
   "source": [
    "users.mentions_ratio.median()"
   ]
  },
  {
   "cell_type": "code",
   "execution_count": 38,
   "id": "7a7e0517",
   "metadata": {},
   "outputs": [
    {
     "data": {
      "image/png": "[encoded data removed]",
      "text/plain": [
       "<Figure size 432x288 with 1 Axes>"
      ]
     },
     "metadata": {
      "needs_background": "light"
     },
     "output_type": "display_data"
    }
   ],
   "source": [
    "pd.DataFrame(users.mentions_ratio).boxplot()\n",
    "plt.show()"
   ]
  },
  {
   "cell_type": "code",
   "execution_count": 39,
   "id": "84583594",
   "metadata": {},
   "outputs": [
    {
     "data": {
      "text/plain": [
       "<AxesSubplot:>"
      ]
     },
     "execution_count": 39,
     "metadata": {},
     "output_type": "execute_result"
    },
    {
     "data": {
      "image/png": "[encoded data removed]",
      "text/plain": [
       "<Figure size 432x288 with 1 Axes>"
      ]
     },
     "metadata": {
      "needs_background": "light"
     },
     "output_type": "display_data"
    }
   ],
   "source": [
    "log_feature = pd.Series(np.log(users.mentions_ratio + 1))\n",
    "log_feature.hist()"
   ]
  },
  {
   "cell_type": "code",
   "execution_count": 40,
   "id": "77bb1363",
   "metadata": {},
   "outputs": [
    {
     "data": {
      "image/png": "[encoded data removed]",
      "text/plain": [
       "<Figure size 432x288 with 1 Axes>"
      ]
     },
     "metadata": {
      "needs_background": "light"
     },
     "output_type": "display_data"
    }
   ],
   "source": [
    "pd.DataFrame(log_feature).boxplot()\n",
    "plt.show()"
   ]
  },
  {
   "cell_type": "code",
   "execution_count": 41,
   "id": "1a99e971",
   "metadata": {},
   "outputs": [
    {
     "data": {
      "image/png": "[encoded data removed]",
      "text/plain": [
       "<Figure size 432x288 with 1 Axes>"
      ]
     },
     "metadata": {
      "needs_background": "light"
     },
     "output_type": "display_data"
    }
   ],
   "source": [
    "remove_outliers(log_feature, 0.0, 0.98)"
   ]
  },
  {
   "cell_type": "code",
   "execution_count": 42,
   "id": "ab122f7c",
   "metadata": {},
   "outputs": [
    {
     "data": {
      "image/png": "[encoded data removed]",
      "text/plain": [
       "<Figure size 432x288 with 1 Axes>"
      ]
     },
     "metadata": {
      "needs_background": "light"
     },
     "output_type": "display_data"
    }
   ],
   "source": [
    "users.mentions_ratio = pd.Series(np.exp(log_feature) - 1)\n",
    "users.mentions_ratio.hist()\n",
    "plt.show()"
   ]
  },
  {
   "cell_type": "code",
   "execution_count": 43,
   "id": "ca61d0aa",
   "metadata": {},
   "outputs": [
    {
     "data": {
      "image/png": "[encoded data removed]",
      "text/plain": [
       "<Figure size 432x288 with 1 Axes>"
      ]
     },
     "metadata": {
      "needs_background": "light"
     },
     "output_type": "display_data"
    }
   ],
   "source": [
    "pd.DataFrame(users.mentions_ratio).boxplot()\n",
    "plt.show()"
   ]
  },
  {
   "cell_type": "markdown",
   "id": "d426a7ff",
   "metadata": {},
   "source": [
    "## hashtags_ratio"
   ]
  },
  {
   "cell_type": "code",
   "execution_count": 44,
   "id": "f9999d9c",
   "metadata": {},
   "outputs": [
    {
     "data": {
      "text/plain": [
       "0.000000    1054\n",
       "0.125000      63\n",
       "0.090909      57\n",
       "0.076923      56\n",
       "0.200000      54\n",
       "            ... \n",
       "0.027190       1\n",
       "0.070455       1\n",
       "0.244161       1\n",
       "0.054230       1\n",
       "0.041111       1\n",
       "Name: hashtags_ratio, Length: 5562, dtype: int64"
      ]
     },
     "execution_count": 44,
     "metadata": {},
     "output_type": "execute_result"
    }
   ],
   "source": [
    "users.hashtags_ratio.value_counts()"
   ]
  },
  {
   "cell_type": "code",
   "execution_count": 45,
   "id": "687c5abf",
   "metadata": {},
   "outputs": [
    {
     "data": {
      "image/png": "[encoded data removed]",
      "text/plain": [
       "<Figure size 432x288 with 1 Axes>"
      ]
     },
     "metadata": {
      "needs_background": "light"
     },
     "output_type": "display_data"
    }
   ],
   "source": [
    "users.hashtags_ratio.hist()\n",
    "plt.show()"
   ]
  },
  {
   "cell_type": "code",
   "execution_count": 46,
   "id": "5d13bcf3",
   "metadata": {},
   "outputs": [
    {
     "data": {
      "text/plain": [
       "count    11508.000000\n",
       "mean         0.140665\n",
       "std          0.212670\n",
       "min          0.000000\n",
       "25%          0.045455\n",
       "50%          0.076923\n",
       "75%          0.153658\n",
       "max          5.669974\n",
       "Name: hashtags_ratio, dtype: float64"
      ]
     },
     "execution_count": 46,
     "metadata": {},
     "output_type": "execute_result"
    }
   ],
   "source": [
    "users.hashtags_ratio.describe()"
   ]
  },
  {
   "cell_type": "code",
   "execution_count": 47,
   "id": "08ed3515",
   "metadata": {},
   "outputs": [
    {
     "data": {
      "text/plain": [
       "0.0769230769230769"
      ]
     },
     "execution_count": 47,
     "metadata": {},
     "output_type": "execute_result"
    }
   ],
   "source": [
    "users.hashtags_ratio.median()"
   ]
  },
  {
   "cell_type": "code",
   "execution_count": 48,
   "id": "edaf76dd",
   "metadata": {},
   "outputs": [
    {
     "data": {
      "image/png": "[encoded data removed]",
      "text/plain": [
       "<Figure size 432x288 with 1 Axes>"
      ]
     },
     "metadata": {
      "needs_background": "light"
     },
     "output_type": "display_data"
    }
   ],
   "source": [
    "pd.DataFrame(users.hashtags_ratio).boxplot()\n",
    "plt.show()"
   ]
  },
  {
   "cell_type": "code",
   "execution_count": 49,
   "id": "98ef651c",
   "metadata": {},
   "outputs": [
    {
     "data": {
      "text/plain": [
       "<AxesSubplot:>"
      ]
     },
     "execution_count": 49,
     "metadata": {},
     "output_type": "execute_result"
    },
    {
     "data": {
      "image/png": "[encoded data removed]",
      "text/plain": [
       "<Figure size 432x288 with 1 Axes>"
      ]
     },
     "metadata": {
      "needs_background": "light"
     },
     "output_type": "display_data"
    }
   ],
   "source": [
    "log_feature = pd.Series(np.log(users.hashtags_ratio + 1))\n",
    "log_feature.hist()"
   ]
  },
  {
   "cell_type": "code",
   "execution_count": 50,
   "id": "36de4893",
   "metadata": {},
   "outputs": [
    {
     "data": {
      "image/png": "[encoded data removed]",
      "text/plain": [
       "<Figure size 432x288 with 1 Axes>"
      ]
     },
     "metadata": {
      "needs_background": "light"
     },
     "output_type": "display_data"
    }
   ],
   "source": [
    "pd.DataFrame(log_feature).boxplot()\n",
    "plt.show()"
   ]
  },
  {
   "cell_type": "code",
   "execution_count": 51,
   "id": "c6f86495",
   "metadata": {},
   "outputs": [
    {
     "data": {
      "image/png": "[encoded data removed]",
      "text/plain": [
       "<Figure size 432x288 with 1 Axes>"
      ]
     },
     "metadata": {
      "needs_background": "light"
     },
     "output_type": "display_data"
    }
   ],
   "source": [
    "remove_outliers_boxplot(log_feature)"
   ]
  },
  {
   "cell_type": "code",
   "execution_count": 52,
   "id": "6de0bd2a",
   "metadata": {},
   "outputs": [
    {
     "data": {
      "image/png": "[encoded data removed]",
      "text/plain": [
       "<Figure size 432x288 with 1 Axes>"
      ]
     },
     "metadata": {
      "needs_background": "light"
     },
     "output_type": "display_data"
    }
   ],
   "source": [
    "users.hashtags_ratio = pd.Series(np.exp(log_feature) - 1)\n",
    "users.hashtags_ratio.hist()\n",
    "plt.show()"
   ]
  },
  {
   "cell_type": "code",
   "execution_count": 53,
   "id": "a748d3b1",
   "metadata": {},
   "outputs": [
    {
     "data": {
      "image/png": "[encoded data removed]",
      "text/plain": [
       "<Figure size 432x288 with 1 Axes>"
      ]
     },
     "metadata": {
      "needs_background": "light"
     },
     "output_type": "display_data"
    }
   ],
   "source": [
    "pd.DataFrame(users.hashtags_ratio).boxplot()\n",
    "plt.show()"
   ]
  },
  {
   "cell_type": "markdown",
   "id": "cbcb9d20",
   "metadata": {},
   "source": [
    "## reply_count_mean"
   ]
  },
  {
   "cell_type": "code",
   "execution_count": 54,
   "id": "0645490b",
   "metadata": {},
   "outputs": [
    {
     "data": {
      "text/plain": [
       "0.000000    9590\n",
       "0.047619      51\n",
       "0.045455      42\n",
       "0.038462      41\n",
       "0.050000      40\n",
       "            ... \n",
       "0.059152       1\n",
       "0.207143       1\n",
       "0.592834       1\n",
       "0.015812       1\n",
       "0.067356       1\n",
       "Name: reply_count_mean, Length: 622, dtype: int64"
      ]
     },
     "execution_count": 54,
     "metadata": {},
     "output_type": "execute_result"
    }
   ],
   "source": [
    "users.reply_count_mean.value_counts()"
   ]
  },
  {
   "cell_type": "code",
   "execution_count": 55,
   "id": "a434c9d0",
   "metadata": {},
   "outputs": [
    {
     "data": {
      "image/png": "[encoded data removed]",
      "text/plain": [
       "<Figure size 432x288 with 1 Axes>"
      ]
     },
     "metadata": {
      "needs_background": "light"
     },
     "output_type": "display_data"
    }
   ],
   "source": [
    "users.reply_count_mean.hist()\n",
    "plt.show()"
   ]
  },
  {
   "cell_type": "code",
   "execution_count": 56,
   "id": "3fda253b",
   "metadata": {},
   "outputs": [
    {
     "data": {
      "text/plain": [
       "count    11508.000000\n",
       "mean         0.064377\n",
       "std          0.774512\n",
       "min          0.000000\n",
       "25%          0.000000\n",
       "50%          0.000000\n",
       "75%          0.000000\n",
       "max         35.666667\n",
       "Name: reply_count_mean, dtype: float64"
      ]
     },
     "execution_count": 56,
     "metadata": {},
     "output_type": "execute_result"
    }
   ],
   "source": [
    "users.reply_count_mean.describe()"
   ]
  },
  {
   "cell_type": "code",
   "execution_count": 57,
   "id": "ab843ffe",
   "metadata": {},
   "outputs": [
    {
     "data": {
      "text/plain": [
       "0.0"
      ]
     },
     "execution_count": 57,
     "metadata": {},
     "output_type": "execute_result"
    }
   ],
   "source": [
    "users.reply_count_mean.median()"
   ]
  },
  {
   "cell_type": "code",
   "execution_count": 58,
   "id": "70bb3a83",
   "metadata": {},
   "outputs": [
    {
     "data": {
      "image/png": "[encoded data removed]",
      "text/plain": [
       "<Figure size 432x288 with 1 Axes>"
      ]
     },
     "metadata": {
      "needs_background": "light"
     },
     "output_type": "display_data"
    }
   ],
   "source": [
    "pd.DataFrame(users.reply_count_mean).boxplot()\n",
    "plt.show()"
   ]
  },
  {
   "cell_type": "code",
   "execution_count": 59,
   "id": "acd8297b",
   "metadata": {},
   "outputs": [
    {
     "data": {
      "text/plain": [
       "<AxesSubplot:>"
      ]
     },
     "execution_count": 59,
     "metadata": {},
     "output_type": "execute_result"
    },
    {
     "data": {
      "image/png": "[encoded data removed]",
      "text/plain": [
       "<Figure size 432x288 with 1 Axes>"
      ]
     },
     "metadata": {
      "needs_background": "light"
     },
     "output_type": "display_data"
    }
   ],
   "source": [
    "log_feature = pd.Series(np.log(users.reply_count_mean + 1))\n",
    "log_feature.hist()"
   ]
  },
  {
   "cell_type": "code",
   "execution_count": 60,
   "id": "eba115a3",
   "metadata": {},
   "outputs": [
    {
     "data": {
      "image/png": "[encoded data removed]",
      "text/plain": [
       "<Figure size 432x288 with 1 Axes>"
      ]
     },
     "metadata": {
      "needs_background": "light"
     },
     "output_type": "display_data"
    }
   ],
   "source": [
    "pd.DataFrame(log_feature).boxplot()\n",
    "plt.show()"
   ]
  },
  {
   "cell_type": "code",
   "execution_count": 61,
   "id": "0161c334",
   "metadata": {},
   "outputs": [
    {
     "data": {
      "image/png": "[encoded data removed]",
      "text/plain": [
       "<Figure size 432x288 with 1 Axes>"
      ]
     },
     "metadata": {
      "needs_background": "light"
     },
     "output_type": "display_data"
    }
   ],
   "source": [
    "remove_outliers(log_feature, 0.0, 0.90)"
   ]
  },
  {
   "cell_type": "code",
   "execution_count": 62,
   "id": "69f612fc",
   "metadata": {},
   "outputs": [
    {
     "data": {
      "image/png": "[encoded data removed]",
      "text/plain": [
       "<Figure size 432x288 with 1 Axes>"
      ]
     },
     "metadata": {
      "needs_background": "light"
     },
     "output_type": "display_data"
    }
   ],
   "source": [
    "users.reply_count_mean = pd.Series(np.exp(log_feature) - 1)\n",
    "users.reply_count_mean.hist()\n",
    "plt.show()"
   ]
  },
  {
   "cell_type": "code",
   "execution_count": 63,
   "id": "dfd807b3",
   "metadata": {},
   "outputs": [
    {
     "data": {
      "image/png": "[encoded data removed]",
      "text/plain": [
       "<Figure size 432x288 with 1 Axes>"
      ]
     },
     "metadata": {
      "needs_background": "light"
     },
     "output_type": "display_data"
    }
   ],
   "source": [
    "pd.DataFrame(users.reply_count_mean).boxplot()\n",
    "plt.show()"
   ]
  },
  {
   "cell_type": "markdown",
   "id": "78d48894",
   "metadata": {},
   "source": [
    "## reply_count_std"
   ]
  },
  {
   "cell_type": "code",
   "execution_count": 64,
   "id": "78e74c6d",
   "metadata": {},
   "outputs": [
    {
     "data": {
      "text/plain": [
       "0.000000     9596\n",
       "0.192308       41\n",
       "0.195959       38\n",
       "0.203931       38\n",
       "0.217945       38\n",
       "             ... \n",
       "0.557875        1\n",
       "0.354043        1\n",
       "12.727843       1\n",
       "0.341868        1\n",
       "3.567308        1\n",
       "Name: reply_count_std, Length: 834, dtype: int64"
      ]
     },
     "execution_count": 64,
     "metadata": {},
     "output_type": "execute_result"
    }
   ],
   "source": [
    "users.reply_count_std.value_counts()"
   ]
  },
  {
   "cell_type": "code",
   "execution_count": 65,
   "id": "4c40630f",
   "metadata": {},
   "outputs": [
    {
     "data": {
      "image/png": "[encoded data removed]",
      "text/plain": [
       "<Figure size 432x288 with 1 Axes>"
      ]
     },
     "metadata": {
      "needs_background": "light"
     },
     "output_type": "display_data"
    }
   ],
   "source": [
    "users.reply_count_std.hist()\n",
    "plt.show()"
   ]
  },
  {
   "cell_type": "code",
   "execution_count": 66,
   "id": "9e50590e",
   "metadata": {},
   "outputs": [
    {
     "data": {
      "text/plain": [
       "count    11508.000000\n",
       "mean         0.207825\n",
       "std          1.671741\n",
       "min          0.000000\n",
       "25%          0.000000\n",
       "50%          0.000000\n",
       "75%          0.000000\n",
       "max         54.899340\n",
       "Name: reply_count_std, dtype: float64"
      ]
     },
     "execution_count": 66,
     "metadata": {},
     "output_type": "execute_result"
    }
   ],
   "source": [
    "users.reply_count_std.describe()"
   ]
  },
  {
   "cell_type": "code",
   "execution_count": 67,
   "id": "5bf3ab93",
   "metadata": {},
   "outputs": [
    {
     "data": {
      "text/plain": [
       "0.0"
      ]
     },
     "execution_count": 67,
     "metadata": {},
     "output_type": "execute_result"
    }
   ],
   "source": [
    "users.reply_count_std.median()"
   ]
  },
  {
   "cell_type": "code",
   "execution_count": 68,
   "id": "aaee5389",
   "metadata": {},
   "outputs": [
    {
     "data": {
      "image/png": "[encoded data removed]",
      "text/plain": [
       "<Figure size 432x288 with 1 Axes>"
      ]
     },
     "metadata": {
      "needs_background": "light"
     },
     "output_type": "display_data"
    }
   ],
   "source": [
    "pd.DataFrame(users.reply_count_std).boxplot()\n",
    "plt.show()"
   ]
  },
  {
   "cell_type": "code",
   "execution_count": 69,
   "id": "19f79793",
   "metadata": {},
   "outputs": [
    {
     "data": {
      "text/plain": [
       "<AxesSubplot:>"
      ]
     },
     "execution_count": 69,
     "metadata": {},
     "output_type": "execute_result"
    },
    {
     "data": {
      "image/png": "[encoded data removed]",
      "text/plain": [
       "<Figure size 432x288 with 1 Axes>"
      ]
     },
     "metadata": {
      "needs_background": "light"
     },
     "output_type": "display_data"
    }
   ],
   "source": [
    "log_feature = pd.Series(np.log(users.reply_count_std + 1))\n",
    "log_feature.hist()"
   ]
  },
  {
   "cell_type": "code",
   "execution_count": 70,
   "id": "b468155c",
   "metadata": {},
   "outputs": [
    {
     "data": {
      "image/png": "[encoded data removed]",
      "text/plain": [
       "<Figure size 432x288 with 1 Axes>"
      ]
     },
     "metadata": {
      "needs_background": "light"
     },
     "output_type": "display_data"
    }
   ],
   "source": [
    "pd.DataFrame(log_feature).boxplot()\n",
    "plt.show()"
   ]
  },
  {
   "cell_type": "code",
   "execution_count": 71,
   "id": "1a278180",
   "metadata": {},
   "outputs": [
    {
     "data": {
      "image/png": "[encoded data removed]",
      "text/plain": [
       "<Figure size 432x288 with 1 Axes>"
      ]
     },
     "metadata": {
      "needs_background": "light"
     },
     "output_type": "display_data"
    }
   ],
   "source": [
    "remove_outliers(log_feature, 0.0, 0.95)"
   ]
  },
  {
   "cell_type": "code",
   "execution_count": 72,
   "id": "161ff2d7",
   "metadata": {},
   "outputs": [
    {
     "data": {
      "image/png": "[encoded data removed]",
      "text/plain": [
       "<Figure size 432x288 with 1 Axes>"
      ]
     },
     "metadata": {
      "needs_background": "light"
     },
     "output_type": "display_data"
    }
   ],
   "source": [
    "users.reply_count_std = pd.Series(np.exp(log_feature) - 1)\n",
    "users.reply_count_std.hist()\n",
    "plt.show()"
   ]
  },
  {
   "cell_type": "code",
   "execution_count": 73,
   "id": "e02fe36f",
   "metadata": {},
   "outputs": [
    {
     "data": {
      "image/png": "[encoded data removed]",
      "text/plain": [
       "<Figure size 432x288 with 1 Axes>"
      ]
     },
     "metadata": {
      "needs_background": "light"
     },
     "output_type": "display_data"
    }
   ],
   "source": [
    "pd.DataFrame(users.reply_count_std).boxplot()\n",
    "plt.show()"
   ]
  },
  {
   "cell_type": "markdown",
   "id": "08208b85",
   "metadata": {},
   "source": [
    "## reply_count_entropy"
   ]
  },
  {
   "cell_type": "code",
   "execution_count": 74,
   "id": "ace83a5a",
   "metadata": {},
   "outputs": [
    {
     "data": {
      "text/plain": [
       "0.000000    10515\n",
       "0.693147      313\n",
       "1.098612      132\n",
       "1.386294       64\n",
       "0.636514       51\n",
       "            ...  \n",
       "1.724507        1\n",
       "3.192446        1\n",
       "3.422414        1\n",
       "0.856094        1\n",
       "2.882973        1\n",
       "Name: reply_count_entropy, Length: 279, dtype: int64"
      ]
     },
     "execution_count": 74,
     "metadata": {},
     "output_type": "execute_result"
    }
   ],
   "source": [
    "users.reply_count_entropy.value_counts()"
   ]
  },
  {
   "cell_type": "code",
   "execution_count": 75,
   "id": "214f2b34",
   "metadata": {},
   "outputs": [
    {
     "data": {
      "image/png": "[encoded data removed]",
      "text/plain": [
       "<Figure size 432x288 with 1 Axes>"
      ]
     },
     "metadata": {
      "needs_background": "light"
     },
     "output_type": "display_data"
    }
   ],
   "source": [
    "users.reply_count_entropy.hist()\n",
    "plt.show()"
   ]
  },
  {
   "cell_type": "code",
   "execution_count": 76,
   "id": "3c8e9bcd",
   "metadata": {},
   "outputs": [
    {
     "data": {
      "text/plain": [
       "count    11508.000000\n",
       "mean         0.106565\n",
       "std          0.432352\n",
       "min          0.000000\n",
       "25%          0.000000\n",
       "50%          0.000000\n",
       "75%          0.000000\n",
       "max          7.003780\n",
       "Name: reply_count_entropy, dtype: float64"
      ]
     },
     "execution_count": 76,
     "metadata": {},
     "output_type": "execute_result"
    }
   ],
   "source": [
    "users.reply_count_entropy.describe()"
   ]
  },
  {
   "cell_type": "code",
   "execution_count": 77,
   "id": "a7d55f8a",
   "metadata": {},
   "outputs": [
    {
     "data": {
      "text/plain": [
       "0.0"
      ]
     },
     "execution_count": 77,
     "metadata": {},
     "output_type": "execute_result"
    }
   ],
   "source": [
    "users.reply_count_entropy.median()"
   ]
  },
  {
   "cell_type": "code",
   "execution_count": 78,
   "id": "bf472199",
   "metadata": {},
   "outputs": [
    {
     "data": {
      "image/png": "[encoded data removed]",
      "text/plain": [
       "<Figure size 432x288 with 1 Axes>"
      ]
     },
     "metadata": {
      "needs_background": "light"
     },
     "output_type": "display_data"
    }
   ],
   "source": [
    "pd.DataFrame(users.reply_count_entropy).boxplot()\n",
    "plt.show()"
   ]
  },
  {
   "cell_type": "code",
   "execution_count": 79,
   "id": "4b52dd6b",
   "metadata": {},
   "outputs": [
    {
     "data": {
      "text/plain": [
       "<AxesSubplot:>"
      ]
     },
     "execution_count": 79,
     "metadata": {},
     "output_type": "execute_result"
    },
    {
     "data": {
      "image/png": "[encoded data removed]",
      "text/plain": [
       "<Figure size 432x288 with 1 Axes>"
      ]
     },
     "metadata": {
      "needs_background": "light"
     },
     "output_type": "display_data"
    }
   ],
   "source": [
    "log_feature = pd.Series(np.log(users.reply_count_entropy + 1))\n",
    "log_feature.hist()"
   ]
  },
  {
   "cell_type": "code",
   "execution_count": 80,
   "id": "f60a172a",
   "metadata": {},
   "outputs": [
    {
     "data": {
      "image/png": "[encoded data removed]",
      "text/plain": [
       "<Figure size 432x288 with 1 Axes>"
      ]
     },
     "metadata": {
      "needs_background": "light"
     },
     "output_type": "display_data"
    }
   ],
   "source": [
    "pd.DataFrame(log_feature).boxplot()\n",
    "plt.show()"
   ]
  },
  {
   "cell_type": "code",
   "execution_count": 81,
   "id": "e7b8577b",
   "metadata": {},
   "outputs": [
    {
     "data": {
      "image/png": "[encoded data removed]",
      "text/plain": [
       "<Figure size 432x288 with 1 Axes>"
      ]
     },
     "metadata": {
      "needs_background": "light"
     },
     "output_type": "display_data"
    }
   ],
   "source": [
    "remove_outliers(log_feature, 0.0, 0.98)"
   ]
  },
  {
   "cell_type": "code",
   "execution_count": 82,
   "id": "dcd13adf",
   "metadata": {},
   "outputs": [
    {
     "data": {
      "image/png": "[encoded data removed]",
      "text/plain": [
       "<Figure size 432x288 with 1 Axes>"
      ]
     },
     "metadata": {
      "needs_background": "light"
     },
     "output_type": "display_data"
    }
   ],
   "source": [
    "users.reply_count_entropy = pd.Series(np.exp(log_feature) - 1)\n",
    "users.reply_count_entropy.hist()\n",
    "plt.show()"
   ]
  },
  {
   "cell_type": "code",
   "execution_count": 83,
   "id": "a60311f2",
   "metadata": {},
   "outputs": [
    {
     "data": {
      "image/png": "[encoded data removed]",
      "text/plain": [
       "<Figure size 432x288 with 1 Axes>"
      ]
     },
     "metadata": {
      "needs_background": "light"
     },
     "output_type": "display_data"
    }
   ],
   "source": [
    "pd.DataFrame(users.reply_count_entropy).boxplot()\n",
    "plt.show()"
   ]
  },
  {
   "cell_type": "markdown",
   "id": "dcb90d57",
   "metadata": {},
   "source": [
    "## favorite_count_mean"
   ]
  },
  {
   "cell_type": "code",
   "execution_count": 84,
   "id": "3fc0e519",
   "metadata": {},
   "outputs": [
    {
     "data": {
      "text/plain": [
       "0.000000    1995\n",
       "0.037037      49\n",
       "0.055556      48\n",
       "0.052632      47\n",
       "0.050000      46\n",
       "            ... \n",
       "0.005844       1\n",
       "0.188445       1\n",
       "0.012382       1\n",
       "0.132149       1\n",
       "0.118160       1\n",
       "Name: favorite_count_mean, Length: 5768, dtype: int64"
      ]
     },
     "execution_count": 84,
     "metadata": {},
     "output_type": "execute_result"
    }
   ],
   "source": [
    "users.favorite_count_mean.value_counts()"
   ]
  },
  {
   "cell_type": "code",
   "execution_count": 85,
   "id": "10717c22",
   "metadata": {},
   "outputs": [
    {
     "data": {
      "image/png": "[encoded data removed]",
      "text/plain": [
       "<Figure size 432x288 with 1 Axes>"
      ]
     },
     "metadata": {
      "needs_background": "light"
     },
     "output_type": "display_data"
    }
   ],
   "source": [
    "users.favorite_count_mean.hist()\n",
    "plt.show()"
   ]
  },
  {
   "cell_type": "code",
   "execution_count": 86,
   "id": "b7f59087",
   "metadata": {},
   "outputs": [
    {
     "data": {
      "text/plain": [
       "count    11508.000000\n",
       "mean         0.242864\n",
       "std          0.804560\n",
       "min          0.000000\n",
       "25%          0.017751\n",
       "50%          0.052632\n",
       "75%          0.180490\n",
       "max         31.738277\n",
       "Name: favorite_count_mean, dtype: float64"
      ]
     },
     "execution_count": 86,
     "metadata": {},
     "output_type": "execute_result"
    }
   ],
   "source": [
    "users.favorite_count_mean.describe()"
   ]
  },
  {
   "cell_type": "code",
   "execution_count": 87,
   "id": "19e4d5d0",
   "metadata": {},
   "outputs": [
    {
     "data": {
      "text/plain": [
       "0.0526315789473684"
      ]
     },
     "execution_count": 87,
     "metadata": {},
     "output_type": "execute_result"
    }
   ],
   "source": [
    "users.favorite_count_mean.median()"
   ]
  },
  {
   "cell_type": "code",
   "execution_count": 88,
   "id": "a6659c04",
   "metadata": {},
   "outputs": [
    {
     "data": {
      "image/png": "[encoded data removed]",
      "text/plain": [
       "<Figure size 432x288 with 1 Axes>"
      ]
     },
     "metadata": {
      "needs_background": "light"
     },
     "output_type": "display_data"
    }
   ],
   "source": [
    "pd.DataFrame(users.favorite_count_mean).boxplot()\n",
    "plt.show()"
   ]
  },
  {
   "cell_type": "code",
   "execution_count": 89,
   "id": "792089e6",
   "metadata": {},
   "outputs": [
    {
     "data": {
      "text/plain": [
       "<AxesSubplot:>"
      ]
     },
     "execution_count": 89,
     "metadata": {},
     "output_type": "execute_result"
    },
    {
     "data": {
      "image/png": "[encoded data removed]",
      "text/plain": [
       "<Figure size 432x288 with 1 Axes>"
      ]
     },
     "metadata": {
      "needs_background": "light"
     },
     "output_type": "display_data"
    }
   ],
   "source": [
    "log_feature = pd.Series(np.log(users.favorite_count_mean + 1))\n",
    "log_feature.hist()"
   ]
  },
  {
   "cell_type": "code",
   "execution_count": 90,
   "id": "7af7d1d3",
   "metadata": {},
   "outputs": [
    {
     "data": {
      "image/png": "[encoded data removed]",
      "text/plain": [
       "<Figure size 432x288 with 1 Axes>"
      ]
     },
     "metadata": {
      "needs_background": "light"
     },
     "output_type": "display_data"
    }
   ],
   "source": [
    "pd.DataFrame(log_feature).boxplot()\n",
    "plt.show()"
   ]
  },
  {
   "cell_type": "code",
   "execution_count": 91,
   "id": "8cec6868",
   "metadata": {},
   "outputs": [
    {
     "data": {
      "image/png": "[encoded data removed]",
      "text/plain": [
       "<Figure size 432x288 with 1 Axes>"
      ]
     },
     "metadata": {
      "needs_background": "light"
     },
     "output_type": "display_data"
    }
   ],
   "source": [
    "remove_outliers(log_feature, 0.0, 0.90)"
   ]
  },
  {
   "cell_type": "code",
   "execution_count": 92,
   "id": "5f85f786",
   "metadata": {},
   "outputs": [
    {
     "data": {
      "image/png": "[encoded data removed]",
      "text/plain": [
       "<Figure size 432x288 with 1 Axes>"
      ]
     },
     "metadata": {
      "needs_background": "light"
     },
     "output_type": "display_data"
    }
   ],
   "source": [
    "users.favorite_count_mean = pd.Series(np.exp(log_feature) - 1)\n",
    "users.favorite_count_mean.hist()\n",
    "plt.show()"
   ]
  },
  {
   "cell_type": "code",
   "execution_count": 93,
   "id": "1c80bfb2",
   "metadata": {},
   "outputs": [
    {
     "data": {
      "image/png": "[encoded data removed]",
      "text/plain": [
       "<Figure size 432x288 with 1 Axes>"
      ]
     },
     "metadata": {
      "needs_background": "light"
     },
     "output_type": "display_data"
    }
   ],
   "source": [
    "pd.DataFrame(users.favorite_count_mean).boxplot()\n",
    "plt.show()"
   ]
  },
  {
   "cell_type": "markdown",
   "id": "f71058c1",
   "metadata": {},
   "source": [
    "## favorite_count_std"
   ]
  },
  {
   "cell_type": "code",
   "execution_count": 94,
   "id": "3d9a9a8e",
   "metadata": {},
   "outputs": [
    {
     "data": {
      "text/plain": [
       "0.000000    2005\n",
       "0.188853      44\n",
       "0.173993      39\n",
       "0.192308      37\n",
       "0.203931      36\n",
       "            ... \n",
       "0.294026       1\n",
       "0.128190       1\n",
       "0.269486       1\n",
       "0.180956       1\n",
       "0.381551       1\n",
       "Name: favorite_count_std, Length: 6777, dtype: int64"
      ]
     },
     "execution_count": 94,
     "metadata": {},
     "output_type": "execute_result"
    }
   ],
   "source": [
    "users.favorite_count_std.value_counts()"
   ]
  },
  {
   "cell_type": "code",
   "execution_count": 95,
   "id": "774febd1",
   "metadata": {},
   "outputs": [
    {
     "data": {
      "image/png": "[encoded data removed]",
      "text/plain": [
       "<Figure size 432x288 with 1 Axes>"
      ]
     },
     "metadata": {
      "needs_background": "light"
     },
     "output_type": "display_data"
    }
   ],
   "source": [
    "users.favorite_count_std.hist()\n",
    "plt.show()"
   ]
  },
  {
   "cell_type": "code",
   "execution_count": 96,
   "id": "6c6ab0d6",
   "metadata": {},
   "outputs": [
    {
     "data": {
      "text/plain": [
       "count    11508.000000\n",
       "mean         0.554219\n",
       "std          1.041246\n",
       "min          0.000000\n",
       "25%          0.136692\n",
       "50%          0.240501\n",
       "75%          0.570995\n",
       "max         17.745109\n",
       "Name: favorite_count_std, dtype: float64"
      ]
     },
     "execution_count": 96,
     "metadata": {},
     "output_type": "execute_result"
    }
   ],
   "source": [
    "users.favorite_count_std.describe()"
   ]
  },
  {
   "cell_type": "code",
   "execution_count": 97,
   "id": "53737b72",
   "metadata": {},
   "outputs": [
    {
     "data": {
      "text/plain": [
       "0.2405011652824552"
      ]
     },
     "execution_count": 97,
     "metadata": {},
     "output_type": "execute_result"
    }
   ],
   "source": [
    "users.favorite_count_std.median()"
   ]
  },
  {
   "cell_type": "code",
   "execution_count": 98,
   "id": "d2802f91",
   "metadata": {},
   "outputs": [
    {
     "data": {
      "image/png": "[encoded data removed]",
      "text/plain": [
       "<Figure size 432x288 with 1 Axes>"
      ]
     },
     "metadata": {
      "needs_background": "light"
     },
     "output_type": "display_data"
    }
   ],
   "source": [
    "pd.DataFrame(users.favorite_count_std).boxplot()\n",
    "plt.show()"
   ]
  },
  {
   "cell_type": "code",
   "execution_count": 99,
   "id": "66f851c0",
   "metadata": {},
   "outputs": [
    {
     "data": {
      "text/plain": [
       "<AxesSubplot:>"
      ]
     },
     "execution_count": 99,
     "metadata": {},
     "output_type": "execute_result"
    },
    {
     "data": {
      "image/png": "[encoded data removed]",
      "text/plain": [
       "<Figure size 432x288 with 1 Axes>"
      ]
     },
     "metadata": {
      "needs_background": "light"
     },
     "output_type": "display_data"
    }
   ],
   "source": [
    "log_feature = pd.Series(np.log(users.favorite_count_std + 1))\n",
    "log_feature.hist()"
   ]
  },
  {
   "cell_type": "code",
   "execution_count": 100,
   "id": "0a9dfff1",
   "metadata": {},
   "outputs": [
    {
     "data": {
      "image/png": "[encoded data removed]",
      "text/plain": [
       "<Figure size 432x288 with 1 Axes>"
      ]
     },
     "metadata": {
      "needs_background": "light"
     },
     "output_type": "display_data"
    }
   ],
   "source": [
    "pd.DataFrame(log_feature).boxplot()\n",
    "plt.show()"
   ]
  },
  {
   "cell_type": "code",
   "execution_count": 101,
   "id": "70bf2092",
   "metadata": {},
   "outputs": [
    {
     "data": {
      "image/png": "[encoded data removed]",
      "text/plain": [
       "<Figure size 432x288 with 1 Axes>"
      ]
     },
     "metadata": {
      "needs_background": "light"
     },
     "output_type": "display_data"
    }
   ],
   "source": [
    "remove_outliers(log_feature, 0.0, 0.95)"
   ]
  },
  {
   "cell_type": "code",
   "execution_count": 102,
   "id": "fa3cfaa5",
   "metadata": {},
   "outputs": [
    {
     "data": {
      "image/png": "[encoded data removed]",
      "text/plain": [
       "<Figure size 432x288 with 1 Axes>"
      ]
     },
     "metadata": {
      "needs_background": "light"
     },
     "output_type": "display_data"
    }
   ],
   "source": [
    "users.favorite_count_std = pd.Series(np.exp(log_feature) - 1)\n",
    "users.favorite_count_std.hist()\n",
    "plt.show()"
   ]
  },
  {
   "cell_type": "code",
   "execution_count": 103,
   "id": "bbef5742",
   "metadata": {},
   "outputs": [
    {
     "data": {
      "image/png": "[encoded data removed]",
      "text/plain": [
       "<Figure size 432x288 with 1 Axes>"
      ]
     },
     "metadata": {
      "needs_background": "light"
     },
     "output_type": "display_data"
    }
   ],
   "source": [
    "pd.DataFrame(users.favorite_count_std).boxplot()\n",
    "plt.show()"
   ]
  },
  {
   "cell_type": "markdown",
   "id": "a0555506",
   "metadata": {},
   "source": [
    "## favorite_count_entropy"
   ]
  },
  {
   "cell_type": "code",
   "execution_count": 104,
   "id": "ac6ee74e",
   "metadata": {},
   "outputs": [
    {
     "data": {
      "text/plain": [
       "0.000000    2831\n",
       "1.609438     463\n",
       "1.386294     408\n",
       "1.791759     375\n",
       "1.098612     350\n",
       "            ... \n",
       "4.082587       1\n",
       "5.562176       1\n",
       "6.568404       1\n",
       "5.368904       1\n",
       "5.852158       1\n",
       "Name: favorite_count_entropy, Length: 4672, dtype: int64"
      ]
     },
     "execution_count": 104,
     "metadata": {},
     "output_type": "execute_result"
    }
   ],
   "source": [
    "users.favorite_count_entropy.value_counts()"
   ]
  },
  {
   "cell_type": "code",
   "execution_count": 105,
   "id": "59c47726",
   "metadata": {},
   "outputs": [
    {
     "data": {
      "image/png": "[encoded data removed]",
      "text/plain": [
       "<Figure size 432x288 with 1 Axes>"
      ]
     },
     "metadata": {
      "needs_background": "light"
     },
     "output_type": "display_data"
    }
   ],
   "source": [
    "users.favorite_count_entropy.hist()\n",
    "plt.show()"
   ]
  },
  {
   "cell_type": "code",
   "execution_count": 106,
   "id": "f1e7a145",
   "metadata": {},
   "outputs": [
    {
     "data": {
      "text/plain": [
       "count    11508.000000\n",
       "mean         2.680103\n",
       "std          2.353441\n",
       "min          0.000000\n",
       "25%          0.450561\n",
       "50%          1.945910\n",
       "75%          5.065383\n",
       "max          8.187960\n",
       "Name: favorite_count_entropy, dtype: float64"
      ]
     },
     "execution_count": 106,
     "metadata": {},
     "output_type": "execute_result"
    }
   ],
   "source": [
    "users.favorite_count_entropy.describe()"
   ]
  },
  {
   "cell_type": "code",
   "execution_count": 107,
   "id": "a9dfefee",
   "metadata": {},
   "outputs": [
    {
     "data": {
      "text/plain": [
       "1.9459101490553128"
      ]
     },
     "execution_count": 107,
     "metadata": {},
     "output_type": "execute_result"
    }
   ],
   "source": [
    "users.favorite_count_entropy.median()"
   ]
  },
  {
   "cell_type": "code",
   "execution_count": 108,
   "id": "867133ec",
   "metadata": {},
   "outputs": [
    {
     "data": {
      "image/png": "[encoded data removed]",
      "text/plain": [
       "<Figure size 432x288 with 1 Axes>"
      ]
     },
     "metadata": {
      "needs_background": "light"
     },
     "output_type": "display_data"
    }
   ],
   "source": [
    "pd.DataFrame(users.favorite_count_entropy).boxplot()\n",
    "plt.show()"
   ]
  },
  {
   "cell_type": "code",
   "execution_count": 109,
   "id": "dfd37d00",
   "metadata": {},
   "outputs": [
    {
     "data": {
      "text/plain": [
       "<AxesSubplot:>"
      ]
     },
     "execution_count": 109,
     "metadata": {},
     "output_type": "execute_result"
    },
    {
     "data": {
      "image/png": "[encoded data removed]",
      "text/plain": [
       "<Figure size 432x288 with 1 Axes>"
      ]
     },
     "metadata": {
      "needs_background": "light"
     },
     "output_type": "display_data"
    }
   ],
   "source": [
    "log_feature = pd.Series(np.log(users.favorite_count_entropy + 1))\n",
    "log_feature.hist()"
   ]
  },
  {
   "cell_type": "code",
   "execution_count": 110,
   "id": "e3000b80",
   "metadata": {},
   "outputs": [
    {
     "data": {
      "image/png": "[encoded data removed]",
      "text/plain": [
       "<Figure size 432x288 with 1 Axes>"
      ]
     },
     "metadata": {
      "needs_background": "light"
     },
     "output_type": "display_data"
    }
   ],
   "source": [
    "pd.DataFrame(log_feature).boxplot()\n",
    "plt.show()"
   ]
  },
  {
   "cell_type": "markdown",
   "id": "5676c0c7",
   "metadata": {},
   "source": [
    "## retweet_count_mean"
   ]
  },
  {
   "cell_type": "code",
   "execution_count": 111,
   "id": "8d48f41c",
   "metadata": {},
   "outputs": [
    {
     "data": {
      "text/plain": [
       "0.000000     2327\n",
       "0.040000       41\n",
       "0.027778       36\n",
       "0.043478       36\n",
       "0.050000       34\n",
       "             ... \n",
       "4.374101        1\n",
       "7.129371        1\n",
       "12.009360       1\n",
       "16.172703       1\n",
       "16.206643       1\n",
       "Name: retweet_count_mean, Length: 5960, dtype: int64"
      ]
     },
     "execution_count": 111,
     "metadata": {},
     "output_type": "execute_result"
    }
   ],
   "source": [
    "users.retweet_count_mean.value_counts()"
   ]
  },
  {
   "cell_type": "code",
   "execution_count": 112,
   "id": "db3c2465",
   "metadata": {},
   "outputs": [
    {
     "data": {
      "image/png": "[encoded data removed]",
      "text/plain": [
       "<Figure size 432x288 with 1 Axes>"
      ]
     },
     "metadata": {
      "needs_background": "light"
     },
     "output_type": "display_data"
    }
   ],
   "source": [
    "users.retweet_count_mean.hist()\n",
    "plt.show()"
   ]
  },
  {
   "cell_type": "code",
   "execution_count": 113,
   "id": "efa4e920",
   "metadata": {},
   "outputs": [
    {
     "data": {
      "text/plain": [
       "count    11508.000000\n",
       "mean         4.066886\n",
       "std         12.149058\n",
       "min          0.000000\n",
       "25%          0.010526\n",
       "50%          0.054054\n",
       "75%          3.404726\n",
       "max        421.000000\n",
       "Name: retweet_count_mean, dtype: float64"
      ]
     },
     "execution_count": 113,
     "metadata": {},
     "output_type": "execute_result"
    }
   ],
   "source": [
    "users.retweet_count_mean.describe()"
   ]
  },
  {
   "cell_type": "code",
   "execution_count": 114,
   "id": "d386bce6",
   "metadata": {},
   "outputs": [
    {
     "data": {
      "text/plain": [
       "0.054054054054054"
      ]
     },
     "execution_count": 114,
     "metadata": {},
     "output_type": "execute_result"
    }
   ],
   "source": [
    "users.retweet_count_mean.median()"
   ]
  },
  {
   "cell_type": "code",
   "execution_count": 115,
   "id": "abdcd608",
   "metadata": {},
   "outputs": [
    {
     "data": {
      "image/png": "[encoded data removed]",
      "text/plain": [
       "<Figure size 432x288 with 1 Axes>"
      ]
     },
     "metadata": {
      "needs_background": "light"
     },
     "output_type": "display_data"
    }
   ],
   "source": [
    "pd.DataFrame(users.retweet_count_mean).boxplot()\n",
    "plt.show()"
   ]
  },
  {
   "cell_type": "code",
   "execution_count": 116,
   "id": "166fe0a2",
   "metadata": {},
   "outputs": [
    {
     "data": {
      "text/plain": [
       "<AxesSubplot:>"
      ]
     },
     "execution_count": 116,
     "metadata": {},
     "output_type": "execute_result"
    },
    {
     "data": {
      "image/png": "[encoded data removed]",
      "text/plain": [
       "<Figure size 432x288 with 1 Axes>"
      ]
     },
     "metadata": {
      "needs_background": "light"
     },
     "output_type": "display_data"
    }
   ],
   "source": [
    "log_feature = pd.Series(np.log(users.retweet_count_mean + 1))\n",
    "log_feature.hist()"
   ]
  },
  {
   "cell_type": "code",
   "execution_count": 117,
   "id": "e0ab0fc9",
   "metadata": {},
   "outputs": [
    {
     "data": {
      "image/png": "[encoded data removed]",
      "text/plain": [
       "<Figure size 432x288 with 1 Axes>"
      ]
     },
     "metadata": {
      "needs_background": "light"
     },
     "output_type": "display_data"
    }
   ],
   "source": [
    "pd.DataFrame(log_feature).boxplot()\n",
    "plt.show()"
   ]
  },
  {
   "cell_type": "code",
   "execution_count": 118,
   "id": "ee5b367a",
   "metadata": {},
   "outputs": [
    {
     "data": {
      "image/png": "[encoded data removed]",
      "text/plain": [
       "<Figure size 432x288 with 1 Axes>"
      ]
     },
     "metadata": {
      "needs_background": "light"
     },
     "output_type": "display_data"
    }
   ],
   "source": [
    "remove_outliers(log_feature, 0.0, 0.90)"
   ]
  },
  {
   "cell_type": "code",
   "execution_count": 119,
   "id": "0aa0988e",
   "metadata": {},
   "outputs": [
    {
     "data": {
      "image/png": "[encoded data removed]",
      "text/plain": [
       "<Figure size 432x288 with 1 Axes>"
      ]
     },
     "metadata": {
      "needs_background": "light"
     },
     "output_type": "display_data"
    }
   ],
   "source": [
    "users.retweet_count_mean = pd.Series(np.exp(log_feature) - 1)\n",
    "users.retweet_count_mean.hist()\n",
    "plt.show()"
   ]
  },
  {
   "cell_type": "code",
   "execution_count": 120,
   "id": "f340258a",
   "metadata": {},
   "outputs": [
    {
     "data": {
      "image/png": "[encoded data removed]",
      "text/plain": [
       "<Figure size 432x288 with 1 Axes>"
      ]
     },
     "metadata": {
      "needs_background": "light"
     },
     "output_type": "display_data"
    }
   ],
   "source": [
    "pd.DataFrame(users.retweet_count_mean).boxplot()\n",
    "plt.show()"
   ]
  },
  {
   "cell_type": "markdown",
   "id": "e2632b2f",
   "metadata": {},
   "source": [
    "## retweet_count_std"
   ]
  },
  {
   "cell_type": "code",
   "execution_count": 121,
   "id": "a66eff48",
   "metadata": {},
   "outputs": [
    {
     "data": {
      "text/plain": [
       "0.000000     2336\n",
       "0.195959       35\n",
       "0.203931       32\n",
       "0.199826       31\n",
       "0.173993       30\n",
       "             ... \n",
       "53.250405       1\n",
       "47.203464       1\n",
       "0.076460        1\n",
       "60.514224       1\n",
       "56.984353       1\n",
       "Name: retweet_count_std, Length: 6609, dtype: int64"
      ]
     },
     "execution_count": 121,
     "metadata": {},
     "output_type": "execute_result"
    }
   ],
   "source": [
    "users.retweet_count_std.value_counts()"
   ]
  },
  {
   "cell_type": "code",
   "execution_count": 122,
   "id": "560a5b9c",
   "metadata": {},
   "outputs": [
    {
     "data": {
      "image/png": "[encoded data removed]",
      "text/plain": [
       "<Figure size 432x288 with 1 Axes>"
      ]
     },
     "metadata": {
      "needs_background": "light"
     },
     "output_type": "display_data"
    }
   ],
   "source": [
    "users.retweet_count_std.hist()\n",
    "plt.show()"
   ]
  },
  {
   "cell_type": "code",
   "execution_count": 123,
   "id": "4aaeeae4",
   "metadata": {},
   "outputs": [
    {
     "data": {
      "text/plain": [
       "count    11508.000000\n",
       "mean        14.574041\n",
       "std         23.390000\n",
       "min          0.000000\n",
       "25%          0.104251\n",
       "50%          0.238606\n",
       "75%         24.144412\n",
       "max        198.461303\n",
       "Name: retweet_count_std, dtype: float64"
      ]
     },
     "execution_count": 123,
     "metadata": {},
     "output_type": "execute_result"
    }
   ],
   "source": [
    "users.retweet_count_std.describe()"
   ]
  },
  {
   "cell_type": "code",
   "execution_count": 124,
   "id": "74ccf250",
   "metadata": {},
   "outputs": [
    {
     "data": {
      "text/plain": [
       "0.2386062992124791"
      ]
     },
     "execution_count": 124,
     "metadata": {},
     "output_type": "execute_result"
    }
   ],
   "source": [
    "users.retweet_count_std.median()"
   ]
  },
  {
   "cell_type": "code",
   "execution_count": 125,
   "id": "e900c6e5",
   "metadata": {},
   "outputs": [
    {
     "data": {
      "image/png": "[encoded data removed]",
      "text/plain": [
       "<Figure size 432x288 with 1 Axes>"
      ]
     },
     "metadata": {
      "needs_background": "light"
     },
     "output_type": "display_data"
    }
   ],
   "source": [
    "pd.DataFrame(users.retweet_count_std).boxplot()\n",
    "plt.show()"
   ]
  },
  {
   "cell_type": "code",
   "execution_count": 126,
   "id": "86c63e0f",
   "metadata": {},
   "outputs": [
    {
     "data": {
      "text/plain": [
       "<AxesSubplot:>"
      ]
     },
     "execution_count": 126,
     "metadata": {},
     "output_type": "execute_result"
    },
    {
     "data": {
      "image/png": "[encoded data removed]",
      "text/plain": [
       "<Figure size 432x288 with 1 Axes>"
      ]
     },
     "metadata": {
      "needs_background": "light"
     },
     "output_type": "display_data"
    }
   ],
   "source": [
    "log_feature = pd.Series(np.log(users.retweet_count_std + 1))\n",
    "log_feature.hist()"
   ]
  },
  {
   "cell_type": "code",
   "execution_count": 127,
   "id": "c2ba2996",
   "metadata": {},
   "outputs": [
    {
     "data": {
      "image/png": "[encoded data removed]",
      "text/plain": [
       "<Figure size 432x288 with 1 Axes>"
      ]
     },
     "metadata": {
      "needs_background": "light"
     },
     "output_type": "display_data"
    }
   ],
   "source": [
    "pd.DataFrame(log_feature).boxplot()\n",
    "plt.show()"
   ]
  },
  {
   "cell_type": "markdown",
   "id": "2c2c2961",
   "metadata": {},
   "source": [
    "## retweet_count_entropy"
   ]
  },
  {
   "cell_type": "code",
   "execution_count": 128,
   "id": "e1c17a31",
   "metadata": {},
   "outputs": [
    {
     "data": {
      "text/plain": [
       "0.000000    3136\n",
       "0.693147     491\n",
       "1.386294     442\n",
       "1.098612     441\n",
       "1.609438     377\n",
       "            ... \n",
       "0.212994       1\n",
       "1.978165       1\n",
       "2.846604       1\n",
       "5.166244       1\n",
       "5.990673       1\n",
       "Name: retweet_count_entropy, Length: 5005, dtype: int64"
      ]
     },
     "execution_count": 128,
     "metadata": {},
     "output_type": "execute_result"
    }
   ],
   "source": [
    "users.retweet_count_entropy.value_counts()"
   ]
  },
  {
   "cell_type": "code",
   "execution_count": 129,
   "id": "fe2549e3",
   "metadata": {},
   "outputs": [
    {
     "data": {
      "image/png": "[encoded data removed]",
      "text/plain": [
       "<Figure size 432x288 with 1 Axes>"
      ]
     },
     "metadata": {
      "needs_background": "light"
     },
     "output_type": "display_data"
    }
   ],
   "source": [
    "users.retweet_count_entropy.hist()\n",
    "plt.show()"
   ]
  },
  {
   "cell_type": "code",
   "execution_count": 130,
   "id": "f68c8e30",
   "metadata": {},
   "outputs": [
    {
     "data": {
      "text/plain": [
       "count    11508.000000\n",
       "mean         2.241280\n",
       "std          2.064845\n",
       "min          0.000000\n",
       "25%          0.000000\n",
       "50%          1.747868\n",
       "75%          4.046369\n",
       "max          8.027767\n",
       "Name: retweet_count_entropy, dtype: float64"
      ]
     },
     "execution_count": 130,
     "metadata": {},
     "output_type": "execute_result"
    }
   ],
   "source": [
    "users.retweet_count_entropy.describe()"
   ]
  },
  {
   "cell_type": "code",
   "execution_count": 131,
   "id": "8779d07b",
   "metadata": {},
   "outputs": [
    {
     "data": {
      "text/plain": [
       "1.7478680974667575"
      ]
     },
     "execution_count": 131,
     "metadata": {},
     "output_type": "execute_result"
    }
   ],
   "source": [
    "users.retweet_count_entropy.median()"
   ]
  },
  {
   "cell_type": "code",
   "execution_count": 132,
   "id": "2696d05e",
   "metadata": {},
   "outputs": [
    {
     "data": {
      "image/png": "[encoded data removed]",
      "text/plain": [
       "<Figure size 432x288 with 1 Axes>"
      ]
     },
     "metadata": {
      "needs_background": "light"
     },
     "output_type": "display_data"
    }
   ],
   "source": [
    "pd.DataFrame(users.retweet_count_entropy).boxplot()\n",
    "plt.show()"
   ]
  },
  {
   "cell_type": "markdown",
   "id": "53d754ed",
   "metadata": {},
   "source": [
    "## Correlation"
   ]
  },
  {
   "cell_type": "code",
   "execution_count": 133,
   "id": "7cfd78b2",
   "metadata": {},
   "outputs": [
    {
     "data": {
      "text/html": [
       "<div>\n",
       "<style scoped>\n",
       "    .dataframe tbody tr th:only-of-type {\n",
       "        vertical-align: middle;\n",
       "    }\n",
       "\n",
       "    .dataframe tbody tr th {\n",
       "        vertical-align: top;\n",
       "    }\n",
       "\n",
       "    .dataframe thead th {\n",
       "        text-align: right;\n",
       "    }\n",
       "</style>\n",
       "<table border=\"1\" class=\"dataframe\">\n",
       "  <thead>\n",
       "    <tr style=\"text-align: right;\">\n",
       "      <th></th>\n",
       "      <th>bot</th>\n",
       "      <th>statuses_count</th>\n",
       "      <th>avg_length</th>\n",
       "      <th>avg_special_chars</th>\n",
       "      <th>urls_ratio</th>\n",
       "      <th>mentions_ratio</th>\n",
       "      <th>hashtags_ratio</th>\n",
       "      <th>reply_count_mean</th>\n",
       "      <th>reply_count_std</th>\n",
       "      <th>reply_count_entropy</th>\n",
       "      <th>favorite_count_mean</th>\n",
       "      <th>favorite_count_std</th>\n",
       "      <th>favorite_count_entropy</th>\n",
       "      <th>retweet_count_mean</th>\n",
       "      <th>retweet_count_std</th>\n",
       "      <th>retweet_count_entropy</th>\n",
       "    </tr>\n",
       "  </thead>\n",
       "  <tbody>\n",
       "    <tr>\n",
       "      <th>bot</th>\n",
       "      <td>1.000000</td>\n",
       "      <td>0.515150</td>\n",
       "      <td>0.126591</td>\n",
       "      <td>0.140359</td>\n",
       "      <td>-0.322305</td>\n",
       "      <td>-0.519415</td>\n",
       "      <td>-0.121062</td>\n",
       "      <td>0.079697</td>\n",
       "      <td>0.121745</td>\n",
       "      <td>0.091439</td>\n",
       "      <td>-0.259242</td>\n",
       "      <td>-0.273943</td>\n",
       "      <td>-0.326927</td>\n",
       "      <td>-0.370136</td>\n",
       "      <td>-0.505984</td>\n",
       "      <td>-0.374498</td>\n",
       "    </tr>\n",
       "    <tr>\n",
       "      <th>statuses_count</th>\n",
       "      <td>0.515150</td>\n",
       "      <td>1.000000</td>\n",
       "      <td>0.354900</td>\n",
       "      <td>0.305768</td>\n",
       "      <td>-0.127028</td>\n",
       "      <td>-0.321957</td>\n",
       "      <td>-0.218290</td>\n",
       "      <td>-0.059822</td>\n",
       "      <td>-0.096351</td>\n",
       "      <td>-0.049899</td>\n",
       "      <td>-0.064241</td>\n",
       "      <td>0.010287</td>\n",
       "      <td>0.244586</td>\n",
       "      <td>-0.095454</td>\n",
       "      <td>-0.188697</td>\n",
       "      <td>0.203306</td>\n",
       "    </tr>\n",
       "    <tr>\n",
       "      <th>avg_length</th>\n",
       "      <td>0.126591</td>\n",
       "      <td>0.354900</td>\n",
       "      <td>1.000000</td>\n",
       "      <td>0.779780</td>\n",
       "      <td>0.143874</td>\n",
       "      <td>-0.044475</td>\n",
       "      <td>0.059221</td>\n",
       "      <td>-0.095862</td>\n",
       "      <td>-0.121249</td>\n",
       "      <td>-0.068942</td>\n",
       "      <td>0.070223</td>\n",
       "      <td>0.089376</td>\n",
       "      <td>0.218707</td>\n",
       "      <td>-0.021394</td>\n",
       "      <td>0.062955</td>\n",
       "      <td>0.244410</td>\n",
       "    </tr>\n",
       "    <tr>\n",
       "      <th>avg_special_chars</th>\n",
       "      <td>0.140359</td>\n",
       "      <td>0.305768</td>\n",
       "      <td>0.779780</td>\n",
       "      <td>1.000000</td>\n",
       "      <td>0.108603</td>\n",
       "      <td>-0.136604</td>\n",
       "      <td>0.046785</td>\n",
       "      <td>-0.043800</td>\n",
       "      <td>-0.048765</td>\n",
       "      <td>-0.028258</td>\n",
       "      <td>0.023202</td>\n",
       "      <td>0.040277</td>\n",
       "      <td>0.130213</td>\n",
       "      <td>-0.060071</td>\n",
       "      <td>-0.002588</td>\n",
       "      <td>0.140167</td>\n",
       "    </tr>\n",
       "    <tr>\n",
       "      <th>urls_ratio</th>\n",
       "      <td>-0.322305</td>\n",
       "      <td>-0.127028</td>\n",
       "      <td>0.143874</td>\n",
       "      <td>0.108603</td>\n",
       "      <td>1.000000</td>\n",
       "      <td>0.389005</td>\n",
       "      <td>0.196606</td>\n",
       "      <td>-0.031935</td>\n",
       "      <td>-0.042723</td>\n",
       "      <td>-0.026675</td>\n",
       "      <td>0.238524</td>\n",
       "      <td>0.243809</td>\n",
       "      <td>0.294521</td>\n",
       "      <td>0.328091</td>\n",
       "      <td>0.487065</td>\n",
       "      <td>0.367915</td>\n",
       "    </tr>\n",
       "    <tr>\n",
       "      <th>mentions_ratio</th>\n",
       "      <td>-0.519415</td>\n",
       "      <td>-0.321957</td>\n",
       "      <td>-0.044475</td>\n",
       "      <td>-0.136604</td>\n",
       "      <td>0.389005</td>\n",
       "      <td>1.000000</td>\n",
       "      <td>0.051575</td>\n",
       "      <td>-0.217912</td>\n",
       "      <td>-0.303193</td>\n",
       "      <td>-0.189884</td>\n",
       "      <td>0.358427</td>\n",
       "      <td>0.388922</td>\n",
       "      <td>0.439821</td>\n",
       "      <td>0.419240</td>\n",
       "      <td>0.639983</td>\n",
       "      <td>0.536572</td>\n",
       "    </tr>\n",
       "    <tr>\n",
       "      <th>hashtags_ratio</th>\n",
       "      <td>-0.121062</td>\n",
       "      <td>-0.218290</td>\n",
       "      <td>0.059221</td>\n",
       "      <td>0.046785</td>\n",
       "      <td>0.196606</td>\n",
       "      <td>0.051575</td>\n",
       "      <td>1.000000</td>\n",
       "      <td>0.187857</td>\n",
       "      <td>0.262906</td>\n",
       "      <td>0.208175</td>\n",
       "      <td>0.021910</td>\n",
       "      <td>0.002536</td>\n",
       "      <td>-0.083023</td>\n",
       "      <td>0.077067</td>\n",
       "      <td>0.151696</td>\n",
       "      <td>-0.011242</td>\n",
       "    </tr>\n",
       "    <tr>\n",
       "      <th>reply_count_mean</th>\n",
       "      <td>0.079697</td>\n",
       "      <td>-0.059822</td>\n",
       "      <td>-0.095862</td>\n",
       "      <td>-0.043800</td>\n",
       "      <td>-0.031935</td>\n",
       "      <td>-0.217912</td>\n",
       "      <td>0.187857</td>\n",
       "      <td>1.000000</td>\n",
       "      <td>0.549497</td>\n",
       "      <td>0.153856</td>\n",
       "      <td>-0.116558</td>\n",
       "      <td>-0.119060</td>\n",
       "      <td>-0.252657</td>\n",
       "      <td>-0.104751</td>\n",
       "      <td>-0.137983</td>\n",
       "      <td>-0.245663</td>\n",
       "    </tr>\n",
       "    <tr>\n",
       "      <th>reply_count_std</th>\n",
       "      <td>0.121745</td>\n",
       "      <td>-0.096351</td>\n",
       "      <td>-0.121249</td>\n",
       "      <td>-0.048765</td>\n",
       "      <td>-0.042723</td>\n",
       "      <td>-0.303193</td>\n",
       "      <td>0.262906</td>\n",
       "      <td>0.549497</td>\n",
       "      <td>1.000000</td>\n",
       "      <td>0.544638</td>\n",
       "      <td>-0.173733</td>\n",
       "      <td>-0.182238</td>\n",
       "      <td>-0.374225</td>\n",
       "      <td>-0.149169</td>\n",
       "      <td>-0.192500</td>\n",
       "      <td>-0.360851</td>\n",
       "    </tr>\n",
       "    <tr>\n",
       "      <th>reply_count_entropy</th>\n",
       "      <td>0.091439</td>\n",
       "      <td>-0.049899</td>\n",
       "      <td>-0.068942</td>\n",
       "      <td>-0.028258</td>\n",
       "      <td>-0.026675</td>\n",
       "      <td>-0.189884</td>\n",
       "      <td>0.208175</td>\n",
       "      <td>0.153856</td>\n",
       "      <td>0.544638</td>\n",
       "      <td>1.000000</td>\n",
       "      <td>-0.089517</td>\n",
       "      <td>-0.096165</td>\n",
       "      <td>-0.259775</td>\n",
       "      <td>-0.097177</td>\n",
       "      <td>-0.109497</td>\n",
       "      <td>-0.253293</td>\n",
       "    </tr>\n",
       "    <tr>\n",
       "      <th>favorite_count_mean</th>\n",
       "      <td>-0.259242</td>\n",
       "      <td>-0.064241</td>\n",
       "      <td>0.070223</td>\n",
       "      <td>0.023202</td>\n",
       "      <td>0.238524</td>\n",
       "      <td>0.358427</td>\n",
       "      <td>0.021910</td>\n",
       "      <td>-0.116558</td>\n",
       "      <td>-0.173733</td>\n",
       "      <td>-0.089517</td>\n",
       "      <td>1.000000</td>\n",
       "      <td>0.572512</td>\n",
       "      <td>0.560781</td>\n",
       "      <td>0.345715</td>\n",
       "      <td>0.383334</td>\n",
       "      <td>0.430184</td>\n",
       "    </tr>\n",
       "    <tr>\n",
       "      <th>favorite_count_std</th>\n",
       "      <td>-0.273943</td>\n",
       "      <td>0.010287</td>\n",
       "      <td>0.089376</td>\n",
       "      <td>0.040277</td>\n",
       "      <td>0.243809</td>\n",
       "      <td>0.388922</td>\n",
       "      <td>0.002536</td>\n",
       "      <td>-0.119060</td>\n",
       "      <td>-0.182238</td>\n",
       "      <td>-0.096165</td>\n",
       "      <td>0.572512</td>\n",
       "      <td>1.000000</td>\n",
       "      <td>0.657581</td>\n",
       "      <td>0.395148</td>\n",
       "      <td>0.404534</td>\n",
       "      <td>0.556408</td>\n",
       "    </tr>\n",
       "    <tr>\n",
       "      <th>favorite_count_entropy</th>\n",
       "      <td>-0.326927</td>\n",
       "      <td>0.244586</td>\n",
       "      <td>0.218707</td>\n",
       "      <td>0.130213</td>\n",
       "      <td>0.294521</td>\n",
       "      <td>0.439821</td>\n",
       "      <td>-0.083023</td>\n",
       "      <td>-0.252657</td>\n",
       "      <td>-0.374225</td>\n",
       "      <td>-0.259775</td>\n",
       "      <td>0.560781</td>\n",
       "      <td>0.657581</td>\n",
       "      <td>1.000000</td>\n",
       "      <td>0.487825</td>\n",
       "      <td>0.538401</td>\n",
       "      <td>0.889510</td>\n",
       "    </tr>\n",
       "    <tr>\n",
       "      <th>retweet_count_mean</th>\n",
       "      <td>-0.370136</td>\n",
       "      <td>-0.095454</td>\n",
       "      <td>-0.021394</td>\n",
       "      <td>-0.060071</td>\n",
       "      <td>0.328091</td>\n",
       "      <td>0.419240</td>\n",
       "      <td>0.077067</td>\n",
       "      <td>-0.104751</td>\n",
       "      <td>-0.149169</td>\n",
       "      <td>-0.097177</td>\n",
       "      <td>0.345715</td>\n",
       "      <td>0.395148</td>\n",
       "      <td>0.487825</td>\n",
       "      <td>1.000000</td>\n",
       "      <td>0.448125</td>\n",
       "      <td>0.466165</td>\n",
       "    </tr>\n",
       "    <tr>\n",
       "      <th>retweet_count_std</th>\n",
       "      <td>-0.505984</td>\n",
       "      <td>-0.188697</td>\n",
       "      <td>0.062955</td>\n",
       "      <td>-0.002588</td>\n",
       "      <td>0.487065</td>\n",
       "      <td>0.639983</td>\n",
       "      <td>0.151696</td>\n",
       "      <td>-0.137983</td>\n",
       "      <td>-0.192500</td>\n",
       "      <td>-0.109497</td>\n",
       "      <td>0.383334</td>\n",
       "      <td>0.404534</td>\n",
       "      <td>0.538401</td>\n",
       "      <td>0.448125</td>\n",
       "      <td>1.000000</td>\n",
       "      <td>0.681756</td>\n",
       "    </tr>\n",
       "    <tr>\n",
       "      <th>retweet_count_entropy</th>\n",
       "      <td>-0.374498</td>\n",
       "      <td>0.203306</td>\n",
       "      <td>0.244410</td>\n",
       "      <td>0.140167</td>\n",
       "      <td>0.367915</td>\n",
       "      <td>0.536572</td>\n",
       "      <td>-0.011242</td>\n",
       "      <td>-0.245663</td>\n",
       "      <td>-0.360851</td>\n",
       "      <td>-0.253293</td>\n",
       "      <td>0.430184</td>\n",
       "      <td>0.556408</td>\n",
       "      <td>0.889510</td>\n",
       "      <td>0.466165</td>\n",
       "      <td>0.681756</td>\n",
       "      <td>1.000000</td>\n",
       "    </tr>\n",
       "  </tbody>\n",
       "</table>\n",
       "</div>"
      ],
      "text/plain": [
       "                             bot  statuses_count  avg_length  \\\n",
       "bot                     1.000000        0.515150    0.126591   \n",
       "statuses_count          0.515150        1.000000    0.354900   \n",
       "avg_length              0.126591        0.354900    1.000000   \n",
       "avg_special_chars       0.140359        0.305768    0.779780   \n",
       "urls_ratio             -0.322305       -0.127028    0.143874   \n",
       "mentions_ratio         -0.519415       -0.321957   -0.044475   \n",
       "hashtags_ratio         -0.121062       -0.218290    0.059221   \n",
       "reply_count_mean        0.079697       -0.059822   -0.095862   \n",
       "reply_count_std         0.121745       -0.096351   -0.121249   \n",
       "reply_count_entropy     0.091439       -0.049899   -0.068942   \n",
       "favorite_count_mean    -0.259242       -0.064241    0.070223   \n",
       "favorite_count_std     -0.273943        0.010287    0.089376   \n",
       "favorite_count_entropy -0.326927        0.244586    0.218707   \n",
       "retweet_count_mean     -0.370136       -0.095454   -0.021394   \n",
       "retweet_count_std      -0.505984       -0.188697    0.062955   \n",
       "retweet_count_entropy  -0.374498        0.203306    0.244410   \n",
       "\n",
       "                        avg_special_chars  urls_ratio  mentions_ratio  \\\n",
       "bot                              0.140359   -0.322305       -0.519415   \n",
       "statuses_count                   0.305768   -0.127028       -0.321957   \n",
       "avg_length                       0.779780    0.143874       -0.044475   \n",
       "avg_special_chars                1.000000    0.108603       -0.136604   \n",
       "urls_ratio                       0.108603    1.000000        0.389005   \n",
       "mentions_ratio                  -0.136604    0.389005        1.000000   \n",
       "hashtags_ratio                   0.046785    0.196606        0.051575   \n",
       "reply_count_mean                -0.043800   -0.031935       -0.217912   \n",
       "reply_count_std                 -0.048765   -0.042723       -0.303193   \n",
       "reply_count_entropy             -0.028258   -0.026675       -0.189884   \n",
       "favorite_count_mean              0.023202    0.238524        0.358427   \n",
       "favorite_count_std               0.040277    0.243809        0.388922   \n",
       "favorite_count_entropy           0.130213    0.294521        0.439821   \n",
       "retweet_count_mean              -0.060071    0.328091        0.419240   \n",
       "retweet_count_std               -0.002588    0.487065        0.639983   \n",
       "retweet_count_entropy            0.140167    0.367915        0.536572   \n",
       "\n",
       "                        hashtags_ratio  reply_count_mean  reply_count_std  \\\n",
       "bot                          -0.121062          0.079697         0.121745   \n",
       "statuses_count               -0.218290         -0.059822        -0.096351   \n",
       "avg_length                    0.059221         -0.095862        -0.121249   \n",
       "avg_special_chars             0.046785         -0.043800        -0.048765   \n",
       "urls_ratio                    0.196606         -0.031935        -0.042723   \n",
       "mentions_ratio                0.051575         -0.217912        -0.303193   \n",
       "hashtags_ratio                1.000000          0.187857         0.262906   \n",
       "reply_count_mean              0.187857          1.000000         0.549497   \n",
       "reply_count_std               0.262906          0.549497         1.000000   \n",
       "reply_count_entropy           0.208175          0.153856         0.544638   \n",
       "favorite_count_mean           0.021910         -0.116558        -0.173733   \n",
       "favorite_count_std            0.002536         -0.119060        -0.182238   \n",
       "favorite_count_entropy       -0.083023         -0.252657        -0.374225   \n",
       "retweet_count_mean            0.077067         -0.104751        -0.149169   \n",
       "retweet_count_std             0.151696         -0.137983        -0.192500   \n",
       "retweet_count_entropy        -0.011242         -0.245663        -0.360851   \n",
       "\n",
       "                        reply_count_entropy  favorite_count_mean  \\\n",
       "bot                                0.091439            -0.259242   \n",
       "statuses_count                    -0.049899            -0.064241   \n",
       "avg_length                        -0.068942             0.070223   \n",
       "avg_special_chars                 -0.028258             0.023202   \n",
       "urls_ratio                        -0.026675             0.238524   \n",
       "mentions_ratio                    -0.189884             0.358427   \n",
       "hashtags_ratio                     0.208175             0.021910   \n",
       "reply_count_mean                   0.153856            -0.116558   \n",
       "reply_count_std                    0.544638            -0.173733   \n",
       "reply_count_entropy                1.000000            -0.089517   \n",
       "favorite_count_mean               -0.089517             1.000000   \n",
       "favorite_count_std                -0.096165             0.572512   \n",
       "favorite_count_entropy            -0.259775             0.560781   \n",
       "retweet_count_mean                -0.097177             0.345715   \n",
       "retweet_count_std                 -0.109497             0.383334   \n",
       "retweet_count_entropy             -0.253293             0.430184   \n",
       "\n",
       "                        favorite_count_std  favorite_count_entropy  \\\n",
       "bot                              -0.273943               -0.326927   \n",
       "statuses_count                    0.010287                0.244586   \n",
       "avg_length                        0.089376                0.218707   \n",
       "avg_special_chars                 0.040277                0.130213   \n",
       "urls_ratio                        0.243809                0.294521   \n",
       "mentions_ratio                    0.388922                0.439821   \n",
       "hashtags_ratio                    0.002536               -0.083023   \n",
       "reply_count_mean                 -0.119060               -0.252657   \n",
       "reply_count_std                  -0.182238               -0.374225   \n",
       "reply_count_entropy              -0.096165               -0.259775   \n",
       "favorite_count_mean               0.572512                0.560781   \n",
       "favorite_count_std                1.000000                0.657581   \n",
       "favorite_count_entropy            0.657581                1.000000   \n",
       "retweet_count_mean                0.395148                0.487825   \n",
       "retweet_count_std                 0.404534                0.538401   \n",
       "retweet_count_entropy             0.556408                0.889510   \n",
       "\n",
       "                        retweet_count_mean  retweet_count_std  \\\n",
       "bot                              -0.370136          -0.505984   \n",
       "statuses_count                   -0.095454          -0.188697   \n",
       "avg_length                       -0.021394           0.062955   \n",
       "avg_special_chars                -0.060071          -0.002588   \n",
       "urls_ratio                        0.328091           0.487065   \n",
       "mentions_ratio                    0.419240           0.639983   \n",
       "hashtags_ratio                    0.077067           0.151696   \n",
       "reply_count_mean                 -0.104751          -0.137983   \n",
       "reply_count_std                  -0.149169          -0.192500   \n",
       "reply_count_entropy              -0.097177          -0.109497   \n",
       "favorite_count_mean               0.345715           0.383334   \n",
       "favorite_count_std                0.395148           0.404534   \n",
       "favorite_count_entropy            0.487825           0.538401   \n",
       "retweet_count_mean                1.000000           0.448125   \n",
       "retweet_count_std                 0.448125           1.000000   \n",
       "retweet_count_entropy             0.466165           0.681756   \n",
       "\n",
       "                        retweet_count_entropy  \n",
       "bot                                 -0.374498  \n",
       "statuses_count                       0.203306  \n",
       "avg_length                           0.244410  \n",
       "avg_special_chars                    0.140167  \n",
       "urls_ratio                           0.367915  \n",
       "mentions_ratio                       0.536572  \n",
       "hashtags_ratio                      -0.011242  \n",
       "reply_count_mean                    -0.245663  \n",
       "reply_count_std                     -0.360851  \n",
       "reply_count_entropy                 -0.253293  \n",
       "favorite_count_mean                  0.430184  \n",
       "favorite_count_std                   0.556408  \n",
       "favorite_count_entropy               0.889510  \n",
       "retweet_count_mean                   0.466165  \n",
       "retweet_count_std                    0.681756  \n",
       "retweet_count_entropy                1.000000  "
      ]
     },
     "execution_count": 133,
     "metadata": {},
     "output_type": "execute_result"
    }
   ],
   "source": [
    "users.corr()"
   ]
  },
  {
   "cell_type": "code",
   "execution_count": 134,
   "id": "4ec76b2f",
   "metadata": {},
   "outputs": [
    {
     "name": "stdout",
     "output_type": "stream",
     "text": [
      "retweet_count_entropy  -  favorite_count_entropy  -  0.8895100683493148\n"
     ]
    }
   ],
   "source": [
    "mat_corr = users.corr()\n",
    "\n",
    "# Identifies correlated variables\n",
    "for i in range(16):\n",
    "    for j in range(i):\n",
    "        if abs(mat_corr.iat[i, j]) > 0.8:\n",
    "            print(mat_corr.columns[i], \" - \", mat_corr.columns[j], \" - \", mat_corr.iat[i, j])\n",
    "            "
   ]
  },
  {
   "cell_type": "code",
   "execution_count": 135,
   "id": "04dfe5f9",
   "metadata": {},
   "outputs": [],
   "source": [
    "# TODO: rimuovi correlati\n",
    "\n",
    "del users[\"retweet_count_entropy\"]"
   ]
  },
  {
   "cell_type": "markdown",
   "id": "dfc2c79b",
   "metadata": {},
   "source": [
    "## Save to file"
   ]
  },
  {
   "cell_type": "code",
   "execution_count": 136,
   "id": "7ab6aaad",
   "metadata": {},
   "outputs": [],
   "source": [
    "users.to_csv(\"cleaned_user_profile.csv\")"
   ]
  }
 ],
 "metadata": {
  "kernelspec": {
   "display_name": "venv",
   "language": "python",
   "name": "venv"
  },
  "language_info": {
   "codemirror_mode": {
    "name": "ipython",
    "version": 3
   },
   "file_extension": ".py",
   "mimetype": "text/x-python",
   "name": "python",
   "nbconvert_exporter": "python",
   "pygments_lexer": "ipython3",
   "version": "3.9.15"
  }
 },
 "nbformat": 4,
 "nbformat_minor": 5
}
