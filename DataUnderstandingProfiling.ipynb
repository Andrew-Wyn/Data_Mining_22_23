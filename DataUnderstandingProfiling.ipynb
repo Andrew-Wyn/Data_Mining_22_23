{
 "cells": [
  {
   "cell_type": "markdown",
   "id": "3fff3a50",
   "metadata": {},
   "source": [
    "# Data Understanding Profiling"
   ]
  },
  {
   "cell_type": "code",
   "execution_count": 1,
   "id": "2ff44fe7",
   "metadata": {},
   "outputs": [],
   "source": [
    "import scipy\n",
    "import numpy as np\n",
    "import pandas as pd\n",
    "import matplotlib.pyplot as plt"
   ]
  },
  {
   "cell_type": "code",
   "execution_count": 2,
   "id": "6c32182d",
   "metadata": {},
   "outputs": [],
   "source": [
    "users = pd.read_csv(\"dataset/user_profiles.csv\", index_col=0)"
   ]
  },
  {
   "cell_type": "code",
   "execution_count": 3,
   "id": "2a558cda",
   "metadata": {},
   "outputs": [
    {
     "data": {
      "text/plain": [
       "(11508, 19)"
      ]
     },
     "execution_count": 3,
     "metadata": {},
     "output_type": "execute_result"
    }
   ],
   "source": [
    "users.shape"
   ]
  },
  {
   "cell_type": "code",
   "execution_count": 4,
   "id": "f89b757c",
   "metadata": {},
   "outputs": [
    {
     "data": {
      "text/html": [
       "<div>\n",
       "<style scoped>\n",
       "    .dataframe tbody tr th:only-of-type {\n",
       "        vertical-align: middle;\n",
       "    }\n",
       "\n",
       "    .dataframe tbody tr th {\n",
       "        vertical-align: top;\n",
       "    }\n",
       "\n",
       "    .dataframe thead th {\n",
       "        text-align: right;\n",
       "    }\n",
       "</style>\n",
       "<table border=\"1\" class=\"dataframe\">\n",
       "  <thead>\n",
       "    <tr style=\"text-align: right;\">\n",
       "      <th></th>\n",
       "      <th>name</th>\n",
       "      <th>lang</th>\n",
       "      <th>bot</th>\n",
       "      <th>created_at</th>\n",
       "      <th>statuses_count</th>\n",
       "      <th>avg_length</th>\n",
       "      <th>avg_special_chars</th>\n",
       "      <th>urls_ratio</th>\n",
       "      <th>mentions_ratio</th>\n",
       "      <th>hashtags_ratio</th>\n",
       "      <th>reply_count_mean</th>\n",
       "      <th>reply_count_std</th>\n",
       "      <th>reply_count_entropy</th>\n",
       "      <th>favorite_count_mean</th>\n",
       "      <th>favorite_count_std</th>\n",
       "      <th>favorite_count_entropy</th>\n",
       "      <th>retweet_count_mean</th>\n",
       "      <th>retweet_count_std</th>\n",
       "      <th>retweet_count_entropy</th>\n",
       "    </tr>\n",
       "  </thead>\n",
       "  <tbody>\n",
       "    <tr>\n",
       "      <th>2353593986</th>\n",
       "      <td>Lamonica Raborn</td>\n",
       "      <td>en</td>\n",
       "      <td>1</td>\n",
       "      <td>2019-02-22 18:00:42</td>\n",
       "      <td>76</td>\n",
       "      <td>62.340909</td>\n",
       "      <td>14.015152</td>\n",
       "      <td>0.000000</td>\n",
       "      <td>0.272727</td>\n",
       "      <td>0.0</td>\n",
       "      <td>0.000000</td>\n",
       "      <td>0.000000</td>\n",
       "      <td>0.0</td>\n",
       "      <td>0.037879</td>\n",
       "      <td>0.190903</td>\n",
       "      <td>1.609438</td>\n",
       "      <td>0.037879</td>\n",
       "      <td>0.190903</td>\n",
       "      <td>1.609438</td>\n",
       "    </tr>\n",
       "    <tr>\n",
       "      <th>2358850842</th>\n",
       "      <td>Lourie Botton</td>\n",
       "      <td>en</td>\n",
       "      <td>0</td>\n",
       "      <td>2019-02-26 03:02:32</td>\n",
       "      <td>4</td>\n",
       "      <td>69.082645</td>\n",
       "      <td>15.041322</td>\n",
       "      <td>0.000000</td>\n",
       "      <td>0.338843</td>\n",
       "      <td>0.0</td>\n",
       "      <td>0.000000</td>\n",
       "      <td>0.000000</td>\n",
       "      <td>0.0</td>\n",
       "      <td>0.049587</td>\n",
       "      <td>0.217090</td>\n",
       "      <td>1.791759</td>\n",
       "      <td>0.024793</td>\n",
       "      <td>0.155495</td>\n",
       "      <td>1.098612</td>\n",
       "    </tr>\n",
       "    <tr>\n",
       "      <th>137959629</th>\n",
       "      <td>Dadan Syarifudin</td>\n",
       "      <td>en</td>\n",
       "      <td>1</td>\n",
       "      <td>2015-04-30 07:09:56</td>\n",
       "      <td>7</td>\n",
       "      <td>19.250000</td>\n",
       "      <td>5.250000</td>\n",
       "      <td>0.000000</td>\n",
       "      <td>0.000000</td>\n",
       "      <td>0.0</td>\n",
       "      <td>0.000000</td>\n",
       "      <td>0.000000</td>\n",
       "      <td>0.0</td>\n",
       "      <td>0.000000</td>\n",
       "      <td>0.000000</td>\n",
       "      <td>0.000000</td>\n",
       "      <td>0.000000</td>\n",
       "      <td>0.000000</td>\n",
       "      <td>0.000000</td>\n",
       "    </tr>\n",
       "    <tr>\n",
       "      <th>466124818</th>\n",
       "      <td>Carletto Focia</td>\n",
       "      <td>it</td>\n",
       "      <td>1</td>\n",
       "      <td>2017-01-18 02:49:18</td>\n",
       "      <td>50</td>\n",
       "      <td>86.944871</td>\n",
       "      <td>18.689463</td>\n",
       "      <td>0.000000</td>\n",
       "      <td>0.004885</td>\n",
       "      <td>0.0</td>\n",
       "      <td>0.000000</td>\n",
       "      <td>0.000000</td>\n",
       "      <td>0.0</td>\n",
       "      <td>0.130495</td>\n",
       "      <td>0.336848</td>\n",
       "      <td>5.231109</td>\n",
       "      <td>0.150035</td>\n",
       "      <td>1.326298</td>\n",
       "      <td>3.554720</td>\n",
       "    </tr>\n",
       "    <tr>\n",
       "      <th>2571493866</th>\n",
       "      <td>MBK Ebook</td>\n",
       "      <td>en</td>\n",
       "      <td>0</td>\n",
       "      <td>2019-06-18 19:30:21</td>\n",
       "      <td>8</td>\n",
       "      <td>72.311246</td>\n",
       "      <td>14.582073</td>\n",
       "      <td>0.000000</td>\n",
       "      <td>0.448996</td>\n",
       "      <td>0.0</td>\n",
       "      <td>0.000000</td>\n",
       "      <td>0.000000</td>\n",
       "      <td>0.0</td>\n",
       "      <td>0.053341</td>\n",
       "      <td>0.224712</td>\n",
       "      <td>5.267858</td>\n",
       "      <td>0.016772</td>\n",
       "      <td>0.142619</td>\n",
       "      <td>3.965939</td>\n",
       "    </tr>\n",
       "    <tr>\n",
       "      <th>2199062688</th>\n",
       "      <td>Qq</td>\n",
       "      <td>en</td>\n",
       "      <td>0</td>\n",
       "      <td>2018-11-19 06:58:18</td>\n",
       "      <td>8</td>\n",
       "      <td>45.132176</td>\n",
       "      <td>9.732754</td>\n",
       "      <td>0.001447</td>\n",
       "      <td>0.731307</td>\n",
       "      <td>0.0</td>\n",
       "      <td>0.000000</td>\n",
       "      <td>0.000000</td>\n",
       "      <td>0.0</td>\n",
       "      <td>0.255668</td>\n",
       "      <td>0.436236</td>\n",
       "      <td>6.272877</td>\n",
       "      <td>5.314520</td>\n",
       "      <td>7.531088</td>\n",
       "      <td>6.751701</td>\n",
       "    </tr>\n",
       "    <tr>\n",
       "      <th>1174869769</th>\n",
       "      <td>Tania Wren</td>\n",
       "      <td>en</td>\n",
       "      <td>1</td>\n",
       "      <td>2018-02-15 10:51:28</td>\n",
       "      <td>21</td>\n",
       "      <td>64.041667</td>\n",
       "      <td>13.666667</td>\n",
       "      <td>0.000000</td>\n",
       "      <td>0.125000</td>\n",
       "      <td>0.0</td>\n",
       "      <td>0.000000</td>\n",
       "      <td>0.000000</td>\n",
       "      <td>0.0</td>\n",
       "      <td>0.083333</td>\n",
       "      <td>0.276385</td>\n",
       "      <td>0.693147</td>\n",
       "      <td>1.666667</td>\n",
       "      <td>5.527708</td>\n",
       "      <td>0.693147</td>\n",
       "    </tr>\n",
       "    <tr>\n",
       "      <th>3118659848</th>\n",
       "      <td>charlotte gray</td>\n",
       "      <td>en</td>\n",
       "      <td>0</td>\n",
       "      <td>2020-03-31 21:19:59</td>\n",
       "      <td>4</td>\n",
       "      <td>62.362963</td>\n",
       "      <td>12.807407</td>\n",
       "      <td>0.000000</td>\n",
       "      <td>0.651852</td>\n",
       "      <td>0.0</td>\n",
       "      <td>0.000000</td>\n",
       "      <td>0.000000</td>\n",
       "      <td>0.0</td>\n",
       "      <td>0.362963</td>\n",
       "      <td>0.480854</td>\n",
       "      <td>3.891820</td>\n",
       "      <td>4.162963</td>\n",
       "      <td>7.932313</td>\n",
       "      <td>3.439776</td>\n",
       "    </tr>\n",
       "    <tr>\n",
       "      <th>616225564</th>\n",
       "      <td>Anisha Williams</td>\n",
       "      <td>en</td>\n",
       "      <td>0</td>\n",
       "      <td>2017-06-25 15:49:36</td>\n",
       "      <td>7</td>\n",
       "      <td>66.850000</td>\n",
       "      <td>14.950000</td>\n",
       "      <td>0.000000</td>\n",
       "      <td>0.016667</td>\n",
       "      <td>0.0</td>\n",
       "      <td>0.016667</td>\n",
       "      <td>0.128019</td>\n",
       "      <td>0.0</td>\n",
       "      <td>0.033333</td>\n",
       "      <td>0.179505</td>\n",
       "      <td>0.693147</td>\n",
       "      <td>0.350000</td>\n",
       "      <td>2.561412</td>\n",
       "      <td>0.191444</td>\n",
       "    </tr>\n",
       "    <tr>\n",
       "      <th>2357425536</th>\n",
       "      <td>Meda Tatlock</td>\n",
       "      <td>en</td>\n",
       "      <td>1</td>\n",
       "      <td>2019-02-25 04:30:56</td>\n",
       "      <td>69</td>\n",
       "      <td>65.074324</td>\n",
       "      <td>14.398649</td>\n",
       "      <td>0.000000</td>\n",
       "      <td>0.344595</td>\n",
       "      <td>0.0</td>\n",
       "      <td>0.000000</td>\n",
       "      <td>0.000000</td>\n",
       "      <td>0.0</td>\n",
       "      <td>0.033784</td>\n",
       "      <td>0.180672</td>\n",
       "      <td>1.609438</td>\n",
       "      <td>0.040541</td>\n",
       "      <td>0.197223</td>\n",
       "      <td>1.791759</td>\n",
       "    </tr>\n",
       "  </tbody>\n",
       "</table>\n",
       "</div>"
      ],
      "text/plain": [
       "                        name lang  bot           created_at  statuses_count  \\\n",
       "2353593986   Lamonica Raborn   en    1  2019-02-22 18:00:42              76   \n",
       "2358850842     Lourie Botton   en    0  2019-02-26 03:02:32               4   \n",
       "137959629   Dadan Syarifudin   en    1  2015-04-30 07:09:56               7   \n",
       "466124818     Carletto Focia   it    1  2017-01-18 02:49:18              50   \n",
       "2571493866         MBK Ebook   en    0  2019-06-18 19:30:21               8   \n",
       "2199062688                Qq   en    0  2018-11-19 06:58:18               8   \n",
       "1174869769        Tania Wren   en    1  2018-02-15 10:51:28              21   \n",
       "3118659848    charlotte gray   en    0  2020-03-31 21:19:59               4   \n",
       "616225564    Anisha Williams   en    0  2017-06-25 15:49:36               7   \n",
       "2357425536      Meda Tatlock   en    1  2019-02-25 04:30:56              69   \n",
       "\n",
       "            avg_length  avg_special_chars  urls_ratio  mentions_ratio  \\\n",
       "2353593986   62.340909          14.015152    0.000000        0.272727   \n",
       "2358850842   69.082645          15.041322    0.000000        0.338843   \n",
       "137959629    19.250000           5.250000    0.000000        0.000000   \n",
       "466124818    86.944871          18.689463    0.000000        0.004885   \n",
       "2571493866   72.311246          14.582073    0.000000        0.448996   \n",
       "2199062688   45.132176           9.732754    0.001447        0.731307   \n",
       "1174869769   64.041667          13.666667    0.000000        0.125000   \n",
       "3118659848   62.362963          12.807407    0.000000        0.651852   \n",
       "616225564    66.850000          14.950000    0.000000        0.016667   \n",
       "2357425536   65.074324          14.398649    0.000000        0.344595   \n",
       "\n",
       "            hashtags_ratio  reply_count_mean  reply_count_std  \\\n",
       "2353593986             0.0          0.000000         0.000000   \n",
       "2358850842             0.0          0.000000         0.000000   \n",
       "137959629              0.0          0.000000         0.000000   \n",
       "466124818              0.0          0.000000         0.000000   \n",
       "2571493866             0.0          0.000000         0.000000   \n",
       "2199062688             0.0          0.000000         0.000000   \n",
       "1174869769             0.0          0.000000         0.000000   \n",
       "3118659848             0.0          0.000000         0.000000   \n",
       "616225564              0.0          0.016667         0.128019   \n",
       "2357425536             0.0          0.000000         0.000000   \n",
       "\n",
       "            reply_count_entropy  favorite_count_mean  favorite_count_std  \\\n",
       "2353593986                  0.0             0.037879            0.190903   \n",
       "2358850842                  0.0             0.049587            0.217090   \n",
       "137959629                   0.0             0.000000            0.000000   \n",
       "466124818                   0.0             0.130495            0.336848   \n",
       "2571493866                  0.0             0.053341            0.224712   \n",
       "2199062688                  0.0             0.255668            0.436236   \n",
       "1174869769                  0.0             0.083333            0.276385   \n",
       "3118659848                  0.0             0.362963            0.480854   \n",
       "616225564                   0.0             0.033333            0.179505   \n",
       "2357425536                  0.0             0.033784            0.180672   \n",
       "\n",
       "            favorite_count_entropy  retweet_count_mean  retweet_count_std  \\\n",
       "2353593986                1.609438            0.037879           0.190903   \n",
       "2358850842                1.791759            0.024793           0.155495   \n",
       "137959629                 0.000000            0.000000           0.000000   \n",
       "466124818                 5.231109            0.150035           1.326298   \n",
       "2571493866                5.267858            0.016772           0.142619   \n",
       "2199062688                6.272877            5.314520           7.531088   \n",
       "1174869769                0.693147            1.666667           5.527708   \n",
       "3118659848                3.891820            4.162963           7.932313   \n",
       "616225564                 0.693147            0.350000           2.561412   \n",
       "2357425536                1.609438            0.040541           0.197223   \n",
       "\n",
       "            retweet_count_entropy  \n",
       "2353593986               1.609438  \n",
       "2358850842               1.098612  \n",
       "137959629                0.000000  \n",
       "466124818                3.554720  \n",
       "2571493866               3.965939  \n",
       "2199062688               6.751701  \n",
       "1174869769               0.693147  \n",
       "3118659848               3.439776  \n",
       "616225564                0.191444  \n",
       "2357425536               1.791759  "
      ]
     },
     "execution_count": 4,
     "metadata": {},
     "output_type": "execute_result"
    }
   ],
   "source": [
    "users.head(10)"
   ]
  },
  {
   "cell_type": "code",
   "execution_count": 5,
   "id": "5759b083",
   "metadata": {},
   "outputs": [
    {
     "data": {
      "text/plain": [
       "<bound method DataFrame.info of                           name lang  bot           created_at  statuses_count  \\\n",
       "2353593986     Lamonica Raborn   en    1  2019-02-22 18:00:42              76   \n",
       "2358850842       Lourie Botton   en    0  2019-02-26 03:02:32               4   \n",
       "137959629     Dadan Syarifudin   en    1  2015-04-30 07:09:56               7   \n",
       "466124818       Carletto Focia   it    1  2017-01-18 02:49:18              50   \n",
       "2571493866           MBK Ebook   en    0  2019-06-18 19:30:21               8   \n",
       "...                        ...  ...  ...                  ...             ...   \n",
       "2911861962  Madrid Lae Maika .   en    0  2019-11-29 13:16:02               7   \n",
       "1378532629           Clau Sato   en    0  2018-04-27 03:01:58               8   \n",
       "126984069   ALMA LETICIA NUÑO    es    0  2015-03-29 17:01:24               1   \n",
       "2383025796     Minnie Guadagno   en    1  2019-03-13 02:44:13              42   \n",
       "933183398            Corvanna    en    0  2017-11-09 23:24:16               8   \n",
       "\n",
       "            avg_length  avg_special_chars  urls_ratio  mentions_ratio  \\\n",
       "2353593986   62.340909          14.015152    0.000000        0.272727   \n",
       "2358850842   69.082645          15.041322    0.000000        0.338843   \n",
       "137959629    19.250000           5.250000    0.000000        0.000000   \n",
       "466124818    86.944871          18.689463    0.000000        0.004885   \n",
       "2571493866   72.311246          14.582073    0.000000        0.448996   \n",
       "...                ...                ...         ...             ...   \n",
       "2911861962   52.677158          12.767086    0.000000        0.619604   \n",
       "1378532629   59.716210          12.984608    0.000000        0.414622   \n",
       "126984069    67.666667          15.833333    0.000000        0.333333   \n",
       "2383025796   63.278846          13.971154    0.000000        0.365385   \n",
       "933183398    52.068064          11.291587    0.001089        0.677375   \n",
       "\n",
       "            hashtags_ratio  reply_count_mean  reply_count_std  \\\n",
       "2353593986             0.0               0.0              0.0   \n",
       "2358850842             0.0               0.0              0.0   \n",
       "137959629              0.0               0.0              0.0   \n",
       "466124818              0.0               0.0              0.0   \n",
       "2571493866             0.0               0.0              0.0   \n",
       "...                    ...               ...              ...   \n",
       "2911861962             0.0               0.0              0.0   \n",
       "1378532629             0.0               0.0              0.0   \n",
       "126984069              0.0               0.0              0.0   \n",
       "2383025796             0.0               0.0              0.0   \n",
       "933183398              0.0               0.0              0.0   \n",
       "\n",
       "            reply_count_entropy  favorite_count_mean  favorite_count_std  \\\n",
       "2353593986                  0.0             0.037879            0.190903   \n",
       "2358850842                  0.0             0.049587            0.217090   \n",
       "137959629                   0.0             0.000000            0.000000   \n",
       "466124818                   0.0             0.130495            0.336848   \n",
       "2571493866                  0.0             0.053341            0.224712   \n",
       "...                         ...                  ...                 ...   \n",
       "2911861962                  0.0             0.048561            0.214949   \n",
       "1378532629                  0.0             0.158249            0.364974   \n",
       "126984069                   0.0             0.000000            0.000000   \n",
       "2383025796                  0.0             0.076923            0.266469   \n",
       "933183398                   0.0             0.100463            0.300616   \n",
       "\n",
       "            favorite_count_entropy  retweet_count_mean  retweet_count_std  \\\n",
       "2353593986                1.609438            0.037879           0.190903   \n",
       "2358850842                1.791759            0.024793           0.155495   \n",
       "137959629                 0.000000            0.000000           0.000000   \n",
       "466124818                 5.231109            0.150035           1.326298   \n",
       "2571493866                5.267858            0.016772           0.142619   \n",
       "...                            ...                 ...                ...   \n",
       "2911861962                3.988984            5.794964           8.916038   \n",
       "1378532629                5.796058            1.758538           5.593268   \n",
       "126984069                 0.000000            0.000000           0.000000   \n",
       "2383025796                2.079442            0.067308           0.286371   \n",
       "933183398                 5.910797            5.178601           7.977044   \n",
       "\n",
       "            retweet_count_entropy  \n",
       "2353593986               1.609438  \n",
       "2358850842               1.098612  \n",
       "137959629                0.000000  \n",
       "466124818                3.554720  \n",
       "2571493866               3.965939  \n",
       "...                           ...  \n",
       "2911861962               5.822005  \n",
       "1378532629               5.261921  \n",
       "126984069                0.000000  \n",
       "2383025796               1.747868  \n",
       "933183398                7.156658  \n",
       "\n",
       "[11508 rows x 19 columns]>"
      ]
     },
     "execution_count": 5,
     "metadata": {},
     "output_type": "execute_result"
    }
   ],
   "source": [
    "users.info"
   ]
  },
  {
   "cell_type": "markdown",
   "id": "afc8b058",
   "metadata": {},
   "source": [
    "## avg_length"
   ]
  },
  {
   "cell_type": "code",
   "execution_count": 6,
   "id": "5a8a0950",
   "metadata": {},
   "outputs": [
    {
     "data": {
      "text/plain": [
       "60.000000    13\n",
       "57.000000     9\n",
       "50.000000     9\n",
       "64.000000     8\n",
       "71.000000     8\n",
       "             ..\n",
       "67.948148     1\n",
       "70.032680     1\n",
       "62.942529     1\n",
       "99.298701     1\n",
       "52.068064     1\n",
       "Name: avg_length, Length: 10794, dtype: int64"
      ]
     },
     "execution_count": 6,
     "metadata": {},
     "output_type": "execute_result"
    }
   ],
   "source": [
    "users.avg_length.value_counts()"
   ]
  },
  {
   "cell_type": "code",
   "execution_count": 7,
   "id": "16a61e00",
   "metadata": {},
   "outputs": [
    {
     "data": {
      "image/png": "[encoded data removed]",
      "text/plain": [
       "<Figure size 432x288 with 1 Axes>"
      ]
     },
     "metadata": {
      "needs_background": "light"
     },
     "output_type": "display_data"
    }
   ],
   "source": [
    "users.avg_length.hist()\n",
    "plt.show()"
   ]
  },
  {
   "cell_type": "code",
   "execution_count": 8,
   "id": "80835d1c",
   "metadata": {},
   "outputs": [
    {
     "data": {
      "text/plain": [
       "count    11508.000000\n",
       "mean        68.140132\n",
       "std         16.206471\n",
       "min          3.000000\n",
       "25%         59.398274\n",
       "50%         65.527658\n",
       "75%         77.422770\n",
       "max        245.000000\n",
       "Name: avg_length, dtype: float64"
      ]
     },
     "execution_count": 8,
     "metadata": {},
     "output_type": "execute_result"
    }
   ],
   "source": [
    "users.avg_length.describe()"
   ]
  },
  {
   "cell_type": "code",
   "execution_count": 9,
   "id": "f863bbd3",
   "metadata": {},
   "outputs": [
    {
     "data": {
      "text/plain": [
       "65.52765789965359"
      ]
     },
     "execution_count": 9,
     "metadata": {},
     "output_type": "execute_result"
    }
   ],
   "source": [
    "users.avg_length.median()"
   ]
  },
  {
   "cell_type": "code",
   "execution_count": 10,
   "id": "cb3033d8",
   "metadata": {},
   "outputs": [
    {
     "data": {
      "image/png": "[encoded data removed]",
      "text/plain": [
       "<Figure size 432x288 with 1 Axes>"
      ]
     },
     "metadata": {
      "needs_background": "light"
     },
     "output_type": "display_data"
    }
   ],
   "source": [
    "pd.DataFrame(users.avg_length).boxplot()\n",
    "plt.show()"
   ]
  },
  {
   "cell_type": "code",
   "execution_count": 11,
   "id": "f21cd1a0",
   "metadata": {},
   "outputs": [
    {
     "data": {
      "text/plain": [
       "<AxesSubplot:>"
      ]
     },
     "execution_count": 11,
     "metadata": {},
     "output_type": "execute_result"
    },
    {
     "data": {
      "image/png": "[encoded data removed]",
      "text/plain": [
       "<Figure size 432x288 with 1 Axes>"
      ]
     },
     "metadata": {
      "needs_background": "light"
     },
     "output_type": "display_data"
    }
   ],
   "source": [
    "log_feature = pd.Series(np.log(users.avg_length + 1))\n",
    "log_feature.hist()"
   ]
  },
  {
   "cell_type": "code",
   "execution_count": 12,
   "id": "82dbffc1",
   "metadata": {},
   "outputs": [
    {
     "data": {
      "image/png": "[encoded data removed]",
      "text/plain": [
       "<Figure size 432x288 with 1 Axes>"
      ]
     },
     "metadata": {
      "needs_background": "light"
     },
     "output_type": "display_data"
    }
   ],
   "source": [
    "pd.DataFrame(log_feature).boxplot()\n",
    "plt.show()"
   ]
  },
  {
   "cell_type": "markdown",
   "id": "e69be4f8",
   "metadata": {},
   "source": [
    "## avg_special_chars"
   ]
  },
  {
   "cell_type": "code",
   "execution_count": 13,
   "id": "43900ae0",
   "metadata": {},
   "outputs": [
    {
     "data": {
      "text/plain": [
       "13.000000    34\n",
       "14.000000    30\n",
       "15.000000    23\n",
       "12.000000    19\n",
       "14.666667    19\n",
       "             ..\n",
       "18.503876     1\n",
       "12.524872     1\n",
       "16.116667     1\n",
       "17.209358     1\n",
       "11.291587     1\n",
       "Name: avg_special_chars, Length: 9943, dtype: int64"
      ]
     },
     "execution_count": 13,
     "metadata": {},
     "output_type": "execute_result"
    }
   ],
   "source": [
    "users.avg_special_chars.value_counts()"
   ]
  },
  {
   "cell_type": "code",
   "execution_count": 14,
   "id": "47e44bd7",
   "metadata": {},
   "outputs": [
    {
     "data": {
      "image/png": "[encoded data removed]",
      "text/plain": [
       "<Figure size 432x288 with 1 Axes>"
      ]
     },
     "metadata": {
      "needs_background": "light"
     },
     "output_type": "display_data"
    }
   ],
   "source": [
    "users.avg_special_chars.hist()\n",
    "plt.show()"
   ]
  },
  {
   "cell_type": "code",
   "execution_count": 15,
   "id": "6fec8fdf",
   "metadata": {},
   "outputs": [
    {
     "data": {
      "text/plain": [
       "count    11508.000000\n",
       "mean        15.481021\n",
       "std          5.457811\n",
       "min          0.000000\n",
       "25%         13.181641\n",
       "50%         14.694363\n",
       "75%         17.228965\n",
       "max        149.000000\n",
       "Name: avg_special_chars, dtype: float64"
      ]
     },
     "execution_count": 15,
     "metadata": {},
     "output_type": "execute_result"
    }
   ],
   "source": [
    "users.avg_special_chars.describe() "
   ]
  },
  {
   "cell_type": "code",
   "execution_count": 16,
   "id": "fd7c4d7b",
   "metadata": {},
   "outputs": [
    {
     "data": {
      "text/plain": [
       "14.69436341242059"
      ]
     },
     "execution_count": 16,
     "metadata": {},
     "output_type": "execute_result"
    }
   ],
   "source": [
    "users.avg_special_chars.median()"
   ]
  },
  {
   "cell_type": "code",
   "execution_count": 17,
   "id": "519b33dd",
   "metadata": {},
   "outputs": [
    {
     "data": {
      "image/png": "[encoded data removed]",
      "text/plain": [
       "<Figure size 432x288 with 1 Axes>"
      ]
     },
     "metadata": {
      "needs_background": "light"
     },
     "output_type": "display_data"
    }
   ],
   "source": [
    "pd.DataFrame(users.avg_special_chars).boxplot()\n",
    "plt.show()"
   ]
  },
  {
   "cell_type": "code",
   "execution_count": 18,
   "id": "998831f2",
   "metadata": {},
   "outputs": [
    {
     "data": {
      "text/plain": [
       "<AxesSubplot:>"
      ]
     },
     "execution_count": 18,
     "metadata": {},
     "output_type": "execute_result"
    },
    {
     "data": {
      "image/png": "[encoded data removed]",
      "text/plain": [
       "<Figure size 432x288 with 1 Axes>"
      ]
     },
     "metadata": {
      "needs_background": "light"
     },
     "output_type": "display_data"
    }
   ],
   "source": [
    "log_feature = pd.Series(np.log(users.avg_special_chars + 1))\n",
    "log_feature.hist()"
   ]
  },
  {
   "cell_type": "code",
   "execution_count": 19,
   "id": "9a0e1ff2",
   "metadata": {},
   "outputs": [
    {
     "data": {
      "image/png": "[encoded data removed]",
      "text/plain": [
       "<Figure size 432x288 with 1 Axes>"
      ]
     },
     "metadata": {
      "needs_background": "light"
     },
     "output_type": "display_data"
    }
   ],
   "source": [
    "pd.DataFrame(log_feature).boxplot()\n",
    "plt.show()"
   ]
  },
  {
   "cell_type": "markdown",
   "id": "8ca212a9",
   "metadata": {},
   "source": [
    "## urls_ratio"
   ]
  },
  {
   "cell_type": "code",
   "execution_count": 20,
   "id": "2082f493",
   "metadata": {},
   "outputs": [
    {
     "data": {
      "text/plain": [
       "0.000000    10443\n",
       "1.000000      118\n",
       "0.000270        3\n",
       "0.000272        3\n",
       "0.000543        3\n",
       "            ...  \n",
       "0.000379        1\n",
       "0.001911        1\n",
       "0.000911        1\n",
       "0.000552        1\n",
       "0.001089        1\n",
       "Name: urls_ratio, Length: 889, dtype: int64"
      ]
     },
     "execution_count": 20,
     "metadata": {},
     "output_type": "execute_result"
    }
   ],
   "source": [
    "users.urls_ratio.value_counts()"
   ]
  },
  {
   "cell_type": "code",
   "execution_count": 21,
   "id": "8303c289",
   "metadata": {},
   "outputs": [
    {
     "data": {
      "text/plain": [
       "count    11508.000000\n",
       "mean         0.024076\n",
       "std          0.152771\n",
       "min          0.000000\n",
       "25%          0.000000\n",
       "50%          0.000000\n",
       "75%          0.000000\n",
       "max          1.000000\n",
       "Name: urls_ratio, dtype: float64"
      ]
     },
     "execution_count": 21,
     "metadata": {},
     "output_type": "execute_result"
    }
   ],
   "source": [
    "users.urls_ratio.describe()"
   ]
  },
  {
   "cell_type": "code",
   "execution_count": 22,
   "id": "bc9d05f2",
   "metadata": {},
   "outputs": [
    {
     "data": {
      "image/png": "[encoded data removed]",
      "text/plain": [
       "<Figure size 432x288 with 1 Axes>"
      ]
     },
     "metadata": {
      "needs_background": "light"
     },
     "output_type": "display_data"
    }
   ],
   "source": [
    "users.urls_ratio.hist()\n",
    "plt.show()"
   ]
  },
  {
   "cell_type": "code",
   "execution_count": 23,
   "id": "f1ab209a",
   "metadata": {},
   "outputs": [
    {
     "data": {
      "text/plain": [
       "0.0"
      ]
     },
     "execution_count": 23,
     "metadata": {},
     "output_type": "execute_result"
    }
   ],
   "source": [
    "users.urls_ratio.median()"
   ]
  },
  {
   "cell_type": "code",
   "execution_count": 24,
   "id": "f62ac76c",
   "metadata": {},
   "outputs": [
    {
     "data": {
      "image/png": "[encoded data removed]",
      "text/plain": [
       "<Figure size 432x288 with 1 Axes>"
      ]
     },
     "metadata": {
      "needs_background": "light"
     },
     "output_type": "display_data"
    }
   ],
   "source": [
    "pd.DataFrame(users.urls_ratio).boxplot()\n",
    "plt.show()"
   ]
  },
  {
   "cell_type": "code",
   "execution_count": 25,
   "id": "0cb908ce",
   "metadata": {},
   "outputs": [
    {
     "data": {
      "text/plain": [
       "<AxesSubplot:>"
      ]
     },
     "execution_count": 25,
     "metadata": {},
     "output_type": "execute_result"
    },
    {
     "data": {
      "image/png": "[encoded data removed]",
      "text/plain": [
       "<Figure size 432x288 with 1 Axes>"
      ]
     },
     "metadata": {
      "needs_background": "light"
     },
     "output_type": "display_data"
    }
   ],
   "source": [
    "log_feature = pd.Series(np.log(users.urls_ratio + 1))\n",
    "log_feature.hist()"
   ]
  },
  {
   "cell_type": "code",
   "execution_count": 26,
   "id": "da24c399",
   "metadata": {},
   "outputs": [
    {
     "data": {
      "image/png": "[encoded data removed]",
      "text/plain": [
       "<Figure size 432x288 with 1 Axes>"
      ]
     },
     "metadata": {
      "needs_background": "light"
     },
     "output_type": "display_data"
    }
   ],
   "source": [
    "pd.DataFrame(log_feature).boxplot()\n",
    "plt.show()"
   ]
  },
  {
   "cell_type": "markdown",
   "id": "241bca13",
   "metadata": {},
   "source": [
    "## mentions_ratio"
   ]
  },
  {
   "cell_type": "code",
   "execution_count": 27,
   "id": "918934cf",
   "metadata": {},
   "outputs": [
    {
     "data": {
      "text/plain": [
       "0.000000    2092\n",
       "0.333333     103\n",
       "1.000000      48\n",
       "0.285714      31\n",
       "0.250000      31\n",
       "            ... \n",
       "0.395683       1\n",
       "0.604666       1\n",
       "0.177862       1\n",
       "0.433684       1\n",
       "0.677375       1\n",
       "Name: mentions_ratio, Length: 5899, dtype: int64"
      ]
     },
     "execution_count": 27,
     "metadata": {},
     "output_type": "execute_result"
    }
   ],
   "source": [
    "users.mentions_ratio.value_counts()"
   ]
  },
  {
   "cell_type": "code",
   "execution_count": 28,
   "id": "6dac88eb",
   "metadata": {},
   "outputs": [
    {
     "data": {
      "image/png": "[encoded data removed]",
      "text/plain": [
       "<Figure size 432x288 with 1 Axes>"
      ]
     },
     "metadata": {
      "needs_background": "light"
     },
     "output_type": "display_data"
    }
   ],
   "source": [
    "users.mentions_ratio.hist()\n",
    "plt.show()"
   ]
  },
  {
   "cell_type": "code",
   "execution_count": 29,
   "id": "da49c480",
   "metadata": {},
   "outputs": [
    {
     "data": {
      "text/plain": [
       "count    11508.000000\n",
       "mean         0.300915\n",
       "std          0.272512\n",
       "min          0.000000\n",
       "25%          0.008011\n",
       "50%          0.300000\n",
       "75%          0.429529\n",
       "max          1.000000\n",
       "Name: mentions_ratio, dtype: float64"
      ]
     },
     "execution_count": 29,
     "metadata": {},
     "output_type": "execute_result"
    }
   ],
   "source": [
    "users.mentions_ratio.describe()"
   ]
  },
  {
   "cell_type": "code",
   "execution_count": 30,
   "id": "d70803ae",
   "metadata": {},
   "outputs": [
    {
     "data": {
      "text/plain": [
       "0.3"
      ]
     },
     "execution_count": 30,
     "metadata": {},
     "output_type": "execute_result"
    }
   ],
   "source": [
    "users.mentions_ratio.median()"
   ]
  },
  {
   "cell_type": "code",
   "execution_count": 31,
   "id": "7a7e0517",
   "metadata": {},
   "outputs": [
    {
     "data": {
      "image/png": "[encoded data removed]",
      "text/plain": [
       "<Figure size 432x288 with 1 Axes>"
      ]
     },
     "metadata": {
      "needs_background": "light"
     },
     "output_type": "display_data"
    }
   ],
   "source": [
    "pd.DataFrame(users.mentions_ratio).boxplot()\n",
    "plt.show()"
   ]
  },
  {
   "cell_type": "code",
   "execution_count": 32,
   "id": "e165480e",
   "metadata": {},
   "outputs": [
    {
     "data": {
      "text/plain": [
       "<AxesSubplot:>"
      ]
     },
     "execution_count": 32,
     "metadata": {},
     "output_type": "execute_result"
    },
    {
     "data": {
      "image/png": "[encoded data removed]",
      "text/plain": [
       "<Figure size 432x288 with 1 Axes>"
      ]
     },
     "metadata": {
      "needs_background": "light"
     },
     "output_type": "display_data"
    }
   ],
   "source": [
    "log_feature = pd.Series(np.log(users.mentions_ratio + 1))\n",
    "log_feature.hist()"
   ]
  },
  {
   "cell_type": "code",
   "execution_count": 33,
   "id": "f2569fe5",
   "metadata": {},
   "outputs": [
    {
     "data": {
      "image/png": "[encoded data removed]",
      "text/plain": [
       "<Figure size 432x288 with 1 Axes>"
      ]
     },
     "metadata": {
      "needs_background": "light"
     },
     "output_type": "display_data"
    }
   ],
   "source": [
    "pd.DataFrame(log_feature).boxplot()\n",
    "plt.show()"
   ]
  },
  {
   "cell_type": "markdown",
   "id": "d426a7ff",
   "metadata": {},
   "source": [
    "## hashtags_ratio"
   ]
  },
  {
   "cell_type": "code",
   "execution_count": 34,
   "id": "f9999d9c",
   "metadata": {},
   "outputs": [
    {
     "data": {
      "text/plain": [
       "0.000000    10898\n",
       "1.000000       57\n",
       "0.000270        3\n",
       "0.000273        3\n",
       "0.000538        3\n",
       "            ...  \n",
       "0.000314        1\n",
       "0.994812        1\n",
       "0.000591        1\n",
       "0.000512        1\n",
       "0.001473        1\n",
       "Name: hashtags_ratio, Length: 527, dtype: int64"
      ]
     },
     "execution_count": 34,
     "metadata": {},
     "output_type": "execute_result"
    }
   ],
   "source": [
    "users.hashtags_ratio.value_counts()"
   ]
  },
  {
   "cell_type": "code",
   "execution_count": 35,
   "id": "687c5abf",
   "metadata": {},
   "outputs": [
    {
     "data": {
      "image/png": "[encoded data removed]",
      "text/plain": [
       "<Figure size 432x288 with 1 Axes>"
      ]
     },
     "metadata": {
      "needs_background": "light"
     },
     "output_type": "display_data"
    }
   ],
   "source": [
    "users.hashtags_ratio.hist()\n",
    "plt.show()"
   ]
  },
  {
   "cell_type": "code",
   "execution_count": 36,
   "id": "5d13bcf3",
   "metadata": {},
   "outputs": [
    {
     "data": {
      "text/plain": [
       "count    11508.000000\n",
       "mean         0.010643\n",
       "std          0.102252\n",
       "min          0.000000\n",
       "25%          0.000000\n",
       "50%          0.000000\n",
       "75%          0.000000\n",
       "max          1.000000\n",
       "Name: hashtags_ratio, dtype: float64"
      ]
     },
     "execution_count": 36,
     "metadata": {},
     "output_type": "execute_result"
    }
   ],
   "source": [
    "users.hashtags_ratio.describe()"
   ]
  },
  {
   "cell_type": "code",
   "execution_count": 37,
   "id": "08ed3515",
   "metadata": {},
   "outputs": [
    {
     "data": {
      "text/plain": [
       "0.0"
      ]
     },
     "execution_count": 37,
     "metadata": {},
     "output_type": "execute_result"
    }
   ],
   "source": [
    "users.hashtags_ratio.median()"
   ]
  },
  {
   "cell_type": "code",
   "execution_count": 38,
   "id": "edaf76dd",
   "metadata": {},
   "outputs": [
    {
     "data": {
      "image/png": "[encoded data removed]",
      "text/plain": [
       "<Figure size 432x288 with 1 Axes>"
      ]
     },
     "metadata": {
      "needs_background": "light"
     },
     "output_type": "display_data"
    }
   ],
   "source": [
    "pd.DataFrame(users.hashtags_ratio).boxplot()\n",
    "plt.show()"
   ]
  },
  {
   "cell_type": "code",
   "execution_count": 39,
   "id": "98ef651c",
   "metadata": {},
   "outputs": [
    {
     "data": {
      "text/plain": [
       "<AxesSubplot:>"
      ]
     },
     "execution_count": 39,
     "metadata": {},
     "output_type": "execute_result"
    },
    {
     "data": {
      "image/png": "[encoded data removed]",
      "text/plain": [
       "<Figure size 432x288 with 1 Axes>"
      ]
     },
     "metadata": {
      "needs_background": "light"
     },
     "output_type": "display_data"
    }
   ],
   "source": [
    "log_feature = pd.Series(np.log(users.hashtags_ratio + 1))\n",
    "log_feature.hist()"
   ]
  },
  {
   "cell_type": "code",
   "execution_count": 40,
   "id": "36de4893",
   "metadata": {},
   "outputs": [
    {
     "data": {
      "image/png": "[encoded data removed]",
      "text/plain": [
       "<Figure size 432x288 with 1 Axes>"
      ]
     },
     "metadata": {
      "needs_background": "light"
     },
     "output_type": "display_data"
    }
   ],
   "source": [
    "pd.DataFrame(log_feature).boxplot()\n",
    "plt.show()"
   ]
  },
  {
   "cell_type": "markdown",
   "id": "cbcb9d20",
   "metadata": {},
   "source": [
    "## reply_count_mean"
   ]
  },
  {
   "cell_type": "code",
   "execution_count": 41,
   "id": "0645490b",
   "metadata": {},
   "outputs": [
    {
     "data": {
      "text/plain": [
       "0.000000    9200\n",
       "0.047619      58\n",
       "0.045455      49\n",
       "0.038462      48\n",
       "0.052632      46\n",
       "            ... \n",
       "0.000480       1\n",
       "0.272866       1\n",
       "0.045977       1\n",
       "0.000266       1\n",
       "0.000356       1\n",
       "Name: reply_count_mean, Length: 768, dtype: int64"
      ]
     },
     "execution_count": 41,
     "metadata": {},
     "output_type": "execute_result"
    }
   ],
   "source": [
    "users.reply_count_mean.value_counts()"
   ]
  },
  {
   "cell_type": "code",
   "execution_count": 42,
   "id": "a434c9d0",
   "metadata": {},
   "outputs": [
    {
     "data": {
      "image/png": "[encoded data removed]",
      "text/plain": [
       "<Figure size 432x288 with 1 Axes>"
      ]
     },
     "metadata": {
      "needs_background": "light"
     },
     "output_type": "display_data"
    }
   ],
   "source": [
    "users.reply_count_mean.hist()\n",
    "plt.show()"
   ]
  },
  {
   "cell_type": "code",
   "execution_count": 43,
   "id": "3fda253b",
   "metadata": {},
   "outputs": [
    {
     "data": {
      "text/plain": [
       "count    11508.000000\n",
       "mean         0.012086\n",
       "std          0.049561\n",
       "min          0.000000\n",
       "25%          0.000000\n",
       "50%          0.000000\n",
       "75%          0.000000\n",
       "max          1.000000\n",
       "Name: reply_count_mean, dtype: float64"
      ]
     },
     "execution_count": 43,
     "metadata": {},
     "output_type": "execute_result"
    }
   ],
   "source": [
    "users.reply_count_mean.describe()"
   ]
  },
  {
   "cell_type": "code",
   "execution_count": 44,
   "id": "ab843ffe",
   "metadata": {},
   "outputs": [
    {
     "data": {
      "text/plain": [
       "0.0"
      ]
     },
     "execution_count": 44,
     "metadata": {},
     "output_type": "execute_result"
    }
   ],
   "source": [
    "users.reply_count_mean.median()"
   ]
  },
  {
   "cell_type": "code",
   "execution_count": 45,
   "id": "70bb3a83",
   "metadata": {},
   "outputs": [
    {
     "data": {
      "image/png": "[encoded data removed]",
      "text/plain": [
       "<Figure size 432x288 with 1 Axes>"
      ]
     },
     "metadata": {
      "needs_background": "light"
     },
     "output_type": "display_data"
    }
   ],
   "source": [
    "pd.DataFrame(users.reply_count_mean).boxplot()\n",
    "plt.show()"
   ]
  },
  {
   "cell_type": "code",
   "execution_count": 46,
   "id": "acd8297b",
   "metadata": {},
   "outputs": [
    {
     "data": {
      "text/plain": [
       "<AxesSubplot:>"
      ]
     },
     "execution_count": 46,
     "metadata": {},
     "output_type": "execute_result"
    },
    {
     "data": {
      "image/png": "[encoded data removed]",
      "text/plain": [
       "<Figure size 432x288 with 1 Axes>"
      ]
     },
     "metadata": {
      "needs_background": "light"
     },
     "output_type": "display_data"
    }
   ],
   "source": [
    "log_feature = pd.Series(np.log(users.reply_count_mean + 1))\n",
    "log_feature.hist()"
   ]
  },
  {
   "cell_type": "code",
   "execution_count": 47,
   "id": "eba115a3",
   "metadata": {},
   "outputs": [
    {
     "data": {
      "image/png": "[encoded data removed]",
      "text/plain": [
       "<Figure size 432x288 with 1 Axes>"
      ]
     },
     "metadata": {
      "needs_background": "light"
     },
     "output_type": "display_data"
    }
   ],
   "source": [
    "pd.DataFrame(log_feature).boxplot()\n",
    "plt.show()"
   ]
  },
  {
   "cell_type": "markdown",
   "id": "78d48894",
   "metadata": {},
   "source": [
    "## reply_count_std"
   ]
  },
  {
   "cell_type": "code",
   "execution_count": 48,
   "id": "78e74c6d",
   "metadata": {},
   "outputs": [
    {
     "data": {
      "text/plain": [
       "0.000000    9208\n",
       "0.192308      48\n",
       "0.203931      45\n",
       "0.217945      44\n",
       "0.223297      43\n",
       "            ... \n",
       "0.463512       1\n",
       "0.023344       1\n",
       "0.029975       1\n",
       "0.369786       1\n",
       "0.018875       1\n",
       "Name: reply_count_std, Length: 810, dtype: int64"
      ]
     },
     "execution_count": 48,
     "metadata": {},
     "output_type": "execute_result"
    }
   ],
   "source": [
    "users.reply_count_std.value_counts()"
   ]
  },
  {
   "cell_type": "code",
   "execution_count": 49,
   "id": "4c40630f",
   "metadata": {},
   "outputs": [
    {
     "data": {
      "image/png": "[encoded data removed]",
      "text/plain": [
       "<Figure size 432x288 with 1 Axes>"
      ]
     },
     "metadata": {
      "needs_background": "light"
     },
     "output_type": "display_data"
    }
   ],
   "source": [
    "users.reply_count_std.hist()\n",
    "plt.show()"
   ]
  },
  {
   "cell_type": "code",
   "execution_count": 50,
   "id": "9e50590e",
   "metadata": {},
   "outputs": [
    {
     "data": {
      "text/plain": [
       "count    11508.000000\n",
       "mean         0.037437\n",
       "std          0.089906\n",
       "min          0.000000\n",
       "25%          0.000000\n",
       "50%          0.000000\n",
       "75%          0.000000\n",
       "max          0.500000\n",
       "Name: reply_count_std, dtype: float64"
      ]
     },
     "execution_count": 50,
     "metadata": {},
     "output_type": "execute_result"
    }
   ],
   "source": [
    "users.reply_count_std.describe()"
   ]
  },
  {
   "cell_type": "code",
   "execution_count": 51,
   "id": "5bf3ab93",
   "metadata": {},
   "outputs": [
    {
     "data": {
      "text/plain": [
       "0.0"
      ]
     },
     "execution_count": 51,
     "metadata": {},
     "output_type": "execute_result"
    }
   ],
   "source": [
    "users.reply_count_std.median()"
   ]
  },
  {
   "cell_type": "code",
   "execution_count": 52,
   "id": "aaee5389",
   "metadata": {},
   "outputs": [
    {
     "data": {
      "image/png": "[encoded data removed]",
      "text/plain": [
       "<Figure size 432x288 with 1 Axes>"
      ]
     },
     "metadata": {
      "needs_background": "light"
     },
     "output_type": "display_data"
    }
   ],
   "source": [
    "pd.DataFrame(users.reply_count_std).boxplot()\n",
    "plt.show()"
   ]
  },
  {
   "cell_type": "code",
   "execution_count": 53,
   "id": "19f79793",
   "metadata": {},
   "outputs": [
    {
     "data": {
      "text/plain": [
       "<AxesSubplot:>"
      ]
     },
     "execution_count": 53,
     "metadata": {},
     "output_type": "execute_result"
    },
    {
     "data": {
      "image/png": "[encoded data removed]",
      "text/plain": [
       "<Figure size 432x288 with 1 Axes>"
      ]
     },
     "metadata": {
      "needs_background": "light"
     },
     "output_type": "display_data"
    }
   ],
   "source": [
    "log_feature = pd.Series(np.log(users.reply_count_std + 1))\n",
    "log_feature.hist()"
   ]
  },
  {
   "cell_type": "code",
   "execution_count": 54,
   "id": "b468155c",
   "metadata": {},
   "outputs": [
    {
     "data": {
      "image/png": "[encoded data removed]",
      "text/plain": [
       "<Figure size 432x288 with 1 Axes>"
      ]
     },
     "metadata": {
      "needs_background": "light"
     },
     "output_type": "display_data"
    }
   ],
   "source": [
    "pd.DataFrame(log_feature).boxplot()\n",
    "plt.show()"
   ]
  },
  {
   "cell_type": "markdown",
   "id": "08208b85",
   "metadata": {},
   "source": [
    "## reply_count_entropy"
   ]
  },
  {
   "cell_type": "code",
   "execution_count": 55,
   "id": "ace83a5a",
   "metadata": {},
   "outputs": [
    {
     "data": {
      "text/plain": [
       "0.000000    10490\n",
       "0.693147      433\n",
       "1.098612      210\n",
       "1.386294      122\n",
       "1.609438       48\n",
       "            ...  \n",
       "4.691348        1\n",
       "3.784190        1\n",
       "4.330733        1\n",
       "3.332205        1\n",
       "4.094345        1\n",
       "Name: reply_count_entropy, Length: 98, dtype: int64"
      ]
     },
     "execution_count": 55,
     "metadata": {},
     "output_type": "execute_result"
    }
   ],
   "source": [
    "users.reply_count_entropy.value_counts()"
   ]
  },
  {
   "cell_type": "code",
   "execution_count": 56,
   "id": "214f2b34",
   "metadata": {},
   "outputs": [
    {
     "data": {
      "image/png": "[encoded data removed]",
      "text/plain": [
       "<Figure size 432x288 with 1 Axes>"
      ]
     },
     "metadata": {
      "needs_background": "light"
     },
     "output_type": "display_data"
    }
   ],
   "source": [
    "users.reply_count_entropy.hist()\n",
    "plt.show()"
   ]
  },
  {
   "cell_type": "code",
   "execution_count": 57,
   "id": "3c8e9bcd",
   "metadata": {},
   "outputs": [
    {
     "data": {
      "text/plain": [
       "count    11508.000000\n",
       "mean         0.123114\n",
       "std          0.506607\n",
       "min          0.000000\n",
       "25%          0.000000\n",
       "50%          0.000000\n",
       "75%          0.000000\n",
       "max          7.011214\n",
       "Name: reply_count_entropy, dtype: float64"
      ]
     },
     "execution_count": 57,
     "metadata": {},
     "output_type": "execute_result"
    }
   ],
   "source": [
    "users.reply_count_entropy.describe()"
   ]
  },
  {
   "cell_type": "code",
   "execution_count": 58,
   "id": "a7d55f8a",
   "metadata": {},
   "outputs": [
    {
     "data": {
      "text/plain": [
       "0.0"
      ]
     },
     "execution_count": 58,
     "metadata": {},
     "output_type": "execute_result"
    }
   ],
   "source": [
    "users.reply_count_entropy.median()"
   ]
  },
  {
   "cell_type": "code",
   "execution_count": 59,
   "id": "bf472199",
   "metadata": {},
   "outputs": [
    {
     "data": {
      "image/png": "[encoded data removed]",
      "text/plain": [
       "<Figure size 432x288 with 1 Axes>"
      ]
     },
     "metadata": {
      "needs_background": "light"
     },
     "output_type": "display_data"
    }
   ],
   "source": [
    "pd.DataFrame(users.reply_count_entropy).boxplot()\n",
    "plt.show()"
   ]
  },
  {
   "cell_type": "code",
   "execution_count": 60,
   "id": "4b52dd6b",
   "metadata": {},
   "outputs": [
    {
     "data": {
      "text/plain": [
       "<AxesSubplot:>"
      ]
     },
     "execution_count": 60,
     "metadata": {},
     "output_type": "execute_result"
    },
    {
     "data": {
      "image/png": "[encoded data removed]",
      "text/plain": [
       "<Figure size 432x288 with 1 Axes>"
      ]
     },
     "metadata": {
      "needs_background": "light"
     },
     "output_type": "display_data"
    }
   ],
   "source": [
    "log_feature = pd.Series(np.log(users.reply_count_entropy + 1))\n",
    "log_feature.hist()"
   ]
  },
  {
   "cell_type": "code",
   "execution_count": 61,
   "id": "f60a172a",
   "metadata": {},
   "outputs": [
    {
     "data": {
      "image/png": "[encoded data removed]",
      "text/plain": [
       "<Figure size 432x288 with 1 Axes>"
      ]
     },
     "metadata": {
      "needs_background": "light"
     },
     "output_type": "display_data"
    }
   ],
   "source": [
    "pd.DataFrame(log_feature).boxplot()\n",
    "plt.show()"
   ]
  },
  {
   "cell_type": "markdown",
   "id": "dcb90d57",
   "metadata": {},
   "source": [
    "## favorite_count_mean"
   ]
  },
  {
   "cell_type": "code",
   "execution_count": 62,
   "id": "3fc0e519",
   "metadata": {},
   "outputs": [
    {
     "data": {
      "text/plain": [
       "0.000000    1811\n",
       "0.052632      60\n",
       "0.055556      56\n",
       "0.043478      55\n",
       "0.037037      55\n",
       "            ... \n",
       "0.429572       1\n",
       "0.145669       1\n",
       "0.728134       1\n",
       "0.095588       1\n",
       "0.100463       1\n",
       "Name: favorite_count_mean, Length: 5561, dtype: int64"
      ]
     },
     "execution_count": 62,
     "metadata": {},
     "output_type": "execute_result"
    }
   ],
   "source": [
    "users.favorite_count_mean.value_counts()"
   ]
  },
  {
   "cell_type": "code",
   "execution_count": 63,
   "id": "10717c22",
   "metadata": {},
   "outputs": [
    {
     "data": {
      "image/png": "[encoded data removed]",
      "text/plain": [
       "<Figure size 432x288 with 1 Axes>"
      ]
     },
     "metadata": {
      "needs_background": "light"
     },
     "output_type": "display_data"
    }
   ],
   "source": [
    "users.favorite_count_mean.hist()\n",
    "plt.show()"
   ]
  },
  {
   "cell_type": "code",
   "execution_count": 64,
   "id": "b7f59087",
   "metadata": {},
   "outputs": [
    {
     "data": {
      "text/plain": [
       "count    11508.000000\n",
       "mean         0.109849\n",
       "std          0.162386\n",
       "min          0.000000\n",
       "25%          0.018546\n",
       "50%          0.049383\n",
       "75%          0.128832\n",
       "max          1.000000\n",
       "Name: favorite_count_mean, dtype: float64"
      ]
     },
     "execution_count": 64,
     "metadata": {},
     "output_type": "execute_result"
    }
   ],
   "source": [
    "users.favorite_count_mean.describe()"
   ]
  },
  {
   "cell_type": "code",
   "execution_count": 65,
   "id": "19e4d5d0",
   "metadata": {},
   "outputs": [
    {
     "data": {
      "text/plain": [
       "0.0493827160493827"
      ]
     },
     "execution_count": 65,
     "metadata": {},
     "output_type": "execute_result"
    }
   ],
   "source": [
    "users.favorite_count_mean.median()"
   ]
  },
  {
   "cell_type": "code",
   "execution_count": 66,
   "id": "a6659c04",
   "metadata": {},
   "outputs": [
    {
     "data": {
      "image/png": "[encoded data removed]",
      "text/plain": [
       "<Figure size 432x288 with 1 Axes>"
      ]
     },
     "metadata": {
      "needs_background": "light"
     },
     "output_type": "display_data"
    }
   ],
   "source": [
    "pd.DataFrame(users.favorite_count_mean).boxplot()\n",
    "plt.show()"
   ]
  },
  {
   "cell_type": "code",
   "execution_count": 67,
   "id": "792089e6",
   "metadata": {},
   "outputs": [
    {
     "data": {
      "text/plain": [
       "<AxesSubplot:>"
      ]
     },
     "execution_count": 67,
     "metadata": {},
     "output_type": "execute_result"
    },
    {
     "data": {
      "image/png": "[encoded data removed]",
      "text/plain": [
       "<Figure size 432x288 with 1 Axes>"
      ]
     },
     "metadata": {
      "needs_background": "light"
     },
     "output_type": "display_data"
    }
   ],
   "source": [
    "log_feature = pd.Series(np.log(users.favorite_count_mean + 1))\n",
    "log_feature.hist()"
   ]
  },
  {
   "cell_type": "code",
   "execution_count": 68,
   "id": "7af7d1d3",
   "metadata": {},
   "outputs": [
    {
     "data": {
      "image/png": "[encoded data removed]",
      "text/plain": [
       "<Figure size 432x288 with 1 Axes>"
      ]
     },
     "metadata": {
      "needs_background": "light"
     },
     "output_type": "display_data"
    }
   ],
   "source": [
    "pd.DataFrame(log_feature).boxplot()\n",
    "plt.show()"
   ]
  },
  {
   "cell_type": "markdown",
   "id": "f71058c1",
   "metadata": {},
   "source": [
    "## favorite_count_std"
   ]
  },
  {
   "cell_type": "code",
   "execution_count": 69,
   "id": "3d9a9a8e",
   "metadata": {},
   "outputs": [
    {
     "data": {
      "text/plain": [
       "0.000000    1822\n",
       "0.203931      55\n",
       "0.188853      55\n",
       "0.173993      49\n",
       "0.223297      46\n",
       "            ... \n",
       "0.216866       1\n",
       "0.369678       1\n",
       "0.391986       1\n",
       "0.160011       1\n",
       "0.300616       1\n",
       "Name: favorite_count_std, Length: 5735, dtype: int64"
      ]
     },
     "execution_count": 69,
     "metadata": {},
     "output_type": "execute_result"
    }
   ],
   "source": [
    "users.favorite_count_std.value_counts()"
   ]
  },
  {
   "cell_type": "code",
   "execution_count": 70,
   "id": "774febd1",
   "metadata": {},
   "outputs": [
    {
     "data": {
      "image/png": "[encoded data removed]",
      "text/plain": [
       "<Figure size 432x288 with 1 Axes>"
      ]
     },
     "metadata": {
      "needs_background": "light"
     },
     "output_type": "display_data"
    }
   ],
   "source": [
    "users.favorite_count_std.hist()\n",
    "plt.show()"
   ]
  },
  {
   "cell_type": "code",
   "execution_count": 71,
   "id": "6c6ab0d6",
   "metadata": {},
   "outputs": [
    {
     "data": {
      "text/plain": [
       "count    11508.000000\n",
       "mean         0.225117\n",
       "std          0.144011\n",
       "min          0.000000\n",
       "25%          0.134372\n",
       "50%          0.216244\n",
       "75%          0.332053\n",
       "max          0.500000\n",
       "Name: favorite_count_std, dtype: float64"
      ]
     },
     "execution_count": 71,
     "metadata": {},
     "output_type": "execute_result"
    }
   ],
   "source": [
    "users.favorite_count_std.describe()"
   ]
  },
  {
   "cell_type": "code",
   "execution_count": 72,
   "id": "53737b72",
   "metadata": {},
   "outputs": [
    {
     "data": {
      "text/plain": [
       "0.2162443599716871"
      ]
     },
     "execution_count": 72,
     "metadata": {},
     "output_type": "execute_result"
    }
   ],
   "source": [
    "users.favorite_count_std.median()"
   ]
  },
  {
   "cell_type": "code",
   "execution_count": 73,
   "id": "d2802f91",
   "metadata": {},
   "outputs": [
    {
     "data": {
      "image/png": "[encoded data removed]",
      "text/plain": [
       "<Figure size 432x288 with 1 Axes>"
      ]
     },
     "metadata": {
      "needs_background": "light"
     },
     "output_type": "display_data"
    }
   ],
   "source": [
    "pd.DataFrame(users.favorite_count_std).boxplot()\n",
    "plt.show()"
   ]
  },
  {
   "cell_type": "code",
   "execution_count": 74,
   "id": "66f851c0",
   "metadata": {},
   "outputs": [
    {
     "data": {
      "text/plain": [
       "<AxesSubplot:>"
      ]
     },
     "execution_count": 74,
     "metadata": {},
     "output_type": "execute_result"
    },
    {
     "data": {
      "image/png": "[encoded data removed]",
      "text/plain": [
       "<Figure size 432x288 with 1 Axes>"
      ]
     },
     "metadata": {
      "needs_background": "light"
     },
     "output_type": "display_data"
    }
   ],
   "source": [
    "log_feature = pd.Series(np.log(users.favorite_count_std + 1))\n",
    "log_feature.hist()"
   ]
  },
  {
   "cell_type": "code",
   "execution_count": 75,
   "id": "0a9dfff1",
   "metadata": {},
   "outputs": [
    {
     "data": {
      "image/png": "[encoded data removed]",
      "text/plain": [
       "<Figure size 432x288 with 1 Axes>"
      ]
     },
     "metadata": {
      "needs_background": "light"
     },
     "output_type": "display_data"
    }
   ],
   "source": [
    "pd.DataFrame(log_feature).boxplot()\n",
    "plt.show()"
   ]
  },
  {
   "cell_type": "markdown",
   "id": "a0555506",
   "metadata": {},
   "source": [
    "## favorite_count_entropy"
   ]
  },
  {
   "cell_type": "code",
   "execution_count": 76,
   "id": "ac6ee74e",
   "metadata": {},
   "outputs": [
    {
     "data": {
      "text/plain": [
       "0.000000    2637\n",
       "0.693147     597\n",
       "1.609438     583\n",
       "1.386294     530\n",
       "1.791759     498\n",
       "            ... \n",
       "6.783325       1\n",
       "6.405228       1\n",
       "5.332719       1\n",
       "6.964136       1\n",
       "5.796058       1\n",
       "Name: favorite_count_entropy, Length: 1750, dtype: int64"
      ]
     },
     "execution_count": 76,
     "metadata": {},
     "output_type": "execute_result"
    }
   ],
   "source": [
    "users.favorite_count_entropy.value_counts()"
   ]
  },
  {
   "cell_type": "code",
   "execution_count": 77,
   "id": "59c47726",
   "metadata": {},
   "outputs": [
    {
     "data": {
      "image/png": "[encoded data removed]",
      "text/plain": [
       "<Figure size 432x288 with 1 Axes>"
      ]
     },
     "metadata": {
      "needs_background": "light"
     },
     "output_type": "display_data"
    }
   ],
   "source": [
    "users.favorite_count_entropy.hist()\n",
    "plt.show()"
   ]
  },
  {
   "cell_type": "code",
   "execution_count": 78,
   "id": "f1e7a145",
   "metadata": {},
   "outputs": [
    {
     "data": {
      "text/plain": [
       "count    11508.000000\n",
       "mean         2.789305\n",
       "std          2.425707\n",
       "min          0.000000\n",
       "25%          0.693147\n",
       "50%          1.945910\n",
       "75%          5.241747\n",
       "max          8.207674\n",
       "Name: favorite_count_entropy, dtype: float64"
      ]
     },
     "execution_count": 78,
     "metadata": {},
     "output_type": "execute_result"
    }
   ],
   "source": [
    "users.favorite_count_entropy.describe()"
   ]
  },
  {
   "cell_type": "code",
   "execution_count": 79,
   "id": "a9dfefee",
   "metadata": {},
   "outputs": [
    {
     "data": {
      "text/plain": [
       "1.945910149055313"
      ]
     },
     "execution_count": 79,
     "metadata": {},
     "output_type": "execute_result"
    }
   ],
   "source": [
    "users.favorite_count_entropy.median()"
   ]
  },
  {
   "cell_type": "code",
   "execution_count": 80,
   "id": "867133ec",
   "metadata": {},
   "outputs": [
    {
     "data": {
      "image/png": "[encoded data removed]",
      "text/plain": [
       "<Figure size 432x288 with 1 Axes>"
      ]
     },
     "metadata": {
      "needs_background": "light"
     },
     "output_type": "display_data"
    }
   ],
   "source": [
    "pd.DataFrame(users.favorite_count_entropy).boxplot()\n",
    "plt.show()"
   ]
  },
  {
   "cell_type": "code",
   "execution_count": 81,
   "id": "dfd37d00",
   "metadata": {},
   "outputs": [
    {
     "data": {
      "text/plain": [
       "<AxesSubplot:>"
      ]
     },
     "execution_count": 81,
     "metadata": {},
     "output_type": "execute_result"
    },
    {
     "data": {
      "image/png": "[encoded data removed]",
      "text/plain": [
       "<Figure size 432x288 with 1 Axes>"
      ]
     },
     "metadata": {
      "needs_background": "light"
     },
     "output_type": "display_data"
    }
   ],
   "source": [
    "log_feature = pd.Series(np.log(users.favorite_count_entropy + 1))\n",
    "log_feature.hist()"
   ]
  },
  {
   "cell_type": "code",
   "execution_count": 82,
   "id": "e3000b80",
   "metadata": {},
   "outputs": [
    {
     "data": {
      "image/png": "[encoded data removed]",
      "text/plain": [
       "<Figure size 432x288 with 1 Axes>"
      ]
     },
     "metadata": {
      "needs_background": "light"
     },
     "output_type": "display_data"
    }
   ],
   "source": [
    "pd.DataFrame(log_feature).boxplot()\n",
    "plt.show()"
   ]
  },
  {
   "cell_type": "markdown",
   "id": "5676c0c7",
   "metadata": {},
   "source": [
    "## retweet_count_mean"
   ]
  },
  {
   "cell_type": "code",
   "execution_count": 83,
   "id": "8d48f41c",
   "metadata": {},
   "outputs": [
    {
     "data": {
      "text/plain": [
       "0.000000    1688\n",
       "0.027778      33\n",
       "0.043478      33\n",
       "0.050000      32\n",
       "0.040000      32\n",
       "            ... \n",
       "3.355828       1\n",
       "0.396667       1\n",
       "4.336154       1\n",
       "1.944860       1\n",
       "5.178601       1\n",
       "Name: retweet_count_mean, Length: 6226, dtype: int64"
      ]
     },
     "execution_count": 83,
     "metadata": {},
     "output_type": "execute_result"
    }
   ],
   "source": [
    "users.retweet_count_mean.value_counts()"
   ]
  },
  {
   "cell_type": "code",
   "execution_count": 84,
   "id": "db3c2465",
   "metadata": {},
   "outputs": [
    {
     "data": {
      "image/png": "[encoded data removed]",
      "text/plain": [
       "<Figure size 432x288 with 1 Axes>"
      ]
     },
     "metadata": {
      "needs_background": "light"
     },
     "output_type": "display_data"
    }
   ],
   "source": [
    "users.retweet_count_mean.hist()\n",
    "plt.show()"
   ]
  },
  {
   "cell_type": "code",
   "execution_count": 85,
   "id": "efa4e920",
   "metadata": {},
   "outputs": [
    {
     "data": {
      "text/plain": [
       "count    11508.000000\n",
       "mean         1.376192\n",
       "std          2.562015\n",
       "min          0.000000\n",
       "25%          0.021978\n",
       "50%          0.089358\n",
       "75%          1.582062\n",
       "max         20.000000\n",
       "Name: retweet_count_mean, dtype: float64"
      ]
     },
     "execution_count": 85,
     "metadata": {},
     "output_type": "execute_result"
    }
   ],
   "source": [
    "users.retweet_count_mean.describe()"
   ]
  },
  {
   "cell_type": "code",
   "execution_count": 86,
   "id": "d386bce6",
   "metadata": {},
   "outputs": [
    {
     "data": {
      "text/plain": [
       "0.0893583042973286"
      ]
     },
     "execution_count": 86,
     "metadata": {},
     "output_type": "execute_result"
    }
   ],
   "source": [
    "users.retweet_count_mean.median()"
   ]
  },
  {
   "cell_type": "code",
   "execution_count": 87,
   "id": "abdcd608",
   "metadata": {},
   "outputs": [
    {
     "data": {
      "image/png": "[encoded data removed]",
      "text/plain": [
       "<Figure size 432x288 with 1 Axes>"
      ]
     },
     "metadata": {
      "needs_background": "light"
     },
     "output_type": "display_data"
    }
   ],
   "source": [
    "pd.DataFrame(users.retweet_count_mean).boxplot()\n",
    "plt.show()"
   ]
  },
  {
   "cell_type": "code",
   "execution_count": 88,
   "id": "166fe0a2",
   "metadata": {},
   "outputs": [
    {
     "data": {
      "text/plain": [
       "<AxesSubplot:>"
      ]
     },
     "execution_count": 88,
     "metadata": {},
     "output_type": "execute_result"
    },
    {
     "data": {
      "image/png": "[encoded data removed]",
      "text/plain": [
       "<Figure size 432x288 with 1 Axes>"
      ]
     },
     "metadata": {
      "needs_background": "light"
     },
     "output_type": "display_data"
    }
   ],
   "source": [
    "log_feature = pd.Series(np.log(users.retweet_count_mean + 1))\n",
    "log_feature.hist()"
   ]
  },
  {
   "cell_type": "code",
   "execution_count": 89,
   "id": "e0ab0fc9",
   "metadata": {},
   "outputs": [
    {
     "data": {
      "image/png": "[encoded data removed]",
      "text/plain": [
       "<Figure size 432x288 with 1 Axes>"
      ]
     },
     "metadata": {
      "needs_background": "light"
     },
     "output_type": "display_data"
    }
   ],
   "source": [
    "pd.DataFrame(log_feature).boxplot()\n",
    "plt.show()"
   ]
  },
  {
   "cell_type": "markdown",
   "id": "e2632b2f",
   "metadata": {},
   "source": [
    "## retweet_count_std"
   ]
  },
  {
   "cell_type": "code",
   "execution_count": 90,
   "id": "a66eff48",
   "metadata": {},
   "outputs": [
    {
     "data": {
      "text/plain": [
       "0.000000    1701\n",
       "0.199826      30\n",
       "0.203931      29\n",
       "0.173993      28\n",
       "0.164336      28\n",
       "            ... \n",
       "8.659257       1\n",
       "5.318464       1\n",
       "7.314957       1\n",
       "6.954452       1\n",
       "7.977044       1\n",
       "Name: retweet_count_std, Length: 7002, dtype: int64"
      ]
     },
     "execution_count": 90,
     "metadata": {},
     "output_type": "execute_result"
    }
   ],
   "source": [
    "users.retweet_count_std.value_counts()"
   ]
  },
  {
   "cell_type": "code",
   "execution_count": 91,
   "id": "560a5b9c",
   "metadata": {},
   "outputs": [
    {
     "data": {
      "image/png": "[encoded data removed]",
      "text/plain": [
       "<Figure size 432x288 with 1 Axes>"
      ]
     },
     "metadata": {
      "needs_background": "light"
     },
     "output_type": "display_data"
    }
   ],
   "source": [
    "users.retweet_count_std.hist()\n",
    "plt.show()"
   ]
  },
  {
   "cell_type": "code",
   "execution_count": 92,
   "id": "4aaeeae4",
   "metadata": {},
   "outputs": [
    {
     "data": {
      "text/plain": [
       "count    11508.000000\n",
       "mean         2.547390\n",
       "std          3.044160\n",
       "min          0.000000\n",
       "25%          0.153348\n",
       "50%          0.400000\n",
       "75%          4.845366\n",
       "max         10.000000\n",
       "Name: retweet_count_std, dtype: float64"
      ]
     },
     "execution_count": 92,
     "metadata": {},
     "output_type": "execute_result"
    }
   ],
   "source": [
    "users.retweet_count_std.describe()"
   ]
  },
  {
   "cell_type": "code",
   "execution_count": 93,
   "id": "74ccf250",
   "metadata": {},
   "outputs": [
    {
     "data": {
      "text/plain": [
       "0.4"
      ]
     },
     "execution_count": 93,
     "metadata": {},
     "output_type": "execute_result"
    }
   ],
   "source": [
    "users.retweet_count_std.median()"
   ]
  },
  {
   "cell_type": "code",
   "execution_count": 94,
   "id": "e900c6e5",
   "metadata": {},
   "outputs": [
    {
     "data": {
      "image/png": "[encoded data removed]",
      "text/plain": [
       "<Figure size 432x288 with 1 Axes>"
      ]
     },
     "metadata": {
      "needs_background": "light"
     },
     "output_type": "display_data"
    }
   ],
   "source": [
    "pd.DataFrame(users.retweet_count_std).boxplot()\n",
    "plt.show()"
   ]
  },
  {
   "cell_type": "code",
   "execution_count": 95,
   "id": "86c63e0f",
   "metadata": {},
   "outputs": [
    {
     "data": {
      "text/plain": [
       "<AxesSubplot:>"
      ]
     },
     "execution_count": 95,
     "metadata": {},
     "output_type": "execute_result"
    },
    {
     "data": {
      "image/png": "[encoded data removed]",
      "text/plain": [
       "<Figure size 432x288 with 1 Axes>"
      ]
     },
     "metadata": {
      "needs_background": "light"
     },
     "output_type": "display_data"
    }
   ],
   "source": [
    "log_feature = pd.Series(np.log(users.retweet_count_std + 1))\n",
    "log_feature.hist()"
   ]
  },
  {
   "cell_type": "code",
   "execution_count": 96,
   "id": "c2ba2996",
   "metadata": {},
   "outputs": [
    {
     "data": {
      "image/png": "[encoded data removed]",
      "text/plain": [
       "<Figure size 432x288 with 1 Axes>"
      ]
     },
     "metadata": {
      "needs_background": "light"
     },
     "output_type": "display_data"
    }
   ],
   "source": [
    "pd.DataFrame(log_feature).boxplot()\n",
    "plt.show()"
   ]
  },
  {
   "cell_type": "markdown",
   "id": "10601e27",
   "metadata": {},
   "source": [
    "## reply_count_mean"
   ]
  },
  {
   "cell_type": "code",
   "execution_count": 97,
   "id": "6a6943d2",
   "metadata": {},
   "outputs": [
    {
     "data": {
      "text/plain": [
       "0.000000    9200\n",
       "0.047619      58\n",
       "0.045455      49\n",
       "0.038462      48\n",
       "0.052632      46\n",
       "            ... \n",
       "0.000480       1\n",
       "0.272866       1\n",
       "0.045977       1\n",
       "0.000266       1\n",
       "0.000356       1\n",
       "Name: reply_count_mean, Length: 768, dtype: int64"
      ]
     },
     "execution_count": 97,
     "metadata": {},
     "output_type": "execute_result"
    }
   ],
   "source": [
    "users.reply_count_mean.value_counts()"
   ]
  },
  {
   "cell_type": "code",
   "execution_count": 98,
   "id": "3122cc26",
   "metadata": {},
   "outputs": [
    {
     "data": {
      "image/png": "[encoded data removed]",
      "text/plain": [
       "<Figure size 432x288 with 1 Axes>"
      ]
     },
     "metadata": {
      "needs_background": "light"
     },
     "output_type": "display_data"
    }
   ],
   "source": [
    "users.reply_count_mean.hist()\n",
    "plt.show()"
   ]
  },
  {
   "cell_type": "code",
   "execution_count": 99,
   "id": "c48767a7",
   "metadata": {},
   "outputs": [
    {
     "data": {
      "text/plain": [
       "count    11508.000000\n",
       "mean         0.012086\n",
       "std          0.049561\n",
       "min          0.000000\n",
       "25%          0.000000\n",
       "50%          0.000000\n",
       "75%          0.000000\n",
       "max          1.000000\n",
       "Name: reply_count_mean, dtype: float64"
      ]
     },
     "execution_count": 99,
     "metadata": {},
     "output_type": "execute_result"
    }
   ],
   "source": [
    "users.reply_count_mean.describe()"
   ]
  },
  {
   "cell_type": "code",
   "execution_count": 100,
   "id": "ef3d3e44",
   "metadata": {},
   "outputs": [
    {
     "data": {
      "text/plain": [
       "0.0"
      ]
     },
     "execution_count": 100,
     "metadata": {},
     "output_type": "execute_result"
    }
   ],
   "source": [
    "users.reply_count_mean.median()"
   ]
  },
  {
   "cell_type": "code",
   "execution_count": 101,
   "id": "bf3bef03",
   "metadata": {},
   "outputs": [
    {
     "data": {
      "image/png": "[encoded data removed]",
      "text/plain": [
       "<Figure size 432x288 with 1 Axes>"
      ]
     },
     "metadata": {
      "needs_background": "light"
     },
     "output_type": "display_data"
    }
   ],
   "source": [
    "pd.DataFrame(users.reply_count_mean).boxplot()\n",
    "plt.show()"
   ]
  },
  {
   "cell_type": "code",
   "execution_count": 102,
   "id": "3d27bf7c",
   "metadata": {},
   "outputs": [
    {
     "data": {
      "text/plain": [
       "<AxesSubplot:>"
      ]
     },
     "execution_count": 102,
     "metadata": {},
     "output_type": "execute_result"
    },
    {
     "data": {
      "image/png": "[encoded data removed]",
      "text/plain": [
       "<Figure size 432x288 with 1 Axes>"
      ]
     },
     "metadata": {
      "needs_background": "light"
     },
     "output_type": "display_data"
    }
   ],
   "source": [
    "log_feature = pd.Series(np.log(users.reply_count_mean + 1))\n",
    "log_feature.hist()"
   ]
  },
  {
   "cell_type": "code",
   "execution_count": 103,
   "id": "cd84a581",
   "metadata": {},
   "outputs": [
    {
     "data": {
      "image/png": "[encoded data removed]",
      "text/plain": [
       "<Figure size 432x288 with 1 Axes>"
      ]
     },
     "metadata": {
      "needs_background": "light"
     },
     "output_type": "display_data"
    }
   ],
   "source": [
    "pd.DataFrame(log_feature).boxplot()\n",
    "plt.show()"
   ]
  },
  {
   "cell_type": "markdown",
   "id": "2c2c2961",
   "metadata": {},
   "source": [
    "## retweet_count_entropy"
   ]
  },
  {
   "cell_type": "code",
   "execution_count": 104,
   "id": "e1c17a31",
   "metadata": {},
   "outputs": [
    {
     "data": {
      "text/plain": [
       "0.000000    2561\n",
       "0.693147     641\n",
       "1.098612     509\n",
       "1.386294     476\n",
       "1.609438     393\n",
       "            ... \n",
       "5.716928       1\n",
       "3.969862       1\n",
       "4.629015       1\n",
       "6.137590       1\n",
       "7.156658       1\n",
       "Name: retweet_count_entropy, Length: 4968, dtype: int64"
      ]
     },
     "execution_count": 104,
     "metadata": {},
     "output_type": "execute_result"
    }
   ],
   "source": [
    "users.retweet_count_entropy.value_counts()"
   ]
  },
  {
   "cell_type": "code",
   "execution_count": 105,
   "id": "fe2549e3",
   "metadata": {},
   "outputs": [
    {
     "data": {
      "image/png": "[encoded data removed]",
      "text/plain": [
       "<Figure size 432x288 with 1 Axes>"
      ]
     },
     "metadata": {
      "needs_background": "light"
     },
     "output_type": "display_data"
    }
   ],
   "source": [
    "users.retweet_count_entropy.hist()\n",
    "plt.show()"
   ]
  },
  {
   "cell_type": "code",
   "execution_count": 106,
   "id": "f68c8e30",
   "metadata": {},
   "outputs": [
    {
     "data": {
      "text/plain": [
       "count    11508.000000\n",
       "mean         2.725283\n",
       "std          2.465725\n",
       "min          0.000000\n",
       "25%          0.693147\n",
       "50%          1.791759\n",
       "75%          5.189528\n",
       "max          8.188358\n",
       "Name: retweet_count_entropy, dtype: float64"
      ]
     },
     "execution_count": 106,
     "metadata": {},
     "output_type": "execute_result"
    }
   ],
   "source": [
    "users.retweet_count_entropy.describe()"
   ]
  },
  {
   "cell_type": "code",
   "execution_count": 107,
   "id": "8779d07b",
   "metadata": {},
   "outputs": [
    {
     "data": {
      "text/plain": [
       "1.791759469228055"
      ]
     },
     "execution_count": 107,
     "metadata": {},
     "output_type": "execute_result"
    }
   ],
   "source": [
    "users.retweet_count_entropy.median()"
   ]
  },
  {
   "cell_type": "code",
   "execution_count": 108,
   "id": "2696d05e",
   "metadata": {},
   "outputs": [
    {
     "data": {
      "image/png": "[encoded data removed]",
      "text/plain": [
       "<Figure size 432x288 with 1 Axes>"
      ]
     },
     "metadata": {
      "needs_background": "light"
     },
     "output_type": "display_data"
    }
   ],
   "source": [
    "pd.DataFrame(users.retweet_count_entropy).boxplot()\n",
    "plt.show()"
   ]
  },
  {
   "cell_type": "code",
   "execution_count": 109,
   "id": "447a405e",
   "metadata": {},
   "outputs": [
    {
     "data": {
      "text/plain": [
       "<AxesSubplot:>"
      ]
     },
     "execution_count": 109,
     "metadata": {},
     "output_type": "execute_result"
    },
    {
     "data": {
      "image/png": "[encoded data removed]",
      "text/plain": [
       "<Figure size 432x288 with 1 Axes>"
      ]
     },
     "metadata": {
      "needs_background": "light"
     },
     "output_type": "display_data"
    }
   ],
   "source": [
    "log_feature = pd.Series(np.log(users.retweet_count_entropy + 1))\n",
    "log_feature.hist()"
   ]
  },
  {
   "cell_type": "code",
   "execution_count": 110,
   "id": "4dc6b0b5",
   "metadata": {},
   "outputs": [
    {
     "data": {
      "image/png": "[encoded data removed]",
      "text/plain": [
       "<Figure size 432x288 with 1 Axes>"
      ]
     },
     "metadata": {
      "needs_background": "light"
     },
     "output_type": "display_data"
    }
   ],
   "source": [
    "pd.DataFrame(log_feature).boxplot()\n",
    "plt.show()"
   ]
  },
  {
   "cell_type": "code",
   "execution_count": null,
   "id": "51113f17",
   "metadata": {},
   "outputs": [],
   "source": []
  }
 ],
 "metadata": {
  "kernelspec": {
   "display_name": "Python 3.10.0 64-bit ('ENV_QISKIT': conda)",
   "language": "python",
   "name": "python3100jvsc74a57bd0c5e87bfbfa3c90e89cf1f4538ec67e797b427a447b5e3952a28879be8e41eafe"
  },
  "language_info": {
   "codemirror_mode": {
    "name": "ipython",
    "version": 3
   },
   "file_extension": ".py",
   "mimetype": "text/x-python",
   "name": "python",
   "nbconvert_exporter": "python",
   "pygments_lexer": "ipython3",
   "version": "3.10.0"
  }
 },
 "nbformat": 4,
 "nbformat_minor": 5
}
