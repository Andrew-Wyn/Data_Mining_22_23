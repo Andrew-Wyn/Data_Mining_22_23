{
 "cells": [
  {
   "cell_type": "markdown",
   "id": "c706313f",
   "metadata": {
    "id": "c706313f"
   },
   "source": [
    "# Data Understanding"
   ]
  },
  {
   "cell_type": "code",
   "execution_count": 2,
   "id": "1338928a",
   "metadata": {
    "id": "1338928a"
   },
   "outputs": [],
   "source": [
    "import re\n",
    "import scipy\n",
    "import numpy as np\n",
    "import pandas as pd\n",
    "import matplotlib.pyplot as plt\n",
    "\n",
    "from sklearn.preprocessing import StandardScaler"
   ]
  },
  {
   "cell_type": "code",
   "execution_count": 3,
   "id": "e014fb30",
   "metadata": {
    "id": "e014fb30"
   },
   "outputs": [],
   "source": [
    "users = pd.read_csv(\"dataset/users.csv\", index_col=0)"
   ]
  },
  {
   "cell_type": "code",
   "execution_count": 4,
   "id": "064706bf",
   "metadata": {
    "colab": {
     "base_uri": "https://localhost:8080/",
     "height": 238
    },
    "id": "064706bf",
    "outputId": "1b9857e1-8e6a-405d-94d8-77d897c4a1b7"
   },
   "outputs": [
    {
     "data": {
      "text/html": [
       "\n",
       "  <div id=\"df-6ee26532-c2e2-4dad-9fae-fc79ac65c4ff\">\n",
       "    <div class=\"colab-df-container\">\n",
       "      <div>\n",
       "<style scoped>\n",
       "    .dataframe tbody tr th:only-of-type {\n",
       "        vertical-align: middle;\n",
       "    }\n",
       "\n",
       "    .dataframe tbody tr th {\n",
       "        vertical-align: top;\n",
       "    }\n",
       "\n",
       "    .dataframe thead th {\n",
       "        text-align: right;\n",
       "    }\n",
       "</style>\n",
       "<table border=\"1\" class=\"dataframe\">\n",
       "  <thead>\n",
       "    <tr style=\"text-align: right;\">\n",
       "      <th></th>\n",
       "      <th>name</th>\n",
       "      <th>lang</th>\n",
       "      <th>bot</th>\n",
       "      <th>created_at</th>\n",
       "      <th>statuses_count</th>\n",
       "    </tr>\n",
       "    <tr>\n",
       "      <th>id</th>\n",
       "      <th></th>\n",
       "      <th></th>\n",
       "      <th></th>\n",
       "      <th></th>\n",
       "      <th></th>\n",
       "    </tr>\n",
       "  </thead>\n",
       "  <tbody>\n",
       "    <tr>\n",
       "      <th>2353593986</th>\n",
       "      <td>Lamonica Raborn</td>\n",
       "      <td>en</td>\n",
       "      <td>1</td>\n",
       "      <td>2019-02-22 18:00:42</td>\n",
       "      <td>76.0</td>\n",
       "    </tr>\n",
       "    <tr>\n",
       "      <th>2358850842</th>\n",
       "      <td>Lourie Botton</td>\n",
       "      <td>en</td>\n",
       "      <td>0</td>\n",
       "      <td>2019-02-26 03:02:32</td>\n",
       "      <td>54.0</td>\n",
       "    </tr>\n",
       "    <tr>\n",
       "      <th>137959629</th>\n",
       "      <td>Dadan Syarifudin</td>\n",
       "      <td>en</td>\n",
       "      <td>1</td>\n",
       "      <td>2015-04-30 07:09:56</td>\n",
       "      <td>3.0</td>\n",
       "    </tr>\n",
       "    <tr>\n",
       "      <th>466124818</th>\n",
       "      <td>Carletto Focia</td>\n",
       "      <td>it</td>\n",
       "      <td>1</td>\n",
       "      <td>2017-01-18 02:49:18</td>\n",
       "      <td>50.0</td>\n",
       "    </tr>\n",
       "    <tr>\n",
       "      <th>2571493866</th>\n",
       "      <td>MBK Ebook</td>\n",
       "      <td>en</td>\n",
       "      <td>0</td>\n",
       "      <td>2019-06-18 19:30:21</td>\n",
       "      <td>7085.0</td>\n",
       "    </tr>\n",
       "  </tbody>\n",
       "</table>\n",
       "</div>\n",
       "      <button class=\"colab-df-convert\" onclick=\"convertToInteractive('df-6ee26532-c2e2-4dad-9fae-fc79ac65c4ff')\"\n",
       "              title=\"Convert this dataframe to an interactive table.\"\n",
       "              style=\"display:none;\">\n",
       "        \n",
       "  <svg xmlns=\"http://www.w3.org/2000/svg\" height=\"24px\"viewBox=\"0 0 24 24\"\n",
       "       width=\"24px\">\n",
       "    <path d=\"M0 0h24v24H0V0z\" fill=\"none\"/>\n",
       "    <path d=\"M18.56 5.44l.94 2.06.94-2.06 2.06-.94-2.06-.94-.94-2.06-.94 2.06-2.06.94zm-11 1L8.5 8.5l.94-2.06 2.06-.94-2.06-.94L8.5 2.5l-.94 2.06-2.06.94zm10 10l.94 2.06.94-2.06 2.06-.94-2.06-.94-.94-2.06-.94 2.06-2.06.94z\"/><path d=\"M17.41 7.96l-1.37-1.37c-.4-.4-.92-.59-1.43-.59-.52 0-1.04.2-1.43.59L10.3 9.45l-7.72 7.72c-.78.78-.78 2.05 0 2.83L4 21.41c.39.39.9.59 1.41.59.51 0 1.02-.2 1.41-.59l7.78-7.78 2.81-2.81c.8-.78.8-2.07 0-2.86zM5.41 20L4 18.59l7.72-7.72 1.47 1.35L5.41 20z\"/>\n",
       "  </svg>\n",
       "      </button>\n",
       "      \n",
       "  <style>\n",
       "    .colab-df-container {\n",
       "      display:flex;\n",
       "      flex-wrap:wrap;\n",
       "      gap: 12px;\n",
       "    }\n",
       "\n",
       "    .colab-df-convert {\n",
       "      background-color: #E8F0FE;\n",
       "      border: none;\n",
       "      border-radius: 50%;\n",
       "      cursor: pointer;\n",
       "      display: none;\n",
       "      fill: #1967D2;\n",
       "      height: 32px;\n",
       "      padding: 0 0 0 0;\n",
       "      width: 32px;\n",
       "    }\n",
       "\n",
       "    .colab-df-convert:hover {\n",
       "      background-color: #E2EBFA;\n",
       "      box-shadow: 0px 1px 2px rgba(60, 64, 67, 0.3), 0px 1px 3px 1px rgba(60, 64, 67, 0.15);\n",
       "      fill: #174EA6;\n",
       "    }\n",
       "\n",
       "    [theme=dark] .colab-df-convert {\n",
       "      background-color: #3B4455;\n",
       "      fill: #D2E3FC;\n",
       "    }\n",
       "\n",
       "    [theme=dark] .colab-df-convert:hover {\n",
       "      background-color: #434B5C;\n",
       "      box-shadow: 0px 1px 3px 1px rgba(0, 0, 0, 0.15);\n",
       "      filter: drop-shadow(0px 1px 2px rgba(0, 0, 0, 0.3));\n",
       "      fill: #FFFFFF;\n",
       "    }\n",
       "  </style>\n",
       "\n",
       "      <script>\n",
       "        const buttonEl =\n",
       "          document.querySelector('#df-6ee26532-c2e2-4dad-9fae-fc79ac65c4ff button.colab-df-convert');\n",
       "        buttonEl.style.display =\n",
       "          google.colab.kernel.accessAllowed ? 'block' : 'none';\n",
       "\n",
       "        async function convertToInteractive(key) {\n",
       "          const element = document.querySelector('#df-6ee26532-c2e2-4dad-9fae-fc79ac65c4ff');\n",
       "          const dataTable =\n",
       "            await google.colab.kernel.invokeFunction('convertToInteractive',\n",
       "                                                     [key], {});\n",
       "          if (!dataTable) return;\n",
       "\n",
       "          const docLinkHtml = 'Like what you see? Visit the ' +\n",
       "            '<a target=\"_blank\" href=https://colab.research.google.com/notebooks/data_table.ipynb>data table notebook</a>'\n",
       "            + ' to learn more about interactive tables.';\n",
       "          element.innerHTML = '';\n",
       "          dataTable['output_type'] = 'display_data';\n",
       "          await google.colab.output.renderOutput(dataTable, element);\n",
       "          const docLink = document.createElement('div');\n",
       "          docLink.innerHTML = docLinkHtml;\n",
       "          element.appendChild(docLink);\n",
       "        }\n",
       "      </script>\n",
       "    </div>\n",
       "  </div>\n",
       "  "
      ],
      "text/plain": [
       "                        name lang  bot           created_at  statuses_count\n",
       "id                                                                         \n",
       "2353593986   Lamonica Raborn   en    1  2019-02-22 18:00:42            76.0\n",
       "2358850842     Lourie Botton   en    0  2019-02-26 03:02:32            54.0\n",
       "137959629   Dadan Syarifudin   en    1  2015-04-30 07:09:56             3.0\n",
       "466124818     Carletto Focia   it    1  2017-01-18 02:49:18            50.0\n",
       "2571493866         MBK Ebook   en    0  2019-06-18 19:30:21          7085.0"
      ]
     },
     "execution_count": 4,
     "metadata": {},
     "output_type": "execute_result"
    }
   ],
   "source": [
    "users.head()"
   ]
  },
  {
   "cell_type": "code",
   "execution_count": 5,
   "id": "4d71c683",
   "metadata": {
    "colab": {
     "base_uri": "https://localhost:8080/"
    },
    "id": "4d71c683",
    "outputId": "e80757b8-4329-422f-dc4c-79ef3b8fd546"
   },
   "outputs": [
    {
     "data": {
      "text/plain": [
       "(11508, 5)"
      ]
     },
     "execution_count": 5,
     "metadata": {},
     "output_type": "execute_result"
    }
   ],
   "source": [
    "users.shape"
   ]
  },
  {
   "cell_type": "code",
   "execution_count": 6,
   "id": "9e27042c",
   "metadata": {
    "colab": {
     "base_uri": "https://localhost:8080/"
    },
    "id": "9e27042c",
    "outputId": "e772fe61-24c6-4cc7-9674-e41b88a9e9c3"
   },
   "outputs": [
    {
     "name": "stdout",
     "output_type": "stream",
     "text": [
      "<class 'pandas.core.frame.DataFrame'>\n",
      "Int64Index: 11508 entries, 2353593986 to 933183398\n",
      "Data columns (total 5 columns):\n",
      " #   Column          Non-Null Count  Dtype  \n",
      "---  ------          --------------  -----  \n",
      " 0   name            11507 non-null  object \n",
      " 1   lang            11508 non-null  object \n",
      " 2   bot             11508 non-null  int64  \n",
      " 3   created_at      11508 non-null  object \n",
      " 4   statuses_count  11109 non-null  float64\n",
      "dtypes: float64(1), int64(1), object(3)\n",
      "memory usage: 539.4+ KB\n"
     ]
    }
   ],
   "source": [
    "users.info()"
   ]
  },
  {
   "cell_type": "code",
   "execution_count": 7,
   "id": "62f4efdd",
   "metadata": {
    "colab": {
     "base_uri": "https://localhost:8080/"
    },
    "id": "62f4efdd",
    "outputId": "a390f289-d922-441b-b4eb-e15f97c025a2"
   },
   "outputs": [
    {
     "data": {
      "text/plain": [
       "dtype('int64')"
      ]
     },
     "execution_count": 7,
     "metadata": {},
     "output_type": "execute_result"
    }
   ],
   "source": [
    "users.index.dtype"
   ]
  },
  {
   "cell_type": "code",
   "execution_count": 8,
   "id": "d9341051",
   "metadata": {
    "colab": {
     "base_uri": "https://localhost:8080/"
    },
    "id": "d9341051",
    "outputId": "da203e34-2387-4e7b-f469-2c3b533a85fd"
   },
   "outputs": [
    {
     "name": "stdout",
     "output_type": "stream",
     "text": [
      "Number of different users' indexes 11508\n"
     ]
    }
   ],
   "source": [
    "print(\"Number of different users' indexes\", len(set(users.index)))"
   ]
  },
  {
   "cell_type": "markdown",
   "id": "2cdd7b19",
   "metadata": {
    "id": "2cdd7b19"
   },
   "source": [
    "## Name\n",
    "\n",
    "show the records with Null names"
   ]
  },
  {
   "cell_type": "code",
   "execution_count": 9,
   "id": "03d8ffbe",
   "metadata": {
    "colab": {
     "base_uri": "https://localhost:8080/",
     "height": 112
    },
    "id": "03d8ffbe",
    "outputId": "8a98acf4-5b82-4343-f093-b53ba04f5e25"
   },
   "outputs": [
    {
     "data": {
      "text/html": [
       "\n",
       "  <div id=\"df-c24f71e9-d181-441d-a3a4-039c90c26f2c\">\n",
       "    <div class=\"colab-df-container\">\n",
       "      <div>\n",
       "<style scoped>\n",
       "    .dataframe tbody tr th:only-of-type {\n",
       "        vertical-align: middle;\n",
       "    }\n",
       "\n",
       "    .dataframe tbody tr th {\n",
       "        vertical-align: top;\n",
       "    }\n",
       "\n",
       "    .dataframe thead th {\n",
       "        text-align: right;\n",
       "    }\n",
       "</style>\n",
       "<table border=\"1\" class=\"dataframe\">\n",
       "  <thead>\n",
       "    <tr style=\"text-align: right;\">\n",
       "      <th></th>\n",
       "      <th>name</th>\n",
       "      <th>lang</th>\n",
       "      <th>bot</th>\n",
       "      <th>created_at</th>\n",
       "      <th>statuses_count</th>\n",
       "    </tr>\n",
       "    <tr>\n",
       "      <th>id</th>\n",
       "      <th></th>\n",
       "      <th></th>\n",
       "      <th></th>\n",
       "      <th></th>\n",
       "      <th></th>\n",
       "    </tr>\n",
       "  </thead>\n",
       "  <tbody>\n",
       "    <tr>\n",
       "      <th>2166124159</th>\n",
       "      <td>NaN</td>\n",
       "      <td>en</td>\n",
       "      <td>0</td>\n",
       "      <td>2018-11-02 06:39:14</td>\n",
       "      <td>6566.0</td>\n",
       "    </tr>\n",
       "  </tbody>\n",
       "</table>\n",
       "</div>\n",
       "      <button class=\"colab-df-convert\" onclick=\"convertToInteractive('df-c24f71e9-d181-441d-a3a4-039c90c26f2c')\"\n",
       "              title=\"Convert this dataframe to an interactive table.\"\n",
       "              style=\"display:none;\">\n",
       "        \n",
       "  <svg xmlns=\"http://www.w3.org/2000/svg\" height=\"24px\"viewBox=\"0 0 24 24\"\n",
       "       width=\"24px\">\n",
       "    <path d=\"M0 0h24v24H0V0z\" fill=\"none\"/>\n",
       "    <path d=\"M18.56 5.44l.94 2.06.94-2.06 2.06-.94-2.06-.94-.94-2.06-.94 2.06-2.06.94zm-11 1L8.5 8.5l.94-2.06 2.06-.94-2.06-.94L8.5 2.5l-.94 2.06-2.06.94zm10 10l.94 2.06.94-2.06 2.06-.94-2.06-.94-.94-2.06-.94 2.06-2.06.94z\"/><path d=\"M17.41 7.96l-1.37-1.37c-.4-.4-.92-.59-1.43-.59-.52 0-1.04.2-1.43.59L10.3 9.45l-7.72 7.72c-.78.78-.78 2.05 0 2.83L4 21.41c.39.39.9.59 1.41.59.51 0 1.02-.2 1.41-.59l7.78-7.78 2.81-2.81c.8-.78.8-2.07 0-2.86zM5.41 20L4 18.59l7.72-7.72 1.47 1.35L5.41 20z\"/>\n",
       "  </svg>\n",
       "      </button>\n",
       "      \n",
       "  <style>\n",
       "    .colab-df-container {\n",
       "      display:flex;\n",
       "      flex-wrap:wrap;\n",
       "      gap: 12px;\n",
       "    }\n",
       "\n",
       "    .colab-df-convert {\n",
       "      background-color: #E8F0FE;\n",
       "      border: none;\n",
       "      border-radius: 50%;\n",
       "      cursor: pointer;\n",
       "      display: none;\n",
       "      fill: #1967D2;\n",
       "      height: 32px;\n",
       "      padding: 0 0 0 0;\n",
       "      width: 32px;\n",
       "    }\n",
       "\n",
       "    .colab-df-convert:hover {\n",
       "      background-color: #E2EBFA;\n",
       "      box-shadow: 0px 1px 2px rgba(60, 64, 67, 0.3), 0px 1px 3px 1px rgba(60, 64, 67, 0.15);\n",
       "      fill: #174EA6;\n",
       "    }\n",
       "\n",
       "    [theme=dark] .colab-df-convert {\n",
       "      background-color: #3B4455;\n",
       "      fill: #D2E3FC;\n",
       "    }\n",
       "\n",
       "    [theme=dark] .colab-df-convert:hover {\n",
       "      background-color: #434B5C;\n",
       "      box-shadow: 0px 1px 3px 1px rgba(0, 0, 0, 0.15);\n",
       "      filter: drop-shadow(0px 1px 2px rgba(0, 0, 0, 0.3));\n",
       "      fill: #FFFFFF;\n",
       "    }\n",
       "  </style>\n",
       "\n",
       "      <script>\n",
       "        const buttonEl =\n",
       "          document.querySelector('#df-c24f71e9-d181-441d-a3a4-039c90c26f2c button.colab-df-convert');\n",
       "        buttonEl.style.display =\n",
       "          google.colab.kernel.accessAllowed ? 'block' : 'none';\n",
       "\n",
       "        async function convertToInteractive(key) {\n",
       "          const element = document.querySelector('#df-c24f71e9-d181-441d-a3a4-039c90c26f2c');\n",
       "          const dataTable =\n",
       "            await google.colab.kernel.invokeFunction('convertToInteractive',\n",
       "                                                     [key], {});\n",
       "          if (!dataTable) return;\n",
       "\n",
       "          const docLinkHtml = 'Like what you see? Visit the ' +\n",
       "            '<a target=\"_blank\" href=https://colab.research.google.com/notebooks/data_table.ipynb>data table notebook</a>'\n",
       "            + ' to learn more about interactive tables.';\n",
       "          element.innerHTML = '';\n",
       "          dataTable['output_type'] = 'display_data';\n",
       "          await google.colab.output.renderOutput(dataTable, element);\n",
       "          const docLink = document.createElement('div');\n",
       "          docLink.innerHTML = docLinkHtml;\n",
       "          element.appendChild(docLink);\n",
       "        }\n",
       "      </script>\n",
       "    </div>\n",
       "  </div>\n",
       "  "
      ],
      "text/plain": [
       "           name lang  bot           created_at  statuses_count\n",
       "id                                                            \n",
       "2166124159  NaN   en    0  2018-11-02 06:39:14          6566.0"
      ]
     },
     "execution_count": 9,
     "metadata": {},
     "output_type": "execute_result"
    }
   ],
   "source": [
    "users[users.name.isna()]"
   ]
  },
  {
   "cell_type": "code",
   "execution_count": 10,
   "id": "bee01072",
   "metadata": {
    "id": "bee01072"
   },
   "outputs": [],
   "source": [
    "users.loc[users.name.isna(), \"name\"] = \"No Name\""
   ]
  },
  {
   "cell_type": "markdown",
   "id": "b1ce7ced",
   "metadata": {
    "id": "b1ce7ced"
   },
   "source": [
    "## Lang"
   ]
  },
  {
   "cell_type": "code",
   "execution_count": 11,
   "id": "4b3aaf37",
   "metadata": {
    "colab": {
     "base_uri": "https://localhost:8080/"
    },
    "id": "4b3aaf37",
    "outputId": "cd4430ce-7e9c-493a-bed2-7383b414f44d"
   },
   "outputs": [
    {
     "name": "stdout",
     "output_type": "stream",
     "text": [
      "0\n"
     ]
    }
   ],
   "source": [
    "null_lang_ids = users.lang.isna()\n",
    "\n",
    "print(np.sum(null_lang_ids))"
   ]
  },
  {
   "cell_type": "code",
   "execution_count": 12,
   "id": "743a51ba",
   "metadata": {
    "colab": {
     "base_uri": "https://localhost:8080/"
    },
    "id": "743a51ba",
    "outputId": "a4efa9ec-bd9a-4e74-8962-c65a932b59ed"
   },
   "outputs": [
    {
     "data": {
      "text/plain": [
       "array(['en', 'it', 'fr', 'ru', 'es', 'tr', 'en-gb', 'pt', 'nl', 'id',\n",
       "       'zh-tw', 'ja', 'de', 'ko', 'en-AU', 'da', 'ar', 'en-GB',\n",
       "       'Select Language...', 'zh-TW', 'zh-cn', 'pl', 'el', 'fil', 'sv',\n",
       "       'xx-lc'], dtype=object)"
      ]
     },
     "execution_count": 12,
     "metadata": {},
     "output_type": "execute_result"
    }
   ],
   "source": [
    "users.lang.unique()"
   ]
  },
  {
   "cell_type": "code",
   "execution_count": 13,
   "id": "c2cb07b5",
   "metadata": {
    "colab": {
     "base_uri": "https://localhost:8080/"
    },
    "id": "c2cb07b5",
    "outputId": "016503df-e834-48a8-e9e4-ac9989c42342"
   },
   "outputs": [
    {
     "data": {
      "text/plain": [
       "26"
      ]
     },
     "execution_count": 13,
     "metadata": {},
     "output_type": "execute_result"
    }
   ],
   "source": [
    "len(users.lang.unique())"
   ]
  },
  {
   "cell_type": "code",
   "execution_count": 14,
   "id": "92e97a1b",
   "metadata": {
    "colab": {
     "base_uri": "https://localhost:8080/"
    },
    "id": "92e97a1b",
    "outputId": "4e2bf651-072e-47f4-b56c-935a28281d4b"
   },
   "outputs": [
    {
     "data": {
      "text/plain": [
       "en                    9970\n",
       "it                     906\n",
       "es                     319\n",
       "pt                      65\n",
       "en-gb                   50\n",
       "ru                      42\n",
       "fr                      36\n",
       "ja                      33\n",
       "zh-tw                   17\n",
       "tr                      14\n",
       "id                      12\n",
       "ko                       9\n",
       "de                       8\n",
       "nl                       6\n",
       "en-GB                    4\n",
       "ar                       3\n",
       "zh-TW                    3\n",
       "da                       2\n",
       "Select Language...       2\n",
       "en-AU                    1\n",
       "zh-cn                    1\n",
       "pl                       1\n",
       "el                       1\n",
       "fil                      1\n",
       "sv                       1\n",
       "xx-lc                    1\n",
       "Name: lang, dtype: int64"
      ]
     },
     "execution_count": 14,
     "metadata": {},
     "output_type": "execute_result"
    }
   ],
   "source": [
    "users.lang.value_counts()"
   ]
  },
  {
   "cell_type": "code",
   "execution_count": 15,
   "id": "7879868d",
   "metadata": {
    "colab": {
     "base_uri": "https://localhost:8080/",
     "height": 265
    },
    "id": "7879868d",
    "outputId": "fc045ef1-de9c-4be6-c1b6-619d10d9074b"
   },
   "outputs": [
    {
     "data": {
      "image/png": "[encoded data removed]",
      "text/plain": [
       "<Figure size 432x288 with 1 Axes>"
      ]
     },
     "metadata": {
      "needs_background": "light"
     },
     "output_type": "display_data"
    }
   ],
   "source": [
    "users.lang.hist(bins=26)\n",
    "plt.show()"
   ]
  },
  {
   "cell_type": "code",
   "execution_count": 16,
   "id": "6d16226d",
   "metadata": {
    "colab": {
     "base_uri": "https://localhost:8080/"
    },
    "id": "6d16226d",
    "outputId": "90eaf006-1780-484b-a03c-c1d61b3f307f"
   },
   "outputs": [
    {
     "name": "stdout",
     "output_type": "stream",
     "text": [
      "en                    10025\n",
      "it                      906\n",
      "es                      319\n",
      "pt                       65\n",
      "ru                       42\n",
      "fr                       36\n",
      "ja                       33\n",
      "zh                       21\n",
      "tr                       14\n",
      "id                       12\n",
      "ko                        9\n",
      "de                        8\n",
      "nl                        6\n",
      "ar                        3\n",
      "da                        2\n",
      "Select Language...        2\n",
      "pl                        1\n",
      "el                        1\n",
      "fil                       1\n",
      "sv                        1\n",
      "xx                        1\n",
      "Name: lang, dtype: int64\n"
     ]
    }
   ],
   "source": [
    "# clean lang feature, remove lang id that are not correct\n",
    "\n",
    "# remove dialectic specialization\n",
    "\n",
    "def remove_specialization(sample):\n",
    "    radix = sample.split(\"-\")[0]\n",
    "    return radix\n",
    "\n",
    "users.lang = users.lang.apply(remove_specialization)\n",
    "\n",
    "print(users.lang.value_counts())"
   ]
  },
  {
   "cell_type": "code",
   "execution_count": 17,
   "id": "b1f93427",
   "metadata": {
    "id": "b1f93427"
   },
   "outputs": [],
   "source": [
    "# \"Select Language...\" to \"en\"\n",
    "users.loc[users.lang == \"Select Language...\", \"lang\"] = \"en\"\n",
    "\n",
    "# \"xx\" to \"en\"\n",
    "users.loc[users.lang == \"xx\", \"lang\"] = \"en\""
   ]
  },
  {
   "cell_type": "code",
   "execution_count": 18,
   "id": "2aacabce",
   "metadata": {
    "colab": {
     "base_uri": "https://localhost:8080/"
    },
    "id": "2aacabce",
    "outputId": "138b9102-3af5-4386-f26c-f799df38adb1"
   },
   "outputs": [
    {
     "name": "stdout",
     "output_type": "stream",
     "text": [
      "en     10028\n",
      "it       906\n",
      "es       319\n",
      "pt        65\n",
      "ru        42\n",
      "fr        36\n",
      "ja        33\n",
      "zh        21\n",
      "tr        14\n",
      "id        12\n",
      "ko         9\n",
      "de         8\n",
      "nl         6\n",
      "ar         3\n",
      "da         2\n",
      "pl         1\n",
      "el         1\n",
      "fil        1\n",
      "sv         1\n",
      "Name: lang, dtype: int64\n"
     ]
    }
   ],
   "source": [
    "print(users.lang.value_counts())"
   ]
  },
  {
   "cell_type": "markdown",
   "id": "c0f94cc2",
   "metadata": {
    "id": "c0f94cc2"
   },
   "source": [
    "## Bot"
   ]
  },
  {
   "cell_type": "code",
   "execution_count": 19,
   "id": "11295718",
   "metadata": {
    "colab": {
     "base_uri": "https://localhost:8080/"
    },
    "id": "11295718",
    "outputId": "fef07aba-7038-4e9a-a4f0-d3656fd7e567"
   },
   "outputs": [
    {
     "name": "stdout",
     "output_type": "stream",
     "text": [
      "Number of Nan Bot:  0\n"
     ]
    }
   ],
   "source": [
    "na_bot_ids = users.bot.isna()\n",
    "print(\"Number of Nan Bot: \", np.sum(na_bot_ids))"
   ]
  },
  {
   "cell_type": "code",
   "execution_count": 20,
   "id": "9391dcbb",
   "metadata": {
    "colab": {
     "base_uri": "https://localhost:8080/"
    },
    "id": "9391dcbb",
    "outputId": "cfa4e4a4-1b38-4472-bc26-3893c8927f4b"
   },
   "outputs": [
    {
     "data": {
      "text/plain": [
       "array([1, 0])"
      ]
     },
     "execution_count": 20,
     "metadata": {},
     "output_type": "execute_result"
    }
   ],
   "source": [
    "users.bot.unique()"
   ]
  },
  {
   "cell_type": "code",
   "execution_count": 21,
   "id": "1ee69d7a",
   "metadata": {
    "colab": {
     "base_uri": "https://localhost:8080/"
    },
    "id": "1ee69d7a",
    "outputId": "e6bab48e-9482-4c0f-8721-a4c941eec9e5"
   },
   "outputs": [
    {
     "data": {
      "text/plain": [
       "1    6116\n",
       "0    5392\n",
       "Name: bot, dtype: int64"
      ]
     },
     "execution_count": 21,
     "metadata": {},
     "output_type": "execute_result"
    }
   ],
   "source": [
    "users.bot.value_counts()"
   ]
  },
  {
   "cell_type": "markdown",
   "id": "0a36f627",
   "metadata": {
    "id": "0a36f627"
   },
   "source": [
    "## Created_at"
   ]
  },
  {
   "cell_type": "code",
   "execution_count": 22,
   "id": "302d2c6a",
   "metadata": {
    "colab": {
     "base_uri": "https://localhost:8080/"
    },
    "id": "302d2c6a",
    "outputId": "f65864cf-1114-42d1-c233-451f65fe1ac4"
   },
   "outputs": [
    {
     "name": "stdout",
     "output_type": "stream",
     "text": [
      "Number of Nan created_at:  0\n"
     ]
    }
   ],
   "source": [
    "na_created_at_ids = users.created_at.isna()\n",
    "print(\"Number of Nan created_at: \", np.sum(na_created_at_ids))"
   ]
  },
  {
   "cell_type": "code",
   "execution_count": 23,
   "id": "f15ccf6d",
   "metadata": {
    "colab": {
     "base_uri": "https://localhost:8080/"
    },
    "id": "f15ccf6d",
    "outputId": "dd92bfd0-9abc-4d9f-ef30-d89ea94152b8"
   },
   "outputs": [
    {
     "name": "stdout",
     "output_type": "stream",
     "text": [
      "All the dates are ok!\n"
     ]
    }
   ],
   "source": [
    "try:\n",
    "    pd.to_datetime(users['created_at'], format='%Y-%m-%d %H:%M:%S', errors='raise')\n",
    "    # do something\n",
    "    print(\"All the dates are ok!\")\n",
    "except ValueError as e:\n",
    "    print(e)\n"
   ]
  },
  {
   "cell_type": "code",
   "execution_count": 24,
   "id": "c0d5bbbe",
   "metadata": {
    "colab": {
     "base_uri": "https://localhost:8080/",
     "height": 35
    },
    "id": "c0d5bbbe",
    "outputId": "bdab3cc2-9460-4620-865e-5d61c32af3a3"
   },
   "outputs": [
    {
     "data": {
      "application/vnd.google.colaboratory.intrinsic+json": {
       "type": "string"
      },
      "text/plain": [
       "'2012-01-24 01:57:38'"
      ]
     },
     "execution_count": 24,
     "metadata": {},
     "output_type": "execute_result"
    }
   ],
   "source": [
    "users.created_at.min()"
   ]
  },
  {
   "cell_type": "code",
   "execution_count": 25,
   "id": "8e889f1d",
   "metadata": {
    "colab": {
     "base_uri": "https://localhost:8080/",
     "height": 35
    },
    "id": "8e889f1d",
    "outputId": "ac7b7ad6-d6b7-4f5d-d084-eb4ec48cf867"
   },
   "outputs": [
    {
     "data": {
      "application/vnd.google.colaboratory.intrinsic+json": {
       "type": "string"
      },
      "text/plain": [
       "'2020-04-21 07:28:31'"
      ]
     },
     "execution_count": 25,
     "metadata": {},
     "output_type": "execute_result"
    }
   ],
   "source": [
    "users.created_at.max()"
   ]
  },
  {
   "cell_type": "code",
   "execution_count": 26,
   "id": "8fa31729",
   "metadata": {
    "colab": {
     "base_uri": "https://localhost:8080/",
     "height": 575
    },
    "id": "8fa31729",
    "outputId": "a01d5196-8bf8-4e9f-a407-25007a176efc"
   },
   "outputs": [
    {
     "data": {
      "image/png": "[encoded data removed]",
      "text/plain": [
       "<Figure size 432x288 with 1 Axes>"
      ]
     },
     "metadata": {
      "needs_background": "light"
     },
     "output_type": "display_data"
    },
    {
     "data": {
      "image/png": "[encoded data removed]",
      "text/plain": [
       "<Figure size 432x288 with 1 Axes>"
      ]
     },
     "metadata": {
      "needs_background": "light"
     },
     "output_type": "display_data"
    }
   ],
   "source": [
    "# TODO: aggiustare plot\n",
    "\n",
    "users[users.bot == 1].name.groupby(pd.to_datetime(users['created_at'], format='%Y-%m-%d %H:%M:%S', errors='raise').dt.year).count().plot(kind=\"bar\")\n",
    "plt.show()\n",
    "\n",
    "users[users.bot == 0].name.groupby(pd.to_datetime(users['created_at'], format='%Y-%m-%d %H:%M:%S', errors='raise').dt.year).count().plot(kind=\"bar\")\n",
    "plt.show()"
   ]
  },
  {
   "cell_type": "markdown",
   "id": "bd4db295",
   "metadata": {
    "id": "bd4db295"
   },
   "source": [
    "## Statuses_count"
   ]
  },
  {
   "cell_type": "code",
   "execution_count": 27,
   "id": "34fcc999",
   "metadata": {
    "colab": {
     "base_uri": "https://localhost:8080/"
    },
    "id": "34fcc999",
    "outputId": "c03ad2ce-e3d2-4145-f6b0-2823fc43504f"
   },
   "outputs": [
    {
     "name": "stdout",
     "output_type": "stream",
     "text": [
      "number of nan statuses counts:  399\n"
     ]
    }
   ],
   "source": [
    "null_statuses_count_ids = users.statuses_count.isna()\n",
    "\n",
    "print(\"number of nan statuses counts: \", np.sum(null_statuses_count_ids))"
   ]
  },
  {
   "cell_type": "code",
   "execution_count": 28,
   "id": "5294ceab",
   "metadata": {
    "colab": {
     "base_uri": "https://localhost:8080/"
    },
    "id": "5294ceab",
    "outputId": "1afbe5c6-ba0c-426f-f652-958d9dba930d"
   },
   "outputs": [
    {
     "data": {
      "text/plain": [
       "count     11109.000000\n",
       "mean       5883.312359\n",
       "std       19073.007305\n",
       "min           0.000000\n",
       "25%          41.000000\n",
       "50%          68.000000\n",
       "75%        2916.000000\n",
       "max      399555.000000\n",
       "Name: statuses_count, dtype: float64"
      ]
     },
     "execution_count": 28,
     "metadata": {},
     "output_type": "execute_result"
    }
   ],
   "source": [
    "users.statuses_count[~null_statuses_count_ids].describe()"
   ]
  },
  {
   "cell_type": "code",
   "execution_count": 29,
   "id": "d83f1938",
   "metadata": {
    "colab": {
     "base_uri": "https://localhost:8080/",
     "height": 265
    },
    "id": "d83f1938",
    "outputId": "aa1f12df-e091-4540-8cb5-32e24e8a0b53"
   },
   "outputs": [
    {
     "data": {
      "image/png": "[encoded data removed]",
      "text/plain": [
       "<Figure size 432x288 with 1 Axes>"
      ]
     },
     "metadata": {
      "needs_background": "light"
     },
     "output_type": "display_data"
    }
   ],
   "source": [
    "users.statuses_count[~null_statuses_count_ids].hist()\n",
    "plt.show()"
   ]
  },
  {
   "cell_type": "code",
   "execution_count": 30,
   "id": "e7d9ffbf",
   "metadata": {
    "colab": {
     "base_uri": "https://localhost:8080/",
     "height": 266
    },
    "id": "e7d9ffbf",
    "outputId": "70e34d67-ed86-4d2a-f75a-77191d43b06f"
   },
   "outputs": [
    {
     "data": {
      "image/png": "[encoded data removed]",
      "text/plain": [
       "<Figure size 432x288 with 1 Axes>"
      ]
     },
     "metadata": {
      "needs_background": "light"
     },
     "output_type": "display_data"
    }
   ],
   "source": [
    "pd.DataFrame(users.statuses_count[~null_statuses_count_ids]).boxplot()\n",
    "plt.show()"
   ]
  },
  {
   "cell_type": "code",
   "execution_count": 31,
   "id": "64634f5a",
   "metadata": {
    "colab": {
     "base_uri": "https://localhost:8080/",
     "height": 283
    },
    "id": "64634f5a",
    "outputId": "65e159e2-f302-4904-e346-9ab87ab756b6"
   },
   "outputs": [
    {
     "data": {
      "text/plain": [
       "<matplotlib.axes._subplots.AxesSubplot at 0x7f2b7d153390>"
      ]
     },
     "execution_count": 31,
     "metadata": {},
     "output_type": "execute_result"
    },
    {
     "data": {
      "image/png": "[encoded data removed]",
      "text/plain": [
       "<Figure size 432x288 with 1 Axes>"
      ]
     },
     "metadata": {
      "needs_background": "light"
     },
     "output_type": "display_data"
    }
   ],
   "source": [
    "log_feature = pd.Series(np.log(users.statuses_count[~null_statuses_count_ids] + 1))\n",
    "log_feature.hist()"
   ]
  },
  {
   "cell_type": "code",
   "execution_count": 32,
   "id": "010b4d9e",
   "metadata": {
    "colab": {
     "base_uri": "https://localhost:8080/",
     "height": 266
    },
    "id": "010b4d9e",
    "outputId": "a65996a9-3b78-4e74-cfd7-6f1f005b3935"
   },
   "outputs": [
    {
     "data": {
      "image/png": "[encoded data removed]",
      "text/plain": [
       "<Figure size 432x288 with 1 Axes>"
      ]
     },
     "metadata": {
      "needs_background": "light"
     },
     "output_type": "display_data"
    }
   ],
   "source": [
    "pd.DataFrame(log_feature).boxplot()\n",
    "plt.show()"
   ]
  },
  {
   "cell_type": "markdown",
   "id": "7c00e695",
   "metadata": {
    "id": "7c00e695"
   },
   "source": [
    "### Normal Users"
   ]
  },
  {
   "cell_type": "code",
   "execution_count": 33,
   "id": "1f19bd75",
   "metadata": {
    "colab": {
     "base_uri": "https://localhost:8080/"
    },
    "id": "1f19bd75",
    "outputId": "afcbb3bf-7118-4a6a-b456-f1d95ffb77ca"
   },
   "outputs": [
    {
     "data": {
      "text/plain": [
       "count      4993.000000\n",
       "mean      11638.219107\n",
       "std       26719.438432\n",
       "min           0.000000\n",
       "25%          61.000000\n",
       "50%        2041.000000\n",
       "75%       11585.000000\n",
       "max      399555.000000\n",
       "Name: statuses_count, dtype: float64"
      ]
     },
     "execution_count": 33,
     "metadata": {},
     "output_type": "execute_result"
    }
   ],
   "source": [
    "nobot_users = users[users.bot==0]\n",
    "\n",
    "null_statuses_count_nobot_ids = nobot_users.statuses_count.isna()\n",
    "nobot_users.statuses_count[~null_statuses_count_nobot_ids].describe()"
   ]
  },
  {
   "cell_type": "code",
   "execution_count": 34,
   "id": "d2145e5b",
   "metadata": {
    "colab": {
     "base_uri": "https://localhost:8080/",
     "height": 265
    },
    "id": "d2145e5b",
    "outputId": "2d2913b7-61e8-48a3-a643-9c10305aab0d"
   },
   "outputs": [
    {
     "data": {
      "image/png": "[encoded data removed]",
      "text/plain": [
       "<Figure size 432x288 with 1 Axes>"
      ]
     },
     "metadata": {
      "needs_background": "light"
     },
     "output_type": "display_data"
    }
   ],
   "source": [
    "nobot_users.statuses_count[~null_statuses_count_nobot_ids].hist()\n",
    "plt.show()"
   ]
  },
  {
   "cell_type": "code",
   "execution_count": 35,
   "id": "a9c9ff8c",
   "metadata": {
    "colab": {
     "base_uri": "https://localhost:8080/",
     "height": 266
    },
    "id": "a9c9ff8c",
    "outputId": "f5830edf-eeab-4e77-d957-f8aeaf287253"
   },
   "outputs": [
    {
     "data": {
      "image/png": "[encoded data removed]",
      "text/plain": [
       "<Figure size 432x288 with 1 Axes>"
      ]
     },
     "metadata": {
      "needs_background": "light"
     },
     "output_type": "display_data"
    }
   ],
   "source": [
    "pd.DataFrame(nobot_users.statuses_count[~null_statuses_count_nobot_ids]).boxplot()\n",
    "plt.show()"
   ]
  },
  {
   "cell_type": "code",
   "execution_count": 36,
   "id": "ac29a600",
   "metadata": {
    "colab": {
     "base_uri": "https://localhost:8080/",
     "height": 265
    },
    "id": "ac29a600",
    "outputId": "d9bfb8ea-c9d2-4ccb-ccf8-aba2447dfe12"
   },
   "outputs": [
    {
     "data": {
      "image/png": "[encoded data removed]",
      "text/plain": [
       "<Figure size 432x288 with 1 Axes>"
      ]
     },
     "metadata": {
      "needs_background": "light"
     },
     "output_type": "display_data"
    }
   ],
   "source": [
    "log_feature_nobot = pd.Series(np.log(nobot_users.statuses_count[~null_statuses_count_nobot_ids] + 1))\n",
    "log_feature_nobot.hist()\n",
    "plt.show()"
   ]
  },
  {
   "cell_type": "code",
   "execution_count": 37,
   "id": "e24359ba",
   "metadata": {
    "colab": {
     "base_uri": "https://localhost:8080/",
     "height": 266
    },
    "id": "e24359ba",
    "outputId": "5691661b-fdb9-4163-bd76-271d6775f452"
   },
   "outputs": [
    {
     "data": {
      "image/png": "[encoded data removed]",
      "text/plain": [
       "<Figure size 432x288 with 1 Axes>"
      ]
     },
     "metadata": {
      "needs_background": "light"
     },
     "output_type": "display_data"
    }
   ],
   "source": [
    "pd.DataFrame(log_feature_nobot).boxplot()\n",
    "plt.show()"
   ]
  },
  {
   "cell_type": "code",
   "execution_count": 38,
   "id": "f6f066f0",
   "metadata": {
    "colab": {
     "base_uri": "https://localhost:8080/",
     "height": 678
    },
    "id": "f6f066f0",
    "outputId": "27e75b77-8b71-4acf-f1d0-4ff3ff923ab7"
   },
   "outputs": [
    {
     "name": "stdout",
     "output_type": "stream",
     "text": [
      "Number of Statuses count Nan for Non Bots:  399\n",
      "count    5392.000000\n",
      "mean        6.989525\n",
      "std         2.678152\n",
      "min         0.000000\n",
      "25%         4.189655\n",
      "50%         7.176255\n",
      "75%         9.225894\n",
      "max        12.898109\n",
      "Name: statuses_count, dtype: float64\n"
     ]
    },
    {
     "name": "stderr",
     "output_type": "stream",
     "text": [
      "/usr/local/lib/python3.7/dist-packages/pandas/core/indexing.py:1773: SettingWithCopyWarning: \n",
      "A value is trying to be set on a copy of a slice from a DataFrame.\n",
      "Try using .loc[row_indexer,col_indexer] = value instead\n",
      "\n",
      "See the caveats in the documentation: https://pandas.pydata.org/pandas-docs/stable/user_guide/indexing.html#returning-a-view-versus-a-copy\n",
      "  self._setitem_single_column(ilocs[0], value, pi)\n",
      "/usr/local/lib/python3.7/dist-packages/pandas/core/indexing.py:1817: SettingWithCopyWarning: \n",
      "A value is trying to be set on a copy of a slice from a DataFrame.\n",
      "Try using .loc[row_indexer,col_indexer] = value instead\n",
      "\n",
      "See the caveats in the documentation: https://pandas.pydata.org/pandas-docs/stable/user_guide/indexing.html#returning-a-view-versus-a-copy\n",
      "  self._setitem_single_column(loc, value, pi)\n"
     ]
    },
    {
     "data": {
      "image/png": "[encoded data removed]",
      "text/plain": [
       "<Figure size 432x288 with 1 Axes>"
      ]
     },
     "metadata": {
      "needs_background": "light"
     },
     "output_type": "display_data"
    }
   ],
   "source": [
    "# remove Nan element\n",
    "print(\"Number of Statuses count Nan for Non Bots: \", np.sum(null_statuses_count_nobot_ids))\n",
    "\n",
    "median = np.floor(log_feature_nobot.median())\n",
    "\n",
    "nobot_users.loc[~null_statuses_count_nobot_ids, \"statuses_count\"] = log_feature_nobot\n",
    "nobot_users.loc[null_statuses_count_nobot_ids, \"statuses_count\"] = median\n",
    "\n",
    "users.loc[users.bot==0, \"statuses_count\"] = nobot_users.statuses_count\n",
    "\n",
    "print(users.loc[users.bot==0, \"statuses_count\"].describe())\n",
    "\n",
    "users.loc[users.bot==0, \"statuses_count\"].hist()\n",
    "plt.show()"
   ]
  },
  {
   "cell_type": "markdown",
   "id": "2d48c17e",
   "metadata": {
    "id": "2d48c17e"
   },
   "source": [
    "### Bot"
   ]
  },
  {
   "cell_type": "code",
   "execution_count": 39,
   "id": "5516f00b",
   "metadata": {
    "colab": {
     "base_uri": "https://localhost:8080/"
    },
    "id": "5516f00b",
    "outputId": "f467c3d0-377a-4ae0-8934-91bde44e57c4"
   },
   "outputs": [
    {
     "data": {
      "text/plain": [
       "count      6116.000000\n",
       "mean       1185.102845\n",
       "std        5373.550630\n",
       "min           0.000000\n",
       "25%          32.000000\n",
       "50%          53.000000\n",
       "75%          78.000000\n",
       "max      214410.000000\n",
       "Name: statuses_count, dtype: float64"
      ]
     },
     "execution_count": 39,
     "metadata": {},
     "output_type": "execute_result"
    }
   ],
   "source": [
    "bot_users = users[users.bot==1]\n",
    "\n",
    "null_statuses_count_bot_ids = bot_users.statuses_count.isna()\n",
    "bot_users.statuses_count[~null_statuses_count_bot_ids].describe()"
   ]
  },
  {
   "cell_type": "code",
   "execution_count": 40,
   "id": "b4ab5dbd",
   "metadata": {
    "colab": {
     "base_uri": "https://localhost:8080/",
     "height": 265
    },
    "id": "b4ab5dbd",
    "outputId": "d3f9a20f-0f52-4b92-d5d7-e8745e01a90c"
   },
   "outputs": [
    {
     "data": {
      "image/png": "[encoded data removed]",
      "text/plain": [
       "<Figure size 432x288 with 1 Axes>"
      ]
     },
     "metadata": {
      "needs_background": "light"
     },
     "output_type": "display_data"
    }
   ],
   "source": [
    "bot_users.statuses_count[~null_statuses_count_bot_ids].hist()\n",
    "plt.show()"
   ]
  },
  {
   "cell_type": "code",
   "execution_count": 41,
   "id": "3bb83570",
   "metadata": {
    "colab": {
     "base_uri": "https://localhost:8080/",
     "height": 266
    },
    "id": "3bb83570",
    "outputId": "37b336bb-f9a1-4df7-d771-5a3f9a07ba25"
   },
   "outputs": [
    {
     "data": {
      "image/png": "[encoded data removed]",
      "text/plain": [
       "<Figure size 432x288 with 1 Axes>"
      ]
     },
     "metadata": {
      "needs_background": "light"
     },
     "output_type": "display_data"
    }
   ],
   "source": [
    "pd.DataFrame(bot_users.statuses_count[~null_statuses_count_bot_ids]).boxplot()\n",
    "plt.show()"
   ]
  },
  {
   "cell_type": "code",
   "execution_count": 42,
   "id": "df1e57ef",
   "metadata": {
    "colab": {
     "base_uri": "https://localhost:8080/",
     "height": 265
    },
    "id": "df1e57ef",
    "outputId": "9c0b5c16-ee1e-4b4e-ff82-9268c0b88a76"
   },
   "outputs": [
    {
     "data": {
      "image/png": "[encoded data removed]",
      "text/plain": [
       "<Figure size 432x288 with 1 Axes>"
      ]
     },
     "metadata": {
      "needs_background": "light"
     },
     "output_type": "display_data"
    }
   ],
   "source": [
    "log_feature_bot = pd.Series(np.log(bot_users.statuses_count[~null_statuses_count_bot_ids] + 1))\n",
    "log_feature_bot.hist()\n",
    "plt.show()"
   ]
  },
  {
   "cell_type": "code",
   "execution_count": 43,
   "id": "587b0129",
   "metadata": {
    "colab": {
     "base_uri": "https://localhost:8080/",
     "height": 266
    },
    "id": "587b0129",
    "outputId": "155bde6d-bf50-4d38-bb87-d3204177983f"
   },
   "outputs": [
    {
     "data": {
      "image/png": "[encoded data removed]",
      "text/plain": [
       "<Figure size 432x288 with 1 Axes>"
      ]
     },
     "metadata": {
      "needs_background": "light"
     },
     "output_type": "display_data"
    }
   ],
   "source": [
    "pd.DataFrame(log_feature_bot).boxplot()\n",
    "plt.show()\n",
    "\n",
    "# we can see that there are some outliers"
   ]
  },
  {
   "cell_type": "code",
   "execution_count": 44,
   "id": "68fe9700",
   "metadata": {
    "colab": {
     "base_uri": "https://localhost:8080/",
     "height": 266
    },
    "id": "68fe9700",
    "outputId": "6d2cf030-8bf5-4ff6-9817-c1ace8fafa12"
   },
   "outputs": [
    {
     "data": {
      "image/png": "[encoded data removed]",
      "text/plain": [
       "<Figure size 432x288 with 1 Axes>"
      ]
     },
     "metadata": {
      "needs_background": "light"
     },
     "output_type": "display_data"
    }
   ],
   "source": [
    "# removing outliers \n",
    "IQR = log_feature_bot.quantile(0.75) - log_feature_bot.quantile(0.25)\n",
    "outlier_1 = log_feature_bot.quantile(0.75) + 1.5*IQR\n",
    "outlier_2 = log_feature_bot.quantile(0.25) - 1.5*IQR\n",
    "\n",
    "log_feature_bot[log_feature_bot > outlier_1] = outlier_1\n",
    "log_feature_bot[log_feature_bot < outlier_2] = outlier_2\n",
    "\n",
    "pd.DataFrame(log_feature_bot).boxplot()\n",
    "plt.show()"
   ]
  },
  {
   "cell_type": "code",
   "execution_count": 45,
   "id": "32e5e0be",
   "metadata": {
    "colab": {
     "base_uri": "https://localhost:8080/",
     "height": 444
    },
    "id": "32e5e0be",
    "outputId": "48509bc4-144e-4bc1-e006-91d8eb55ff0b"
   },
   "outputs": [
    {
     "name": "stdout",
     "output_type": "stream",
     "text": [
      "Number of Statuses count Nan for Bots:  0\n",
      "count    6116.000000\n",
      "mean       88.067366\n",
      "std        92.332466\n",
      "min         7.909313\n",
      "25%        32.000000\n",
      "50%        53.000000\n",
      "75%        78.000000\n",
      "max       291.615157\n",
      "Name: statuses_count, dtype: float64\n"
     ]
    },
    {
     "data": {
      "image/png": "[encoded data removed]",
      "text/plain": [
       "<Figure size 432x288 with 1 Axes>"
      ]
     },
     "metadata": {
      "needs_background": "light"
     },
     "output_type": "display_data"
    }
   ],
   "source": [
    "print(\"Number of Statuses count Nan for Bots: \", np.sum(null_statuses_count_bot_ids))\n",
    "\n",
    "users.loc[users.bot==1, \"statuses_count\"] = np.exp(log_feature_bot) - 1\n",
    "\n",
    "print(users.loc[users.bot==1, \"statuses_count\"].describe())\n",
    "\n",
    "users.loc[users.bot==1, \"statuses_count\"].hist()\n",
    "plt.show()"
   ]
  },
  {
   "cell_type": "code",
   "execution_count": 46,
   "id": "YnEsD6zoyN0e",
   "metadata": {
    "id": "YnEsD6zoyN0e"
   },
   "outputs": [],
   "source": [
    "users.statuses_count = users.statuses_count.astype(int)"
   ]
  },
  {
   "cell_type": "code",
   "execution_count": 47,
   "id": "S96vbzMRybTj",
   "metadata": {
    "colab": {
     "base_uri": "https://localhost:8080/"
    },
    "id": "S96vbzMRybTj",
    "outputId": "1aff99c9-de21-4beb-974e-00f86e3af552"
   },
   "outputs": [
    {
     "name": "stdout",
     "output_type": "stream",
     "text": [
      "<class 'pandas.core.frame.DataFrame'>\n",
      "Int64Index: 11508 entries, 2353593986 to 933183398\n",
      "Data columns (total 5 columns):\n",
      " #   Column          Non-Null Count  Dtype \n",
      "---  ------          --------------  ----- \n",
      " 0   name            11508 non-null  object\n",
      " 1   lang            11508 non-null  object\n",
      " 2   bot             11508 non-null  int64 \n",
      " 3   created_at      11508 non-null  object\n",
      " 4   statuses_count  11508 non-null  int64 \n",
      "dtypes: int64(2), object(3)\n",
      "memory usage: 797.5+ KB\n"
     ]
    }
   ],
   "source": [
    "users.info()"
   ]
  },
  {
   "cell_type": "markdown",
   "id": "ac684328",
   "metadata": {
    "id": "ac684328"
   },
   "source": [
    "# Tweets"
   ]
  },
  {
   "cell_type": "code",
   "execution_count": 48,
   "id": "f05f80d5",
   "metadata": {
    "id": "f05f80d5"
   },
   "outputs": [],
   "source": [
    "tweets = pd.read_csv(\"dataset/tweets.csv\", index_col=0)"
   ]
  },
  {
   "cell_type": "code",
   "execution_count": 49,
   "id": "1bef3e6f",
   "metadata": {
    "colab": {
     "base_uri": "https://localhost:8080/",
     "height": 475
    },
    "id": "1bef3e6f",
    "outputId": "dedce771-7d90-4b76-ad33-d9d9b52c6ba1"
   },
   "outputs": [
    {
     "data": {
      "text/html": [
       "\n",
       "  <div id=\"df-b540c5ee-4c6a-4446-b361-01a012424d5d\">\n",
       "    <div class=\"colab-df-container\">\n",
       "      <div>\n",
       "<style scoped>\n",
       "    .dataframe tbody tr th:only-of-type {\n",
       "        vertical-align: middle;\n",
       "    }\n",
       "\n",
       "    .dataframe tbody tr th {\n",
       "        vertical-align: top;\n",
       "    }\n",
       "\n",
       "    .dataframe thead th {\n",
       "        text-align: right;\n",
       "    }\n",
       "</style>\n",
       "<table border=\"1\" class=\"dataframe\">\n",
       "  <thead>\n",
       "    <tr style=\"text-align: right;\">\n",
       "      <th></th>\n",
       "      <th>user_id</th>\n",
       "      <th>retweet_count</th>\n",
       "      <th>reply_count</th>\n",
       "      <th>favorite_count</th>\n",
       "      <th>num_hashtags</th>\n",
       "      <th>num_urls</th>\n",
       "      <th>num_mentions</th>\n",
       "      <th>created_at</th>\n",
       "      <th>text</th>\n",
       "    </tr>\n",
       "    <tr>\n",
       "      <th>id</th>\n",
       "      <th></th>\n",
       "      <th></th>\n",
       "      <th></th>\n",
       "      <th></th>\n",
       "      <th></th>\n",
       "      <th></th>\n",
       "      <th></th>\n",
       "      <th></th>\n",
       "      <th></th>\n",
       "    </tr>\n",
       "  </thead>\n",
       "  <tbody>\n",
       "    <tr>\n",
       "      <th>509354017856950272</th>\n",
       "      <td>327746321</td>\n",
       "      <td>0</td>\n",
       "      <td>0</td>\n",
       "      <td>0</td>\n",
       "      <td>0</td>\n",
       "      <td>0</td>\n",
       "      <td>0</td>\n",
       "      <td>2019-09-11 14:53:55</td>\n",
       "      <td>If man is a little lower than angels, then ang...</td>\n",
       "    </tr>\n",
       "    <tr>\n",
       "      <th>583002592529121280</th>\n",
       "      <td>333722906</td>\n",
       "      <td>1</td>\n",
       "      <td>0</td>\n",
       "      <td>0</td>\n",
       "      <td>0</td>\n",
       "      <td>0</td>\n",
       "      <td>1</td>\n",
       "      <td>2020-04-01 20:27:04</td>\n",
       "      <td>\"@BestWSHHVids: how do you say these words wit...</td>\n",
       "    </tr>\n",
       "    <tr>\n",
       "      <th>461498835362013185</th>\n",
       "      <td>2379755827</td>\n",
       "      <td>0</td>\n",
       "      <td>0</td>\n",
       "      <td>0</td>\n",
       "      <td>0</td>\n",
       "      <td>0</td>\n",
       "      <td>1</td>\n",
       "      <td>2019-05-02 13:34:31</td>\n",
       "      <td>@LOLatComedy awsome</td>\n",
       "    </tr>\n",
       "    <tr>\n",
       "      <th>528808127366692864</th>\n",
       "      <td>466226882</td>\n",
       "      <td>0</td>\n",
       "      <td>0</td>\n",
       "      <td>0</td>\n",
       "      <td>0</td>\n",
       "      <td>0</td>\n",
       "      <td>0</td>\n",
       "      <td>2019-11-04 07:17:37</td>\n",
       "      <td>Stephen Hawkins: i buchi neri non esistono se ...</td>\n",
       "    </tr>\n",
       "    <tr>\n",
       "      <th>575336690904006656</th>\n",
       "      <td>1355537995</td>\n",
       "      <td>114</td>\n",
       "      <td>0</td>\n",
       "      <td>0</td>\n",
       "      <td>1</td>\n",
       "      <td>0</td>\n",
       "      <td>1</td>\n",
       "      <td>2020-03-11 16:45:31</td>\n",
       "      <td>RT @tibbs_montris: So ready for Wednesday!</td>\n",
       "    </tr>\n",
       "  </tbody>\n",
       "</table>\n",
       "</div>\n",
       "      <button class=\"colab-df-convert\" onclick=\"convertToInteractive('df-b540c5ee-4c6a-4446-b361-01a012424d5d')\"\n",
       "              title=\"Convert this dataframe to an interactive table.\"\n",
       "              style=\"display:none;\">\n",
       "        \n",
       "  <svg xmlns=\"http://www.w3.org/2000/svg\" height=\"24px\"viewBox=\"0 0 24 24\"\n",
       "       width=\"24px\">\n",
       "    <path d=\"M0 0h24v24H0V0z\" fill=\"none\"/>\n",
       "    <path d=\"M18.56 5.44l.94 2.06.94-2.06 2.06-.94-2.06-.94-.94-2.06-.94 2.06-2.06.94zm-11 1L8.5 8.5l.94-2.06 2.06-.94-2.06-.94L8.5 2.5l-.94 2.06-2.06.94zm10 10l.94 2.06.94-2.06 2.06-.94-2.06-.94-.94-2.06-.94 2.06-2.06.94z\"/><path d=\"M17.41 7.96l-1.37-1.37c-.4-.4-.92-.59-1.43-.59-.52 0-1.04.2-1.43.59L10.3 9.45l-7.72 7.72c-.78.78-.78 2.05 0 2.83L4 21.41c.39.39.9.59 1.41.59.51 0 1.02-.2 1.41-.59l7.78-7.78 2.81-2.81c.8-.78.8-2.07 0-2.86zM5.41 20L4 18.59l7.72-7.72 1.47 1.35L5.41 20z\"/>\n",
       "  </svg>\n",
       "      </button>\n",
       "      \n",
       "  <style>\n",
       "    .colab-df-container {\n",
       "      display:flex;\n",
       "      flex-wrap:wrap;\n",
       "      gap: 12px;\n",
       "    }\n",
       "\n",
       "    .colab-df-convert {\n",
       "      background-color: #E8F0FE;\n",
       "      border: none;\n",
       "      border-radius: 50%;\n",
       "      cursor: pointer;\n",
       "      display: none;\n",
       "      fill: #1967D2;\n",
       "      height: 32px;\n",
       "      padding: 0 0 0 0;\n",
       "      width: 32px;\n",
       "    }\n",
       "\n",
       "    .colab-df-convert:hover {\n",
       "      background-color: #E2EBFA;\n",
       "      box-shadow: 0px 1px 2px rgba(60, 64, 67, 0.3), 0px 1px 3px 1px rgba(60, 64, 67, 0.15);\n",
       "      fill: #174EA6;\n",
       "    }\n",
       "\n",
       "    [theme=dark] .colab-df-convert {\n",
       "      background-color: #3B4455;\n",
       "      fill: #D2E3FC;\n",
       "    }\n",
       "\n",
       "    [theme=dark] .colab-df-convert:hover {\n",
       "      background-color: #434B5C;\n",
       "      box-shadow: 0px 1px 3px 1px rgba(0, 0, 0, 0.15);\n",
       "      filter: drop-shadow(0px 1px 2px rgba(0, 0, 0, 0.3));\n",
       "      fill: #FFFFFF;\n",
       "    }\n",
       "  </style>\n",
       "\n",
       "      <script>\n",
       "        const buttonEl =\n",
       "          document.querySelector('#df-b540c5ee-4c6a-4446-b361-01a012424d5d button.colab-df-convert');\n",
       "        buttonEl.style.display =\n",
       "          google.colab.kernel.accessAllowed ? 'block' : 'none';\n",
       "\n",
       "        async function convertToInteractive(key) {\n",
       "          const element = document.querySelector('#df-b540c5ee-4c6a-4446-b361-01a012424d5d');\n",
       "          const dataTable =\n",
       "            await google.colab.kernel.invokeFunction('convertToInteractive',\n",
       "                                                     [key], {});\n",
       "          if (!dataTable) return;\n",
       "\n",
       "          const docLinkHtml = 'Like what you see? Visit the ' +\n",
       "            '<a target=\"_blank\" href=https://colab.research.google.com/notebooks/data_table.ipynb>data table notebook</a>'\n",
       "            + ' to learn more about interactive tables.';\n",
       "          element.innerHTML = '';\n",
       "          dataTable['output_type'] = 'display_data';\n",
       "          await google.colab.output.renderOutput(dataTable, element);\n",
       "          const docLink = document.createElement('div');\n",
       "          docLink.innerHTML = docLinkHtml;\n",
       "          element.appendChild(docLink);\n",
       "        }\n",
       "      </script>\n",
       "    </div>\n",
       "  </div>\n",
       "  "
      ],
      "text/plain": [
       "                       user_id retweet_count reply_count favorite_count  \\\n",
       "id                                                                        \n",
       "509354017856950272   327746321             0           0              0   \n",
       "583002592529121280   333722906             1           0              0   \n",
       "461498835362013185  2379755827             0           0              0   \n",
       "528808127366692864   466226882             0           0              0   \n",
       "575336690904006656  1355537995           114           0              0   \n",
       "\n",
       "                   num_hashtags num_urls num_mentions           created_at  \\\n",
       "id                                                                           \n",
       "509354017856950272            0        0            0  2019-09-11 14:53:55   \n",
       "583002592529121280            0        0            1  2020-04-01 20:27:04   \n",
       "461498835362013185            0        0            1  2019-05-02 13:34:31   \n",
       "528808127366692864            0        0            0  2019-11-04 07:17:37   \n",
       "575336690904006656            1        0            1  2020-03-11 16:45:31   \n",
       "\n",
       "                                                                 text  \n",
       "id                                                                     \n",
       "509354017856950272  If man is a little lower than angels, then ang...  \n",
       "583002592529121280  \"@BestWSHHVids: how do you say these words wit...  \n",
       "461498835362013185                                @LOLatComedy awsome  \n",
       "528808127366692864  Stephen Hawkins: i buchi neri non esistono se ...  \n",
       "575336690904006656        RT @tibbs_montris: So ready for Wednesday!   "
      ]
     },
     "execution_count": 49,
     "metadata": {},
     "output_type": "execute_result"
    }
   ],
   "source": [
    "tweets.head()"
   ]
  },
  {
   "cell_type": "code",
   "execution_count": 50,
   "id": "50037567",
   "metadata": {
    "colab": {
     "base_uri": "https://localhost:8080/"
    },
    "id": "50037567",
    "outputId": "9783dc94-f38d-4a67-88e8-29b73f010442"
   },
   "outputs": [
    {
     "data": {
      "text/plain": [
       "(13664696, 9)"
      ]
     },
     "execution_count": 50,
     "metadata": {},
     "output_type": "execute_result"
    }
   ],
   "source": [
    "tweets.shape"
   ]
  },
  {
   "cell_type": "code",
   "execution_count": 51,
   "id": "45cb81a7",
   "metadata": {
    "colab": {
     "base_uri": "https://localhost:8080/"
    },
    "id": "45cb81a7",
    "outputId": "6ba1b02f-f417-464b-87ab-a4331ccb7ac2"
   },
   "outputs": [
    {
     "name": "stdout",
     "output_type": "stream",
     "text": [
      "<class 'pandas.core.frame.DataFrame'>\n",
      "Index: 13664696 entries, 509354017856950272 to 486479812614451200\n",
      "Data columns (total 9 columns):\n",
      " #   Column          Dtype \n",
      "---  ------          ----- \n",
      " 0   user_id         object\n",
      " 1   retweet_count   object\n",
      " 2   reply_count     object\n",
      " 3   favorite_count  object\n",
      " 4   num_hashtags    object\n",
      " 5   num_urls        object\n",
      " 6   num_mentions    object\n",
      " 7   created_at      object\n",
      " 8   text            object\n",
      "dtypes: object(9)\n",
      "memory usage: 1.0+ GB\n"
     ]
    }
   ],
   "source": [
    "tweets.info()"
   ]
  },
  {
   "cell_type": "code",
   "execution_count": 52,
   "id": "R6UMnkkYlN2I",
   "metadata": {
    "colab": {
     "base_uri": "https://localhost:8080/"
    },
    "id": "R6UMnkkYlN2I",
    "outputId": "2228b4e5-49b6-456d-b855-fc2334e9a729"
   },
   "outputs": [
    {
     "name": "stdout",
     "output_type": "stream",
     "text": [
      "Number of NaN element in the non numeric indexed tweets:  user_id            217283\n",
      "retweet_count      437134\n",
      "reply_count        647878\n",
      "favorite_count     647542\n",
      "num_hashtags      1057524\n",
      "num_urls           648623\n",
      "num_mentions       854165\n",
      "created_at              0\n",
      "text               537721\n",
      "dtype: int64\n",
      "Total Number of element in the non numeric indexed tweets:  13664696\n",
      "Ratio of the Nan elements per column:  user_id           0.015901\n",
      "retweet_count     0.031990\n",
      "reply_count       0.047413\n",
      "favorite_count    0.047388\n",
      "num_hashtags      0.077391\n",
      "num_urls          0.047467\n",
      "num_mentions      0.062509\n",
      "created_at        0.000000\n",
      "text              0.039351\n",
      "dtype: float64\n",
      "Ratio of the Nan elements:  0.041045512058551795\n"
     ]
    }
   ],
   "source": [
    "# we can see the percentage of NaN element of the columns of the tweets\n",
    "nan_element = np.sum(tweets.isna())\n",
    "total_element = tweets.shape[0]\n",
    "\n",
    "print(\"Number of NaN element in the non numeric indexed tweets: \", nan_element)\n",
    "print(\"Total Number of element in the non numeric indexed tweets: \", total_element)\n",
    "\n",
    "ratio_per_column = nan_element/total_element\n",
    "\n",
    "print(\"Ratio of the Nan elements per column: \", ratio_per_column)\n",
    "\n",
    "print(\"Ratio of the Nan elements: \", ratio_per_column.mean())"
   ]
  },
  {
   "cell_type": "markdown",
   "id": "efaae736",
   "metadata": {
    "id": "efaae736"
   },
   "source": [
    "## Index"
   ]
  },
  {
   "cell_type": "code",
   "execution_count": 53,
   "id": "63a2ae42",
   "metadata": {
    "id": "63a2ae42"
   },
   "outputs": [],
   "source": [
    "# see the distribution of the lenght of the index\n",
    "vlen = np.vectorize(lambda x: len(str(x)))\n",
    "indexes = pd.Series(vlen(tweets.index.to_numpy()))"
   ]
  },
  {
   "cell_type": "code",
   "execution_count": 54,
   "id": "7719d300",
   "metadata": {
    "id": "7719d300"
   },
   "outputs": [],
   "source": [
    "indexes.value_counts()\n",
    "del indexes"
   ]
  },
  {
   "cell_type": "code",
   "execution_count": 55,
   "id": "2a587b7b",
   "metadata": {
    "id": "2a587b7b"
   },
   "outputs": [],
   "source": [
    "# drop duplicated rows, dropping the row that have all the values duplicated not only the id\n",
    "tweets = tweets.drop_duplicates()"
   ]
  },
  {
   "cell_type": "code",
   "execution_count": 56,
   "id": "7e1b588c",
   "metadata": {
    "colab": {
     "base_uri": "https://localhost:8080/"
    },
    "id": "7e1b588c",
    "outputId": "043ebc3b-6c84-4370-b259-cd3845cc1852"
   },
   "outputs": [
    {
     "data": {
      "text/plain": [
       "(11712093, 9)"
      ]
     },
     "execution_count": 56,
     "metadata": {},
     "output_type": "execute_result"
    }
   ],
   "source": [
    "tweets.shape"
   ]
  },
  {
   "cell_type": "code",
   "execution_count": 57,
   "id": "8abcd031",
   "metadata": {
    "colab": {
     "base_uri": "https://localhost:8080/"
    },
    "id": "8abcd031",
    "outputId": "2527056a-cdeb-49dd-f072-2711dcbfcae6"
   },
   "outputs": [
    {
     "name": "stdout",
     "output_type": "stream",
     "text": [
      "removed rows : 1952603\n"
     ]
    }
   ],
   "source": [
    "print(f\"removed rows : {13664696 - 11712093}\")"
   ]
  },
  {
   "cell_type": "code",
   "execution_count": 58,
   "id": "61b7ce0c",
   "metadata": {
    "colab": {
     "base_uri": "https://localhost:8080/"
    },
    "id": "61b7ce0c",
    "outputId": "940d8472-4be2-4e0b-90e0-d3936444681f"
   },
   "outputs": [
    {
     "name": "stdout",
     "output_type": "stream",
     "text": [
      "dmy                   14\n",
      "qsa                   12\n",
      "mxo                   11\n",
      "nis                   11\n",
      "rdw                   11\n",
      "                      ..\n",
      "472403921332613120     1\n",
      "583261659797426176     1\n",
      "361607898599657473     1\n",
      "582869903788634113     1\n",
      "486479812614451200     1\n",
      "Name: id, Length: 11671631, dtype: int64\n"
     ]
    }
   ],
   "source": [
    "index_value_counts = tweets.index.value_counts()\n",
    "print(index_value_counts)"
   ]
  },
  {
   "cell_type": "code",
   "execution_count": 59,
   "id": "8e9ea156",
   "metadata": {
    "colab": {
     "base_uri": "https://localhost:8080/",
     "height": 564
    },
    "id": "8e9ea156",
    "outputId": "769314e2-f6f2-4936-a274-432c853d2b64"
   },
   "outputs": [
    {
     "data": {
      "text/html": [
       "\n",
       "  <div id=\"df-6abd7695-4bfb-4239-99ae-5dfb9a62272f\">\n",
       "    <div class=\"colab-df-container\">\n",
       "      <div>\n",
       "<style scoped>\n",
       "    .dataframe tbody tr th:only-of-type {\n",
       "        vertical-align: middle;\n",
       "    }\n",
       "\n",
       "    .dataframe tbody tr th {\n",
       "        vertical-align: top;\n",
       "    }\n",
       "\n",
       "    .dataframe thead th {\n",
       "        text-align: right;\n",
       "    }\n",
       "</style>\n",
       "<table border=\"1\" class=\"dataframe\">\n",
       "  <thead>\n",
       "    <tr style=\"text-align: right;\">\n",
       "      <th></th>\n",
       "      <th>user_id</th>\n",
       "      <th>retweet_count</th>\n",
       "      <th>reply_count</th>\n",
       "      <th>favorite_count</th>\n",
       "      <th>num_hashtags</th>\n",
       "      <th>num_urls</th>\n",
       "      <th>num_mentions</th>\n",
       "      <th>created_at</th>\n",
       "      <th>text</th>\n",
       "    </tr>\n",
       "    <tr>\n",
       "      <th>id</th>\n",
       "      <th></th>\n",
       "      <th></th>\n",
       "      <th></th>\n",
       "      <th></th>\n",
       "      <th></th>\n",
       "      <th></th>\n",
       "      <th></th>\n",
       "      <th></th>\n",
       "      <th></th>\n",
       "    </tr>\n",
       "  </thead>\n",
       "  <tbody>\n",
       "    <tr>\n",
       "      <th>dmy</th>\n",
       "      <td>2882736641</td>\n",
       "      <td>NaN</td>\n",
       "      <td>NaN</td>\n",
       "      <td>NaN</td>\n",
       "      <td>NaN</td>\n",
       "      <td>NaN</td>\n",
       "      <td>NaN</td>\n",
       "      <td>2020-04-24 17:07:08</td>\n",
       "      <td>NaN</td>\n",
       "    </tr>\n",
       "    <tr>\n",
       "      <th>dmy</th>\n",
       "      <td>138492664</td>\n",
       "      <td>NaN</td>\n",
       "      <td>NaN</td>\n",
       "      <td>NaN</td>\n",
       "      <td>NaN</td>\n",
       "      <td>NaN</td>\n",
       "      <td>NaN</td>\n",
       "      <td>2020-04-29 13:07:05</td>\n",
       "      <td>NaN</td>\n",
       "    </tr>\n",
       "    <tr>\n",
       "      <th>dmy</th>\n",
       "      <td>NaN</td>\n",
       "      <td>NaN</td>\n",
       "      <td>NaN</td>\n",
       "      <td>NaN</td>\n",
       "      <td>NaN</td>\n",
       "      <td>NaN</td>\n",
       "      <td>NaN</td>\n",
       "      <td>2019-04-10 01:52:25</td>\n",
       "      <td>NaN</td>\n",
       "    </tr>\n",
       "    <tr>\n",
       "      <th>dmy</th>\n",
       "      <td>467136996</td>\n",
       "      <td>NaN</td>\n",
       "      <td>NaN</td>\n",
       "      <td>NaN</td>\n",
       "      <td>NaN</td>\n",
       "      <td>NaN</td>\n",
       "      <td>NaN</td>\n",
       "      <td>2019-10-17 06:21:50</td>\n",
       "      <td>NaN</td>\n",
       "    </tr>\n",
       "    <tr>\n",
       "      <th>dmy</th>\n",
       "      <td>816485959</td>\n",
       "      <td>NaN</td>\n",
       "      <td>NaN</td>\n",
       "      <td>NaN</td>\n",
       "      <td>NaN</td>\n",
       "      <td>NaN</td>\n",
       "      <td>NaN</td>\n",
       "      <td>2019-11-09 17:24:53</td>\n",
       "      <td>NaN</td>\n",
       "    </tr>\n",
       "    <tr>\n",
       "      <th>dmy</th>\n",
       "      <td>531252639</td>\n",
       "      <td>NaN</td>\n",
       "      <td>NaN</td>\n",
       "      <td>NaN</td>\n",
       "      <td>NaN</td>\n",
       "      <td>NaN</td>\n",
       "      <td>NaN</td>\n",
       "      <td>2019-11-08 21:28:02</td>\n",
       "      <td>NaN</td>\n",
       "    </tr>\n",
       "    <tr>\n",
       "      <th>dmy</th>\n",
       "      <td>520977237</td>\n",
       "      <td>NaN</td>\n",
       "      <td>NaN</td>\n",
       "      <td>NaN</td>\n",
       "      <td>NaN</td>\n",
       "      <td>NaN</td>\n",
       "      <td>NaN</td>\n",
       "      <td>2019-04-06 01:58:36</td>\n",
       "      <td>NaN</td>\n",
       "    </tr>\n",
       "    <tr>\n",
       "      <th>dmy</th>\n",
       "      <td>535901760</td>\n",
       "      <td>NaN</td>\n",
       "      <td>NaN</td>\n",
       "      <td>NaN</td>\n",
       "      <td>NaN</td>\n",
       "      <td>NaN</td>\n",
       "      <td>NaN</td>\n",
       "      <td>2019-11-06 04:07:20</td>\n",
       "      <td>NaN</td>\n",
       "    </tr>\n",
       "    <tr>\n",
       "      <th>dmy</th>\n",
       "      <td>2351661655</td>\n",
       "      <td>NaN</td>\n",
       "      <td>NaN</td>\n",
       "      <td>NaN</td>\n",
       "      <td>NaN</td>\n",
       "      <td>NaN</td>\n",
       "      <td>NaN</td>\n",
       "      <td>2019-06-07 04:55:39</td>\n",
       "      <td>NaN</td>\n",
       "    </tr>\n",
       "    <tr>\n",
       "      <th>dmy</th>\n",
       "      <td>2183434100</td>\n",
       "      <td>NaN</td>\n",
       "      <td>NaN</td>\n",
       "      <td>NaN</td>\n",
       "      <td>NaN</td>\n",
       "      <td>NaN</td>\n",
       "      <td>NaN</td>\n",
       "      <td>2020-04-17 17:21:05</td>\n",
       "      <td>NaN</td>\n",
       "    </tr>\n",
       "    <tr>\n",
       "      <th>dmy</th>\n",
       "      <td>2359781660</td>\n",
       "      <td>NaN</td>\n",
       "      <td>NaN</td>\n",
       "      <td>NaN</td>\n",
       "      <td>NaN</td>\n",
       "      <td>NaN</td>\n",
       "      <td>NaN</td>\n",
       "      <td>2019-04-05 20:16:57</td>\n",
       "      <td>NaN</td>\n",
       "    </tr>\n",
       "    <tr>\n",
       "      <th>dmy</th>\n",
       "      <td>406828178</td>\n",
       "      <td>NaN</td>\n",
       "      <td>NaN</td>\n",
       "      <td>NaN</td>\n",
       "      <td>NaN</td>\n",
       "      <td>NaN</td>\n",
       "      <td>NaN</td>\n",
       "      <td>2017-02-26 13:03:18</td>\n",
       "      <td>NaN</td>\n",
       "    </tr>\n",
       "    <tr>\n",
       "      <th>dmy</th>\n",
       "      <td>xc41pjwq</td>\n",
       "      <td>NaN</td>\n",
       "      <td>NaN</td>\n",
       "      <td>NaN</td>\n",
       "      <td>NaN</td>\n",
       "      <td>NaN</td>\n",
       "      <td>NaN</td>\n",
       "      <td>2019-05-01 16:21:27</td>\n",
       "      <td>NaN</td>\n",
       "    </tr>\n",
       "    <tr>\n",
       "      <th>dmy</th>\n",
       "      <td>539138964</td>\n",
       "      <td>NaN</td>\n",
       "      <td>NaN</td>\n",
       "      <td>NaN</td>\n",
       "      <td>NaN</td>\n",
       "      <td>NaN</td>\n",
       "      <td>NaN</td>\n",
       "      <td>2019-05-28 21:23:26</td>\n",
       "      <td>NaN</td>\n",
       "    </tr>\n",
       "  </tbody>\n",
       "</table>\n",
       "</div>\n",
       "      <button class=\"colab-df-convert\" onclick=\"convertToInteractive('df-6abd7695-4bfb-4239-99ae-5dfb9a62272f')\"\n",
       "              title=\"Convert this dataframe to an interactive table.\"\n",
       "              style=\"display:none;\">\n",
       "        \n",
       "  <svg xmlns=\"http://www.w3.org/2000/svg\" height=\"24px\"viewBox=\"0 0 24 24\"\n",
       "       width=\"24px\">\n",
       "    <path d=\"M0 0h24v24H0V0z\" fill=\"none\"/>\n",
       "    <path d=\"M18.56 5.44l.94 2.06.94-2.06 2.06-.94-2.06-.94-.94-2.06-.94 2.06-2.06.94zm-11 1L8.5 8.5l.94-2.06 2.06-.94-2.06-.94L8.5 2.5l-.94 2.06-2.06.94zm10 10l.94 2.06.94-2.06 2.06-.94-2.06-.94-.94-2.06-.94 2.06-2.06.94z\"/><path d=\"M17.41 7.96l-1.37-1.37c-.4-.4-.92-.59-1.43-.59-.52 0-1.04.2-1.43.59L10.3 9.45l-7.72 7.72c-.78.78-.78 2.05 0 2.83L4 21.41c.39.39.9.59 1.41.59.51 0 1.02-.2 1.41-.59l7.78-7.78 2.81-2.81c.8-.78.8-2.07 0-2.86zM5.41 20L4 18.59l7.72-7.72 1.47 1.35L5.41 20z\"/>\n",
       "  </svg>\n",
       "      </button>\n",
       "      \n",
       "  <style>\n",
       "    .colab-df-container {\n",
       "      display:flex;\n",
       "      flex-wrap:wrap;\n",
       "      gap: 12px;\n",
       "    }\n",
       "\n",
       "    .colab-df-convert {\n",
       "      background-color: #E8F0FE;\n",
       "      border: none;\n",
       "      border-radius: 50%;\n",
       "      cursor: pointer;\n",
       "      display: none;\n",
       "      fill: #1967D2;\n",
       "      height: 32px;\n",
       "      padding: 0 0 0 0;\n",
       "      width: 32px;\n",
       "    }\n",
       "\n",
       "    .colab-df-convert:hover {\n",
       "      background-color: #E2EBFA;\n",
       "      box-shadow: 0px 1px 2px rgba(60, 64, 67, 0.3), 0px 1px 3px 1px rgba(60, 64, 67, 0.15);\n",
       "      fill: #174EA6;\n",
       "    }\n",
       "\n",
       "    [theme=dark] .colab-df-convert {\n",
       "      background-color: #3B4455;\n",
       "      fill: #D2E3FC;\n",
       "    }\n",
       "\n",
       "    [theme=dark] .colab-df-convert:hover {\n",
       "      background-color: #434B5C;\n",
       "      box-shadow: 0px 1px 3px 1px rgba(0, 0, 0, 0.15);\n",
       "      filter: drop-shadow(0px 1px 2px rgba(0, 0, 0, 0.3));\n",
       "      fill: #FFFFFF;\n",
       "    }\n",
       "  </style>\n",
       "\n",
       "      <script>\n",
       "        const buttonEl =\n",
       "          document.querySelector('#df-6abd7695-4bfb-4239-99ae-5dfb9a62272f button.colab-df-convert');\n",
       "        buttonEl.style.display =\n",
       "          google.colab.kernel.accessAllowed ? 'block' : 'none';\n",
       "\n",
       "        async function convertToInteractive(key) {\n",
       "          const element = document.querySelector('#df-6abd7695-4bfb-4239-99ae-5dfb9a62272f');\n",
       "          const dataTable =\n",
       "            await google.colab.kernel.invokeFunction('convertToInteractive',\n",
       "                                                     [key], {});\n",
       "          if (!dataTable) return;\n",
       "\n",
       "          const docLinkHtml = 'Like what you see? Visit the ' +\n",
       "            '<a target=\"_blank\" href=https://colab.research.google.com/notebooks/data_table.ipynb>data table notebook</a>'\n",
       "            + ' to learn more about interactive tables.';\n",
       "          element.innerHTML = '';\n",
       "          dataTable['output_type'] = 'display_data';\n",
       "          await google.colab.output.renderOutput(dataTable, element);\n",
       "          const docLink = document.createElement('div');\n",
       "          docLink.innerHTML = docLinkHtml;\n",
       "          element.appendChild(docLink);\n",
       "        }\n",
       "      </script>\n",
       "    </div>\n",
       "  </div>\n",
       "  "
      ],
      "text/plain": [
       "        user_id retweet_count reply_count favorite_count num_hashtags  \\\n",
       "id                                                                      \n",
       "dmy  2882736641           NaN         NaN            NaN          NaN   \n",
       "dmy   138492664           NaN         NaN            NaN          NaN   \n",
       "dmy         NaN           NaN         NaN            NaN          NaN   \n",
       "dmy   467136996           NaN         NaN            NaN          NaN   \n",
       "dmy   816485959           NaN         NaN            NaN          NaN   \n",
       "dmy   531252639           NaN         NaN            NaN          NaN   \n",
       "dmy   520977237           NaN         NaN            NaN          NaN   \n",
       "dmy   535901760           NaN         NaN            NaN          NaN   \n",
       "dmy  2351661655           NaN         NaN            NaN          NaN   \n",
       "dmy  2183434100           NaN         NaN            NaN          NaN   \n",
       "dmy  2359781660           NaN         NaN            NaN          NaN   \n",
       "dmy   406828178           NaN         NaN            NaN          NaN   \n",
       "dmy    xc41pjwq           NaN         NaN            NaN          NaN   \n",
       "dmy   539138964           NaN         NaN            NaN          NaN   \n",
       "\n",
       "    num_urls num_mentions           created_at text  \n",
       "id                                                   \n",
       "dmy      NaN          NaN  2020-04-24 17:07:08  NaN  \n",
       "dmy      NaN          NaN  2020-04-29 13:07:05  NaN  \n",
       "dmy      NaN          NaN  2019-04-10 01:52:25  NaN  \n",
       "dmy      NaN          NaN  2019-10-17 06:21:50  NaN  \n",
       "dmy      NaN          NaN  2019-11-09 17:24:53  NaN  \n",
       "dmy      NaN          NaN  2019-11-08 21:28:02  NaN  \n",
       "dmy      NaN          NaN  2019-04-06 01:58:36  NaN  \n",
       "dmy      NaN          NaN  2019-11-06 04:07:20  NaN  \n",
       "dmy      NaN          NaN  2019-06-07 04:55:39  NaN  \n",
       "dmy      NaN          NaN  2020-04-17 17:21:05  NaN  \n",
       "dmy      NaN          NaN  2019-04-05 20:16:57  NaN  \n",
       "dmy      NaN          NaN  2017-02-26 13:03:18  NaN  \n",
       "dmy      NaN          NaN  2019-05-01 16:21:27  NaN  \n",
       "dmy      NaN          NaN  2019-05-28 21:23:26  NaN  "
      ]
     },
     "execution_count": 59,
     "metadata": {},
     "output_type": "execute_result"
    }
   ],
   "source": [
    "tweets.loc[\"dmy\"]"
   ]
  },
  {
   "cell_type": "code",
   "execution_count": 60,
   "id": "428fbf3c",
   "metadata": {
    "id": "428fbf3c"
   },
   "outputs": [],
   "source": [
    "# we can see strange entries for non numerical indexes, try to eliminate them\n",
    "numerical_indexes_ids = pd.Series(tweets.index.str.isnumeric())"
   ]
  },
  {
   "cell_type": "code",
   "execution_count": 61,
   "id": "5527a7ee",
   "metadata": {
    "id": "5527a7ee"
   },
   "outputs": [],
   "source": [
    "numerical_indexes_ids[numerical_indexes_ids.isna()] = False"
   ]
  },
  {
   "cell_type": "code",
   "execution_count": 62,
   "id": "28b5ce92",
   "metadata": {
    "colab": {
     "base_uri": "https://localhost:8080/"
    },
    "id": "28b5ce92",
    "outputId": "6544f5cc-0962-4af7-e682-fe4cff14b565"
   },
   "outputs": [
    {
     "name": "stdout",
     "output_type": "stream",
     "text": [
      "Number of NaN element in the non numeric indexed tweets:  user_id           188364\n",
      "retweet_count     342974\n",
      "reply_count       496271\n",
      "favorite_count    496378\n",
      "num_hashtags      804930\n",
      "num_urls          497125\n",
      "num_mentions      650170\n",
      "created_at             0\n",
      "text              397261\n",
      "dtype: int64\n",
      "Total Number of element in the non numeric indexed tweets:  11278233\n",
      "Ratio of the Nan elements per column:  user_id           0.016702\n",
      "retweet_count     0.030410\n",
      "reply_count       0.044003\n",
      "favorite_count    0.044012\n",
      "num_hashtags      0.071370\n",
      "num_urls          0.044078\n",
      "num_mentions      0.057648\n",
      "created_at        0.000000\n",
      "text              0.035224\n",
      "dtype: float64\n",
      "Ratio of the Nan elements:  0.03816075522547627\n"
     ]
    }
   ],
   "source": [
    "# we can see the percentage of NaN element of the non numerical indexes\n",
    "nan_element = np.sum(tweets[numerical_indexes_ids.to_numpy()].isna())\n",
    "total_element = tweets[numerical_indexes_ids.to_numpy()].shape[0]\n",
    "\n",
    "print(\"Number of NaN element in the non numeric indexed tweets: \", nan_element)\n",
    "print(\"Total Number of element in the non numeric indexed tweets: \", total_element)\n",
    "\n",
    "ratio_per_column = nan_element/total_element\n",
    "\n",
    "print(\"Ratio of the Nan elements per column: \", ratio_per_column)\n",
    "\n",
    "print(\"Ratio of the Nan elements: \", ratio_per_column.mean())\n",
    "\n",
    "# the percentage of the Nan elements is too much, we can't drop that rows"
   ]
  },
  {
   "cell_type": "code",
   "execution_count": 63,
   "id": "062a078b",
   "metadata": {
    "colab": {
     "base_uri": "https://localhost:8080/"
    },
    "id": "062a078b",
    "outputId": "69ecfcf6-fbc8-4061-917d-bd52229bab1c"
   },
   "outputs": [
    {
     "name": "stdout",
     "output_type": "stream",
     "text": [
      "Number of NaN element in the non unique indexed tweets:  user_id            3847\n",
      "retweet_count     25452\n",
      "reply_count       38934\n",
      "favorite_count    38805\n",
      "num_hashtags      52393\n",
      "num_urls          38820\n",
      "num_mentions      47294\n",
      "created_at            0\n",
      "text              37501\n",
      "dtype: int64\n",
      "Total Number of element in the non unique indexed tweets:  58060\n",
      "Ratio of the Nan elements per column:  user_id           0.066259\n",
      "retweet_count     0.438374\n",
      "reply_count       0.670582\n",
      "favorite_count    0.668360\n",
      "num_hashtags      0.902394\n",
      "num_urls          0.668619\n",
      "num_mentions      0.814571\n",
      "created_at        0.000000\n",
      "text              0.645901\n",
      "dtype: float64\n",
      "Ratio of the Nan elements:  0.5416733647184904\n"
     ]
    }
   ],
   "source": [
    "# we can see the percentage of NaN element of the non unique indexes\n",
    "duplicated_index = index_value_counts[index_value_counts > 1].index.to_numpy()\n",
    "\n",
    "nan_element = np.sum(tweets.loc[duplicated_index].isna())\n",
    "total_element = tweets.loc[duplicated_index].shape[0]\n",
    "\n",
    "print(\"Number of NaN element in the non unique indexed tweets: \", nan_element)\n",
    "print(\"Total Number of element in the non unique indexed tweets: \", total_element)\n",
    "\n",
    "ratio_per_column = nan_element/total_element\n",
    "\n",
    "print(\"Ratio of the Nan elements per column: \", ratio_per_column)\n",
    "\n",
    "print(\"Ratio of the Nan elements: \", ratio_per_column.mean())\n",
    "\n",
    "# the percentage of the Nan elements is very high, we can drop that rows"
   ]
  },
  {
   "cell_type": "code",
   "execution_count": 64,
   "id": "a6u3qVracCrI",
   "metadata": {
    "id": "a6u3qVracCrI"
   },
   "outputs": [],
   "source": [
    "del numerical_indexes_ids\n",
    "del index_value_counts"
   ]
  },
  {
   "cell_type": "code",
   "execution_count": 65,
   "id": "fad32d1e",
   "metadata": {
    "id": "fad32d1e"
   },
   "outputs": [],
   "source": [
    "tweets = tweets.drop(duplicated_index)\n",
    "del duplicated_index"
   ]
  },
  {
   "cell_type": "code",
   "execution_count": 66,
   "id": "1bc6847b",
   "metadata": {
    "colab": {
     "base_uri": "https://localhost:8080/",
     "height": 475
    },
    "id": "1bc6847b",
    "outputId": "18b5a087-6ef6-48f6-af42-47aa83568c98"
   },
   "outputs": [
    {
     "data": {
      "text/html": [
       "\n",
       "  <div id=\"df-bc49e058-aab6-4c29-a402-d8260af51533\">\n",
       "    <div class=\"colab-df-container\">\n",
       "      <div>\n",
       "<style scoped>\n",
       "    .dataframe tbody tr th:only-of-type {\n",
       "        vertical-align: middle;\n",
       "    }\n",
       "\n",
       "    .dataframe tbody tr th {\n",
       "        vertical-align: top;\n",
       "    }\n",
       "\n",
       "    .dataframe thead th {\n",
       "        text-align: right;\n",
       "    }\n",
       "</style>\n",
       "<table border=\"1\" class=\"dataframe\">\n",
       "  <thead>\n",
       "    <tr style=\"text-align: right;\">\n",
       "      <th></th>\n",
       "      <th>user_id</th>\n",
       "      <th>retweet_count</th>\n",
       "      <th>reply_count</th>\n",
       "      <th>favorite_count</th>\n",
       "      <th>num_hashtags</th>\n",
       "      <th>num_urls</th>\n",
       "      <th>num_mentions</th>\n",
       "      <th>created_at</th>\n",
       "      <th>text</th>\n",
       "    </tr>\n",
       "    <tr>\n",
       "      <th>id</th>\n",
       "      <th></th>\n",
       "      <th></th>\n",
       "      <th></th>\n",
       "      <th></th>\n",
       "      <th></th>\n",
       "      <th></th>\n",
       "      <th></th>\n",
       "      <th></th>\n",
       "      <th></th>\n",
       "    </tr>\n",
       "  </thead>\n",
       "  <tbody>\n",
       "    <tr>\n",
       "      <th>509354017856950272</th>\n",
       "      <td>327746321</td>\n",
       "      <td>0</td>\n",
       "      <td>0</td>\n",
       "      <td>0</td>\n",
       "      <td>0</td>\n",
       "      <td>0</td>\n",
       "      <td>0</td>\n",
       "      <td>2019-09-11 14:53:55</td>\n",
       "      <td>If man is a little lower than angels, then ang...</td>\n",
       "    </tr>\n",
       "    <tr>\n",
       "      <th>583002592529121280</th>\n",
       "      <td>333722906</td>\n",
       "      <td>1</td>\n",
       "      <td>0</td>\n",
       "      <td>0</td>\n",
       "      <td>0</td>\n",
       "      <td>0</td>\n",
       "      <td>1</td>\n",
       "      <td>2020-04-01 20:27:04</td>\n",
       "      <td>\"@BestWSHHVids: how do you say these words wit...</td>\n",
       "    </tr>\n",
       "    <tr>\n",
       "      <th>461498835362013185</th>\n",
       "      <td>2379755827</td>\n",
       "      <td>0</td>\n",
       "      <td>0</td>\n",
       "      <td>0</td>\n",
       "      <td>0</td>\n",
       "      <td>0</td>\n",
       "      <td>1</td>\n",
       "      <td>2019-05-02 13:34:31</td>\n",
       "      <td>@LOLatComedy awsome</td>\n",
       "    </tr>\n",
       "    <tr>\n",
       "      <th>528808127366692864</th>\n",
       "      <td>466226882</td>\n",
       "      <td>0</td>\n",
       "      <td>0</td>\n",
       "      <td>0</td>\n",
       "      <td>0</td>\n",
       "      <td>0</td>\n",
       "      <td>0</td>\n",
       "      <td>2019-11-04 07:17:37</td>\n",
       "      <td>Stephen Hawkins: i buchi neri non esistono se ...</td>\n",
       "    </tr>\n",
       "    <tr>\n",
       "      <th>575336690904006656</th>\n",
       "      <td>1355537995</td>\n",
       "      <td>114</td>\n",
       "      <td>0</td>\n",
       "      <td>0</td>\n",
       "      <td>1</td>\n",
       "      <td>0</td>\n",
       "      <td>1</td>\n",
       "      <td>2020-03-11 16:45:31</td>\n",
       "      <td>RT @tibbs_montris: So ready for Wednesday!</td>\n",
       "    </tr>\n",
       "  </tbody>\n",
       "</table>\n",
       "</div>\n",
       "      <button class=\"colab-df-convert\" onclick=\"convertToInteractive('df-bc49e058-aab6-4c29-a402-d8260af51533')\"\n",
       "              title=\"Convert this dataframe to an interactive table.\"\n",
       "              style=\"display:none;\">\n",
       "        \n",
       "  <svg xmlns=\"http://www.w3.org/2000/svg\" height=\"24px\"viewBox=\"0 0 24 24\"\n",
       "       width=\"24px\">\n",
       "    <path d=\"M0 0h24v24H0V0z\" fill=\"none\"/>\n",
       "    <path d=\"M18.56 5.44l.94 2.06.94-2.06 2.06-.94-2.06-.94-.94-2.06-.94 2.06-2.06.94zm-11 1L8.5 8.5l.94-2.06 2.06-.94-2.06-.94L8.5 2.5l-.94 2.06-2.06.94zm10 10l.94 2.06.94-2.06 2.06-.94-2.06-.94-.94-2.06-.94 2.06-2.06.94z\"/><path d=\"M17.41 7.96l-1.37-1.37c-.4-.4-.92-.59-1.43-.59-.52 0-1.04.2-1.43.59L10.3 9.45l-7.72 7.72c-.78.78-.78 2.05 0 2.83L4 21.41c.39.39.9.59 1.41.59.51 0 1.02-.2 1.41-.59l7.78-7.78 2.81-2.81c.8-.78.8-2.07 0-2.86zM5.41 20L4 18.59l7.72-7.72 1.47 1.35L5.41 20z\"/>\n",
       "  </svg>\n",
       "      </button>\n",
       "      \n",
       "  <style>\n",
       "    .colab-df-container {\n",
       "      display:flex;\n",
       "      flex-wrap:wrap;\n",
       "      gap: 12px;\n",
       "    }\n",
       "\n",
       "    .colab-df-convert {\n",
       "      background-color: #E8F0FE;\n",
       "      border: none;\n",
       "      border-radius: 50%;\n",
       "      cursor: pointer;\n",
       "      display: none;\n",
       "      fill: #1967D2;\n",
       "      height: 32px;\n",
       "      padding: 0 0 0 0;\n",
       "      width: 32px;\n",
       "    }\n",
       "\n",
       "    .colab-df-convert:hover {\n",
       "      background-color: #E2EBFA;\n",
       "      box-shadow: 0px 1px 2px rgba(60, 64, 67, 0.3), 0px 1px 3px 1px rgba(60, 64, 67, 0.15);\n",
       "      fill: #174EA6;\n",
       "    }\n",
       "\n",
       "    [theme=dark] .colab-df-convert {\n",
       "      background-color: #3B4455;\n",
       "      fill: #D2E3FC;\n",
       "    }\n",
       "\n",
       "    [theme=dark] .colab-df-convert:hover {\n",
       "      background-color: #434B5C;\n",
       "      box-shadow: 0px 1px 3px 1px rgba(0, 0, 0, 0.15);\n",
       "      filter: drop-shadow(0px 1px 2px rgba(0, 0, 0, 0.3));\n",
       "      fill: #FFFFFF;\n",
       "    }\n",
       "  </style>\n",
       "\n",
       "      <script>\n",
       "        const buttonEl =\n",
       "          document.querySelector('#df-bc49e058-aab6-4c29-a402-d8260af51533 button.colab-df-convert');\n",
       "        buttonEl.style.display =\n",
       "          google.colab.kernel.accessAllowed ? 'block' : 'none';\n",
       "\n",
       "        async function convertToInteractive(key) {\n",
       "          const element = document.querySelector('#df-bc49e058-aab6-4c29-a402-d8260af51533');\n",
       "          const dataTable =\n",
       "            await google.colab.kernel.invokeFunction('convertToInteractive',\n",
       "                                                     [key], {});\n",
       "          if (!dataTable) return;\n",
       "\n",
       "          const docLinkHtml = 'Like what you see? Visit the ' +\n",
       "            '<a target=\"_blank\" href=https://colab.research.google.com/notebooks/data_table.ipynb>data table notebook</a>'\n",
       "            + ' to learn more about interactive tables.';\n",
       "          element.innerHTML = '';\n",
       "          dataTable['output_type'] = 'display_data';\n",
       "          await google.colab.output.renderOutput(dataTable, element);\n",
       "          const docLink = document.createElement('div');\n",
       "          docLink.innerHTML = docLinkHtml;\n",
       "          element.appendChild(docLink);\n",
       "        }\n",
       "      </script>\n",
       "    </div>\n",
       "  </div>\n",
       "  "
      ],
      "text/plain": [
       "                       user_id retweet_count reply_count favorite_count  \\\n",
       "id                                                                        \n",
       "509354017856950272   327746321             0           0              0   \n",
       "583002592529121280   333722906             1           0              0   \n",
       "461498835362013185  2379755827             0           0              0   \n",
       "528808127366692864   466226882             0           0              0   \n",
       "575336690904006656  1355537995           114           0              0   \n",
       "\n",
       "                   num_hashtags num_urls num_mentions           created_at  \\\n",
       "id                                                                           \n",
       "509354017856950272            0        0            0  2019-09-11 14:53:55   \n",
       "583002592529121280            0        0            1  2020-04-01 20:27:04   \n",
       "461498835362013185            0        0            1  2019-05-02 13:34:31   \n",
       "528808127366692864            0        0            0  2019-11-04 07:17:37   \n",
       "575336690904006656            1        0            1  2020-03-11 16:45:31   \n",
       "\n",
       "                                                                 text  \n",
       "id                                                                     \n",
       "509354017856950272  If man is a little lower than angels, then ang...  \n",
       "583002592529121280  \"@BestWSHHVids: how do you say these words wit...  \n",
       "461498835362013185                                @LOLatComedy awsome  \n",
       "528808127366692864  Stephen Hawkins: i buchi neri non esistono se ...  \n",
       "575336690904006656        RT @tibbs_montris: So ready for Wednesday!   "
      ]
     },
     "execution_count": 66,
     "metadata": {},
     "output_type": "execute_result"
    }
   ],
   "source": [
    "tweets.head()"
   ]
  },
  {
   "cell_type": "markdown",
   "id": "78799d46",
   "metadata": {
    "id": "78799d46"
   },
   "source": [
    "## User_id"
   ]
  },
  {
   "cell_type": "code",
   "execution_count": 67,
   "id": "da2ecda3",
   "metadata": {
    "colab": {
     "base_uri": "https://localhost:8080/"
    },
    "id": "da2ecda3",
    "outputId": "b80040fd-1fb6-49c7-e543-8cdd3b7bfdd3"
   },
   "outputs": [
    {
     "data": {
      "text/plain": [
       "491630583     3929\n",
       "497404180     3919\n",
       "1693274954    3906\n",
       "157029836     3903\n",
       "164940888     3903\n",
       "              ... \n",
       "jjxslowggo       1\n",
       "vagr             1\n",
       "mvys             1\n",
       "h7lhx            1\n",
       "tzn9s6bwj        1\n",
       "Name: user_id, Length: 218593, dtype: int64"
      ]
     },
     "execution_count": 67,
     "metadata": {},
     "output_type": "execute_result"
    }
   ],
   "source": [
    "tweets.user_id.value_counts()"
   ]
  },
  {
   "cell_type": "code",
   "execution_count": 68,
   "id": "90f6e3de",
   "metadata": {
    "colab": {
     "base_uri": "https://localhost:8080/"
    },
    "id": "90f6e3de",
    "outputId": "637c5de5-3d0d-4232-bae4-d1a3f27e5ad3"
   },
   "outputs": [
    {
     "name": "stdout",
     "output_type": "stream",
     "text": [
      "218594\n"
     ]
    }
   ],
   "source": [
    "unique_user_id = tweets.user_id.unique()\n",
    "print(len(unique_user_id))"
   ]
  },
  {
   "cell_type": "code",
   "execution_count": 69,
   "id": "45ee91d2",
   "metadata": {
    "id": "45ee91d2"
   },
   "outputs": [],
   "source": [
    "numeric_user_id = pd.Series(tweets.user_id.str.isnumeric())\n",
    "numeric_user_id[numeric_user_id.isna()] = False\n",
    "\n",
    "# valid_ids = numeric_user_id"
   ]
  },
  {
   "cell_type": "code",
   "execution_count": 70,
   "id": "5498bcd3",
   "metadata": {
    "colab": {
     "base_uri": "https://localhost:8080/"
    },
    "id": "5498bcd3",
    "outputId": "fb331554-710b-44ef-f00a-2d6ceefe51c4"
   },
   "outputs": [
    {
     "name": "stdout",
     "output_type": "stream",
     "text": [
      "numerical ids 11227784\n"
     ]
    }
   ],
   "source": [
    "print(f\"numerical ids {np.sum(numeric_user_id)}\")"
   ]
  },
  {
   "cell_type": "code",
   "execution_count": 71,
   "id": "c_qbenCORpd5",
   "metadata": {
    "id": "c_qbenCORpd5"
   },
   "outputs": [],
   "source": [
    "tweets = tweets[numeric_user_id]\n",
    "\n",
    "del numeric_user_id\n",
    "del unique_user_id"
   ]
  },
  {
   "cell_type": "code",
   "execution_count": 72,
   "id": "7he2P5pbFQPm",
   "metadata": {
    "colab": {
     "base_uri": "https://localhost:8080/"
    },
    "id": "7he2P5pbFQPm",
    "outputId": "7f97f578-0bbb-4792-cf3e-1209e921b7da"
   },
   "outputs": [
    {
     "data": {
      "text/plain": [
       "nan"
      ]
     },
     "execution_count": 72,
     "metadata": {},
     "output_type": "execute_result"
    }
   ],
   "source": [
    "np.nan"
   ]
  },
  {
   "cell_type": "code",
   "execution_count": 73,
   "id": "67d937b8",
   "metadata": {
    "id": "67d937b8"
   },
   "outputs": [],
   "source": [
    "# remove tweets whose user are not in the users dataset\n",
    "\n",
    "numeric_user_id = pd.to_numeric(tweets.user_id, errors=\"coerce\")\n",
    "\n",
    "tweets = tweets[numeric_user_id.isin(users.index)]"
   ]
  },
  {
   "cell_type": "code",
   "execution_count": 74,
   "id": "9a63df22",
   "metadata": {
    "colab": {
     "base_uri": "https://localhost:8080/"
    },
    "id": "9a63df22",
    "outputId": "f58c7bea-1787-45de-f1e0-d3d46dc108a0"
   },
   "outputs": [
    {
     "data": {
      "text/plain": [
       "(11226977, 9)"
      ]
     },
     "execution_count": 74,
     "metadata": {},
     "output_type": "execute_result"
    }
   ],
   "source": [
    "tweets.shape"
   ]
  },
  {
   "cell_type": "code",
   "execution_count": 75,
   "id": "6MqYbtGFPW3l",
   "metadata": {
    "id": "6MqYbtGFPW3l"
   },
   "outputs": [],
   "source": [
    "# function to handle non negative numerical values and outliers\n",
    "\n",
    "def function_handle_nnn(feature_name = None, upperscale_bound=1e7, quantile_outlier=0.9):\n",
    "    \n",
    "    print(f\"Feature: {feature_name}\")\n",
    "    \n",
    "    # valid numbers\n",
    "    numerical_entries = pd.Series(tweets[feature_name].str.isnumeric())\n",
    "    numerical_entries[numerical_entries.isna()] = False\n",
    "    \n",
    "    numerical_entries = numerical_entries.astype(bool)\n",
    "\n",
    "    numeric_count = pd.to_numeric(tweets[feature_name], errors=\"coerce\")\n",
    "\n",
    "    numeric_count.replace(float(\"inf\"), np.nan, inplace=True)\n",
    "    numeric_count = numeric_count.apply(lambda x: x if x >= 0 else np.nan)\n",
    "    numeric_count[~numerical_entries] = np.nan\n",
    "\n",
    "    # remove float elements\n",
    "\n",
    "    numeric_count_rounds = numeric_count.round()\n",
    "    numeric_count[numeric_count_rounds == numeric_count] = numeric_count_rounds[numeric_count_rounds == numeric_count].astype(int)\n",
    "    numeric_count[numeric_count_rounds != numeric_count] = np.nan\n",
    "    \n",
    "    tweets[feature_name] = numeric_count\n",
    "\n",
    "    del numeric_count_rounds\n",
    "    del numeric_count\n",
    "        \n",
    "    # remove over upper bound numbers\n",
    "    tweets.loc[tweets[feature_name]>upperscale_bound, feature_name] = np.floor(np.nanmedian(tweets[feature_name])) # upperscale_bound\n",
    "    \n",
    "    # transform powerlaw distr with log(x + 1)\n",
    "    log_transformed = tweets[feature_name].apply(lambda x: np.log(x + 1))\n",
    "    \n",
    "    # print statistics\n",
    "    print(\"Histogram - with outliers:\")\n",
    "    tweets[feature_name].hist()\n",
    "    plt.show()\n",
    "    \n",
    "    print(\"box plot - with outliers:\")\n",
    "    pd.DataFrame(tweets[feature_name]).boxplot()\n",
    "    plt.show()\n",
    "    \n",
    "    print(\"Histogram log - with outliers:\")\n",
    "    log_transformed.hist()\n",
    "    plt.show()\n",
    "    \n",
    "    print(\"box plot log - with outliers:\")\n",
    "    pd.DataFrame(log_transformed).boxplot()\n",
    "    plt.show()\n",
    "\n",
    "    # remove outliers\n",
    "    # TODO: think to not pass to the log scale for removing the outliers\n",
    "    quantile = log_transformed[~log_transformed.isna()].quantile(quantile_outlier)   \n",
    "    print(f\"{quantile_outlier}-quantile log : \", quantile)\n",
    "    print(f\"{quantile_outlier}-quantile : \", np.exp(quantile) - 1)\n",
    "    log_transformed[log_transformed>quantile] = np.nan\n",
    "    \n",
    "    tweets[feature_name] = log_transformed.apply(lambda x: np.exp(x) - 1)\n",
    "\n",
    "    # remove the NaN elements, by compute the overall median of the feature\n",
    "\n",
    "    # na_ids_count = tweets[feature_name].isna()\n",
    "    \n",
    "    # median = tweets.loc[~na_ids_count, feature_name].median()\n",
    "    # tweets.loc[na_ids_count, feature_name] = median\n",
    "\n",
    "    # del na_ids_count\n",
    "\n",
    "    # remove the NaN elements, by compute the median conditioned by the user_id of the tweet\n",
    "    tweets[feature_name].fillna(tweets.groupby([\"user_id\"])[feature_name].transform(lambda x: np.floor(np.nanmedian(x))), inplace=True)\n",
    "\n",
    "    tweets.loc[tweets[feature_name].isna(), feature_name] = np.floor(np.nanmedian(tweets[feature_name]))\n",
    "    \n",
    "    tweets[feature_name] = tweets[feature_name].astype(int)\n",
    "\n",
    "    # recreate log scale feature after removed the outliers, this can be optimize i think\n",
    "    log_transformed = tweets[feature_name].apply(lambda x: np.log(x + 1))\n",
    "\n",
    "    # print statistics\n",
    "    print(\"Histogram - removed outliers:\")\n",
    "    tweets[feature_name].hist()\n",
    "    plt.show()\n",
    "    \n",
    "    print(\"box plot - removed outliers:\")\n",
    "    pd.DataFrame(tweets[feature_name]).boxplot()\n",
    "    plt.show()\n",
    "    \n",
    "    print(\"Histogram log - removed outliers:\")\n",
    "    log_transformed.hist()\n",
    "    plt.show()\n",
    "    \n",
    "    print(\"box plot log - removed outliers:\")\n",
    "    pd.DataFrame(log_transformed).boxplot()\n",
    "    plt.show()\n",
    "\n",
    "    print(\"Finished\", end=\"\\n\")\n",
    "    \n",
    "    del log_transformed\n",
    "    \n",
    "    value_counts = tweets[feature_name].value_counts()\n",
    "    print(\"Value counts:\")\n",
    "    print(value_counts, end=\"\\n\")"
   ]
  },
  {
   "cell_type": "markdown",
   "id": "f0347dce",
   "metadata": {
    "id": "f0347dce"
   },
   "source": [
    "## Retweet_count"
   ]
  },
  {
   "cell_type": "code",
   "execution_count": 76,
   "id": "6544e4ad",
   "metadata": {
    "colab": {
     "base_uri": "https://localhost:8080/",
     "height": 1000
    },
    "id": "6544e4ad",
    "outputId": "bc25ea08-fcf2-4376-aaa0-7824178757a1"
   },
   "outputs": [
    {
     "name": "stdout",
     "output_type": "stream",
     "text": [
      "Feature: retweet_count\n",
      "Histogram - with outliers:\n"
     ]
    },
    {
     "data": {
      "image/png": "[encoded data removed]",
      "text/plain": [
       "<Figure size 432x288 with 1 Axes>"
      ]
     },
     "metadata": {
      "needs_background": "light"
     },
     "output_type": "display_data"
    },
    {
     "name": "stdout",
     "output_type": "stream",
     "text": [
      "box plot - with outliers:\n"
     ]
    },
    {
     "data": {
      "image/png": "[encoded data removed]",
      "text/plain": [
       "<Figure size 432x288 with 1 Axes>"
      ]
     },
     "metadata": {
      "needs_background": "light"
     },
     "output_type": "display_data"
    },
    {
     "name": "stdout",
     "output_type": "stream",
     "text": [
      "Histogram log - with outliers:\n"
     ]
    },
    {
     "data": {
      "image/png": "[encoded data removed]",
      "text/plain": [
       "<Figure size 432x288 with 1 Axes>"
      ]
     },
     "metadata": {
      "needs_background": "light"
     },
     "output_type": "display_data"
    },
    {
     "name": "stdout",
     "output_type": "stream",
     "text": [
      "box plot log - with outliers:\n"
     ]
    },
    {
     "data": {
      "image/png": "[encoded data removed]",
      "text/plain": [
       "<Figure size 432x288 with 1 Axes>"
      ]
     },
     "metadata": {
      "needs_background": "light"
     },
     "output_type": "display_data"
    },
    {
     "name": "stdout",
     "output_type": "stream",
     "text": [
      "0.95-quantile log :  5.986452005284438\n",
      "0.95-quantile :  397.0\n"
     ]
    },
    {
     "name": "stderr",
     "output_type": "stream",
     "text": [
      "/usr/local/lib/python3.7/dist-packages/numpy/lib/nanfunctions.py:1120: RuntimeWarning: All-NaN slice encountered\n",
      "  overwrite_input=overwrite_input)\n"
     ]
    },
    {
     "name": "stdout",
     "output_type": "stream",
     "text": [
      "Histogram - removed outliers:\n"
     ]
    },
    {
     "data": {
      "image/png": "[encoded data removed]",
      "text/plain": [
       "<Figure size 432x288 with 1 Axes>"
      ]
     },
     "metadata": {
      "needs_background": "light"
     },
     "output_type": "display_data"
    },
    {
     "name": "stdout",
     "output_type": "stream",
     "text": [
      "box plot - removed outliers:\n"
     ]
    },
    {
     "data": {
      "image/png": "[encoded data removed]",
      "text/plain": [
       "<Figure size 432x288 with 1 Axes>"
      ]
     },
     "metadata": {
      "needs_background": "light"
     },
     "output_type": "display_data"
    },
    {
     "name": "stdout",
     "output_type": "stream",
     "text": [
      "Histogram log - removed outliers:\n"
     ]
    },
    {
     "data": {
      "image/png": "[encoded data removed]",
      "text/plain": [
       "<Figure size 432x288 with 1 Axes>"
      ]
     },
     "metadata": {
      "needs_background": "light"
     },
     "output_type": "display_data"
    },
    {
     "name": "stdout",
     "output_type": "stream",
     "text": [
      "box plot log - removed outliers:\n"
     ]
    },
    {
     "data": {
      "image/png": "[encoded data removed]",
      "text/plain": [
       "<Figure size 432x288 with 1 Axes>"
      ]
     },
     "metadata": {
      "needs_background": "light"
     },
     "output_type": "display_data"
    },
    {
     "name": "stdout",
     "output_type": "stream",
     "text": [
      "Finished\n",
      "Value counts:\n",
      "0     8560935\n",
      "1     1117650\n",
      "2      315236\n",
      "3      259642\n",
      "5      121252\n",
      "       ...   \n",
      "27         90\n",
      "4          45\n",
      "79         34\n",
      "66         25\n",
      "7           8\n",
      "Name: retweet_count, Length: 306, dtype: int64\n"
     ]
    }
   ],
   "source": [
    "function_handle_nnn(\"retweet_count\", quantile_outlier=0.95)"
   ]
  },
  {
   "cell_type": "markdown",
   "id": "bb0e786c",
   "metadata": {
    "id": "bb0e786c"
   },
   "source": [
    "## reply count"
   ]
  },
  {
   "cell_type": "code",
   "execution_count": 77,
   "id": "7a838af6",
   "metadata": {
    "colab": {
     "base_uri": "https://localhost:8080/",
     "height": 1000
    },
    "id": "7a838af6",
    "outputId": "7756a42b-08d0-4664-886f-2859a6dcedc4"
   },
   "outputs": [
    {
     "name": "stdout",
     "output_type": "stream",
     "text": [
      "Feature: reply_count\n",
      "Histogram - with outliers:\n"
     ]
    },
    {
     "data": {
      "image/png": "[encoded data removed]",
      "text/plain": [
       "<Figure size 432x288 with 1 Axes>"
      ]
     },
     "metadata": {
      "needs_background": "light"
     },
     "output_type": "display_data"
    },
    {
     "name": "stdout",
     "output_type": "stream",
     "text": [
      "box plot - with outliers:\n"
     ]
    },
    {
     "data": {
      "image/png": "[encoded data removed]",
      "text/plain": [
       "<Figure size 432x288 with 1 Axes>"
      ]
     },
     "metadata": {
      "needs_background": "light"
     },
     "output_type": "display_data"
    },
    {
     "name": "stdout",
     "output_type": "stream",
     "text": [
      "Histogram log - with outliers:\n"
     ]
    },
    {
     "data": {
      "image/png": "[encoded data removed]",
      "text/plain": [
       "<Figure size 432x288 with 1 Axes>"
      ]
     },
     "metadata": {
      "needs_background": "light"
     },
     "output_type": "display_data"
    },
    {
     "name": "stdout",
     "output_type": "stream",
     "text": [
      "box plot log - with outliers:\n"
     ]
    },
    {
     "data": {
      "image/png": "[encoded data removed]",
      "text/plain": [
       "<Figure size 432x288 with 1 Axes>"
      ]
     },
     "metadata": {
      "needs_background": "light"
     },
     "output_type": "display_data"
    },
    {
     "name": "stdout",
     "output_type": "stream",
     "text": [
      "0.99995-quantile log :  4.927253685157205\n",
      "0.99995-quantile :  137.00000000000006\n",
      "Histogram - removed outliers:\n"
     ]
    },
    {
     "data": {
      "image/png": "[encoded data removed]",
      "text/plain": [
       "<Figure size 432x288 with 1 Axes>"
      ]
     },
     "metadata": {
      "needs_background": "light"
     },
     "output_type": "display_data"
    },
    {
     "name": "stdout",
     "output_type": "stream",
     "text": [
      "box plot - removed outliers:\n"
     ]
    },
    {
     "data": {
      "image/png": "[encoded data removed]",
      "text/plain": [
       "<Figure size 432x288 with 1 Axes>"
      ]
     },
     "metadata": {
      "needs_background": "light"
     },
     "output_type": "display_data"
    },
    {
     "name": "stdout",
     "output_type": "stream",
     "text": [
      "Histogram log - removed outliers:\n"
     ]
    },
    {
     "data": {
      "image/png": "[encoded data removed]",
      "text/plain": [
       "<Figure size 432x288 with 1 Axes>"
      ]
     },
     "metadata": {
      "needs_background": "light"
     },
     "output_type": "display_data"
    },
    {
     "name": "stdout",
     "output_type": "stream",
     "text": [
      "box plot log - removed outliers:\n"
     ]
    },
    {
     "data": {
      "image/png": "[encoded data removed]",
      "text/plain": [
       "<Figure size 432x288 with 1 Axes>"
      ]
     },
     "metadata": {
      "needs_background": "light"
     },
     "output_type": "display_data"
    },
    {
     "name": "stdout",
     "output_type": "stream",
     "text": [
      "Finished\n",
      "Value counts:\n",
      "0      11210420\n",
      "1         13189\n",
      "2          1208\n",
      "3           631\n",
      "5           284\n",
      "         ...   \n",
      "127           1\n",
      "80            1\n",
      "99            1\n",
      "105           1\n",
      "132           1\n",
      "Name: reply_count, Length: 99, dtype: int64\n"
     ]
    }
   ],
   "source": [
    "function_handle_nnn(\"reply_count\", 1e6, quantile_outlier=0.99995)"
   ]
  },
  {
   "cell_type": "markdown",
   "id": "6cb879c9",
   "metadata": {
    "id": "6cb879c9"
   },
   "source": [
    "## Favorite count"
   ]
  },
  {
   "cell_type": "code",
   "execution_count": 78,
   "id": "d5fd9438",
   "metadata": {
    "colab": {
     "base_uri": "https://localhost:8080/",
     "height": 1000
    },
    "id": "d5fd9438",
    "outputId": "5a1743d9-481a-4d05-b05d-f3cd63eaac3b"
   },
   "outputs": [
    {
     "name": "stdout",
     "output_type": "stream",
     "text": [
      "Feature: favorite_count\n",
      "Histogram - with outliers:\n"
     ]
    },
    {
     "data": {
      "image/png": "[encoded data removed]",
      "text/plain": [
       "<Figure size 432x288 with 1 Axes>"
      ]
     },
     "metadata": {
      "needs_background": "light"
     },
     "output_type": "display_data"
    },
    {
     "name": "stdout",
     "output_type": "stream",
     "text": [
      "box plot - with outliers:\n"
     ]
    },
    {
     "data": {
      "image/png": "[encoded data removed]",
      "text/plain": [
       "<Figure size 432x288 with 1 Axes>"
      ]
     },
     "metadata": {
      "needs_background": "light"
     },
     "output_type": "display_data"
    },
    {
     "name": "stdout",
     "output_type": "stream",
     "text": [
      "Histogram log - with outliers:\n"
     ]
    },
    {
     "data": {
      "image/png": "[encoded data removed]",
      "text/plain": [
       "<Figure size 432x288 with 1 Axes>"
      ]
     },
     "metadata": {
      "needs_background": "light"
     },
     "output_type": "display_data"
    },
    {
     "name": "stdout",
     "output_type": "stream",
     "text": [
      "box plot log - with outliers:\n"
     ]
    },
    {
     "data": {
      "image/png": "[encoded data removed]",
      "text/plain": [
       "<Figure size 432x288 with 1 Axes>"
      ]
     },
     "metadata": {
      "needs_background": "light"
     },
     "output_type": "display_data"
    },
    {
     "name": "stdout",
     "output_type": "stream",
     "text": [
      "0.999-quantile log :  3.784189633918261\n",
      "0.999-quantile :  42.99999999999999\n",
      "Histogram - removed outliers:\n"
     ]
    },
    {
     "data": {
      "image/png": "[encoded data removed]",
      "text/plain": [
       "<Figure size 432x288 with 1 Axes>"
      ]
     },
     "metadata": {
      "needs_background": "light"
     },
     "output_type": "display_data"
    },
    {
     "name": "stdout",
     "output_type": "stream",
     "text": [
      "box plot - removed outliers:\n"
     ]
    },
    {
     "data": {
      "image/png": "[encoded data removed]",
      "text/plain": [
       "<Figure size 432x288 with 1 Axes>"
      ]
     },
     "metadata": {
      "needs_background": "light"
     },
     "output_type": "display_data"
    },
    {
     "name": "stdout",
     "output_type": "stream",
     "text": [
      "Histogram log - removed outliers:\n"
     ]
    },
    {
     "data": {
      "image/png": "[encoded data removed]",
      "text/plain": [
       "<Figure size 432x288 with 1 Axes>"
      ]
     },
     "metadata": {
      "needs_background": "light"
     },
     "output_type": "display_data"
    },
    {
     "name": "stdout",
     "output_type": "stream",
     "text": [
      "box plot log - removed outliers:\n"
     ]
    },
    {
     "data": {
      "image/png": "[encoded data removed]",
      "text/plain": [
       "<Figure size 432x288 with 1 Axes>"
      ]
     },
     "metadata": {
      "needs_background": "light"
     },
     "output_type": "display_data"
    },
    {
     "name": "stdout",
     "output_type": "stream",
     "text": [
      "Finished\n",
      "Value counts:\n",
      "0     9156712\n",
      "1     1257255\n",
      "2      367723\n",
      "3      244228\n",
      "5       86438\n",
      "6       23313\n",
      "8       16458\n",
      "9       12379\n",
      "12      10518\n",
      "10       9308\n",
      "14       7965\n",
      "11       7137\n",
      "16       4908\n",
      "31       3063\n",
      "23       2117\n",
      "26       2083\n",
      "17       1953\n",
      "18       1682\n",
      "25       1467\n",
      "20       1447\n",
      "21       1408\n",
      "22       1127\n",
      "33        913\n",
      "35        812\n",
      "28        677\n",
      "29        663\n",
      "30        587\n",
      "42        523\n",
      "32        499\n",
      "36        411\n",
      "39        324\n",
      "37        310\n",
      "40        299\n",
      "41        270\n",
      "Name: favorite_count, dtype: int64\n"
     ]
    }
   ],
   "source": [
    "function_handle_nnn(\"favorite_count\", quantile_outlier=0.999)"
   ]
  },
  {
   "cell_type": "markdown",
   "id": "be67b0e0",
   "metadata": {
    "id": "be67b0e0"
   },
   "source": [
    "## num hashtags"
   ]
  },
  {
   "cell_type": "code",
   "execution_count": 79,
   "id": "QhNk9vxk5Tsa",
   "metadata": {
    "colab": {
     "base_uri": "https://localhost:8080/",
     "height": 1000
    },
    "id": "QhNk9vxk5Tsa",
    "outputId": "e1b85200-c173-436b-9783-912441111639"
   },
   "outputs": [
    {
     "name": "stdout",
     "output_type": "stream",
     "text": [
      "Feature: num_hashtags\n",
      "Histogram - with outliers:\n"
     ]
    },
    {
     "data": {
      "image/png": "[encoded data removed]",
      "text/plain": [
       "<Figure size 432x288 with 1 Axes>"
      ]
     },
     "metadata": {
      "needs_background": "light"
     },
     "output_type": "display_data"
    },
    {
     "name": "stdout",
     "output_type": "stream",
     "text": [
      "box plot - with outliers:\n"
     ]
    },
    {
     "data": {
      "image/png": "[encoded data removed]",
      "text/plain": [
       "<Figure size 432x288 with 1 Axes>"
      ]
     },
     "metadata": {
      "needs_background": "light"
     },
     "output_type": "display_data"
    },
    {
     "name": "stdout",
     "output_type": "stream",
     "text": [
      "Histogram log - with outliers:\n"
     ]
    },
    {
     "data": {
      "image/png": "[encoded data removed]",
      "text/plain": [
       "<Figure size 432x288 with 1 Axes>"
      ]
     },
     "metadata": {
      "needs_background": "light"
     },
     "output_type": "display_data"
    },
    {
     "name": "stdout",
     "output_type": "stream",
     "text": [
      "box plot log - with outliers:\n"
     ]
    },
    {
     "data": {
      "image/png": "[encoded data removed]",
      "text/plain": [
       "<Figure size 432x288 with 1 Axes>"
      ]
     },
     "metadata": {
      "needs_background": "light"
     },
     "output_type": "display_data"
    },
    {
     "name": "stdout",
     "output_type": "stream",
     "text": [
      "0.9999-quantile log :  2.3978952727983707\n",
      "0.9999-quantile :  10.000000000000002\n",
      "Histogram - removed outliers:\n"
     ]
    },
    {
     "data": {
      "image/png": "[encoded data removed]",
      "text/plain": [
       "<Figure size 432x288 with 1 Axes>"
      ]
     },
     "metadata": {
      "needs_background": "light"
     },
     "output_type": "display_data"
    },
    {
     "name": "stdout",
     "output_type": "stream",
     "text": [
      "box plot - removed outliers:\n"
     ]
    },
    {
     "data": {
      "image/png": "[encoded data removed]",
      "text/plain": [
       "<Figure size 432x288 with 1 Axes>"
      ]
     },
     "metadata": {
      "needs_background": "light"
     },
     "output_type": "display_data"
    },
    {
     "name": "stdout",
     "output_type": "stream",
     "text": [
      "Histogram log - removed outliers:\n"
     ]
    },
    {
     "data": {
      "image/png": "[encoded data removed]",
      "text/plain": [
       "<Figure size 432x288 with 1 Axes>"
      ]
     },
     "metadata": {
      "needs_background": "light"
     },
     "output_type": "display_data"
    },
    {
     "name": "stdout",
     "output_type": "stream",
     "text": [
      "box plot log - removed outliers:\n"
     ]
    },
    {
     "data": {
      "image/png": "[encoded data removed]",
      "text/plain": [
       "<Figure size 432x288 with 1 Axes>"
      ]
     },
     "metadata": {
      "needs_background": "light"
     },
     "output_type": "display_data"
    },
    {
     "name": "stdout",
     "output_type": "stream",
     "text": [
      "Finished\n",
      "Value counts:\n",
      "0     10069026\n",
      "1       794719\n",
      "2       231029\n",
      "3       101663\n",
      "5        21395\n",
      "6         4351\n",
      "8         2328\n",
      "9         1580\n",
      "10         886\n",
      "Name: num_hashtags, dtype: int64\n"
     ]
    }
   ],
   "source": [
    "function_handle_nnn(\"num_hashtags\", 50, quantile_outlier=0.9999)"
   ]
  },
  {
   "cell_type": "markdown",
   "id": "4dccbdf2",
   "metadata": {
    "id": "4dccbdf2"
   },
   "source": [
    "## Num urls"
   ]
  },
  {
   "cell_type": "code",
   "execution_count": 80,
   "id": "0ec7a84e",
   "metadata": {
    "colab": {
     "base_uri": "https://localhost:8080/",
     "height": 1000
    },
    "id": "0ec7a84e",
    "outputId": "009c6659-2b07-4d94-9e84-995b35619193"
   },
   "outputs": [
    {
     "name": "stdout",
     "output_type": "stream",
     "text": [
      "Feature: num_urls\n",
      "Histogram - with outliers:\n"
     ]
    },
    {
     "data": {
      "image/png": "[encoded data removed]",
      "text/plain": [
       "<Figure size 432x288 with 1 Axes>"
      ]
     },
     "metadata": {
      "needs_background": "light"
     },
     "output_type": "display_data"
    },
    {
     "name": "stdout",
     "output_type": "stream",
     "text": [
      "box plot - with outliers:\n"
     ]
    },
    {
     "data": {
      "image/png": "[encoded data removed]",
      "text/plain": [
       "<Figure size 432x288 with 1 Axes>"
      ]
     },
     "metadata": {
      "needs_background": "light"
     },
     "output_type": "display_data"
    },
    {
     "name": "stdout",
     "output_type": "stream",
     "text": [
      "Histogram log - with outliers:\n"
     ]
    },
    {
     "data": {
      "image/png": "[encoded data removed]",
      "text/plain": [
       "<Figure size 432x288 with 1 Axes>"
      ]
     },
     "metadata": {
      "needs_background": "light"
     },
     "output_type": "display_data"
    },
    {
     "name": "stdout",
     "output_type": "stream",
     "text": [
      "box plot log - with outliers:\n"
     ]
    },
    {
     "data": {
      "image/png": "[encoded data removed]",
      "text/plain": [
       "<Figure size 432x288 with 1 Axes>"
      ]
     },
     "metadata": {
      "needs_background": "light"
     },
     "output_type": "display_data"
    },
    {
     "name": "stdout",
     "output_type": "stream",
     "text": [
      "0.999995-quantile log :  1.791759469228055\n",
      "0.999995-quantile :  5.0\n",
      "Histogram - removed outliers:\n"
     ]
    },
    {
     "data": {
      "image/png": "[encoded data removed]",
      "text/plain": [
       "<Figure size 432x288 with 1 Axes>"
      ]
     },
     "metadata": {
      "needs_background": "light"
     },
     "output_type": "display_data"
    },
    {
     "name": "stdout",
     "output_type": "stream",
     "text": [
      "box plot - removed outliers:\n"
     ]
    },
    {
     "data": {
      "image/png": "[encoded data removed]",
      "text/plain": [
       "<Figure size 432x288 with 1 Axes>"
      ]
     },
     "metadata": {
      "needs_background": "light"
     },
     "output_type": "display_data"
    },
    {
     "name": "stdout",
     "output_type": "stream",
     "text": [
      "Histogram log - removed outliers:\n"
     ]
    },
    {
     "data": {
      "image/png": "[encoded data removed]",
      "text/plain": [
       "<Figure size 432x288 with 1 Axes>"
      ]
     },
     "metadata": {
      "needs_background": "light"
     },
     "output_type": "display_data"
    },
    {
     "name": "stdout",
     "output_type": "stream",
     "text": [
      "box plot log - removed outliers:\n"
     ]
    },
    {
     "data": {
      "image/png": "[encoded data removed]",
      "text/plain": [
       "<Figure size 432x288 with 1 Axes>"
      ]
     },
     "metadata": {
      "needs_background": "light"
     },
     "output_type": "display_data"
    },
    {
     "name": "stdout",
     "output_type": "stream",
     "text": [
      "Finished\n",
      "Value counts:\n",
      "0    9568627\n",
      "1    1637166\n",
      "2      20095\n",
      "3       1037\n",
      "5         52\n",
      "Name: num_urls, dtype: int64\n"
     ]
    }
   ],
   "source": [
    "function_handle_nnn(\"num_urls\", 30, quantile_outlier=0.999995)"
   ]
  },
  {
   "cell_type": "markdown",
   "id": "7f3cf218",
   "metadata": {
    "id": "7f3cf218"
   },
   "source": [
    "## Num mentions"
   ]
  },
  {
   "cell_type": "code",
   "execution_count": 81,
   "id": "9f54fe32",
   "metadata": {
    "colab": {
     "base_uri": "https://localhost:8080/",
     "height": 1000
    },
    "id": "9f54fe32",
    "outputId": "29008811-1761-4f26-da18-5612a143f6c3"
   },
   "outputs": [
    {
     "name": "stdout",
     "output_type": "stream",
     "text": [
      "Feature: num_mentions\n",
      "Histogram - with outliers:\n"
     ]
    },
    {
     "data": {
      "image/png": "[encoded data removed]",
      "text/plain": [
       "<Figure size 432x288 with 1 Axes>"
      ]
     },
     "metadata": {
      "needs_background": "light"
     },
     "output_type": "display_data"
    },
    {
     "name": "stdout",
     "output_type": "stream",
     "text": [
      "box plot - with outliers:\n"
     ]
    },
    {
     "data": {
      "image/png": "[encoded data removed]",
      "text/plain": [
       "<Figure size 432x288 with 1 Axes>"
      ]
     },
     "metadata": {
      "needs_background": "light"
     },
     "output_type": "display_data"
    },
    {
     "name": "stdout",
     "output_type": "stream",
     "text": [
      "Histogram log - with outliers:\n"
     ]
    },
    {
     "data": {
      "image/png": "[encoded data removed]",
      "text/plain": [
       "<Figure size 432x288 with 1 Axes>"
      ]
     },
     "metadata": {
      "needs_background": "light"
     },
     "output_type": "display_data"
    },
    {
     "name": "stdout",
     "output_type": "stream",
     "text": [
      "box plot log - with outliers:\n"
     ]
    },
    {
     "data": {
      "image/png": "[encoded data removed]",
      "text/plain": [
       "<Figure size 432x288 with 1 Axes>"
      ]
     },
     "metadata": {
      "needs_background": "light"
     },
     "output_type": "display_data"
    },
    {
     "name": "stdout",
     "output_type": "stream",
     "text": [
      "0.99995-quantile log :  2.4849066497880004\n",
      "0.99995-quantile :  11.0\n",
      "Histogram - removed outliers:\n"
     ]
    },
    {
     "data": {
      "image/png": "[encoded data removed]",
      "text/plain": [
       "<Figure size 432x288 with 1 Axes>"
      ]
     },
     "metadata": {
      "needs_background": "light"
     },
     "output_type": "display_data"
    },
    {
     "name": "stdout",
     "output_type": "stream",
     "text": [
      "box plot - removed outliers:\n"
     ]
    },
    {
     "data": {
      "image/png": "[encoded data removed]",
      "text/plain": [
       "<Figure size 432x288 with 1 Axes>"
      ]
     },
     "metadata": {
      "needs_background": "light"
     },
     "output_type": "display_data"
    },
    {
     "name": "stdout",
     "output_type": "stream",
     "text": [
      "Histogram log - removed outliers:\n"
     ]
    },
    {
     "data": {
      "image/png": "[encoded data removed]",
      "text/plain": [
       "<Figure size 432x288 with 1 Axes>"
      ]
     },
     "metadata": {
      "needs_background": "light"
     },
     "output_type": "display_data"
    },
    {
     "name": "stdout",
     "output_type": "stream",
     "text": [
      "box plot log - removed outliers:\n"
     ]
    },
    {
     "data": {
      "image/png": "[encoded data removed]",
      "text/plain": [
       "<Figure size 432x288 with 1 Axes>"
      ]
     },
     "metadata": {
      "needs_background": "light"
     },
     "output_type": "display_data"
    },
    {
     "name": "stdout",
     "output_type": "stream",
     "text": [
      "Finished\n",
      "Value counts:\n",
      "0     6664143\n",
      "1     3724727\n",
      "2      598133\n",
      "3      191114\n",
      "5       32722\n",
      "6        6632\n",
      "8        4452\n",
      "9        2801\n",
      "10       1653\n",
      "11        600\n",
      "Name: num_mentions, dtype: int64\n"
     ]
    }
   ],
   "source": [
    "function_handle_nnn(\"num_mentions\", 50, quantile_outlier=0.99995)"
   ]
  },
  {
   "cell_type": "markdown",
   "id": "575b6645",
   "metadata": {
    "id": "575b6645"
   },
   "source": [
    "## numerical correlations"
   ]
  },
  {
   "cell_type": "code",
   "execution_count": 82,
   "id": "32e19b0a",
   "metadata": {
    "id": "32e19b0a"
   },
   "outputs": [],
   "source": [
    "numerical_cols = [\"retweet_count\", \"reply_count\", \"favorite_count\", \"num_hashtags\", \"num_urls\", \"num_mentions\"]"
   ]
  },
  {
   "cell_type": "code",
   "execution_count": 83,
   "id": "c235a3a7",
   "metadata": {
    "colab": {
     "base_uri": "https://localhost:8080/",
     "height": 238
    },
    "id": "c235a3a7",
    "outputId": "1649fd3c-4d61-4cd5-ab40-705c006e00e7"
   },
   "outputs": [
    {
     "data": {
      "text/html": [
       "\n",
       "  <div id=\"df-04030641-10cb-4564-a6bb-6d4cf12bd08e\">\n",
       "    <div class=\"colab-df-container\">\n",
       "      <div>\n",
       "<style scoped>\n",
       "    .dataframe tbody tr th:only-of-type {\n",
       "        vertical-align: middle;\n",
       "    }\n",
       "\n",
       "    .dataframe tbody tr th {\n",
       "        vertical-align: top;\n",
       "    }\n",
       "\n",
       "    .dataframe thead th {\n",
       "        text-align: right;\n",
       "    }\n",
       "</style>\n",
       "<table border=\"1\" class=\"dataframe\">\n",
       "  <thead>\n",
       "    <tr style=\"text-align: right;\">\n",
       "      <th></th>\n",
       "      <th>retweet_count</th>\n",
       "      <th>reply_count</th>\n",
       "      <th>favorite_count</th>\n",
       "      <th>num_hashtags</th>\n",
       "      <th>num_urls</th>\n",
       "      <th>num_mentions</th>\n",
       "    </tr>\n",
       "  </thead>\n",
       "  <tbody>\n",
       "    <tr>\n",
       "      <th>retweet_count</th>\n",
       "      <td>1.000000</td>\n",
       "      <td>0.075765</td>\n",
       "      <td>-0.017106</td>\n",
       "      <td>0.058517</td>\n",
       "      <td>0.006197</td>\n",
       "      <td>0.141375</td>\n",
       "    </tr>\n",
       "    <tr>\n",
       "      <th>reply_count</th>\n",
       "      <td>0.075765</td>\n",
       "      <td>1.000000</td>\n",
       "      <td>0.030997</td>\n",
       "      <td>-0.001480</td>\n",
       "      <td>-0.001879</td>\n",
       "      <td>0.011117</td>\n",
       "    </tr>\n",
       "    <tr>\n",
       "      <th>favorite_count</th>\n",
       "      <td>-0.017106</td>\n",
       "      <td>0.030997</td>\n",
       "      <td>1.000000</td>\n",
       "      <td>-0.007712</td>\n",
       "      <td>-0.074191</td>\n",
       "      <td>-0.052669</td>\n",
       "    </tr>\n",
       "    <tr>\n",
       "      <th>num_hashtags</th>\n",
       "      <td>0.058517</td>\n",
       "      <td>-0.001480</td>\n",
       "      <td>-0.007712</td>\n",
       "      <td>1.000000</td>\n",
       "      <td>0.097582</td>\n",
       "      <td>0.096296</td>\n",
       "    </tr>\n",
       "    <tr>\n",
       "      <th>num_urls</th>\n",
       "      <td>0.006197</td>\n",
       "      <td>-0.001879</td>\n",
       "      <td>-0.074191</td>\n",
       "      <td>0.097582</td>\n",
       "      <td>1.000000</td>\n",
       "      <td>-0.065059</td>\n",
       "    </tr>\n",
       "    <tr>\n",
       "      <th>num_mentions</th>\n",
       "      <td>0.141375</td>\n",
       "      <td>0.011117</td>\n",
       "      <td>-0.052669</td>\n",
       "      <td>0.096296</td>\n",
       "      <td>-0.065059</td>\n",
       "      <td>1.000000</td>\n",
       "    </tr>\n",
       "  </tbody>\n",
       "</table>\n",
       "</div>\n",
       "      <button class=\"colab-df-convert\" onclick=\"convertToInteractive('df-04030641-10cb-4564-a6bb-6d4cf12bd08e')\"\n",
       "              title=\"Convert this dataframe to an interactive table.\"\n",
       "              style=\"display:none;\">\n",
       "        \n",
       "  <svg xmlns=\"http://www.w3.org/2000/svg\" height=\"24px\"viewBox=\"0 0 24 24\"\n",
       "       width=\"24px\">\n",
       "    <path d=\"M0 0h24v24H0V0z\" fill=\"none\"/>\n",
       "    <path d=\"M18.56 5.44l.94 2.06.94-2.06 2.06-.94-2.06-.94-.94-2.06-.94 2.06-2.06.94zm-11 1L8.5 8.5l.94-2.06 2.06-.94-2.06-.94L8.5 2.5l-.94 2.06-2.06.94zm10 10l.94 2.06.94-2.06 2.06-.94-2.06-.94-.94-2.06-.94 2.06-2.06.94z\"/><path d=\"M17.41 7.96l-1.37-1.37c-.4-.4-.92-.59-1.43-.59-.52 0-1.04.2-1.43.59L10.3 9.45l-7.72 7.72c-.78.78-.78 2.05 0 2.83L4 21.41c.39.39.9.59 1.41.59.51 0 1.02-.2 1.41-.59l7.78-7.78 2.81-2.81c.8-.78.8-2.07 0-2.86zM5.41 20L4 18.59l7.72-7.72 1.47 1.35L5.41 20z\"/>\n",
       "  </svg>\n",
       "      </button>\n",
       "      \n",
       "  <style>\n",
       "    .colab-df-container {\n",
       "      display:flex;\n",
       "      flex-wrap:wrap;\n",
       "      gap: 12px;\n",
       "    }\n",
       "\n",
       "    .colab-df-convert {\n",
       "      background-color: #E8F0FE;\n",
       "      border: none;\n",
       "      border-radius: 50%;\n",
       "      cursor: pointer;\n",
       "      display: none;\n",
       "      fill: #1967D2;\n",
       "      height: 32px;\n",
       "      padding: 0 0 0 0;\n",
       "      width: 32px;\n",
       "    }\n",
       "\n",
       "    .colab-df-convert:hover {\n",
       "      background-color: #E2EBFA;\n",
       "      box-shadow: 0px 1px 2px rgba(60, 64, 67, 0.3), 0px 1px 3px 1px rgba(60, 64, 67, 0.15);\n",
       "      fill: #174EA6;\n",
       "    }\n",
       "\n",
       "    [theme=dark] .colab-df-convert {\n",
       "      background-color: #3B4455;\n",
       "      fill: #D2E3FC;\n",
       "    }\n",
       "\n",
       "    [theme=dark] .colab-df-convert:hover {\n",
       "      background-color: #434B5C;\n",
       "      box-shadow: 0px 1px 3px 1px rgba(0, 0, 0, 0.15);\n",
       "      filter: drop-shadow(0px 1px 2px rgba(0, 0, 0, 0.3));\n",
       "      fill: #FFFFFF;\n",
       "    }\n",
       "  </style>\n",
       "\n",
       "      <script>\n",
       "        const buttonEl =\n",
       "          document.querySelector('#df-04030641-10cb-4564-a6bb-6d4cf12bd08e button.colab-df-convert');\n",
       "        buttonEl.style.display =\n",
       "          google.colab.kernel.accessAllowed ? 'block' : 'none';\n",
       "\n",
       "        async function convertToInteractive(key) {\n",
       "          const element = document.querySelector('#df-04030641-10cb-4564-a6bb-6d4cf12bd08e');\n",
       "          const dataTable =\n",
       "            await google.colab.kernel.invokeFunction('convertToInteractive',\n",
       "                                                     [key], {});\n",
       "          if (!dataTable) return;\n",
       "\n",
       "          const docLinkHtml = 'Like what you see? Visit the ' +\n",
       "            '<a target=\"_blank\" href=https://colab.research.google.com/notebooks/data_table.ipynb>data table notebook</a>'\n",
       "            + ' to learn more about interactive tables.';\n",
       "          element.innerHTML = '';\n",
       "          dataTable['output_type'] = 'display_data';\n",
       "          await google.colab.output.renderOutput(dataTable, element);\n",
       "          const docLink = document.createElement('div');\n",
       "          docLink.innerHTML = docLinkHtml;\n",
       "          element.appendChild(docLink);\n",
       "        }\n",
       "      </script>\n",
       "    </div>\n",
       "  </div>\n",
       "  "
      ],
      "text/plain": [
       "                retweet_count  reply_count  favorite_count  num_hashtags  \\\n",
       "retweet_count        1.000000     0.075765       -0.017106      0.058517   \n",
       "reply_count          0.075765     1.000000        0.030997     -0.001480   \n",
       "favorite_count      -0.017106     0.030997        1.000000     -0.007712   \n",
       "num_hashtags         0.058517    -0.001480       -0.007712      1.000000   \n",
       "num_urls             0.006197    -0.001879       -0.074191      0.097582   \n",
       "num_mentions         0.141375     0.011117       -0.052669      0.096296   \n",
       "\n",
       "                num_urls  num_mentions  \n",
       "retweet_count   0.006197      0.141375  \n",
       "reply_count    -0.001879      0.011117  \n",
       "favorite_count -0.074191     -0.052669  \n",
       "num_hashtags    0.097582      0.096296  \n",
       "num_urls        1.000000     -0.065059  \n",
       "num_mentions   -0.065059      1.000000  "
      ]
     },
     "execution_count": 83,
     "metadata": {},
     "output_type": "execute_result"
    }
   ],
   "source": [
    "tweets[numerical_cols].sample(10000).corr()"
   ]
  },
  {
   "cell_type": "markdown",
   "id": "0c6812fe",
   "metadata": {
    "id": "0c6812fe"
   },
   "source": [
    "## Created at"
   ]
  },
  {
   "cell_type": "code",
   "execution_count": 84,
   "id": "ed5eb304",
   "metadata": {
    "colab": {
     "base_uri": "https://localhost:8080/"
    },
    "id": "ed5eb304",
    "outputId": "687688b2-10ae-4822-a844-2ec04bca3401"
   },
   "outputs": [
    {
     "name": "stdout",
     "output_type": "stream",
     "text": [
      "Number of NaN in created_at feature:  0\n"
     ]
    }
   ],
   "source": [
    "nan_created_at_ids = tweets.created_at.isna()\n",
    "print(\"Number of NaN in created_at feature: \", np.sum(nan_created_at_ids))\n",
    "\n",
    "\n",
    "tweets = tweets[~nan_created_at_ids]"
   ]
  },
  {
   "cell_type": "code",
   "execution_count": 85,
   "id": "9980a924",
   "metadata": {
    "colab": {
     "base_uri": "https://localhost:8080/"
    },
    "id": "9980a924",
    "outputId": "26d9d5be-cd9b-4f79-9c48-f3bb30d7005f"
   },
   "outputs": [
    {
     "name": "stdout",
     "output_type": "stream",
     "text": [
      "All the dates are ok!\n"
     ]
    }
   ],
   "source": [
    "try:\n",
    "    dates = pd.to_datetime(tweets.created_at, format='%Y-%m-%d %H:%M:%S', errors='raise')\n",
    "        \n",
    "    print(\"All the dates are ok!\")\n",
    "except ValueError as e:\n",
    "    print(e)"
   ]
  },
  {
   "cell_type": "code",
   "execution_count": 86,
   "id": "34ec1974",
   "metadata": {
    "colab": {
     "base_uri": "https://localhost:8080/"
    },
    "id": "34ec1974",
    "outputId": "a00dfc21-71fe-4df0-e071-1c72d4ad40ce"
   },
   "outputs": [
    {
     "data": {
      "text/plain": [
       "dtype('O')"
      ]
     },
     "execution_count": 86,
     "metadata": {},
     "output_type": "execute_result"
    }
   ],
   "source": [
    "tweets.created_at.dtype"
   ]
  },
  {
   "cell_type": "code",
   "execution_count": 87,
   "id": "d1580d46",
   "metadata": {
    "colab": {
     "base_uri": "https://localhost:8080/",
     "height": 35
    },
    "id": "d1580d46",
    "outputId": "a44c585e-e7eb-4310-9df3-790fbf157992"
   },
   "outputs": [
    {
     "data": {
      "application/vnd.google.colaboratory.intrinsic+json": {
       "type": "string"
      },
      "text/plain": [
       "'1953-04-17 12:24:33'"
      ]
     },
     "execution_count": 87,
     "metadata": {},
     "output_type": "execute_result"
    }
   ],
   "source": [
    "# prima della creazione di tweetter\n",
    "tweets.created_at.min()"
   ]
  },
  {
   "cell_type": "code",
   "execution_count": 88,
   "id": "f4e44528",
   "metadata": {
    "colab": {
     "base_uri": "https://localhost:8080/",
     "height": 35
    },
    "id": "f4e44528",
    "outputId": "d0ee313c-17ee-4442-c2a7-097d63edf061"
   },
   "outputs": [
    {
     "data": {
      "application/vnd.google.colaboratory.intrinsic+json": {
       "type": "string"
      },
      "text/plain": [
       "'2040-04-27 11:03:25'"
      ]
     },
     "execution_count": 88,
     "metadata": {},
     "output_type": "execute_result"
    }
   ],
   "source": [
    "# nel futuro\n",
    "tweets.created_at.max()"
   ]
  },
  {
   "cell_type": "code",
   "execution_count": 89,
   "id": "vMncOGzD_ZqQ",
   "metadata": {
    "id": "vMncOGzD_ZqQ"
   },
   "outputs": [],
   "source": [
    "# substitute the wrong dates with a default one\n",
    "default_date = \"1800-01-01 00:00:00\""
   ]
  },
  {
   "cell_type": "code",
   "execution_count": 90,
   "id": "qMHjlqkjAzWs",
   "metadata": {
    "id": "qMHjlqkjAzWs"
   },
   "outputs": [],
   "source": [
    "tweets.user_id = tweets.user_id.astype(int)\n",
    "\n",
    "users[\"user_id\"] = users.index\n",
    "\n",
    "joined = tweets[[\"user_id\", \"created_at\"]].join(other=users[[\"user_id\", \"created_at\"]], on=\"user_id\", how=\"left\", lsuffix='_tweet', rsuffix='_user').loc[:, [\"created_at_tweet\", \"created_at_user\"]]\n",
    "\n",
    "del users[\"user_id\"]"
   ]
  },
  {
   "cell_type": "code",
   "execution_count": 91,
   "id": "kKY_cQ52BTx5",
   "metadata": {
    "colab": {
     "base_uri": "https://localhost:8080/"
    },
    "id": "kKY_cQ52BTx5",
    "outputId": "2d5e5798-7fd3-4693-d162-a06f4431ddf1"
   },
   "outputs": [
    {
     "data": {
      "text/plain": [
       "(11226977, 2)"
      ]
     },
     "execution_count": 91,
     "metadata": {},
     "output_type": "execute_result"
    }
   ],
   "source": [
    "joined.shape"
   ]
  },
  {
   "cell_type": "code",
   "execution_count": 92,
   "id": "qAim8SjBSV7r",
   "metadata": {
    "colab": {
     "base_uri": "https://localhost:8080/",
     "height": 238
    },
    "id": "qAim8SjBSV7r",
    "outputId": "372f0602-e9bb-41da-d4a3-d68a41e14238"
   },
   "outputs": [
    {
     "data": {
      "text/html": [
       "\n",
       "  <div id=\"df-5aaaef16-f3c0-4840-878f-61d78b8928cd\">\n",
       "    <div class=\"colab-df-container\">\n",
       "      <div>\n",
       "<style scoped>\n",
       "    .dataframe tbody tr th:only-of-type {\n",
       "        vertical-align: middle;\n",
       "    }\n",
       "\n",
       "    .dataframe tbody tr th {\n",
       "        vertical-align: top;\n",
       "    }\n",
       "\n",
       "    .dataframe thead th {\n",
       "        text-align: right;\n",
       "    }\n",
       "</style>\n",
       "<table border=\"1\" class=\"dataframe\">\n",
       "  <thead>\n",
       "    <tr style=\"text-align: right;\">\n",
       "      <th></th>\n",
       "      <th>created_at_tweet</th>\n",
       "      <th>created_at_user</th>\n",
       "    </tr>\n",
       "    <tr>\n",
       "      <th>id</th>\n",
       "      <th></th>\n",
       "      <th></th>\n",
       "    </tr>\n",
       "  </thead>\n",
       "  <tbody>\n",
       "    <tr>\n",
       "      <th>509354017856950272</th>\n",
       "      <td>2019-09-11 14:53:55</td>\n",
       "      <td>2016-07-03 02:37:46</td>\n",
       "    </tr>\n",
       "    <tr>\n",
       "      <th>583002592529121280</th>\n",
       "      <td>2020-04-01 20:27:04</td>\n",
       "      <td>2016-07-13 00:06:28</td>\n",
       "    </tr>\n",
       "    <tr>\n",
       "      <th>461498835362013185</th>\n",
       "      <td>2019-05-02 13:34:31</td>\n",
       "      <td>2019-03-11 03:36:43</td>\n",
       "    </tr>\n",
       "    <tr>\n",
       "      <th>528808127366692864</th>\n",
       "      <td>2019-11-04 07:17:37</td>\n",
       "      <td>2017-01-18 05:40:50</td>\n",
       "    </tr>\n",
       "    <tr>\n",
       "      <th>575336690904006656</th>\n",
       "      <td>2020-03-11 16:45:31</td>\n",
       "      <td>2018-04-17 22:50:24</td>\n",
       "    </tr>\n",
       "  </tbody>\n",
       "</table>\n",
       "</div>\n",
       "      <button class=\"colab-df-convert\" onclick=\"convertToInteractive('df-5aaaef16-f3c0-4840-878f-61d78b8928cd')\"\n",
       "              title=\"Convert this dataframe to an interactive table.\"\n",
       "              style=\"display:none;\">\n",
       "        \n",
       "  <svg xmlns=\"http://www.w3.org/2000/svg\" height=\"24px\"viewBox=\"0 0 24 24\"\n",
       "       width=\"24px\">\n",
       "    <path d=\"M0 0h24v24H0V0z\" fill=\"none\"/>\n",
       "    <path d=\"M18.56 5.44l.94 2.06.94-2.06 2.06-.94-2.06-.94-.94-2.06-.94 2.06-2.06.94zm-11 1L8.5 8.5l.94-2.06 2.06-.94-2.06-.94L8.5 2.5l-.94 2.06-2.06.94zm10 10l.94 2.06.94-2.06 2.06-.94-2.06-.94-.94-2.06-.94 2.06-2.06.94z\"/><path d=\"M17.41 7.96l-1.37-1.37c-.4-.4-.92-.59-1.43-.59-.52 0-1.04.2-1.43.59L10.3 9.45l-7.72 7.72c-.78.78-.78 2.05 0 2.83L4 21.41c.39.39.9.59 1.41.59.51 0 1.02-.2 1.41-.59l7.78-7.78 2.81-2.81c.8-.78.8-2.07 0-2.86zM5.41 20L4 18.59l7.72-7.72 1.47 1.35L5.41 20z\"/>\n",
       "  </svg>\n",
       "      </button>\n",
       "      \n",
       "  <style>\n",
       "    .colab-df-container {\n",
       "      display:flex;\n",
       "      flex-wrap:wrap;\n",
       "      gap: 12px;\n",
       "    }\n",
       "\n",
       "    .colab-df-convert {\n",
       "      background-color: #E8F0FE;\n",
       "      border: none;\n",
       "      border-radius: 50%;\n",
       "      cursor: pointer;\n",
       "      display: none;\n",
       "      fill: #1967D2;\n",
       "      height: 32px;\n",
       "      padding: 0 0 0 0;\n",
       "      width: 32px;\n",
       "    }\n",
       "\n",
       "    .colab-df-convert:hover {\n",
       "      background-color: #E2EBFA;\n",
       "      box-shadow: 0px 1px 2px rgba(60, 64, 67, 0.3), 0px 1px 3px 1px rgba(60, 64, 67, 0.15);\n",
       "      fill: #174EA6;\n",
       "    }\n",
       "\n",
       "    [theme=dark] .colab-df-convert {\n",
       "      background-color: #3B4455;\n",
       "      fill: #D2E3FC;\n",
       "    }\n",
       "\n",
       "    [theme=dark] .colab-df-convert:hover {\n",
       "      background-color: #434B5C;\n",
       "      box-shadow: 0px 1px 3px 1px rgba(0, 0, 0, 0.15);\n",
       "      filter: drop-shadow(0px 1px 2px rgba(0, 0, 0, 0.3));\n",
       "      fill: #FFFFFF;\n",
       "    }\n",
       "  </style>\n",
       "\n",
       "      <script>\n",
       "        const buttonEl =\n",
       "          document.querySelector('#df-5aaaef16-f3c0-4840-878f-61d78b8928cd button.colab-df-convert');\n",
       "        buttonEl.style.display =\n",
       "          google.colab.kernel.accessAllowed ? 'block' : 'none';\n",
       "\n",
       "        async function convertToInteractive(key) {\n",
       "          const element = document.querySelector('#df-5aaaef16-f3c0-4840-878f-61d78b8928cd');\n",
       "          const dataTable =\n",
       "            await google.colab.kernel.invokeFunction('convertToInteractive',\n",
       "                                                     [key], {});\n",
       "          if (!dataTable) return;\n",
       "\n",
       "          const docLinkHtml = 'Like what you see? Visit the ' +\n",
       "            '<a target=\"_blank\" href=https://colab.research.google.com/notebooks/data_table.ipynb>data table notebook</a>'\n",
       "            + ' to learn more about interactive tables.';\n",
       "          element.innerHTML = '';\n",
       "          dataTable['output_type'] = 'display_data';\n",
       "          await google.colab.output.renderOutput(dataTable, element);\n",
       "          const docLink = document.createElement('div');\n",
       "          docLink.innerHTML = docLinkHtml;\n",
       "          element.appendChild(docLink);\n",
       "        }\n",
       "      </script>\n",
       "    </div>\n",
       "  </div>\n",
       "  "
      ],
      "text/plain": [
       "                       created_at_tweet      created_at_user\n",
       "id                                                          \n",
       "509354017856950272  2019-09-11 14:53:55  2016-07-03 02:37:46\n",
       "583002592529121280  2020-04-01 20:27:04  2016-07-13 00:06:28\n",
       "461498835362013185  2019-05-02 13:34:31  2019-03-11 03:36:43\n",
       "528808127366692864  2019-11-04 07:17:37  2017-01-18 05:40:50\n",
       "575336690904006656  2020-03-11 16:45:31  2018-04-17 22:50:24"
      ]
     },
     "execution_count": 92,
     "metadata": {},
     "output_type": "execute_result"
    }
   ],
   "source": [
    "joined.head()"
   ]
  },
  {
   "cell_type": "code",
   "execution_count": 93,
   "id": "0pexJ98nS46a",
   "metadata": {
    "id": "0pexJ98nS46a"
   },
   "outputs": [],
   "source": [
    "wrong_datas = joined.created_at_tweet < joined.created_at_user\n",
    "\n",
    "joined.loc[wrong_datas, \"created_at_tweet\"] = default_date"
   ]
  },
  {
   "cell_type": "code",
   "execution_count": 94,
   "id": "WLLJOyEHU4w2",
   "metadata": {
    "id": "WLLJOyEHU4w2"
   },
   "outputs": [],
   "source": [
    "tweets.loc[:, \"created_at\"] = joined.loc[:, \"created_at_tweet\"]"
   ]
  },
  {
   "cell_type": "code",
   "execution_count": 95,
   "id": "-oz6i6Z1Y4fv",
   "metadata": {
    "id": "-oz6i6Z1Y4fv"
   },
   "outputs": [],
   "source": [
    "del joined"
   ]
  },
  {
   "cell_type": "code",
   "execution_count": 96,
   "id": "5f96a906",
   "metadata": {
    "id": "5f96a906"
   },
   "outputs": [],
   "source": [
    "# change future data with '2022-01-01 00:00:00'\n",
    "newest = pd.to_datetime(\"2022-01-01 00:00:00\", format='%Y-%m-%d %H:%M:%S')\n",
    "\n",
    "tweets.loc[dates>newest, \"created_at\"] = default_date\n",
    "\n",
    "del dates"
   ]
  },
  {
   "cell_type": "code",
   "execution_count": 97,
   "id": "95e9a7c4",
   "metadata": {
    "colab": {
     "base_uri": "https://localhost:8080/",
     "height": 35
    },
    "id": "95e9a7c4",
    "outputId": "9c4d40ea-bad8-40ba-f7b7-0613a0b7b1ff"
   },
   "outputs": [
    {
     "data": {
      "application/vnd.google.colaboratory.intrinsic+json": {
       "type": "string"
      },
      "text/plain": [
       "'1800-01-01 00:00:00'"
      ]
     },
     "execution_count": 97,
     "metadata": {},
     "output_type": "execute_result"
    }
   ],
   "source": [
    "tweets.created_at.min()"
   ]
  },
  {
   "cell_type": "code",
   "execution_count": 98,
   "id": "01eacc9c",
   "metadata": {
    "colab": {
     "base_uri": "https://localhost:8080/",
     "height": 35
    },
    "id": "01eacc9c",
    "outputId": "4d574a79-94a5-4828-b39e-6f8eb7933dd6"
   },
   "outputs": [
    {
     "data": {
      "application/vnd.google.colaboratory.intrinsic+json": {
       "type": "string"
      },
      "text/plain": [
       "'2020-05-03 10:36:12'"
      ]
     },
     "execution_count": 98,
     "metadata": {},
     "output_type": "execute_result"
    }
   ],
   "source": [
    "tweets.created_at.max()"
   ]
  },
  {
   "cell_type": "markdown",
   "id": "2276d679",
   "metadata": {
    "id": "2276d679"
   },
   "source": [
    "## Text"
   ]
  },
  {
   "cell_type": "code",
   "execution_count": 99,
   "id": "257663c0",
   "metadata": {
    "colab": {
     "base_uri": "https://localhost:8080/"
    },
    "id": "257663c0",
    "outputId": "e1c7e250-4d37-439b-9321-56527a10b122"
   },
   "outputs": [
    {
     "name": "stdout",
     "output_type": "stream",
     "text": [
      "Number of number of NaN tweets:  384406\n"
     ]
    }
   ],
   "source": [
    "nan_text_ids = tweets.text.isna()\n",
    "print(\"Number of number of NaN tweets: \", np.sum(nan_text_ids))"
   ]
  },
  {
   "cell_type": "code",
   "execution_count": 100,
   "id": "2c44f596",
   "metadata": {
    "id": "2c44f596"
   },
   "outputs": [],
   "source": [
    "# substitute the NaN tweets with the empty string \"\"\n",
    "tweets.loc[nan_text_ids, \"text\"] = \"\""
   ]
  },
  {
   "cell_type": "code",
   "execution_count": 101,
   "id": "OAM3xKDBmhYv",
   "metadata": {
    "colab": {
     "base_uri": "https://localhost:8080/"
    },
    "id": "OAM3xKDBmhYv",
    "outputId": "a6b29aa5-d64c-42bd-8261-74f8648f0399"
   },
   "outputs": [
    {
     "name": "stdout",
     "output_type": "stream",
     "text": [
      "<class 'pandas.core.frame.DataFrame'>\n",
      "Index: 11226977 entries, 509354017856950272 to 486479812614451200\n",
      "Data columns (total 9 columns):\n",
      " #   Column          Dtype \n",
      "---  ------          ----- \n",
      " 0   user_id         int64 \n",
      " 1   retweet_count   int64 \n",
      " 2   reply_count     int64 \n",
      " 3   favorite_count  int64 \n",
      " 4   num_hashtags    int64 \n",
      " 5   num_urls        int64 \n",
      " 6   num_mentions    int64 \n",
      " 7   created_at      object\n",
      " 8   text            object\n",
      "dtypes: int64(7), object(2)\n",
      "memory usage: 856.6+ MB\n"
     ]
    }
   ],
   "source": [
    "tweets.info()"
   ]
  },
  {
   "cell_type": "code",
   "execution_count": 102,
   "id": "CQoMN4QEhIIQ",
   "metadata": {
    "colab": {
     "base_uri": "https://localhost:8080/",
     "height": 300
    },
    "id": "CQoMN4QEhIIQ",
    "outputId": "6e467c84-b6c1-458e-81e7-93ab18e95b5e"
   },
   "outputs": [
    {
     "data": {
      "text/html": [
       "\n",
       "  <div id=\"df-8d7ae52e-c40c-472b-b183-ce0e6ed1603d\">\n",
       "    <div class=\"colab-df-container\">\n",
       "      <div>\n",
       "<style scoped>\n",
       "    .dataframe tbody tr th:only-of-type {\n",
       "        vertical-align: middle;\n",
       "    }\n",
       "\n",
       "    .dataframe tbody tr th {\n",
       "        vertical-align: top;\n",
       "    }\n",
       "\n",
       "    .dataframe thead th {\n",
       "        text-align: right;\n",
       "    }\n",
       "</style>\n",
       "<table border=\"1\" class=\"dataframe\">\n",
       "  <thead>\n",
       "    <tr style=\"text-align: right;\">\n",
       "      <th></th>\n",
       "      <th>user_id</th>\n",
       "      <th>retweet_count</th>\n",
       "      <th>reply_count</th>\n",
       "      <th>favorite_count</th>\n",
       "      <th>num_hashtags</th>\n",
       "      <th>num_urls</th>\n",
       "      <th>num_mentions</th>\n",
       "    </tr>\n",
       "  </thead>\n",
       "  <tbody>\n",
       "    <tr>\n",
       "      <th>count</th>\n",
       "      <td>1.122698e+07</td>\n",
       "      <td>1.122698e+07</td>\n",
       "      <td>1.122698e+07</td>\n",
       "      <td>1.122698e+07</td>\n",
       "      <td>1.122698e+07</td>\n",
       "      <td>1.122698e+07</td>\n",
       "      <td>1.122698e+07</td>\n",
       "    </tr>\n",
       "    <tr>\n",
       "      <th>mean</th>\n",
       "      <td>8.316809e+08</td>\n",
       "      <td>6.906569e+00</td>\n",
       "      <td>4.861505e-03</td>\n",
       "      <td>4.118502e-01</td>\n",
       "      <td>1.546766e-01</td>\n",
       "      <td>1.497043e-01</td>\n",
       "      <td>5.149821e-01</td>\n",
       "    </tr>\n",
       "    <tr>\n",
       "      <th>std</th>\n",
       "      <td>8.530063e+08</td>\n",
       "      <td>3.554762e+01</td>\n",
       "      <td>4.218883e-01</td>\n",
       "      <td>1.658171e+00</td>\n",
       "      <td>5.521111e-01</td>\n",
       "      <td>3.626563e-01</td>\n",
       "      <td>7.705697e-01</td>\n",
       "    </tr>\n",
       "    <tr>\n",
       "      <th>min</th>\n",
       "      <td>6.780330e+05</td>\n",
       "      <td>0.000000e+00</td>\n",
       "      <td>0.000000e+00</td>\n",
       "      <td>0.000000e+00</td>\n",
       "      <td>0.000000e+00</td>\n",
       "      <td>0.000000e+00</td>\n",
       "      <td>0.000000e+00</td>\n",
       "    </tr>\n",
       "    <tr>\n",
       "      <th>25%</th>\n",
       "      <td>2.328048e+08</td>\n",
       "      <td>0.000000e+00</td>\n",
       "      <td>0.000000e+00</td>\n",
       "      <td>0.000000e+00</td>\n",
       "      <td>0.000000e+00</td>\n",
       "      <td>0.000000e+00</td>\n",
       "      <td>0.000000e+00</td>\n",
       "    </tr>\n",
       "    <tr>\n",
       "      <th>50%</th>\n",
       "      <td>4.680803e+08</td>\n",
       "      <td>0.000000e+00</td>\n",
       "      <td>0.000000e+00</td>\n",
       "      <td>0.000000e+00</td>\n",
       "      <td>0.000000e+00</td>\n",
       "      <td>0.000000e+00</td>\n",
       "      <td>0.000000e+00</td>\n",
       "    </tr>\n",
       "    <tr>\n",
       "      <th>75%</th>\n",
       "      <td>1.232535e+09</td>\n",
       "      <td>0.000000e+00</td>\n",
       "      <td>0.000000e+00</td>\n",
       "      <td>0.000000e+00</td>\n",
       "      <td>0.000000e+00</td>\n",
       "      <td>0.000000e+00</td>\n",
       "      <td>1.000000e+00</td>\n",
       "    </tr>\n",
       "    <tr>\n",
       "      <th>max</th>\n",
       "      <td>3.164942e+09</td>\n",
       "      <td>3.970000e+02</td>\n",
       "      <td>1.370000e+02</td>\n",
       "      <td>4.200000e+01</td>\n",
       "      <td>1.000000e+01</td>\n",
       "      <td>5.000000e+00</td>\n",
       "      <td>1.100000e+01</td>\n",
       "    </tr>\n",
       "  </tbody>\n",
       "</table>\n",
       "</div>\n",
       "      <button class=\"colab-df-convert\" onclick=\"convertToInteractive('df-8d7ae52e-c40c-472b-b183-ce0e6ed1603d')\"\n",
       "              title=\"Convert this dataframe to an interactive table.\"\n",
       "              style=\"display:none;\">\n",
       "        \n",
       "  <svg xmlns=\"http://www.w3.org/2000/svg\" height=\"24px\"viewBox=\"0 0 24 24\"\n",
       "       width=\"24px\">\n",
       "    <path d=\"M0 0h24v24H0V0z\" fill=\"none\"/>\n",
       "    <path d=\"M18.56 5.44l.94 2.06.94-2.06 2.06-.94-2.06-.94-.94-2.06-.94 2.06-2.06.94zm-11 1L8.5 8.5l.94-2.06 2.06-.94-2.06-.94L8.5 2.5l-.94 2.06-2.06.94zm10 10l.94 2.06.94-2.06 2.06-.94-2.06-.94-.94-2.06-.94 2.06-2.06.94z\"/><path d=\"M17.41 7.96l-1.37-1.37c-.4-.4-.92-.59-1.43-.59-.52 0-1.04.2-1.43.59L10.3 9.45l-7.72 7.72c-.78.78-.78 2.05 0 2.83L4 21.41c.39.39.9.59 1.41.59.51 0 1.02-.2 1.41-.59l7.78-7.78 2.81-2.81c.8-.78.8-2.07 0-2.86zM5.41 20L4 18.59l7.72-7.72 1.47 1.35L5.41 20z\"/>\n",
       "  </svg>\n",
       "      </button>\n",
       "      \n",
       "  <style>\n",
       "    .colab-df-container {\n",
       "      display:flex;\n",
       "      flex-wrap:wrap;\n",
       "      gap: 12px;\n",
       "    }\n",
       "\n",
       "    .colab-df-convert {\n",
       "      background-color: #E8F0FE;\n",
       "      border: none;\n",
       "      border-radius: 50%;\n",
       "      cursor: pointer;\n",
       "      display: none;\n",
       "      fill: #1967D2;\n",
       "      height: 32px;\n",
       "      padding: 0 0 0 0;\n",
       "      width: 32px;\n",
       "    }\n",
       "\n",
       "    .colab-df-convert:hover {\n",
       "      background-color: #E2EBFA;\n",
       "      box-shadow: 0px 1px 2px rgba(60, 64, 67, 0.3), 0px 1px 3px 1px rgba(60, 64, 67, 0.15);\n",
       "      fill: #174EA6;\n",
       "    }\n",
       "\n",
       "    [theme=dark] .colab-df-convert {\n",
       "      background-color: #3B4455;\n",
       "      fill: #D2E3FC;\n",
       "    }\n",
       "\n",
       "    [theme=dark] .colab-df-convert:hover {\n",
       "      background-color: #434B5C;\n",
       "      box-shadow: 0px 1px 3px 1px rgba(0, 0, 0, 0.15);\n",
       "      filter: drop-shadow(0px 1px 2px rgba(0, 0, 0, 0.3));\n",
       "      fill: #FFFFFF;\n",
       "    }\n",
       "  </style>\n",
       "\n",
       "      <script>\n",
       "        const buttonEl =\n",
       "          document.querySelector('#df-8d7ae52e-c40c-472b-b183-ce0e6ed1603d button.colab-df-convert');\n",
       "        buttonEl.style.display =\n",
       "          google.colab.kernel.accessAllowed ? 'block' : 'none';\n",
       "\n",
       "        async function convertToInteractive(key) {\n",
       "          const element = document.querySelector('#df-8d7ae52e-c40c-472b-b183-ce0e6ed1603d');\n",
       "          const dataTable =\n",
       "            await google.colab.kernel.invokeFunction('convertToInteractive',\n",
       "                                                     [key], {});\n",
       "          if (!dataTable) return;\n",
       "\n",
       "          const docLinkHtml = 'Like what you see? Visit the ' +\n",
       "            '<a target=\"_blank\" href=https://colab.research.google.com/notebooks/data_table.ipynb>data table notebook</a>'\n",
       "            + ' to learn more about interactive tables.';\n",
       "          element.innerHTML = '';\n",
       "          dataTable['output_type'] = 'display_data';\n",
       "          await google.colab.output.renderOutput(dataTable, element);\n",
       "          const docLink = document.createElement('div');\n",
       "          docLink.innerHTML = docLinkHtml;\n",
       "          element.appendChild(docLink);\n",
       "        }\n",
       "      </script>\n",
       "    </div>\n",
       "  </div>\n",
       "  "
      ],
      "text/plain": [
       "            user_id  retweet_count   reply_count  favorite_count  \\\n",
       "count  1.122698e+07   1.122698e+07  1.122698e+07    1.122698e+07   \n",
       "mean   8.316809e+08   6.906569e+00  4.861505e-03    4.118502e-01   \n",
       "std    8.530063e+08   3.554762e+01  4.218883e-01    1.658171e+00   \n",
       "min    6.780330e+05   0.000000e+00  0.000000e+00    0.000000e+00   \n",
       "25%    2.328048e+08   0.000000e+00  0.000000e+00    0.000000e+00   \n",
       "50%    4.680803e+08   0.000000e+00  0.000000e+00    0.000000e+00   \n",
       "75%    1.232535e+09   0.000000e+00  0.000000e+00    0.000000e+00   \n",
       "max    3.164942e+09   3.970000e+02  1.370000e+02    4.200000e+01   \n",
       "\n",
       "       num_hashtags      num_urls  num_mentions  \n",
       "count  1.122698e+07  1.122698e+07  1.122698e+07  \n",
       "mean   1.546766e-01  1.497043e-01  5.149821e-01  \n",
       "std    5.521111e-01  3.626563e-01  7.705697e-01  \n",
       "min    0.000000e+00  0.000000e+00  0.000000e+00  \n",
       "25%    0.000000e+00  0.000000e+00  0.000000e+00  \n",
       "50%    0.000000e+00  0.000000e+00  0.000000e+00  \n",
       "75%    0.000000e+00  0.000000e+00  1.000000e+00  \n",
       "max    1.000000e+01  5.000000e+00  1.100000e+01  "
      ]
     },
     "execution_count": 102,
     "metadata": {},
     "output_type": "execute_result"
    }
   ],
   "source": [
    "tweets.describe()"
   ]
  },
  {
   "cell_type": "markdown",
   "id": "056f3f76",
   "metadata": {
    "id": "056f3f76"
   },
   "source": [
    "# Save to file"
   ]
  },
  {
   "cell_type": "code",
   "execution_count": 103,
   "id": "b2b50cf9",
   "metadata": {
    "id": "b2b50cf9"
   },
   "outputs": [],
   "source": [
    "users.to_csv(\"cleaned_users.csv\")"
   ]
  },
  {
   "cell_type": "code",
   "execution_count": 104,
   "id": "662b7388",
   "metadata": {
    "id": "662b7388"
   },
   "outputs": [],
   "source": [
    "tweets.to_csv(\"cleaned_tweets.csv\")"
   ]
  }
 ],
 "metadata": {
  "colab": {
   "collapsed_sections": [],
   "provenance": []
  },
  "kernelspec": {
   "display_name": "Python 3 (ipykernel)",
   "language": "python",
   "name": "python3"
  },
  "language_info": {
   "codemirror_mode": {
    "name": "ipython",
    "version": 3
   },
   "file_extension": ".py",
   "mimetype": "text/x-python",
   "name": "python",
   "nbconvert_exporter": "python",
   "pygments_lexer": "ipython3",
   "version": "3.9.7"
  }
 },
 "nbformat": 4,
 "nbformat_minor": 5
}
