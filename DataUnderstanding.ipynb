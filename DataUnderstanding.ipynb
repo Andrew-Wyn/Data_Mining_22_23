{
  "cells": [
    {
      "cell_type": "markdown",
      "id": "c706313f",
      "metadata": {
        "id": "c706313f"
      },
      "source": [
        "# Data Understanding"
      ]
    },
    {
      "cell_type": "code",
      "execution_count": 188,
      "id": "1338928a",
      "metadata": {
        "id": "1338928a"
      },
      "outputs": [],
      "source": [
        "import re\n",
        "import scipy\n",
        "import numpy as np\n",
        "import pandas as pd\n",
        "import matplotlib.pyplot as plt\n",
        "\n",
        "from sklearn.preprocessing import StandardScaler"
      ]
    },
    {
      "cell_type": "code",
      "execution_count": 189,
      "id": "e014fb30",
      "metadata": {
        "id": "e014fb30"
      },
      "outputs": [],
      "source": [
        "users = pd.read_csv(\"users.csv\", index_col=0)"
      ]
    },
    {
      "cell_type": "code",
      "execution_count": 190,
      "id": "064706bf",
      "metadata": {
        "colab": {
          "base_uri": "https://localhost:8080/",
          "height": 238
        },
        "id": "064706bf",
        "outputId": "17b11646-9997-41be-f505-1fe80458a421"
      },
      "outputs": [
        {
          "data": {
            "text/html": [
              "\n",
              "  <div id=\"df-5c58c041-369c-41d6-b228-19fcd1c6e179\">\n",
              "    <div class=\"colab-df-container\">\n",
              "      <div>\n",
              "<style scoped>\n",
              "    .dataframe tbody tr th:only-of-type {\n",
              "        vertical-align: middle;\n",
              "    }\n",
              "\n",
              "    .dataframe tbody tr th {\n",
              "        vertical-align: top;\n",
              "    }\n",
              "\n",
              "    .dataframe thead th {\n",
              "        text-align: right;\n",
              "    }\n",
              "</style>\n",
              "<table border=\"1\" class=\"dataframe\">\n",
              "  <thead>\n",
              "    <tr style=\"text-align: right;\">\n",
              "      <th></th>\n",
              "      <th>name</th>\n",
              "      <th>lang</th>\n",
              "      <th>bot</th>\n",
              "      <th>created_at</th>\n",
              "      <th>statuses_count</th>\n",
              "    </tr>\n",
              "    <tr>\n",
              "      <th>id</th>\n",
              "      <th></th>\n",
              "      <th></th>\n",
              "      <th></th>\n",
              "      <th></th>\n",
              "      <th></th>\n",
              "    </tr>\n",
              "  </thead>\n",
              "  <tbody>\n",
              "    <tr>\n",
              "      <th>2353593986</th>\n",
              "      <td>Lamonica Raborn</td>\n",
              "      <td>en</td>\n",
              "      <td>1</td>\n",
              "      <td>2019-02-22 18:00:42</td>\n",
              "      <td>76.0</td>\n",
              "    </tr>\n",
              "    <tr>\n",
              "      <th>2358850842</th>\n",
              "      <td>Lourie Botton</td>\n",
              "      <td>en</td>\n",
              "      <td>0</td>\n",
              "      <td>2019-02-26 03:02:32</td>\n",
              "      <td>54.0</td>\n",
              "    </tr>\n",
              "    <tr>\n",
              "      <th>137959629</th>\n",
              "      <td>Dadan Syarifudin</td>\n",
              "      <td>en</td>\n",
              "      <td>1</td>\n",
              "      <td>2015-04-30 07:09:56</td>\n",
              "      <td>3.0</td>\n",
              "    </tr>\n",
              "    <tr>\n",
              "      <th>466124818</th>\n",
              "      <td>Carletto Focia</td>\n",
              "      <td>it</td>\n",
              "      <td>1</td>\n",
              "      <td>2017-01-18 02:49:18</td>\n",
              "      <td>50.0</td>\n",
              "    </tr>\n",
              "    <tr>\n",
              "      <th>2571493866</th>\n",
              "      <td>MBK Ebook</td>\n",
              "      <td>en</td>\n",
              "      <td>0</td>\n",
              "      <td>2019-06-18 19:30:21</td>\n",
              "      <td>7085.0</td>\n",
              "    </tr>\n",
              "  </tbody>\n",
              "</table>\n",
              "</div>\n",
              "      <button class=\"colab-df-convert\" onclick=\"convertToInteractive('df-5c58c041-369c-41d6-b228-19fcd1c6e179')\"\n",
              "              title=\"Convert this dataframe to an interactive table.\"\n",
              "              style=\"display:none;\">\n",
              "        \n",
              "  <svg xmlns=\"http://www.w3.org/2000/svg\" height=\"24px\"viewBox=\"0 0 24 24\"\n",
              "       width=\"24px\">\n",
              "    <path d=\"M0 0h24v24H0V0z\" fill=\"none\"/>\n",
              "    <path d=\"M18.56 5.44l.94 2.06.94-2.06 2.06-.94-2.06-.94-.94-2.06-.94 2.06-2.06.94zm-11 1L8.5 8.5l.94-2.06 2.06-.94-2.06-.94L8.5 2.5l-.94 2.06-2.06.94zm10 10l.94 2.06.94-2.06 2.06-.94-2.06-.94-.94-2.06-.94 2.06-2.06.94z\"/><path d=\"M17.41 7.96l-1.37-1.37c-.4-.4-.92-.59-1.43-.59-.52 0-1.04.2-1.43.59L10.3 9.45l-7.72 7.72c-.78.78-.78 2.05 0 2.83L4 21.41c.39.39.9.59 1.41.59.51 0 1.02-.2 1.41-.59l7.78-7.78 2.81-2.81c.8-.78.8-2.07 0-2.86zM5.41 20L4 18.59l7.72-7.72 1.47 1.35L5.41 20z\"/>\n",
              "  </svg>\n",
              "      </button>\n",
              "      \n",
              "  <style>\n",
              "    .colab-df-container {\n",
              "      display:flex;\n",
              "      flex-wrap:wrap;\n",
              "      gap: 12px;\n",
              "    }\n",
              "\n",
              "    .colab-df-convert {\n",
              "      background-color: #E8F0FE;\n",
              "      border: none;\n",
              "      border-radius: 50%;\n",
              "      cursor: pointer;\n",
              "      display: none;\n",
              "      fill: #1967D2;\n",
              "      height: 32px;\n",
              "      padding: 0 0 0 0;\n",
              "      width: 32px;\n",
              "    }\n",
              "\n",
              "    .colab-df-convert:hover {\n",
              "      background-color: #E2EBFA;\n",
              "      box-shadow: 0px 1px 2px rgba(60, 64, 67, 0.3), 0px 1px 3px 1px rgba(60, 64, 67, 0.15);\n",
              "      fill: #174EA6;\n",
              "    }\n",
              "\n",
              "    [theme=dark] .colab-df-convert {\n",
              "      background-color: #3B4455;\n",
              "      fill: #D2E3FC;\n",
              "    }\n",
              "\n",
              "    [theme=dark] .colab-df-convert:hover {\n",
              "      background-color: #434B5C;\n",
              "      box-shadow: 0px 1px 3px 1px rgba(0, 0, 0, 0.15);\n",
              "      filter: drop-shadow(0px 1px 2px rgba(0, 0, 0, 0.3));\n",
              "      fill: #FFFFFF;\n",
              "    }\n",
              "  </style>\n",
              "\n",
              "      <script>\n",
              "        const buttonEl =\n",
              "          document.querySelector('#df-5c58c041-369c-41d6-b228-19fcd1c6e179 button.colab-df-convert');\n",
              "        buttonEl.style.display =\n",
              "          google.colab.kernel.accessAllowed ? 'block' : 'none';\n",
              "\n",
              "        async function convertToInteractive(key) {\n",
              "          const element = document.querySelector('#df-5c58c041-369c-41d6-b228-19fcd1c6e179');\n",
              "          const dataTable =\n",
              "            await google.colab.kernel.invokeFunction('convertToInteractive',\n",
              "                                                     [key], {});\n",
              "          if (!dataTable) return;\n",
              "\n",
              "          const docLinkHtml = 'Like what you see? Visit the ' +\n",
              "            '<a target=\"_blank\" href=https://colab.research.google.com/notebooks/data_table.ipynb>data table notebook</a>'\n",
              "            + ' to learn more about interactive tables.';\n",
              "          element.innerHTML = '';\n",
              "          dataTable['output_type'] = 'display_data';\n",
              "          await google.colab.output.renderOutput(dataTable, element);\n",
              "          const docLink = document.createElement('div');\n",
              "          docLink.innerHTML = docLinkHtml;\n",
              "          element.appendChild(docLink);\n",
              "        }\n",
              "      </script>\n",
              "    </div>\n",
              "  </div>\n",
              "  "
            ],
            "text/plain": [
              "                        name lang  bot           created_at  statuses_count\n",
              "id                                                                         \n",
              "2353593986   Lamonica Raborn   en    1  2019-02-22 18:00:42            76.0\n",
              "2358850842     Lourie Botton   en    0  2019-02-26 03:02:32            54.0\n",
              "137959629   Dadan Syarifudin   en    1  2015-04-30 07:09:56             3.0\n",
              "466124818     Carletto Focia   it    1  2017-01-18 02:49:18            50.0\n",
              "2571493866         MBK Ebook   en    0  2019-06-18 19:30:21          7085.0"
            ]
          },
          "execution_count": 190,
          "metadata": {},
          "output_type": "execute_result"
        }
      ],
      "source": [
        "users.head()"
      ]
    },
    {
      "cell_type": "code",
      "execution_count": 191,
      "id": "4d71c683",
      "metadata": {
        "colab": {
          "base_uri": "https://localhost:8080/"
        },
        "id": "4d71c683",
        "outputId": "62e97ae2-5964-4176-8087-4d2654afb910"
      },
      "outputs": [
        {
          "data": {
            "text/plain": [
              "(11508, 5)"
            ]
          },
          "execution_count": 191,
          "metadata": {},
          "output_type": "execute_result"
        }
      ],
      "source": [
        "users.shape"
      ]
    },
    {
      "cell_type": "code",
      "execution_count": 192,
      "id": "9e27042c",
      "metadata": {
        "colab": {
          "base_uri": "https://localhost:8080/"
        },
        "id": "9e27042c",
        "outputId": "06303f05-2ac0-4994-80a6-a4c7d883908c"
      },
      "outputs": [
        {
          "name": "stdout",
          "output_type": "stream",
          "text": [
            "<class 'pandas.core.frame.DataFrame'>\n",
            "Int64Index: 11508 entries, 2353593986 to 933183398\n",
            "Data columns (total 5 columns):\n",
            " #   Column          Non-Null Count  Dtype  \n",
            "---  ------          --------------  -----  \n",
            " 0   name            11507 non-null  object \n",
            " 1   lang            11508 non-null  object \n",
            " 2   bot             11508 non-null  int64  \n",
            " 3   created_at      11508 non-null  object \n",
            " 4   statuses_count  11109 non-null  float64\n",
            "dtypes: float64(1), int64(1), object(3)\n",
            "memory usage: 539.4+ KB\n"
          ]
        }
      ],
      "source": [
        "users.info()"
      ]
    },
    {
      "cell_type": "code",
      "execution_count": 193,
      "id": "62f4efdd",
      "metadata": {
        "colab": {
          "base_uri": "https://localhost:8080/"
        },
        "id": "62f4efdd",
        "outputId": "e0a21204-0a65-42b9-b0af-e4a0b115bdce"
      },
      "outputs": [
        {
          "data": {
            "text/plain": [
              "dtype('int64')"
            ]
          },
          "execution_count": 193,
          "metadata": {},
          "output_type": "execute_result"
        }
      ],
      "source": [
        "users.index.dtype"
      ]
    },
    {
      "cell_type": "code",
      "execution_count": 194,
      "id": "d9341051",
      "metadata": {
        "colab": {
          "base_uri": "https://localhost:8080/"
        },
        "id": "d9341051",
        "outputId": "a1b0b175-02ec-4702-b558-1a45f9929a0b"
      },
      "outputs": [
        {
          "name": "stdout",
          "output_type": "stream",
          "text": [
            "Number of different users' indexes 11508\n"
          ]
        }
      ],
      "source": [
        "print(\"Number of different users' indexes\", len(set(users.index)))"
      ]
    },
    {
      "cell_type": "markdown",
      "id": "2cdd7b19",
      "metadata": {
        "id": "2cdd7b19"
      },
      "source": [
        "## Name\n",
        "\n",
        "show the records with Null names"
      ]
    },
    {
      "cell_type": "code",
      "execution_count": 195,
      "id": "03d8ffbe",
      "metadata": {
        "colab": {
          "base_uri": "https://localhost:8080/",
          "height": 112
        },
        "id": "03d8ffbe",
        "outputId": "7d7568ca-d173-4120-d4e9-9aaab5094af8"
      },
      "outputs": [
        {
          "data": {
            "text/html": [
              "\n",
              "  <div id=\"df-7591df88-5adf-40d5-bde6-b75755d6617b\">\n",
              "    <div class=\"colab-df-container\">\n",
              "      <div>\n",
              "<style scoped>\n",
              "    .dataframe tbody tr th:only-of-type {\n",
              "        vertical-align: middle;\n",
              "    }\n",
              "\n",
              "    .dataframe tbody tr th {\n",
              "        vertical-align: top;\n",
              "    }\n",
              "\n",
              "    .dataframe thead th {\n",
              "        text-align: right;\n",
              "    }\n",
              "</style>\n",
              "<table border=\"1\" class=\"dataframe\">\n",
              "  <thead>\n",
              "    <tr style=\"text-align: right;\">\n",
              "      <th></th>\n",
              "      <th>name</th>\n",
              "      <th>lang</th>\n",
              "      <th>bot</th>\n",
              "      <th>created_at</th>\n",
              "      <th>statuses_count</th>\n",
              "    </tr>\n",
              "    <tr>\n",
              "      <th>id</th>\n",
              "      <th></th>\n",
              "      <th></th>\n",
              "      <th></th>\n",
              "      <th></th>\n",
              "      <th></th>\n",
              "    </tr>\n",
              "  </thead>\n",
              "  <tbody>\n",
              "    <tr>\n",
              "      <th>2166124159</th>\n",
              "      <td>NaN</td>\n",
              "      <td>en</td>\n",
              "      <td>0</td>\n",
              "      <td>2018-11-02 06:39:14</td>\n",
              "      <td>6566.0</td>\n",
              "    </tr>\n",
              "  </tbody>\n",
              "</table>\n",
              "</div>\n",
              "      <button class=\"colab-df-convert\" onclick=\"convertToInteractive('df-7591df88-5adf-40d5-bde6-b75755d6617b')\"\n",
              "              title=\"Convert this dataframe to an interactive table.\"\n",
              "              style=\"display:none;\">\n",
              "        \n",
              "  <svg xmlns=\"http://www.w3.org/2000/svg\" height=\"24px\"viewBox=\"0 0 24 24\"\n",
              "       width=\"24px\">\n",
              "    <path d=\"M0 0h24v24H0V0z\" fill=\"none\"/>\n",
              "    <path d=\"M18.56 5.44l.94 2.06.94-2.06 2.06-.94-2.06-.94-.94-2.06-.94 2.06-2.06.94zm-11 1L8.5 8.5l.94-2.06 2.06-.94-2.06-.94L8.5 2.5l-.94 2.06-2.06.94zm10 10l.94 2.06.94-2.06 2.06-.94-2.06-.94-.94-2.06-.94 2.06-2.06.94z\"/><path d=\"M17.41 7.96l-1.37-1.37c-.4-.4-.92-.59-1.43-.59-.52 0-1.04.2-1.43.59L10.3 9.45l-7.72 7.72c-.78.78-.78 2.05 0 2.83L4 21.41c.39.39.9.59 1.41.59.51 0 1.02-.2 1.41-.59l7.78-7.78 2.81-2.81c.8-.78.8-2.07 0-2.86zM5.41 20L4 18.59l7.72-7.72 1.47 1.35L5.41 20z\"/>\n",
              "  </svg>\n",
              "      </button>\n",
              "      \n",
              "  <style>\n",
              "    .colab-df-container {\n",
              "      display:flex;\n",
              "      flex-wrap:wrap;\n",
              "      gap: 12px;\n",
              "    }\n",
              "\n",
              "    .colab-df-convert {\n",
              "      background-color: #E8F0FE;\n",
              "      border: none;\n",
              "      border-radius: 50%;\n",
              "      cursor: pointer;\n",
              "      display: none;\n",
              "      fill: #1967D2;\n",
              "      height: 32px;\n",
              "      padding: 0 0 0 0;\n",
              "      width: 32px;\n",
              "    }\n",
              "\n",
              "    .colab-df-convert:hover {\n",
              "      background-color: #E2EBFA;\n",
              "      box-shadow: 0px 1px 2px rgba(60, 64, 67, 0.3), 0px 1px 3px 1px rgba(60, 64, 67, 0.15);\n",
              "      fill: #174EA6;\n",
              "    }\n",
              "\n",
              "    [theme=dark] .colab-df-convert {\n",
              "      background-color: #3B4455;\n",
              "      fill: #D2E3FC;\n",
              "    }\n",
              "\n",
              "    [theme=dark] .colab-df-convert:hover {\n",
              "      background-color: #434B5C;\n",
              "      box-shadow: 0px 1px 3px 1px rgba(0, 0, 0, 0.15);\n",
              "      filter: drop-shadow(0px 1px 2px rgba(0, 0, 0, 0.3));\n",
              "      fill: #FFFFFF;\n",
              "    }\n",
              "  </style>\n",
              "\n",
              "      <script>\n",
              "        const buttonEl =\n",
              "          document.querySelector('#df-7591df88-5adf-40d5-bde6-b75755d6617b button.colab-df-convert');\n",
              "        buttonEl.style.display =\n",
              "          google.colab.kernel.accessAllowed ? 'block' : 'none';\n",
              "\n",
              "        async function convertToInteractive(key) {\n",
              "          const element = document.querySelector('#df-7591df88-5adf-40d5-bde6-b75755d6617b');\n",
              "          const dataTable =\n",
              "            await google.colab.kernel.invokeFunction('convertToInteractive',\n",
              "                                                     [key], {});\n",
              "          if (!dataTable) return;\n",
              "\n",
              "          const docLinkHtml = 'Like what you see? Visit the ' +\n",
              "            '<a target=\"_blank\" href=https://colab.research.google.com/notebooks/data_table.ipynb>data table notebook</a>'\n",
              "            + ' to learn more about interactive tables.';\n",
              "          element.innerHTML = '';\n",
              "          dataTable['output_type'] = 'display_data';\n",
              "          await google.colab.output.renderOutput(dataTable, element);\n",
              "          const docLink = document.createElement('div');\n",
              "          docLink.innerHTML = docLinkHtml;\n",
              "          element.appendChild(docLink);\n",
              "        }\n",
              "      </script>\n",
              "    </div>\n",
              "  </div>\n",
              "  "
            ],
            "text/plain": [
              "           name lang  bot           created_at  statuses_count\n",
              "id                                                            \n",
              "2166124159  NaN   en    0  2018-11-02 06:39:14          6566.0"
            ]
          },
          "execution_count": 195,
          "metadata": {},
          "output_type": "execute_result"
        }
      ],
      "source": [
        "users[users.name.isna()]"
      ]
    },
    {
      "cell_type": "code",
      "execution_count": 196,
      "id": "bee01072",
      "metadata": {
        "id": "bee01072"
      },
      "outputs": [],
      "source": [
        "users.loc[users.name.isna(), \"name\"] = \"No Name\""
      ]
    },
    {
      "cell_type": "markdown",
      "id": "b1ce7ced",
      "metadata": {
        "id": "b1ce7ced"
      },
      "source": [
        "## Lang"
      ]
    },
    {
      "cell_type": "code",
      "execution_count": 197,
      "id": "4b3aaf37",
      "metadata": {
        "colab": {
          "base_uri": "https://localhost:8080/"
        },
        "id": "4b3aaf37",
        "outputId": "f65af7a7-2f38-495c-cab2-8b4afe5a53cf"
      },
      "outputs": [
        {
          "name": "stdout",
          "output_type": "stream",
          "text": [
            "0\n"
          ]
        }
      ],
      "source": [
        "null_lang_ids = users.lang.isna()\n",
        "\n",
        "print(np.sum(null_lang_ids))"
      ]
    },
    {
      "cell_type": "code",
      "execution_count": 198,
      "id": "743a51ba",
      "metadata": {
        "colab": {
          "base_uri": "https://localhost:8080/"
        },
        "id": "743a51ba",
        "outputId": "54d8e8e8-071d-4365-c9b9-3de33b0ee120"
      },
      "outputs": [
        {
          "data": {
            "text/plain": [
              "array(['en', 'it', 'fr', 'ru', 'es', 'tr', 'en-gb', 'pt', 'nl', 'id',\n",
              "       'zh-tw', 'ja', 'de', 'ko', 'en-AU', 'da', 'ar', 'en-GB',\n",
              "       'Select Language...', 'zh-TW', 'zh-cn', 'pl', 'el', 'fil', 'sv',\n",
              "       'xx-lc'], dtype=object)"
            ]
          },
          "execution_count": 198,
          "metadata": {},
          "output_type": "execute_result"
        }
      ],
      "source": [
        "users.lang.unique()"
      ]
    },
    {
      "cell_type": "code",
      "execution_count": 199,
      "id": "c2cb07b5",
      "metadata": {
        "colab": {
          "base_uri": "https://localhost:8080/"
        },
        "id": "c2cb07b5",
        "outputId": "f6d37611-1ae1-4d7a-dafa-d0ef30deafb5"
      },
      "outputs": [
        {
          "data": {
            "text/plain": [
              "26"
            ]
          },
          "execution_count": 199,
          "metadata": {},
          "output_type": "execute_result"
        }
      ],
      "source": [
        "len(users.lang.unique())"
      ]
    },
    {
      "cell_type": "code",
      "execution_count": 200,
      "id": "92e97a1b",
      "metadata": {
        "colab": {
          "base_uri": "https://localhost:8080/"
        },
        "id": "92e97a1b",
        "outputId": "1b924032-f1bb-4f16-b700-a13b7addc0ef"
      },
      "outputs": [
        {
          "data": {
            "text/plain": [
              "en                    9970\n",
              "it                     906\n",
              "es                     319\n",
              "pt                      65\n",
              "en-gb                   50\n",
              "ru                      42\n",
              "fr                      36\n",
              "ja                      33\n",
              "zh-tw                   17\n",
              "tr                      14\n",
              "id                      12\n",
              "ko                       9\n",
              "de                       8\n",
              "nl                       6\n",
              "en-GB                    4\n",
              "ar                       3\n",
              "zh-TW                    3\n",
              "da                       2\n",
              "Select Language...       2\n",
              "en-AU                    1\n",
              "zh-cn                    1\n",
              "pl                       1\n",
              "el                       1\n",
              "fil                      1\n",
              "sv                       1\n",
              "xx-lc                    1\n",
              "Name: lang, dtype: int64"
            ]
          },
          "execution_count": 200,
          "metadata": {},
          "output_type": "execute_result"
        }
      ],
      "source": [
        "users.lang.value_counts()"
      ]
    },
    {
      "cell_type": "code",
      "execution_count": 201,
      "id": "7879868d",
      "metadata": {
        "colab": {
          "base_uri": "https://localhost:8080/",
          "height": 265
        },
        "id": "7879868d",
        "outputId": "2556f8e0-9d6f-42e9-e205-923385c0dd61"
      },
      "outputs": [
        {
          "data": {
            "image/png": "[encoded data removed]",
            "text/plain": [
              "<Figure size 432x288 with 1 Axes>"
            ]
          },
          "metadata": {
            "needs_background": "light"
          },
          "output_type": "display_data"
        }
      ],
      "source": [
        "users.lang.hist(bins=26)\n",
        "plt.show()"
      ]
    },
    {
      "cell_type": "code",
      "execution_count": 202,
      "id": "6d16226d",
      "metadata": {
        "colab": {
          "base_uri": "https://localhost:8080/"
        },
        "id": "6d16226d",
        "outputId": "82254e7b-77cb-4705-d9c0-e5d9fc16a727"
      },
      "outputs": [
        {
          "name": "stdout",
          "output_type": "stream",
          "text": [
            "en                    10025\n",
            "it                      906\n",
            "es                      319\n",
            "pt                       65\n",
            "ru                       42\n",
            "fr                       36\n",
            "ja                       33\n",
            "zh                       21\n",
            "tr                       14\n",
            "id                       12\n",
            "ko                        9\n",
            "de                        8\n",
            "nl                        6\n",
            "ar                        3\n",
            "da                        2\n",
            "Select Language...        2\n",
            "pl                        1\n",
            "el                        1\n",
            "fil                       1\n",
            "sv                        1\n",
            "xx                        1\n",
            "Name: lang, dtype: int64\n"
          ]
        }
      ],
      "source": [
        "# clean lang feature, remove lang id that are not correct\n",
        "\n",
        "# remove dialectic specialization\n",
        "\n",
        "def remove_specialization(sample):\n",
        "    radix = sample.split(\"-\")[0]\n",
        "    return radix\n",
        "\n",
        "users.lang = users.lang.apply(remove_specialization)\n",
        "\n",
        "print(users.lang.value_counts())"
      ]
    },
    {
      "cell_type": "code",
      "execution_count": 203,
      "id": "b1f93427",
      "metadata": {
        "id": "b1f93427"
      },
      "outputs": [],
      "source": [
        "# \"Select Language...\" to \"en\"\n",
        "users.loc[users.lang == \"Select Language...\", \"lang\"] = \"en\"\n",
        "\n",
        "# \"xx\" to \"en\"\n",
        "users.loc[users.lang == \"xx\", \"lang\"] = \"en\""
      ]
    },
    {
      "cell_type": "code",
      "execution_count": 204,
      "id": "2aacabce",
      "metadata": {
        "colab": {
          "base_uri": "https://localhost:8080/"
        },
        "id": "2aacabce",
        "outputId": "31972ed7-9c3b-4fd1-badb-d07b76a91528"
      },
      "outputs": [
        {
          "name": "stdout",
          "output_type": "stream",
          "text": [
            "en     10028\n",
            "it       906\n",
            "es       319\n",
            "pt        65\n",
            "ru        42\n",
            "fr        36\n",
            "ja        33\n",
            "zh        21\n",
            "tr        14\n",
            "id        12\n",
            "ko         9\n",
            "de         8\n",
            "nl         6\n",
            "ar         3\n",
            "da         2\n",
            "pl         1\n",
            "el         1\n",
            "fil        1\n",
            "sv         1\n",
            "Name: lang, dtype: int64\n"
          ]
        }
      ],
      "source": [
        "print(users.lang.value_counts())"
      ]
    },
    {
      "cell_type": "markdown",
      "id": "c0f94cc2",
      "metadata": {
        "id": "c0f94cc2"
      },
      "source": [
        "## Bot"
      ]
    },
    {
      "cell_type": "code",
      "execution_count": 205,
      "id": "11295718",
      "metadata": {
        "colab": {
          "base_uri": "https://localhost:8080/"
        },
        "id": "11295718",
        "outputId": "b593761f-30c7-4199-b823-9c2d2f5ac37c"
      },
      "outputs": [
        {
          "name": "stdout",
          "output_type": "stream",
          "text": [
            "Number of Nan Bot:  0\n"
          ]
        }
      ],
      "source": [
        "na_bot_ids = users.bot.isna()\n",
        "print(\"Number of Nan Bot: \", np.sum(na_bot_ids))"
      ]
    },
    {
      "cell_type": "code",
      "execution_count": 206,
      "id": "9391dcbb",
      "metadata": {
        "colab": {
          "base_uri": "https://localhost:8080/"
        },
        "id": "9391dcbb",
        "outputId": "30bba346-01cf-4544-c849-e93b5b1a09d1"
      },
      "outputs": [
        {
          "data": {
            "text/plain": [
              "array([1, 0])"
            ]
          },
          "execution_count": 206,
          "metadata": {},
          "output_type": "execute_result"
        }
      ],
      "source": [
        "users.bot.unique()"
      ]
    },
    {
      "cell_type": "code",
      "execution_count": 207,
      "id": "1ee69d7a",
      "metadata": {
        "colab": {
          "base_uri": "https://localhost:8080/"
        },
        "id": "1ee69d7a",
        "outputId": "666e8d67-3556-4501-be25-50ea24e09986"
      },
      "outputs": [
        {
          "data": {
            "text/plain": [
              "1    6116\n",
              "0    5392\n",
              "Name: bot, dtype: int64"
            ]
          },
          "execution_count": 207,
          "metadata": {},
          "output_type": "execute_result"
        }
      ],
      "source": [
        "users.bot.value_counts()"
      ]
    },
    {
      "cell_type": "markdown",
      "id": "0a36f627",
      "metadata": {
        "id": "0a36f627"
      },
      "source": [
        "## Created_at"
      ]
    },
    {
      "cell_type": "code",
      "execution_count": 208,
      "id": "302d2c6a",
      "metadata": {
        "colab": {
          "base_uri": "https://localhost:8080/"
        },
        "id": "302d2c6a",
        "outputId": "357b8351-eba1-42ca-8ead-410c07bb4afe"
      },
      "outputs": [
        {
          "name": "stdout",
          "output_type": "stream",
          "text": [
            "Number of Nan created_at:  0\n"
          ]
        }
      ],
      "source": [
        "na_created_at_ids = users.created_at.isna()\n",
        "print(\"Number of Nan created_at: \", np.sum(na_created_at_ids))"
      ]
    },
    {
      "cell_type": "code",
      "execution_count": 209,
      "id": "f15ccf6d",
      "metadata": {
        "colab": {
          "base_uri": "https://localhost:8080/"
        },
        "id": "f15ccf6d",
        "outputId": "842cf9ea-b79d-41b3-cac1-f2d0490dc3e2"
      },
      "outputs": [
        {
          "name": "stdout",
          "output_type": "stream",
          "text": [
            "All the dates are ok!\n"
          ]
        }
      ],
      "source": [
        "try:\n",
        "    pd.to_datetime(users['created_at'], format='%Y-%m-%d %H:%M:%S', errors='raise')\n",
        "    # do something\n",
        "    print(\"All the dates are ok!\")\n",
        "except ValueError as e:\n",
        "    print(e)\n"
      ]
    },
    {
      "cell_type": "code",
      "execution_count": 210,
      "id": "c0d5bbbe",
      "metadata": {
        "colab": {
          "base_uri": "https://localhost:8080/",
          "height": 35
        },
        "id": "c0d5bbbe",
        "outputId": "255d57ec-1d2d-4885-8306-0d2a62b4f9d7"
      },
      "outputs": [
        {
          "data": {
            "application/vnd.google.colaboratory.intrinsic+json": {
              "type": "string"
            },
            "text/plain": [
              "'2012-01-24 01:57:38'"
            ]
          },
          "execution_count": 210,
          "metadata": {},
          "output_type": "execute_result"
        }
      ],
      "source": [
        "users.created_at.min()"
      ]
    },
    {
      "cell_type": "code",
      "execution_count": 211,
      "id": "8e889f1d",
      "metadata": {
        "colab": {
          "base_uri": "https://localhost:8080/",
          "height": 35
        },
        "id": "8e889f1d",
        "outputId": "d42340f5-991b-43b6-c778-c4d257b126c6"
      },
      "outputs": [
        {
          "data": {
            "application/vnd.google.colaboratory.intrinsic+json": {
              "type": "string"
            },
            "text/plain": [
              "'2020-04-21 07:28:31'"
            ]
          },
          "execution_count": 211,
          "metadata": {},
          "output_type": "execute_result"
        }
      ],
      "source": [
        "users.created_at.max()"
      ]
    },
    {
      "cell_type": "code",
      "execution_count": 212,
      "id": "8fa31729",
      "metadata": {
        "colab": {
          "base_uri": "https://localhost:8080/",
          "height": 575
        },
        "id": "8fa31729",
        "outputId": "68aaf3c0-ee3d-4959-f38e-878b287dd025"
      },
      "outputs": [
        {
          "data": {
            "image/png": "[encoded data removed]",
            "text/plain": [
              "<Figure size 432x288 with 1 Axes>"
            ]
          },
          "metadata": {
            "needs_background": "light"
          },
          "output_type": "display_data"
        },
        {
          "data": {
            "image/png": "[encoded data removed]",
            "text/plain": [
              "<Figure size 432x288 with 1 Axes>"
            ]
          },
          "metadata": {
            "needs_background": "light"
          },
          "output_type": "display_data"
        }
      ],
      "source": [
        "# TODO: aggiustare plot\n",
        "\n",
        "users[users.bot == 1].name.groupby(pd.to_datetime(users['created_at'], format='%Y-%m-%d %H:%M:%S', errors='raise').dt.year).count().plot(kind=\"bar\")\n",
        "plt.show()\n",
        "\n",
        "users[users.bot == 0].name.groupby(pd.to_datetime(users['created_at'], format='%Y-%m-%d %H:%M:%S', errors='raise').dt.year).count().plot(kind=\"bar\")\n",
        "plt.show()"
      ]
    },
    {
      "cell_type": "markdown",
      "id": "bd4db295",
      "metadata": {
        "id": "bd4db295"
      },
      "source": [
        "## Statuses_count"
      ]
    },
    {
      "cell_type": "code",
      "execution_count": 213,
      "id": "34fcc999",
      "metadata": {
        "colab": {
          "base_uri": "https://localhost:8080/"
        },
        "id": "34fcc999",
        "outputId": "3d6579f8-f76d-44c4-94ac-bed0bacc52a8"
      },
      "outputs": [
        {
          "name": "stdout",
          "output_type": "stream",
          "text": [
            "number of nan statuses counts:  399\n"
          ]
        }
      ],
      "source": [
        "null_statuses_count_ids = users.statuses_count.isna()\n",
        "\n",
        "print(\"number of nan statuses counts: \", np.sum(null_statuses_count_ids))"
      ]
    },
    {
      "cell_type": "code",
      "execution_count": 214,
      "id": "5294ceab",
      "metadata": {
        "colab": {
          "base_uri": "https://localhost:8080/"
        },
        "id": "5294ceab",
        "outputId": "7218e7a4-6e64-4a33-a258-7efefde431ad"
      },
      "outputs": [
        {
          "data": {
            "text/plain": [
              "count     11109.000000\n",
              "mean       5883.312359\n",
              "std       19073.007305\n",
              "min           0.000000\n",
              "25%          41.000000\n",
              "50%          68.000000\n",
              "75%        2916.000000\n",
              "max      399555.000000\n",
              "Name: statuses_count, dtype: float64"
            ]
          },
          "execution_count": 214,
          "metadata": {},
          "output_type": "execute_result"
        }
      ],
      "source": [
        "users.statuses_count[~null_statuses_count_ids].describe()"
      ]
    },
    {
      "cell_type": "code",
      "execution_count": 215,
      "id": "d83f1938",
      "metadata": {
        "colab": {
          "base_uri": "https://localhost:8080/",
          "height": 265
        },
        "id": "d83f1938",
        "outputId": "2abebab6-4e61-454a-f817-e722242819a1"
      },
      "outputs": [
        {
          "data": {
            "image/png": "[encoded data removed]",
            "text/plain": [
              "<Figure size 432x288 with 1 Axes>"
            ]
          },
          "metadata": {
            "needs_background": "light"
          },
          "output_type": "display_data"
        }
      ],
      "source": [
        "users.statuses_count[~null_statuses_count_ids].hist()\n",
        "plt.show()"
      ]
    },
    {
      "cell_type": "code",
      "execution_count": 144,
      "id": "e7d9ffbf",
      "metadata": {
        "colab": {
          "base_uri": "https://localhost:8080/",
          "height": 266
        },
        "id": "e7d9ffbf",
        "outputId": "b09c8960-86e4-4d99-cb95-76cecaf6e4ec"
      },
      "outputs": [
        {
          "data": {
            "image/png": "[encoded data removed]",
            "text/plain": [
              "<Figure size 432x288 with 1 Axes>"
            ]
          },
          "metadata": {
            "needs_background": "light"
          },
          "output_type": "display_data"
        }
      ],
      "source": [
        "pd.DataFrame(users.statuses_count[~null_statuses_count_ids]).boxplot()\n",
        "plt.show()"
      ]
    },
    {
      "cell_type": "code",
      "execution_count": 145,
      "id": "64634f5a",
      "metadata": {
        "colab": {
          "base_uri": "https://localhost:8080/",
          "height": 283
        },
        "id": "64634f5a",
        "outputId": "3706500b-744b-4060-ba7e-ae079b19f2da"
      },
      "outputs": [
        {
          "data": {
            "text/plain": [
              "<matplotlib.axes._subplots.AxesSubplot at 0x7fcc704b5c90>"
            ]
          },
          "execution_count": 145,
          "metadata": {},
          "output_type": "execute_result"
        },
        {
          "data": {
            "image/png": "[encoded data removed]",
            "text/plain": [
              "<Figure size 432x288 with 1 Axes>"
            ]
          },
          "metadata": {
            "needs_background": "light"
          },
          "output_type": "display_data"
        }
      ],
      "source": [
        "log_feature = pd.Series(np.log(users.statuses_count[~null_statuses_count_ids] + 1))\n",
        "log_feature.hist()"
      ]
    },
    {
      "cell_type": "code",
      "execution_count": 146,
      "id": "010b4d9e",
      "metadata": {
        "colab": {
          "base_uri": "https://localhost:8080/",
          "height": 266
        },
        "id": "010b4d9e",
        "outputId": "35c6858c-8d6e-45ef-cf3c-e28e5e1ba9c4"
      },
      "outputs": [
        {
          "data": {
            "image/png": "[encoded data removed]",
            "text/plain": [
              "<Figure size 432x288 with 1 Axes>"
            ]
          },
          "metadata": {
            "needs_background": "light"
          },
          "output_type": "display_data"
        }
      ],
      "source": [
        "pd.DataFrame(log_feature).boxplot()\n",
        "plt.show()"
      ]
    },
    {
      "cell_type": "markdown",
      "id": "7c00e695",
      "metadata": {
        "id": "7c00e695"
      },
      "source": [
        "### Normal Users"
      ]
    },
    {
      "cell_type": "code",
      "execution_count": 216,
      "id": "1f19bd75",
      "metadata": {
        "colab": {
          "base_uri": "https://localhost:8080/"
        },
        "id": "1f19bd75",
        "outputId": "e599c56b-12ed-45f7-9434-1e9e98a9132f"
      },
      "outputs": [
        {
          "data": {
            "text/plain": [
              "count      4993.000000\n",
              "mean      11638.219107\n",
              "std       26719.438432\n",
              "min           0.000000\n",
              "25%          61.000000\n",
              "50%        2041.000000\n",
              "75%       11585.000000\n",
              "max      399555.000000\n",
              "Name: statuses_count, dtype: float64"
            ]
          },
          "execution_count": 216,
          "metadata": {},
          "output_type": "execute_result"
        }
      ],
      "source": [
        "nobot_users = users[users.bot==0]\n",
        "\n",
        "null_statuses_count_nobot_ids = nobot_users.statuses_count.isna()\n",
        "nobot_users.statuses_count[~null_statuses_count_nobot_ids].describe()"
      ]
    },
    {
      "cell_type": "code",
      "execution_count": 217,
      "id": "d2145e5b",
      "metadata": {
        "colab": {
          "base_uri": "https://localhost:8080/",
          "height": 265
        },
        "id": "d2145e5b",
        "outputId": "a410fe01-d8cf-4235-db94-970530179d74"
      },
      "outputs": [
        {
          "data": {
            "image/png": "[encoded data removed]",
            "text/plain": [
              "<Figure size 432x288 with 1 Axes>"
            ]
          },
          "metadata": {
            "needs_background": "light"
          },
          "output_type": "display_data"
        }
      ],
      "source": [
        "nobot_users.statuses_count[~null_statuses_count_nobot_ids].hist()\n",
        "plt.show()"
      ]
    },
    {
      "cell_type": "code",
      "execution_count": 218,
      "id": "a9c9ff8c",
      "metadata": {
        "colab": {
          "base_uri": "https://localhost:8080/",
          "height": 266
        },
        "id": "a9c9ff8c",
        "outputId": "c1326e04-582a-47ea-8026-30d84ef6bcfa"
      },
      "outputs": [
        {
          "data": {
            "image/png": "[encoded data removed]",
            "text/plain": [
              "<Figure size 432x288 with 1 Axes>"
            ]
          },
          "metadata": {
            "needs_background": "light"
          },
          "output_type": "display_data"
        }
      ],
      "source": [
        "pd.DataFrame(nobot_users.statuses_count[~null_statuses_count_nobot_ids]).boxplot()\n",
        "plt.show()"
      ]
    },
    {
      "cell_type": "code",
      "execution_count": 219,
      "id": "ac29a600",
      "metadata": {
        "colab": {
          "base_uri": "https://localhost:8080/",
          "height": 265
        },
        "id": "ac29a600",
        "outputId": "8941d8ae-bc50-4c94-ef1a-ebc6ed1dcdfe"
      },
      "outputs": [
        {
          "data": {
            "image/png": "[encoded data removed]",
            "text/plain": [
              "<Figure size 432x288 with 1 Axes>"
            ]
          },
          "metadata": {
            "needs_background": "light"
          },
          "output_type": "display_data"
        }
      ],
      "source": [
        "log_feature_nobot = pd.Series(np.log(nobot_users.statuses_count[~null_statuses_count_nobot_ids] + 1))\n",
        "log_feature_nobot.hist()\n",
        "plt.show()"
      ]
    },
    {
      "cell_type": "code",
      "execution_count": 220,
      "id": "e24359ba",
      "metadata": {
        "colab": {
          "base_uri": "https://localhost:8080/",
          "height": 266
        },
        "id": "e24359ba",
        "outputId": "3d8a8bb5-dd63-4139-a2a4-744a5411a2ca"
      },
      "outputs": [
        {
          "data": {
            "image/png": "[encoded data removed]",
            "text/plain": [
              "<Figure size 432x288 with 1 Axes>"
            ]
          },
          "metadata": {
            "needs_background": "light"
          },
          "output_type": "display_data"
        }
      ],
      "source": [
        "pd.DataFrame(log_feature_nobot).boxplot()\n",
        "plt.show()"
      ]
    },
    {
      "cell_type": "code",
      "execution_count": 221,
      "id": "f6f066f0",
      "metadata": {
        "colab": {
          "base_uri": "https://localhost:8080/",
          "height": 678
        },
        "id": "f6f066f0",
        "outputId": "57040cae-be03-4adf-cb04-1adcb0891395"
      },
      "outputs": [
        {
          "name": "stdout",
          "output_type": "stream",
          "text": [
            "Number of Statuses count Nan for Non Bots:  399\n",
            "count    5392.000000\n",
            "mean        6.989525\n",
            "std         2.678152\n",
            "min         0.000000\n",
            "25%         4.189655\n",
            "50%         7.176255\n",
            "75%         9.225894\n",
            "max        12.898109\n",
            "Name: statuses_count, dtype: float64\n"
          ]
        },
        {
          "name": "stderr",
          "output_type": "stream",
          "text": [
            "/usr/local/lib/python3.7/dist-packages/pandas/core/indexing.py:1773: SettingWithCopyWarning: \n",
            "A value is trying to be set on a copy of a slice from a DataFrame.\n",
            "Try using .loc[row_indexer,col_indexer] = value instead\n",
            "\n",
            "See the caveats in the documentation: https://pandas.pydata.org/pandas-docs/stable/user_guide/indexing.html#returning-a-view-versus-a-copy\n",
            "  self._setitem_single_column(ilocs[0], value, pi)\n",
            "/usr/local/lib/python3.7/dist-packages/pandas/core/indexing.py:1817: SettingWithCopyWarning: \n",
            "A value is trying to be set on a copy of a slice from a DataFrame.\n",
            "Try using .loc[row_indexer,col_indexer] = value instead\n",
            "\n",
            "See the caveats in the documentation: https://pandas.pydata.org/pandas-docs/stable/user_guide/indexing.html#returning-a-view-versus-a-copy\n",
            "  self._setitem_single_column(loc, value, pi)\n"
          ]
        },
        {
          "data": {
            "image/png": "[encoded data removed]",
            "text/plain": [
              "<Figure size 432x288 with 1 Axes>"
            ]
          },
          "metadata": {
            "needs_background": "light"
          },
          "output_type": "display_data"
        }
      ],
      "source": [
        "# remove Nan element\n",
        "print(\"Number of Statuses count Nan for Non Bots: \", np.sum(null_statuses_count_nobot_ids))\n",
        "\n",
        "median = np.floor(log_feature_nobot.median())\n",
        "\n",
        "nobot_users.loc[~null_statuses_count_nobot_ids, \"statuses_count\"] = log_feature_nobot\n",
        "nobot_users.loc[null_statuses_count_nobot_ids, \"statuses_count\"] = median\n",
        "\n",
        "users.loc[users.bot==0, \"statuses_count\"] = nobot_users.statuses_count\n",
        "\n",
        "print(users.loc[users.bot==0, \"statuses_count\"].describe())\n",
        "\n",
        "users.loc[users.bot==0, \"statuses_count\"].hist()\n",
        "plt.show()"
      ]
    },
    {
      "cell_type": "markdown",
      "id": "2d48c17e",
      "metadata": {
        "id": "2d48c17e"
      },
      "source": [
        "### Bot"
      ]
    },
    {
      "cell_type": "code",
      "execution_count": 222,
      "id": "5516f00b",
      "metadata": {
        "colab": {
          "base_uri": "https://localhost:8080/"
        },
        "id": "5516f00b",
        "outputId": "73861472-75db-4df7-e3fd-07da8c8f9af5"
      },
      "outputs": [
        {
          "data": {
            "text/plain": [
              "count      6116.000000\n",
              "mean       1185.102845\n",
              "std        5373.550630\n",
              "min           0.000000\n",
              "25%          32.000000\n",
              "50%          53.000000\n",
              "75%          78.000000\n",
              "max      214410.000000\n",
              "Name: statuses_count, dtype: float64"
            ]
          },
          "execution_count": 222,
          "metadata": {},
          "output_type": "execute_result"
        }
      ],
      "source": [
        "bot_users = users[users.bot==1]\n",
        "\n",
        "null_statuses_count_bot_ids = bot_users.statuses_count.isna()\n",
        "bot_users.statuses_count[~null_statuses_count_bot_ids].describe()"
      ]
    },
    {
      "cell_type": "code",
      "execution_count": 223,
      "id": "b4ab5dbd",
      "metadata": {
        "colab": {
          "base_uri": "https://localhost:8080/",
          "height": 265
        },
        "id": "b4ab5dbd",
        "outputId": "50726e94-a74e-4131-fac8-b3623076505a"
      },
      "outputs": [
        {
          "data": {
            "image/png": "[encoded data removed]",
            "text/plain": [
              "<Figure size 432x288 with 1 Axes>"
            ]
          },
          "metadata": {
            "needs_background": "light"
          },
          "output_type": "display_data"
        }
      ],
      "source": [
        "bot_users.statuses_count[~null_statuses_count_bot_ids].hist()\n",
        "plt.show()"
      ]
    },
    {
      "cell_type": "code",
      "execution_count": 224,
      "id": "3bb83570",
      "metadata": {
        "colab": {
          "base_uri": "https://localhost:8080/",
          "height": 266
        },
        "id": "3bb83570",
        "outputId": "93d8798c-6ee5-4274-992e-a6a05e6a0dac"
      },
      "outputs": [
        {
          "data": {
            "image/png": "[encoded data removed]",
            "text/plain": [
              "<Figure size 432x288 with 1 Axes>"
            ]
          },
          "metadata": {
            "needs_background": "light"
          },
          "output_type": "display_data"
        }
      ],
      "source": [
        "pd.DataFrame(bot_users.statuses_count[~null_statuses_count_bot_ids]).boxplot()\n",
        "plt.show()"
      ]
    },
    {
      "cell_type": "code",
      "execution_count": 225,
      "id": "df1e57ef",
      "metadata": {
        "colab": {
          "base_uri": "https://localhost:8080/",
          "height": 265
        },
        "id": "df1e57ef",
        "outputId": "42ae2b44-7c80-4944-f0f9-195d5cadecbc"
      },
      "outputs": [
        {
          "data": {
            "image/png": "[encoded data removed]",
            "text/plain": [
              "<Figure size 432x288 with 1 Axes>"
            ]
          },
          "metadata": {
            "needs_background": "light"
          },
          "output_type": "display_data"
        }
      ],
      "source": [
        "log_feature_bot = pd.Series(np.log(bot_users.statuses_count[~null_statuses_count_bot_ids] + 1))\n",
        "log_feature_bot.hist()\n",
        "plt.show()"
      ]
    },
    {
      "cell_type": "code",
      "execution_count": 226,
      "id": "587b0129",
      "metadata": {
        "colab": {
          "base_uri": "https://localhost:8080/",
          "height": 266
        },
        "id": "587b0129",
        "outputId": "923cf627-34aa-448e-c2f9-0201e4caf932"
      },
      "outputs": [
        {
          "data": {
            "image/png": "[encoded data removed]",
            "text/plain": [
              "<Figure size 432x288 with 1 Axes>"
            ]
          },
          "metadata": {
            "needs_background": "light"
          },
          "output_type": "display_data"
        }
      ],
      "source": [
        "pd.DataFrame(log_feature_bot).boxplot()\n",
        "plt.show()\n",
        "\n",
        "# we can see that there are some outliers"
      ]
    },
    {
      "cell_type": "code",
      "execution_count": 227,
      "id": "68fe9700",
      "metadata": {
        "colab": {
          "base_uri": "https://localhost:8080/",
          "height": 266
        },
        "id": "68fe9700",
        "outputId": "c6c3f546-85b5-4fff-919f-5996f48a6622"
      },
      "outputs": [
        {
          "data": {
            "image/png": "[encoded data removed]",
            "text/plain": [
              "<Figure size 432x288 with 1 Axes>"
            ]
          },
          "metadata": {
            "needs_background": "light"
          },
          "output_type": "display_data"
        }
      ],
      "source": [
        "# removing outliers \n",
        "IQR = log_feature_bot.quantile(0.75) - log_feature_bot.quantile(0.25)\n",
        "outlier_1 = log_feature_bot.quantile(0.75) + 1.5*IQR\n",
        "outlier_2 = log_feature_bot.quantile(0.25) - 1.5*IQR\n",
        "\n",
        "log_feature_bot[log_feature_bot > outlier_1] = outlier_1\n",
        "log_feature_bot[log_feature_bot < outlier_2] = outlier_2\n",
        "\n",
        "pd.DataFrame(log_feature_bot).boxplot()\n",
        "plt.show()"
      ]
    },
    {
      "cell_type": "code",
      "execution_count": 228,
      "id": "32e5e0be",
      "metadata": {
        "colab": {
          "base_uri": "https://localhost:8080/",
          "height": 444
        },
        "id": "32e5e0be",
        "outputId": "0036ad4f-19e5-4bd4-cf63-c15f23c555ea"
      },
      "outputs": [
        {
          "name": "stdout",
          "output_type": "stream",
          "text": [
            "Number of Statuses count Nan for Bots:  0\n",
            "count    6116.000000\n",
            "mean       88.067366\n",
            "std        92.332466\n",
            "min         7.909313\n",
            "25%        32.000000\n",
            "50%        53.000000\n",
            "75%        78.000000\n",
            "max       291.615157\n",
            "Name: statuses_count, dtype: float64\n"
          ]
        },
        {
          "data": {
            "image/png": "[encoded data removed]",
            "text/plain": [
              "<Figure size 432x288 with 1 Axes>"
            ]
          },
          "metadata": {
            "needs_background": "light"
          },
          "output_type": "display_data"
        }
      ],
      "source": [
        "print(\"Number of Statuses count Nan for Bots: \", np.sum(null_statuses_count_bot_ids))\n",
        "\n",
        "users.loc[users.bot==1, \"statuses_count\"] = np.exp(log_feature_bot) - 1\n",
        "\n",
        "print(users.loc[users.bot==1, \"statuses_count\"].describe())\n",
        "\n",
        "users.loc[users.bot==1, \"statuses_count\"].hist()\n",
        "plt.show()"
      ]
    },
    {
      "cell_type": "code",
      "execution_count": 229,
      "id": "YnEsD6zoyN0e",
      "metadata": {
        "id": "YnEsD6zoyN0e"
      },
      "outputs": [],
      "source": [
        "users.statuses_count = users.statuses_count.astype(int)"
      ]
    },
    {
      "cell_type": "code",
      "execution_count": 230,
      "id": "S96vbzMRybTj",
      "metadata": {
        "colab": {
          "base_uri": "https://localhost:8080/"
        },
        "id": "S96vbzMRybTj",
        "outputId": "d4175134-7079-4ac6-8484-a438538b5bdf"
      },
      "outputs": [
        {
          "name": "stdout",
          "output_type": "stream",
          "text": [
            "<class 'pandas.core.frame.DataFrame'>\n",
            "Int64Index: 11508 entries, 2353593986 to 933183398\n",
            "Data columns (total 5 columns):\n",
            " #   Column          Non-Null Count  Dtype \n",
            "---  ------          --------------  ----- \n",
            " 0   name            11508 non-null  object\n",
            " 1   lang            11508 non-null  object\n",
            " 2   bot             11508 non-null  int64 \n",
            " 3   created_at      11508 non-null  object\n",
            " 4   statuses_count  11508 non-null  int64 \n",
            "dtypes: int64(2), object(3)\n",
            "memory usage: 797.5+ KB\n"
          ]
        }
      ],
      "source": [
        "users.info()"
      ]
    },
    {
      "cell_type": "markdown",
      "id": "ac684328",
      "metadata": {
        "id": "ac684328"
      },
      "source": [
        "# Tweets"
      ]
    },
    {
      "cell_type": "code",
      "execution_count": null,
      "id": "f05f80d5",
      "metadata": {
        "id": "f05f80d5"
      },
      "outputs": [],
      "source": [
        "tweets = pd.read_csv(\"tweets.csv\", index_col=0)"
      ]
    },
    {
      "cell_type": "code",
      "execution_count": null,
      "id": "1bef3e6f",
      "metadata": {
        "colab": {
          "base_uri": "https://localhost:8080/",
          "height": 475
        },
        "id": "1bef3e6f",
        "outputId": "a17dcd7d-7a48-4f84-e168-13652f961ccb"
      },
      "outputs": [
        {
          "data": {
            "text/html": [
              "\n",
              "  <div id=\"df-1a3781d5-db3c-4423-a3d7-4af7e36ac8c3\">\n",
              "    <div class=\"colab-df-container\">\n",
              "      <div>\n",
              "<style scoped>\n",
              "    .dataframe tbody tr th:only-of-type {\n",
              "        vertical-align: middle;\n",
              "    }\n",
              "\n",
              "    .dataframe tbody tr th {\n",
              "        vertical-align: top;\n",
              "    }\n",
              "\n",
              "    .dataframe thead th {\n",
              "        text-align: right;\n",
              "    }\n",
              "</style>\n",
              "<table border=\"1\" class=\"dataframe\">\n",
              "  <thead>\n",
              "    <tr style=\"text-align: right;\">\n",
              "      <th></th>\n",
              "      <th>user_id</th>\n",
              "      <th>retweet_count</th>\n",
              "      <th>reply_count</th>\n",
              "      <th>favorite_count</th>\n",
              "      <th>num_hashtags</th>\n",
              "      <th>num_urls</th>\n",
              "      <th>num_mentions</th>\n",
              "      <th>created_at</th>\n",
              "      <th>text</th>\n",
              "    </tr>\n",
              "    <tr>\n",
              "      <th>id</th>\n",
              "      <th></th>\n",
              "      <th></th>\n",
              "      <th></th>\n",
              "      <th></th>\n",
              "      <th></th>\n",
              "      <th></th>\n",
              "      <th></th>\n",
              "      <th></th>\n",
              "      <th></th>\n",
              "    </tr>\n",
              "  </thead>\n",
              "  <tbody>\n",
              "    <tr>\n",
              "      <th>509354017856950272</th>\n",
              "      <td>327746321</td>\n",
              "      <td>0</td>\n",
              "      <td>0</td>\n",
              "      <td>0</td>\n",
              "      <td>0</td>\n",
              "      <td>0</td>\n",
              "      <td>0</td>\n",
              "      <td>2019-09-11 14:53:55</td>\n",
              "      <td>If man is a little lower than angels, then ang...</td>\n",
              "    </tr>\n",
              "    <tr>\n",
              "      <th>583002592529121280</th>\n",
              "      <td>333722906</td>\n",
              "      <td>1</td>\n",
              "      <td>0</td>\n",
              "      <td>0</td>\n",
              "      <td>0</td>\n",
              "      <td>0</td>\n",
              "      <td>1</td>\n",
              "      <td>2020-04-01 20:27:04</td>\n",
              "      <td>\"@BestWSHHVids: how do you say these words wit...</td>\n",
              "    </tr>\n",
              "    <tr>\n",
              "      <th>461498835362013185</th>\n",
              "      <td>2379755827</td>\n",
              "      <td>0</td>\n",
              "      <td>0</td>\n",
              "      <td>0</td>\n",
              "      <td>0</td>\n",
              "      <td>0</td>\n",
              "      <td>1</td>\n",
              "      <td>2019-05-02 13:34:31</td>\n",
              "      <td>@LOLatComedy awsome</td>\n",
              "    </tr>\n",
              "    <tr>\n",
              "      <th>528808127366692864</th>\n",
              "      <td>466226882</td>\n",
              "      <td>0</td>\n",
              "      <td>0</td>\n",
              "      <td>0</td>\n",
              "      <td>0</td>\n",
              "      <td>0</td>\n",
              "      <td>0</td>\n",
              "      <td>2019-11-04 07:17:37</td>\n",
              "      <td>Stephen Hawkins: i buchi neri non esistono se ...</td>\n",
              "    </tr>\n",
              "    <tr>\n",
              "      <th>575336690904006656</th>\n",
              "      <td>1355537995</td>\n",
              "      <td>114</td>\n",
              "      <td>0</td>\n",
              "      <td>0</td>\n",
              "      <td>1</td>\n",
              "      <td>0</td>\n",
              "      <td>1</td>\n",
              "      <td>2020-03-11 16:45:31</td>\n",
              "      <td>RT @tibbs_montris: So ready for Wednesday!</td>\n",
              "    </tr>\n",
              "  </tbody>\n",
              "</table>\n",
              "</div>\n",
              "      <button class=\"colab-df-convert\" onclick=\"convertToInteractive('df-1a3781d5-db3c-4423-a3d7-4af7e36ac8c3')\"\n",
              "              title=\"Convert this dataframe to an interactive table.\"\n",
              "              style=\"display:none;\">\n",
              "        \n",
              "  <svg xmlns=\"http://www.w3.org/2000/svg\" height=\"24px\"viewBox=\"0 0 24 24\"\n",
              "       width=\"24px\">\n",
              "    <path d=\"M0 0h24v24H0V0z\" fill=\"none\"/>\n",
              "    <path d=\"M18.56 5.44l.94 2.06.94-2.06 2.06-.94-2.06-.94-.94-2.06-.94 2.06-2.06.94zm-11 1L8.5 8.5l.94-2.06 2.06-.94-2.06-.94L8.5 2.5l-.94 2.06-2.06.94zm10 10l.94 2.06.94-2.06 2.06-.94-2.06-.94-.94-2.06-.94 2.06-2.06.94z\"/><path d=\"M17.41 7.96l-1.37-1.37c-.4-.4-.92-.59-1.43-.59-.52 0-1.04.2-1.43.59L10.3 9.45l-7.72 7.72c-.78.78-.78 2.05 0 2.83L4 21.41c.39.39.9.59 1.41.59.51 0 1.02-.2 1.41-.59l7.78-7.78 2.81-2.81c.8-.78.8-2.07 0-2.86zM5.41 20L4 18.59l7.72-7.72 1.47 1.35L5.41 20z\"/>\n",
              "  </svg>\n",
              "      </button>\n",
              "      \n",
              "  <style>\n",
              "    .colab-df-container {\n",
              "      display:flex;\n",
              "      flex-wrap:wrap;\n",
              "      gap: 12px;\n",
              "    }\n",
              "\n",
              "    .colab-df-convert {\n",
              "      background-color: #E8F0FE;\n",
              "      border: none;\n",
              "      border-radius: 50%;\n",
              "      cursor: pointer;\n",
              "      display: none;\n",
              "      fill: #1967D2;\n",
              "      height: 32px;\n",
              "      padding: 0 0 0 0;\n",
              "      width: 32px;\n",
              "    }\n",
              "\n",
              "    .colab-df-convert:hover {\n",
              "      background-color: #E2EBFA;\n",
              "      box-shadow: 0px 1px 2px rgba(60, 64, 67, 0.3), 0px 1px 3px 1px rgba(60, 64, 67, 0.15);\n",
              "      fill: #174EA6;\n",
              "    }\n",
              "\n",
              "    [theme=dark] .colab-df-convert {\n",
              "      background-color: #3B4455;\n",
              "      fill: #D2E3FC;\n",
              "    }\n",
              "\n",
              "    [theme=dark] .colab-df-convert:hover {\n",
              "      background-color: #434B5C;\n",
              "      box-shadow: 0px 1px 3px 1px rgba(0, 0, 0, 0.15);\n",
              "      filter: drop-shadow(0px 1px 2px rgba(0, 0, 0, 0.3));\n",
              "      fill: #FFFFFF;\n",
              "    }\n",
              "  </style>\n",
              "\n",
              "      <script>\n",
              "        const buttonEl =\n",
              "          document.querySelector('#df-1a3781d5-db3c-4423-a3d7-4af7e36ac8c3 button.colab-df-convert');\n",
              "        buttonEl.style.display =\n",
              "          google.colab.kernel.accessAllowed ? 'block' : 'none';\n",
              "\n",
              "        async function convertToInteractive(key) {\n",
              "          const element = document.querySelector('#df-1a3781d5-db3c-4423-a3d7-4af7e36ac8c3');\n",
              "          const dataTable =\n",
              "            await google.colab.kernel.invokeFunction('convertToInteractive',\n",
              "                                                     [key], {});\n",
              "          if (!dataTable) return;\n",
              "\n",
              "          const docLinkHtml = 'Like what you see? Visit the ' +\n",
              "            '<a target=\"_blank\" href=https://colab.research.google.com/notebooks/data_table.ipynb>data table notebook</a>'\n",
              "            + ' to learn more about interactive tables.';\n",
              "          element.innerHTML = '';\n",
              "          dataTable['output_type'] = 'display_data';\n",
              "          await google.colab.output.renderOutput(dataTable, element);\n",
              "          const docLink = document.createElement('div');\n",
              "          docLink.innerHTML = docLinkHtml;\n",
              "          element.appendChild(docLink);\n",
              "        }\n",
              "      </script>\n",
              "    </div>\n",
              "  </div>\n",
              "  "
            ],
            "text/plain": [
              "                       user_id retweet_count reply_count favorite_count  \\\n",
              "id                                                                        \n",
              "509354017856950272   327746321             0           0              0   \n",
              "583002592529121280   333722906             1           0              0   \n",
              "461498835362013185  2379755827             0           0              0   \n",
              "528808127366692864   466226882             0           0              0   \n",
              "575336690904006656  1355537995           114           0              0   \n",
              "\n",
              "                   num_hashtags num_urls num_mentions           created_at  \\\n",
              "id                                                                           \n",
              "509354017856950272            0        0            0  2019-09-11 14:53:55   \n",
              "583002592529121280            0        0            1  2020-04-01 20:27:04   \n",
              "461498835362013185            0        0            1  2019-05-02 13:34:31   \n",
              "528808127366692864            0        0            0  2019-11-04 07:17:37   \n",
              "575336690904006656            1        0            1  2020-03-11 16:45:31   \n",
              "\n",
              "                                                                 text  \n",
              "id                                                                     \n",
              "509354017856950272  If man is a little lower than angels, then ang...  \n",
              "583002592529121280  \"@BestWSHHVids: how do you say these words wit...  \n",
              "461498835362013185                                @LOLatComedy awsome  \n",
              "528808127366692864  Stephen Hawkins: i buchi neri non esistono se ...  \n",
              "575336690904006656        RT @tibbs_montris: So ready for Wednesday!   "
            ]
          },
          "execution_count": 48,
          "metadata": {},
          "output_type": "execute_result"
        }
      ],
      "source": [
        "tweets.head()"
      ]
    },
    {
      "cell_type": "code",
      "execution_count": null,
      "id": "50037567",
      "metadata": {
        "colab": {
          "base_uri": "https://localhost:8080/"
        },
        "id": "50037567",
        "outputId": "66171d87-b9ae-4b7f-9fce-c932bd0dd7ec"
      },
      "outputs": [
        {
          "data": {
            "text/plain": [
              "(13664696, 9)"
            ]
          },
          "execution_count": 49,
          "metadata": {},
          "output_type": "execute_result"
        }
      ],
      "source": [
        "tweets.shape"
      ]
    },
    {
      "cell_type": "code",
      "execution_count": null,
      "id": "45cb81a7",
      "metadata": {
        "colab": {
          "base_uri": "https://localhost:8080/"
        },
        "id": "45cb81a7",
        "outputId": "e10f3f4d-0142-42a6-ae96-10eea010ff6b"
      },
      "outputs": [
        {
          "name": "stdout",
          "output_type": "stream",
          "text": [
            "<class 'pandas.core.frame.DataFrame'>\n",
            "Index: 13664696 entries, 509354017856950272 to 486479812614451200\n",
            "Data columns (total 9 columns):\n",
            " #   Column          Dtype \n",
            "---  ------          ----- \n",
            " 0   user_id         object\n",
            " 1   retweet_count   object\n",
            " 2   reply_count     object\n",
            " 3   favorite_count  object\n",
            " 4   num_hashtags    object\n",
            " 5   num_urls        object\n",
            " 6   num_mentions    object\n",
            " 7   created_at      object\n",
            " 8   text            object\n",
            "dtypes: object(9)\n",
            "memory usage: 1.0+ GB\n"
          ]
        }
      ],
      "source": [
        "tweets.info()"
      ]
    },
    {
      "cell_type": "code",
      "execution_count": null,
      "id": "R6UMnkkYlN2I",
      "metadata": {
        "colab": {
          "base_uri": "https://localhost:8080/"
        },
        "id": "R6UMnkkYlN2I",
        "outputId": "100c450d-829f-4134-a037-c2f27228e3d0"
      },
      "outputs": [
        {
          "name": "stdout",
          "output_type": "stream",
          "text": [
            "Number of NaN element in the non numeric indexed tweets:  user_id            217283\n",
            "retweet_count      437134\n",
            "reply_count        647878\n",
            "favorite_count     647542\n",
            "num_hashtags      1057524\n",
            "num_urls           648623\n",
            "num_mentions       854165\n",
            "created_at              0\n",
            "text               537721\n",
            "dtype: int64\n",
            "Total Number of element in the non numeric indexed tweets:  13664696\n",
            "Ratio of the Nan elements per column:  user_id           0.015901\n",
            "retweet_count     0.031990\n",
            "reply_count       0.047413\n",
            "favorite_count    0.047388\n",
            "num_hashtags      0.077391\n",
            "num_urls          0.047467\n",
            "num_mentions      0.062509\n",
            "created_at        0.000000\n",
            "text              0.039351\n",
            "dtype: float64\n",
            "Ratio of the Nan elements:  0.041045512058551795\n"
          ]
        }
      ],
      "source": [
        "# we can see the percentage of NaN element of the columns of the tweets\n",
        "nan_element = np.sum(tweets.isna())\n",
        "total_element = tweets.shape[0]\n",
        "\n",
        "print(\"Number of NaN element in the non numeric indexed tweets: \", nan_element)\n",
        "print(\"Total Number of element in the non numeric indexed tweets: \", total_element)\n",
        "\n",
        "ratio_per_column = nan_element/total_element\n",
        "\n",
        "print(\"Ratio of the Nan elements per column: \", ratio_per_column)\n",
        "\n",
        "print(\"Ratio of the Nan elements: \", ratio_per_column.mean())"
      ]
    },
    {
      "cell_type": "markdown",
      "id": "efaae736",
      "metadata": {
        "id": "efaae736"
      },
      "source": [
        "## Index"
      ]
    },
    {
      "cell_type": "code",
      "execution_count": null,
      "id": "63a2ae42",
      "metadata": {
        "id": "63a2ae42"
      },
      "outputs": [],
      "source": [
        "# see the distribution of the lenght of the index\n",
        "vlen = np.vectorize(lambda x: len(str(x)))\n",
        "indexes = pd.Series(vlen(tweets.index.to_numpy()))"
      ]
    },
    {
      "cell_type": "code",
      "execution_count": null,
      "id": "7719d300",
      "metadata": {
        "id": "7719d300"
      },
      "outputs": [],
      "source": [
        "indexes.value_counts()\n",
        "del indexes"
      ]
    },
    {
      "cell_type": "code",
      "execution_count": null,
      "id": "2a587b7b",
      "metadata": {
        "id": "2a587b7b"
      },
      "outputs": [],
      "source": [
        "# drop duplicated rows, dropping the row that have all the values duplicated not only the id\n",
        "tweets = tweets.drop_duplicates()"
      ]
    },
    {
      "cell_type": "code",
      "execution_count": null,
      "id": "7e1b588c",
      "metadata": {
        "colab": {
          "base_uri": "https://localhost:8080/"
        },
        "id": "7e1b588c",
        "outputId": "5732d4e8-3b98-4e34-eec2-abda66368e1f"
      },
      "outputs": [
        {
          "data": {
            "text/plain": [
              "(11712093, 9)"
            ]
          },
          "execution_count": 55,
          "metadata": {},
          "output_type": "execute_result"
        }
      ],
      "source": [
        "tweets.shape"
      ]
    },
    {
      "cell_type": "code",
      "execution_count": null,
      "id": "8abcd031",
      "metadata": {
        "colab": {
          "base_uri": "https://localhost:8080/"
        },
        "id": "8abcd031",
        "outputId": "591dced2-3c2a-4cdf-ac46-85eef1514364"
      },
      "outputs": [
        {
          "name": "stdout",
          "output_type": "stream",
          "text": [
            "removed rows : 1952603\n"
          ]
        }
      ],
      "source": [
        "print(f\"removed rows : {13664696 - 11712093}\")"
      ]
    },
    {
      "cell_type": "code",
      "execution_count": null,
      "id": "61b7ce0c",
      "metadata": {
        "colab": {
          "base_uri": "https://localhost:8080/"
        },
        "id": "61b7ce0c",
        "outputId": "13ae94c3-117d-406a-90bd-3b53371c2c60"
      },
      "outputs": [
        {
          "name": "stdout",
          "output_type": "stream",
          "text": [
            "dmy                   14\n",
            "qsa                   12\n",
            "mxo                   11\n",
            "nis                   11\n",
            "rdw                   11\n",
            "                      ..\n",
            "472403921332613120     1\n",
            "583261659797426176     1\n",
            "361607898599657473     1\n",
            "582869903788634113     1\n",
            "486479812614451200     1\n",
            "Name: id, Length: 11671631, dtype: int64\n"
          ]
        }
      ],
      "source": [
        "index_value_counts = tweets.index.value_counts()\n",
        "print(index_value_counts)"
      ]
    },
    {
      "cell_type": "code",
      "execution_count": null,
      "id": "8e9ea156",
      "metadata": {
        "colab": {
          "base_uri": "https://localhost:8080/",
          "height": 564
        },
        "id": "8e9ea156",
        "outputId": "4eab1aad-b6be-4fc7-eeba-59b3ad216b25"
      },
      "outputs": [
        {
          "data": {
            "text/html": [
              "\n",
              "  <div id=\"df-4883ff27-38d6-4039-919c-94e12d86749f\">\n",
              "    <div class=\"colab-df-container\">\n",
              "      <div>\n",
              "<style scoped>\n",
              "    .dataframe tbody tr th:only-of-type {\n",
              "        vertical-align: middle;\n",
              "    }\n",
              "\n",
              "    .dataframe tbody tr th {\n",
              "        vertical-align: top;\n",
              "    }\n",
              "\n",
              "    .dataframe thead th {\n",
              "        text-align: right;\n",
              "    }\n",
              "</style>\n",
              "<table border=\"1\" class=\"dataframe\">\n",
              "  <thead>\n",
              "    <tr style=\"text-align: right;\">\n",
              "      <th></th>\n",
              "      <th>user_id</th>\n",
              "      <th>retweet_count</th>\n",
              "      <th>reply_count</th>\n",
              "      <th>favorite_count</th>\n",
              "      <th>num_hashtags</th>\n",
              "      <th>num_urls</th>\n",
              "      <th>num_mentions</th>\n",
              "      <th>created_at</th>\n",
              "      <th>text</th>\n",
              "    </tr>\n",
              "    <tr>\n",
              "      <th>id</th>\n",
              "      <th></th>\n",
              "      <th></th>\n",
              "      <th></th>\n",
              "      <th></th>\n",
              "      <th></th>\n",
              "      <th></th>\n",
              "      <th></th>\n",
              "      <th></th>\n",
              "      <th></th>\n",
              "    </tr>\n",
              "  </thead>\n",
              "  <tbody>\n",
              "    <tr>\n",
              "      <th>dmy</th>\n",
              "      <td>2882736641</td>\n",
              "      <td>NaN</td>\n",
              "      <td>NaN</td>\n",
              "      <td>NaN</td>\n",
              "      <td>NaN</td>\n",
              "      <td>NaN</td>\n",
              "      <td>NaN</td>\n",
              "      <td>2020-04-24 17:07:08</td>\n",
              "      <td>NaN</td>\n",
              "    </tr>\n",
              "    <tr>\n",
              "      <th>dmy</th>\n",
              "      <td>138492664</td>\n",
              "      <td>NaN</td>\n",
              "      <td>NaN</td>\n",
              "      <td>NaN</td>\n",
              "      <td>NaN</td>\n",
              "      <td>NaN</td>\n",
              "      <td>NaN</td>\n",
              "      <td>2020-04-29 13:07:05</td>\n",
              "      <td>NaN</td>\n",
              "    </tr>\n",
              "    <tr>\n",
              "      <th>dmy</th>\n",
              "      <td>NaN</td>\n",
              "      <td>NaN</td>\n",
              "      <td>NaN</td>\n",
              "      <td>NaN</td>\n",
              "      <td>NaN</td>\n",
              "      <td>NaN</td>\n",
              "      <td>NaN</td>\n",
              "      <td>2019-04-10 01:52:25</td>\n",
              "      <td>NaN</td>\n",
              "    </tr>\n",
              "    <tr>\n",
              "      <th>dmy</th>\n",
              "      <td>467136996</td>\n",
              "      <td>NaN</td>\n",
              "      <td>NaN</td>\n",
              "      <td>NaN</td>\n",
              "      <td>NaN</td>\n",
              "      <td>NaN</td>\n",
              "      <td>NaN</td>\n",
              "      <td>2019-10-17 06:21:50</td>\n",
              "      <td>NaN</td>\n",
              "    </tr>\n",
              "    <tr>\n",
              "      <th>dmy</th>\n",
              "      <td>816485959</td>\n",
              "      <td>NaN</td>\n",
              "      <td>NaN</td>\n",
              "      <td>NaN</td>\n",
              "      <td>NaN</td>\n",
              "      <td>NaN</td>\n",
              "      <td>NaN</td>\n",
              "      <td>2019-11-09 17:24:53</td>\n",
              "      <td>NaN</td>\n",
              "    </tr>\n",
              "    <tr>\n",
              "      <th>dmy</th>\n",
              "      <td>531252639</td>\n",
              "      <td>NaN</td>\n",
              "      <td>NaN</td>\n",
              "      <td>NaN</td>\n",
              "      <td>NaN</td>\n",
              "      <td>NaN</td>\n",
              "      <td>NaN</td>\n",
              "      <td>2019-11-08 21:28:02</td>\n",
              "      <td>NaN</td>\n",
              "    </tr>\n",
              "    <tr>\n",
              "      <th>dmy</th>\n",
              "      <td>520977237</td>\n",
              "      <td>NaN</td>\n",
              "      <td>NaN</td>\n",
              "      <td>NaN</td>\n",
              "      <td>NaN</td>\n",
              "      <td>NaN</td>\n",
              "      <td>NaN</td>\n",
              "      <td>2019-04-06 01:58:36</td>\n",
              "      <td>NaN</td>\n",
              "    </tr>\n",
              "    <tr>\n",
              "      <th>dmy</th>\n",
              "      <td>535901760</td>\n",
              "      <td>NaN</td>\n",
              "      <td>NaN</td>\n",
              "      <td>NaN</td>\n",
              "      <td>NaN</td>\n",
              "      <td>NaN</td>\n",
              "      <td>NaN</td>\n",
              "      <td>2019-11-06 04:07:20</td>\n",
              "      <td>NaN</td>\n",
              "    </tr>\n",
              "    <tr>\n",
              "      <th>dmy</th>\n",
              "      <td>2351661655</td>\n",
              "      <td>NaN</td>\n",
              "      <td>NaN</td>\n",
              "      <td>NaN</td>\n",
              "      <td>NaN</td>\n",
              "      <td>NaN</td>\n",
              "      <td>NaN</td>\n",
              "      <td>2019-06-07 04:55:39</td>\n",
              "      <td>NaN</td>\n",
              "    </tr>\n",
              "    <tr>\n",
              "      <th>dmy</th>\n",
              "      <td>2183434100</td>\n",
              "      <td>NaN</td>\n",
              "      <td>NaN</td>\n",
              "      <td>NaN</td>\n",
              "      <td>NaN</td>\n",
              "      <td>NaN</td>\n",
              "      <td>NaN</td>\n",
              "      <td>2020-04-17 17:21:05</td>\n",
              "      <td>NaN</td>\n",
              "    </tr>\n",
              "    <tr>\n",
              "      <th>dmy</th>\n",
              "      <td>2359781660</td>\n",
              "      <td>NaN</td>\n",
              "      <td>NaN</td>\n",
              "      <td>NaN</td>\n",
              "      <td>NaN</td>\n",
              "      <td>NaN</td>\n",
              "      <td>NaN</td>\n",
              "      <td>2019-04-05 20:16:57</td>\n",
              "      <td>NaN</td>\n",
              "    </tr>\n",
              "    <tr>\n",
              "      <th>dmy</th>\n",
              "      <td>406828178</td>\n",
              "      <td>NaN</td>\n",
              "      <td>NaN</td>\n",
              "      <td>NaN</td>\n",
              "      <td>NaN</td>\n",
              "      <td>NaN</td>\n",
              "      <td>NaN</td>\n",
              "      <td>2017-02-26 13:03:18</td>\n",
              "      <td>NaN</td>\n",
              "    </tr>\n",
              "    <tr>\n",
              "      <th>dmy</th>\n",
              "      <td>xc41pjwq</td>\n",
              "      <td>NaN</td>\n",
              "      <td>NaN</td>\n",
              "      <td>NaN</td>\n",
              "      <td>NaN</td>\n",
              "      <td>NaN</td>\n",
              "      <td>NaN</td>\n",
              "      <td>2019-05-01 16:21:27</td>\n",
              "      <td>NaN</td>\n",
              "    </tr>\n",
              "    <tr>\n",
              "      <th>dmy</th>\n",
              "      <td>539138964</td>\n",
              "      <td>NaN</td>\n",
              "      <td>NaN</td>\n",
              "      <td>NaN</td>\n",
              "      <td>NaN</td>\n",
              "      <td>NaN</td>\n",
              "      <td>NaN</td>\n",
              "      <td>2019-05-28 21:23:26</td>\n",
              "      <td>NaN</td>\n",
              "    </tr>\n",
              "  </tbody>\n",
              "</table>\n",
              "</div>\n",
              "      <button class=\"colab-df-convert\" onclick=\"convertToInteractive('df-4883ff27-38d6-4039-919c-94e12d86749f')\"\n",
              "              title=\"Convert this dataframe to an interactive table.\"\n",
              "              style=\"display:none;\">\n",
              "        \n",
              "  <svg xmlns=\"http://www.w3.org/2000/svg\" height=\"24px\"viewBox=\"0 0 24 24\"\n",
              "       width=\"24px\">\n",
              "    <path d=\"M0 0h24v24H0V0z\" fill=\"none\"/>\n",
              "    <path d=\"M18.56 5.44l.94 2.06.94-2.06 2.06-.94-2.06-.94-.94-2.06-.94 2.06-2.06.94zm-11 1L8.5 8.5l.94-2.06 2.06-.94-2.06-.94L8.5 2.5l-.94 2.06-2.06.94zm10 10l.94 2.06.94-2.06 2.06-.94-2.06-.94-.94-2.06-.94 2.06-2.06.94z\"/><path d=\"M17.41 7.96l-1.37-1.37c-.4-.4-.92-.59-1.43-.59-.52 0-1.04.2-1.43.59L10.3 9.45l-7.72 7.72c-.78.78-.78 2.05 0 2.83L4 21.41c.39.39.9.59 1.41.59.51 0 1.02-.2 1.41-.59l7.78-7.78 2.81-2.81c.8-.78.8-2.07 0-2.86zM5.41 20L4 18.59l7.72-7.72 1.47 1.35L5.41 20z\"/>\n",
              "  </svg>\n",
              "      </button>\n",
              "      \n",
              "  <style>\n",
              "    .colab-df-container {\n",
              "      display:flex;\n",
              "      flex-wrap:wrap;\n",
              "      gap: 12px;\n",
              "    }\n",
              "\n",
              "    .colab-df-convert {\n",
              "      background-color: #E8F0FE;\n",
              "      border: none;\n",
              "      border-radius: 50%;\n",
              "      cursor: pointer;\n",
              "      display: none;\n",
              "      fill: #1967D2;\n",
              "      height: 32px;\n",
              "      padding: 0 0 0 0;\n",
              "      width: 32px;\n",
              "    }\n",
              "\n",
              "    .colab-df-convert:hover {\n",
              "      background-color: #E2EBFA;\n",
              "      box-shadow: 0px 1px 2px rgba(60, 64, 67, 0.3), 0px 1px 3px 1px rgba(60, 64, 67, 0.15);\n",
              "      fill: #174EA6;\n",
              "    }\n",
              "\n",
              "    [theme=dark] .colab-df-convert {\n",
              "      background-color: #3B4455;\n",
              "      fill: #D2E3FC;\n",
              "    }\n",
              "\n",
              "    [theme=dark] .colab-df-convert:hover {\n",
              "      background-color: #434B5C;\n",
              "      box-shadow: 0px 1px 3px 1px rgba(0, 0, 0, 0.15);\n",
              "      filter: drop-shadow(0px 1px 2px rgba(0, 0, 0, 0.3));\n",
              "      fill: #FFFFFF;\n",
              "    }\n",
              "  </style>\n",
              "\n",
              "      <script>\n",
              "        const buttonEl =\n",
              "          document.querySelector('#df-4883ff27-38d6-4039-919c-94e12d86749f button.colab-df-convert');\n",
              "        buttonEl.style.display =\n",
              "          google.colab.kernel.accessAllowed ? 'block' : 'none';\n",
              "\n",
              "        async function convertToInteractive(key) {\n",
              "          const element = document.querySelector('#df-4883ff27-38d6-4039-919c-94e12d86749f');\n",
              "          const dataTable =\n",
              "            await google.colab.kernel.invokeFunction('convertToInteractive',\n",
              "                                                     [key], {});\n",
              "          if (!dataTable) return;\n",
              "\n",
              "          const docLinkHtml = 'Like what you see? Visit the ' +\n",
              "            '<a target=\"_blank\" href=https://colab.research.google.com/notebooks/data_table.ipynb>data table notebook</a>'\n",
              "            + ' to learn more about interactive tables.';\n",
              "          element.innerHTML = '';\n",
              "          dataTable['output_type'] = 'display_data';\n",
              "          await google.colab.output.renderOutput(dataTable, element);\n",
              "          const docLink = document.createElement('div');\n",
              "          docLink.innerHTML = docLinkHtml;\n",
              "          element.appendChild(docLink);\n",
              "        }\n",
              "      </script>\n",
              "    </div>\n",
              "  </div>\n",
              "  "
            ],
            "text/plain": [
              "        user_id retweet_count reply_count favorite_count num_hashtags  \\\n",
              "id                                                                      \n",
              "dmy  2882736641           NaN         NaN            NaN          NaN   \n",
              "dmy   138492664           NaN         NaN            NaN          NaN   \n",
              "dmy         NaN           NaN         NaN            NaN          NaN   \n",
              "dmy   467136996           NaN         NaN            NaN          NaN   \n",
              "dmy   816485959           NaN         NaN            NaN          NaN   \n",
              "dmy   531252639           NaN         NaN            NaN          NaN   \n",
              "dmy   520977237           NaN         NaN            NaN          NaN   \n",
              "dmy   535901760           NaN         NaN            NaN          NaN   \n",
              "dmy  2351661655           NaN         NaN            NaN          NaN   \n",
              "dmy  2183434100           NaN         NaN            NaN          NaN   \n",
              "dmy  2359781660           NaN         NaN            NaN          NaN   \n",
              "dmy   406828178           NaN         NaN            NaN          NaN   \n",
              "dmy    xc41pjwq           NaN         NaN            NaN          NaN   \n",
              "dmy   539138964           NaN         NaN            NaN          NaN   \n",
              "\n",
              "    num_urls num_mentions           created_at text  \n",
              "id                                                   \n",
              "dmy      NaN          NaN  2020-04-24 17:07:08  NaN  \n",
              "dmy      NaN          NaN  2020-04-29 13:07:05  NaN  \n",
              "dmy      NaN          NaN  2019-04-10 01:52:25  NaN  \n",
              "dmy      NaN          NaN  2019-10-17 06:21:50  NaN  \n",
              "dmy      NaN          NaN  2019-11-09 17:24:53  NaN  \n",
              "dmy      NaN          NaN  2019-11-08 21:28:02  NaN  \n",
              "dmy      NaN          NaN  2019-04-06 01:58:36  NaN  \n",
              "dmy      NaN          NaN  2019-11-06 04:07:20  NaN  \n",
              "dmy      NaN          NaN  2019-06-07 04:55:39  NaN  \n",
              "dmy      NaN          NaN  2020-04-17 17:21:05  NaN  \n",
              "dmy      NaN          NaN  2019-04-05 20:16:57  NaN  \n",
              "dmy      NaN          NaN  2017-02-26 13:03:18  NaN  \n",
              "dmy      NaN          NaN  2019-05-01 16:21:27  NaN  \n",
              "dmy      NaN          NaN  2019-05-28 21:23:26  NaN  "
            ]
          },
          "execution_count": 58,
          "metadata": {},
          "output_type": "execute_result"
        }
      ],
      "source": [
        "tweets.loc[\"dmy\"]"
      ]
    },
    {
      "cell_type": "code",
      "execution_count": null,
      "id": "428fbf3c",
      "metadata": {
        "id": "428fbf3c"
      },
      "outputs": [],
      "source": [
        "# we can see strange entries for non numerical indexes, try to eliminate them\n",
        "numerical_indexes_ids = pd.Series(tweets.index.str.isnumeric())"
      ]
    },
    {
      "cell_type": "code",
      "execution_count": null,
      "id": "5527a7ee",
      "metadata": {
        "id": "5527a7ee"
      },
      "outputs": [],
      "source": [
        "numerical_indexes_ids[numerical_indexes_ids.isna()] = False"
      ]
    },
    {
      "cell_type": "code",
      "execution_count": null,
      "id": "28b5ce92",
      "metadata": {
        "colab": {
          "base_uri": "https://localhost:8080/"
        },
        "id": "28b5ce92",
        "outputId": "8e206894-7fea-4906-976c-a596a9f10ae1"
      },
      "outputs": [
        {
          "name": "stdout",
          "output_type": "stream",
          "text": [
            "Number of NaN element in the non numeric indexed tweets:  user_id           188364\n",
            "retweet_count     342974\n",
            "reply_count       496271\n",
            "favorite_count    496378\n",
            "num_hashtags      804930\n",
            "num_urls          497125\n",
            "num_mentions      650170\n",
            "created_at             0\n",
            "text              397261\n",
            "dtype: int64\n",
            "Total Number of element in the non numeric indexed tweets:  11278233\n",
            "Ratio of the Nan elements per column:  user_id           0.016702\n",
            "retweet_count     0.030410\n",
            "reply_count       0.044003\n",
            "favorite_count    0.044012\n",
            "num_hashtags      0.071370\n",
            "num_urls          0.044078\n",
            "num_mentions      0.057648\n",
            "created_at        0.000000\n",
            "text              0.035224\n",
            "dtype: float64\n",
            "Ratio of the Nan elements:  0.03816075522547627\n"
          ]
        }
      ],
      "source": [
        "# we can see the percentage of NaN element of the non numerical indexes\n",
        "nan_element = np.sum(tweets[numerical_indexes_ids.to_numpy()].isna())\n",
        "total_element = tweets[numerical_indexes_ids.to_numpy()].shape[0]\n",
        "\n",
        "print(\"Number of NaN element in the non numeric indexed tweets: \", nan_element)\n",
        "print(\"Total Number of element in the non numeric indexed tweets: \", total_element)\n",
        "\n",
        "ratio_per_column = nan_element/total_element\n",
        "\n",
        "print(\"Ratio of the Nan elements per column: \", ratio_per_column)\n",
        "\n",
        "print(\"Ratio of the Nan elements: \", ratio_per_column.mean())\n",
        "\n",
        "# the percentage of the Nan elements is too much, we can't drop that rows"
      ]
    },
    {
      "cell_type": "code",
      "execution_count": null,
      "id": "062a078b",
      "metadata": {
        "colab": {
          "base_uri": "https://localhost:8080/"
        },
        "id": "062a078b",
        "outputId": "f7e79205-7744-4875-d241-f3f4a1d6c2fa"
      },
      "outputs": [
        {
          "name": "stdout",
          "output_type": "stream",
          "text": [
            "Number of NaN element in the non unique indexed tweets:  user_id            3847\n",
            "retweet_count     25452\n",
            "reply_count       38934\n",
            "favorite_count    38805\n",
            "num_hashtags      52393\n",
            "num_urls          38820\n",
            "num_mentions      47294\n",
            "created_at            0\n",
            "text              37501\n",
            "dtype: int64\n",
            "Total Number of element in the non unique indexed tweets:  58060\n",
            "Ratio of the Nan elements per column:  user_id           0.066259\n",
            "retweet_count     0.438374\n",
            "reply_count       0.670582\n",
            "favorite_count    0.668360\n",
            "num_hashtags      0.902394\n",
            "num_urls          0.668619\n",
            "num_mentions      0.814571\n",
            "created_at        0.000000\n",
            "text              0.645901\n",
            "dtype: float64\n",
            "Ratio of the Nan elements:  0.5416733647184904\n"
          ]
        }
      ],
      "source": [
        "# we can see the percentage of NaN element of the non unique indexes\n",
        "duplicated_index = index_value_counts[index_value_counts > 1].index.to_numpy()\n",
        "\n",
        "nan_element = np.sum(tweets.loc[duplicated_index].isna())\n",
        "total_element = tweets.loc[duplicated_index].shape[0]\n",
        "\n",
        "print(\"Number of NaN element in the non unique indexed tweets: \", nan_element)\n",
        "print(\"Total Number of element in the non unique indexed tweets: \", total_element)\n",
        "\n",
        "ratio_per_column = nan_element/total_element\n",
        "\n",
        "print(\"Ratio of the Nan elements per column: \", ratio_per_column)\n",
        "\n",
        "print(\"Ratio of the Nan elements: \", ratio_per_column.mean())\n",
        "\n",
        "# the percentage of the Nan elements is very high, we can drop that rows"
      ]
    },
    {
      "cell_type": "code",
      "execution_count": null,
      "id": "a6u3qVracCrI",
      "metadata": {
        "id": "a6u3qVracCrI"
      },
      "outputs": [],
      "source": [
        "del numerical_indexes_ids\n",
        "del index_value_counts"
      ]
    },
    {
      "cell_type": "code",
      "execution_count": null,
      "id": "fad32d1e",
      "metadata": {
        "id": "fad32d1e"
      },
      "outputs": [],
      "source": [
        "tweets = tweets.drop(duplicated_index)\n",
        "del duplicated_index"
      ]
    },
    {
      "cell_type": "code",
      "execution_count": null,
      "id": "1bc6847b",
      "metadata": {
        "colab": {
          "base_uri": "https://localhost:8080/",
          "height": 475
        },
        "id": "1bc6847b",
        "outputId": "cdc9c19a-0da1-4a98-ef1c-92fd5f63e30e"
      },
      "outputs": [
        {
          "data": {
            "text/html": [
              "\n",
              "  <div id=\"df-b225005d-0cbc-4ed5-b75c-14fb8914ca01\">\n",
              "    <div class=\"colab-df-container\">\n",
              "      <div>\n",
              "<style scoped>\n",
              "    .dataframe tbody tr th:only-of-type {\n",
              "        vertical-align: middle;\n",
              "    }\n",
              "\n",
              "    .dataframe tbody tr th {\n",
              "        vertical-align: top;\n",
              "    }\n",
              "\n",
              "    .dataframe thead th {\n",
              "        text-align: right;\n",
              "    }\n",
              "</style>\n",
              "<table border=\"1\" class=\"dataframe\">\n",
              "  <thead>\n",
              "    <tr style=\"text-align: right;\">\n",
              "      <th></th>\n",
              "      <th>user_id</th>\n",
              "      <th>retweet_count</th>\n",
              "      <th>reply_count</th>\n",
              "      <th>favorite_count</th>\n",
              "      <th>num_hashtags</th>\n",
              "      <th>num_urls</th>\n",
              "      <th>num_mentions</th>\n",
              "      <th>created_at</th>\n",
              "      <th>text</th>\n",
              "    </tr>\n",
              "    <tr>\n",
              "      <th>id</th>\n",
              "      <th></th>\n",
              "      <th></th>\n",
              "      <th></th>\n",
              "      <th></th>\n",
              "      <th></th>\n",
              "      <th></th>\n",
              "      <th></th>\n",
              "      <th></th>\n",
              "      <th></th>\n",
              "    </tr>\n",
              "  </thead>\n",
              "  <tbody>\n",
              "    <tr>\n",
              "      <th>509354017856950272</th>\n",
              "      <td>327746321</td>\n",
              "      <td>0</td>\n",
              "      <td>0</td>\n",
              "      <td>0</td>\n",
              "      <td>0</td>\n",
              "      <td>0</td>\n",
              "      <td>0</td>\n",
              "      <td>2019-09-11 14:53:55</td>\n",
              "      <td>If man is a little lower than angels, then ang...</td>\n",
              "    </tr>\n",
              "    <tr>\n",
              "      <th>583002592529121280</th>\n",
              "      <td>333722906</td>\n",
              "      <td>1</td>\n",
              "      <td>0</td>\n",
              "      <td>0</td>\n",
              "      <td>0</td>\n",
              "      <td>0</td>\n",
              "      <td>1</td>\n",
              "      <td>2020-04-01 20:27:04</td>\n",
              "      <td>\"@BestWSHHVids: how do you say these words wit...</td>\n",
              "    </tr>\n",
              "    <tr>\n",
              "      <th>461498835362013185</th>\n",
              "      <td>2379755827</td>\n",
              "      <td>0</td>\n",
              "      <td>0</td>\n",
              "      <td>0</td>\n",
              "      <td>0</td>\n",
              "      <td>0</td>\n",
              "      <td>1</td>\n",
              "      <td>2019-05-02 13:34:31</td>\n",
              "      <td>@LOLatComedy awsome</td>\n",
              "    </tr>\n",
              "    <tr>\n",
              "      <th>528808127366692864</th>\n",
              "      <td>466226882</td>\n",
              "      <td>0</td>\n",
              "      <td>0</td>\n",
              "      <td>0</td>\n",
              "      <td>0</td>\n",
              "      <td>0</td>\n",
              "      <td>0</td>\n",
              "      <td>2019-11-04 07:17:37</td>\n",
              "      <td>Stephen Hawkins: i buchi neri non esistono se ...</td>\n",
              "    </tr>\n",
              "    <tr>\n",
              "      <th>575336690904006656</th>\n",
              "      <td>1355537995</td>\n",
              "      <td>114</td>\n",
              "      <td>0</td>\n",
              "      <td>0</td>\n",
              "      <td>1</td>\n",
              "      <td>0</td>\n",
              "      <td>1</td>\n",
              "      <td>2020-03-11 16:45:31</td>\n",
              "      <td>RT @tibbs_montris: So ready for Wednesday!</td>\n",
              "    </tr>\n",
              "  </tbody>\n",
              "</table>\n",
              "</div>\n",
              "      <button class=\"colab-df-convert\" onclick=\"convertToInteractive('df-b225005d-0cbc-4ed5-b75c-14fb8914ca01')\"\n",
              "              title=\"Convert this dataframe to an interactive table.\"\n",
              "              style=\"display:none;\">\n",
              "        \n",
              "  <svg xmlns=\"http://www.w3.org/2000/svg\" height=\"24px\"viewBox=\"0 0 24 24\"\n",
              "       width=\"24px\">\n",
              "    <path d=\"M0 0h24v24H0V0z\" fill=\"none\"/>\n",
              "    <path d=\"M18.56 5.44l.94 2.06.94-2.06 2.06-.94-2.06-.94-.94-2.06-.94 2.06-2.06.94zm-11 1L8.5 8.5l.94-2.06 2.06-.94-2.06-.94L8.5 2.5l-.94 2.06-2.06.94zm10 10l.94 2.06.94-2.06 2.06-.94-2.06-.94-.94-2.06-.94 2.06-2.06.94z\"/><path d=\"M17.41 7.96l-1.37-1.37c-.4-.4-.92-.59-1.43-.59-.52 0-1.04.2-1.43.59L10.3 9.45l-7.72 7.72c-.78.78-.78 2.05 0 2.83L4 21.41c.39.39.9.59 1.41.59.51 0 1.02-.2 1.41-.59l7.78-7.78 2.81-2.81c.8-.78.8-2.07 0-2.86zM5.41 20L4 18.59l7.72-7.72 1.47 1.35L5.41 20z\"/>\n",
              "  </svg>\n",
              "      </button>\n",
              "      \n",
              "  <style>\n",
              "    .colab-df-container {\n",
              "      display:flex;\n",
              "      flex-wrap:wrap;\n",
              "      gap: 12px;\n",
              "    }\n",
              "\n",
              "    .colab-df-convert {\n",
              "      background-color: #E8F0FE;\n",
              "      border: none;\n",
              "      border-radius: 50%;\n",
              "      cursor: pointer;\n",
              "      display: none;\n",
              "      fill: #1967D2;\n",
              "      height: 32px;\n",
              "      padding: 0 0 0 0;\n",
              "      width: 32px;\n",
              "    }\n",
              "\n",
              "    .colab-df-convert:hover {\n",
              "      background-color: #E2EBFA;\n",
              "      box-shadow: 0px 1px 2px rgba(60, 64, 67, 0.3), 0px 1px 3px 1px rgba(60, 64, 67, 0.15);\n",
              "      fill: #174EA6;\n",
              "    }\n",
              "\n",
              "    [theme=dark] .colab-df-convert {\n",
              "      background-color: #3B4455;\n",
              "      fill: #D2E3FC;\n",
              "    }\n",
              "\n",
              "    [theme=dark] .colab-df-convert:hover {\n",
              "      background-color: #434B5C;\n",
              "      box-shadow: 0px 1px 3px 1px rgba(0, 0, 0, 0.15);\n",
              "      filter: drop-shadow(0px 1px 2px rgba(0, 0, 0, 0.3));\n",
              "      fill: #FFFFFF;\n",
              "    }\n",
              "  </style>\n",
              "\n",
              "      <script>\n",
              "        const buttonEl =\n",
              "          document.querySelector('#df-b225005d-0cbc-4ed5-b75c-14fb8914ca01 button.colab-df-convert');\n",
              "        buttonEl.style.display =\n",
              "          google.colab.kernel.accessAllowed ? 'block' : 'none';\n",
              "\n",
              "        async function convertToInteractive(key) {\n",
              "          const element = document.querySelector('#df-b225005d-0cbc-4ed5-b75c-14fb8914ca01');\n",
              "          const dataTable =\n",
              "            await google.colab.kernel.invokeFunction('convertToInteractive',\n",
              "                                                     [key], {});\n",
              "          if (!dataTable) return;\n",
              "\n",
              "          const docLinkHtml = 'Like what you see? Visit the ' +\n",
              "            '<a target=\"_blank\" href=https://colab.research.google.com/notebooks/data_table.ipynb>data table notebook</a>'\n",
              "            + ' to learn more about interactive tables.';\n",
              "          element.innerHTML = '';\n",
              "          dataTable['output_type'] = 'display_data';\n",
              "          await google.colab.output.renderOutput(dataTable, element);\n",
              "          const docLink = document.createElement('div');\n",
              "          docLink.innerHTML = docLinkHtml;\n",
              "          element.appendChild(docLink);\n",
              "        }\n",
              "      </script>\n",
              "    </div>\n",
              "  </div>\n",
              "  "
            ],
            "text/plain": [
              "                       user_id retweet_count reply_count favorite_count  \\\n",
              "id                                                                        \n",
              "509354017856950272   327746321             0           0              0   \n",
              "583002592529121280   333722906             1           0              0   \n",
              "461498835362013185  2379755827             0           0              0   \n",
              "528808127366692864   466226882             0           0              0   \n",
              "575336690904006656  1355537995           114           0              0   \n",
              "\n",
              "                   num_hashtags num_urls num_mentions           created_at  \\\n",
              "id                                                                           \n",
              "509354017856950272            0        0            0  2019-09-11 14:53:55   \n",
              "583002592529121280            0        0            1  2020-04-01 20:27:04   \n",
              "461498835362013185            0        0            1  2019-05-02 13:34:31   \n",
              "528808127366692864            0        0            0  2019-11-04 07:17:37   \n",
              "575336690904006656            1        0            1  2020-03-11 16:45:31   \n",
              "\n",
              "                                                                 text  \n",
              "id                                                                     \n",
              "509354017856950272  If man is a little lower than angels, then ang...  \n",
              "583002592529121280  \"@BestWSHHVids: how do you say these words wit...  \n",
              "461498835362013185                                @LOLatComedy awsome  \n",
              "528808127366692864  Stephen Hawkins: i buchi neri non esistono se ...  \n",
              "575336690904006656        RT @tibbs_montris: So ready for Wednesday!   "
            ]
          },
          "execution_count": 65,
          "metadata": {},
          "output_type": "execute_result"
        }
      ],
      "source": [
        "tweets.head()"
      ]
    },
    {
      "cell_type": "markdown",
      "id": "78799d46",
      "metadata": {
        "id": "78799d46"
      },
      "source": [
        "## User_id"
      ]
    },
    {
      "cell_type": "code",
      "execution_count": null,
      "id": "da2ecda3",
      "metadata": {
        "colab": {
          "base_uri": "https://localhost:8080/"
        },
        "id": "da2ecda3",
        "outputId": "69dbd296-cf75-4dff-bf0e-7d72efe63649"
      },
      "outputs": [
        {
          "data": {
            "text/plain": [
              "491630583     3929\n",
              "497404180     3919\n",
              "1693274954    3906\n",
              "157029836     3903\n",
              "164940888     3903\n",
              "              ... \n",
              "jjxslowggo       1\n",
              "vagr             1\n",
              "mvys             1\n",
              "h7lhx            1\n",
              "tzn9s6bwj        1\n",
              "Name: user_id, Length: 218593, dtype: int64"
            ]
          },
          "execution_count": 66,
          "metadata": {},
          "output_type": "execute_result"
        }
      ],
      "source": [
        "tweets.user_id.value_counts()"
      ]
    },
    {
      "cell_type": "code",
      "execution_count": null,
      "id": "90f6e3de",
      "metadata": {
        "colab": {
          "base_uri": "https://localhost:8080/"
        },
        "id": "90f6e3de",
        "outputId": "ae15f244-189b-4cda-f731-c04835fca8de"
      },
      "outputs": [
        {
          "name": "stdout",
          "output_type": "stream",
          "text": [
            "218594\n"
          ]
        }
      ],
      "source": [
        "unique_user_id = tweets.user_id.unique()\n",
        "print(len(unique_user_id))"
      ]
    },
    {
      "cell_type": "code",
      "execution_count": null,
      "id": "45ee91d2",
      "metadata": {
        "id": "45ee91d2"
      },
      "outputs": [],
      "source": [
        "numeric_user_id = pd.Series(tweets.user_id.str.isnumeric())\n",
        "numeric_user_id[numeric_user_id.isna()] = False\n",
        "\n",
        "# valid_ids = numeric_user_id"
      ]
    },
    {
      "cell_type": "code",
      "execution_count": null,
      "id": "5498bcd3",
      "metadata": {
        "colab": {
          "base_uri": "https://localhost:8080/"
        },
        "id": "5498bcd3",
        "outputId": "a32620c9-d556-4b39-f7e1-87e232b465ff"
      },
      "outputs": [
        {
          "name": "stdout",
          "output_type": "stream",
          "text": [
            "numerical ids 11227784\n"
          ]
        }
      ],
      "source": [
        "print(f\"numerical ids {np.sum(numeric_user_id)}\")"
      ]
    },
    {
      "cell_type": "code",
      "execution_count": null,
      "id": "c_qbenCORpd5",
      "metadata": {
        "id": "c_qbenCORpd5"
      },
      "outputs": [],
      "source": [
        "tweets = tweets[numeric_user_id]\n",
        "\n",
        "del numeric_user_id\n",
        "del unique_user_id"
      ]
    },
    {
      "cell_type": "code",
      "execution_count": null,
      "id": "67d937b8",
      "metadata": {
        "id": "67d937b8"
      },
      "outputs": [],
      "source": [
        "# remove tweets whose user are not in the users dataset\n",
        "\n",
        "numeric_user_id = pd.to_numeric(tweets.user_id, errors=\"coerce\")\n",
        "\n",
        "tweets = tweets[numeric_user_id.isin(users.index)]"
      ]
    },
    {
      "cell_type": "code",
      "execution_count": null,
      "id": "9a63df22",
      "metadata": {
        "colab": {
          "base_uri": "https://localhost:8080/"
        },
        "id": "9a63df22",
        "outputId": "957be4fa-53a6-4737-b71c-2d75e22bc4cc"
      },
      "outputs": [
        {
          "data": {
            "text/plain": [
              "(11226977, 9)"
            ]
          },
          "execution_count": 72,
          "metadata": {},
          "output_type": "execute_result"
        }
      ],
      "source": [
        "tweets.shape"
      ]
    },
    {
      "cell_type": "code",
      "execution_count": null,
      "id": "f098fc76",
      "metadata": {
        "id": "f098fc76"
      },
      "outputs": [],
      "source": [
        "# function to handle non negative numerical values and outliers\n",
        "\n",
        "def function_handle_nnn(feature_name = None, upperscale_bound=1e7, quantile_outlier=0.9):\n",
        "    \n",
        "    print(f\"Feature: {feature_name}\")\n",
        "    \n",
        "    # valid numbers\n",
        "    numerical_entries = pd.Series(tweets[feature_name].str.isnumeric())\n",
        "    numerical_entries[numerical_entries.isna()] = False\n",
        "    \n",
        "    numerical_entries = numerical_entries.astype(bool)\n",
        "\n",
        "    numeric_count = pd.to_numeric(tweets[feature_name], errors=\"coerce\")\n",
        "\n",
        "    numeric_count.replace(float(\"inf\"), np.nan, inplace=True)\n",
        "    numeric_count = numeric_count.apply(lambda x: x if x >= 0 else np.nan)\n",
        "    numeric_count[~numerical_entries] = np.nan\n",
        "\n",
        "    # remove float elements\n",
        "\n",
        "    numeric_count_rounds = numeric_count.round()\n",
        "    numeric_count[numeric_count_rounds == numeric_count] = numeric_count_rounds[numeric_count_rounds == numeric_count].astype(int)\n",
        "    numeric_count[numeric_count_rounds != numeric_count] = np.nan\n",
        "    \n",
        "    tweets[feature_name] = numeric_count\n",
        "\n",
        "    del numeric_count_rounds\n",
        "    del numeric_count\n",
        "\n",
        "    # remove the NaN elements, by compute the overall median of the feature\n",
        "\n",
        "    # na_ids_count = tweets[feature_name].isna()\n",
        "    \n",
        "    # median = tweets.loc[~na_ids_count, feature_name].median()\n",
        "    # tweets.loc[na_ids_count, feature_name] = median\n",
        "\n",
        "    # del na_ids_count\n",
        "\n",
        "    # remove the NaN elements, by compute the median conditioned by the user_id of the tweet\n",
        "\n",
        "    tweets[feature_name].fillna(tweets.groupby([\"user_id\"])[feature_name].transform(lambda x: np.floor(np.nanmedian(x))), inplace=True)\n",
        "\n",
        "    tweets.loc[tweets[feature_name].isna(), feature_name] = np.floor(tweets[feature_name].median())\n",
        "\n",
        "    description = tweets[feature_name].describe()\n",
        "    print(\"Description:\")\n",
        "    print(description, end=\"\\n\")\n",
        "    \n",
        "    #value_counts = numeric_count[valid_numbers].value_counts()\n",
        "    #print(\"Value counts:\")\n",
        "    #print(value_counts, end=\"\\n\")\n",
        "    \n",
        "    # remove over upper bound numbers\n",
        "    tweets.loc[tweets[feature_name]>upperscale_bound, feature_name] = 0 # upperscale_bound\n",
        "    \n",
        "    value_counts = tweets[feature_name].value_counts()\n",
        "    print(\"No outscaled value counts:\")\n",
        "    print(value_counts, end=\"\\n\")\n",
        "\n",
        "    # print(\"Histogram:\")\n",
        "    # numeric_count[valid_numbers].hist()\n",
        "    # plt.show()\n",
        "\n",
        "    # transform powerlaw distr with log(x + 1)\n",
        "    log_transformed = tweets[feature_name].apply(lambda x: np.log(x + 1))\n",
        "\n",
        "    # value_counts = log_transformed.value_counts()\n",
        "    # print(\"Log value counts:\")\n",
        "    # print(value_counts, end=\"\\n\")\n",
        "\n",
        "    # print(\"Log Histogram:\")\n",
        "    # log_transformed.hist()\n",
        "    # plt.show()\n",
        "\n",
        "    # transform powerlaw distr standard scaler\n",
        "    # standard_scaler = StandardScaler()\n",
        "    # standard_transformed = pd.Series(standard_scaler.fit_transform(numeric_count[valid_numbers].to_numpy().reshape(-1, 1)).squeeze())\n",
        "\n",
        "    # value_counts = standard_transformed.value_counts()\n",
        "    # print(\"Std value counts:\")\n",
        "    # print(value_counts, end=\"\\n\")\n",
        "\n",
        "    # print(\"Std Histogram:\")\n",
        "    # standard_transformed.hist()\n",
        "    # plt.show()\n",
        "\n",
        "    # remove outliers\n",
        "    IQR = log_transformed.quantile(0.75) - log_transformed.quantile(0.25)\n",
        "    outlier_value = log_transformed.quantile(0.75) + 1.5*IQR\n",
        "    print(\"Outlier: \", outlier_value) # often 0, so use the 90 percentile, as described in the book\n",
        "\n",
        "    outlier_value = log_transformed.quantile(quantile_outlier)   \n",
        "    print(\"90-esimo percentile: \", outlier_value)\n",
        "    log_transformed[log_transformed>outlier_value] = outlier_value\n",
        "            \n",
        "    # pd.DataFrame(numeric_count).boxplot()\n",
        "    # plt.show()\n",
        "\n",
        "    print(np.sum(log_transformed.isna()))\n",
        "    \n",
        "    tweets[feature_name] = log_transformed\n",
        "\n",
        "    print(\"Finished\", end=\"\\n\")\n",
        "    \n",
        "    value_counts = tweets[feature_name].value_counts()\n",
        "    print(\"Value counts:\")\n",
        "    print(value_counts, end=\"\\n\")\n"
      ]
    },
    {
      "cell_type": "markdown",
      "id": "f0347dce",
      "metadata": {
        "id": "f0347dce"
      },
      "source": [
        "## Retweet_count"
      ]
    },
    {
      "cell_type": "code",
      "execution_count": null,
      "id": "6544e4ad",
      "metadata": {
        "colab": {
          "base_uri": "https://localhost:8080/"
        },
        "id": "6544e4ad",
        "outputId": "a4844b57-d5dd-43cd-f5ec-726e2a2c65b4"
      },
      "outputs": [
        {
          "name": "stdout",
          "output_type": "stream",
          "text": [
            "Feature: retweet_count\n",
            "Description:\n",
            "count    1.122698e+07\n",
            "mean     5.779690e+02\n",
            "std      7.102720e+04\n",
            "min      0.000000e+00\n",
            "25%      0.000000e+00\n",
            "50%      0.000000e+00\n",
            "75%      1.000000e+00\n",
            "max      2.295320e+08\n",
            "Name: retweet_count, dtype: float64\n",
            "No outscaled value counts:\n",
            "0.0         8156375\n",
            "1.0         1020307\n",
            "2.0          301185\n",
            "3.0          152290\n",
            "4.0           95088\n",
            "             ...   \n",
            "57592.0           1\n",
            "139672.0          1\n",
            "51501.0           1\n",
            "82772.0           1\n",
            "376246.0          1\n",
            "Name: retweet_count, Length: 45761, dtype: int64\n",
            "Outlier:  1.732867951399863\n",
            "90-esimo percentile:  3.044522437723423\n",
            "0\n",
            "Finished\n",
            "Value counts:\n",
            "0.000000    8156375\n",
            "3.044522    1131645\n",
            "0.693147    1020307\n",
            "1.098612     301185\n",
            "1.386294     152290\n",
            "1.609438      95088\n",
            "1.791759      66214\n",
            "1.945910      49859\n",
            "2.079442      39229\n",
            "2.197225      32187\n",
            "2.302585      27194\n",
            "2.397895      23874\n",
            "2.484907      20814\n",
            "2.564949      18375\n",
            "2.639057      16931\n",
            "2.708050      15143\n",
            "2.772589      13641\n",
            "2.833213      12572\n",
            "2.890372      11929\n",
            "2.944439      11558\n",
            "2.995732      10567\n",
            "Name: retweet_count, dtype: int64\n"
          ]
        }
      ],
      "source": [
        "function_handle_nnn(\"retweet_count\")"
      ]
    },
    {
      "cell_type": "markdown",
      "id": "bb0e786c",
      "metadata": {
        "id": "bb0e786c"
      },
      "source": [
        "## reply count"
      ]
    },
    {
      "cell_type": "code",
      "execution_count": null,
      "id": "7a838af6",
      "metadata": {
        "colab": {
          "base_uri": "https://localhost:8080/"
        },
        "id": "7a838af6",
        "outputId": "21634c2d-d23a-4809-cd56-225e1f1f2d35"
      },
      "outputs": [
        {
          "name": "stdout",
          "output_type": "stream",
          "text": [
            "Feature: reply_count\n",
            "Description:\n",
            "count    1.122698e+07\n",
            "mean     4.806998e+00\n",
            "std      1.332879e+04\n",
            "min      0.000000e+00\n",
            "25%      0.000000e+00\n",
            "50%      0.000000e+00\n",
            "75%      0.000000e+00\n",
            "max      4.458600e+07\n",
            "Name: reply_count, dtype: float64\n",
            "No outscaled value counts:\n",
            "0.0       11209868\n",
            "1.0          13181\n",
            "2.0           1207\n",
            "3.0            422\n",
            "4.0            209\n",
            "            ...   \n",
            "566.0            1\n",
            "208.0            1\n",
            "5160.0           1\n",
            "4669.0           1\n",
            "178.0            1\n",
            "Name: reply_count, Length: 601, dtype: int64\n",
            "Outlier:  0.0\n",
            "90-esimo percentile:  0.6931471805599453\n",
            "0\n",
            "Finished\n",
            "Value counts:\n",
            "0.000000    11209868\n",
            "0.693147       17109\n",
            "Name: reply_count, dtype: int64\n"
          ]
        }
      ],
      "source": [
        "function_handle_nnn(\"reply_count\", 1e6, quantile_outlier=0.999)"
      ]
    },
    {
      "cell_type": "markdown",
      "id": "6cb879c9",
      "metadata": {
        "id": "6cb879c9"
      },
      "source": [
        "## Favorite count"
      ]
    },
    {
      "cell_type": "code",
      "execution_count": null,
      "id": "d5fd9438",
      "metadata": {
        "colab": {
          "base_uri": "https://localhost:8080/"
        },
        "id": "d5fd9438",
        "outputId": "88105f26-713f-432d-d3ac-a0e331b87fa9"
      },
      "outputs": [
        {
          "name": "stdout",
          "output_type": "stream",
          "text": [
            "Feature: favorite_count\n",
            "Description:\n",
            "count    1.122698e+07\n",
            "mean     4.563969e+01\n",
            "std      1.436037e+05\n",
            "min      0.000000e+00\n",
            "25%      0.000000e+00\n",
            "50%      0.000000e+00\n",
            "75%      0.000000e+00\n",
            "max      4.810824e+08\n",
            "Name: favorite_count, dtype: float64\n",
            "No outscaled value counts:\n",
            "0.0        9152016\n",
            "1.0        1255561\n",
            "2.0         367463\n",
            "3.0         159140\n",
            "4.0          84963\n",
            "            ...   \n",
            "6538.0           1\n",
            "2366.0           1\n",
            "13120.0          1\n",
            "36805.0          1\n",
            "3063.0           1\n",
            "Name: favorite_count, Length: 1532, dtype: int64\n",
            "Outlier:  0.0\n",
            "90-esimo percentile:  0.6931471805599453\n",
            "0\n",
            "Finished\n",
            "Value counts:\n",
            "0.000000    9152016\n",
            "0.693147    2074961\n",
            "Name: favorite_count, dtype: int64\n"
          ]
        }
      ],
      "source": [
        "function_handle_nnn(\"favorite_count\")"
      ]
    },
    {
      "cell_type": "markdown",
      "id": "be67b0e0",
      "metadata": {
        "id": "be67b0e0"
      },
      "source": [
        "## num hashtags"
      ]
    },
    {
      "cell_type": "code",
      "execution_count": null,
      "id": "75b04e33",
      "metadata": {
        "id": "75b04e33"
      },
      "outputs": [],
      "source": [
        "pattern = re.compile(\"^\\#[A-Z|a-z|0-9]*|\\#[A-Z|a-z|0-9]*\")\n",
        "\n",
        "def count_num_hashtags(text):\n",
        "  return len(pattern.findall(str(text)))\n",
        "\n",
        "tweets.loc[~tweets.text.isna(), \"num_hashtags\"] = tweets.loc[~tweets.text.isna(), \"text\"].apply(count_num_hashtags)"
      ]
    },
    {
      "cell_type": "code",
      "execution_count": null,
      "id": "QhNk9vxk5Tsa",
      "metadata": {
        "colab": {
          "base_uri": "https://localhost:8080/"
        },
        "id": "QhNk9vxk5Tsa",
        "outputId": "01c88233-e3c5-40f5-8da3-7579e4f1eae1"
      },
      "outputs": [
        {
          "name": "stdout",
          "output_type": "stream",
          "text": [
            "Feature: num_hashtags\n"
          ]
        },
        {
          "name": "stderr",
          "output_type": "stream",
          "text": [
            "/usr/local/lib/python3.7/dist-packages/numpy/lib/nanfunctions.py:1120: RuntimeWarning: All-NaN slice encountered\n",
            "  overwrite_input=overwrite_input)\n"
          ]
        },
        {
          "name": "stdout",
          "output_type": "stream",
          "text": [
            "Description:\n",
            "count    1.122698e+07\n",
            "mean     4.458894e-02\n",
            "std      4.486384e-01\n",
            "min      0.000000e+00\n",
            "25%      0.000000e+00\n",
            "50%      0.000000e+00\n",
            "75%      0.000000e+00\n",
            "max      9.180000e+02\n",
            "Name: num_hashtags, dtype: float64\n",
            "No outscaled value counts:\n",
            "0.0     10934218\n",
            "1.0       193750\n",
            "2.0        54601\n",
            "3.0        21197\n",
            "4.0         9420\n",
            "7.0         3684\n",
            "6.0         3406\n",
            "9.0         2595\n",
            "5.0         2331\n",
            "8.0         1767\n",
            "10.0           5\n",
            "11.0           1\n",
            "13.0           1\n",
            "14.0           1\n",
            "Name: num_hashtags, dtype: int64\n",
            "Outlier:  0.0\n",
            "90-esimo percentile:  0.6931471805599453\n",
            "0\n",
            "Finished\n",
            "Value counts:\n",
            "0.000000    10934218\n",
            "0.693147      292759\n",
            "Name: num_hashtags, dtype: int64\n"
          ]
        }
      ],
      "source": [
        "function_handle_nnn(\"num_hashtags\", 50, quantile_outlier=0.99)"
      ]
    },
    {
      "cell_type": "markdown",
      "id": "4dccbdf2",
      "metadata": {
        "id": "4dccbdf2"
      },
      "source": [
        "## Num urls"
      ]
    },
    {
      "cell_type": "code",
      "execution_count": null,
      "id": "0ec7a84e",
      "metadata": {
        "colab": {
          "base_uri": "https://localhost:8080/"
        },
        "id": "0ec7a84e",
        "outputId": "0c3d7db7-22fa-4fc2-a998-27b264655fb2"
      },
      "outputs": [
        {
          "name": "stdout",
          "output_type": "stream",
          "text": [
            "Feature: num_urls\n"
          ]
        },
        {
          "name": "stderr",
          "output_type": "stream",
          "text": [
            "/usr/local/lib/python3.7/dist-packages/numpy/lib/nanfunctions.py:1120: RuntimeWarning: All-NaN slice encountered\n",
            "  overwrite_input=overwrite_input)\n"
          ]
        },
        {
          "name": "stdout",
          "output_type": "stream",
          "text": [
            "Description:\n",
            "count    1.122698e+07\n",
            "mean     5.757231e+01\n",
            "std      2.830546e+03\n",
            "min      0.000000e+00\n",
            "25%      0.000000e+00\n",
            "50%      0.000000e+00\n",
            "75%      0.000000e+00\n",
            "max      7.864484e+06\n",
            "Name: num_urls, dtype: float64\n",
            "No outscaled value counts:\n",
            "0.0     10578793\n",
            "1.0       641170\n",
            "11.0        3687\n",
            "3.0         3312\n",
            "2.0           13\n",
            "4.0            1\n",
            "7.0            1\n",
            "Name: num_urls, dtype: int64\n",
            "Outlier:  0.0\n",
            "90-esimo percentile:  0.6931471805599453\n",
            "0\n",
            "Finished\n",
            "Value counts:\n",
            "0.000000    10578793\n",
            "0.693147      648184\n",
            "Name: num_urls, dtype: int64\n"
          ]
        }
      ],
      "source": [
        "pattern = re.compile(\"[-a-zA-Z0-9@:%._\\+~#=]{1,256}\\.[a-zA-Z0-9()]{1,6}\\b([-a-zA-Z0-9()@:%_\\+.~#?&\\/\\/=]*)?\")\n",
        "\n",
        "def count_num_urls(text):\n",
        "  return len(pattern.findall(str(text)))\n",
        "\n",
        "tweets.loc[~tweets.text.isna(), \"num_urls\"] = tweets.loc[~tweets.text.isna(), \"text\"].apply(count_num_urls)\n",
        "\n",
        "function_handle_nnn(\"num_urls\", 30, quantile_outlier=0.99)"
      ]
    },
    {
      "cell_type": "code",
      "execution_count": null,
      "id": "EnC0GDIEK6lx",
      "metadata": {
        "colab": {
          "base_uri": "https://localhost:8080/"
        },
        "id": "EnC0GDIEK6lx",
        "outputId": "a78e99f6-aaec-48ad-8976-5941ef8915ec"
      },
      "outputs": [
        {
          "data": {
            "text/plain": [
              "count     10598176\n",
              "unique      113321\n",
              "top              0\n",
              "freq       6247957\n",
              "Name: num_mentions, dtype: object"
            ]
          },
          "execution_count": 80,
          "metadata": {},
          "output_type": "execute_result"
        }
      ],
      "source": [
        "tweets.num_mentions.describe()"
      ]
    },
    {
      "cell_type": "markdown",
      "id": "7f3cf218",
      "metadata": {
        "id": "7f3cf218"
      },
      "source": [
        "## Num mentions"
      ]
    },
    {
      "cell_type": "code",
      "execution_count": null,
      "id": "9f54fe32",
      "metadata": {
        "colab": {
          "base_uri": "https://localhost:8080/"
        },
        "id": "9f54fe32",
        "outputId": "b3ffcafb-e35a-4764-f482-81805cdae560"
      },
      "outputs": [
        {
          "name": "stdout",
          "output_type": "stream",
          "text": [
            "Feature: num_mentions\n",
            "Description:\n",
            "count    1.122698e+07\n",
            "mean     1.099273e+00\n",
            "std      5.232772e+02\n",
            "min      0.000000e+00\n",
            "25%      0.000000e+00\n",
            "50%      0.000000e+00\n",
            "75%      1.000000e+00\n",
            "max      9.174080e+05\n",
            "Name: num_mentions, dtype: float64\n",
            "No outscaled value counts:\n",
            "0.0     6664126\n",
            "1.0     3724635\n",
            "2.0      598125\n",
            "3.0      145179\n",
            "4.0       45932\n",
            "5.0       21143\n",
            "6.0       11579\n",
            "7.0        6632\n",
            "8.0        4452\n",
            "9.0        2801\n",
            "10.0       1653\n",
            "11.0        600\n",
            "12.0         94\n",
            "13.0         11\n",
            "23.0          2\n",
            "14.0          2\n",
            "15.0          2\n",
            "24.0          1\n",
            "32.0          1\n",
            "17.0          1\n",
            "40.0          1\n",
            "48.0          1\n",
            "25.0          1\n",
            "22.0          1\n",
            "36.0          1\n",
            "33.0          1\n",
            "Name: num_mentions, dtype: int64\n",
            "Outlier:  1.732867951399863\n",
            "90-esimo percentile:  0.6931471805599453\n",
            "0\n",
            "Finished\n",
            "Value counts:\n",
            "0.000000    6664126\n",
            "0.693147    4562851\n",
            "Name: num_mentions, dtype: int64\n"
          ]
        }
      ],
      "source": [
        "function_handle_nnn(\"num_mentions\", 50)"
      ]
    },
    {
      "cell_type": "markdown",
      "id": "575b6645",
      "metadata": {
        "id": "575b6645"
      },
      "source": [
        "## numerical correlations"
      ]
    },
    {
      "cell_type": "code",
      "execution_count": null,
      "id": "32e19b0a",
      "metadata": {
        "id": "32e19b0a"
      },
      "outputs": [],
      "source": [
        "numerical_cols = [\"retweet_count\", \"reply_count\", \"favorite_count\", \"num_hashtags\", \"num_urls\", \"num_mentions\"]"
      ]
    },
    {
      "cell_type": "code",
      "execution_count": null,
      "id": "Kt0irhuWnJDV",
      "metadata": {
        "id": "Kt0irhuWnJDV"
      },
      "outputs": [],
      "source": [
        "tweets[numerical_cols] = tweets[numerical_cols].applymap(lambda x: np.exp(x) - 1).astype(int)"
      ]
    },
    {
      "cell_type": "code",
      "execution_count": null,
      "id": "c235a3a7",
      "metadata": {
        "colab": {
          "base_uri": "https://localhost:8080/",
          "height": 238
        },
        "id": "c235a3a7",
        "outputId": "39c14d76-2ce7-4f9a-b528-735296ae04a4"
      },
      "outputs": [
        {
          "data": {
            "text/html": [
              "\n",
              "  <div id=\"df-9df28817-673e-49c4-afb1-0ecc70be622c\">\n",
              "    <div class=\"colab-df-container\">\n",
              "      <div>\n",
              "<style scoped>\n",
              "    .dataframe tbody tr th:only-of-type {\n",
              "        vertical-align: middle;\n",
              "    }\n",
              "\n",
              "    .dataframe tbody tr th {\n",
              "        vertical-align: top;\n",
              "    }\n",
              "\n",
              "    .dataframe thead th {\n",
              "        text-align: right;\n",
              "    }\n",
              "</style>\n",
              "<table border=\"1\" class=\"dataframe\">\n",
              "  <thead>\n",
              "    <tr style=\"text-align: right;\">\n",
              "      <th></th>\n",
              "      <th>retweet_count</th>\n",
              "      <th>reply_count</th>\n",
              "      <th>favorite_count</th>\n",
              "      <th>num_hashtags</th>\n",
              "      <th>num_urls</th>\n",
              "      <th>num_mentions</th>\n",
              "    </tr>\n",
              "  </thead>\n",
              "  <tbody>\n",
              "    <tr>\n",
              "      <th>retweet_count</th>\n",
              "      <td>1.000000</td>\n",
              "      <td>0.016504</td>\n",
              "      <td>-0.118656</td>\n",
              "      <td>0.028279</td>\n",
              "      <td>0.069628</td>\n",
              "      <td>0.419370</td>\n",
              "    </tr>\n",
              "    <tr>\n",
              "      <th>reply_count</th>\n",
              "      <td>0.016504</td>\n",
              "      <td>1.000000</td>\n",
              "      <td>-0.010140</td>\n",
              "      <td>-0.007539</td>\n",
              "      <td>-0.001199</td>\n",
              "      <td>0.014800</td>\n",
              "    </tr>\n",
              "    <tr>\n",
              "      <th>favorite_count</th>\n",
              "      <td>-0.118656</td>\n",
              "      <td>-0.010140</td>\n",
              "      <td>1.000000</td>\n",
              "      <td>0.004239</td>\n",
              "      <td>-0.016657</td>\n",
              "      <td>-0.081655</td>\n",
              "    </tr>\n",
              "    <tr>\n",
              "      <th>num_hashtags</th>\n",
              "      <td>0.028279</td>\n",
              "      <td>-0.007539</td>\n",
              "      <td>0.004239</td>\n",
              "      <td>1.000000</td>\n",
              "      <td>0.152538</td>\n",
              "      <td>0.069162</td>\n",
              "    </tr>\n",
              "    <tr>\n",
              "      <th>num_urls</th>\n",
              "      <td>0.069628</td>\n",
              "      <td>-0.001199</td>\n",
              "      <td>-0.016657</td>\n",
              "      <td>0.152538</td>\n",
              "      <td>1.000000</td>\n",
              "      <td>0.091404</td>\n",
              "    </tr>\n",
              "    <tr>\n",
              "      <th>num_mentions</th>\n",
              "      <td>0.419370</td>\n",
              "      <td>0.014800</td>\n",
              "      <td>-0.081655</td>\n",
              "      <td>0.069162</td>\n",
              "      <td>0.091404</td>\n",
              "      <td>1.000000</td>\n",
              "    </tr>\n",
              "  </tbody>\n",
              "</table>\n",
              "</div>\n",
              "      <button class=\"colab-df-convert\" onclick=\"convertToInteractive('df-9df28817-673e-49c4-afb1-0ecc70be622c')\"\n",
              "              title=\"Convert this dataframe to an interactive table.\"\n",
              "              style=\"display:none;\">\n",
              "        \n",
              "  <svg xmlns=\"http://www.w3.org/2000/svg\" height=\"24px\"viewBox=\"0 0 24 24\"\n",
              "       width=\"24px\">\n",
              "    <path d=\"M0 0h24v24H0V0z\" fill=\"none\"/>\n",
              "    <path d=\"M18.56 5.44l.94 2.06.94-2.06 2.06-.94-2.06-.94-.94-2.06-.94 2.06-2.06.94zm-11 1L8.5 8.5l.94-2.06 2.06-.94-2.06-.94L8.5 2.5l-.94 2.06-2.06.94zm10 10l.94 2.06.94-2.06 2.06-.94-2.06-.94-.94-2.06-.94 2.06-2.06.94z\"/><path d=\"M17.41 7.96l-1.37-1.37c-.4-.4-.92-.59-1.43-.59-.52 0-1.04.2-1.43.59L10.3 9.45l-7.72 7.72c-.78.78-.78 2.05 0 2.83L4 21.41c.39.39.9.59 1.41.59.51 0 1.02-.2 1.41-.59l7.78-7.78 2.81-2.81c.8-.78.8-2.07 0-2.86zM5.41 20L4 18.59l7.72-7.72 1.47 1.35L5.41 20z\"/>\n",
              "  </svg>\n",
              "      </button>\n",
              "      \n",
              "  <style>\n",
              "    .colab-df-container {\n",
              "      display:flex;\n",
              "      flex-wrap:wrap;\n",
              "      gap: 12px;\n",
              "    }\n",
              "\n",
              "    .colab-df-convert {\n",
              "      background-color: #E8F0FE;\n",
              "      border: none;\n",
              "      border-radius: 50%;\n",
              "      cursor: pointer;\n",
              "      display: none;\n",
              "      fill: #1967D2;\n",
              "      height: 32px;\n",
              "      padding: 0 0 0 0;\n",
              "      width: 32px;\n",
              "    }\n",
              "\n",
              "    .colab-df-convert:hover {\n",
              "      background-color: #E2EBFA;\n",
              "      box-shadow: 0px 1px 2px rgba(60, 64, 67, 0.3), 0px 1px 3px 1px rgba(60, 64, 67, 0.15);\n",
              "      fill: #174EA6;\n",
              "    }\n",
              "\n",
              "    [theme=dark] .colab-df-convert {\n",
              "      background-color: #3B4455;\n",
              "      fill: #D2E3FC;\n",
              "    }\n",
              "\n",
              "    [theme=dark] .colab-df-convert:hover {\n",
              "      background-color: #434B5C;\n",
              "      box-shadow: 0px 1px 3px 1px rgba(0, 0, 0, 0.15);\n",
              "      filter: drop-shadow(0px 1px 2px rgba(0, 0, 0, 0.3));\n",
              "      fill: #FFFFFF;\n",
              "    }\n",
              "  </style>\n",
              "\n",
              "      <script>\n",
              "        const buttonEl =\n",
              "          document.querySelector('#df-9df28817-673e-49c4-afb1-0ecc70be622c button.colab-df-convert');\n",
              "        buttonEl.style.display =\n",
              "          google.colab.kernel.accessAllowed ? 'block' : 'none';\n",
              "\n",
              "        async function convertToInteractive(key) {\n",
              "          const element = document.querySelector('#df-9df28817-673e-49c4-afb1-0ecc70be622c');\n",
              "          const dataTable =\n",
              "            await google.colab.kernel.invokeFunction('convertToInteractive',\n",
              "                                                     [key], {});\n",
              "          if (!dataTable) return;\n",
              "\n",
              "          const docLinkHtml = 'Like what you see? Visit the ' +\n",
              "            '<a target=\"_blank\" href=https://colab.research.google.com/notebooks/data_table.ipynb>data table notebook</a>'\n",
              "            + ' to learn more about interactive tables.';\n",
              "          element.innerHTML = '';\n",
              "          dataTable['output_type'] = 'display_data';\n",
              "          await google.colab.output.renderOutput(dataTable, element);\n",
              "          const docLink = document.createElement('div');\n",
              "          docLink.innerHTML = docLinkHtml;\n",
              "          element.appendChild(docLink);\n",
              "        }\n",
              "      </script>\n",
              "    </div>\n",
              "  </div>\n",
              "  "
            ],
            "text/plain": [
              "                retweet_count  reply_count  favorite_count  num_hashtags  \\\n",
              "retweet_count        1.000000     0.016504       -0.118656      0.028279   \n",
              "reply_count          0.016504     1.000000       -0.010140     -0.007539   \n",
              "favorite_count      -0.118656    -0.010140        1.000000      0.004239   \n",
              "num_hashtags         0.028279    -0.007539        0.004239      1.000000   \n",
              "num_urls             0.069628    -0.001199       -0.016657      0.152538   \n",
              "num_mentions         0.419370     0.014800       -0.081655      0.069162   \n",
              "\n",
              "                num_urls  num_mentions  \n",
              "retweet_count   0.069628      0.419370  \n",
              "reply_count    -0.001199      0.014800  \n",
              "favorite_count -0.016657     -0.081655  \n",
              "num_hashtags    0.152538      0.069162  \n",
              "num_urls        1.000000      0.091404  \n",
              "num_mentions    0.091404      1.000000  "
            ]
          },
          "execution_count": 84,
          "metadata": {},
          "output_type": "execute_result"
        }
      ],
      "source": [
        "tweets[numerical_cols].sample(10000).corr()"
      ]
    },
    {
      "cell_type": "markdown",
      "id": "0c6812fe",
      "metadata": {
        "id": "0c6812fe"
      },
      "source": [
        "## Created at"
      ]
    },
    {
      "cell_type": "code",
      "execution_count": null,
      "id": "ed5eb304",
      "metadata": {
        "colab": {
          "base_uri": "https://localhost:8080/"
        },
        "id": "ed5eb304",
        "outputId": "0faf97c0-1dc1-49b2-e7e2-e245205f3520"
      },
      "outputs": [
        {
          "name": "stdout",
          "output_type": "stream",
          "text": [
            "Number of NaN in created_at feature:  0\n"
          ]
        }
      ],
      "source": [
        "nan_created_at_ids = tweets.created_at.isna()\n",
        "print(\"Number of NaN in created_at feature: \", np.sum(nan_created_at_ids))\n",
        "\n",
        "\n",
        "tweets = tweets[~nan_created_at_ids]"
      ]
    },
    {
      "cell_type": "code",
      "execution_count": null,
      "id": "9980a924",
      "metadata": {
        "colab": {
          "base_uri": "https://localhost:8080/"
        },
        "id": "9980a924",
        "outputId": "0a234264-3027-4d56-f503-f3dcf3a703d3"
      },
      "outputs": [
        {
          "name": "stdout",
          "output_type": "stream",
          "text": [
            "All the dates are ok!\n"
          ]
        }
      ],
      "source": [
        "try:\n",
        "    dates = pd.to_datetime(tweets.created_at, format='%Y-%m-%d %H:%M:%S', errors='raise')\n",
        "        \n",
        "    print(\"All the dates are ok!\")\n",
        "except ValueError as e:\n",
        "    print(e)"
      ]
    },
    {
      "cell_type": "code",
      "execution_count": null,
      "id": "34ec1974",
      "metadata": {
        "colab": {
          "base_uri": "https://localhost:8080/"
        },
        "id": "34ec1974",
        "outputId": "f0afa4d5-4f4a-4c41-d074-9fb3987a821a"
      },
      "outputs": [
        {
          "data": {
            "text/plain": [
              "dtype('O')"
            ]
          },
          "execution_count": 87,
          "metadata": {},
          "output_type": "execute_result"
        }
      ],
      "source": [
        "tweets.created_at.dtype"
      ]
    },
    {
      "cell_type": "code",
      "execution_count": null,
      "id": "d1580d46",
      "metadata": {
        "colab": {
          "base_uri": "https://localhost:8080/",
          "height": 35
        },
        "id": "d1580d46",
        "outputId": "a1c70f5e-623a-4587-896e-92f6498ff721"
      },
      "outputs": [
        {
          "data": {
            "application/vnd.google.colaboratory.intrinsic+json": {
              "type": "string"
            },
            "text/plain": [
              "'1953-04-17 12:24:33'"
            ]
          },
          "execution_count": 88,
          "metadata": {},
          "output_type": "execute_result"
        }
      ],
      "source": [
        "# prima della creazione di tweetter\n",
        "tweets.created_at.min()"
      ]
    },
    {
      "cell_type": "code",
      "execution_count": null,
      "id": "f4e44528",
      "metadata": {
        "colab": {
          "base_uri": "https://localhost:8080/",
          "height": 35
        },
        "id": "f4e44528",
        "outputId": "8b2523f0-6041-4fb5-c61a-c4cd87ce819a"
      },
      "outputs": [
        {
          "data": {
            "application/vnd.google.colaboratory.intrinsic+json": {
              "type": "string"
            },
            "text/plain": [
              "'2040-04-27 11:03:25'"
            ]
          },
          "execution_count": 89,
          "metadata": {},
          "output_type": "execute_result"
        }
      ],
      "source": [
        "# nel futuro\n",
        "tweets.created_at.max()"
      ]
    },
    {
      "cell_type": "code",
      "execution_count": null,
      "id": "qMHjlqkjAzWs",
      "metadata": {
        "id": "qMHjlqkjAzWs"
      },
      "outputs": [],
      "source": [
        "tweets.user_id = tweets.user_id.astype(int)\n",
        "\n",
        "users[\"user_id\"] = users.index\n",
        "\n",
        "joined = tweets[[\"user_id\", \"created_at\"]].join(other=users[[\"user_id\", \"created_at\"]], on=\"user_id\", how=\"left\", lsuffix='_tweet', rsuffix='_user').loc[:, [\"created_at_tweet\", \"created_at_user\"]]\n",
        "\n",
        "del users[\"user_id\"]"
      ]
    },
    {
      "cell_type": "code",
      "execution_count": null,
      "id": "kKY_cQ52BTx5",
      "metadata": {
        "colab": {
          "base_uri": "https://localhost:8080/"
        },
        "id": "kKY_cQ52BTx5",
        "outputId": "ab7917b8-deda-4fb8-c2d8-b080b3841815"
      },
      "outputs": [
        {
          "data": {
            "text/plain": [
              "(11226977, 2)"
            ]
          },
          "execution_count": 91,
          "metadata": {},
          "output_type": "execute_result"
        }
      ],
      "source": [
        "joined.shape"
      ]
    },
    {
      "cell_type": "code",
      "execution_count": null,
      "id": "qAim8SjBSV7r",
      "metadata": {
        "colab": {
          "base_uri": "https://localhost:8080/",
          "height": 238
        },
        "id": "qAim8SjBSV7r",
        "outputId": "303709d2-3a60-4f89-8831-19b49d0cd9ed"
      },
      "outputs": [
        {
          "data": {
            "text/html": [
              "\n",
              "  <div id=\"df-01458b7c-21be-478d-98da-5e98f5870036\">\n",
              "    <div class=\"colab-df-container\">\n",
              "      <div>\n",
              "<style scoped>\n",
              "    .dataframe tbody tr th:only-of-type {\n",
              "        vertical-align: middle;\n",
              "    }\n",
              "\n",
              "    .dataframe tbody tr th {\n",
              "        vertical-align: top;\n",
              "    }\n",
              "\n",
              "    .dataframe thead th {\n",
              "        text-align: right;\n",
              "    }\n",
              "</style>\n",
              "<table border=\"1\" class=\"dataframe\">\n",
              "  <thead>\n",
              "    <tr style=\"text-align: right;\">\n",
              "      <th></th>\n",
              "      <th>created_at_tweet</th>\n",
              "      <th>created_at_user</th>\n",
              "    </tr>\n",
              "    <tr>\n",
              "      <th>id</th>\n",
              "      <th></th>\n",
              "      <th></th>\n",
              "    </tr>\n",
              "  </thead>\n",
              "  <tbody>\n",
              "    <tr>\n",
              "      <th>509354017856950272</th>\n",
              "      <td>2019-09-11 14:53:55</td>\n",
              "      <td>2016-07-03 02:37:46</td>\n",
              "    </tr>\n",
              "    <tr>\n",
              "      <th>583002592529121280</th>\n",
              "      <td>2020-04-01 20:27:04</td>\n",
              "      <td>2016-07-13 00:06:28</td>\n",
              "    </tr>\n",
              "    <tr>\n",
              "      <th>461498835362013185</th>\n",
              "      <td>2019-05-02 13:34:31</td>\n",
              "      <td>2019-03-11 03:36:43</td>\n",
              "    </tr>\n",
              "    <tr>\n",
              "      <th>528808127366692864</th>\n",
              "      <td>2019-11-04 07:17:37</td>\n",
              "      <td>2017-01-18 05:40:50</td>\n",
              "    </tr>\n",
              "    <tr>\n",
              "      <th>575336690904006656</th>\n",
              "      <td>2020-03-11 16:45:31</td>\n",
              "      <td>2018-04-17 22:50:24</td>\n",
              "    </tr>\n",
              "  </tbody>\n",
              "</table>\n",
              "</div>\n",
              "      <button class=\"colab-df-convert\" onclick=\"convertToInteractive('df-01458b7c-21be-478d-98da-5e98f5870036')\"\n",
              "              title=\"Convert this dataframe to an interactive table.\"\n",
              "              style=\"display:none;\">\n",
              "        \n",
              "  <svg xmlns=\"http://www.w3.org/2000/svg\" height=\"24px\"viewBox=\"0 0 24 24\"\n",
              "       width=\"24px\">\n",
              "    <path d=\"M0 0h24v24H0V0z\" fill=\"none\"/>\n",
              "    <path d=\"M18.56 5.44l.94 2.06.94-2.06 2.06-.94-2.06-.94-.94-2.06-.94 2.06-2.06.94zm-11 1L8.5 8.5l.94-2.06 2.06-.94-2.06-.94L8.5 2.5l-.94 2.06-2.06.94zm10 10l.94 2.06.94-2.06 2.06-.94-2.06-.94-.94-2.06-.94 2.06-2.06.94z\"/><path d=\"M17.41 7.96l-1.37-1.37c-.4-.4-.92-.59-1.43-.59-.52 0-1.04.2-1.43.59L10.3 9.45l-7.72 7.72c-.78.78-.78 2.05 0 2.83L4 21.41c.39.39.9.59 1.41.59.51 0 1.02-.2 1.41-.59l7.78-7.78 2.81-2.81c.8-.78.8-2.07 0-2.86zM5.41 20L4 18.59l7.72-7.72 1.47 1.35L5.41 20z\"/>\n",
              "  </svg>\n",
              "      </button>\n",
              "      \n",
              "  <style>\n",
              "    .colab-df-container {\n",
              "      display:flex;\n",
              "      flex-wrap:wrap;\n",
              "      gap: 12px;\n",
              "    }\n",
              "\n",
              "    .colab-df-convert {\n",
              "      background-color: #E8F0FE;\n",
              "      border: none;\n",
              "      border-radius: 50%;\n",
              "      cursor: pointer;\n",
              "      display: none;\n",
              "      fill: #1967D2;\n",
              "      height: 32px;\n",
              "      padding: 0 0 0 0;\n",
              "      width: 32px;\n",
              "    }\n",
              "\n",
              "    .colab-df-convert:hover {\n",
              "      background-color: #E2EBFA;\n",
              "      box-shadow: 0px 1px 2px rgba(60, 64, 67, 0.3), 0px 1px 3px 1px rgba(60, 64, 67, 0.15);\n",
              "      fill: #174EA6;\n",
              "    }\n",
              "\n",
              "    [theme=dark] .colab-df-convert {\n",
              "      background-color: #3B4455;\n",
              "      fill: #D2E3FC;\n",
              "    }\n",
              "\n",
              "    [theme=dark] .colab-df-convert:hover {\n",
              "      background-color: #434B5C;\n",
              "      box-shadow: 0px 1px 3px 1px rgba(0, 0, 0, 0.15);\n",
              "      filter: drop-shadow(0px 1px 2px rgba(0, 0, 0, 0.3));\n",
              "      fill: #FFFFFF;\n",
              "    }\n",
              "  </style>\n",
              "\n",
              "      <script>\n",
              "        const buttonEl =\n",
              "          document.querySelector('#df-01458b7c-21be-478d-98da-5e98f5870036 button.colab-df-convert');\n",
              "        buttonEl.style.display =\n",
              "          google.colab.kernel.accessAllowed ? 'block' : 'none';\n",
              "\n",
              "        async function convertToInteractive(key) {\n",
              "          const element = document.querySelector('#df-01458b7c-21be-478d-98da-5e98f5870036');\n",
              "          const dataTable =\n",
              "            await google.colab.kernel.invokeFunction('convertToInteractive',\n",
              "                                                     [key], {});\n",
              "          if (!dataTable) return;\n",
              "\n",
              "          const docLinkHtml = 'Like what you see? Visit the ' +\n",
              "            '<a target=\"_blank\" href=https://colab.research.google.com/notebooks/data_table.ipynb>data table notebook</a>'\n",
              "            + ' to learn more about interactive tables.';\n",
              "          element.innerHTML = '';\n",
              "          dataTable['output_type'] = 'display_data';\n",
              "          await google.colab.output.renderOutput(dataTable, element);\n",
              "          const docLink = document.createElement('div');\n",
              "          docLink.innerHTML = docLinkHtml;\n",
              "          element.appendChild(docLink);\n",
              "        }\n",
              "      </script>\n",
              "    </div>\n",
              "  </div>\n",
              "  "
            ],
            "text/plain": [
              "                       created_at_tweet      created_at_user\n",
              "id                                                          \n",
              "509354017856950272  2019-09-11 14:53:55  2016-07-03 02:37:46\n",
              "583002592529121280  2020-04-01 20:27:04  2016-07-13 00:06:28\n",
              "461498835362013185  2019-05-02 13:34:31  2019-03-11 03:36:43\n",
              "528808127366692864  2019-11-04 07:17:37  2017-01-18 05:40:50\n",
              "575336690904006656  2020-03-11 16:45:31  2018-04-17 22:50:24"
            ]
          },
          "execution_count": 92,
          "metadata": {},
          "output_type": "execute_result"
        }
      ],
      "source": [
        "joined.head()"
      ]
    },
    {
      "cell_type": "code",
      "execution_count": null,
      "id": "0pexJ98nS46a",
      "metadata": {
        "id": "0pexJ98nS46a"
      },
      "outputs": [],
      "source": [
        "wrong_datas = joined.created_at_tweet < joined.created_at_user\n",
        "\n",
        "joined.loc[wrong_datas, \"created_at_tweet\"] = joined.loc[wrong_datas, \"created_at_user\"]"
      ]
    },
    {
      "cell_type": "code",
      "execution_count": null,
      "id": "WLLJOyEHU4w2",
      "metadata": {
        "id": "WLLJOyEHU4w2"
      },
      "outputs": [],
      "source": [
        "tweets.loc[:, \"created_at\"] = joined.loc[:, \"created_at_tweet\"]"
      ]
    },
    {
      "cell_type": "code",
      "execution_count": null,
      "id": "-oz6i6Z1Y4fv",
      "metadata": {
        "id": "-oz6i6Z1Y4fv"
      },
      "outputs": [],
      "source": [
        "del joined"
      ]
    },
    {
      "cell_type": "code",
      "execution_count": null,
      "id": "5f96a906",
      "metadata": {
        "id": "5f96a906"
      },
      "outputs": [],
      "source": [
        "# change future data with '2022-01-01 00:00:00'\n",
        "newest = pd.to_datetime(\"2022-01-01 00:00:00\", format='%Y-%m-%d %H:%M:%S')\n",
        "\n",
        "tweets.loc[dates>newest, \"created_at\"] = str(newest)\n",
        "\n",
        "del dates"
      ]
    },
    {
      "cell_type": "code",
      "execution_count": null,
      "id": "95e9a7c4",
      "metadata": {
        "colab": {
          "base_uri": "https://localhost:8080/",
          "height": 35
        },
        "id": "95e9a7c4",
        "outputId": "fcbfc4ba-ed46-49dd-850c-da8285a1f3ff"
      },
      "outputs": [
        {
          "data": {
            "application/vnd.google.colaboratory.intrinsic+json": {
              "type": "string"
            },
            "text/plain": [
              "'2012-03-11 22:25:59'"
            ]
          },
          "execution_count": 97,
          "metadata": {},
          "output_type": "execute_result"
        }
      ],
      "source": [
        "tweets.created_at.min()"
      ]
    },
    {
      "cell_type": "code",
      "execution_count": null,
      "id": "01eacc9c",
      "metadata": {
        "colab": {
          "base_uri": "https://localhost:8080/",
          "height": 35
        },
        "id": "01eacc9c",
        "outputId": "a2f4f07c-dca2-4e98-bac6-bc0a1bcb20cf"
      },
      "outputs": [
        {
          "data": {
            "application/vnd.google.colaboratory.intrinsic+json": {
              "type": "string"
            },
            "text/plain": [
              "'2022-01-01 00:00:00'"
            ]
          },
          "execution_count": 98,
          "metadata": {},
          "output_type": "execute_result"
        }
      ],
      "source": [
        "tweets.created_at.max()"
      ]
    },
    {
      "cell_type": "markdown",
      "id": "2276d679",
      "metadata": {
        "id": "2276d679"
      },
      "source": [
        "## Text"
      ]
    },
    {
      "cell_type": "code",
      "execution_count": null,
      "id": "257663c0",
      "metadata": {
        "colab": {
          "base_uri": "https://localhost:8080/"
        },
        "id": "257663c0",
        "outputId": "39fcc7b9-aa31-4d3e-cae6-5a97361de2ce"
      },
      "outputs": [
        {
          "name": "stdout",
          "output_type": "stream",
          "text": [
            "Number of number of NaN tweets:  384406\n"
          ]
        }
      ],
      "source": [
        "nan_text_ids = tweets.text.isna()\n",
        "print(\"Number of number of NaN tweets: \", np.sum(nan_text_ids))"
      ]
    },
    {
      "cell_type": "code",
      "execution_count": null,
      "id": "2c44f596",
      "metadata": {
        "id": "2c44f596"
      },
      "outputs": [],
      "source": [
        "# substitute the NaN tweets with the empty string \"\"\n",
        "tweets.loc[nan_text_ids, \"text\"] = \"\""
      ]
    },
    {
      "cell_type": "code",
      "execution_count": null,
      "id": "OAM3xKDBmhYv",
      "metadata": {
        "colab": {
          "base_uri": "https://localhost:8080/"
        },
        "id": "OAM3xKDBmhYv",
        "outputId": "f9988550-07d9-45e6-edfb-8d2dd496fd05"
      },
      "outputs": [
        {
          "name": "stdout",
          "output_type": "stream",
          "text": [
            "<class 'pandas.core.frame.DataFrame'>\n",
            "Index: 11226977 entries, 509354017856950272 to 486479812614451200\n",
            "Data columns (total 9 columns):\n",
            " #   Column          Dtype \n",
            "---  ------          ----- \n",
            " 0   user_id         int64 \n",
            " 1   retweet_count   int64 \n",
            " 2   reply_count     int64 \n",
            " 3   favorite_count  int64 \n",
            " 4   num_hashtags    int64 \n",
            " 5   num_urls        int64 \n",
            " 6   num_mentions    int64 \n",
            " 7   created_at      object\n",
            " 8   text            object\n",
            "dtypes: int64(7), object(2)\n",
            "memory usage: 856.6+ MB\n"
          ]
        }
      ],
      "source": [
        "tweets.info()"
      ]
    },
    {
      "cell_type": "code",
      "execution_count": null,
      "id": "CQoMN4QEhIIQ",
      "metadata": {
        "colab": {
          "base_uri": "https://localhost:8080/",
          "height": 300
        },
        "id": "CQoMN4QEhIIQ",
        "outputId": "d792e656-5542-48de-c8fa-089fe85470c9"
      },
      "outputs": [
        {
          "data": {
            "text/html": [
              "\n",
              "  <div id=\"df-73ac8cb2-0223-40d7-ac29-76f78828b38b\">\n",
              "    <div class=\"colab-df-container\">\n",
              "      <div>\n",
              "<style scoped>\n",
              "    .dataframe tbody tr th:only-of-type {\n",
              "        vertical-align: middle;\n",
              "    }\n",
              "\n",
              "    .dataframe tbody tr th {\n",
              "        vertical-align: top;\n",
              "    }\n",
              "\n",
              "    .dataframe thead th {\n",
              "        text-align: right;\n",
              "    }\n",
              "</style>\n",
              "<table border=\"1\" class=\"dataframe\">\n",
              "  <thead>\n",
              "    <tr style=\"text-align: right;\">\n",
              "      <th></th>\n",
              "      <th>user_id</th>\n",
              "      <th>retweet_count</th>\n",
              "      <th>reply_count</th>\n",
              "      <th>favorite_count</th>\n",
              "      <th>num_hashtags</th>\n",
              "      <th>num_urls</th>\n",
              "      <th>num_mentions</th>\n",
              "    </tr>\n",
              "  </thead>\n",
              "  <tbody>\n",
              "    <tr>\n",
              "      <th>count</th>\n",
              "      <td>1.122698e+07</td>\n",
              "      <td>1.122698e+07</td>\n",
              "      <td>1.122698e+07</td>\n",
              "      <td>1.122698e+07</td>\n",
              "      <td>1.122698e+07</td>\n",
              "      <td>1.122698e+07</td>\n",
              "      <td>1.122698e+07</td>\n",
              "    </tr>\n",
              "    <tr>\n",
              "      <th>mean</th>\n",
              "      <td>8.316809e+08</td>\n",
              "      <td>2.528619e+00</td>\n",
              "      <td>1.523919e-03</td>\n",
              "      <td>1.848192e-01</td>\n",
              "      <td>2.607639e-02</td>\n",
              "      <td>5.773451e-02</td>\n",
              "      <td>4.064185e-01</td>\n",
              "    </tr>\n",
              "    <tr>\n",
              "      <th>std</th>\n",
              "      <td>8.530063e+08</td>\n",
              "      <td>6.135046e+00</td>\n",
              "      <td>3.900765e-02</td>\n",
              "      <td>3.881508e-01</td>\n",
              "      <td>1.593625e-01</td>\n",
              "      <td>2.332407e-01</td>\n",
              "      <td>4.911645e-01</td>\n",
              "    </tr>\n",
              "    <tr>\n",
              "      <th>min</th>\n",
              "      <td>6.780330e+05</td>\n",
              "      <td>0.000000e+00</td>\n",
              "      <td>0.000000e+00</td>\n",
              "      <td>0.000000e+00</td>\n",
              "      <td>0.000000e+00</td>\n",
              "      <td>0.000000e+00</td>\n",
              "      <td>0.000000e+00</td>\n",
              "    </tr>\n",
              "    <tr>\n",
              "      <th>25%</th>\n",
              "      <td>2.328048e+08</td>\n",
              "      <td>0.000000e+00</td>\n",
              "      <td>0.000000e+00</td>\n",
              "      <td>0.000000e+00</td>\n",
              "      <td>0.000000e+00</td>\n",
              "      <td>0.000000e+00</td>\n",
              "      <td>0.000000e+00</td>\n",
              "    </tr>\n",
              "    <tr>\n",
              "      <th>50%</th>\n",
              "      <td>4.680803e+08</td>\n",
              "      <td>0.000000e+00</td>\n",
              "      <td>0.000000e+00</td>\n",
              "      <td>0.000000e+00</td>\n",
              "      <td>0.000000e+00</td>\n",
              "      <td>0.000000e+00</td>\n",
              "      <td>0.000000e+00</td>\n",
              "    </tr>\n",
              "    <tr>\n",
              "      <th>75%</th>\n",
              "      <td>1.232535e+09</td>\n",
              "      <td>1.000000e+00</td>\n",
              "      <td>0.000000e+00</td>\n",
              "      <td>0.000000e+00</td>\n",
              "      <td>0.000000e+00</td>\n",
              "      <td>0.000000e+00</td>\n",
              "      <td>1.000000e+00</td>\n",
              "    </tr>\n",
              "    <tr>\n",
              "      <th>max</th>\n",
              "      <td>3.164942e+09</td>\n",
              "      <td>2.000000e+01</td>\n",
              "      <td>1.000000e+00</td>\n",
              "      <td>1.000000e+00</td>\n",
              "      <td>1.000000e+00</td>\n",
              "      <td>1.000000e+00</td>\n",
              "      <td>1.000000e+00</td>\n",
              "    </tr>\n",
              "  </tbody>\n",
              "</table>\n",
              "</div>\n",
              "      <button class=\"colab-df-convert\" onclick=\"convertToInteractive('df-73ac8cb2-0223-40d7-ac29-76f78828b38b')\"\n",
              "              title=\"Convert this dataframe to an interactive table.\"\n",
              "              style=\"display:none;\">\n",
              "        \n",
              "  <svg xmlns=\"http://www.w3.org/2000/svg\" height=\"24px\"viewBox=\"0 0 24 24\"\n",
              "       width=\"24px\">\n",
              "    <path d=\"M0 0h24v24H0V0z\" fill=\"none\"/>\n",
              "    <path d=\"M18.56 5.44l.94 2.06.94-2.06 2.06-.94-2.06-.94-.94-2.06-.94 2.06-2.06.94zm-11 1L8.5 8.5l.94-2.06 2.06-.94-2.06-.94L8.5 2.5l-.94 2.06-2.06.94zm10 10l.94 2.06.94-2.06 2.06-.94-2.06-.94-.94-2.06-.94 2.06-2.06.94z\"/><path d=\"M17.41 7.96l-1.37-1.37c-.4-.4-.92-.59-1.43-.59-.52 0-1.04.2-1.43.59L10.3 9.45l-7.72 7.72c-.78.78-.78 2.05 0 2.83L4 21.41c.39.39.9.59 1.41.59.51 0 1.02-.2 1.41-.59l7.78-7.78 2.81-2.81c.8-.78.8-2.07 0-2.86zM5.41 20L4 18.59l7.72-7.72 1.47 1.35L5.41 20z\"/>\n",
              "  </svg>\n",
              "      </button>\n",
              "      \n",
              "  <style>\n",
              "    .colab-df-container {\n",
              "      display:flex;\n",
              "      flex-wrap:wrap;\n",
              "      gap: 12px;\n",
              "    }\n",
              "\n",
              "    .colab-df-convert {\n",
              "      background-color: #E8F0FE;\n",
              "      border: none;\n",
              "      border-radius: 50%;\n",
              "      cursor: pointer;\n",
              "      display: none;\n",
              "      fill: #1967D2;\n",
              "      height: 32px;\n",
              "      padding: 0 0 0 0;\n",
              "      width: 32px;\n",
              "    }\n",
              "\n",
              "    .colab-df-convert:hover {\n",
              "      background-color: #E2EBFA;\n",
              "      box-shadow: 0px 1px 2px rgba(60, 64, 67, 0.3), 0px 1px 3px 1px rgba(60, 64, 67, 0.15);\n",
              "      fill: #174EA6;\n",
              "    }\n",
              "\n",
              "    [theme=dark] .colab-df-convert {\n",
              "      background-color: #3B4455;\n",
              "      fill: #D2E3FC;\n",
              "    }\n",
              "\n",
              "    [theme=dark] .colab-df-convert:hover {\n",
              "      background-color: #434B5C;\n",
              "      box-shadow: 0px 1px 3px 1px rgba(0, 0, 0, 0.15);\n",
              "      filter: drop-shadow(0px 1px 2px rgba(0, 0, 0, 0.3));\n",
              "      fill: #FFFFFF;\n",
              "    }\n",
              "  </style>\n",
              "\n",
              "      <script>\n",
              "        const buttonEl =\n",
              "          document.querySelector('#df-73ac8cb2-0223-40d7-ac29-76f78828b38b button.colab-df-convert');\n",
              "        buttonEl.style.display =\n",
              "          google.colab.kernel.accessAllowed ? 'block' : 'none';\n",
              "\n",
              "        async function convertToInteractive(key) {\n",
              "          const element = document.querySelector('#df-73ac8cb2-0223-40d7-ac29-76f78828b38b');\n",
              "          const dataTable =\n",
              "            await google.colab.kernel.invokeFunction('convertToInteractive',\n",
              "                                                     [key], {});\n",
              "          if (!dataTable) return;\n",
              "\n",
              "          const docLinkHtml = 'Like what you see? Visit the ' +\n",
              "            '<a target=\"_blank\" href=https://colab.research.google.com/notebooks/data_table.ipynb>data table notebook</a>'\n",
              "            + ' to learn more about interactive tables.';\n",
              "          element.innerHTML = '';\n",
              "          dataTable['output_type'] = 'display_data';\n",
              "          await google.colab.output.renderOutput(dataTable, element);\n",
              "          const docLink = document.createElement('div');\n",
              "          docLink.innerHTML = docLinkHtml;\n",
              "          element.appendChild(docLink);\n",
              "        }\n",
              "      </script>\n",
              "    </div>\n",
              "  </div>\n",
              "  "
            ],
            "text/plain": [
              "            user_id  retweet_count   reply_count  favorite_count  \\\n",
              "count  1.122698e+07   1.122698e+07  1.122698e+07    1.122698e+07   \n",
              "mean   8.316809e+08   2.528619e+00  1.523919e-03    1.848192e-01   \n",
              "std    8.530063e+08   6.135046e+00  3.900765e-02    3.881508e-01   \n",
              "min    6.780330e+05   0.000000e+00  0.000000e+00    0.000000e+00   \n",
              "25%    2.328048e+08   0.000000e+00  0.000000e+00    0.000000e+00   \n",
              "50%    4.680803e+08   0.000000e+00  0.000000e+00    0.000000e+00   \n",
              "75%    1.232535e+09   1.000000e+00  0.000000e+00    0.000000e+00   \n",
              "max    3.164942e+09   2.000000e+01  1.000000e+00    1.000000e+00   \n",
              "\n",
              "       num_hashtags      num_urls  num_mentions  \n",
              "count  1.122698e+07  1.122698e+07  1.122698e+07  \n",
              "mean   2.607639e-02  5.773451e-02  4.064185e-01  \n",
              "std    1.593625e-01  2.332407e-01  4.911645e-01  \n",
              "min    0.000000e+00  0.000000e+00  0.000000e+00  \n",
              "25%    0.000000e+00  0.000000e+00  0.000000e+00  \n",
              "50%    0.000000e+00  0.000000e+00  0.000000e+00  \n",
              "75%    0.000000e+00  0.000000e+00  1.000000e+00  \n",
              "max    1.000000e+00  1.000000e+00  1.000000e+00  "
            ]
          },
          "execution_count": 109,
          "metadata": {},
          "output_type": "execute_result"
        }
      ],
      "source": [
        "tweets.describe()"
      ]
    },
    {
      "cell_type": "markdown",
      "id": "056f3f76",
      "metadata": {
        "id": "056f3f76"
      },
      "source": [
        "# Save to file"
      ]
    },
    {
      "cell_type": "code",
      "execution_count": 164,
      "id": "b2b50cf9",
      "metadata": {
        "id": "b2b50cf9"
      },
      "outputs": [],
      "source": [
        "users.to_csv(\"cleaned_users.csv\")"
      ]
    },
    {
      "cell_type": "code",
      "execution_count": null,
      "id": "662b7388",
      "metadata": {
        "id": "662b7388"
      },
      "outputs": [],
      "source": [
        "tweets.to_csv(\"cleaned_tweets.csv\")"
      ]
    }
  ],
  "metadata": {
    "colab": {
      "collapsed_sections": [],
      "provenance": []
    },
    "kernelspec": {
      "display_name": "Python 3",
      "name": "python3"
    },
    "language_info": {
      "name": "python"
    }
  },
  "nbformat": 4,
  "nbformat_minor": 5
}
