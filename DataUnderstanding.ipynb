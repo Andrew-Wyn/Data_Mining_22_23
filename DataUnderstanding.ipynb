{
 "cells": [
  {
   "cell_type": "markdown",
   "id": "c706313f",
   "metadata": {},
   "source": [
    "# Data Understanding"
   ]
  },
  {
   "cell_type": "code",
   "execution_count": 71,
   "id": "1338928a",
   "metadata": {},
   "outputs": [],
   "source": [
    "import numpy as np\n",
    "import pandas as pd\n",
    "import matplotlib.pyplot as plt\n",
    "import scipy\n",
    "\n",
    "from sklearn.preprocessing import StandardScaler"
   ]
  },
  {
   "cell_type": "code",
   "execution_count": 72,
   "id": "e014fb30",
   "metadata": {},
   "outputs": [],
   "source": [
    "users = pd.read_csv(\"dataset/users.csv\", index_col=0)"
   ]
  },
  {
   "cell_type": "code",
   "execution_count": 73,
   "id": "064706bf",
   "metadata": {},
   "outputs": [
    {
     "data": {
      "text/html": [
       "<div>\n",
       "<style scoped>\n",
       "    .dataframe tbody tr th:only-of-type {\n",
       "        vertical-align: middle;\n",
       "    }\n",
       "\n",
       "    .dataframe tbody tr th {\n",
       "        vertical-align: top;\n",
       "    }\n",
       "\n",
       "    .dataframe thead th {\n",
       "        text-align: right;\n",
       "    }\n",
       "</style>\n",
       "<table border=\"1\" class=\"dataframe\">\n",
       "  <thead>\n",
       "    <tr style=\"text-align: right;\">\n",
       "      <th></th>\n",
       "      <th>name</th>\n",
       "      <th>lang</th>\n",
       "      <th>bot</th>\n",
       "      <th>created_at</th>\n",
       "      <th>statuses_count</th>\n",
       "    </tr>\n",
       "    <tr>\n",
       "      <th>id</th>\n",
       "      <th></th>\n",
       "      <th></th>\n",
       "      <th></th>\n",
       "      <th></th>\n",
       "      <th></th>\n",
       "    </tr>\n",
       "  </thead>\n",
       "  <tbody>\n",
       "    <tr>\n",
       "      <th>2353593986</th>\n",
       "      <td>Lamonica Raborn</td>\n",
       "      <td>en</td>\n",
       "      <td>1</td>\n",
       "      <td>2019-02-22 18:00:42</td>\n",
       "      <td>76.0</td>\n",
       "    </tr>\n",
       "    <tr>\n",
       "      <th>2358850842</th>\n",
       "      <td>Lourie Botton</td>\n",
       "      <td>en</td>\n",
       "      <td>0</td>\n",
       "      <td>2019-02-26 03:02:32</td>\n",
       "      <td>54.0</td>\n",
       "    </tr>\n",
       "    <tr>\n",
       "      <th>137959629</th>\n",
       "      <td>Dadan Syarifudin</td>\n",
       "      <td>en</td>\n",
       "      <td>1</td>\n",
       "      <td>2015-04-30 07:09:56</td>\n",
       "      <td>3.0</td>\n",
       "    </tr>\n",
       "    <tr>\n",
       "      <th>466124818</th>\n",
       "      <td>Carletto Focia</td>\n",
       "      <td>it</td>\n",
       "      <td>1</td>\n",
       "      <td>2017-01-18 02:49:18</td>\n",
       "      <td>50.0</td>\n",
       "    </tr>\n",
       "    <tr>\n",
       "      <th>2571493866</th>\n",
       "      <td>MBK Ebook</td>\n",
       "      <td>en</td>\n",
       "      <td>0</td>\n",
       "      <td>2019-06-18 19:30:21</td>\n",
       "      <td>7085.0</td>\n",
       "    </tr>\n",
       "  </tbody>\n",
       "</table>\n",
       "</div>"
      ],
      "text/plain": [
       "                        name lang  bot           created_at  statuses_count\n",
       "id                                                                         \n",
       "2353593986   Lamonica Raborn   en    1  2019-02-22 18:00:42            76.0\n",
       "2358850842     Lourie Botton   en    0  2019-02-26 03:02:32            54.0\n",
       "137959629   Dadan Syarifudin   en    1  2015-04-30 07:09:56             3.0\n",
       "466124818     Carletto Focia   it    1  2017-01-18 02:49:18            50.0\n",
       "2571493866         MBK Ebook   en    0  2019-06-18 19:30:21          7085.0"
      ]
     },
     "execution_count": 73,
     "metadata": {},
     "output_type": "execute_result"
    }
   ],
   "source": [
    "users.head()"
   ]
  },
  {
   "cell_type": "code",
   "execution_count": 74,
   "id": "4d71c683",
   "metadata": {},
   "outputs": [
    {
     "data": {
      "text/plain": [
       "(11508, 5)"
      ]
     },
     "execution_count": 74,
     "metadata": {},
     "output_type": "execute_result"
    }
   ],
   "source": [
    "users.shape"
   ]
  },
  {
   "cell_type": "code",
   "execution_count": 75,
   "id": "9e27042c",
   "metadata": {},
   "outputs": [
    {
     "name": "stdout",
     "output_type": "stream",
     "text": [
      "<class 'pandas.core.frame.DataFrame'>\n",
      "Int64Index: 11508 entries, 2353593986 to 933183398\n",
      "Data columns (total 5 columns):\n",
      " #   Column          Non-Null Count  Dtype  \n",
      "---  ------          --------------  -----  \n",
      " 0   name            11507 non-null  object \n",
      " 1   lang            11508 non-null  object \n",
      " 2   bot             11508 non-null  int64  \n",
      " 3   created_at      11508 non-null  object \n",
      " 4   statuses_count  11109 non-null  float64\n",
      "dtypes: float64(1), int64(1), object(3)\n",
      "memory usage: 539.4+ KB\n"
     ]
    }
   ],
   "source": [
    "users.info()"
   ]
  },
  {
   "cell_type": "code",
   "execution_count": 76,
   "id": "d9341051",
   "metadata": {},
   "outputs": [
    {
     "name": "stdout",
     "output_type": "stream",
     "text": [
      "Number of different users' indexes 11508\n"
     ]
    }
   ],
   "source": [
    "print(\"Number of different users' indexes\", len(set(users.index)))"
   ]
  },
  {
   "cell_type": "markdown",
   "id": "2cdd7b19",
   "metadata": {},
   "source": [
    "## Name\n",
    "\n",
    "show the records with Null names"
   ]
  },
  {
   "cell_type": "code",
   "execution_count": 77,
   "id": "03d8ffbe",
   "metadata": {},
   "outputs": [
    {
     "data": {
      "text/html": [
       "<div>\n",
       "<style scoped>\n",
       "    .dataframe tbody tr th:only-of-type {\n",
       "        vertical-align: middle;\n",
       "    }\n",
       "\n",
       "    .dataframe tbody tr th {\n",
       "        vertical-align: top;\n",
       "    }\n",
       "\n",
       "    .dataframe thead th {\n",
       "        text-align: right;\n",
       "    }\n",
       "</style>\n",
       "<table border=\"1\" class=\"dataframe\">\n",
       "  <thead>\n",
       "    <tr style=\"text-align: right;\">\n",
       "      <th></th>\n",
       "      <th>name</th>\n",
       "      <th>lang</th>\n",
       "      <th>bot</th>\n",
       "      <th>created_at</th>\n",
       "      <th>statuses_count</th>\n",
       "    </tr>\n",
       "    <tr>\n",
       "      <th>id</th>\n",
       "      <th></th>\n",
       "      <th></th>\n",
       "      <th></th>\n",
       "      <th></th>\n",
       "      <th></th>\n",
       "    </tr>\n",
       "  </thead>\n",
       "  <tbody>\n",
       "    <tr>\n",
       "      <th>2166124159</th>\n",
       "      <td>NaN</td>\n",
       "      <td>en</td>\n",
       "      <td>0</td>\n",
       "      <td>2018-11-02 06:39:14</td>\n",
       "      <td>6566.0</td>\n",
       "    </tr>\n",
       "  </tbody>\n",
       "</table>\n",
       "</div>"
      ],
      "text/plain": [
       "           name lang  bot           created_at  statuses_count\n",
       "id                                                            \n",
       "2166124159  NaN   en    0  2018-11-02 06:39:14          6566.0"
      ]
     },
     "execution_count": 77,
     "metadata": {},
     "output_type": "execute_result"
    }
   ],
   "source": [
    "users[users.name.isna()]"
   ]
  },
  {
   "cell_type": "code",
   "execution_count": 78,
   "id": "bee01072",
   "metadata": {},
   "outputs": [],
   "source": [
    "null_names_ids = users.name.isna()"
   ]
  },
  {
   "cell_type": "markdown",
   "id": "b1ce7ced",
   "metadata": {},
   "source": [
    "## Lang"
   ]
  },
  {
   "cell_type": "code",
   "execution_count": 79,
   "id": "4b3aaf37",
   "metadata": {},
   "outputs": [
    {
     "name": "stdout",
     "output_type": "stream",
     "text": [
      "0\n"
     ]
    }
   ],
   "source": [
    "null_lang_ids = users.lang.isna()\n",
    "\n",
    "print(np.sum(null_lang_ids))"
   ]
  },
  {
   "cell_type": "code",
   "execution_count": 80,
   "id": "743a51ba",
   "metadata": {},
   "outputs": [
    {
     "data": {
      "text/plain": [
       "array(['en', 'it', 'fr', 'ru', 'es', 'tr', 'en-gb', 'pt', 'nl', 'id',\n",
       "       'zh-tw', 'ja', 'de', 'ko', 'en-AU', 'da', 'ar', 'en-GB',\n",
       "       'Select Language...', 'zh-TW', 'zh-cn', 'pl', 'el', 'fil', 'sv',\n",
       "       'xx-lc'], dtype=object)"
      ]
     },
     "execution_count": 80,
     "metadata": {},
     "output_type": "execute_result"
    }
   ],
   "source": [
    "users.lang.unique()"
   ]
  },
  {
   "cell_type": "code",
   "execution_count": 81,
   "id": "c2cb07b5",
   "metadata": {},
   "outputs": [
    {
     "data": {
      "text/plain": [
       "26"
      ]
     },
     "execution_count": 81,
     "metadata": {},
     "output_type": "execute_result"
    }
   ],
   "source": [
    "len(users.lang.unique())"
   ]
  },
  {
   "cell_type": "code",
   "execution_count": 82,
   "id": "92e97a1b",
   "metadata": {},
   "outputs": [
    {
     "data": {
      "text/plain": [
       "en                    9970\n",
       "it                     906\n",
       "es                     319\n",
       "pt                      65\n",
       "en-gb                   50\n",
       "ru                      42\n",
       "fr                      36\n",
       "ja                      33\n",
       "zh-tw                   17\n",
       "tr                      14\n",
       "id                      12\n",
       "ko                       9\n",
       "de                       8\n",
       "nl                       6\n",
       "en-GB                    4\n",
       "ar                       3\n",
       "zh-TW                    3\n",
       "da                       2\n",
       "Select Language...       2\n",
       "en-AU                    1\n",
       "zh-cn                    1\n",
       "pl                       1\n",
       "el                       1\n",
       "fil                      1\n",
       "sv                       1\n",
       "xx-lc                    1\n",
       "Name: lang, dtype: int64"
      ]
     },
     "execution_count": 82,
     "metadata": {},
     "output_type": "execute_result"
    }
   ],
   "source": [
    "users.lang.value_counts()"
   ]
  },
  {
   "cell_type": "code",
   "execution_count": 83,
   "id": "7879868d",
   "metadata": {},
   "outputs": [
    {
     "data": {
      "image/png": "[encoded data removed]",
      "text/plain": [
       "<Figure size 640x480 with 1 Axes>"
      ]
     },
     "metadata": {},
     "output_type": "display_data"
    }
   ],
   "source": [
    "users.lang.hist(bins=26)\n",
    "plt.show()"
   ]
  },
  {
   "cell_type": "code",
   "execution_count": 84,
   "id": "6d16226d",
   "metadata": {},
   "outputs": [
    {
     "name": "stdout",
     "output_type": "stream",
     "text": [
      "en                    10025\n",
      "it                      906\n",
      "es                      319\n",
      "pt                       65\n",
      "ru                       42\n",
      "fr                       36\n",
      "ja                       33\n",
      "zh                       21\n",
      "tr                       14\n",
      "id                       12\n",
      "ko                        9\n",
      "de                        8\n",
      "nl                        6\n",
      "ar                        3\n",
      "da                        2\n",
      "Select Language...        2\n",
      "pl                        1\n",
      "el                        1\n",
      "fil                       1\n",
      "sv                        1\n",
      "xx                        1\n",
      "Name: lang, dtype: int64\n"
     ]
    }
   ],
   "source": [
    "# clean lang feature, remove lang id that are not correct\n",
    "\n",
    "# remove dialectic specialization\n",
    "\n",
    "def remove_specialization(sample):\n",
    "    radix = sample.split(\"-\")[0]\n",
    "    return radix\n",
    "\n",
    "users.lang = users.lang.apply(remove_specialization)\n",
    "\n",
    "print(users.lang.value_counts())"
   ]
  },
  {
   "cell_type": "code",
   "execution_count": 116,
   "id": "b1f93427",
   "metadata": {},
   "outputs": [],
   "source": [
    "# \"Select Language...\" to \"en\"\n",
    "users.loc[users.lang == \"Select Language...\", \"lang\"] = \"en\"\n",
    "\n",
    "# \"xx\" to \"en\"\n",
    "users.loc[users.lang == \"xx\", \"lang\"] = \"en\""
   ]
  },
  {
   "cell_type": "code",
   "execution_count": 117,
   "id": "5cdceea3",
   "metadata": {},
   "outputs": [
    {
     "name": "stdout",
     "output_type": "stream",
     "text": [
      "en     10028\n",
      "it       906\n",
      "es       319\n",
      "pt        65\n",
      "ru        42\n",
      "fr        36\n",
      "ja        33\n",
      "zh        21\n",
      "tr        14\n",
      "id        12\n",
      "ko         9\n",
      "de         8\n",
      "nl         6\n",
      "ar         3\n",
      "da         2\n",
      "pl         1\n",
      "el         1\n",
      "fil        1\n",
      "sv         1\n",
      "Name: lang, dtype: int64\n"
     ]
    }
   ],
   "source": [
    "print(users.lang.value_counts())"
   ]
  },
  {
   "cell_type": "markdown",
   "id": "c0f94cc2",
   "metadata": {},
   "source": [
    "## Bot"
   ]
  },
  {
   "cell_type": "code",
   "execution_count": 87,
   "id": "f0d65fc1",
   "metadata": {},
   "outputs": [
    {
     "name": "stdout",
     "output_type": "stream",
     "text": [
      "Number of Nan Bot:  0\n"
     ]
    }
   ],
   "source": [
    "na_bot_ids = users.bot.isna()\n",
    "print(\"Number of Nan Bot: \", np.sum(na_bot_ids))"
   ]
  },
  {
   "cell_type": "code",
   "execution_count": 88,
   "id": "9391dcbb",
   "metadata": {},
   "outputs": [
    {
     "data": {
      "text/plain": [
       "array([1, 0])"
      ]
     },
     "execution_count": 88,
     "metadata": {},
     "output_type": "execute_result"
    }
   ],
   "source": [
    "users.bot.unique()"
   ]
  },
  {
   "cell_type": "code",
   "execution_count": 89,
   "id": "1ee69d7a",
   "metadata": {},
   "outputs": [
    {
     "data": {
      "text/plain": [
       "1    6116\n",
       "0    5392\n",
       "Name: bot, dtype: int64"
      ]
     },
     "execution_count": 89,
     "metadata": {},
     "output_type": "execute_result"
    }
   ],
   "source": [
    "users.bot.value_counts()"
   ]
  },
  {
   "cell_type": "markdown",
   "id": "0a36f627",
   "metadata": {},
   "source": [
    "## Created_at"
   ]
  },
  {
   "cell_type": "code",
   "execution_count": 90,
   "id": "b2816c14",
   "metadata": {},
   "outputs": [
    {
     "name": "stdout",
     "output_type": "stream",
     "text": [
      "Number of Nan created_at:  0\n"
     ]
    }
   ],
   "source": [
    "na_created_at_ids = users.created_at.isna()\n",
    "print(\"Number of Nan created_at: \", np.sum(na_created_at_ids))"
   ]
  },
  {
   "cell_type": "code",
   "execution_count": 91,
   "id": "f15ccf6d",
   "metadata": {},
   "outputs": [
    {
     "name": "stdout",
     "output_type": "stream",
     "text": [
      "All the dates are ok!\n"
     ]
    }
   ],
   "source": [
    "try:\n",
    "    pd.to_datetime(users['created_at'], format='%Y-%m-%d %H:%M:%S', errors='raise')\n",
    "    # do something\n",
    "    print(\"All the dates are ok!\")\n",
    "except ValueError as e:\n",
    "    print(e)\n"
   ]
  },
  {
   "cell_type": "code",
   "execution_count": 92,
   "id": "c0d5bbbe",
   "metadata": {},
   "outputs": [
    {
     "data": {
      "text/plain": [
       "'2012-01-24 01:57:38'"
      ]
     },
     "execution_count": 92,
     "metadata": {},
     "output_type": "execute_result"
    }
   ],
   "source": [
    "users.created_at.min()"
   ]
  },
  {
   "cell_type": "code",
   "execution_count": 93,
   "id": "8e889f1d",
   "metadata": {},
   "outputs": [
    {
     "data": {
      "text/plain": [
       "'2020-04-21 07:28:31'"
      ]
     },
     "execution_count": 93,
     "metadata": {},
     "output_type": "execute_result"
    }
   ],
   "source": [
    "users.created_at.max()"
   ]
  },
  {
   "cell_type": "code",
   "execution_count": 94,
   "id": "8fa31729",
   "metadata": {},
   "outputs": [
    {
     "data": {
      "image/png": "[encoded data removed]",
      "text/plain": [
       "<Figure size 640x480 with 1 Axes>"
      ]
     },
     "metadata": {},
     "output_type": "display_data"
    },
    {
     "data": {
      "image/png": "[encoded data removed]",
      "text/plain": [
       "<Figure size 640x480 with 1 Axes>"
      ]
     },
     "metadata": {},
     "output_type": "display_data"
    }
   ],
   "source": [
    "# TODO: aggiustare plot\n",
    "\n",
    "users[users.bot == 1].name.groupby(pd.to_datetime(users['created_at'], format='%Y-%m-%d %H:%M:%S', errors='raise').dt.year).count().plot(kind=\"bar\")\n",
    "plt.show()\n",
    "\n",
    "users[users.bot == 0].name.groupby(pd.to_datetime(users['created_at'], format='%Y-%m-%d %H:%M:%S', errors='raise').dt.year).count().plot(kind=\"bar\")\n",
    "plt.show()"
   ]
  },
  {
   "cell_type": "markdown",
   "id": "bd4db295",
   "metadata": {},
   "source": [
    "## Statuses_count"
   ]
  },
  {
   "cell_type": "code",
   "execution_count": 95,
   "id": "34fcc999",
   "metadata": {},
   "outputs": [
    {
     "name": "stdout",
     "output_type": "stream",
     "text": [
      "number of nan statuses counts:  399\n"
     ]
    }
   ],
   "source": [
    "null_statuses_count_ids = users.statuses_count.isna()\n",
    "\n",
    "print(\"number of nan statuses counts: \", np.sum(null_statuses_count_ids))"
   ]
  },
  {
   "cell_type": "code",
   "execution_count": 96,
   "id": "5294ceab",
   "metadata": {},
   "outputs": [
    {
     "data": {
      "text/plain": [
       "count     11109.000000\n",
       "mean       5883.312359\n",
       "std       19073.007305\n",
       "min           0.000000\n",
       "25%          41.000000\n",
       "50%          68.000000\n",
       "75%        2916.000000\n",
       "max      399555.000000\n",
       "Name: statuses_count, dtype: float64"
      ]
     },
     "execution_count": 96,
     "metadata": {},
     "output_type": "execute_result"
    }
   ],
   "source": [
    "users.statuses_count[~null_statuses_count_ids].describe()"
   ]
  },
  {
   "cell_type": "code",
   "execution_count": 97,
   "id": "d83f1938",
   "metadata": {},
   "outputs": [
    {
     "data": {
      "image/png": "[encoded data removed]",
      "text/plain": [
       "<Figure size 640x480 with 1 Axes>"
      ]
     },
     "metadata": {},
     "output_type": "display_data"
    }
   ],
   "source": [
    "users.statuses_count[~null_statuses_count_ids].hist()\n",
    "plt.show()"
   ]
  },
  {
   "cell_type": "code",
   "execution_count": 98,
   "id": "e7d9ffbf",
   "metadata": {},
   "outputs": [
    {
     "data": {
      "image/png": "[encoded data removed]",
      "text/plain": [
       "<Figure size 640x480 with 1 Axes>"
      ]
     },
     "metadata": {},
     "output_type": "display_data"
    }
   ],
   "source": [
    "pd.DataFrame(users.statuses_count[~null_statuses_count_ids]).boxplot()\n",
    "plt.show()"
   ]
  },
  {
   "cell_type": "code",
   "execution_count": 99,
   "id": "64634f5a",
   "metadata": {},
   "outputs": [
    {
     "data": {
      "text/plain": [
       "<AxesSubplot: >"
      ]
     },
     "execution_count": 99,
     "metadata": {},
     "output_type": "execute_result"
    },
    {
     "data": {
      "image/png": "[encoded data removed]",
      "text/plain": [
       "<Figure size 640x480 with 1 Axes>"
      ]
     },
     "metadata": {},
     "output_type": "display_data"
    }
   ],
   "source": [
    "log_feature = pd.Series(np.log(users.statuses_count[~null_statuses_count_ids] + 1))\n",
    "log_feature.hist()"
   ]
  },
  {
   "cell_type": "code",
   "execution_count": 100,
   "id": "010b4d9e",
   "metadata": {},
   "outputs": [
    {
     "data": {
      "image/png": "[encoded data removed]",
      "text/plain": [
       "<Figure size 640x480 with 1 Axes>"
      ]
     },
     "metadata": {},
     "output_type": "display_data"
    }
   ],
   "source": [
    "pd.DataFrame(log_feature).boxplot()\n",
    "plt.show()"
   ]
  },
  {
   "cell_type": "code",
   "execution_count": 101,
   "id": "1f19bd75",
   "metadata": {},
   "outputs": [
    {
     "data": {
      "text/plain": [
       "count      4993.000000\n",
       "mean      11638.219107\n",
       "std       26719.438432\n",
       "min           0.000000\n",
       "25%          61.000000\n",
       "50%        2041.000000\n",
       "75%       11585.000000\n",
       "max      399555.000000\n",
       "Name: statuses_count, dtype: float64"
      ]
     },
     "execution_count": 101,
     "metadata": {},
     "output_type": "execute_result"
    }
   ],
   "source": [
    "users[users.bot == 0].statuses_count[~null_statuses_count_ids].describe()"
   ]
  },
  {
   "cell_type": "code",
   "execution_count": 102,
   "id": "d2145e5b",
   "metadata": {},
   "outputs": [
    {
     "data": {
      "image/png": "[encoded data removed]",
      "text/plain": [
       "<Figure size 640x480 with 1 Axes>"
      ]
     },
     "metadata": {},
     "output_type": "display_data"
    }
   ],
   "source": [
    "users[users.bot == 0].statuses_count[~null_statuses_count_ids].hist()\n",
    "plt.show()"
   ]
  },
  {
   "cell_type": "code",
   "execution_count": 103,
   "id": "a9c9ff8c",
   "metadata": {},
   "outputs": [
    {
     "data": {
      "image/png": "[encoded data removed]",
      "text/plain": [
       "<Figure size 640x480 with 1 Axes>"
      ]
     },
     "metadata": {},
     "output_type": "display_data"
    }
   ],
   "source": [
    "pd.DataFrame(users[users.bot == 0].statuses_count[~null_statuses_count_ids]).boxplot()\n",
    "plt.show()"
   ]
  },
  {
   "cell_type": "code",
   "execution_count": 104,
   "id": "ac29a600",
   "metadata": {},
   "outputs": [
    {
     "data": {
      "image/png": "[encoded data removed]",
      "text/plain": [
       "<Figure size 640x480 with 1 Axes>"
      ]
     },
     "metadata": {},
     "output_type": "display_data"
    }
   ],
   "source": [
    "log_feature_nobot = pd.Series(np.log(users[users.bot == 0].statuses_count[~null_statuses_count_ids] + 1))\n",
    "log_feature_nobot.hist()\n",
    "plt.show()"
   ]
  },
  {
   "cell_type": "code",
   "execution_count": 105,
   "id": "e24359ba",
   "metadata": {},
   "outputs": [
    {
     "data": {
      "image/png": "[encoded data removed]",
      "text/plain": [
       "<Figure size 640x480 with 1 Axes>"
      ]
     },
     "metadata": {},
     "output_type": "display_data"
    }
   ],
   "source": [
    "pd.DataFrame(log_feature_nobot).boxplot()\n",
    "plt.show()"
   ]
  },
  {
   "cell_type": "code",
   "execution_count": 106,
   "id": "c431ccfb",
   "metadata": {},
   "outputs": [
    {
     "name": "stdout",
     "output_type": "stream",
     "text": [
      "Number of Statuses count Nan for Non Bots:  0\n",
      "count    5392.000000\n",
      "mean        7.035529\n",
      "std         2.683273\n",
      "min         0.000000\n",
      "25%         4.189655\n",
      "50%         7.621685\n",
      "75%         9.225894\n",
      "max        12.898109\n",
      "Name: statuses_count, dtype: float64\n"
     ]
    },
    {
     "data": {
      "image/png": "[encoded data removed]",
      "text/plain": [
       "<Figure size 640x480 with 1 Axes>"
      ]
     },
     "metadata": {},
     "output_type": "display_data"
    }
   ],
   "source": [
    "# remove Nan elements\n",
    "nobot_users = users[users.bot==0]\n",
    "\n",
    "\n",
    "nan_nobot_statuses_count_ids = nobot_users.statuses_count.isna()\n",
    "print(\"Number of Statuses count Nan for Non Bots: \", np.sum(nan_bot_statuses_count))\n",
    "\n",
    "median = log_feature_nobot.median()\n",
    "\n",
    "nobot_users.loc[~nan_nobot_statuses_count_ids, \"statuses_count\"] = log_feature_nobot\n",
    "nobot_users.loc[nan_nobot_statuses_count_ids, \"statuses_count\"] = median\n",
    "\n",
    "users.loc[users.bot==0, \"statuses_count\"] = nobot_users\n",
    "\n",
    "print(users.loc[users.bot==0, \"statuses_count\"].describe())\n",
    "\n",
    "users.loc[users.bot==0, \"statuses_count\"].hist()\n",
    "plt.show()"
   ]
  },
  {
   "cell_type": "code",
   "execution_count": 107,
   "id": "5516f00b",
   "metadata": {},
   "outputs": [
    {
     "data": {
      "text/plain": [
       "count      6116.000000\n",
       "mean       1185.102845\n",
       "std        5373.550630\n",
       "min           0.000000\n",
       "25%          32.000000\n",
       "50%          53.000000\n",
       "75%          78.000000\n",
       "max      214410.000000\n",
       "Name: statuses_count, dtype: float64"
      ]
     },
     "execution_count": 107,
     "metadata": {},
     "output_type": "execute_result"
    }
   ],
   "source": [
    "users[users.bot == 1].statuses_count[~null_statuses_count_ids].describe()"
   ]
  },
  {
   "cell_type": "code",
   "execution_count": 108,
   "id": "b4ab5dbd",
   "metadata": {},
   "outputs": [
    {
     "data": {
      "image/png": "[encoded data removed]",
      "text/plain": [
       "<Figure size 640x480 with 1 Axes>"
      ]
     },
     "metadata": {},
     "output_type": "display_data"
    }
   ],
   "source": [
    "users[users.bot == 1].statuses_count[~null_statuses_count_ids].hist()\n",
    "plt.show()"
   ]
  },
  {
   "cell_type": "code",
   "execution_count": 109,
   "id": "3bb83570",
   "metadata": {},
   "outputs": [
    {
     "data": {
      "image/png": "[encoded data removed]",
      "text/plain": [
       "<Figure size 640x480 with 1 Axes>"
      ]
     },
     "metadata": {},
     "output_type": "display_data"
    }
   ],
   "source": [
    "pd.DataFrame(users[users.bot == 1].statuses_count[~null_statuses_count_ids]).boxplot()\n",
    "plt.show()"
   ]
  },
  {
   "cell_type": "code",
   "execution_count": 110,
   "id": "df1e57ef",
   "metadata": {},
   "outputs": [
    {
     "data": {
      "image/png": "[encoded data removed]",
      "text/plain": [
       "<Figure size 640x480 with 1 Axes>"
      ]
     },
     "metadata": {},
     "output_type": "display_data"
    }
   ],
   "source": [
    "log_feature_bot = pd.Series(np.log(users[users.bot == 1].statuses_count[~null_statuses_count_ids] + 1))\n",
    "log_feature_bot.hist()\n",
    "plt.show()"
   ]
  },
  {
   "cell_type": "code",
   "execution_count": 111,
   "id": "587b0129",
   "metadata": {},
   "outputs": [
    {
     "data": {
      "image/png": "[encoded data removed]",
      "text/plain": [
       "<Figure size 640x480 with 1 Axes>"
      ]
     },
     "metadata": {},
     "output_type": "display_data"
    }
   ],
   "source": [
    "pd.DataFrame(log_feature_bot).boxplot()\n",
    "plt.show()\n",
    "\n",
    "# we can see that there are some outliers"
   ]
  },
  {
   "cell_type": "code",
   "execution_count": 112,
   "id": "68fe9700",
   "metadata": {},
   "outputs": [
    {
     "data": {
      "image/png": "[encoded data removed]",
      "text/plain": [
       "<Figure size 640x480 with 1 Axes>"
      ]
     },
     "metadata": {},
     "output_type": "display_data"
    }
   ],
   "source": [
    "# removing outliers \n",
    "IQR = log_feature_bot.quantile(0.75) - log_feature_bot.quantile(0.25)\n",
    "outlier_1 = log_feature_bot.quantile(0.75) + 1.5*IQR\n",
    "outlier_2 = log_feature_bot.quantile(0.25) - 1.5*IQR\n",
    "\n",
    "log_feature_bot[log_feature_bot > outlier_1] = outlier_1\n",
    "log_feature_bot[log_feature_bot < outlier_2] = outlier_2\n",
    "\n",
    "pd.DataFrame(log_feature_bot).boxplot()\n",
    "plt.show()"
   ]
  },
  {
   "cell_type": "code",
   "execution_count": 113,
   "id": "32e5e0be",
   "metadata": {},
   "outputs": [
    {
     "name": "stdout",
     "output_type": "stream",
     "text": [
      "Number of Statuses count Nan for Bots:  0\n",
      "count    6116.000000\n",
      "mean        4.041975\n",
      "std         0.934210\n",
      "min         2.187097\n",
      "25%         3.496508\n",
      "50%         3.988984\n",
      "75%         4.369448\n",
      "max         5.678858\n",
      "Name: statuses_count, dtype: float64\n"
     ]
    },
    {
     "data": {
      "image/png": "[encoded data removed]",
      "text/plain": [
       "<Figure size 640x480 with 1 Axes>"
      ]
     },
     "metadata": {},
     "output_type": "display_data"
    }
   ],
   "source": [
    "nan_bot_statuses_count = users[users.bot==1].statuses_count.isna()\n",
    "print(\"Number of Statuses count Nan for Bots: \", np.sum(nan_bot_statuses_count))\n",
    "\n",
    "#TODO: perche si schianta?\n",
    "users.loc[users.bot==1, \"statuses_count\"] = log_feature_bot\n",
    "\n",
    "print(users.loc[users.bot==1, \"statuses_count\"].describe())\n",
    "\n",
    "users.loc[users.bot==1, \"statuses_count\"].hist()\n",
    "plt.show()"
   ]
  },
  {
   "cell_type": "markdown",
   "id": "ac684328",
   "metadata": {},
   "source": [
    "# Tweets"
   ]
  },
  {
   "cell_type": "code",
   "execution_count": 114,
   "id": "f05f80d5",
   "metadata": {},
   "outputs": [],
   "source": [
    "tweets = pd.read_csv(\"dataset/tweets.csv\", index_col=0)"
   ]
  },
  {
   "cell_type": "code",
   "execution_count": 118,
   "id": "1bef3e6f",
   "metadata": {},
   "outputs": [
    {
     "data": {
      "text/html": [
       "<div>\n",
       "<style scoped>\n",
       "    .dataframe tbody tr th:only-of-type {\n",
       "        vertical-align: middle;\n",
       "    }\n",
       "\n",
       "    .dataframe tbody tr th {\n",
       "        vertical-align: top;\n",
       "    }\n",
       "\n",
       "    .dataframe thead th {\n",
       "        text-align: right;\n",
       "    }\n",
       "</style>\n",
       "<table border=\"1\" class=\"dataframe\">\n",
       "  <thead>\n",
       "    <tr style=\"text-align: right;\">\n",
       "      <th></th>\n",
       "      <th>user_id</th>\n",
       "      <th>retweet_count</th>\n",
       "      <th>reply_count</th>\n",
       "      <th>favorite_count</th>\n",
       "      <th>num_hashtags</th>\n",
       "      <th>num_urls</th>\n",
       "      <th>num_mentions</th>\n",
       "      <th>created_at</th>\n",
       "      <th>text</th>\n",
       "    </tr>\n",
       "    <tr>\n",
       "      <th>id</th>\n",
       "      <th></th>\n",
       "      <th></th>\n",
       "      <th></th>\n",
       "      <th></th>\n",
       "      <th></th>\n",
       "      <th></th>\n",
       "      <th></th>\n",
       "      <th></th>\n",
       "      <th></th>\n",
       "    </tr>\n",
       "  </thead>\n",
       "  <tbody>\n",
       "    <tr>\n",
       "      <th>509354017856950272</th>\n",
       "      <td>327746321</td>\n",
       "      <td>0</td>\n",
       "      <td>0</td>\n",
       "      <td>0</td>\n",
       "      <td>0</td>\n",
       "      <td>0</td>\n",
       "      <td>0</td>\n",
       "      <td>2019-09-11 14:53:55</td>\n",
       "      <td>If man is a little lower than angels, then ang...</td>\n",
       "    </tr>\n",
       "    <tr>\n",
       "      <th>583002592529121280</th>\n",
       "      <td>333722906</td>\n",
       "      <td>1</td>\n",
       "      <td>0</td>\n",
       "      <td>0</td>\n",
       "      <td>0</td>\n",
       "      <td>0</td>\n",
       "      <td>1</td>\n",
       "      <td>2020-04-01 20:27:04</td>\n",
       "      <td>\"@BestWSHHVids: how do you say these words wit...</td>\n",
       "    </tr>\n",
       "    <tr>\n",
       "      <th>461498835362013185</th>\n",
       "      <td>2379755827</td>\n",
       "      <td>0</td>\n",
       "      <td>0</td>\n",
       "      <td>0</td>\n",
       "      <td>0</td>\n",
       "      <td>0</td>\n",
       "      <td>1</td>\n",
       "      <td>2019-05-02 13:34:31</td>\n",
       "      <td>@LOLatComedy awsome</td>\n",
       "    </tr>\n",
       "    <tr>\n",
       "      <th>528808127366692864</th>\n",
       "      <td>466226882</td>\n",
       "      <td>0</td>\n",
       "      <td>0</td>\n",
       "      <td>0</td>\n",
       "      <td>0</td>\n",
       "      <td>0</td>\n",
       "      <td>0</td>\n",
       "      <td>2019-11-04 07:17:37</td>\n",
       "      <td>Stephen Hawkins: i buchi neri non esistono se ...</td>\n",
       "    </tr>\n",
       "    <tr>\n",
       "      <th>575336690904006656</th>\n",
       "      <td>1355537995</td>\n",
       "      <td>114</td>\n",
       "      <td>0</td>\n",
       "      <td>0</td>\n",
       "      <td>1</td>\n",
       "      <td>0</td>\n",
       "      <td>1</td>\n",
       "      <td>2020-03-11 16:45:31</td>\n",
       "      <td>RT @tibbs_montris: So ready for Wednesday!</td>\n",
       "    </tr>\n",
       "  </tbody>\n",
       "</table>\n",
       "</div>"
      ],
      "text/plain": [
       "                       user_id retweet_count reply_count favorite_count  \\\n",
       "id                                                                        \n",
       "509354017856950272   327746321             0           0              0   \n",
       "583002592529121280   333722906             1           0              0   \n",
       "461498835362013185  2379755827             0           0              0   \n",
       "528808127366692864   466226882             0           0              0   \n",
       "575336690904006656  1355537995           114           0              0   \n",
       "\n",
       "                   num_hashtags num_urls num_mentions           created_at  \\\n",
       "id                                                                           \n",
       "509354017856950272            0        0            0  2019-09-11 14:53:55   \n",
       "583002592529121280            0        0            1  2020-04-01 20:27:04   \n",
       "461498835362013185            0        0            1  2019-05-02 13:34:31   \n",
       "528808127366692864            0        0            0  2019-11-04 07:17:37   \n",
       "575336690904006656            1        0            1  2020-03-11 16:45:31   \n",
       "\n",
       "                                                                 text  \n",
       "id                                                                     \n",
       "509354017856950272  If man is a little lower than angels, then ang...  \n",
       "583002592529121280  \"@BestWSHHVids: how do you say these words wit...  \n",
       "461498835362013185                                @LOLatComedy awsome  \n",
       "528808127366692864  Stephen Hawkins: i buchi neri non esistono se ...  \n",
       "575336690904006656        RT @tibbs_montris: So ready for Wednesday!   "
      ]
     },
     "execution_count": 118,
     "metadata": {},
     "output_type": "execute_result"
    }
   ],
   "source": [
    "tweets.head()"
   ]
  },
  {
   "cell_type": "code",
   "execution_count": 119,
   "id": "50037567",
   "metadata": {},
   "outputs": [
    {
     "data": {
      "text/plain": [
       "(13664696, 9)"
      ]
     },
     "execution_count": 119,
     "metadata": {},
     "output_type": "execute_result"
    }
   ],
   "source": [
    "tweets.shape"
   ]
  },
  {
   "cell_type": "code",
   "execution_count": 120,
   "id": "45cb81a7",
   "metadata": {},
   "outputs": [
    {
     "name": "stdout",
     "output_type": "stream",
     "text": [
      "<class 'pandas.core.frame.DataFrame'>\n",
      "Index: 13664696 entries, 509354017856950272 to 486479812614451200\n",
      "Data columns (total 9 columns):\n",
      " #   Column          Dtype \n",
      "---  ------          ----- \n",
      " 0   user_id         object\n",
      " 1   retweet_count   object\n",
      " 2   reply_count     object\n",
      " 3   favorite_count  object\n",
      " 4   num_hashtags    object\n",
      " 5   num_urls        object\n",
      " 6   num_mentions    object\n",
      " 7   created_at      object\n",
      " 8   text            object\n",
      "dtypes: object(9)\n",
      "memory usage: 1.0+ GB\n"
     ]
    }
   ],
   "source": [
    "tweets.info()"
   ]
  },
  {
   "cell_type": "markdown",
   "id": "efaae736",
   "metadata": {},
   "source": [
    "## Index"
   ]
  },
  {
   "cell_type": "code",
   "execution_count": 121,
   "id": "63a2ae42",
   "metadata": {},
   "outputs": [],
   "source": [
    "# see the distribution of the lenght of the index\n",
    "vlen = np.vectorize(lambda x: len(str(x)))\n",
    "indexes = pd.Series(vlen(tweets.index.to_numpy()))"
   ]
  },
  {
   "cell_type": "code",
   "execution_count": 122,
   "id": "7719d300",
   "metadata": {},
   "outputs": [
    {
     "data": {
      "text/plain": [
       "18    11768032\n",
       "10      260089\n",
       "17      257383\n",
       "9       244274\n",
       "8       243829\n",
       "11      196364\n",
       "15      190738\n",
       "16      190716\n",
       "7        73470\n",
       "6        56160\n",
       "5        54575\n",
       "4        54307\n",
       "3        53785\n",
       "14       18930\n",
       "13        1838\n",
       "12         206\n",
       "dtype: int64"
      ]
     },
     "execution_count": 122,
     "metadata": {},
     "output_type": "execute_result"
    }
   ],
   "source": [
    "indexes.value_counts()"
   ]
  },
  {
   "cell_type": "code",
   "execution_count": 123,
   "id": "74293c5f",
   "metadata": {},
   "outputs": [
    {
     "name": "stdout",
     "output_type": "stream",
     "text": [
      "dmy                   14\n",
      "qsa                   12\n",
      "jgm                   11\n",
      "nis                   11\n",
      "rdw                   11\n",
      "                      ..\n",
      "39790722903            1\n",
      "2315433335             1\n",
      "588516208669904896     1\n",
      "582303273803243521     1\n",
      "486479812614451200     1\n",
      "Name: id, Length: 11672135, dtype: int64\n"
     ]
    }
   ],
   "source": [
    "# see if some indexes are duplicated\n",
    "index_value_counts = tweets.index.value_counts()\n",
    "print(index_value_counts)"
   ]
  },
  {
   "cell_type": "code",
   "execution_count": 124,
   "id": "46704b92",
   "metadata": {},
   "outputs": [
    {
     "data": {
      "text/plain": [
       "dmy                   14\n",
       "qsa                   12\n",
       "jgm                   11\n",
       "nis                   11\n",
       "rdw                   11\n",
       "                      ..\n",
       "525746165019840513     2\n",
       "314469529713512448     2\n",
       "552992073792499712     2\n",
       "427843738061533185     2\n",
       "512636477051002880     2\n",
       "Name: id, Length: 1969699, dtype: int64"
      ]
     },
     "execution_count": 124,
     "metadata": {},
     "output_type": "execute_result"
    }
   ],
   "source": [
    "# we can see that some index are not numbers and are duplicated\n",
    "# which index are duplicated\n",
    "index_value_counts[index_value_counts > 1]"
   ]
  },
  {
   "cell_type": "code",
   "execution_count": 125,
   "id": "2a587b7b",
   "metadata": {},
   "outputs": [],
   "source": [
    "# drop duplicated rows, dropping the row that have all the values duplicated not only the id\n",
    "not_duplicated_tweets = tweets.drop_duplicates()"
   ]
  },
  {
   "cell_type": "code",
   "execution_count": 126,
   "id": "7e1b588c",
   "metadata": {},
   "outputs": [
    {
     "data": {
      "text/plain": [
       "(11712093, 9)"
      ]
     },
     "execution_count": 126,
     "metadata": {},
     "output_type": "execute_result"
    }
   ],
   "source": [
    "not_duplicated_tweets.shape"
   ]
  },
  {
   "cell_type": "code",
   "execution_count": 127,
   "id": "8abcd031",
   "metadata": {},
   "outputs": [
    {
     "name": "stdout",
     "output_type": "stream",
     "text": [
      "removed rows : 1952603\n"
     ]
    }
   ],
   "source": [
    "print(f\"removed rows : {13664696 - 11712093}\")"
   ]
  },
  {
   "cell_type": "code",
   "execution_count": 128,
   "id": "61b7ce0c",
   "metadata": {},
   "outputs": [
    {
     "name": "stdout",
     "output_type": "stream",
     "text": [
      "dmy                   14\n",
      "qsa                   12\n",
      "mxo                   11\n",
      "nis                   11\n",
      "rdw                   11\n",
      "                      ..\n",
      "472403921332613120     1\n",
      "583261659797426176     1\n",
      "361607898599657473     1\n",
      "582869903788634113     1\n",
      "486479812614451200     1\n",
      "Name: id, Length: 11671631, dtype: int64\n"
     ]
    }
   ],
   "source": [
    "index_value_counts = not_duplicated_tweets.index.value_counts()\n",
    "print(index_value_counts)"
   ]
  },
  {
   "cell_type": "code",
   "execution_count": 129,
   "id": "8e9ea156",
   "metadata": {},
   "outputs": [
    {
     "data": {
      "text/html": [
       "<div>\n",
       "<style scoped>\n",
       "    .dataframe tbody tr th:only-of-type {\n",
       "        vertical-align: middle;\n",
       "    }\n",
       "\n",
       "    .dataframe tbody tr th {\n",
       "        vertical-align: top;\n",
       "    }\n",
       "\n",
       "    .dataframe thead th {\n",
       "        text-align: right;\n",
       "    }\n",
       "</style>\n",
       "<table border=\"1\" class=\"dataframe\">\n",
       "  <thead>\n",
       "    <tr style=\"text-align: right;\">\n",
       "      <th></th>\n",
       "      <th>user_id</th>\n",
       "      <th>retweet_count</th>\n",
       "      <th>reply_count</th>\n",
       "      <th>favorite_count</th>\n",
       "      <th>num_hashtags</th>\n",
       "      <th>num_urls</th>\n",
       "      <th>num_mentions</th>\n",
       "      <th>created_at</th>\n",
       "      <th>text</th>\n",
       "    </tr>\n",
       "    <tr>\n",
       "      <th>id</th>\n",
       "      <th></th>\n",
       "      <th></th>\n",
       "      <th></th>\n",
       "      <th></th>\n",
       "      <th></th>\n",
       "      <th></th>\n",
       "      <th></th>\n",
       "      <th></th>\n",
       "      <th></th>\n",
       "    </tr>\n",
       "  </thead>\n",
       "  <tbody>\n",
       "    <tr>\n",
       "      <th>dmy</th>\n",
       "      <td>2882736641</td>\n",
       "      <td>NaN</td>\n",
       "      <td>NaN</td>\n",
       "      <td>NaN</td>\n",
       "      <td>NaN</td>\n",
       "      <td>NaN</td>\n",
       "      <td>NaN</td>\n",
       "      <td>2020-04-24 17:07:08</td>\n",
       "      <td>NaN</td>\n",
       "    </tr>\n",
       "    <tr>\n",
       "      <th>dmy</th>\n",
       "      <td>138492664</td>\n",
       "      <td>NaN</td>\n",
       "      <td>NaN</td>\n",
       "      <td>NaN</td>\n",
       "      <td>NaN</td>\n",
       "      <td>NaN</td>\n",
       "      <td>NaN</td>\n",
       "      <td>2020-04-29 13:07:05</td>\n",
       "      <td>NaN</td>\n",
       "    </tr>\n",
       "    <tr>\n",
       "      <th>dmy</th>\n",
       "      <td>NaN</td>\n",
       "      <td>NaN</td>\n",
       "      <td>NaN</td>\n",
       "      <td>NaN</td>\n",
       "      <td>NaN</td>\n",
       "      <td>NaN</td>\n",
       "      <td>NaN</td>\n",
       "      <td>2019-04-10 01:52:25</td>\n",
       "      <td>NaN</td>\n",
       "    </tr>\n",
       "    <tr>\n",
       "      <th>dmy</th>\n",
       "      <td>467136996</td>\n",
       "      <td>NaN</td>\n",
       "      <td>NaN</td>\n",
       "      <td>NaN</td>\n",
       "      <td>NaN</td>\n",
       "      <td>NaN</td>\n",
       "      <td>NaN</td>\n",
       "      <td>2019-10-17 06:21:50</td>\n",
       "      <td>NaN</td>\n",
       "    </tr>\n",
       "    <tr>\n",
       "      <th>dmy</th>\n",
       "      <td>816485959</td>\n",
       "      <td>NaN</td>\n",
       "      <td>NaN</td>\n",
       "      <td>NaN</td>\n",
       "      <td>NaN</td>\n",
       "      <td>NaN</td>\n",
       "      <td>NaN</td>\n",
       "      <td>2019-11-09 17:24:53</td>\n",
       "      <td>NaN</td>\n",
       "    </tr>\n",
       "    <tr>\n",
       "      <th>dmy</th>\n",
       "      <td>531252639</td>\n",
       "      <td>NaN</td>\n",
       "      <td>NaN</td>\n",
       "      <td>NaN</td>\n",
       "      <td>NaN</td>\n",
       "      <td>NaN</td>\n",
       "      <td>NaN</td>\n",
       "      <td>2019-11-08 21:28:02</td>\n",
       "      <td>NaN</td>\n",
       "    </tr>\n",
       "    <tr>\n",
       "      <th>dmy</th>\n",
       "      <td>520977237</td>\n",
       "      <td>NaN</td>\n",
       "      <td>NaN</td>\n",
       "      <td>NaN</td>\n",
       "      <td>NaN</td>\n",
       "      <td>NaN</td>\n",
       "      <td>NaN</td>\n",
       "      <td>2019-04-06 01:58:36</td>\n",
       "      <td>NaN</td>\n",
       "    </tr>\n",
       "    <tr>\n",
       "      <th>dmy</th>\n",
       "      <td>535901760</td>\n",
       "      <td>NaN</td>\n",
       "      <td>NaN</td>\n",
       "      <td>NaN</td>\n",
       "      <td>NaN</td>\n",
       "      <td>NaN</td>\n",
       "      <td>NaN</td>\n",
       "      <td>2019-11-06 04:07:20</td>\n",
       "      <td>NaN</td>\n",
       "    </tr>\n",
       "    <tr>\n",
       "      <th>dmy</th>\n",
       "      <td>2351661655</td>\n",
       "      <td>NaN</td>\n",
       "      <td>NaN</td>\n",
       "      <td>NaN</td>\n",
       "      <td>NaN</td>\n",
       "      <td>NaN</td>\n",
       "      <td>NaN</td>\n",
       "      <td>2019-06-07 04:55:39</td>\n",
       "      <td>NaN</td>\n",
       "    </tr>\n",
       "    <tr>\n",
       "      <th>dmy</th>\n",
       "      <td>2183434100</td>\n",
       "      <td>NaN</td>\n",
       "      <td>NaN</td>\n",
       "      <td>NaN</td>\n",
       "      <td>NaN</td>\n",
       "      <td>NaN</td>\n",
       "      <td>NaN</td>\n",
       "      <td>2020-04-17 17:21:05</td>\n",
       "      <td>NaN</td>\n",
       "    </tr>\n",
       "    <tr>\n",
       "      <th>dmy</th>\n",
       "      <td>2359781660</td>\n",
       "      <td>NaN</td>\n",
       "      <td>NaN</td>\n",
       "      <td>NaN</td>\n",
       "      <td>NaN</td>\n",
       "      <td>NaN</td>\n",
       "      <td>NaN</td>\n",
       "      <td>2019-04-05 20:16:57</td>\n",
       "      <td>NaN</td>\n",
       "    </tr>\n",
       "    <tr>\n",
       "      <th>dmy</th>\n",
       "      <td>406828178</td>\n",
       "      <td>NaN</td>\n",
       "      <td>NaN</td>\n",
       "      <td>NaN</td>\n",
       "      <td>NaN</td>\n",
       "      <td>NaN</td>\n",
       "      <td>NaN</td>\n",
       "      <td>2017-02-26 13:03:18</td>\n",
       "      <td>NaN</td>\n",
       "    </tr>\n",
       "    <tr>\n",
       "      <th>dmy</th>\n",
       "      <td>xc41pjwq</td>\n",
       "      <td>NaN</td>\n",
       "      <td>NaN</td>\n",
       "      <td>NaN</td>\n",
       "      <td>NaN</td>\n",
       "      <td>NaN</td>\n",
       "      <td>NaN</td>\n",
       "      <td>2019-05-01 16:21:27</td>\n",
       "      <td>NaN</td>\n",
       "    </tr>\n",
       "    <tr>\n",
       "      <th>dmy</th>\n",
       "      <td>539138964</td>\n",
       "      <td>NaN</td>\n",
       "      <td>NaN</td>\n",
       "      <td>NaN</td>\n",
       "      <td>NaN</td>\n",
       "      <td>NaN</td>\n",
       "      <td>NaN</td>\n",
       "      <td>2019-05-28 21:23:26</td>\n",
       "      <td>NaN</td>\n",
       "    </tr>\n",
       "  </tbody>\n",
       "</table>\n",
       "</div>"
      ],
      "text/plain": [
       "        user_id retweet_count reply_count favorite_count num_hashtags  \\\n",
       "id                                                                      \n",
       "dmy  2882736641           NaN         NaN            NaN          NaN   \n",
       "dmy   138492664           NaN         NaN            NaN          NaN   \n",
       "dmy         NaN           NaN         NaN            NaN          NaN   \n",
       "dmy   467136996           NaN         NaN            NaN          NaN   \n",
       "dmy   816485959           NaN         NaN            NaN          NaN   \n",
       "dmy   531252639           NaN         NaN            NaN          NaN   \n",
       "dmy   520977237           NaN         NaN            NaN          NaN   \n",
       "dmy   535901760           NaN         NaN            NaN          NaN   \n",
       "dmy  2351661655           NaN         NaN            NaN          NaN   \n",
       "dmy  2183434100           NaN         NaN            NaN          NaN   \n",
       "dmy  2359781660           NaN         NaN            NaN          NaN   \n",
       "dmy   406828178           NaN         NaN            NaN          NaN   \n",
       "dmy    xc41pjwq           NaN         NaN            NaN          NaN   \n",
       "dmy   539138964           NaN         NaN            NaN          NaN   \n",
       "\n",
       "    num_urls num_mentions           created_at text  \n",
       "id                                                   \n",
       "dmy      NaN          NaN  2020-04-24 17:07:08  NaN  \n",
       "dmy      NaN          NaN  2020-04-29 13:07:05  NaN  \n",
       "dmy      NaN          NaN  2019-04-10 01:52:25  NaN  \n",
       "dmy      NaN          NaN  2019-10-17 06:21:50  NaN  \n",
       "dmy      NaN          NaN  2019-11-09 17:24:53  NaN  \n",
       "dmy      NaN          NaN  2019-11-08 21:28:02  NaN  \n",
       "dmy      NaN          NaN  2019-04-06 01:58:36  NaN  \n",
       "dmy      NaN          NaN  2019-11-06 04:07:20  NaN  \n",
       "dmy      NaN          NaN  2019-06-07 04:55:39  NaN  \n",
       "dmy      NaN          NaN  2020-04-17 17:21:05  NaN  \n",
       "dmy      NaN          NaN  2019-04-05 20:16:57  NaN  \n",
       "dmy      NaN          NaN  2017-02-26 13:03:18  NaN  \n",
       "dmy      NaN          NaN  2019-05-01 16:21:27  NaN  \n",
       "dmy      NaN          NaN  2019-05-28 21:23:26  NaN  "
      ]
     },
     "execution_count": 129,
     "metadata": {},
     "output_type": "execute_result"
    }
   ],
   "source": [
    "not_duplicated_tweets.loc[\"dmy\"]"
   ]
  },
  {
   "cell_type": "code",
   "execution_count": 130,
   "id": "764b5a6e",
   "metadata": {},
   "outputs": [
    {
     "data": {
      "text/html": [
       "<div>\n",
       "<style scoped>\n",
       "    .dataframe tbody tr th:only-of-type {\n",
       "        vertical-align: middle;\n",
       "    }\n",
       "\n",
       "    .dataframe tbody tr th {\n",
       "        vertical-align: top;\n",
       "    }\n",
       "\n",
       "    .dataframe thead th {\n",
       "        text-align: right;\n",
       "    }\n",
       "</style>\n",
       "<table border=\"1\" class=\"dataframe\">\n",
       "  <thead>\n",
       "    <tr style=\"text-align: right;\">\n",
       "      <th></th>\n",
       "      <th>user_id</th>\n",
       "      <th>retweet_count</th>\n",
       "      <th>reply_count</th>\n",
       "      <th>favorite_count</th>\n",
       "      <th>num_hashtags</th>\n",
       "      <th>num_urls</th>\n",
       "      <th>num_mentions</th>\n",
       "      <th>created_at</th>\n",
       "      <th>text</th>\n",
       "    </tr>\n",
       "    <tr>\n",
       "      <th>id</th>\n",
       "      <th></th>\n",
       "      <th></th>\n",
       "      <th></th>\n",
       "      <th></th>\n",
       "      <th></th>\n",
       "      <th></th>\n",
       "      <th></th>\n",
       "      <th></th>\n",
       "      <th></th>\n",
       "    </tr>\n",
       "  </thead>\n",
       "  <tbody>\n",
       "    <tr>\n",
       "      <th>qsa</th>\n",
       "      <td>2969210974</td>\n",
       "      <td>NaN</td>\n",
       "      <td>NaN</td>\n",
       "      <td>NaN</td>\n",
       "      <td>NaN</td>\n",
       "      <td>NaN</td>\n",
       "      <td>NaN</td>\n",
       "      <td>2020-04-16 07:17:30</td>\n",
       "      <td>NaN</td>\n",
       "    </tr>\n",
       "    <tr>\n",
       "      <th>qsa</th>\n",
       "      <td>466307762</td>\n",
       "      <td>NaN</td>\n",
       "      <td>NaN</td>\n",
       "      <td>NaN</td>\n",
       "      <td>NaN</td>\n",
       "      <td>NaN</td>\n",
       "      <td>NaN</td>\n",
       "      <td>2019-07-20 06:17:27</td>\n",
       "      <td>NaN</td>\n",
       "    </tr>\n",
       "    <tr>\n",
       "      <th>qsa</th>\n",
       "      <td>521093819</td>\n",
       "      <td>NaN</td>\n",
       "      <td>NaN</td>\n",
       "      <td>NaN</td>\n",
       "      <td>NaN</td>\n",
       "      <td>NaN</td>\n",
       "      <td>NaN</td>\n",
       "      <td>2019-07-08 17:46:58</td>\n",
       "      <td>NaN</td>\n",
       "    </tr>\n",
       "    <tr>\n",
       "      <th>qsa</th>\n",
       "      <td>614197225</td>\n",
       "      <td>NaN</td>\n",
       "      <td>NaN</td>\n",
       "      <td>NaN</td>\n",
       "      <td>NaN</td>\n",
       "      <td>NaN</td>\n",
       "      <td>NaN</td>\n",
       "      <td>2019-11-01 21:16:45</td>\n",
       "      <td>NaN</td>\n",
       "    </tr>\n",
       "    <tr>\n",
       "      <th>qsa</th>\n",
       "      <td>2528822924</td>\n",
       "      <td>NaN</td>\n",
       "      <td>NaN</td>\n",
       "      <td>NaN</td>\n",
       "      <td>NaN</td>\n",
       "      <td>NaN</td>\n",
       "      <td>NaN</td>\n",
       "      <td>2020-03-12 01:56:45</td>\n",
       "      <td>NaN</td>\n",
       "    </tr>\n",
       "    <tr>\n",
       "      <th>qsa</th>\n",
       "      <td>2462247966</td>\n",
       "      <td>NaN</td>\n",
       "      <td>NaN</td>\n",
       "      <td>NaN</td>\n",
       "      <td>NaN</td>\n",
       "      <td>NaN</td>\n",
       "      <td>NaN</td>\n",
       "      <td>2020-03-18 04:36:32</td>\n",
       "      <td>NaN</td>\n",
       "    </tr>\n",
       "    <tr>\n",
       "      <th>qsa</th>\n",
       "      <td>466426767</td>\n",
       "      <td>NaN</td>\n",
       "      <td>NaN</td>\n",
       "      <td>NaN</td>\n",
       "      <td>NaN</td>\n",
       "      <td>NaN</td>\n",
       "      <td>NaN</td>\n",
       "      <td>2019-05-18 05:18:46</td>\n",
       "      <td>NaN</td>\n",
       "    </tr>\n",
       "    <tr>\n",
       "      <th>qsa</th>\n",
       "      <td>290054590</td>\n",
       "      <td>NaN</td>\n",
       "      <td>NaN</td>\n",
       "      <td>NaN</td>\n",
       "      <td>NaN</td>\n",
       "      <td>NaN</td>\n",
       "      <td>NaN</td>\n",
       "      <td>2019-04-12 00:10:40</td>\n",
       "      <td>NaN</td>\n",
       "    </tr>\n",
       "    <tr>\n",
       "      <th>qsa</th>\n",
       "      <td>141883652</td>\n",
       "      <td>NaN</td>\n",
       "      <td>NaN</td>\n",
       "      <td>NaN</td>\n",
       "      <td>NaN</td>\n",
       "      <td>NaN</td>\n",
       "      <td>NaN</td>\n",
       "      <td>2020-04-05 09:45:16</td>\n",
       "      <td>NaN</td>\n",
       "    </tr>\n",
       "    <tr>\n",
       "      <th>qsa</th>\n",
       "      <td>2634353643</td>\n",
       "      <td>NaN</td>\n",
       "      <td>NaN</td>\n",
       "      <td>NaN</td>\n",
       "      <td>NaN</td>\n",
       "      <td>NaN</td>\n",
       "      <td>NaN</td>\n",
       "      <td>2020-04-30 01:04:44</td>\n",
       "      <td>NaN</td>\n",
       "    </tr>\n",
       "    <tr>\n",
       "      <th>qsa</th>\n",
       "      <td>325974029</td>\n",
       "      <td>NaN</td>\n",
       "      <td>NaN</td>\n",
       "      <td>NaN</td>\n",
       "      <td>NaN</td>\n",
       "      <td>NaN</td>\n",
       "      <td>NaN</td>\n",
       "      <td>2020-03-27 04:17:52</td>\n",
       "      <td>NaN</td>\n",
       "    </tr>\n",
       "    <tr>\n",
       "      <th>qsa</th>\n",
       "      <td>3042955211</td>\n",
       "      <td>NaN</td>\n",
       "      <td>NaN</td>\n",
       "      <td>NaN</td>\n",
       "      <td>NaN</td>\n",
       "      <td>NaN</td>\n",
       "      <td>NaN</td>\n",
       "      <td>2020-03-05 16:51:58</td>\n",
       "      <td>NaN</td>\n",
       "    </tr>\n",
       "  </tbody>\n",
       "</table>\n",
       "</div>"
      ],
      "text/plain": [
       "        user_id retweet_count reply_count favorite_count num_hashtags  \\\n",
       "id                                                                      \n",
       "qsa  2969210974           NaN         NaN            NaN          NaN   \n",
       "qsa   466307762           NaN         NaN            NaN          NaN   \n",
       "qsa   521093819           NaN         NaN            NaN          NaN   \n",
       "qsa   614197225           NaN         NaN            NaN          NaN   \n",
       "qsa  2528822924           NaN         NaN            NaN          NaN   \n",
       "qsa  2462247966           NaN         NaN            NaN          NaN   \n",
       "qsa   466426767           NaN         NaN            NaN          NaN   \n",
       "qsa   290054590           NaN         NaN            NaN          NaN   \n",
       "qsa   141883652           NaN         NaN            NaN          NaN   \n",
       "qsa  2634353643           NaN         NaN            NaN          NaN   \n",
       "qsa   325974029           NaN         NaN            NaN          NaN   \n",
       "qsa  3042955211           NaN         NaN            NaN          NaN   \n",
       "\n",
       "    num_urls num_mentions           created_at text  \n",
       "id                                                   \n",
       "qsa      NaN          NaN  2020-04-16 07:17:30  NaN  \n",
       "qsa      NaN          NaN  2019-07-20 06:17:27  NaN  \n",
       "qsa      NaN          NaN  2019-07-08 17:46:58  NaN  \n",
       "qsa      NaN          NaN  2019-11-01 21:16:45  NaN  \n",
       "qsa      NaN          NaN  2020-03-12 01:56:45  NaN  \n",
       "qsa      NaN          NaN  2020-03-18 04:36:32  NaN  \n",
       "qsa      NaN          NaN  2019-05-18 05:18:46  NaN  \n",
       "qsa      NaN          NaN  2019-04-12 00:10:40  NaN  \n",
       "qsa      NaN          NaN  2020-04-05 09:45:16  NaN  \n",
       "qsa      NaN          NaN  2020-04-30 01:04:44  NaN  \n",
       "qsa      NaN          NaN  2020-03-27 04:17:52  NaN  \n",
       "qsa      NaN          NaN  2020-03-05 16:51:58  NaN  "
      ]
     },
     "execution_count": 130,
     "metadata": {},
     "output_type": "execute_result"
    }
   ],
   "source": [
    "not_duplicated_tweets.loc[\"qsa\"]"
   ]
  },
  {
   "cell_type": "code",
   "execution_count": 131,
   "id": "428fbf3c",
   "metadata": {},
   "outputs": [],
   "source": [
    "# we can see strange entries for non numerical indexes, try to eliminate them\n",
    "numerical_indexes_ids = pd.Series(not_duplicated_tweets.index.str.isnumeric())"
   ]
  },
  {
   "cell_type": "code",
   "execution_count": 132,
   "id": "5527a7ee",
   "metadata": {},
   "outputs": [],
   "source": [
    "numerical_indexes_ids[numerical_indexes_ids.isna()] = False"
   ]
  },
  {
   "cell_type": "code",
   "execution_count": 133,
   "id": "28b5ce92",
   "metadata": {},
   "outputs": [
    {
     "name": "stdout",
     "output_type": "stream",
     "text": [
      "Number of NaN element in the non numeric indexed tweets:  user_id           188364\n",
      "retweet_count     342974\n",
      "reply_count       496271\n",
      "favorite_count    496378\n",
      "num_hashtags      804930\n",
      "num_urls          497125\n",
      "num_mentions      650170\n",
      "created_at             0\n",
      "text              397261\n",
      "dtype: int64\n",
      "Total Number of element in the non numeric indexed tweets:  11278233\n",
      "Ratio of the Nan elements per column:  user_id           0.016702\n",
      "retweet_count     0.030410\n",
      "reply_count       0.044003\n",
      "favorite_count    0.044012\n",
      "num_hashtags      0.071370\n",
      "num_urls          0.044078\n",
      "num_mentions      0.057648\n",
      "created_at        0.000000\n",
      "text              0.035224\n",
      "dtype: float64\n",
      "Ratio of the Nan elements per column:  0.03816075522547627\n"
     ]
    }
   ],
   "source": [
    "# we can see the percentage of NaN element of the non numerical indexes\n",
    "nan_element = np.sum(not_duplicated_tweets[numerical_indexes_ids.to_numpy()].isna())\n",
    "total_element = not_duplicated_tweets[numerical_indexes_ids.to_numpy()].shape[0]\n",
    "\n",
    "print(\"Number of NaN element in the non numeric indexed tweets: \", nan_element)\n",
    "print(\"Total Number of element in the non numeric indexed tweets: \", total_element)\n",
    "\n",
    "ratio_per_column = nan_element/total_element\n",
    "\n",
    "print(\"Ratio of the Nan elements per column: \", ratio_per_column)\n",
    "\n",
    "print(\"Ratio of the Nan elements per column: \", ratio_per_column.mean())\n",
    "\n",
    "# the percentage of the Nan elements is too much, we can't drop that rows"
   ]
  },
  {
   "cell_type": "code",
   "execution_count": 134,
   "id": "062a078b",
   "metadata": {},
   "outputs": [
    {
     "name": "stdout",
     "output_type": "stream",
     "text": [
      "Number of NaN element in the non unique indexed tweets:  user_id            3847\n",
      "retweet_count     25452\n",
      "reply_count       38934\n",
      "favorite_count    38805\n",
      "num_hashtags      52393\n",
      "num_urls          38820\n",
      "num_mentions      47294\n",
      "created_at            0\n",
      "text              37501\n",
      "dtype: int64\n",
      "Total Number of element in the non unique indexed tweets:  58060\n",
      "Ratio of the Nan elements per column:  user_id           0.066259\n",
      "retweet_count     0.438374\n",
      "reply_count       0.670582\n",
      "favorite_count    0.668360\n",
      "num_hashtags      0.902394\n",
      "num_urls          0.668619\n",
      "num_mentions      0.814571\n",
      "created_at        0.000000\n",
      "text              0.645901\n",
      "dtype: float64\n",
      "Ratio of the Nan elements per column:  0.5416733647184904\n"
     ]
    }
   ],
   "source": [
    "# we can see the percentage of NaN element of the non unique indexes\n",
    "duplicated_index = index_value_counts[index_value_counts > 1].index.to_numpy()\n",
    "\n",
    "nan_element = np.sum(not_duplicated_tweets.loc[duplicated_index].isna())\n",
    "total_element = not_duplicated_tweets.loc[duplicated_index].shape[0]\n",
    "\n",
    "print(\"Number of NaN element in the non unique indexed tweets: \", nan_element)\n",
    "print(\"Total Number of element in the non unique indexed tweets: \", total_element)\n",
    "\n",
    "ratio_per_column = nan_element/total_element\n",
    "\n",
    "print(\"Ratio of the Nan elements per column: \", ratio_per_column)\n",
    "\n",
    "print(\"Ratio of the Nan elements per column: \", ratio_per_column.mean())\n",
    "\n",
    "# the percentage of the Nan elements is very high, we can drop that rows"
   ]
  },
  {
   "cell_type": "code",
   "execution_count": 135,
   "id": "fad32d1e",
   "metadata": {},
   "outputs": [],
   "source": [
    "not_duplicated_tweets = not_duplicated_tweets.drop(duplicated_index)"
   ]
  },
  {
   "cell_type": "code",
   "execution_count": 136,
   "id": "5f1b5b8f",
   "metadata": {},
   "outputs": [],
   "source": [
    "tweets = not_duplicated_tweets"
   ]
  },
  {
   "cell_type": "code",
   "execution_count": 137,
   "id": "1bc6847b",
   "metadata": {},
   "outputs": [
    {
     "data": {
      "text/html": [
       "<div>\n",
       "<style scoped>\n",
       "    .dataframe tbody tr th:only-of-type {\n",
       "        vertical-align: middle;\n",
       "    }\n",
       "\n",
       "    .dataframe tbody tr th {\n",
       "        vertical-align: top;\n",
       "    }\n",
       "\n",
       "    .dataframe thead th {\n",
       "        text-align: right;\n",
       "    }\n",
       "</style>\n",
       "<table border=\"1\" class=\"dataframe\">\n",
       "  <thead>\n",
       "    <tr style=\"text-align: right;\">\n",
       "      <th></th>\n",
       "      <th>user_id</th>\n",
       "      <th>retweet_count</th>\n",
       "      <th>reply_count</th>\n",
       "      <th>favorite_count</th>\n",
       "      <th>num_hashtags</th>\n",
       "      <th>num_urls</th>\n",
       "      <th>num_mentions</th>\n",
       "      <th>created_at</th>\n",
       "      <th>text</th>\n",
       "    </tr>\n",
       "    <tr>\n",
       "      <th>id</th>\n",
       "      <th></th>\n",
       "      <th></th>\n",
       "      <th></th>\n",
       "      <th></th>\n",
       "      <th></th>\n",
       "      <th></th>\n",
       "      <th></th>\n",
       "      <th></th>\n",
       "      <th></th>\n",
       "    </tr>\n",
       "  </thead>\n",
       "  <tbody>\n",
       "    <tr>\n",
       "      <th>509354017856950272</th>\n",
       "      <td>327746321</td>\n",
       "      <td>0</td>\n",
       "      <td>0</td>\n",
       "      <td>0</td>\n",
       "      <td>0</td>\n",
       "      <td>0</td>\n",
       "      <td>0</td>\n",
       "      <td>2019-09-11 14:53:55</td>\n",
       "      <td>If man is a little lower than angels, then ang...</td>\n",
       "    </tr>\n",
       "    <tr>\n",
       "      <th>583002592529121280</th>\n",
       "      <td>333722906</td>\n",
       "      <td>1</td>\n",
       "      <td>0</td>\n",
       "      <td>0</td>\n",
       "      <td>0</td>\n",
       "      <td>0</td>\n",
       "      <td>1</td>\n",
       "      <td>2020-04-01 20:27:04</td>\n",
       "      <td>\"@BestWSHHVids: how do you say these words wit...</td>\n",
       "    </tr>\n",
       "    <tr>\n",
       "      <th>461498835362013185</th>\n",
       "      <td>2379755827</td>\n",
       "      <td>0</td>\n",
       "      <td>0</td>\n",
       "      <td>0</td>\n",
       "      <td>0</td>\n",
       "      <td>0</td>\n",
       "      <td>1</td>\n",
       "      <td>2019-05-02 13:34:31</td>\n",
       "      <td>@LOLatComedy awsome</td>\n",
       "    </tr>\n",
       "    <tr>\n",
       "      <th>528808127366692864</th>\n",
       "      <td>466226882</td>\n",
       "      <td>0</td>\n",
       "      <td>0</td>\n",
       "      <td>0</td>\n",
       "      <td>0</td>\n",
       "      <td>0</td>\n",
       "      <td>0</td>\n",
       "      <td>2019-11-04 07:17:37</td>\n",
       "      <td>Stephen Hawkins: i buchi neri non esistono se ...</td>\n",
       "    </tr>\n",
       "    <tr>\n",
       "      <th>575336690904006656</th>\n",
       "      <td>1355537995</td>\n",
       "      <td>114</td>\n",
       "      <td>0</td>\n",
       "      <td>0</td>\n",
       "      <td>1</td>\n",
       "      <td>0</td>\n",
       "      <td>1</td>\n",
       "      <td>2020-03-11 16:45:31</td>\n",
       "      <td>RT @tibbs_montris: So ready for Wednesday!</td>\n",
       "    </tr>\n",
       "  </tbody>\n",
       "</table>\n",
       "</div>"
      ],
      "text/plain": [
       "                       user_id retweet_count reply_count favorite_count  \\\n",
       "id                                                                        \n",
       "509354017856950272   327746321             0           0              0   \n",
       "583002592529121280   333722906             1           0              0   \n",
       "461498835362013185  2379755827             0           0              0   \n",
       "528808127366692864   466226882             0           0              0   \n",
       "575336690904006656  1355537995           114           0              0   \n",
       "\n",
       "                   num_hashtags num_urls num_mentions           created_at  \\\n",
       "id                                                                           \n",
       "509354017856950272            0        0            0  2019-09-11 14:53:55   \n",
       "583002592529121280            0        0            1  2020-04-01 20:27:04   \n",
       "461498835362013185            0        0            1  2019-05-02 13:34:31   \n",
       "528808127366692864            0        0            0  2019-11-04 07:17:37   \n",
       "575336690904006656            1        0            1  2020-03-11 16:45:31   \n",
       "\n",
       "                                                                 text  \n",
       "id                                                                     \n",
       "509354017856950272  If man is a little lower than angels, then ang...  \n",
       "583002592529121280  \"@BestWSHHVids: how do you say these words wit...  \n",
       "461498835362013185                                @LOLatComedy awsome  \n",
       "528808127366692864  Stephen Hawkins: i buchi neri non esistono se ...  \n",
       "575336690904006656        RT @tibbs_montris: So ready for Wednesday!   "
      ]
     },
     "execution_count": 137,
     "metadata": {},
     "output_type": "execute_result"
    }
   ],
   "source": [
    "tweets.head()"
   ]
  },
  {
   "cell_type": "markdown",
   "id": "78799d46",
   "metadata": {},
   "source": [
    "## User_id"
   ]
  },
  {
   "cell_type": "code",
   "execution_count": 138,
   "id": "da2ecda3",
   "metadata": {},
   "outputs": [
    {
     "data": {
      "text/plain": [
       "491630583     3929\n",
       "497404180     3919\n",
       "1693274954    3906\n",
       "157029836     3903\n",
       "164940888     3903\n",
       "              ... \n",
       "jjxslowggo       1\n",
       "vagr             1\n",
       "mvys             1\n",
       "h7lhx            1\n",
       "tzn9s6bwj        1\n",
       "Name: user_id, Length: 218593, dtype: int64"
      ]
     },
     "execution_count": 138,
     "metadata": {},
     "output_type": "execute_result"
    }
   ],
   "source": [
    "tweets.user_id.value_counts()"
   ]
  },
  {
   "cell_type": "code",
   "execution_count": 139,
   "id": "90f6e3de",
   "metadata": {},
   "outputs": [
    {
     "name": "stdout",
     "output_type": "stream",
     "text": [
      "218594\n"
     ]
    }
   ],
   "source": [
    "unique_user_id = tweets.user_id.unique()\n",
    "print(len(unique_user_id))"
   ]
  },
  {
   "cell_type": "code",
   "execution_count": 140,
   "id": "45ee91d2",
   "metadata": {},
   "outputs": [],
   "source": [
    "numeric_user_id = pd.Series(tweets.user_id.str.isnumeric())\n",
    "numeric_user_id[numeric_user_id.isna()] = False\n",
    "\n",
    "valid_ids = numeric_user_id"
   ]
  },
  {
   "cell_type": "code",
   "execution_count": 141,
   "id": "5498bcd3",
   "metadata": {},
   "outputs": [
    {
     "name": "stdout",
     "output_type": "stream",
     "text": [
      "numerical ids 11227784\n"
     ]
    }
   ],
   "source": [
    "print(f\"numerical ids {np.sum(numeric_user_id)}\")"
   ]
  },
  {
   "cell_type": "code",
   "execution_count": 142,
   "id": "7804d3b4",
   "metadata": {},
   "outputs": [
    {
     "name": "stdout",
     "output_type": "stream",
     "text": [
      "491630583     3929\n",
      "497404180     3919\n",
      "1693274954    3906\n",
      "164940888     3903\n",
      "157029836     3903\n",
      "              ... \n",
      "790              1\n",
      "937              1\n",
      "990              1\n",
      "1213131912       1\n",
      "261              1\n",
      "Name: user_id, Length: 12164, dtype: int64\n"
     ]
    }
   ],
   "source": [
    "value_counts_number_user_id = tweets.user_id[numeric_user_id].value_counts()\n",
    "print(value_counts_number_user_id)"
   ]
  },
  {
   "cell_type": "code",
   "execution_count": 146,
   "id": "f098fc76",
   "metadata": {},
   "outputs": [],
   "source": [
    "# function to handle non negative numerical values and outliers\n",
    "\n",
    "def function_handle_nnn(feature_name = None, upperscale_bound=1e7):\n",
    "    \n",
    "    print(f\"Feature: {feature_name}\")\n",
    "    \n",
    "    # valid numbers\n",
    "    numerical_entries = pd.Series(tweets[feature_name].str.isnumeric())\n",
    "    numerical_entries[numerical_entries.isna()] = False\n",
    "    \n",
    "    numeric_count = pd.to_numeric(tweets[feature_name], errors=\"coerce\")\n",
    "    \n",
    "    \n",
    "    na_ids_count = numeric_count.isna()\n",
    "    inf_ids_count = numeric_count.apply(np.isinf)\n",
    "    negative_ids_count = numeric_count.apply(lambda x: x<0)\n",
    "    \n",
    "    print(f\"Number of NaN elements: {np.sum(na_ids_count)}\")\n",
    "    print(f\"Number of inf elements: {np.sum(inf_ids_count)}\")\n",
    "    print(f\"Number of negative elements: {np.sum(negative_ids_count)}\", end=\"\\n\")\n",
    "\n",
    "    valid_numbers = np.logical_or(na_ids_count, inf_ids_count)\n",
    "    valid_numbers = ~np.logical_or(valid_numbers, negative_ids_count)\n",
    "    valid_numbers = np.logical_and(valid_numbers, numerical_entries).astype(bool)\n",
    "        \n",
    "    description = numeric_count[valid_numbers].describe()\n",
    "    print(\"Description:\")\n",
    "    print(description, end=\"\\n\")\n",
    "    \n",
    "    value_counts = numeric_count[valid_numbers].value_counts()\n",
    "    print(\"Value counts:\")\n",
    "    print(value_counts, end=\"\\n\")\n",
    "    \n",
    "    # remove over upper bound numbers\n",
    "    valid_counts = numeric_count[valid_numbers]\n",
    "    valid_counts[valid_counts>upperscale_bound] = 0 #upperscale_bound\n",
    "    value_counts = valid_counts.value_counts()\n",
    "    print(\"No outscaled value counts:\")\n",
    "    print(value_counts, end=\"\\n\")\n",
    "    \n",
    "    numeric_count[valid_numbers] = valid_counts\n",
    "    \n",
    "    print(\"Histogram:\")\n",
    "    numeric_count[valid_numbers].hist()\n",
    "    plt.show()\n",
    "    \n",
    "    # transform powerlaw distr with log(x + 1)\n",
    "    log_transformed = pd.Series(np.log(numeric_count[valid_numbers] + 1))\n",
    "    \n",
    "    value_counts = log_transformed.value_counts()\n",
    "    print(\"Log value counts:\")\n",
    "    print(value_counts, end=\"\\n\")\n",
    "    \n",
    "    print(\"Log Histogram:\")\n",
    "    log_transformed.hist()\n",
    "    plt.show()\n",
    "    \n",
    "    # transform powerlaw distr standard scaler\n",
    "    # standard_scaler = StandardScaler()\n",
    "    # standard_transformed = pd.Series(standard_scaler.fit_transform(numeric_count[valid_numbers].to_numpy().reshape(-1, 1)).squeeze())\n",
    "    \n",
    "    # value_counts = standard_transformed.value_counts()\n",
    "    # print(\"Std value counts:\")\n",
    "    # print(value_counts, end=\"\\n\")\n",
    "    \n",
    "    # print(\"Std Histogram:\")\n",
    "    # standard_transformed.hist()\n",
    "    # plt.show()\n",
    "\n",
    "    \n",
    "    # remove outliers\n",
    "    IQR = log_transformed.quantile(0.75) - log_transformed.quantile(0.25)\n",
    "    outlier_value = log_transformed.quantile(0.75) + 1.5*IQR\n",
    "    print(\"Outlier: \", outlier_value) # often 0, so use the 90 percentile, as described in the book\n",
    "    outlier_value = log_transformed.quantile(0.90)\n",
    "    print(\"90-esimo percentile: \", outlier_value)\n",
    "    log_transformed[log_transformed>outlier_value] = outlier_value\n",
    "    \n",
    "    print(\"removed outliers\", end=\"\\n\")\n",
    "    \n",
    "    # remove non valid numbers    \n",
    "    median = log_transformed.median()\n",
    "    \n",
    "    print(median)\n",
    "    \n",
    "    numeric_count[~valid_numbers] = median\n",
    "    numeric_count[valid_numbers] = log_transformed\n",
    "    \n",
    "    print(\"removed non valid numbers\", end=\"\\n\")\n",
    "\n",
    "    value_counts = numeric_count.value_counts()\n",
    "    print(\"Value counts:\")\n",
    "    print(value_counts, end=\"\\n\")\n",
    "        \n",
    "    pd.DataFrame(numeric_count).boxplot()\n",
    "    plt.show()\n",
    "    \n",
    "    return valid_numbers, numeric_count"
   ]
  },
  {
   "cell_type": "markdown",
   "id": "f0347dce",
   "metadata": {},
   "source": [
    "## Retweet_count"
   ]
  },
  {
   "cell_type": "code",
   "execution_count": 147,
   "id": "6544e4ad",
   "metadata": {},
   "outputs": [
    {
     "name": "stdout",
     "output_type": "stream",
     "text": [
      "Feature: retweet_count\n",
      "Number of NaN elements: 597676\n",
      "Number of inf elements: 1\n",
      "Number of negative elements: 0\n",
      "Description:\n",
      "count    1.105627e+07\n",
      "mean     6.025944e+02\n",
      "std      7.163235e+04\n",
      "min      0.000000e+00\n",
      "25%      0.000000e+00\n",
      "50%      0.000000e+00\n",
      "75%      1.000000e+00\n",
      "max      2.295320e+08\n",
      "Name: retweet_count, dtype: float64\n",
      "Value counts:\n",
      "0.0         7987016\n",
      "1.0          993543\n",
      "2.0          302808\n",
      "3.0          152806\n",
      "4.0           94764\n",
      "             ...   \n",
      "23288.0           1\n",
      "17740.0           1\n",
      "237554.0          1\n",
      "26983.0           1\n",
      "376246.0          1\n",
      "Name: retweet_count, Length: 45772, dtype: int64\n",
      "No outscaled value counts:\n",
      "0.0         7987018\n",
      "1.0          993543\n",
      "2.0          302808\n",
      "3.0          152806\n",
      "4.0           94764\n",
      "             ...   \n",
      "114271.0          1\n",
      "53808.0           1\n",
      "116555.0          1\n",
      "29955.0           1\n",
      "376246.0          1\n",
      "Name: retweet_count, Length: 45770, dtype: int64\n",
      "Histogram:\n"
     ]
    },
    {
     "data": {
      "image/png": "[encoded data removed]",
      "text/plain": [
       "<Figure size 640x480 with 1 Axes>"
      ]
     },
     "metadata": {},
     "output_type": "display_data"
    },
    {
     "name": "stdout",
     "output_type": "stream",
     "text": [
      "Log value counts:\n",
      "0.000000     7987018\n",
      "0.693147      993543\n",
      "1.098612      302808\n",
      "1.386294      152806\n",
      "1.609438       94764\n",
      "              ...   \n",
      "11.646337          1\n",
      "10.893196          1\n",
      "11.666127          1\n",
      "10.307485          1\n",
      "12.838001          1\n",
      "Name: retweet_count, Length: 45770, dtype: int64\n",
      "Log Histogram:\n"
     ]
    },
    {
     "data": {
      "image/png": "[encoded data removed]",
      "text/plain": [
       "<Figure size 640x480 with 1 Axes>"
      ]
     },
     "metadata": {},
     "output_type": "display_data"
    },
    {
     "name": "stdout",
     "output_type": "stream",
     "text": [
      "Outlier:  1.732867951399863\n",
      "90-esimo percentile:  3.258096538021482\n",
      "removed outliers\n",
      "0.0\n",
      "removed non valid numbers\n",
      "Value counts:\n",
      "0.000000    8584780\n",
      "3.258097    1108103\n",
      "0.693147     993543\n",
      "1.098612     302808\n",
      "1.386294     152806\n",
      "1.609438      94764\n",
      "1.791759      65974\n",
      "1.945910      49506\n",
      "2.079442      39251\n",
      "2.197225      32618\n",
      "2.302585      27417\n",
      "2.397895      23646\n",
      "2.484907      21074\n",
      "2.564949      18581\n",
      "2.639057      17176\n",
      "2.708050      15235\n",
      "2.772589      13921\n",
      "2.833213      12848\n",
      "2.890372      11999\n",
      "2.944439      11463\n",
      "2.995732      10766\n",
      "3.044522      10327\n",
      "3.091042       9452\n",
      "3.135494       9116\n",
      "3.178054       8734\n",
      "3.218876       8125\n",
      "Name: retweet_count, dtype: int64\n"
     ]
    },
    {
     "data": {
      "image/png": "[encoded data removed]",
      "text/plain": [
       "<Figure size 640x480 with 1 Axes>"
      ]
     },
     "metadata": {},
     "output_type": "display_data"
    }
   ],
   "source": [
    "valid_numbers_retweets, cleaned_retweet_count = function_handle_nnn(\"retweet_count\")\n",
    "valid_ids = np.logical_and(valid_ids, valid_numbers_retweets)"
   ]
  },
  {
   "cell_type": "markdown",
   "id": "bb0e786c",
   "metadata": {},
   "source": [
    "## reply count"
   ]
  },
  {
   "cell_type": "code",
   "execution_count": 148,
   "id": "7a838af6",
   "metadata": {},
   "outputs": [
    {
     "name": "stdout",
     "output_type": "stream",
     "text": [
      "Feature: reply_count\n",
      "Number of NaN elements: 769229\n",
      "Number of inf elements: 1\n",
      "Number of negative elements: 0\n",
      "Description:\n",
      "count    9.858166e+06\n",
      "mean     5.585152e+00\n",
      "std      1.422651e+04\n",
      "min      0.000000e+00\n",
      "25%      0.000000e+00\n",
      "50%      0.000000e+00\n",
      "75%      0.000000e+00\n",
      "max      4.458600e+07\n",
      "Name: reply_count, dtype: float64\n",
      "Value counts:\n",
      "0.0       9841072\n",
      "1.0         13093\n",
      "2.0          1207\n",
      "3.0           421\n",
      "4.0           209\n",
      "           ...   \n",
      "508.0           1\n",
      "2755.0          1\n",
      "218.0           1\n",
      "758.0           1\n",
      "178.0           1\n",
      "Name: reply_count, Length: 655, dtype: int64\n",
      "No outscaled value counts:\n",
      "0.0       9841073\n",
      "1.0         13093\n",
      "2.0          1207\n",
      "3.0           421\n",
      "4.0           209\n",
      "           ...   \n",
      "2755.0          1\n",
      "218.0           1\n",
      "758.0           1\n",
      "566.0           1\n",
      "178.0           1\n",
      "Name: reply_count, Length: 654, dtype: int64\n",
      "Histogram:\n"
     ]
    },
    {
     "data": {
      "image/png": "[encoded data removed]",
      "text/plain": [
       "<Figure size 640x480 with 1 Axes>"
      ]
     },
     "metadata": {},
     "output_type": "display_data"
    },
    {
     "name": "stdout",
     "output_type": "stream",
     "text": [
      "Log value counts:\n",
      "0.000000    9841073\n",
      "0.693147      13093\n",
      "1.098612       1207\n",
      "1.386294        421\n",
      "1.609438        209\n",
      "             ...   \n",
      "7.921536          1\n",
      "5.389072          1\n",
      "6.632002          1\n",
      "6.340359          1\n",
      "5.187386          1\n",
      "Name: reply_count, Length: 654, dtype: int64\n",
      "Log Histogram:\n"
     ]
    },
    {
     "data": {
      "image/png": "[encoded data removed]",
      "text/plain": [
       "<Figure size 640x480 with 1 Axes>"
      ]
     },
     "metadata": {},
     "output_type": "display_data"
    },
    {
     "name": "stdout",
     "output_type": "stream",
     "text": [
      "Outlier:  0.0\n",
      "90-esimo percentile:  0.0\n",
      "removed outliers\n",
      "0.0\n",
      "removed non valid numbers\n",
      "Value counts:\n",
      "0.0    11654033\n",
      "Name: reply_count, dtype: int64\n"
     ]
    },
    {
     "data": {
      "image/png": "[encoded data removed]",
      "text/plain": [
       "<Figure size 640x480 with 1 Axes>"
      ]
     },
     "metadata": {},
     "output_type": "display_data"
    }
   ],
   "source": [
    "valid_numbers_reply, cleaned_reply_count = function_handle_nnn(\"reply_count\")\n",
    "valid_ids = np.logical_and(valid_ids, valid_numbers_reply)"
   ]
  },
  {
   "cell_type": "markdown",
   "id": "6cb879c9",
   "metadata": {},
   "source": [
    "## Favorite count"
   ]
  },
  {
   "cell_type": "code",
   "execution_count": 149,
   "id": "d5fd9438",
   "metadata": {},
   "outputs": [
    {
     "name": "stdout",
     "output_type": "stream",
     "text": [
      "Feature: favorite_count\n",
      "Number of NaN elements: 767893\n",
      "Number of inf elements: 0\n",
      "Number of negative elements: 1\n",
      "Description:\n",
      "count    9.858158e+06\n",
      "mean     5.251233e+01\n",
      "std      1.532585e+05\n",
      "min      0.000000e+00\n",
      "25%      0.000000e+00\n",
      "50%      0.000000e+00\n",
      "75%      0.000000e+00\n",
      "max      4.810824e+08\n",
      "Name: favorite_count, dtype: float64\n",
      "Value counts:\n",
      "0.0       7902560\n",
      "1.0       1175556\n",
      "2.0        339830\n",
      "3.0        152983\n",
      "4.0         83737\n",
      "           ...   \n",
      "8762.0          1\n",
      "4894.0          1\n",
      "358.0           1\n",
      "3370.0          1\n",
      "3063.0          1\n",
      "Name: favorite_count, Length: 1572, dtype: int64\n",
      "No outscaled value counts:\n",
      "0.0       7902561\n",
      "1.0       1175556\n",
      "2.0        339830\n",
      "3.0        152983\n",
      "4.0         83737\n",
      "           ...   \n",
      "1064.0          1\n",
      "546.0           1\n",
      "578.0           1\n",
      "1928.0          1\n",
      "3063.0          1\n",
      "Name: favorite_count, Length: 1571, dtype: int64\n",
      "Histogram:\n"
     ]
    },
    {
     "data": {
      "image/png": "[encoded data removed]",
      "text/plain": [
       "<Figure size 640x480 with 1 Axes>"
      ]
     },
     "metadata": {},
     "output_type": "display_data"
    },
    {
     "name": "stdout",
     "output_type": "stream",
     "text": [
      "Log value counts:\n",
      "0.000000    7902561\n",
      "0.693147    1175556\n",
      "1.098612     339830\n",
      "1.386294     152983\n",
      "1.609438      83737\n",
      "             ...   \n",
      "6.970730          1\n",
      "6.304449          1\n",
      "6.361302          1\n",
      "7.564757          1\n",
      "8.027477          1\n",
      "Name: favorite_count, Length: 1571, dtype: int64\n",
      "Log Histogram:\n"
     ]
    },
    {
     "data": {
      "image/png": "[encoded data removed]",
      "text/plain": [
       "<Figure size 640x480 with 1 Axes>"
      ]
     },
     "metadata": {},
     "output_type": "display_data"
    },
    {
     "name": "stdout",
     "output_type": "stream",
     "text": [
      "Outlier:  0.0\n",
      "90-esimo percentile:  0.6931471805599453\n",
      "removed outliers\n",
      "0.0\n",
      "removed non valid numbers\n",
      "Value counts:\n",
      "0.000000    9698436\n",
      "0.693147    1955597\n",
      "Name: favorite_count, dtype: int64\n"
     ]
    },
    {
     "data": {
      "image/png": "[encoded data removed]",
      "text/plain": [
       "<Figure size 640x480 with 1 Axes>"
      ]
     },
     "metadata": {},
     "output_type": "display_data"
    }
   ],
   "source": [
    "valid_numbers_favorite, cleaned_favorite_count = function_handle_nnn(\"favorite_count\")\n",
    "valid_ids = np.logical_and(valid_ids, valid_numbers_favorite)"
   ]
  },
  {
   "cell_type": "markdown",
   "id": "be67b0e0",
   "metadata": {},
   "source": [
    "## num hashtags"
   ]
  },
  {
   "cell_type": "code",
   "execution_count": 150,
   "id": "75b04e33",
   "metadata": {},
   "outputs": [
    {
     "name": "stdout",
     "output_type": "stream",
     "text": [
      "Feature: num_hashtags\n",
      "Number of NaN elements: 1110846\n",
      "Number of inf elements: 0\n",
      "Number of negative elements: 0\n",
      "Description:\n",
      "count    9.857950e+06\n",
      "mean     1.352402e+00\n",
      "std      2.199590e+03\n",
      "min      0.000000e+00\n",
      "25%      0.000000e+00\n",
      "50%      0.000000e+00\n",
      "75%      0.000000e+00\n",
      "max      6.747961e+06\n",
      "Name: num_hashtags, dtype: float64\n",
      "Value counts:\n",
      "0.0       8738865\n",
      "1.0        761076\n",
      "2.0        225975\n",
      "3.0         73640\n",
      "4.0         27020\n",
      "           ...   \n",
      "1847.0          1\n",
      "215.0           1\n",
      "3423.0          1\n",
      "8873.0          1\n",
      "949.0           1\n",
      "Name: num_hashtags, Length: 344, dtype: int64\n",
      "No outscaled value counts:\n",
      "0.0     8739214\n",
      "1.0      761076\n",
      "2.0      225975\n",
      "3.0       73640\n",
      "4.0       27020\n",
      "5.0       13616\n",
      "6.0        7349\n",
      "7.0        4351\n",
      "8.0        2328\n",
      "9.0        1580\n",
      "10.0        886\n",
      "11.0        393\n",
      "12.0        221\n",
      "13.0        121\n",
      "14.0         68\n",
      "15.0         34\n",
      "16.0         16\n",
      "17.0         10\n",
      "18.0          9\n",
      "28.0          9\n",
      "20.0          8\n",
      "22.0          6\n",
      "23.0          4\n",
      "25.0          3\n",
      "24.0          3\n",
      "21.0          3\n",
      "38.0          2\n",
      "19.0          2\n",
      "27.0          1\n",
      "47.0          1\n",
      "45.0          1\n",
      "Name: num_hashtags, dtype: int64\n",
      "Histogram:\n"
     ]
    },
    {
     "data": {
      "image/png": "[encoded data removed]",
      "text/plain": [
       "<Figure size 640x480 with 1 Axes>"
      ]
     },
     "metadata": {},
     "output_type": "display_data"
    },
    {
     "name": "stdout",
     "output_type": "stream",
     "text": [
      "Log value counts:\n",
      "0.000000    8739214\n",
      "0.693147     761076\n",
      "1.098612     225975\n",
      "1.386294      73640\n",
      "1.609438      27020\n",
      "1.791759      13616\n",
      "1.945910       7349\n",
      "2.079442       4351\n",
      "2.197225       2328\n",
      "2.302585       1580\n",
      "2.397895        886\n",
      "2.484907        393\n",
      "2.564949        221\n",
      "2.639057        121\n",
      "2.708050         68\n",
      "2.772589         34\n",
      "2.833213         16\n",
      "2.890372         10\n",
      "2.944439          9\n",
      "3.367296          9\n",
      "3.044522          8\n",
      "3.135494          6\n",
      "3.178054          4\n",
      "3.258097          3\n",
      "3.218876          3\n",
      "3.091042          3\n",
      "3.663562          2\n",
      "2.995732          2\n",
      "3.332205          1\n",
      "3.871201          1\n",
      "3.828641          1\n",
      "Name: num_hashtags, dtype: int64\n",
      "Log Histogram:\n"
     ]
    },
    {
     "data": {
      "image/png": "[encoded data removed]",
      "text/plain": [
       "<Figure size 640x480 with 1 Axes>"
      ]
     },
     "metadata": {},
     "output_type": "display_data"
    },
    {
     "name": "stdout",
     "output_type": "stream",
     "text": [
      "Outlier:  0.0\n",
      "90-esimo percentile:  0.6931471805599453\n",
      "removed outliers\n",
      "0.0\n",
      "removed non valid numbers\n",
      "Value counts:\n",
      "0.000000    10535297\n",
      "0.693147     1118736\n",
      "Name: num_hashtags, dtype: int64\n"
     ]
    },
    {
     "data": {
      "image/png": "[encoded data removed]",
      "text/plain": [
       "<Figure size 640x480 with 1 Axes>"
      ]
     },
     "metadata": {},
     "output_type": "display_data"
    }
   ],
   "source": [
    "valid_numbers_hashtags, cleaned_num_hashtags = function_handle_nnn(\"num_hashtags\", 50)\n",
    "valid_ids = np.logical_and(valid_ids, valid_numbers_hashtags)"
   ]
  },
  {
   "cell_type": "markdown",
   "id": "4dccbdf2",
   "metadata": {},
   "source": [
    "## Num urls"
   ]
  },
  {
   "cell_type": "code",
   "execution_count": 151,
   "id": "0ec7a84e",
   "metadata": {},
   "outputs": [
    {
     "name": "stdout",
     "output_type": "stream",
     "text": [
      "Feature: num_urls\n",
      "Number of NaN elements: 768724\n",
      "Number of inf elements: 0\n",
      "Number of negative elements: 0\n",
      "Description:\n",
      "count    9.858162e+06\n",
      "mean     8.657567e+00\n",
      "std      1.894428e+04\n",
      "min      0.000000e+00\n",
      "25%      0.000000e+00\n",
      "50%      0.000000e+00\n",
      "75%      0.000000e+00\n",
      "max      5.859340e+07\n",
      "Name: num_urls, dtype: float64\n",
      "Value counts:\n",
      "0.0        8258679\n",
      "1.0        1577950\n",
      "2.0          19849\n",
      "3.0            778\n",
      "4.0            259\n",
      "            ...   \n",
      "202.0            1\n",
      "324.0            1\n",
      "14818.0          1\n",
      "722.0            1\n",
      "260.0            1\n",
      "Name: num_urls, Length: 504, dtype: int64\n",
      "No outscaled value counts:\n",
      "0.0     8259239\n",
      "1.0     1577950\n",
      "2.0       19849\n",
      "3.0         778\n",
      "4.0         259\n",
      "5.0          52\n",
      "6.0          25\n",
      "29.0          2\n",
      "12.0          2\n",
      "11.0          1\n",
      "22.0          1\n",
      "18.0          1\n",
      "7.0           1\n",
      "28.0          1\n",
      "14.0          1\n",
      "Name: num_urls, dtype: int64\n",
      "Histogram:\n"
     ]
    },
    {
     "data": {
      "image/png": "[encoded data removed]",
      "text/plain": [
       "<Figure size 640x480 with 1 Axes>"
      ]
     },
     "metadata": {},
     "output_type": "display_data"
    },
    {
     "name": "stdout",
     "output_type": "stream",
     "text": [
      "Log value counts:\n",
      "0.000000    8259239\n",
      "0.693147    1577950\n",
      "1.098612      19849\n",
      "1.386294        778\n",
      "1.609438        259\n",
      "1.791759         52\n",
      "1.945910         25\n",
      "3.401197          2\n",
      "2.564949          2\n",
      "2.484907          1\n",
      "3.135494          1\n",
      "2.944439          1\n",
      "2.079442          1\n",
      "3.367296          1\n",
      "2.708050          1\n",
      "Name: num_urls, dtype: int64\n",
      "Log Histogram:\n"
     ]
    },
    {
     "data": {
      "image/png": "[encoded data removed]",
      "text/plain": [
       "<Figure size 640x480 with 1 Axes>"
      ]
     },
     "metadata": {},
     "output_type": "display_data"
    },
    {
     "name": "stdout",
     "output_type": "stream",
     "text": [
      "Outlier:  0.0\n",
      "90-esimo percentile:  0.6931471805599453\n",
      "removed outliers\n",
      "0.0\n",
      "removed non valid numbers\n",
      "Value counts:\n",
      "0.000000    10055110\n",
      "0.693147     1598923\n",
      "Name: num_urls, dtype: int64\n"
     ]
    },
    {
     "data": {
      "image/png": "[encoded data removed]",
      "text/plain": [
       "<Figure size 640x480 with 1 Axes>"
      ]
     },
     "metadata": {},
     "output_type": "display_data"
    }
   ],
   "source": [
    "valid_urls_mentions, cleaned_num_urls = function_handle_nnn(\"num_urls\", 30)\n",
    "valid_ids = np.logical_and(valid_ids, valid_urls_mentions)"
   ]
  },
  {
   "cell_type": "markdown",
   "id": "7f3cf218",
   "metadata": {},
   "source": [
    "## Num mentions"
   ]
  },
  {
   "cell_type": "code",
   "execution_count": 152,
   "id": "9f54fe32",
   "metadata": {},
   "outputs": [
    {
     "name": "stdout",
     "output_type": "stream",
     "text": [
      "Feature: num_mentions\n",
      "Number of NaN elements: 939919\n",
      "Number of inf elements: 0\n",
      "Number of negative elements: 0\n",
      "Description:\n",
      "count    1.071405e+07\n",
      "mean     1.176873e+00\n",
      "std      5.383661e+02\n",
      "min      0.000000e+00\n",
      "25%      0.000000e+00\n",
      "50%      0.000000e+00\n",
      "75%      1.000000e+00\n",
      "max      9.174080e+05\n",
      "Name: num_mentions, dtype: float64\n",
      "Value counts:\n",
      "0.0       6388921\n",
      "1.0       3473006\n",
      "2.0        607071\n",
      "3.0        147642\n",
      "4.0         46953\n",
      "           ...   \n",
      "24.0            1\n",
      "767.0           1\n",
      "253.0           1\n",
      "3249.0          1\n",
      "4509.0          1\n",
      "Name: num_mentions, Length: 434, dtype: int64\n",
      "No outscaled value counts:\n",
      "0.0     6389381\n",
      "1.0     3473006\n",
      "2.0      607071\n",
      "3.0      147642\n",
      "4.0       46953\n",
      "5.0       21600\n",
      "6.0       11807\n",
      "7.0        6777\n",
      "8.0        4540\n",
      "9.0        2853\n",
      "10.0       1685\n",
      "11.0        613\n",
      "12.0         94\n",
      "13.0         11\n",
      "23.0          2\n",
      "14.0          2\n",
      "22.0          2\n",
      "15.0          2\n",
      "24.0          1\n",
      "32.0          1\n",
      "17.0          1\n",
      "40.0          1\n",
      "48.0          1\n",
      "25.0          1\n",
      "36.0          1\n",
      "18.0          1\n",
      "33.0          1\n",
      "Name: num_mentions, dtype: int64\n",
      "Histogram:\n"
     ]
    },
    {
     "data": {
      "image/png": "[encoded data removed]",
      "text/plain": [
       "<Figure size 640x480 with 1 Axes>"
      ]
     },
     "metadata": {},
     "output_type": "display_data"
    },
    {
     "name": "stdout",
     "output_type": "stream",
     "text": [
      "Log value counts:\n",
      "0.000000    6389381\n",
      "0.693147    3473006\n",
      "1.098612     607071\n",
      "1.386294     147642\n",
      "1.609438      46953\n",
      "1.791759      21600\n",
      "1.945910      11807\n",
      "2.079442       6777\n",
      "2.197225       4540\n",
      "2.302585       2853\n",
      "2.397895       1685\n",
      "2.484907        613\n",
      "2.564949         94\n",
      "2.639057         11\n",
      "3.178054          2\n",
      "2.708050          2\n",
      "3.135494          2\n",
      "2.772589          2\n",
      "3.218876          1\n",
      "3.496508          1\n",
      "2.890372          1\n",
      "3.713572          1\n",
      "3.891820          1\n",
      "3.258097          1\n",
      "3.610918          1\n",
      "2.944439          1\n",
      "3.526361          1\n",
      "Name: num_mentions, dtype: int64\n",
      "Log Histogram:\n"
     ]
    },
    {
     "data": {
      "image/png": "[encoded data removed]",
      "text/plain": [
       "<Figure size 640x480 with 1 Axes>"
      ]
     },
     "metadata": {},
     "output_type": "display_data"
    },
    {
     "name": "stdout",
     "output_type": "stream",
     "text": [
      "Outlier:  1.732867951399863\n",
      "90-esimo percentile:  0.6931471805599453\n",
      "removed outliers\n",
      "0.0\n",
      "removed non valid numbers\n",
      "Value counts:\n",
      "0.000000    7329364\n",
      "0.693147    4324669\n",
      "Name: num_mentions, dtype: int64\n"
     ]
    },
    {
     "data": {
      "image/png": "[encoded data removed]",
      "text/plain": [
       "<Figure size 640x480 with 1 Axes>"
      ]
     },
     "metadata": {},
     "output_type": "display_data"
    }
   ],
   "source": [
    "valid_numbers_mentions, cleaned_num_mentions = function_handle_nnn(\"num_mentions\", 50)\n",
    "valid_ids = np.logical_and(valid_ids, valid_numbers_mentions)"
   ]
  },
  {
   "cell_type": "code",
   "execution_count": 165,
   "id": "6984378f",
   "metadata": {},
   "outputs": [],
   "source": [
    "tweets_noout = pd.DataFrame()\n",
    "\n",
    "tweets_noout[\"retweet_count\"] = np.exp(cleaned_retweet_count) - 1\n",
    "tweets_noout[\"reply_count\"] = np.exp(cleaned_reply_count) - 1\n",
    "tweets_noout[\"favorite_count\"] = np.exp(cleaned_favorite_count) - 1\n",
    "tweets_noout[\"num_hashtags\"] = np.exp(cleaned_num_hashtags) - 1\n",
    "tweets_noout[\"num_urls\"] = np.exp(cleaned_num_urls) - 1\n",
    "tweets_noout[\"num_mentions\"] = np.exp(cleaned_num_mentions) - 1\n",
    "\n",
    "tweets_noout[\"user_id\"] = tweets[\"user_id\"]\n",
    "tweets_noout[\"created_at\"] = tweets[\"created_at\"]\n",
    "tweets_noout[\"text\"] = tweets_noout[\"text\"]"
   ]
  },
  {
   "cell_type": "code",
   "execution_count": 166,
   "id": "66d6a6e5",
   "metadata": {},
   "outputs": [
    {
     "data": {
      "text/plain": [
       "(11654033, 6)"
      ]
     },
     "execution_count": 166,
     "metadata": {},
     "output_type": "execute_result"
    }
   ],
   "source": [
    "tweets_noout.shape"
   ]
  },
  {
   "cell_type": "markdown",
   "id": "575b6645",
   "metadata": {},
   "source": [
    "## numerical correlations"
   ]
  },
  {
   "cell_type": "code",
   "execution_count": 167,
   "id": "32e19b0a",
   "metadata": {},
   "outputs": [],
   "source": [
    "numerical_cols = [\"retweet_count\", \"reply_count\", \"favorite_count\", \"num_hashtags\", \"num_urls\", \"num_mentions\"]"
   ]
  },
  {
   "cell_type": "code",
   "execution_count": 168,
   "id": "a230e196",
   "metadata": {},
   "outputs": [],
   "source": [
    "sub_numerical_tweets = tweets_noout[numerical_cols]"
   ]
  },
  {
   "cell_type": "code",
   "execution_count": 169,
   "id": "7582e1e0",
   "metadata": {},
   "outputs": [
    {
     "data": {
      "text/html": [
       "<div>\n",
       "<style scoped>\n",
       "    .dataframe tbody tr th:only-of-type {\n",
       "        vertical-align: middle;\n",
       "    }\n",
       "\n",
       "    .dataframe tbody tr th {\n",
       "        vertical-align: top;\n",
       "    }\n",
       "\n",
       "    .dataframe thead th {\n",
       "        text-align: right;\n",
       "    }\n",
       "</style>\n",
       "<table border=\"1\" class=\"dataframe\">\n",
       "  <thead>\n",
       "    <tr style=\"text-align: right;\">\n",
       "      <th></th>\n",
       "      <th>retweet_count</th>\n",
       "      <th>reply_count</th>\n",
       "      <th>favorite_count</th>\n",
       "      <th>num_hashtags</th>\n",
       "      <th>num_urls</th>\n",
       "      <th>num_mentions</th>\n",
       "    </tr>\n",
       "    <tr>\n",
       "      <th>id</th>\n",
       "      <th></th>\n",
       "      <th></th>\n",
       "      <th></th>\n",
       "      <th></th>\n",
       "      <th></th>\n",
       "      <th></th>\n",
       "    </tr>\n",
       "  </thead>\n",
       "  <tbody>\n",
       "    <tr>\n",
       "      <th>509354017856950272</th>\n",
       "      <td>0.0</td>\n",
       "      <td>0.0</td>\n",
       "      <td>0.0</td>\n",
       "      <td>0.0</td>\n",
       "      <td>0.0</td>\n",
       "      <td>0.0</td>\n",
       "    </tr>\n",
       "    <tr>\n",
       "      <th>583002592529121280</th>\n",
       "      <td>1.0</td>\n",
       "      <td>0.0</td>\n",
       "      <td>0.0</td>\n",
       "      <td>0.0</td>\n",
       "      <td>0.0</td>\n",
       "      <td>1.0</td>\n",
       "    </tr>\n",
       "    <tr>\n",
       "      <th>461498835362013185</th>\n",
       "      <td>0.0</td>\n",
       "      <td>0.0</td>\n",
       "      <td>0.0</td>\n",
       "      <td>0.0</td>\n",
       "      <td>0.0</td>\n",
       "      <td>1.0</td>\n",
       "    </tr>\n",
       "    <tr>\n",
       "      <th>528808127366692864</th>\n",
       "      <td>0.0</td>\n",
       "      <td>0.0</td>\n",
       "      <td>0.0</td>\n",
       "      <td>0.0</td>\n",
       "      <td>0.0</td>\n",
       "      <td>0.0</td>\n",
       "    </tr>\n",
       "    <tr>\n",
       "      <th>575336690904006656</th>\n",
       "      <td>25.0</td>\n",
       "      <td>0.0</td>\n",
       "      <td>0.0</td>\n",
       "      <td>1.0</td>\n",
       "      <td>0.0</td>\n",
       "      <td>1.0</td>\n",
       "    </tr>\n",
       "  </tbody>\n",
       "</table>\n",
       "</div>"
      ],
      "text/plain": [
       "                    retweet_count  reply_count  favorite_count  num_hashtags  \\\n",
       "id                                                                             \n",
       "509354017856950272            0.0          0.0             0.0           0.0   \n",
       "583002592529121280            1.0          0.0             0.0           0.0   \n",
       "461498835362013185            0.0          0.0             0.0           0.0   \n",
       "528808127366692864            0.0          0.0             0.0           0.0   \n",
       "575336690904006656           25.0          0.0             0.0           1.0   \n",
       "\n",
       "                    num_urls  num_mentions  \n",
       "id                                          \n",
       "509354017856950272       0.0           0.0  \n",
       "583002592529121280       0.0           1.0  \n",
       "461498835362013185       0.0           1.0  \n",
       "528808127366692864       0.0           0.0  \n",
       "575336690904006656       0.0           1.0  "
      ]
     },
     "execution_count": 169,
     "metadata": {},
     "output_type": "execute_result"
    }
   ],
   "source": [
    "sub_numerical_tweets.head()"
   ]
  },
  {
   "cell_type": "code",
   "execution_count": 170,
   "id": "c2c6a55a",
   "metadata": {},
   "outputs": [],
   "source": [
    "sub_numerical_tweets = sub_numerical_tweets.astype(float)"
   ]
  },
  {
   "cell_type": "code",
   "execution_count": 179,
   "id": "c235a3a7",
   "metadata": {},
   "outputs": [
    {
     "data": {
      "text/html": [
       "<div>\n",
       "<style scoped>\n",
       "    .dataframe tbody tr th:only-of-type {\n",
       "        vertical-align: middle;\n",
       "    }\n",
       "\n",
       "    .dataframe tbody tr th {\n",
       "        vertical-align: top;\n",
       "    }\n",
       "\n",
       "    .dataframe thead th {\n",
       "        text-align: right;\n",
       "    }\n",
       "</style>\n",
       "<table border=\"1\" class=\"dataframe\">\n",
       "  <thead>\n",
       "    <tr style=\"text-align: right;\">\n",
       "      <th></th>\n",
       "      <th>retweet_count</th>\n",
       "      <th>reply_count</th>\n",
       "      <th>favorite_count</th>\n",
       "      <th>num_hashtags</th>\n",
       "      <th>num_urls</th>\n",
       "      <th>num_mentions</th>\n",
       "    </tr>\n",
       "  </thead>\n",
       "  <tbody>\n",
       "    <tr>\n",
       "      <th>retweet_count</th>\n",
       "      <td>1.000000</td>\n",
       "      <td>NaN</td>\n",
       "      <td>-0.118211</td>\n",
       "      <td>0.155647</td>\n",
       "      <td>0.016360</td>\n",
       "      <td>0.417717</td>\n",
       "    </tr>\n",
       "    <tr>\n",
       "      <th>reply_count</th>\n",
       "      <td>NaN</td>\n",
       "      <td>NaN</td>\n",
       "      <td>NaN</td>\n",
       "      <td>NaN</td>\n",
       "      <td>NaN</td>\n",
       "      <td>NaN</td>\n",
       "    </tr>\n",
       "    <tr>\n",
       "      <th>favorite_count</th>\n",
       "      <td>-0.118211</td>\n",
       "      <td>NaN</td>\n",
       "      <td>1.000000</td>\n",
       "      <td>-0.005260</td>\n",
       "      <td>-0.110987</td>\n",
       "      <td>-0.043320</td>\n",
       "    </tr>\n",
       "    <tr>\n",
       "      <th>num_hashtags</th>\n",
       "      <td>0.155647</td>\n",
       "      <td>NaN</td>\n",
       "      <td>-0.005260</td>\n",
       "      <td>1.000000</td>\n",
       "      <td>0.065284</td>\n",
       "      <td>0.125737</td>\n",
       "    </tr>\n",
       "    <tr>\n",
       "      <th>num_urls</th>\n",
       "      <td>0.016360</td>\n",
       "      <td>NaN</td>\n",
       "      <td>-0.110987</td>\n",
       "      <td>0.065284</td>\n",
       "      <td>1.000000</td>\n",
       "      <td>-0.042857</td>\n",
       "    </tr>\n",
       "    <tr>\n",
       "      <th>num_mentions</th>\n",
       "      <td>0.417717</td>\n",
       "      <td>NaN</td>\n",
       "      <td>-0.043320</td>\n",
       "      <td>0.125737</td>\n",
       "      <td>-0.042857</td>\n",
       "      <td>1.000000</td>\n",
       "    </tr>\n",
       "  </tbody>\n",
       "</table>\n",
       "</div>"
      ],
      "text/plain": [
       "                retweet_count  reply_count  favorite_count  num_hashtags  \\\n",
       "retweet_count        1.000000          NaN       -0.118211      0.155647   \n",
       "reply_count               NaN          NaN             NaN           NaN   \n",
       "favorite_count      -0.118211          NaN        1.000000     -0.005260   \n",
       "num_hashtags         0.155647          NaN       -0.005260      1.000000   \n",
       "num_urls             0.016360          NaN       -0.110987      0.065284   \n",
       "num_mentions         0.417717          NaN       -0.043320      0.125737   \n",
       "\n",
       "                num_urls  num_mentions  \n",
       "retweet_count   0.016360      0.417717  \n",
       "reply_count          NaN           NaN  \n",
       "favorite_count -0.110987     -0.043320  \n",
       "num_hashtags    0.065284      0.125737  \n",
       "num_urls        1.000000     -0.042857  \n",
       "num_mentions   -0.042857      1.000000  "
      ]
     },
     "execution_count": 179,
     "metadata": {},
     "output_type": "execute_result"
    }
   ],
   "source": [
    "sub_numerical_tweets.sample(10000).corr()"
   ]
  },
  {
   "cell_type": "markdown",
   "id": "0c6812fe",
   "metadata": {},
   "source": [
    "## Created at"
   ]
  },
  {
   "cell_type": "code",
   "execution_count": null,
   "id": "9980a924",
   "metadata": {},
   "outputs": [],
   "source": [
    "try:\n",
    "    pd.to_datetime(tweets.created_at, format='%Y-%m-%d %H:%M:%S', errors='raise')\n",
    "    # do something\n",
    "    print(\"All the dates are ok!\")\n",
    "except ValueError as e:\n",
    "    print(e)"
   ]
  },
  {
   "cell_type": "code",
   "execution_count": null,
   "id": "d1580d46",
   "metadata": {},
   "outputs": [],
   "source": [
    "# prima della creazione di tweetter\n",
    "tweets.created_at.min()"
   ]
  },
  {
   "cell_type": "code",
   "execution_count": null,
   "id": "f4e44528",
   "metadata": {},
   "outputs": [],
   "source": [
    "# nel futuro\n",
    "tweets.created_at.max()"
   ]
  }
 ],
 "metadata": {
  "kernelspec": {
   "display_name": "venv",
   "language": "python",
   "name": "venv"
  },
  "language_info": {
   "codemirror_mode": {
    "name": "ipython",
    "version": 3
   },
   "file_extension": ".py",
   "mimetype": "text/x-python",
   "name": "python",
   "nbconvert_exporter": "python",
   "pygments_lexer": "ipython3",
   "version": "3.9.7"
  }
 },
 "nbformat": 4,
 "nbformat_minor": 5
}
