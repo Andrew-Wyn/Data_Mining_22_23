{
 "cells": [
  {
   "cell_type": "markdown",
   "id": "c706313f",
   "metadata": {},
   "source": [
    "# Data Understanding"
   ]
  },
  {
   "cell_type": "code",
   "execution_count": 1,
   "id": "1338928a",
   "metadata": {},
   "outputs": [],
   "source": [
    "import numpy as np\n",
    "import pandas as pd\n",
    "import matplotlib.pyplot as plt\n",
    "import scipy"
   ]
  },
  {
   "cell_type": "code",
   "execution_count": 2,
   "id": "e014fb30",
   "metadata": {},
   "outputs": [],
   "source": [
    "users = pd.read_csv(\"dataset/users.csv\", index_col=0)"
   ]
  },
  {
   "cell_type": "code",
   "execution_count": 3,
   "id": "064706bf",
   "metadata": {},
   "outputs": [
    {
     "data": {
      "text/html": [
       "<div>\n",
       "<style scoped>\n",
       "    .dataframe tbody tr th:only-of-type {\n",
       "        vertical-align: middle;\n",
       "    }\n",
       "\n",
       "    .dataframe tbody tr th {\n",
       "        vertical-align: top;\n",
       "    }\n",
       "\n",
       "    .dataframe thead th {\n",
       "        text-align: right;\n",
       "    }\n",
       "</style>\n",
       "<table border=\"1\" class=\"dataframe\">\n",
       "  <thead>\n",
       "    <tr style=\"text-align: right;\">\n",
       "      <th></th>\n",
       "      <th>name</th>\n",
       "      <th>lang</th>\n",
       "      <th>bot</th>\n",
       "      <th>created_at</th>\n",
       "      <th>statuses_count</th>\n",
       "    </tr>\n",
       "    <tr>\n",
       "      <th>id</th>\n",
       "      <th></th>\n",
       "      <th></th>\n",
       "      <th></th>\n",
       "      <th></th>\n",
       "      <th></th>\n",
       "    </tr>\n",
       "  </thead>\n",
       "  <tbody>\n",
       "    <tr>\n",
       "      <th>2353593986</th>\n",
       "      <td>Lamonica Raborn</td>\n",
       "      <td>en</td>\n",
       "      <td>1</td>\n",
       "      <td>2019-02-22 18:00:42</td>\n",
       "      <td>76.0</td>\n",
       "    </tr>\n",
       "    <tr>\n",
       "      <th>2358850842</th>\n",
       "      <td>Lourie Botton</td>\n",
       "      <td>en</td>\n",
       "      <td>0</td>\n",
       "      <td>2019-02-26 03:02:32</td>\n",
       "      <td>54.0</td>\n",
       "    </tr>\n",
       "    <tr>\n",
       "      <th>137959629</th>\n",
       "      <td>Dadan Syarifudin</td>\n",
       "      <td>en</td>\n",
       "      <td>1</td>\n",
       "      <td>2015-04-30 07:09:56</td>\n",
       "      <td>3.0</td>\n",
       "    </tr>\n",
       "    <tr>\n",
       "      <th>466124818</th>\n",
       "      <td>Carletto Focia</td>\n",
       "      <td>it</td>\n",
       "      <td>1</td>\n",
       "      <td>2017-01-18 02:49:18</td>\n",
       "      <td>50.0</td>\n",
       "    </tr>\n",
       "    <tr>\n",
       "      <th>2571493866</th>\n",
       "      <td>MBK Ebook</td>\n",
       "      <td>en</td>\n",
       "      <td>0</td>\n",
       "      <td>2019-06-18 19:30:21</td>\n",
       "      <td>7085.0</td>\n",
       "    </tr>\n",
       "  </tbody>\n",
       "</table>\n",
       "</div>"
      ],
      "text/plain": [
       "                        name lang  bot           created_at  statuses_count\n",
       "id                                                                         \n",
       "2353593986   Lamonica Raborn   en    1  2019-02-22 18:00:42            76.0\n",
       "2358850842     Lourie Botton   en    0  2019-02-26 03:02:32            54.0\n",
       "137959629   Dadan Syarifudin   en    1  2015-04-30 07:09:56             3.0\n",
       "466124818     Carletto Focia   it    1  2017-01-18 02:49:18            50.0\n",
       "2571493866         MBK Ebook   en    0  2019-06-18 19:30:21          7085.0"
      ]
     },
     "execution_count": 3,
     "metadata": {},
     "output_type": "execute_result"
    }
   ],
   "source": [
    "users.head()"
   ]
  },
  {
   "cell_type": "code",
   "execution_count": 4,
   "id": "4d71c683",
   "metadata": {},
   "outputs": [
    {
     "data": {
      "text/plain": [
       "(11508, 5)"
      ]
     },
     "execution_count": 4,
     "metadata": {},
     "output_type": "execute_result"
    }
   ],
   "source": [
    "users.shape"
   ]
  },
  {
   "cell_type": "code",
   "execution_count": 5,
   "id": "9e27042c",
   "metadata": {},
   "outputs": [
    {
     "name": "stdout",
     "output_type": "stream",
     "text": [
      "<class 'pandas.core.frame.DataFrame'>\n",
      "Int64Index: 11508 entries, 2353593986 to 933183398\n",
      "Data columns (total 5 columns):\n",
      " #   Column          Non-Null Count  Dtype  \n",
      "---  ------          --------------  -----  \n",
      " 0   name            11507 non-null  object \n",
      " 1   lang            11508 non-null  object \n",
      " 2   bot             11508 non-null  int64  \n",
      " 3   created_at      11508 non-null  object \n",
      " 4   statuses_count  11109 non-null  float64\n",
      "dtypes: float64(1), int64(1), object(3)\n",
      "memory usage: 539.4+ KB\n"
     ]
    }
   ],
   "source": [
    "users.info()"
   ]
  },
  {
   "cell_type": "code",
   "execution_count": 6,
   "id": "d9341051",
   "metadata": {},
   "outputs": [
    {
     "data": {
      "text/plain": [
       "11508"
      ]
     },
     "execution_count": 6,
     "metadata": {},
     "output_type": "execute_result"
    }
   ],
   "source": [
    "len(set(users.index))"
   ]
  },
  {
   "cell_type": "markdown",
   "id": "2cdd7b19",
   "metadata": {},
   "source": [
    "## Name\n",
    "\n",
    "show the records with Null names"
   ]
  },
  {
   "cell_type": "code",
   "execution_count": 7,
   "id": "03d8ffbe",
   "metadata": {},
   "outputs": [
    {
     "data": {
      "text/html": [
       "<div>\n",
       "<style scoped>\n",
       "    .dataframe tbody tr th:only-of-type {\n",
       "        vertical-align: middle;\n",
       "    }\n",
       "\n",
       "    .dataframe tbody tr th {\n",
       "        vertical-align: top;\n",
       "    }\n",
       "\n",
       "    .dataframe thead th {\n",
       "        text-align: right;\n",
       "    }\n",
       "</style>\n",
       "<table border=\"1\" class=\"dataframe\">\n",
       "  <thead>\n",
       "    <tr style=\"text-align: right;\">\n",
       "      <th></th>\n",
       "      <th>name</th>\n",
       "      <th>lang</th>\n",
       "      <th>bot</th>\n",
       "      <th>created_at</th>\n",
       "      <th>statuses_count</th>\n",
       "    </tr>\n",
       "    <tr>\n",
       "      <th>id</th>\n",
       "      <th></th>\n",
       "      <th></th>\n",
       "      <th></th>\n",
       "      <th></th>\n",
       "      <th></th>\n",
       "    </tr>\n",
       "  </thead>\n",
       "  <tbody>\n",
       "    <tr>\n",
       "      <th>2166124159</th>\n",
       "      <td>NaN</td>\n",
       "      <td>en</td>\n",
       "      <td>0</td>\n",
       "      <td>2018-11-02 06:39:14</td>\n",
       "      <td>6566.0</td>\n",
       "    </tr>\n",
       "  </tbody>\n",
       "</table>\n",
       "</div>"
      ],
      "text/plain": [
       "           name lang  bot           created_at  statuses_count\n",
       "id                                                            \n",
       "2166124159  NaN   en    0  2018-11-02 06:39:14          6566.0"
      ]
     },
     "execution_count": 7,
     "metadata": {},
     "output_type": "execute_result"
    }
   ],
   "source": [
    "users[users.name.isna()]"
   ]
  },
  {
   "cell_type": "code",
   "execution_count": 8,
   "id": "bee01072",
   "metadata": {},
   "outputs": [],
   "source": [
    "null_names_ids = users.name.isna()"
   ]
  },
  {
   "cell_type": "markdown",
   "id": "b1ce7ced",
   "metadata": {},
   "source": [
    "## Lang"
   ]
  },
  {
   "cell_type": "code",
   "execution_count": 9,
   "id": "743a51ba",
   "metadata": {},
   "outputs": [
    {
     "data": {
      "text/plain": [
       "array(['en', 'it', 'fr', 'ru', 'es', 'tr', 'en-gb', 'pt', 'nl', 'id',\n",
       "       'zh-tw', 'ja', 'de', 'ko', 'en-AU', 'da', 'ar', 'en-GB',\n",
       "       'Select Language...', 'zh-TW', 'zh-cn', 'pl', 'el', 'fil', 'sv',\n",
       "       'xx-lc'], dtype=object)"
      ]
     },
     "execution_count": 9,
     "metadata": {},
     "output_type": "execute_result"
    }
   ],
   "source": [
    "users.lang.unique()"
   ]
  },
  {
   "cell_type": "code",
   "execution_count": 12,
   "id": "c2cb07b5",
   "metadata": {},
   "outputs": [
    {
     "data": {
      "text/plain": [
       "26"
      ]
     },
     "execution_count": 12,
     "metadata": {},
     "output_type": "execute_result"
    }
   ],
   "source": [
    "len(users.lang.unique())"
   ]
  },
  {
   "cell_type": "code",
   "execution_count": 10,
   "id": "92e97a1b",
   "metadata": {},
   "outputs": [
    {
     "data": {
      "text/plain": [
       "en                    9970\n",
       "it                     906\n",
       "es                     319\n",
       "pt                      65\n",
       "en-gb                   50\n",
       "ru                      42\n",
       "fr                      36\n",
       "ja                      33\n",
       "zh-tw                   17\n",
       "tr                      14\n",
       "id                      12\n",
       "ko                       9\n",
       "de                       8\n",
       "nl                       6\n",
       "en-GB                    4\n",
       "ar                       3\n",
       "zh-TW                    3\n",
       "da                       2\n",
       "Select Language...       2\n",
       "en-AU                    1\n",
       "zh-cn                    1\n",
       "pl                       1\n",
       "el                       1\n",
       "fil                      1\n",
       "sv                       1\n",
       "xx-lc                    1\n",
       "Name: lang, dtype: int64"
      ]
     },
     "execution_count": 10,
     "metadata": {},
     "output_type": "execute_result"
    }
   ],
   "source": [
    "users.lang.value_counts()"
   ]
  },
  {
   "cell_type": "code",
   "execution_count": 13,
   "id": "7879868d",
   "metadata": {},
   "outputs": [
    {
     "data": {
      "text/plain": [
       "<AxesSubplot: >"
      ]
     },
     "execution_count": 13,
     "metadata": {},
     "output_type": "execute_result"
    },
    {
     "data": {
      "image/png": "[encoded data removed]",
      "text/plain": [
       "<Figure size 640x480 with 1 Axes>"
      ]
     },
     "metadata": {},
     "output_type": "display_data"
    }
   ],
   "source": [
    "users.lang.hist(bins=26)"
   ]
  },
  {
   "cell_type": "code",
   "execution_count": 11,
   "id": "9391dcbb",
   "metadata": {},
   "outputs": [
    {
     "data": {
      "text/plain": [
       "array([1, 0])"
      ]
     },
     "execution_count": 11,
     "metadata": {},
     "output_type": "execute_result"
    }
   ],
   "source": [
    "users.bot.unique()"
   ]
  },
  {
   "cell_type": "code",
   "execution_count": 12,
   "id": "1ee69d7a",
   "metadata": {},
   "outputs": [
    {
     "data": {
      "text/plain": [
       "1    6116\n",
       "0    5392\n",
       "Name: bot, dtype: int64"
      ]
     },
     "execution_count": 12,
     "metadata": {},
     "output_type": "execute_result"
    }
   ],
   "source": [
    "users.bot.value_counts()"
   ]
  },
  {
   "cell_type": "markdown",
   "id": "0a36f627",
   "metadata": {},
   "source": [
    "## Created_at"
   ]
  },
  {
   "cell_type": "code",
   "execution_count": 13,
   "id": "f15ccf6d",
   "metadata": {},
   "outputs": [
    {
     "name": "stdout",
     "output_type": "stream",
     "text": [
      "All the dates are ok!\n"
     ]
    }
   ],
   "source": [
    "try:\n",
    "    pd.to_datetime(users['created_at'], format='%Y-%m-%d %H:%M:%S', errors='raise')\n",
    "    # do something\n",
    "    print(\"All the dates are ok!\")\n",
    "except ValueError as e:\n",
    "    print(e)\n"
   ]
  },
  {
   "cell_type": "code",
   "execution_count": 14,
   "id": "c0d5bbbe",
   "metadata": {},
   "outputs": [
    {
     "data": {
      "text/plain": [
       "'2012-01-24 01:57:38'"
      ]
     },
     "execution_count": 14,
     "metadata": {},
     "output_type": "execute_result"
    }
   ],
   "source": [
    "users.created_at.min()"
   ]
  },
  {
   "cell_type": "code",
   "execution_count": 15,
   "id": "8e889f1d",
   "metadata": {},
   "outputs": [
    {
     "data": {
      "text/plain": [
       "'2020-04-21 07:28:31'"
      ]
     },
     "execution_count": 15,
     "metadata": {},
     "output_type": "execute_result"
    }
   ],
   "source": [
    "users.created_at.max()"
   ]
  },
  {
   "cell_type": "code",
   "execution_count": 16,
   "id": "8fa31729",
   "metadata": {},
   "outputs": [
    {
     "data": {
      "image/png": "[encoded data removed]",
      "text/plain": [
       "<Figure size 640x480 with 1 Axes>"
      ]
     },
     "metadata": {},
     "output_type": "display_data"
    }
   ],
   "source": [
    "users.groupby(pd.to_datetime(users['created_at'], format='%Y-%m-%d %H:%M:%S', errors='raise').dt.year).count().plot(kind=\"bar\")\n",
    "plt.show()"
   ]
  },
  {
   "cell_type": "markdown",
   "id": "bd4db295",
   "metadata": {},
   "source": [
    "## Statuses_count"
   ]
  },
  {
   "cell_type": "code",
   "execution_count": 17,
   "id": "34fcc999",
   "metadata": {},
   "outputs": [],
   "source": [
    "null_statuses_count_ids = users.statuses_count.isna()"
   ]
  },
  {
   "cell_type": "code",
   "execution_count": 18,
   "id": "5294ceab",
   "metadata": {},
   "outputs": [
    {
     "data": {
      "text/plain": [
       "count     11109.000000\n",
       "mean       5883.312359\n",
       "std       19073.007305\n",
       "min           0.000000\n",
       "25%          41.000000\n",
       "50%          68.000000\n",
       "75%        2916.000000\n",
       "max      399555.000000\n",
       "Name: statuses_count, dtype: float64"
      ]
     },
     "execution_count": 18,
     "metadata": {},
     "output_type": "execute_result"
    }
   ],
   "source": [
    "users.statuses_count[~null_statuses_count_ids].describe()"
   ]
  },
  {
   "cell_type": "code",
   "execution_count": 19,
   "id": "1f19bd75",
   "metadata": {},
   "outputs": [
    {
     "data": {
      "text/plain": [
       "count      4993.000000\n",
       "mean      11638.219107\n",
       "std       26719.438432\n",
       "min           0.000000\n",
       "25%          61.000000\n",
       "50%        2041.000000\n",
       "75%       11585.000000\n",
       "max      399555.000000\n",
       "Name: statuses_count, dtype: float64"
      ]
     },
     "execution_count": 19,
     "metadata": {},
     "output_type": "execute_result"
    }
   ],
   "source": [
    "users[users.bot == 0].statuses_count[~null_statuses_count_ids].describe()"
   ]
  },
  {
   "cell_type": "code",
   "execution_count": 20,
   "id": "5516f00b",
   "metadata": {},
   "outputs": [
    {
     "data": {
      "text/plain": [
       "count      6116.000000\n",
       "mean       1185.102845\n",
       "std        5373.550630\n",
       "min           0.000000\n",
       "25%          32.000000\n",
       "50%          53.000000\n",
       "75%          78.000000\n",
       "max      214410.000000\n",
       "Name: statuses_count, dtype: float64"
      ]
     },
     "execution_count": 20,
     "metadata": {},
     "output_type": "execute_result"
    }
   ],
   "source": [
    "users[users.bot == 1].statuses_count[~null_statuses_count_ids].describe()"
   ]
  },
  {
   "cell_type": "code",
   "execution_count": 21,
   "id": "e7d9ffbf",
   "metadata": {},
   "outputs": [
    {
     "data": {
      "image/png": "[encoded data removed]",
      "text/plain": [
       "<Figure size 640x480 with 1 Axes>"
      ]
     },
     "metadata": {},
     "output_type": "display_data"
    }
   ],
   "source": [
    "pd.DataFrame(users.statuses_count[~null_statuses_count_ids]).boxplot()\n",
    "plt.show()"
   ]
  },
  {
   "cell_type": "code",
   "execution_count": 22,
   "id": "a9c9ff8c",
   "metadata": {},
   "outputs": [
    {
     "data": {
      "image/png": "[encoded data removed]",
      "text/plain": [
       "<Figure size 640x480 with 1 Axes>"
      ]
     },
     "metadata": {},
     "output_type": "display_data"
    }
   ],
   "source": [
    "pd.DataFrame(users[users.bot == 0].statuses_count[~null_statuses_count_ids]).boxplot()\n",
    "plt.show()"
   ]
  },
  {
   "cell_type": "code",
   "execution_count": 23,
   "id": "3bb83570",
   "metadata": {},
   "outputs": [
    {
     "data": {
      "image/png": "[encoded data removed]",
      "text/plain": [
       "<Figure size 640x480 with 1 Axes>"
      ]
     },
     "metadata": {},
     "output_type": "display_data"
    }
   ],
   "source": [
    "pd.DataFrame(users[users.bot == 1].statuses_count[~null_statuses_count_ids]).boxplot()\n",
    "plt.show()"
   ]
  },
  {
   "cell_type": "markdown",
   "id": "ac684328",
   "metadata": {},
   "source": [
    "## Tweets"
   ]
  },
  {
   "cell_type": "code",
   "execution_count": 14,
   "id": "f05f80d5",
   "metadata": {},
   "outputs": [],
   "source": [
    "tweets = pd.read_csv(\"dataset/tweets.csv\", index_col=0)"
   ]
  },
  {
   "cell_type": "code",
   "execution_count": 49,
   "id": "1bef3e6f",
   "metadata": {},
   "outputs": [
    {
     "data": {
      "text/html": [
       "<div>\n",
       "<style scoped>\n",
       "    .dataframe tbody tr th:only-of-type {\n",
       "        vertical-align: middle;\n",
       "    }\n",
       "\n",
       "    .dataframe tbody tr th {\n",
       "        vertical-align: top;\n",
       "    }\n",
       "\n",
       "    .dataframe thead th {\n",
       "        text-align: right;\n",
       "    }\n",
       "</style>\n",
       "<table border=\"1\" class=\"dataframe\">\n",
       "  <thead>\n",
       "    <tr style=\"text-align: right;\">\n",
       "      <th></th>\n",
       "      <th>user_id</th>\n",
       "      <th>retweet_count</th>\n",
       "      <th>reply_count</th>\n",
       "      <th>favorite_count</th>\n",
       "      <th>num_hashtags</th>\n",
       "      <th>num_urls</th>\n",
       "      <th>num_mentions</th>\n",
       "      <th>created_at</th>\n",
       "      <th>text</th>\n",
       "    </tr>\n",
       "    <tr>\n",
       "      <th>id</th>\n",
       "      <th></th>\n",
       "      <th></th>\n",
       "      <th></th>\n",
       "      <th></th>\n",
       "      <th></th>\n",
       "      <th></th>\n",
       "      <th></th>\n",
       "      <th></th>\n",
       "      <th></th>\n",
       "    </tr>\n",
       "  </thead>\n",
       "  <tbody>\n",
       "    <tr>\n",
       "      <th>509354017856950272</th>\n",
       "      <td>327746321</td>\n",
       "      <td>0</td>\n",
       "      <td>0</td>\n",
       "      <td>0</td>\n",
       "      <td>0</td>\n",
       "      <td>0</td>\n",
       "      <td>0</td>\n",
       "      <td>2019-09-11 14:53:55</td>\n",
       "      <td>If man is a little lower than angels, then ang...</td>\n",
       "    </tr>\n",
       "    <tr>\n",
       "      <th>583002592529121280</th>\n",
       "      <td>333722906</td>\n",
       "      <td>1</td>\n",
       "      <td>0</td>\n",
       "      <td>0</td>\n",
       "      <td>0</td>\n",
       "      <td>0</td>\n",
       "      <td>1</td>\n",
       "      <td>2020-04-01 20:27:04</td>\n",
       "      <td>\"@BestWSHHVids: how do you say these words wit...</td>\n",
       "    </tr>\n",
       "    <tr>\n",
       "      <th>461498835362013185</th>\n",
       "      <td>2379755827</td>\n",
       "      <td>0</td>\n",
       "      <td>0</td>\n",
       "      <td>0</td>\n",
       "      <td>0</td>\n",
       "      <td>0</td>\n",
       "      <td>1</td>\n",
       "      <td>2019-05-02 13:34:31</td>\n",
       "      <td>@LOLatComedy awsome</td>\n",
       "    </tr>\n",
       "    <tr>\n",
       "      <th>528808127366692864</th>\n",
       "      <td>466226882</td>\n",
       "      <td>0</td>\n",
       "      <td>0</td>\n",
       "      <td>0</td>\n",
       "      <td>0</td>\n",
       "      <td>0</td>\n",
       "      <td>0</td>\n",
       "      <td>2019-11-04 07:17:37</td>\n",
       "      <td>Stephen Hawkins: i buchi neri non esistono se ...</td>\n",
       "    </tr>\n",
       "    <tr>\n",
       "      <th>575336690904006656</th>\n",
       "      <td>1355537995</td>\n",
       "      <td>114</td>\n",
       "      <td>0</td>\n",
       "      <td>0</td>\n",
       "      <td>1</td>\n",
       "      <td>0</td>\n",
       "      <td>1</td>\n",
       "      <td>2020-03-11 16:45:31</td>\n",
       "      <td>RT @tibbs_montris: So ready for Wednesday!</td>\n",
       "    </tr>\n",
       "  </tbody>\n",
       "</table>\n",
       "</div>"
      ],
      "text/plain": [
       "                       user_id retweet_count reply_count favorite_count  \\\n",
       "id                                                                        \n",
       "509354017856950272   327746321             0           0              0   \n",
       "583002592529121280   333722906             1           0              0   \n",
       "461498835362013185  2379755827             0           0              0   \n",
       "528808127366692864   466226882             0           0              0   \n",
       "575336690904006656  1355537995           114           0              0   \n",
       "\n",
       "                   num_hashtags num_urls num_mentions           created_at  \\\n",
       "id                                                                           \n",
       "509354017856950272            0        0            0  2019-09-11 14:53:55   \n",
       "583002592529121280            0        0            1  2020-04-01 20:27:04   \n",
       "461498835362013185            0        0            1  2019-05-02 13:34:31   \n",
       "528808127366692864            0        0            0  2019-11-04 07:17:37   \n",
       "575336690904006656            1        0            1  2020-03-11 16:45:31   \n",
       "\n",
       "                                                                 text  \n",
       "id                                                                     \n",
       "509354017856950272  If man is a little lower than angels, then ang...  \n",
       "583002592529121280  \"@BestWSHHVids: how do you say these words wit...  \n",
       "461498835362013185                                @LOLatComedy awsome  \n",
       "528808127366692864  Stephen Hawkins: i buchi neri non esistono se ...  \n",
       "575336690904006656        RT @tibbs_montris: So ready for Wednesday!   "
      ]
     },
     "execution_count": 49,
     "metadata": {},
     "output_type": "execute_result"
    }
   ],
   "source": [
    "tweets.head()"
   ]
  },
  {
   "cell_type": "code",
   "execution_count": 50,
   "id": "50037567",
   "metadata": {},
   "outputs": [
    {
     "data": {
      "text/plain": [
       "(13664696, 9)"
      ]
     },
     "execution_count": 50,
     "metadata": {},
     "output_type": "execute_result"
    }
   ],
   "source": [
    "tweets.shape"
   ]
  },
  {
   "cell_type": "code",
   "execution_count": 51,
   "id": "45cb81a7",
   "metadata": {},
   "outputs": [
    {
     "name": "stdout",
     "output_type": "stream",
     "text": [
      "<class 'pandas.core.frame.DataFrame'>\n",
      "Index: 13664696 entries, 509354017856950272 to 486479812614451200\n",
      "Data columns (total 9 columns):\n",
      " #   Column          Dtype \n",
      "---  ------          ----- \n",
      " 0   user_id         object\n",
      " 1   retweet_count   object\n",
      " 2   reply_count     object\n",
      " 3   favorite_count  object\n",
      " 4   num_hashtags    object\n",
      " 5   num_urls        object\n",
      " 6   num_mentions    object\n",
      " 7   created_at      object\n",
      " 8   text            object\n",
      "dtypes: object(9)\n",
      "memory usage: 1.0+ GB\n"
     ]
    }
   ],
   "source": [
    "tweets.info()"
   ]
  },
  {
   "cell_type": "markdown",
   "id": "efaae736",
   "metadata": {},
   "source": [
    "## Index"
   ]
  },
  {
   "cell_type": "code",
   "execution_count": 52,
   "id": "63a2ae42",
   "metadata": {},
   "outputs": [],
   "source": [
    "# see the distribution of the lenght of the index\n",
    "vlen = np.vectorize(lambda x: len(str(x)))\n",
    "indexes = pd.Series(vlen(tweets.index.to_numpy()))"
   ]
  },
  {
   "cell_type": "code",
   "execution_count": 53,
   "id": "7719d300",
   "metadata": {},
   "outputs": [
    {
     "data": {
      "text/plain": [
       "18    11768032\n",
       "10      260089\n",
       "17      257383\n",
       "9       244274\n",
       "8       243829\n",
       "11      196364\n",
       "15      190738\n",
       "16      190716\n",
       "7        73470\n",
       "6        56160\n",
       "5        54575\n",
       "4        54307\n",
       "3        53785\n",
       "14       18930\n",
       "13        1838\n",
       "12         206\n",
       "dtype: int64"
      ]
     },
     "execution_count": 53,
     "metadata": {},
     "output_type": "execute_result"
    }
   ],
   "source": [
    "indexes.value_counts()"
   ]
  },
  {
   "cell_type": "code",
   "execution_count": 54,
   "id": "74293c5f",
   "metadata": {},
   "outputs": [
    {
     "name": "stdout",
     "output_type": "stream",
     "text": [
      "dmy                   14\n",
      "qsa                   12\n",
      "jgm                   11\n",
      "nis                   11\n",
      "rdw                   11\n",
      "                      ..\n",
      "39790722903            1\n",
      "2315433335             1\n",
      "588516208669904896     1\n",
      "582303273803243521     1\n",
      "486479812614451200     1\n",
      "Name: id, Length: 11672135, dtype: int64\n"
     ]
    }
   ],
   "source": [
    "# see if some indexes are duplicated\n",
    "index_value_counts = tweets.index.value_counts()\n",
    "print(index_value_counts)"
   ]
  },
  {
   "cell_type": "code",
   "execution_count": 55,
   "id": "46704b92",
   "metadata": {},
   "outputs": [
    {
     "data": {
      "text/plain": [
       "dmy                   14\n",
       "qsa                   12\n",
       "jgm                   11\n",
       "nis                   11\n",
       "rdw                   11\n",
       "                      ..\n",
       "525746165019840513     2\n",
       "314469529713512448     2\n",
       "552992073792499712     2\n",
       "427843738061533185     2\n",
       "512636477051002880     2\n",
       "Name: id, Length: 1969699, dtype: int64"
      ]
     },
     "execution_count": 55,
     "metadata": {},
     "output_type": "execute_result"
    }
   ],
   "source": [
    "# we can see that some index are not numbers and are duplicated\n",
    "# which index are duplicated\n",
    "index_value_counts[index_value_counts > 1]"
   ]
  },
  {
   "cell_type": "code",
   "execution_count": 56,
   "id": "d2100bcf",
   "metadata": {},
   "outputs": [
    {
     "name": "stdout",
     "output_type": "stream",
     "text": [
      "number of duplicated rows: 3962258\n"
     ]
    }
   ],
   "source": [
    "print(f\"number of duplicated rows: {index_value_counts[index_value_counts > 1].sum()}\")"
   ]
  },
  {
   "cell_type": "code",
   "execution_count": 57,
   "id": "77b63b56",
   "metadata": {},
   "outputs": [
    {
     "name": "stdout",
     "output_type": "stream",
     "text": [
      "difference between number of unique id and the number of duplication: 1992559\n"
     ]
    }
   ],
   "source": [
    "print(f\"difference between number of unique id and the number of duplication: {3962258 - 1969699}\")"
   ]
  },
  {
   "cell_type": "code",
   "execution_count": 15,
   "id": "2a587b7b",
   "metadata": {},
   "outputs": [],
   "source": [
    "# drop duplicated rows\n",
    "not_duplicated_tweets = tweets.drop_duplicates()"
   ]
  },
  {
   "cell_type": "code",
   "execution_count": 16,
   "id": "7e1b588c",
   "metadata": {},
   "outputs": [
    {
     "data": {
      "text/plain": [
       "(11712093, 9)"
      ]
     },
     "execution_count": 16,
     "metadata": {},
     "output_type": "execute_result"
    }
   ],
   "source": [
    "not_duplicated_tweets.shape"
   ]
  },
  {
   "cell_type": "code",
   "execution_count": 17,
   "id": "8abcd031",
   "metadata": {},
   "outputs": [
    {
     "name": "stdout",
     "output_type": "stream",
     "text": [
      "removed rows : 1952603\n"
     ]
    }
   ],
   "source": [
    "print(f\"removed rows : {13664696 - 11712093}\")"
   ]
  },
  {
   "cell_type": "code",
   "execution_count": 18,
   "id": "61b7ce0c",
   "metadata": {},
   "outputs": [
    {
     "name": "stdout",
     "output_type": "stream",
     "text": [
      "dmy                   14\n",
      "qsa                   12\n",
      "mxo                   11\n",
      "nis                   11\n",
      "rdw                   11\n",
      "                      ..\n",
      "472403921332613120     1\n",
      "583261659797426176     1\n",
      "361607898599657473     1\n",
      "582869903788634113     1\n",
      "486479812614451200     1\n",
      "Name: id, Length: 11671631, dtype: int64\n"
     ]
    }
   ],
   "source": [
    "index_value_counts = not_duplicated_tweets.index.value_counts()\n",
    "print(index_value_counts)"
   ]
  },
  {
   "cell_type": "code",
   "execution_count": 19,
   "id": "8e9ea156",
   "metadata": {},
   "outputs": [
    {
     "data": {
      "text/html": [
       "<div>\n",
       "<style scoped>\n",
       "    .dataframe tbody tr th:only-of-type {\n",
       "        vertical-align: middle;\n",
       "    }\n",
       "\n",
       "    .dataframe tbody tr th {\n",
       "        vertical-align: top;\n",
       "    }\n",
       "\n",
       "    .dataframe thead th {\n",
       "        text-align: right;\n",
       "    }\n",
       "</style>\n",
       "<table border=\"1\" class=\"dataframe\">\n",
       "  <thead>\n",
       "    <tr style=\"text-align: right;\">\n",
       "      <th></th>\n",
       "      <th>user_id</th>\n",
       "      <th>retweet_count</th>\n",
       "      <th>reply_count</th>\n",
       "      <th>favorite_count</th>\n",
       "      <th>num_hashtags</th>\n",
       "      <th>num_urls</th>\n",
       "      <th>num_mentions</th>\n",
       "      <th>created_at</th>\n",
       "      <th>text</th>\n",
       "    </tr>\n",
       "    <tr>\n",
       "      <th>id</th>\n",
       "      <th></th>\n",
       "      <th></th>\n",
       "      <th></th>\n",
       "      <th></th>\n",
       "      <th></th>\n",
       "      <th></th>\n",
       "      <th></th>\n",
       "      <th></th>\n",
       "      <th></th>\n",
       "    </tr>\n",
       "  </thead>\n",
       "  <tbody>\n",
       "    <tr>\n",
       "      <th>dmy</th>\n",
       "      <td>2882736641</td>\n",
       "      <td>NaN</td>\n",
       "      <td>NaN</td>\n",
       "      <td>NaN</td>\n",
       "      <td>NaN</td>\n",
       "      <td>NaN</td>\n",
       "      <td>NaN</td>\n",
       "      <td>2020-04-24 17:07:08</td>\n",
       "      <td>NaN</td>\n",
       "    </tr>\n",
       "    <tr>\n",
       "      <th>dmy</th>\n",
       "      <td>138492664</td>\n",
       "      <td>NaN</td>\n",
       "      <td>NaN</td>\n",
       "      <td>NaN</td>\n",
       "      <td>NaN</td>\n",
       "      <td>NaN</td>\n",
       "      <td>NaN</td>\n",
       "      <td>2020-04-29 13:07:05</td>\n",
       "      <td>NaN</td>\n",
       "    </tr>\n",
       "    <tr>\n",
       "      <th>dmy</th>\n",
       "      <td>NaN</td>\n",
       "      <td>NaN</td>\n",
       "      <td>NaN</td>\n",
       "      <td>NaN</td>\n",
       "      <td>NaN</td>\n",
       "      <td>NaN</td>\n",
       "      <td>NaN</td>\n",
       "      <td>2019-04-10 01:52:25</td>\n",
       "      <td>NaN</td>\n",
       "    </tr>\n",
       "    <tr>\n",
       "      <th>dmy</th>\n",
       "      <td>467136996</td>\n",
       "      <td>NaN</td>\n",
       "      <td>NaN</td>\n",
       "      <td>NaN</td>\n",
       "      <td>NaN</td>\n",
       "      <td>NaN</td>\n",
       "      <td>NaN</td>\n",
       "      <td>2019-10-17 06:21:50</td>\n",
       "      <td>NaN</td>\n",
       "    </tr>\n",
       "    <tr>\n",
       "      <th>dmy</th>\n",
       "      <td>816485959</td>\n",
       "      <td>NaN</td>\n",
       "      <td>NaN</td>\n",
       "      <td>NaN</td>\n",
       "      <td>NaN</td>\n",
       "      <td>NaN</td>\n",
       "      <td>NaN</td>\n",
       "      <td>2019-11-09 17:24:53</td>\n",
       "      <td>NaN</td>\n",
       "    </tr>\n",
       "    <tr>\n",
       "      <th>dmy</th>\n",
       "      <td>531252639</td>\n",
       "      <td>NaN</td>\n",
       "      <td>NaN</td>\n",
       "      <td>NaN</td>\n",
       "      <td>NaN</td>\n",
       "      <td>NaN</td>\n",
       "      <td>NaN</td>\n",
       "      <td>2019-11-08 21:28:02</td>\n",
       "      <td>NaN</td>\n",
       "    </tr>\n",
       "    <tr>\n",
       "      <th>dmy</th>\n",
       "      <td>520977237</td>\n",
       "      <td>NaN</td>\n",
       "      <td>NaN</td>\n",
       "      <td>NaN</td>\n",
       "      <td>NaN</td>\n",
       "      <td>NaN</td>\n",
       "      <td>NaN</td>\n",
       "      <td>2019-04-06 01:58:36</td>\n",
       "      <td>NaN</td>\n",
       "    </tr>\n",
       "    <tr>\n",
       "      <th>dmy</th>\n",
       "      <td>535901760</td>\n",
       "      <td>NaN</td>\n",
       "      <td>NaN</td>\n",
       "      <td>NaN</td>\n",
       "      <td>NaN</td>\n",
       "      <td>NaN</td>\n",
       "      <td>NaN</td>\n",
       "      <td>2019-11-06 04:07:20</td>\n",
       "      <td>NaN</td>\n",
       "    </tr>\n",
       "    <tr>\n",
       "      <th>dmy</th>\n",
       "      <td>2351661655</td>\n",
       "      <td>NaN</td>\n",
       "      <td>NaN</td>\n",
       "      <td>NaN</td>\n",
       "      <td>NaN</td>\n",
       "      <td>NaN</td>\n",
       "      <td>NaN</td>\n",
       "      <td>2019-06-07 04:55:39</td>\n",
       "      <td>NaN</td>\n",
       "    </tr>\n",
       "    <tr>\n",
       "      <th>dmy</th>\n",
       "      <td>2183434100</td>\n",
       "      <td>NaN</td>\n",
       "      <td>NaN</td>\n",
       "      <td>NaN</td>\n",
       "      <td>NaN</td>\n",
       "      <td>NaN</td>\n",
       "      <td>NaN</td>\n",
       "      <td>2020-04-17 17:21:05</td>\n",
       "      <td>NaN</td>\n",
       "    </tr>\n",
       "    <tr>\n",
       "      <th>dmy</th>\n",
       "      <td>2359781660</td>\n",
       "      <td>NaN</td>\n",
       "      <td>NaN</td>\n",
       "      <td>NaN</td>\n",
       "      <td>NaN</td>\n",
       "      <td>NaN</td>\n",
       "      <td>NaN</td>\n",
       "      <td>2019-04-05 20:16:57</td>\n",
       "      <td>NaN</td>\n",
       "    </tr>\n",
       "    <tr>\n",
       "      <th>dmy</th>\n",
       "      <td>406828178</td>\n",
       "      <td>NaN</td>\n",
       "      <td>NaN</td>\n",
       "      <td>NaN</td>\n",
       "      <td>NaN</td>\n",
       "      <td>NaN</td>\n",
       "      <td>NaN</td>\n",
       "      <td>2017-02-26 13:03:18</td>\n",
       "      <td>NaN</td>\n",
       "    </tr>\n",
       "    <tr>\n",
       "      <th>dmy</th>\n",
       "      <td>xc41pjwq</td>\n",
       "      <td>NaN</td>\n",
       "      <td>NaN</td>\n",
       "      <td>NaN</td>\n",
       "      <td>NaN</td>\n",
       "      <td>NaN</td>\n",
       "      <td>NaN</td>\n",
       "      <td>2019-05-01 16:21:27</td>\n",
       "      <td>NaN</td>\n",
       "    </tr>\n",
       "    <tr>\n",
       "      <th>dmy</th>\n",
       "      <td>539138964</td>\n",
       "      <td>NaN</td>\n",
       "      <td>NaN</td>\n",
       "      <td>NaN</td>\n",
       "      <td>NaN</td>\n",
       "      <td>NaN</td>\n",
       "      <td>NaN</td>\n",
       "      <td>2019-05-28 21:23:26</td>\n",
       "      <td>NaN</td>\n",
       "    </tr>\n",
       "  </tbody>\n",
       "</table>\n",
       "</div>"
      ],
      "text/plain": [
       "        user_id retweet_count reply_count favorite_count num_hashtags  \\\n",
       "id                                                                      \n",
       "dmy  2882736641           NaN         NaN            NaN          NaN   \n",
       "dmy   138492664           NaN         NaN            NaN          NaN   \n",
       "dmy         NaN           NaN         NaN            NaN          NaN   \n",
       "dmy   467136996           NaN         NaN            NaN          NaN   \n",
       "dmy   816485959           NaN         NaN            NaN          NaN   \n",
       "dmy   531252639           NaN         NaN            NaN          NaN   \n",
       "dmy   520977237           NaN         NaN            NaN          NaN   \n",
       "dmy   535901760           NaN         NaN            NaN          NaN   \n",
       "dmy  2351661655           NaN         NaN            NaN          NaN   \n",
       "dmy  2183434100           NaN         NaN            NaN          NaN   \n",
       "dmy  2359781660           NaN         NaN            NaN          NaN   \n",
       "dmy   406828178           NaN         NaN            NaN          NaN   \n",
       "dmy    xc41pjwq           NaN         NaN            NaN          NaN   \n",
       "dmy   539138964           NaN         NaN            NaN          NaN   \n",
       "\n",
       "    num_urls num_mentions           created_at text  \n",
       "id                                                   \n",
       "dmy      NaN          NaN  2020-04-24 17:07:08  NaN  \n",
       "dmy      NaN          NaN  2020-04-29 13:07:05  NaN  \n",
       "dmy      NaN          NaN  2019-04-10 01:52:25  NaN  \n",
       "dmy      NaN          NaN  2019-10-17 06:21:50  NaN  \n",
       "dmy      NaN          NaN  2019-11-09 17:24:53  NaN  \n",
       "dmy      NaN          NaN  2019-11-08 21:28:02  NaN  \n",
       "dmy      NaN          NaN  2019-04-06 01:58:36  NaN  \n",
       "dmy      NaN          NaN  2019-11-06 04:07:20  NaN  \n",
       "dmy      NaN          NaN  2019-06-07 04:55:39  NaN  \n",
       "dmy      NaN          NaN  2020-04-17 17:21:05  NaN  \n",
       "dmy      NaN          NaN  2019-04-05 20:16:57  NaN  \n",
       "dmy      NaN          NaN  2017-02-26 13:03:18  NaN  \n",
       "dmy      NaN          NaN  2019-05-01 16:21:27  NaN  \n",
       "dmy      NaN          NaN  2019-05-28 21:23:26  NaN  "
      ]
     },
     "execution_count": 19,
     "metadata": {},
     "output_type": "execute_result"
    }
   ],
   "source": [
    "not_duplicated_tweets.loc[\"dmy\"]"
   ]
  },
  {
   "cell_type": "code",
   "execution_count": 63,
   "id": "764b5a6e",
   "metadata": {},
   "outputs": [
    {
     "data": {
      "text/html": [
       "<div>\n",
       "<style scoped>\n",
       "    .dataframe tbody tr th:only-of-type {\n",
       "        vertical-align: middle;\n",
       "    }\n",
       "\n",
       "    .dataframe tbody tr th {\n",
       "        vertical-align: top;\n",
       "    }\n",
       "\n",
       "    .dataframe thead th {\n",
       "        text-align: right;\n",
       "    }\n",
       "</style>\n",
       "<table border=\"1\" class=\"dataframe\">\n",
       "  <thead>\n",
       "    <tr style=\"text-align: right;\">\n",
       "      <th></th>\n",
       "      <th>user_id</th>\n",
       "      <th>retweet_count</th>\n",
       "      <th>reply_count</th>\n",
       "      <th>favorite_count</th>\n",
       "      <th>num_hashtags</th>\n",
       "      <th>num_urls</th>\n",
       "      <th>num_mentions</th>\n",
       "      <th>created_at</th>\n",
       "      <th>text</th>\n",
       "    </tr>\n",
       "    <tr>\n",
       "      <th>id</th>\n",
       "      <th></th>\n",
       "      <th></th>\n",
       "      <th></th>\n",
       "      <th></th>\n",
       "      <th></th>\n",
       "      <th></th>\n",
       "      <th></th>\n",
       "      <th></th>\n",
       "      <th></th>\n",
       "    </tr>\n",
       "  </thead>\n",
       "  <tbody>\n",
       "    <tr>\n",
       "      <th>qsa</th>\n",
       "      <td>2969210974</td>\n",
       "      <td>NaN</td>\n",
       "      <td>NaN</td>\n",
       "      <td>NaN</td>\n",
       "      <td>NaN</td>\n",
       "      <td>NaN</td>\n",
       "      <td>NaN</td>\n",
       "      <td>2020-04-16 07:17:30</td>\n",
       "      <td>NaN</td>\n",
       "    </tr>\n",
       "    <tr>\n",
       "      <th>qsa</th>\n",
       "      <td>466307762</td>\n",
       "      <td>NaN</td>\n",
       "      <td>NaN</td>\n",
       "      <td>NaN</td>\n",
       "      <td>NaN</td>\n",
       "      <td>NaN</td>\n",
       "      <td>NaN</td>\n",
       "      <td>2019-07-20 06:17:27</td>\n",
       "      <td>NaN</td>\n",
       "    </tr>\n",
       "    <tr>\n",
       "      <th>qsa</th>\n",
       "      <td>521093819</td>\n",
       "      <td>NaN</td>\n",
       "      <td>NaN</td>\n",
       "      <td>NaN</td>\n",
       "      <td>NaN</td>\n",
       "      <td>NaN</td>\n",
       "      <td>NaN</td>\n",
       "      <td>2019-07-08 17:46:58</td>\n",
       "      <td>NaN</td>\n",
       "    </tr>\n",
       "    <tr>\n",
       "      <th>qsa</th>\n",
       "      <td>614197225</td>\n",
       "      <td>NaN</td>\n",
       "      <td>NaN</td>\n",
       "      <td>NaN</td>\n",
       "      <td>NaN</td>\n",
       "      <td>NaN</td>\n",
       "      <td>NaN</td>\n",
       "      <td>2019-11-01 21:16:45</td>\n",
       "      <td>NaN</td>\n",
       "    </tr>\n",
       "    <tr>\n",
       "      <th>qsa</th>\n",
       "      <td>2528822924</td>\n",
       "      <td>NaN</td>\n",
       "      <td>NaN</td>\n",
       "      <td>NaN</td>\n",
       "      <td>NaN</td>\n",
       "      <td>NaN</td>\n",
       "      <td>NaN</td>\n",
       "      <td>2020-03-12 01:56:45</td>\n",
       "      <td>NaN</td>\n",
       "    </tr>\n",
       "    <tr>\n",
       "      <th>qsa</th>\n",
       "      <td>2462247966</td>\n",
       "      <td>NaN</td>\n",
       "      <td>NaN</td>\n",
       "      <td>NaN</td>\n",
       "      <td>NaN</td>\n",
       "      <td>NaN</td>\n",
       "      <td>NaN</td>\n",
       "      <td>2020-03-18 04:36:32</td>\n",
       "      <td>NaN</td>\n",
       "    </tr>\n",
       "    <tr>\n",
       "      <th>qsa</th>\n",
       "      <td>466426767</td>\n",
       "      <td>NaN</td>\n",
       "      <td>NaN</td>\n",
       "      <td>NaN</td>\n",
       "      <td>NaN</td>\n",
       "      <td>NaN</td>\n",
       "      <td>NaN</td>\n",
       "      <td>2019-05-18 05:18:46</td>\n",
       "      <td>NaN</td>\n",
       "    </tr>\n",
       "    <tr>\n",
       "      <th>qsa</th>\n",
       "      <td>290054590</td>\n",
       "      <td>NaN</td>\n",
       "      <td>NaN</td>\n",
       "      <td>NaN</td>\n",
       "      <td>NaN</td>\n",
       "      <td>NaN</td>\n",
       "      <td>NaN</td>\n",
       "      <td>2019-04-12 00:10:40</td>\n",
       "      <td>NaN</td>\n",
       "    </tr>\n",
       "    <tr>\n",
       "      <th>qsa</th>\n",
       "      <td>141883652</td>\n",
       "      <td>NaN</td>\n",
       "      <td>NaN</td>\n",
       "      <td>NaN</td>\n",
       "      <td>NaN</td>\n",
       "      <td>NaN</td>\n",
       "      <td>NaN</td>\n",
       "      <td>2020-04-05 09:45:16</td>\n",
       "      <td>NaN</td>\n",
       "    </tr>\n",
       "    <tr>\n",
       "      <th>qsa</th>\n",
       "      <td>2634353643</td>\n",
       "      <td>NaN</td>\n",
       "      <td>NaN</td>\n",
       "      <td>NaN</td>\n",
       "      <td>NaN</td>\n",
       "      <td>NaN</td>\n",
       "      <td>NaN</td>\n",
       "      <td>2020-04-30 01:04:44</td>\n",
       "      <td>NaN</td>\n",
       "    </tr>\n",
       "    <tr>\n",
       "      <th>qsa</th>\n",
       "      <td>325974029</td>\n",
       "      <td>NaN</td>\n",
       "      <td>NaN</td>\n",
       "      <td>NaN</td>\n",
       "      <td>NaN</td>\n",
       "      <td>NaN</td>\n",
       "      <td>NaN</td>\n",
       "      <td>2020-03-27 04:17:52</td>\n",
       "      <td>NaN</td>\n",
       "    </tr>\n",
       "    <tr>\n",
       "      <th>qsa</th>\n",
       "      <td>3042955211</td>\n",
       "      <td>NaN</td>\n",
       "      <td>NaN</td>\n",
       "      <td>NaN</td>\n",
       "      <td>NaN</td>\n",
       "      <td>NaN</td>\n",
       "      <td>NaN</td>\n",
       "      <td>2020-03-05 16:51:58</td>\n",
       "      <td>NaN</td>\n",
       "    </tr>\n",
       "  </tbody>\n",
       "</table>\n",
       "</div>"
      ],
      "text/plain": [
       "        user_id retweet_count reply_count favorite_count num_hashtags  \\\n",
       "id                                                                      \n",
       "qsa  2969210974           NaN         NaN            NaN          NaN   \n",
       "qsa   466307762           NaN         NaN            NaN          NaN   \n",
       "qsa   521093819           NaN         NaN            NaN          NaN   \n",
       "qsa   614197225           NaN         NaN            NaN          NaN   \n",
       "qsa  2528822924           NaN         NaN            NaN          NaN   \n",
       "qsa  2462247966           NaN         NaN            NaN          NaN   \n",
       "qsa   466426767           NaN         NaN            NaN          NaN   \n",
       "qsa   290054590           NaN         NaN            NaN          NaN   \n",
       "qsa   141883652           NaN         NaN            NaN          NaN   \n",
       "qsa  2634353643           NaN         NaN            NaN          NaN   \n",
       "qsa   325974029           NaN         NaN            NaN          NaN   \n",
       "qsa  3042955211           NaN         NaN            NaN          NaN   \n",
       "\n",
       "    num_urls num_mentions           created_at text  \n",
       "id                                                   \n",
       "qsa      NaN          NaN  2020-04-16 07:17:30  NaN  \n",
       "qsa      NaN          NaN  2019-07-20 06:17:27  NaN  \n",
       "qsa      NaN          NaN  2019-07-08 17:46:58  NaN  \n",
       "qsa      NaN          NaN  2019-11-01 21:16:45  NaN  \n",
       "qsa      NaN          NaN  2020-03-12 01:56:45  NaN  \n",
       "qsa      NaN          NaN  2020-03-18 04:36:32  NaN  \n",
       "qsa      NaN          NaN  2019-05-18 05:18:46  NaN  \n",
       "qsa      NaN          NaN  2019-04-12 00:10:40  NaN  \n",
       "qsa      NaN          NaN  2020-04-05 09:45:16  NaN  \n",
       "qsa      NaN          NaN  2020-04-30 01:04:44  NaN  \n",
       "qsa      NaN          NaN  2020-03-27 04:17:52  NaN  \n",
       "qsa      NaN          NaN  2020-03-05 16:51:58  NaN  "
      ]
     },
     "execution_count": 63,
     "metadata": {},
     "output_type": "execute_result"
    }
   ],
   "source": [
    "not_duplicated_tweets.loc[\"qsa\"]"
   ]
  },
  {
   "cell_type": "code",
   "execution_count": 20,
   "id": "428fbf3c",
   "metadata": {},
   "outputs": [],
   "source": [
    "# we can see strange entries for non numerical indexes, try to eliminate them\n",
    "numerical_indexes_ids = pd.Series(not_duplicated_tweets.index.str.isnumeric())"
   ]
  },
  {
   "cell_type": "code",
   "execution_count": 21,
   "id": "5527a7ee",
   "metadata": {},
   "outputs": [],
   "source": [
    "numerical_indexes_ids[numerical_indexes_ids.isna()] = False"
   ]
  },
  {
   "cell_type": "code",
   "execution_count": 22,
   "id": "28b5ce92",
   "metadata": {},
   "outputs": [
    {
     "name": "stdout",
     "output_type": "stream",
     "text": [
      "3873473\n",
      "101504097\n",
      "0.03816075522547627\n"
     ]
    }
   ],
   "source": [
    "# we can see the percentage of NaN element of the non numerical indexes\n",
    "nan_element = np.sum(not_duplicated_tweets[numerical_indexes_ids.to_numpy()].isna()).sum()\n",
    "total_element = np.dot(*not_duplicated_tweets[numerical_indexes_ids.to_numpy()].shape)\n",
    "\n",
    "print(nan_element)\n",
    "print(total_element)\n",
    "\n",
    "print(nan_element/total_element)\n",
    "\n",
    "# understand if the following removal are necessary"
   ]
  },
  {
   "cell_type": "code",
   "execution_count": 24,
   "id": "bda7755a",
   "metadata": {},
   "outputs": [],
   "source": [
    "not_duplicated_tweets_2 = not_duplicated_tweets[numerical_indexes_ids.to_numpy()]"
   ]
  },
  {
   "cell_type": "code",
   "execution_count": 25,
   "id": "86d93f9c",
   "metadata": {},
   "outputs": [
    {
     "data": {
      "text/html": [
       "<div>\n",
       "<style scoped>\n",
       "    .dataframe tbody tr th:only-of-type {\n",
       "        vertical-align: middle;\n",
       "    }\n",
       "\n",
       "    .dataframe tbody tr th {\n",
       "        vertical-align: top;\n",
       "    }\n",
       "\n",
       "    .dataframe thead th {\n",
       "        text-align: right;\n",
       "    }\n",
       "</style>\n",
       "<table border=\"1\" class=\"dataframe\">\n",
       "  <thead>\n",
       "    <tr style=\"text-align: right;\">\n",
       "      <th></th>\n",
       "      <th>user_id</th>\n",
       "      <th>retweet_count</th>\n",
       "      <th>reply_count</th>\n",
       "      <th>favorite_count</th>\n",
       "      <th>num_hashtags</th>\n",
       "      <th>num_urls</th>\n",
       "      <th>num_mentions</th>\n",
       "      <th>created_at</th>\n",
       "      <th>text</th>\n",
       "    </tr>\n",
       "    <tr>\n",
       "      <th>id</th>\n",
       "      <th></th>\n",
       "      <th></th>\n",
       "      <th></th>\n",
       "      <th></th>\n",
       "      <th></th>\n",
       "      <th></th>\n",
       "      <th></th>\n",
       "      <th></th>\n",
       "      <th></th>\n",
       "    </tr>\n",
       "  </thead>\n",
       "  <tbody>\n",
       "    <tr>\n",
       "      <th>509354017856950272</th>\n",
       "      <td>327746321</td>\n",
       "      <td>0</td>\n",
       "      <td>0</td>\n",
       "      <td>0</td>\n",
       "      <td>0</td>\n",
       "      <td>0</td>\n",
       "      <td>0</td>\n",
       "      <td>2019-09-11 14:53:55</td>\n",
       "      <td>If man is a little lower than angels, then ang...</td>\n",
       "    </tr>\n",
       "    <tr>\n",
       "      <th>583002592529121280</th>\n",
       "      <td>333722906</td>\n",
       "      <td>1</td>\n",
       "      <td>0</td>\n",
       "      <td>0</td>\n",
       "      <td>0</td>\n",
       "      <td>0</td>\n",
       "      <td>1</td>\n",
       "      <td>2020-04-01 20:27:04</td>\n",
       "      <td>\"@BestWSHHVids: how do you say these words wit...</td>\n",
       "    </tr>\n",
       "    <tr>\n",
       "      <th>461498835362013185</th>\n",
       "      <td>2379755827</td>\n",
       "      <td>0</td>\n",
       "      <td>0</td>\n",
       "      <td>0</td>\n",
       "      <td>0</td>\n",
       "      <td>0</td>\n",
       "      <td>1</td>\n",
       "      <td>2019-05-02 13:34:31</td>\n",
       "      <td>@LOLatComedy awsome</td>\n",
       "    </tr>\n",
       "    <tr>\n",
       "      <th>528808127366692864</th>\n",
       "      <td>466226882</td>\n",
       "      <td>0</td>\n",
       "      <td>0</td>\n",
       "      <td>0</td>\n",
       "      <td>0</td>\n",
       "      <td>0</td>\n",
       "      <td>0</td>\n",
       "      <td>2019-11-04 07:17:37</td>\n",
       "      <td>Stephen Hawkins: i buchi neri non esistono se ...</td>\n",
       "    </tr>\n",
       "    <tr>\n",
       "      <th>575336690904006656</th>\n",
       "      <td>1355537995</td>\n",
       "      <td>114</td>\n",
       "      <td>0</td>\n",
       "      <td>0</td>\n",
       "      <td>1</td>\n",
       "      <td>0</td>\n",
       "      <td>1</td>\n",
       "      <td>2020-03-11 16:45:31</td>\n",
       "      <td>RT @tibbs_montris: So ready for Wednesday!</td>\n",
       "    </tr>\n",
       "  </tbody>\n",
       "</table>\n",
       "</div>"
      ],
      "text/plain": [
       "                       user_id retweet_count reply_count favorite_count  \\\n",
       "id                                                                        \n",
       "509354017856950272   327746321             0           0              0   \n",
       "583002592529121280   333722906             1           0              0   \n",
       "461498835362013185  2379755827             0           0              0   \n",
       "528808127366692864   466226882             0           0              0   \n",
       "575336690904006656  1355537995           114           0              0   \n",
       "\n",
       "                   num_hashtags num_urls num_mentions           created_at  \\\n",
       "id                                                                           \n",
       "509354017856950272            0        0            0  2019-09-11 14:53:55   \n",
       "583002592529121280            0        0            1  2020-04-01 20:27:04   \n",
       "461498835362013185            0        0            1  2019-05-02 13:34:31   \n",
       "528808127366692864            0        0            0  2019-11-04 07:17:37   \n",
       "575336690904006656            1        0            1  2020-03-11 16:45:31   \n",
       "\n",
       "                                                                 text  \n",
       "id                                                                     \n",
       "509354017856950272  If man is a little lower than angels, then ang...  \n",
       "583002592529121280  \"@BestWSHHVids: how do you say these words wit...  \n",
       "461498835362013185                                @LOLatComedy awsome  \n",
       "528808127366692864  Stephen Hawkins: i buchi neri non esistono se ...  \n",
       "575336690904006656        RT @tibbs_montris: So ready for Wednesday!   "
      ]
     },
     "execution_count": 25,
     "metadata": {},
     "output_type": "execute_result"
    }
   ],
   "source": [
    "not_duplicated_tweets_2.head()"
   ]
  },
  {
   "cell_type": "code",
   "execution_count": 69,
   "id": "af26c6b9",
   "metadata": {},
   "outputs": [
    {
     "name": "stdout",
     "output_type": "stream",
     "text": [
      "35695732              2\n",
      "64474136              2\n",
      "36322718              2\n",
      "41862725              2\n",
      "41466620              2\n",
      "                     ..\n",
      "583731329663021056    1\n",
      "421595173718876161    1\n",
      "593166415777177600    1\n",
      "511007179747639296    1\n",
      "486479812614451200    1\n",
      "Name: id, Length: 11278006, dtype: int64\n"
     ]
    }
   ],
   "source": [
    "index_value_counts = not_duplicated_tweets_2.index.value_counts()\n",
    "print(index_value_counts)"
   ]
  },
  {
   "cell_type": "code",
   "execution_count": 70,
   "id": "db7fafcb",
   "metadata": {},
   "outputs": [
    {
     "data": {
      "text/html": [
       "<div>\n",
       "<style scoped>\n",
       "    .dataframe tbody tr th:only-of-type {\n",
       "        vertical-align: middle;\n",
       "    }\n",
       "\n",
       "    .dataframe tbody tr th {\n",
       "        vertical-align: top;\n",
       "    }\n",
       "\n",
       "    .dataframe thead th {\n",
       "        text-align: right;\n",
       "    }\n",
       "</style>\n",
       "<table border=\"1\" class=\"dataframe\">\n",
       "  <thead>\n",
       "    <tr style=\"text-align: right;\">\n",
       "      <th></th>\n",
       "      <th>user_id</th>\n",
       "      <th>retweet_count</th>\n",
       "      <th>reply_count</th>\n",
       "      <th>favorite_count</th>\n",
       "      <th>num_hashtags</th>\n",
       "      <th>num_urls</th>\n",
       "      <th>num_mentions</th>\n",
       "      <th>created_at</th>\n",
       "      <th>text</th>\n",
       "    </tr>\n",
       "    <tr>\n",
       "      <th>id</th>\n",
       "      <th></th>\n",
       "      <th></th>\n",
       "      <th></th>\n",
       "      <th></th>\n",
       "      <th></th>\n",
       "      <th></th>\n",
       "      <th></th>\n",
       "      <th></th>\n",
       "      <th></th>\n",
       "    </tr>\n",
       "  </thead>\n",
       "  <tbody>\n",
       "    <tr>\n",
       "      <th>35695732</th>\n",
       "      <td>2973235579</td>\n",
       "      <td>NaN</td>\n",
       "      <td>NaN</td>\n",
       "      <td>NaN</td>\n",
       "      <td>NaN</td>\n",
       "      <td>0.0</td>\n",
       "      <td>NaN</td>\n",
       "      <td>2020-03-31 04:08:59</td>\n",
       "      <td>RT @Randall_Jr: “@Drrake: This music video turnt</td>\n",
       "    </tr>\n",
       "    <tr>\n",
       "      <th>35695732</th>\n",
       "      <td>467123525</td>\n",
       "      <td>NaN</td>\n",
       "      <td>NaN</td>\n",
       "      <td>NaN</td>\n",
       "      <td>NaN</td>\n",
       "      <td>z9up3zr</td>\n",
       "      <td>0</td>\n",
       "      <td>2019-08-19 05:29:35</td>\n",
       "      <td>Che bella la riconoscenza, sorride sempre ed Ã...</td>\n",
       "    </tr>\n",
       "  </tbody>\n",
       "</table>\n",
       "</div>"
      ],
      "text/plain": [
       "             user_id retweet_count reply_count favorite_count num_hashtags  \\\n",
       "id                                                                           \n",
       "35695732  2973235579           NaN         NaN            NaN          NaN   \n",
       "35695732   467123525           NaN         NaN            NaN          NaN   \n",
       "\n",
       "         num_urls num_mentions           created_at  \\\n",
       "id                                                    \n",
       "35695732      0.0          NaN  2020-03-31 04:08:59   \n",
       "35695732  z9up3zr            0  2019-08-19 05:29:35   \n",
       "\n",
       "                                                       text  \n",
       "id                                                           \n",
       "35695732  RT @Randall_Jr: “@Drrake: This music video turnt   \n",
       "35695732  Che bella la riconoscenza, sorride sempre ed Ã...  "
      ]
     },
     "execution_count": 70,
     "metadata": {},
     "output_type": "execute_result"
    }
   ],
   "source": [
    "not_duplicated_tweets_2.loc[\"35695732\"]"
   ]
  },
  {
   "cell_type": "code",
   "execution_count": 71,
   "id": "a43f046b",
   "metadata": {},
   "outputs": [
    {
     "data": {
      "text/html": [
       "<div>\n",
       "<style scoped>\n",
       "    .dataframe tbody tr th:only-of-type {\n",
       "        vertical-align: middle;\n",
       "    }\n",
       "\n",
       "    .dataframe tbody tr th {\n",
       "        vertical-align: top;\n",
       "    }\n",
       "\n",
       "    .dataframe thead th {\n",
       "        text-align: right;\n",
       "    }\n",
       "</style>\n",
       "<table border=\"1\" class=\"dataframe\">\n",
       "  <thead>\n",
       "    <tr style=\"text-align: right;\">\n",
       "      <th></th>\n",
       "      <th>user_id</th>\n",
       "      <th>retweet_count</th>\n",
       "      <th>reply_count</th>\n",
       "      <th>favorite_count</th>\n",
       "      <th>num_hashtags</th>\n",
       "      <th>num_urls</th>\n",
       "      <th>num_mentions</th>\n",
       "      <th>created_at</th>\n",
       "      <th>text</th>\n",
       "    </tr>\n",
       "    <tr>\n",
       "      <th>id</th>\n",
       "      <th></th>\n",
       "      <th></th>\n",
       "      <th></th>\n",
       "      <th></th>\n",
       "      <th></th>\n",
       "      <th></th>\n",
       "      <th></th>\n",
       "      <th></th>\n",
       "      <th></th>\n",
       "    </tr>\n",
       "  </thead>\n",
       "  <tbody>\n",
       "    <tr>\n",
       "      <th>41862725</th>\n",
       "      <td>21074492</td>\n",
       "      <td>0</td>\n",
       "      <td>NaN</td>\n",
       "      <td>NaN</td>\n",
       "      <td>NaN</td>\n",
       "      <td>NaN</td>\n",
       "      <td>NaN</td>\n",
       "      <td>2018-07-21 09:03:40</td>\n",
       "      <td>NaN</td>\n",
       "    </tr>\n",
       "    <tr>\n",
       "      <th>41862725</th>\n",
       "      <td>1394115517</td>\n",
       "      <td>0</td>\n",
       "      <td>NaN</td>\n",
       "      <td>NaN</td>\n",
       "      <td>NaN</td>\n",
       "      <td>NaN</td>\n",
       "      <td>NaN</td>\n",
       "      <td>2020-03-10 12:35:58</td>\n",
       "      <td>NaN</td>\n",
       "    </tr>\n",
       "  </tbody>\n",
       "</table>\n",
       "</div>"
      ],
      "text/plain": [
       "             user_id retweet_count reply_count favorite_count num_hashtags  \\\n",
       "id                                                                           \n",
       "41862725    21074492             0         NaN            NaN          NaN   \n",
       "41862725  1394115517             0         NaN            NaN          NaN   \n",
       "\n",
       "         num_urls num_mentions           created_at text  \n",
       "id                                                        \n",
       "41862725      NaN          NaN  2018-07-21 09:03:40  NaN  \n",
       "41862725      NaN          NaN  2020-03-10 12:35:58  NaN  "
      ]
     },
     "execution_count": 71,
     "metadata": {},
     "output_type": "execute_result"
    }
   ],
   "source": [
    "not_duplicated_tweets_2.loc[\"41862725\"]"
   ]
  },
  {
   "cell_type": "code",
   "execution_count": 73,
   "id": "473a461f",
   "metadata": {},
   "outputs": [
    {
     "name": "stdout",
     "output_type": "stream",
     "text": [
      "35695732              2\n",
      "64474136              2\n",
      "36322718              2\n",
      "41862725              2\n",
      "41466620              2\n",
      "                     ..\n",
      "583731329663021056    1\n",
      "421595173718876161    1\n",
      "593166415777177600    1\n",
      "511007179747639296    1\n",
      "486479812614451200    1\n",
      "Name: id, Length: 11278006, dtype: int64\n"
     ]
    }
   ],
   "source": [
    "index_value_counts = not_duplicated_tweets_2.index.value_counts()\n",
    "print(index_value_counts)"
   ]
  },
  {
   "cell_type": "code",
   "execution_count": null,
   "id": "5f1b5b8f",
   "metadata": {},
   "outputs": [],
   "source": [
    "tweets = not_duplicated_tweets"
   ]
  },
  {
   "cell_type": "markdown",
   "id": "78799d46",
   "metadata": {},
   "source": [
    "## User_id"
   ]
  },
  {
   "cell_type": "code",
   "execution_count": 26,
   "id": "da2ecda3",
   "metadata": {},
   "outputs": [
    {
     "data": {
      "text/plain": [
       "497404180     4600\n",
       "7004532       4580\n",
       "157029836     4578\n",
       "1693274954    4572\n",
       "491630583     4570\n",
       "              ... \n",
       "9a8wb95x4        1\n",
       "ql8aw            1\n",
       "40rcr            1\n",
       "syeybyw2um       1\n",
       "tzn9s6bwj        1\n",
       "Name: user_id, Length: 222285, dtype: int64"
      ]
     },
     "execution_count": 26,
     "metadata": {},
     "output_type": "execute_result"
    }
   ],
   "source": [
    "tweets.user_id.value_counts()"
   ]
  },
  {
   "cell_type": "code",
   "execution_count": 27,
   "id": "90f6e3de",
   "metadata": {},
   "outputs": [
    {
     "name": "stdout",
     "output_type": "stream",
     "text": [
      "222286\n"
     ]
    }
   ],
   "source": [
    "unique_user_id = tweets.user_id.unique()\n",
    "print(len(unique_user_id))"
   ]
  },
  {
   "cell_type": "code",
   "execution_count": 28,
   "id": "45ee91d2",
   "metadata": {},
   "outputs": [],
   "source": [
    "numeric_user_id = pd.Series(tweets.user_id.str.isnumeric())\n",
    "numeric_user_id[numeric_user_id.isna()] = False\n",
    "\n",
    "valid_ids = numeric_user_id"
   ]
  },
  {
   "cell_type": "code",
   "execution_count": 29,
   "id": "5498bcd3",
   "metadata": {},
   "outputs": [
    {
     "name": "stdout",
     "output_type": "stream",
     "text": [
      "numerical ids 13230683\n"
     ]
    }
   ],
   "source": [
    "print(f\"numerical ids {np.sum(numeric_user_id)}\")"
   ]
  },
  {
   "cell_type": "code",
   "execution_count": 30,
   "id": "7804d3b4",
   "metadata": {},
   "outputs": [
    {
     "name": "stdout",
     "output_type": "stream",
     "text": [
      "497404180     4600\n",
      "7004532       4580\n",
      "157029836     4578\n",
      "1693274954    4572\n",
      "491630583     4570\n",
      "              ... \n",
      "479096           1\n",
      "96075            1\n",
      "1385297372       1\n",
      "37023            1\n",
      "261              1\n",
      "Name: user_id, Length: 12172, dtype: int64\n"
     ]
    }
   ],
   "source": [
    "value_counts_number_user_id = tweets.user_id[numeric_user_id].value_counts()\n",
    "print(value_counts_number_user_id)"
   ]
  },
  {
   "cell_type": "code",
   "execution_count": 31,
   "id": "f098fc76",
   "metadata": {},
   "outputs": [],
   "source": [
    "# function to handle non negative numerical values and outliers\n",
    "\n",
    "def function_handle_nnn(feature_name = None):\n",
    "    \n",
    "    print(f\"Feature: {feature_name}\")\n",
    "    \n",
    "    # valid numbers\n",
    "    numerical_entries = pd.Series(tweets[feature_name].str.isnumeric())\n",
    "    numerical_entries[numerical_entries.isna()] = False\n",
    "    \n",
    "    numeric_count = pd.to_numeric(tweets[feature_name], errors=\"coerce\")\n",
    "    \n",
    "    \n",
    "    na_ids_count = numeric_count.isna()\n",
    "    inf_ids_count = numeric_count.apply(np.isinf)\n",
    "    negative_ids_count = numeric_count.apply(lambda x: x<0)\n",
    "    \n",
    "    print(f\"Number of NaN elements: {np.sum(na_ids_count)}\")\n",
    "    print(f\"Number of inf elements: {np.sum(inf_ids_count)}\")\n",
    "    print(f\"Number of negative elements: {np.sum(negative_ids_count)}\", end=\"\\n\")\n",
    "\n",
    "    valid_numbers = np.logical_or(na_ids_count, inf_ids_count)\n",
    "    valid_numbers = ~np.logical_or(valid_numbers, negative_ids_count)\n",
    "    valid_numbers = np.logical_and(valid_numbers, numerical_entries).astype(bool)\n",
    "        \n",
    "    description = numeric_count[valid_numbers].describe()\n",
    "    print(\"Description:\")\n",
    "    print(description, end=\"\\n\")\n",
    "    \n",
    "    value_counts = numeric_count[valid_numbers].value_counts()\n",
    "    print(\"Value counts:\")\n",
    "    print(value_counts, end=\"\\n\")\n",
    "    \n",
    "    print(\"Histogram:\")\n",
    "    numeric_count[valid_numbers].hist(bins=len(numeric_count[valid_numbers].unique()))\n",
    "    plt.show()\n",
    "        \n",
    "    # remove outliers\n",
    "    IQR = numeric_count[valid_numbers].quantile(0.75) - numeric_count[valid_numbers].quantile(0.25)\n",
    "    outlier_value = numeric_count[valid_numbers].quantile(0.75) + 1.5*IQR\n",
    "    print(outlier_value)\n",
    "    numeric_count[numeric_count>outlier_value] = outlier_value\n",
    "    \n",
    "    print(\"removed outliers\", end=\"\\n\")\n",
    "    \n",
    "    # remove non valid numbers    \n",
    "    mode = numeric_count[valid_numbers].mode()\n",
    "    \n",
    "    print(mode)\n",
    "    \n",
    "    numeric_count[~valid_numbers] = mode[0]\n",
    "    \n",
    "    print(\"removed non valid numbers\", end=\"\\n\")\n",
    "\n",
    "    value_counts = numeric_count.value_counts()\n",
    "    print(\"Value counts:\")\n",
    "    print(value_counts, end=\"\\n\")\n",
    "        \n",
    "    pd.DataFrame(numeric_count).boxplot()\n",
    "    plt.show()\n",
    "    \n",
    "    return valid_numbers, numeric_count"
   ]
  },
  {
   "cell_type": "markdown",
   "id": "f0347dce",
   "metadata": {},
   "source": [
    "## Retweet_count"
   ]
  },
  {
   "cell_type": "code",
   "execution_count": 32,
   "id": "6544e4ad",
   "metadata": {},
   "outputs": [
    {
     "name": "stdout",
     "output_type": "stream",
     "text": [
      "Feature: retweet_count\n",
      "Number of NaN elements: 625456\n",
      "Number of inf elements: 1\n",
      "Number of negative elements: 0\n",
      "Description:\n",
      "count    1.303915e+07\n",
      "mean     5.993622e+02\n",
      "std      6.623562e+04\n",
      "min      0.000000e+00\n",
      "25%      0.000000e+00\n",
      "50%      0.000000e+00\n",
      "75%      1.000000e+00\n",
      "max      2.295320e+08\n",
      "Name: retweet_count, dtype: float64\n",
      "Value counts:\n",
      "0.0         9419784\n",
      "1.0         1172028\n",
      "2.0          357098\n",
      "3.0          180191\n",
      "4.0          111526\n",
      "             ...   \n",
      "154942.0          1\n",
      "81166.0           1\n",
      "53904.0           1\n",
      "193800.0          1\n",
      "376246.0          1\n",
      "Name: retweet_count, Length: 45773, dtype: int64\n",
      "Histogram:\n"
     ]
    },
    {
     "data": {
      "image/png": "[encoded data removed]",
      "text/plain": [
       "<Figure size 640x480 with 1 Axes>"
      ]
     },
     "metadata": {},
     "output_type": "display_data"
    },
    {
     "name": "stdout",
     "output_type": "stream",
     "text": [
      "2.5\n",
      "removed outliers\n",
      "0    0.0\n",
      "Name: retweet_count, dtype: float64\n",
      "removed non valid numbers\n",
      "Value counts:\n",
      "0.0    10045326\n",
      "2.5     2090244\n",
      "1.0     1172028\n",
      "2.0      357098\n",
      "Name: retweet_count, dtype: int64\n"
     ]
    },
    {
     "data": {
      "image/png": "[encoded data removed]",
      "text/plain": [
       "<Figure size 640x480 with 1 Axes>"
      ]
     },
     "metadata": {},
     "output_type": "display_data"
    }
   ],
   "source": [
    "valid_numbers_retweets, cleaned_retweet_count = function_handle_nnn(\"retweet_count\")\n",
    "valid_ids = np.logical_and(valid_ids, valid_numbers_retweets)"
   ]
  },
  {
   "cell_type": "markdown",
   "id": "bb0e786c",
   "metadata": {},
   "source": [
    "## reply count"
   ]
  },
  {
   "cell_type": "code",
   "execution_count": 33,
   "id": "7a838af6",
   "metadata": {},
   "outputs": [
    {
     "name": "stdout",
     "output_type": "stream",
     "text": [
      "Feature: reply_count\n",
      "Number of NaN elements: 809504\n",
      "Number of inf elements: 1\n",
      "Number of negative elements: 0\n",
      "Description:\n",
      "count    1.181078e+07\n",
      "mean     4.673646e+00\n",
      "std      1.299745e+04\n",
      "min      0.000000e+00\n",
      "25%      0.000000e+00\n",
      "50%      0.000000e+00\n",
      "75%      0.000000e+00\n",
      "max      4.458600e+07\n",
      "Name: reply_count, dtype: float64\n",
      "Value counts:\n",
      "0.0        11790443\n",
      "1.0           15670\n",
      "2.0            1455\n",
      "3.0             492\n",
      "4.0             249\n",
      "             ...   \n",
      "935.0             1\n",
      "24912.0           1\n",
      "143.0             1\n",
      "395.0             1\n",
      "178.0             1\n",
      "Name: reply_count, Length: 658, dtype: int64\n",
      "Histogram:\n"
     ]
    },
    {
     "data": {
      "image/png": "[encoded data removed]",
      "text/plain": [
       "<Figure size 640x480 with 1 Axes>"
      ]
     },
     "metadata": {},
     "output_type": "display_data"
    },
    {
     "name": "stdout",
     "output_type": "stream",
     "text": [
      "0.0\n",
      "removed outliers\n",
      "0    0.0\n",
      "Name: reply_count, dtype: float64\n",
      "removed non valid numbers\n",
      "Value counts:\n",
      "0.0    13664696\n",
      "Name: reply_count, dtype: int64\n"
     ]
    },
    {
     "data": {
      "image/png": "[encoded data removed]",
      "text/plain": [
       "<Figure size 640x480 with 1 Axes>"
      ]
     },
     "metadata": {},
     "output_type": "display_data"
    }
   ],
   "source": [
    "valid_numbers_reply, cleaned_reply_count = function_handle_nnn(\"reply_count\")\n",
    "valid_ids = np.logical_and(valid_ids, valid_numbers_reply)"
   ]
  },
  {
   "cell_type": "markdown",
   "id": "6cb879c9",
   "metadata": {},
   "source": [
    "## Favorite count"
   ]
  },
  {
   "cell_type": "code",
   "execution_count": 34,
   "id": "d5fd9438",
   "metadata": {},
   "outputs": [
    {
     "name": "stdout",
     "output_type": "stream",
     "text": [
      "Feature: favorite_count\n",
      "Number of NaN elements: 808097\n",
      "Number of inf elements: 0\n",
      "Number of negative elements: 1\n",
      "Description:\n",
      "count    1.181077e+07\n",
      "mean     4.414380e+01\n",
      "std      1.400179e+05\n",
      "min      0.000000e+00\n",
      "25%      0.000000e+00\n",
      "50%      0.000000e+00\n",
      "75%      0.000000e+00\n",
      "max      4.810824e+08\n",
      "Name: favorite_count, dtype: float64\n",
      "Value counts:\n",
      "0.0       9467210\n",
      "1.0       1408467\n",
      "2.0        407252\n",
      "3.0        183342\n",
      "4.0        100369\n",
      "           ...   \n",
      "546.0           1\n",
      "1928.0          1\n",
      "4200.0          1\n",
      "1366.0          1\n",
      "3063.0          1\n",
      "Name: favorite_count, Length: 1573, dtype: int64\n",
      "Histogram:\n"
     ]
    },
    {
     "data": {
      "image/png": "[encoded data removed]",
      "text/plain": [
       "<Figure size 640x480 with 1 Axes>"
      ]
     },
     "metadata": {},
     "output_type": "display_data"
    },
    {
     "name": "stdout",
     "output_type": "stream",
     "text": [
      "0.0\n",
      "removed outliers\n",
      "0    0.0\n",
      "Name: favorite_count, dtype: float64\n",
      "removed non valid numbers\n",
      "Value counts:\n",
      "0.0    13664696\n",
      "Name: favorite_count, dtype: int64\n"
     ]
    },
    {
     "data": {
      "image/png": "[encoded data removed]",
      "text/plain": [
       "<Figure size 640x480 with 1 Axes>"
      ]
     },
     "metadata": {},
     "output_type": "display_data"
    }
   ],
   "source": [
    "valid_numbers_favorite, cleaned_favorite_count = function_handle_nnn(\"favorite_count\")\n",
    "valid_ids = np.logical_and(valid_ids, valid_numbers_favorite)"
   ]
  },
  {
   "cell_type": "markdown",
   "id": "be67b0e0",
   "metadata": {},
   "source": [
    "## num hashtags"
   ]
  },
  {
   "cell_type": "code",
   "execution_count": 35,
   "id": "75b04e33",
   "metadata": {},
   "outputs": [
    {
     "name": "stdout",
     "output_type": "stream",
     "text": [
      "Feature: num_hashtags\n",
      "Number of NaN elements: 1163677\n",
      "Number of inf elements: 0\n",
      "Number of negative elements: 0\n",
      "Description:\n",
      "count    1.181057e+07\n",
      "mean     1.158370e+00\n",
      "std      2.009555e+03\n",
      "min      0.000000e+00\n",
      "25%      0.000000e+00\n",
      "50%      0.000000e+00\n",
      "75%      0.000000e+00\n",
      "max      6.747961e+06\n",
      "Name: num_hashtags, dtype: float64\n",
      "Value counts:\n",
      "0.0       10470209\n",
      "1.0         911568\n",
      "2.0         270668\n",
      "3.0          88101\n",
      "4.0          32559\n",
      "            ...   \n",
      "1847.0           1\n",
      "215.0            1\n",
      "3423.0           1\n",
      "8873.0           1\n",
      "949.0            1\n",
      "Name: num_hashtags, Length: 345, dtype: int64\n",
      "Histogram:\n"
     ]
    },
    {
     "data": {
      "image/png": "[encoded data removed]",
      "text/plain": [
       "<Figure size 640x480 with 1 Axes>"
      ]
     },
     "metadata": {},
     "output_type": "display_data"
    },
    {
     "name": "stdout",
     "output_type": "stream",
     "text": [
      "0.0\n",
      "removed outliers\n",
      "0    0.0\n",
      "Name: num_hashtags, dtype: float64\n",
      "removed non valid numbers\n",
      "Value counts:\n",
      "0.0    13664696\n",
      "Name: num_hashtags, dtype: int64\n"
     ]
    },
    {
     "data": {
      "image/png": "[encoded data removed]",
      "text/plain": [
       "<Figure size 640x480 with 1 Axes>"
      ]
     },
     "metadata": {},
     "output_type": "display_data"
    }
   ],
   "source": [
    "valid_numbers_hashtags, cleaned_num_hashtags = function_handle_nnn(\"num_hashtags\")\n",
    "valid_ids = np.logical_and(valid_ids, valid_numbers_hashtags)"
   ]
  },
  {
   "cell_type": "markdown",
   "id": "4dccbdf2",
   "metadata": {},
   "source": [
    "## Num urls"
   ]
  },
  {
   "cell_type": "code",
   "execution_count": 36,
   "id": "793d1566",
   "metadata": {},
   "outputs": [
    {
     "name": "stdout",
     "output_type": "stream",
     "text": [
      "Feature: num_urls\n",
      "Number of NaN elements: 808953\n",
      "Number of inf elements: 0\n",
      "Number of negative elements: 0\n",
      "Description:\n",
      "count    1.181078e+07\n",
      "mean     7.257129e+00\n",
      "std      1.730760e+04\n",
      "min      0.000000e+00\n",
      "25%      0.000000e+00\n",
      "50%      0.000000e+00\n",
      "75%      0.000000e+00\n",
      "max      5.859340e+07\n",
      "Name: num_urls, dtype: float64\n",
      "Value counts:\n",
      "0.0        9894198\n",
      "1.0        1890891\n",
      "2.0          23770\n",
      "3.0            938\n",
      "4.0            314\n",
      "            ...   \n",
      "523.0            1\n",
      "18.0             1\n",
      "2560.0           1\n",
      "24087.0          1\n",
      "260.0            1\n",
      "Name: num_urls, Length: 508, dtype: int64\n",
      "Histogram:\n"
     ]
    },
    {
     "data": {
      "image/png": "[encoded data removed]",
      "text/plain": [
       "<Figure size 640x480 with 1 Axes>"
      ]
     },
     "metadata": {},
     "output_type": "display_data"
    },
    {
     "name": "stdout",
     "output_type": "stream",
     "text": [
      "0.0\n",
      "removed outliers\n",
      "0    0.0\n",
      "Name: num_urls, dtype: float64\n",
      "removed non valid numbers\n",
      "Value counts:\n",
      "0.0    13664696\n",
      "Name: num_urls, dtype: int64\n"
     ]
    },
    {
     "data": {
      "image/png": "[encoded data removed]",
      "text/plain": [
       "<Figure size 640x480 with 1 Axes>"
      ]
     },
     "metadata": {},
     "output_type": "display_data"
    }
   ],
   "source": [
    "valid_numbers_urls, cleaned_num_ursl = function_handle_nnn(\"num_urls\")\n",
    "valid_ids = np.logical_and(valid_ids, valid_numbers_urls)"
   ]
  },
  {
   "cell_type": "markdown",
   "id": "7f3cf218",
   "metadata": {},
   "source": [
    "## Num mentions"
   ]
  },
  {
   "cell_type": "code",
   "execution_count": 37,
   "id": "9f54fe32",
   "metadata": {},
   "outputs": [
    {
     "name": "stdout",
     "output_type": "stream",
     "text": [
      "Feature: num_mentions\n",
      "Number of NaN elements: 987990\n",
      "Number of inf elements: 0\n",
      "Number of negative elements: 0\n",
      "Description:\n",
      "count    1.267664e+07\n",
      "mean     1.075931e+00\n",
      "std      4.949400e+02\n",
      "min      0.000000e+00\n",
      "25%      0.000000e+00\n",
      "50%      0.000000e+00\n",
      "75%      1.000000e+00\n",
      "max      9.174080e+05\n",
      "Name: num_mentions, dtype: float64\n",
      "Value counts:\n",
      "0.0       7561629\n",
      "1.0       4106916\n",
      "2.0        718191\n",
      "3.0        174700\n",
      "4.0         55558\n",
      "           ...   \n",
      "767.0           1\n",
      "253.0           1\n",
      "3249.0          1\n",
      "48.0            1\n",
      "4509.0          1\n",
      "Name: num_mentions, Length: 435, dtype: int64\n",
      "Histogram:\n"
     ]
    },
    {
     "data": {
      "image/png": "[encoded data removed]",
      "text/plain": [
       "<Figure size 640x480 with 1 Axes>"
      ]
     },
     "metadata": {},
     "output_type": "display_data"
    },
    {
     "name": "stdout",
     "output_type": "stream",
     "text": [
      "2.5\n",
      "removed outliers\n",
      "0    0.0\n",
      "Name: num_mentions, dtype: float64\n",
      "removed non valid numbers\n",
      "Value counts:\n",
      "0.0    8549683\n",
      "1.0    4106916\n",
      "2.0     718191\n",
      "2.5     289906\n",
      "Name: num_mentions, dtype: int64\n"
     ]
    },
    {
     "data": {
      "image/png": "[encoded data removed]",
      "text/plain": [
       "<Figure size 640x480 with 1 Axes>"
      ]
     },
     "metadata": {},
     "output_type": "display_data"
    }
   ],
   "source": [
    "valid_numbers_mentions, cleaned_num_mentions = function_handle_nnn(\"num_mentions\")\n",
    "valid_ids = np.logical_and(valid_ids, valid_numbers_mentions)"
   ]
  },
  {
   "cell_type": "code",
   "execution_count": 39,
   "id": "d9cf2dea",
   "metadata": {},
   "outputs": [],
   "source": [
    "# get the valid numerical rows\n",
    "tweets = tweets[valid_ids]"
   ]
  },
  {
   "cell_type": "code",
   "execution_count": 40,
   "id": "41fe2f33",
   "metadata": {},
   "outputs": [
    {
     "data": {
      "text/plain": [
       "(11810201, 9)"
      ]
     },
     "execution_count": 40,
     "metadata": {},
     "output_type": "execute_result"
    }
   ],
   "source": [
    "tweets.shape"
   ]
  },
  {
   "cell_type": "code",
   "execution_count": 41,
   "id": "6984378f",
   "metadata": {},
   "outputs": [],
   "source": [
    "tweets_noout = pd.DataFrame()\n",
    "tweets_noout[\"retweet_count\"] = cleaned_retweet_count\n",
    "tweets_noout[\"reply_count\"] = cleaned_reply_count\n",
    "tweets_noout[\"favorite_count\"] = cleaned_favorite_count\n",
    "tweets_noout[\"num_hashtags\"] = cleaned_num_hashtags\n",
    "tweets_noout[\"num_urls\"] = cleaned_num_ursl\n",
    "tweets_noout[\"num_mentions\"] = cleaned_num_mentions"
   ]
  },
  {
   "cell_type": "markdown",
   "id": "575b6645",
   "metadata": {},
   "source": [
    "## numerical correlations"
   ]
  },
  {
   "cell_type": "code",
   "execution_count": 46,
   "id": "32e19b0a",
   "metadata": {},
   "outputs": [],
   "source": [
    "numerical_cols = [\"retweet_count\", \"reply_count\", \"favorite_count\", \"num_hashtags\", \"num_urls\", \"num_mentions\"]"
   ]
  },
  {
   "cell_type": "code",
   "execution_count": 55,
   "id": "a230e196",
   "metadata": {},
   "outputs": [],
   "source": [
    "sub_numerical_tweets = tweets_noout[numerical_cols]"
   ]
  },
  {
   "cell_type": "code",
   "execution_count": 48,
   "id": "7582e1e0",
   "metadata": {},
   "outputs": [
    {
     "data": {
      "text/html": [
       "<div>\n",
       "<style scoped>\n",
       "    .dataframe tbody tr th:only-of-type {\n",
       "        vertical-align: middle;\n",
       "    }\n",
       "\n",
       "    .dataframe tbody tr th {\n",
       "        vertical-align: top;\n",
       "    }\n",
       "\n",
       "    .dataframe thead th {\n",
       "        text-align: right;\n",
       "    }\n",
       "</style>\n",
       "<table border=\"1\" class=\"dataframe\">\n",
       "  <thead>\n",
       "    <tr style=\"text-align: right;\">\n",
       "      <th></th>\n",
       "      <th>retweet_count</th>\n",
       "      <th>reply_count</th>\n",
       "      <th>favorite_count</th>\n",
       "      <th>num_hashtags</th>\n",
       "      <th>num_urls</th>\n",
       "      <th>num_mentions</th>\n",
       "    </tr>\n",
       "    <tr>\n",
       "      <th>id</th>\n",
       "      <th></th>\n",
       "      <th></th>\n",
       "      <th></th>\n",
       "      <th></th>\n",
       "      <th></th>\n",
       "      <th></th>\n",
       "    </tr>\n",
       "  </thead>\n",
       "  <tbody>\n",
       "    <tr>\n",
       "      <th>509354017856950272</th>\n",
       "      <td>0.0</td>\n",
       "      <td>0.0</td>\n",
       "      <td>0.0</td>\n",
       "      <td>0.0</td>\n",
       "      <td>0.0</td>\n",
       "      <td>0.0</td>\n",
       "    </tr>\n",
       "    <tr>\n",
       "      <th>583002592529121280</th>\n",
       "      <td>1.0</td>\n",
       "      <td>0.0</td>\n",
       "      <td>0.0</td>\n",
       "      <td>0.0</td>\n",
       "      <td>0.0</td>\n",
       "      <td>1.0</td>\n",
       "    </tr>\n",
       "    <tr>\n",
       "      <th>461498835362013185</th>\n",
       "      <td>0.0</td>\n",
       "      <td>0.0</td>\n",
       "      <td>0.0</td>\n",
       "      <td>0.0</td>\n",
       "      <td>0.0</td>\n",
       "      <td>1.0</td>\n",
       "    </tr>\n",
       "    <tr>\n",
       "      <th>528808127366692864</th>\n",
       "      <td>0.0</td>\n",
       "      <td>0.0</td>\n",
       "      <td>0.0</td>\n",
       "      <td>0.0</td>\n",
       "      <td>0.0</td>\n",
       "      <td>0.0</td>\n",
       "    </tr>\n",
       "    <tr>\n",
       "      <th>575336690904006656</th>\n",
       "      <td>2.5</td>\n",
       "      <td>0.0</td>\n",
       "      <td>0.0</td>\n",
       "      <td>0.0</td>\n",
       "      <td>0.0</td>\n",
       "      <td>1.0</td>\n",
       "    </tr>\n",
       "  </tbody>\n",
       "</table>\n",
       "</div>"
      ],
      "text/plain": [
       "                    retweet_count  reply_count  favorite_count  num_hashtags  \\\n",
       "id                                                                             \n",
       "509354017856950272            0.0          0.0             0.0           0.0   \n",
       "583002592529121280            1.0          0.0             0.0           0.0   \n",
       "461498835362013185            0.0          0.0             0.0           0.0   \n",
       "528808127366692864            0.0          0.0             0.0           0.0   \n",
       "575336690904006656            2.5          0.0             0.0           0.0   \n",
       "\n",
       "                    num_urls  num_mentions  \n",
       "id                                          \n",
       "509354017856950272       0.0           0.0  \n",
       "583002592529121280       0.0           1.0  \n",
       "461498835362013185       0.0           1.0  \n",
       "528808127366692864       0.0           0.0  \n",
       "575336690904006656       0.0           1.0  "
      ]
     },
     "execution_count": 48,
     "metadata": {},
     "output_type": "execute_result"
    }
   ],
   "source": [
    "sub_numerical_tweets.head()"
   ]
  },
  {
   "cell_type": "code",
   "execution_count": 57,
   "id": "c2c6a55a",
   "metadata": {},
   "outputs": [],
   "source": [
    "sub_numerical_tweets = sub_numerical_tweets.astype(float)"
   ]
  },
  {
   "cell_type": "code",
   "execution_count": 58,
   "id": "c235a3a7",
   "metadata": {},
   "outputs": [
    {
     "data": {
      "text/html": [
       "<div>\n",
       "<style scoped>\n",
       "    .dataframe tbody tr th:only-of-type {\n",
       "        vertical-align: middle;\n",
       "    }\n",
       "\n",
       "    .dataframe tbody tr th {\n",
       "        vertical-align: top;\n",
       "    }\n",
       "\n",
       "    .dataframe thead th {\n",
       "        text-align: right;\n",
       "    }\n",
       "</style>\n",
       "<table border=\"1\" class=\"dataframe\">\n",
       "  <thead>\n",
       "    <tr style=\"text-align: right;\">\n",
       "      <th></th>\n",
       "      <th>retweet_count</th>\n",
       "      <th>reply_count</th>\n",
       "      <th>favorite_count</th>\n",
       "      <th>num_hashtags</th>\n",
       "      <th>num_urls</th>\n",
       "      <th>num_mentions</th>\n",
       "    </tr>\n",
       "  </thead>\n",
       "  <tbody>\n",
       "    <tr>\n",
       "      <th>retweet_count</th>\n",
       "      <td>1.000000</td>\n",
       "      <td>NaN</td>\n",
       "      <td>NaN</td>\n",
       "      <td>NaN</td>\n",
       "      <td>NaN</td>\n",
       "      <td>0.360363</td>\n",
       "    </tr>\n",
       "    <tr>\n",
       "      <th>reply_count</th>\n",
       "      <td>NaN</td>\n",
       "      <td>NaN</td>\n",
       "      <td>NaN</td>\n",
       "      <td>NaN</td>\n",
       "      <td>NaN</td>\n",
       "      <td>NaN</td>\n",
       "    </tr>\n",
       "    <tr>\n",
       "      <th>favorite_count</th>\n",
       "      <td>NaN</td>\n",
       "      <td>NaN</td>\n",
       "      <td>NaN</td>\n",
       "      <td>NaN</td>\n",
       "      <td>NaN</td>\n",
       "      <td>NaN</td>\n",
       "    </tr>\n",
       "    <tr>\n",
       "      <th>num_hashtags</th>\n",
       "      <td>NaN</td>\n",
       "      <td>NaN</td>\n",
       "      <td>NaN</td>\n",
       "      <td>NaN</td>\n",
       "      <td>NaN</td>\n",
       "      <td>NaN</td>\n",
       "    </tr>\n",
       "    <tr>\n",
       "      <th>num_urls</th>\n",
       "      <td>NaN</td>\n",
       "      <td>NaN</td>\n",
       "      <td>NaN</td>\n",
       "      <td>NaN</td>\n",
       "      <td>NaN</td>\n",
       "      <td>NaN</td>\n",
       "    </tr>\n",
       "    <tr>\n",
       "      <th>num_mentions</th>\n",
       "      <td>0.360363</td>\n",
       "      <td>NaN</td>\n",
       "      <td>NaN</td>\n",
       "      <td>NaN</td>\n",
       "      <td>NaN</td>\n",
       "      <td>1.000000</td>\n",
       "    </tr>\n",
       "  </tbody>\n",
       "</table>\n",
       "</div>"
      ],
      "text/plain": [
       "                retweet_count  reply_count  favorite_count  num_hashtags  \\\n",
       "retweet_count        1.000000          NaN             NaN           NaN   \n",
       "reply_count               NaN          NaN             NaN           NaN   \n",
       "favorite_count            NaN          NaN             NaN           NaN   \n",
       "num_hashtags              NaN          NaN             NaN           NaN   \n",
       "num_urls                  NaN          NaN             NaN           NaN   \n",
       "num_mentions         0.360363          NaN             NaN           NaN   \n",
       "\n",
       "                num_urls  num_mentions  \n",
       "retweet_count        NaN      0.360363  \n",
       "reply_count          NaN           NaN  \n",
       "favorite_count       NaN           NaN  \n",
       "num_hashtags         NaN           NaN  \n",
       "num_urls             NaN           NaN  \n",
       "num_mentions         NaN      1.000000  "
      ]
     },
     "execution_count": 58,
     "metadata": {},
     "output_type": "execute_result"
    }
   ],
   "source": [
    "sub_numerical_tweets.sample(10000).corr()"
   ]
  },
  {
   "cell_type": "markdown",
   "id": "0c6812fe",
   "metadata": {},
   "source": [
    "## Created at"
   ]
  },
  {
   "cell_type": "code",
   "execution_count": 60,
   "id": "9980a924",
   "metadata": {},
   "outputs": [
    {
     "name": "stdout",
     "output_type": "stream",
     "text": [
      "All the dates are ok!\n"
     ]
    }
   ],
   "source": [
    "try:\n",
    "    pd.to_datetime(tweets.created_at, format='%Y-%m-%d %H:%M:%S', errors='raise')\n",
    "    # do something\n",
    "    print(\"All the dates are ok!\")\n",
    "except ValueError as e:\n",
    "    print(e)"
   ]
  },
  {
   "cell_type": "code",
   "execution_count": 61,
   "id": "d1580d46",
   "metadata": {},
   "outputs": [
    {
     "data": {
      "text/plain": [
       "'1953-04-17 12:24:33'"
      ]
     },
     "execution_count": 61,
     "metadata": {},
     "output_type": "execute_result"
    }
   ],
   "source": [
    "# prima della creazione di tweetter\n",
    "tweets.created_at.min()"
   ]
  },
  {
   "cell_type": "code",
   "execution_count": 62,
   "id": "f4e44528",
   "metadata": {},
   "outputs": [
    {
     "data": {
      "text/plain": [
       "'2040-04-27 11:03:25'"
      ]
     },
     "execution_count": 62,
     "metadata": {},
     "output_type": "execute_result"
    }
   ],
   "source": [
    "# nel futuro\n",
    "tweets.created_at.max()"
   ]
  }
 ],
 "metadata": {
  "kernelspec": {
   "display_name": "venv",
   "language": "python",
   "name": "venv"
  },
  "language_info": {
   "codemirror_mode": {
    "name": "ipython",
    "version": 3
   },
   "file_extension": ".py",
   "mimetype": "text/x-python",
   "name": "python",
   "nbconvert_exporter": "python",
   "pygments_lexer": "ipython3",
   "version": "3.9.7"
  }
 },
 "nbformat": 4,
 "nbformat_minor": 5
}
