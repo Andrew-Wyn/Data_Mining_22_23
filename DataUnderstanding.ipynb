{
 "cells": [
  {
   "cell_type": "markdown",
   "id": "c706313f",
   "metadata": {},
   "source": [
    "# Data Understanding"
   ]
  },
  {
   "cell_type": "code",
   "execution_count": 31,
   "id": "1338928a",
   "metadata": {},
   "outputs": [],
   "source": [
    "import numpy as np\n",
    "import pandas as pd\n",
    "import matplotlib.pyplot as plt\n",
    "import scipy"
   ]
  },
  {
   "cell_type": "code",
   "execution_count": 2,
   "id": "e014fb30",
   "metadata": {},
   "outputs": [],
   "source": [
    "users = pd.read_csv(\"dataset/users.csv\", index_col=0)"
   ]
  },
  {
   "cell_type": "code",
   "execution_count": 3,
   "id": "064706bf",
   "metadata": {},
   "outputs": [
    {
     "data": {
      "text/html": [
       "<div>\n",
       "<style scoped>\n",
       "    .dataframe tbody tr th:only-of-type {\n",
       "        vertical-align: middle;\n",
       "    }\n",
       "\n",
       "    .dataframe tbody tr th {\n",
       "        vertical-align: top;\n",
       "    }\n",
       "\n",
       "    .dataframe thead th {\n",
       "        text-align: right;\n",
       "    }\n",
       "</style>\n",
       "<table border=\"1\" class=\"dataframe\">\n",
       "  <thead>\n",
       "    <tr style=\"text-align: right;\">\n",
       "      <th></th>\n",
       "      <th>name</th>\n",
       "      <th>lang</th>\n",
       "      <th>bot</th>\n",
       "      <th>created_at</th>\n",
       "      <th>statuses_count</th>\n",
       "    </tr>\n",
       "    <tr>\n",
       "      <th>id</th>\n",
       "      <th></th>\n",
       "      <th></th>\n",
       "      <th></th>\n",
       "      <th></th>\n",
       "      <th></th>\n",
       "    </tr>\n",
       "  </thead>\n",
       "  <tbody>\n",
       "    <tr>\n",
       "      <th>2353593986</th>\n",
       "      <td>Lamonica Raborn</td>\n",
       "      <td>en</td>\n",
       "      <td>1</td>\n",
       "      <td>2019-02-22 18:00:42</td>\n",
       "      <td>76.0</td>\n",
       "    </tr>\n",
       "    <tr>\n",
       "      <th>2358850842</th>\n",
       "      <td>Lourie Botton</td>\n",
       "      <td>en</td>\n",
       "      <td>0</td>\n",
       "      <td>2019-02-26 03:02:32</td>\n",
       "      <td>54.0</td>\n",
       "    </tr>\n",
       "    <tr>\n",
       "      <th>137959629</th>\n",
       "      <td>Dadan Syarifudin</td>\n",
       "      <td>en</td>\n",
       "      <td>1</td>\n",
       "      <td>2015-04-30 07:09:56</td>\n",
       "      <td>3.0</td>\n",
       "    </tr>\n",
       "    <tr>\n",
       "      <th>466124818</th>\n",
       "      <td>Carletto Focia</td>\n",
       "      <td>it</td>\n",
       "      <td>1</td>\n",
       "      <td>2017-01-18 02:49:18</td>\n",
       "      <td>50.0</td>\n",
       "    </tr>\n",
       "    <tr>\n",
       "      <th>2571493866</th>\n",
       "      <td>MBK Ebook</td>\n",
       "      <td>en</td>\n",
       "      <td>0</td>\n",
       "      <td>2019-06-18 19:30:21</td>\n",
       "      <td>7085.0</td>\n",
       "    </tr>\n",
       "  </tbody>\n",
       "</table>\n",
       "</div>"
      ],
      "text/plain": [
       "                        name lang  bot           created_at  statuses_count\n",
       "id                                                                         \n",
       "2353593986   Lamonica Raborn   en    1  2019-02-22 18:00:42            76.0\n",
       "2358850842     Lourie Botton   en    0  2019-02-26 03:02:32            54.0\n",
       "137959629   Dadan Syarifudin   en    1  2015-04-30 07:09:56             3.0\n",
       "466124818     Carletto Focia   it    1  2017-01-18 02:49:18            50.0\n",
       "2571493866         MBK Ebook   en    0  2019-06-18 19:30:21          7085.0"
      ]
     },
     "execution_count": 3,
     "metadata": {},
     "output_type": "execute_result"
    }
   ],
   "source": [
    "users.head()"
   ]
  },
  {
   "cell_type": "code",
   "execution_count": 4,
   "id": "4d71c683",
   "metadata": {},
   "outputs": [
    {
     "data": {
      "text/plain": [
       "(11508, 5)"
      ]
     },
     "execution_count": 4,
     "metadata": {},
     "output_type": "execute_result"
    }
   ],
   "source": [
    "users.shape"
   ]
  },
  {
   "cell_type": "code",
   "execution_count": 5,
   "id": "9e27042c",
   "metadata": {},
   "outputs": [
    {
     "name": "stdout",
     "output_type": "stream",
     "text": [
      "<class 'pandas.core.frame.DataFrame'>\n",
      "Int64Index: 11508 entries, 2353593986 to 933183398\n",
      "Data columns (total 5 columns):\n",
      " #   Column          Non-Null Count  Dtype  \n",
      "---  ------          --------------  -----  \n",
      " 0   name            11507 non-null  object \n",
      " 1   lang            11508 non-null  object \n",
      " 2   bot             11508 non-null  int64  \n",
      " 3   created_at      11508 non-null  object \n",
      " 4   statuses_count  11109 non-null  float64\n",
      "dtypes: float64(1), int64(1), object(3)\n",
      "memory usage: 539.4+ KB\n"
     ]
    }
   ],
   "source": [
    "users.info()"
   ]
  },
  {
   "cell_type": "code",
   "execution_count": 6,
   "id": "d9341051",
   "metadata": {},
   "outputs": [
    {
     "data": {
      "text/plain": [
       "11508"
      ]
     },
     "execution_count": 6,
     "metadata": {},
     "output_type": "execute_result"
    }
   ],
   "source": [
    "len(set(users.index))"
   ]
  },
  {
   "cell_type": "markdown",
   "id": "2cdd7b19",
   "metadata": {},
   "source": [
    "## Name\n",
    "\n",
    "show the records with Null names"
   ]
  },
  {
   "cell_type": "code",
   "execution_count": 7,
   "id": "03d8ffbe",
   "metadata": {},
   "outputs": [
    {
     "data": {
      "text/html": [
       "<div>\n",
       "<style scoped>\n",
       "    .dataframe tbody tr th:only-of-type {\n",
       "        vertical-align: middle;\n",
       "    }\n",
       "\n",
       "    .dataframe tbody tr th {\n",
       "        vertical-align: top;\n",
       "    }\n",
       "\n",
       "    .dataframe thead th {\n",
       "        text-align: right;\n",
       "    }\n",
       "</style>\n",
       "<table border=\"1\" class=\"dataframe\">\n",
       "  <thead>\n",
       "    <tr style=\"text-align: right;\">\n",
       "      <th></th>\n",
       "      <th>name</th>\n",
       "      <th>lang</th>\n",
       "      <th>bot</th>\n",
       "      <th>created_at</th>\n",
       "      <th>statuses_count</th>\n",
       "    </tr>\n",
       "    <tr>\n",
       "      <th>id</th>\n",
       "      <th></th>\n",
       "      <th></th>\n",
       "      <th></th>\n",
       "      <th></th>\n",
       "      <th></th>\n",
       "    </tr>\n",
       "  </thead>\n",
       "  <tbody>\n",
       "    <tr>\n",
       "      <th>2166124159</th>\n",
       "      <td>NaN</td>\n",
       "      <td>en</td>\n",
       "      <td>0</td>\n",
       "      <td>2018-11-02 06:39:14</td>\n",
       "      <td>6566.0</td>\n",
       "    </tr>\n",
       "  </tbody>\n",
       "</table>\n",
       "</div>"
      ],
      "text/plain": [
       "           name lang  bot           created_at  statuses_count\n",
       "id                                                            \n",
       "2166124159  NaN   en    0  2018-11-02 06:39:14          6566.0"
      ]
     },
     "execution_count": 7,
     "metadata": {},
     "output_type": "execute_result"
    }
   ],
   "source": [
    "users[users.name.isna()]"
   ]
  },
  {
   "cell_type": "code",
   "execution_count": 8,
   "id": "bee01072",
   "metadata": {},
   "outputs": [],
   "source": [
    "null_names_ids = users.name.isna()"
   ]
  },
  {
   "cell_type": "markdown",
   "id": "b1ce7ced",
   "metadata": {},
   "source": [
    "## Lang"
   ]
  },
  {
   "cell_type": "code",
   "execution_count": 9,
   "id": "743a51ba",
   "metadata": {},
   "outputs": [
    {
     "data": {
      "text/plain": [
       "array(['en', 'it', 'fr', 'ru', 'es', 'tr', 'en-gb', 'pt', 'nl', 'id',\n",
       "       'zh-tw', 'ja', 'de', 'ko', 'en-AU', 'da', 'ar', 'en-GB',\n",
       "       'Select Language...', 'zh-TW', 'zh-cn', 'pl', 'el', 'fil', 'sv',\n",
       "       'xx-lc'], dtype=object)"
      ]
     },
     "execution_count": 9,
     "metadata": {},
     "output_type": "execute_result"
    }
   ],
   "source": [
    "users.lang.unique()"
   ]
  },
  {
   "cell_type": "code",
   "execution_count": 10,
   "id": "92e97a1b",
   "metadata": {},
   "outputs": [
    {
     "data": {
      "text/plain": [
       "en                    9970\n",
       "it                     906\n",
       "es                     319\n",
       "pt                      65\n",
       "en-gb                   50\n",
       "ru                      42\n",
       "fr                      36\n",
       "ja                      33\n",
       "zh-tw                   17\n",
       "tr                      14\n",
       "id                      12\n",
       "ko                       9\n",
       "de                       8\n",
       "nl                       6\n",
       "en-GB                    4\n",
       "ar                       3\n",
       "zh-TW                    3\n",
       "da                       2\n",
       "Select Language...       2\n",
       "en-AU                    1\n",
       "zh-cn                    1\n",
       "pl                       1\n",
       "el                       1\n",
       "fil                      1\n",
       "sv                       1\n",
       "xx-lc                    1\n",
       "Name: lang, dtype: int64"
      ]
     },
     "execution_count": 10,
     "metadata": {},
     "output_type": "execute_result"
    }
   ],
   "source": [
    "users.lang.value_counts()"
   ]
  },
  {
   "cell_type": "code",
   "execution_count": 11,
   "id": "9391dcbb",
   "metadata": {},
   "outputs": [
    {
     "data": {
      "text/plain": [
       "array([1, 0])"
      ]
     },
     "execution_count": 11,
     "metadata": {},
     "output_type": "execute_result"
    }
   ],
   "source": [
    "users.bot.unique()"
   ]
  },
  {
   "cell_type": "code",
   "execution_count": 12,
   "id": "1ee69d7a",
   "metadata": {},
   "outputs": [
    {
     "data": {
      "text/plain": [
       "1    6116\n",
       "0    5392\n",
       "Name: bot, dtype: int64"
      ]
     },
     "execution_count": 12,
     "metadata": {},
     "output_type": "execute_result"
    }
   ],
   "source": [
    "users.bot.value_counts()"
   ]
  },
  {
   "cell_type": "markdown",
   "id": "0a36f627",
   "metadata": {},
   "source": [
    "## Created_at"
   ]
  },
  {
   "cell_type": "code",
   "execution_count": 13,
   "id": "f15ccf6d",
   "metadata": {},
   "outputs": [
    {
     "name": "stdout",
     "output_type": "stream",
     "text": [
      "All the dates are ok!\n"
     ]
    }
   ],
   "source": [
    "try:\n",
    "    pd.to_datetime(users['created_at'], format='%Y-%m-%d %H:%M:%S', errors='raise')\n",
    "    # do something\n",
    "    print(\"All the dates are ok!\")\n",
    "except ValueError as e:\n",
    "    print(e)\n"
   ]
  },
  {
   "cell_type": "code",
   "execution_count": 14,
   "id": "c0d5bbbe",
   "metadata": {},
   "outputs": [
    {
     "data": {
      "text/plain": [
       "'2012-01-24 01:57:38'"
      ]
     },
     "execution_count": 14,
     "metadata": {},
     "output_type": "execute_result"
    }
   ],
   "source": [
    "users.created_at.min()"
   ]
  },
  {
   "cell_type": "code",
   "execution_count": 15,
   "id": "8e889f1d",
   "metadata": {},
   "outputs": [
    {
     "data": {
      "text/plain": [
       "'2020-04-21 07:28:31'"
      ]
     },
     "execution_count": 15,
     "metadata": {},
     "output_type": "execute_result"
    }
   ],
   "source": [
    "users.created_at.max()"
   ]
  },
  {
   "cell_type": "code",
   "execution_count": 16,
   "id": "8fa31729",
   "metadata": {},
   "outputs": [
    {
     "data": {
      "image/png": "[encoded data removed]",
      "text/plain": [
       "<Figure size 640x480 with 1 Axes>"
      ]
     },
     "metadata": {},
     "output_type": "display_data"
    }
   ],
   "source": [
    "users.groupby(pd.to_datetime(users['created_at'], format='%Y-%m-%d %H:%M:%S', errors='raise').dt.year).count().plot(kind=\"bar\")\n",
    "plt.show()"
   ]
  },
  {
   "cell_type": "markdown",
   "id": "bd4db295",
   "metadata": {},
   "source": [
    "## Statuses_count"
   ]
  },
  {
   "cell_type": "code",
   "execution_count": 17,
   "id": "34fcc999",
   "metadata": {},
   "outputs": [],
   "source": [
    "null_statuses_count_ids = users.statuses_count.isna()"
   ]
  },
  {
   "cell_type": "code",
   "execution_count": 18,
   "id": "5294ceab",
   "metadata": {},
   "outputs": [
    {
     "data": {
      "text/plain": [
       "count     11109.000000\n",
       "mean       5883.312359\n",
       "std       19073.007305\n",
       "min           0.000000\n",
       "25%          41.000000\n",
       "50%          68.000000\n",
       "75%        2916.000000\n",
       "max      399555.000000\n",
       "Name: statuses_count, dtype: float64"
      ]
     },
     "execution_count": 18,
     "metadata": {},
     "output_type": "execute_result"
    }
   ],
   "source": [
    "users.statuses_count[~null_statuses_count_ids].describe()"
   ]
  },
  {
   "cell_type": "code",
   "execution_count": 19,
   "id": "1f19bd75",
   "metadata": {},
   "outputs": [
    {
     "data": {
      "text/plain": [
       "count      4993.000000\n",
       "mean      11638.219107\n",
       "std       26719.438432\n",
       "min           0.000000\n",
       "25%          61.000000\n",
       "50%        2041.000000\n",
       "75%       11585.000000\n",
       "max      399555.000000\n",
       "Name: statuses_count, dtype: float64"
      ]
     },
     "execution_count": 19,
     "metadata": {},
     "output_type": "execute_result"
    }
   ],
   "source": [
    "users[users.bot == 0].statuses_count[~null_statuses_count_ids].describe()"
   ]
  },
  {
   "cell_type": "code",
   "execution_count": 20,
   "id": "5516f00b",
   "metadata": {},
   "outputs": [
    {
     "data": {
      "text/plain": [
       "count      6116.000000\n",
       "mean       1185.102845\n",
       "std        5373.550630\n",
       "min           0.000000\n",
       "25%          32.000000\n",
       "50%          53.000000\n",
       "75%          78.000000\n",
       "max      214410.000000\n",
       "Name: statuses_count, dtype: float64"
      ]
     },
     "execution_count": 20,
     "metadata": {},
     "output_type": "execute_result"
    }
   ],
   "source": [
    "users[users.bot == 1].statuses_count[~null_statuses_count_ids].describe()"
   ]
  },
  {
   "cell_type": "code",
   "execution_count": 21,
   "id": "e7d9ffbf",
   "metadata": {},
   "outputs": [
    {
     "data": {
      "image/png": "[encoded data removed]",
      "text/plain": [
       "<Figure size 640x480 with 1 Axes>"
      ]
     },
     "metadata": {},
     "output_type": "display_data"
    }
   ],
   "source": [
    "pd.DataFrame(users.statuses_count[~null_statuses_count_ids]).boxplot()\n",
    "plt.show()"
   ]
  },
  {
   "cell_type": "code",
   "execution_count": 22,
   "id": "a9c9ff8c",
   "metadata": {},
   "outputs": [
    {
     "data": {
      "image/png": "[encoded data removed]",
      "text/plain": [
       "<Figure size 640x480 with 1 Axes>"
      ]
     },
     "metadata": {},
     "output_type": "display_data"
    }
   ],
   "source": [
    "pd.DataFrame(users[users.bot == 0].statuses_count[~null_statuses_count_ids]).boxplot()\n",
    "plt.show()"
   ]
  },
  {
   "cell_type": "code",
   "execution_count": 23,
   "id": "3bb83570",
   "metadata": {},
   "outputs": [
    {
     "data": {
      "image/png": "[encoded data removed]",
      "text/plain": [
       "<Figure size 640x480 with 1 Axes>"
      ]
     },
     "metadata": {},
     "output_type": "display_data"
    }
   ],
   "source": [
    "pd.DataFrame(users[users.bot == 1].statuses_count[~null_statuses_count_ids]).boxplot()\n",
    "plt.show()"
   ]
  },
  {
   "cell_type": "markdown",
   "id": "ac684328",
   "metadata": {},
   "source": [
    "## Tweets"
   ]
  },
  {
   "cell_type": "code",
   "execution_count": 24,
   "id": "f05f80d5",
   "metadata": {},
   "outputs": [],
   "source": [
    "tweets = pd.read_csv(\"dataset/tweets.csv\", index_col=0)"
   ]
  },
  {
   "cell_type": "code",
   "execution_count": 25,
   "id": "1bef3e6f",
   "metadata": {},
   "outputs": [
    {
     "data": {
      "text/html": [
       "<div>\n",
       "<style scoped>\n",
       "    .dataframe tbody tr th:only-of-type {\n",
       "        vertical-align: middle;\n",
       "    }\n",
       "\n",
       "    .dataframe tbody tr th {\n",
       "        vertical-align: top;\n",
       "    }\n",
       "\n",
       "    .dataframe thead th {\n",
       "        text-align: right;\n",
       "    }\n",
       "</style>\n",
       "<table border=\"1\" class=\"dataframe\">\n",
       "  <thead>\n",
       "    <tr style=\"text-align: right;\">\n",
       "      <th></th>\n",
       "      <th>user_id</th>\n",
       "      <th>retweet_count</th>\n",
       "      <th>reply_count</th>\n",
       "      <th>favorite_count</th>\n",
       "      <th>num_hashtags</th>\n",
       "      <th>num_urls</th>\n",
       "      <th>num_mentions</th>\n",
       "      <th>created_at</th>\n",
       "      <th>text</th>\n",
       "    </tr>\n",
       "    <tr>\n",
       "      <th>id</th>\n",
       "      <th></th>\n",
       "      <th></th>\n",
       "      <th></th>\n",
       "      <th></th>\n",
       "      <th></th>\n",
       "      <th></th>\n",
       "      <th></th>\n",
       "      <th></th>\n",
       "      <th></th>\n",
       "    </tr>\n",
       "  </thead>\n",
       "  <tbody>\n",
       "    <tr>\n",
       "      <th>509354017856950272</th>\n",
       "      <td>327746321</td>\n",
       "      <td>0</td>\n",
       "      <td>0</td>\n",
       "      <td>0</td>\n",
       "      <td>0</td>\n",
       "      <td>0</td>\n",
       "      <td>0</td>\n",
       "      <td>2019-09-11 14:53:55</td>\n",
       "      <td>If man is a little lower than angels, then ang...</td>\n",
       "    </tr>\n",
       "    <tr>\n",
       "      <th>583002592529121280</th>\n",
       "      <td>333722906</td>\n",
       "      <td>1</td>\n",
       "      <td>0</td>\n",
       "      <td>0</td>\n",
       "      <td>0</td>\n",
       "      <td>0</td>\n",
       "      <td>1</td>\n",
       "      <td>2020-04-01 20:27:04</td>\n",
       "      <td>\"@BestWSHHVids: how do you say these words wit...</td>\n",
       "    </tr>\n",
       "    <tr>\n",
       "      <th>461498835362013185</th>\n",
       "      <td>2379755827</td>\n",
       "      <td>0</td>\n",
       "      <td>0</td>\n",
       "      <td>0</td>\n",
       "      <td>0</td>\n",
       "      <td>0</td>\n",
       "      <td>1</td>\n",
       "      <td>2019-05-02 13:34:31</td>\n",
       "      <td>@LOLatComedy awsome</td>\n",
       "    </tr>\n",
       "    <tr>\n",
       "      <th>528808127366692864</th>\n",
       "      <td>466226882</td>\n",
       "      <td>0</td>\n",
       "      <td>0</td>\n",
       "      <td>0</td>\n",
       "      <td>0</td>\n",
       "      <td>0</td>\n",
       "      <td>0</td>\n",
       "      <td>2019-11-04 07:17:37</td>\n",
       "      <td>Stephen Hawkins: i buchi neri non esistono se ...</td>\n",
       "    </tr>\n",
       "    <tr>\n",
       "      <th>575336690904006656</th>\n",
       "      <td>1355537995</td>\n",
       "      <td>114</td>\n",
       "      <td>0</td>\n",
       "      <td>0</td>\n",
       "      <td>1</td>\n",
       "      <td>0</td>\n",
       "      <td>1</td>\n",
       "      <td>2020-03-11 16:45:31</td>\n",
       "      <td>RT @tibbs_montris: So ready for Wednesday!</td>\n",
       "    </tr>\n",
       "  </tbody>\n",
       "</table>\n",
       "</div>"
      ],
      "text/plain": [
       "                       user_id retweet_count reply_count favorite_count  \\\n",
       "id                                                                        \n",
       "509354017856950272   327746321             0           0              0   \n",
       "583002592529121280   333722906             1           0              0   \n",
       "461498835362013185  2379755827             0           0              0   \n",
       "528808127366692864   466226882             0           0              0   \n",
       "575336690904006656  1355537995           114           0              0   \n",
       "\n",
       "                   num_hashtags num_urls num_mentions           created_at  \\\n",
       "id                                                                           \n",
       "509354017856950272            0        0            0  2019-09-11 14:53:55   \n",
       "583002592529121280            0        0            1  2020-04-01 20:27:04   \n",
       "461498835362013185            0        0            1  2019-05-02 13:34:31   \n",
       "528808127366692864            0        0            0  2019-11-04 07:17:37   \n",
       "575336690904006656            1        0            1  2020-03-11 16:45:31   \n",
       "\n",
       "                                                                 text  \n",
       "id                                                                     \n",
       "509354017856950272  If man is a little lower than angels, then ang...  \n",
       "583002592529121280  \"@BestWSHHVids: how do you say these words wit...  \n",
       "461498835362013185                                @LOLatComedy awsome  \n",
       "528808127366692864  Stephen Hawkins: i buchi neri non esistono se ...  \n",
       "575336690904006656        RT @tibbs_montris: So ready for Wednesday!   "
      ]
     },
     "execution_count": 25,
     "metadata": {},
     "output_type": "execute_result"
    }
   ],
   "source": [
    "tweets.head()"
   ]
  },
  {
   "cell_type": "code",
   "execution_count": 26,
   "id": "50037567",
   "metadata": {},
   "outputs": [
    {
     "data": {
      "text/plain": [
       "(13664696, 9)"
      ]
     },
     "execution_count": 26,
     "metadata": {},
     "output_type": "execute_result"
    }
   ],
   "source": [
    "tweets.shape"
   ]
  },
  {
   "cell_type": "code",
   "execution_count": 43,
   "id": "45cb81a7",
   "metadata": {},
   "outputs": [
    {
     "name": "stdout",
     "output_type": "stream",
     "text": [
      "<class 'pandas.core.frame.DataFrame'>\n",
      "Index: 13664696 entries, 509354017856950272 to 486479812614451200\n",
      "Data columns (total 9 columns):\n",
      " #   Column          Dtype \n",
      "---  ------          ----- \n",
      " 0   user_id         object\n",
      " 1   retweet_count   object\n",
      " 2   reply_count     object\n",
      " 3   favorite_count  object\n",
      " 4   num_hashtags    object\n",
      " 5   num_urls        object\n",
      " 6   num_mentions    object\n",
      " 7   created_at      object\n",
      " 8   text            object\n",
      "dtypes: object(9)\n",
      "memory usage: 1.3+ GB\n"
     ]
    }
   ],
   "source": [
    "tweets.info()"
   ]
  },
  {
   "cell_type": "markdown",
   "id": "78799d46",
   "metadata": {},
   "source": [
    "## User_id"
   ]
  },
  {
   "cell_type": "code",
   "execution_count": 27,
   "id": "da2ecda3",
   "metadata": {},
   "outputs": [
    {
     "data": {
      "text/plain": [
       "497404180     4600\n",
       "7004532       4580\n",
       "157029836     4578\n",
       "1693274954    4572\n",
       "491630583     4570\n",
       "              ... \n",
       "9a8wb95x4        1\n",
       "ql8aw            1\n",
       "40rcr            1\n",
       "syeybyw2um       1\n",
       "tzn9s6bwj        1\n",
       "Name: user_id, Length: 222285, dtype: int64"
      ]
     },
     "execution_count": 27,
     "metadata": {},
     "output_type": "execute_result"
    }
   ],
   "source": [
    "tweets.user_id.value_counts()"
   ]
  },
  {
   "cell_type": "code",
   "execution_count": 33,
   "id": "90f6e3de",
   "metadata": {},
   "outputs": [
    {
     "name": "stdout",
     "output_type": "stream",
     "text": [
      "222286\n"
     ]
    }
   ],
   "source": [
    "unique_user_id = tweets.user_id.unique()\n",
    "print(len(unique_user_id))"
   ]
  },
  {
   "cell_type": "code",
   "execution_count": 36,
   "id": "85ba9c78",
   "metadata": {},
   "outputs": [],
   "source": [
    "# vettorializzare, capire come rendere più veloce\n",
    "\n",
    "def is_natural(x):\n",
    "    # return true if x is a natural number\n",
    "    if np.isreal(x):\n",
    "        return x == np.floor(x)\n",
    "    else:\n",
    "        return False"
   ]
  },
  {
   "cell_type": "code",
   "execution_count": 47,
   "id": "45ee91d2",
   "metadata": {},
   "outputs": [],
   "source": [
    "numeric_user_id = pd.to_numeric(tweets.user_id, errors='coerce')"
   ]
  },
  {
   "cell_type": "code",
   "execution_count": 52,
   "id": "04e3b792",
   "metadata": {},
   "outputs": [],
   "source": [
    "nan_ids_user_id = numeric_user_id.isna()"
   ]
  },
  {
   "cell_type": "code",
   "execution_count": 53,
   "id": "5498bcd3",
   "metadata": {},
   "outputs": [
    {
     "name": "stdout",
     "output_type": "stream",
     "text": [
      "non numerical ids 433895\n"
     ]
    }
   ],
   "source": [
    "print(f\"non numerical ids {np.sum(nan_ids_user_id)}\")"
   ]
  },
  {
   "cell_type": "code",
   "execution_count": 68,
   "id": "7804d3b4",
   "metadata": {},
   "outputs": [
    {
     "name": "stdout",
     "output_type": "stream",
     "text": [
      "497404180     4600\n",
      "7004532       4580\n",
      "157029836     4578\n",
      "1693274954    4572\n",
      "491630583     4570\n",
      "              ... \n",
      "790              1\n",
      "937              1\n",
      "648              1\n",
      "0e1              1\n",
      "261              1\n",
      "Name: user_id, Length: 12273, dtype: int64\n"
     ]
    }
   ],
   "source": [
    "value_counts_number_user_id = tweets.user_id[~nan_ids_user_id].value_counts()\n",
    "print(value_counts_number_user_id)"
   ]
  },
  {
   "cell_type": "code",
   "execution_count": 61,
   "id": "a9e1dc2c",
   "metadata": {},
   "outputs": [],
   "source": [
    "# notiamo che alcuni user_id sono ambigui (\"0e1\"),\n",
    "# in una seconda fase, quando andremo a fare un join tra la\n",
    "# tabella dei tweets e la tabella degli utenti andremo ad eliminare i valori che non hanno un corrispettivo id\n",
    "# nella tabella degli utenti."
   ]
  },
  {
   "cell_type": "markdown",
   "id": "f0347dce",
   "metadata": {},
   "source": [
    "## Retweet_count"
   ]
  },
  {
   "cell_type": "code",
   "execution_count": 83,
   "id": "091c9f4a",
   "metadata": {},
   "outputs": [],
   "source": [
    "numeric_retweet_count = pd.to_numeric(tweets.retweet_count, errors=\"coerce\")"
   ]
  },
  {
   "cell_type": "code",
   "execution_count": 88,
   "id": "868bd9f9",
   "metadata": {},
   "outputs": [],
   "source": [
    "na_ids_retweet_count = numeric_retweet_count.isna()\n",
    "inf_ids_retweet_count = numeric_retweet_count.apply(np.isinf)"
   ]
  },
  {
   "cell_type": "code",
   "execution_count": 89,
   "id": "d3881b99",
   "metadata": {},
   "outputs": [
    {
     "name": "stdout",
     "output_type": "stream",
     "text": [
      "625456\n",
      "1\n"
     ]
    }
   ],
   "source": [
    "print(np.sum(na_ids_retweet_count))\n",
    "print(np.sum(inf_ids_retweet_count))"
   ]
  },
  {
   "cell_type": "code",
   "execution_count": 99,
   "id": "cebd4dd8",
   "metadata": {},
   "outputs": [
    {
     "data": {
      "text/plain": [
       "count     1.303924e+07\n",
       "mean     1.533832e+127\n",
       "std      5.538649e+130\n",
       "min       0.000000e+00\n",
       "25%       0.000000e+00\n",
       "50%       0.000000e+00\n",
       "75%       1.000000e+00\n",
       "max      2.000000e+134\n",
       "Name: retweet_count, dtype: float64"
      ]
     },
     "execution_count": 99,
     "metadata": {},
     "output_type": "execute_result"
    }
   ],
   "source": [
    "numeric_retweet_count[~np.logical_or(na_ids_retweet_count, inf_ids_retweet_count)].describe()"
   ]
  },
  {
   "cell_type": "code",
   "execution_count": 102,
   "id": "5fb4ec40",
   "metadata": {},
   "outputs": [
    {
     "data": {
      "image/png": "[encoded data removed]",
      "text/plain": [
       "<Figure size 640x480 with 1 Axes>"
      ]
     },
     "metadata": {},
     "output_type": "display_data"
    }
   ],
   "source": [
    "pd.DataFrame(numeric_retweet_count[~np.logical_or(na_ids_retweet_count, inf_ids_retweet_count)]).boxplot()\n",
    "plt.show()"
   ]
  },
  {
   "cell_type": "markdown",
   "id": "bb0e786c",
   "metadata": {},
   "source": [
    "## reply count"
   ]
  },
  {
   "cell_type": "code",
   "execution_count": 105,
   "id": "cf87018e",
   "metadata": {},
   "outputs": [],
   "source": [
    "numeric_reply_count = pd.to_numeric(tweets.reply_count, errors=\"coerce\")"
   ]
  },
  {
   "cell_type": "code",
   "execution_count": 106,
   "id": "2303c314",
   "metadata": {},
   "outputs": [],
   "source": [
    "na_ids_reply_count = numeric_reply_count.isna()\n",
    "inf_ids_reply_count = numeric_reply_count.apply(np.isinf)"
   ]
  },
  {
   "cell_type": "code",
   "execution_count": 108,
   "id": "f5d4b7a6",
   "metadata": {},
   "outputs": [
    {
     "name": "stdout",
     "output_type": "stream",
     "text": [
      "809504\n",
      "1\n"
     ]
    }
   ],
   "source": [
    "print(np.sum(na_ids_reply_count))\n",
    "print(np.sum(inf_ids_reply_count))"
   ]
  },
  {
   "cell_type": "code",
   "execution_count": 109,
   "id": "6e114f76",
   "metadata": {},
   "outputs": [
    {
     "data": {
      "text/plain": [
       "count     1.285519e+07\n",
       "mean     1.555792e+103\n",
       "std      5.578157e+106\n",
       "min       0.000000e+00\n",
       "25%       0.000000e+00\n",
       "50%       0.000000e+00\n",
       "75%       0.000000e+00\n",
       "max      2.000000e+110\n",
       "Name: reply_count, dtype: float64"
      ]
     },
     "execution_count": 109,
     "metadata": {},
     "output_type": "execute_result"
    }
   ],
   "source": [
    "numeric_reply_count[~np.logical_or(na_ids_reply_count, inf_ids_reply_count)].describe()"
   ]
  },
  {
   "cell_type": "code",
   "execution_count": 110,
   "id": "965be6fe",
   "metadata": {},
   "outputs": [
    {
     "data": {
      "image/png": "[encoded data removed]",
      "text/plain": [
       "<Figure size 640x480 with 1 Axes>"
      ]
     },
     "metadata": {},
     "output_type": "display_data"
    }
   ],
   "source": [
    "pd.DataFrame(numeric_retweet_count[~np.logical_or(na_ids_retweet_count, inf_ids_retweet_count)]).boxplot()\n",
    "plt.show()"
   ]
  },
  {
   "cell_type": "markdown",
   "id": "6cb879c9",
   "metadata": {},
   "source": [
    "## Favorite count"
   ]
  },
  {
   "cell_type": "code",
   "execution_count": 111,
   "id": "b9ba5d30",
   "metadata": {},
   "outputs": [],
   "source": [
    "numeric_favorite_count = pd.to_numeric(tweets.favorite_count, errors=\"coerce\")"
   ]
  },
  {
   "cell_type": "code",
   "execution_count": 116,
   "id": "e8f8146c",
   "metadata": {},
   "outputs": [],
   "source": [
    "na_ids_favorite_count = numeric_favorite_count.isna()\n",
    "inf_ids_favorite_count = numeric_favorite_count.apply(np.isinf)\n",
    "negative_ids_favotite_count = numeric_favorite_count.apply(lambda x: x<0)"
   ]
  },
  {
   "cell_type": "code",
   "execution_count": 117,
   "id": "0e98694f",
   "metadata": {},
   "outputs": [
    {
     "name": "stdout",
     "output_type": "stream",
     "text": [
      "808097\n",
      "0\n",
      "1\n"
     ]
    }
   ],
   "source": [
    "print(np.sum(na_ids_favorite_count))\n",
    "print(np.sum(inf_ids_favorite_count))\n",
    "print(np.sum(negative_ids_favotite_count))"
   ]
  },
  {
   "cell_type": "code",
   "execution_count": 118,
   "id": "c9d570a8",
   "metadata": {},
   "outputs": [
    {
     "data": {
      "text/plain": [
       "count     1.285660e+07\n",
       "mean     5.444675e+204\n",
       "std                inf\n",
       "min      -1.000000e+00\n",
       "25%       0.000000e+00\n",
       "50%       0.000000e+00\n",
       "75%       0.000000e+00\n",
       "max      7.000000e+211\n",
       "Name: favorite_count, dtype: float64"
      ]
     },
     "execution_count": 118,
     "metadata": {},
     "output_type": "execute_result"
    }
   ],
   "source": [
    "numeric_favorite_count[~np.logical_or(na_ids_favorite_count, inf_ids_favorite_count, negative_ids_favotite_count)].describe()"
   ]
  },
  {
   "cell_type": "code",
   "execution_count": 119,
   "id": "00b3e6c8",
   "metadata": {},
   "outputs": [
    {
     "data": {
      "image/png": "[encoded data removed]",
      "text/plain": [
       "<Figure size 640x480 with 1 Axes>"
      ]
     },
     "metadata": {},
     "output_type": "display_data"
    }
   ],
   "source": [
    "pd.DataFrame(numeric_favorite_count[~np.logical_or(na_ids_favorite_count, inf_ids_favorite_count, negative_ids_favotite_count)]).boxplot()\n",
    "plt.show()"
   ]
  },
  {
   "cell_type": "markdown",
   "id": "be67b0e0",
   "metadata": {},
   "source": [
    "## num hashtags"
   ]
  },
  {
   "cell_type": "code",
   "execution_count": 123,
   "id": "35389f39",
   "metadata": {},
   "outputs": [],
   "source": [
    "numeric_num_hashtags = pd.to_numeric(tweets.num_hashtags, errors=\"coerce\")"
   ]
  },
  {
   "cell_type": "code",
   "execution_count": 124,
   "id": "a712fefe",
   "metadata": {},
   "outputs": [],
   "source": [
    "na_ids_num_hashtags = numeric_num_hashtags.isna()\n",
    "inf_ids_num_hashtags = numeric_num_hashtags.apply(np.isinf)\n",
    "negative_ids_num_hashtags = numeric_num_hashtags.apply(lambda x: x<0)"
   ]
  },
  {
   "cell_type": "code",
   "execution_count": 126,
   "id": "97b2a350",
   "metadata": {},
   "outputs": [
    {
     "name": "stdout",
     "output_type": "stream",
     "text": [
      "1163677\n",
      "0\n",
      "0\n"
     ]
    }
   ],
   "source": [
    "print(np.sum(na_ids_num_hashtags))\n",
    "print(np.sum(inf_ids_num_hashtags))\n",
    "print(np.sum(negative_ids_num_hashtags))"
   ]
  },
  {
   "cell_type": "code",
   "execution_count": 127,
   "id": "4ab6f2d4",
   "metadata": {},
   "outputs": [
    {
     "data": {
      "text/plain": [
       "count     1.250102e+07\n",
       "mean     5.599544e+146\n",
       "std      1.979818e+150\n",
       "min       0.000000e+00\n",
       "25%       0.000000e+00\n",
       "50%       0.000000e+00\n",
       "75%       0.000000e+00\n",
       "max      7.000000e+153\n",
       "Name: num_hashtags, dtype: float64"
      ]
     },
     "execution_count": 127,
     "metadata": {},
     "output_type": "execute_result"
    }
   ],
   "source": [
    "numeric_num_hashtags[~np.logical_or(na_ids_num_hashtags, inf_ids_num_hashtags, negative_ids_num_hashtags)].describe()"
   ]
  },
  {
   "cell_type": "code",
   "execution_count": 133,
   "id": "628e585a",
   "metadata": {},
   "outputs": [
    {
     "data": {
      "image/png": "[encoded data removed]",
      "text/plain": [
       "<Figure size 640x480 with 1 Axes>"
      ]
     },
     "metadata": {},
     "output_type": "display_data"
    }
   ],
   "source": [
    "pd.DataFrame(numeric_num_hashtags[~np.logical_or(na_ids_num_hashtags, inf_ids_num_hashtags, negative_ids_num_hashtags)]).boxplot()\n",
    "plt.show()"
   ]
  },
  {
   "cell_type": "markdown",
   "id": "4dccbdf2",
   "metadata": {},
   "source": [
    "## Num urls"
   ]
  },
  {
   "cell_type": "code",
   "execution_count": 131,
   "id": "9812bf14",
   "metadata": {},
   "outputs": [],
   "source": [
    "numeric_num_urls = pd.to_numeric(tweets.num_urls, errors=\"coerce\")"
   ]
  },
  {
   "cell_type": "code",
   "execution_count": 141,
   "id": "a85b20d7",
   "metadata": {},
   "outputs": [],
   "source": [
    "na_ids_num_urls = numeric_num_urls.isna()\n",
    "inf_ids_num_urls = numeric_num_urls.apply(np.isinf)\n",
    "negative_ids_num_urls = numeric_num_urls.apply(lambda x: x<0)"
   ]
  },
  {
   "cell_type": "code",
   "execution_count": 142,
   "id": "1ceed806",
   "metadata": {},
   "outputs": [
    {
     "name": "stdout",
     "output_type": "stream",
     "text": [
      "808953\n",
      "0\n",
      "0\n"
     ]
    }
   ],
   "source": [
    "print(np.sum(na_ids_num_urls))\n",
    "print(np.sum(inf_ids_num_urls))\n",
    "print(np.sum(negative_ids_num_urls))"
   ]
  },
  {
   "cell_type": "code",
   "execution_count": 143,
   "id": "b1a933ac",
   "metadata": {},
   "outputs": [
    {
     "data": {
      "text/plain": [
       "count     1.285574e+07\n",
       "mean     7.778625e+202\n",
       "std                inf\n",
       "min       0.000000e+00\n",
       "25%       0.000000e+00\n",
       "50%       0.000000e+00\n",
       "75%       0.000000e+00\n",
       "max      1.000000e+210\n",
       "Name: num_urls, dtype: float64"
      ]
     },
     "execution_count": 143,
     "metadata": {},
     "output_type": "execute_result"
    }
   ],
   "source": [
    "numeric_num_urls[~np.logical_or(na_ids_num_urls, inf_ids_num_urls, negative_ids_num_urls)].describe()"
   ]
  },
  {
   "cell_type": "code",
   "execution_count": 144,
   "id": "1282bd9b",
   "metadata": {},
   "outputs": [
    {
     "data": {
      "image/png": "[encoded data removed]",
      "text/plain": [
       "<Figure size 640x480 with 1 Axes>"
      ]
     },
     "metadata": {},
     "output_type": "display_data"
    }
   ],
   "source": [
    "pd.DataFrame(numeric_num_urls[~np.logical_or(na_ids_num_urls, inf_ids_num_urls, negative_ids_num_urls)]).boxplot()\n",
    "plt.show()"
   ]
  },
  {
   "cell_type": "markdown",
   "id": "92e86419",
   "metadata": {},
   "source": [
    "## Num mentions"
   ]
  },
  {
   "cell_type": "code",
   "execution_count": 145,
   "id": "b544cdfb",
   "metadata": {},
   "outputs": [],
   "source": [
    "numeric_num_mentions = pd.to_numeric(tweets.num_mentions, errors=\"coerce\")"
   ]
  },
  {
   "cell_type": "code",
   "execution_count": 146,
   "id": "6f824124",
   "metadata": {},
   "outputs": [],
   "source": [
    "na_ids_num_mentions = numeric_num_mentions.isna()\n",
    "inf_ids_num_mentions = numeric_num_mentions.apply(np.isinf)\n",
    "negative_ids_num_mentions = numeric_num_mentions.apply(lambda x: x<0)"
   ]
  },
  {
   "cell_type": "code",
   "execution_count": 147,
   "id": "a3a62917",
   "metadata": {},
   "outputs": [
    {
     "name": "stdout",
     "output_type": "stream",
     "text": [
      "987990\n",
      "0\n",
      "0\n"
     ]
    }
   ],
   "source": [
    "print(np.sum(na_ids_num_mentions))\n",
    "print(np.sum(inf_ids_num_mentions))\n",
    "print(np.sum(negative_ids_num_mentions))"
   ]
  },
  {
   "cell_type": "code",
   "execution_count": 148,
   "id": "67b25546",
   "metadata": {},
   "outputs": [
    {
     "data": {
      "text/plain": [
       "count    1.267671e+07\n",
       "mean     4.733091e+90\n",
       "std      1.685187e+94\n",
       "min      0.000000e+00\n",
       "25%      0.000000e+00\n",
       "50%      0.000000e+00\n",
       "75%      1.000000e+00\n",
       "max      6.000000e+97\n",
       "Name: num_mentions, dtype: float64"
      ]
     },
     "execution_count": 148,
     "metadata": {},
     "output_type": "execute_result"
    }
   ],
   "source": [
    "numeric_num_mentions[~np.logical_or(na_ids_num_mentions, inf_ids_num_mentions, negative_ids_num_mentions)].describe()"
   ]
  },
  {
   "cell_type": "code",
   "execution_count": 149,
   "id": "78e60ca4",
   "metadata": {},
   "outputs": [
    {
     "data": {
      "image/png": "[encoded data removed]",
      "text/plain": [
       "<Figure size 640x480 with 1 Axes>"
      ]
     },
     "metadata": {},
     "output_type": "display_data"
    }
   ],
   "source": [
    "pd.DataFrame(numeric_num_mentions[~np.logical_or(na_ids_num_mentions, inf_ids_num_mentions, negative_ids_num_mentions)]).boxplot()\n",
    "plt.show()"
   ]
  },
  {
   "cell_type": "markdown",
   "id": "575b6645",
   "metadata": {},
   "source": [
    "## numerical correlations"
   ]
  },
  {
   "cell_type": "code",
   "execution_count": 150,
   "id": "32e19b0a",
   "metadata": {},
   "outputs": [],
   "source": [
    "numerical_cols = [\"retweet_count\", \"reply_count\", \"favorite_count\", \"num_hashtags\", \"num_urls\", \"num_mentions\"]"
   ]
  },
  {
   "cell_type": "code",
   "execution_count": 154,
   "id": "a230e196",
   "metadata": {},
   "outputs": [],
   "source": [
    "sub_numerical_tweets = tweets[numerical_cols]"
   ]
  },
  {
   "cell_type": "code",
   "execution_count": 159,
   "id": "c235a3a7",
   "metadata": {},
   "outputs": [
    {
     "name": "stderr",
     "output_type": "stream",
     "text": [
      "/var/folders/h6/9j84q4q56zd3nyy8fl00jw0w0000gn/T/ipykernel_9919/1528693957.py:1: FutureWarning: The default value of numeric_only in DataFrame.corr is deprecated. In a future version, it will default to False. Select only valid columns or specify the value of numeric_only to silence this warning.\n",
      "  sub_numerical_tweets.sample(10000).corr()\n"
     ]
    },
    {
     "data": {
      "text/html": [
       "<div>\n",
       "<style scoped>\n",
       "    .dataframe tbody tr th:only-of-type {\n",
       "        vertical-align: middle;\n",
       "    }\n",
       "\n",
       "    .dataframe tbody tr th {\n",
       "        vertical-align: top;\n",
       "    }\n",
       "\n",
       "    .dataframe thead th {\n",
       "        text-align: right;\n",
       "    }\n",
       "</style>\n",
       "<table border=\"1\" class=\"dataframe\">\n",
       "  <thead>\n",
       "    <tr style=\"text-align: right;\">\n",
       "      <th></th>\n",
       "    </tr>\n",
       "  </thead>\n",
       "  <tbody>\n",
       "  </tbody>\n",
       "</table>\n",
       "</div>"
      ],
      "text/plain": [
       "Empty DataFrame\n",
       "Columns: []\n",
       "Index: []"
      ]
     },
     "execution_count": 159,
     "metadata": {},
     "output_type": "execute_result"
    }
   ],
   "source": [
    "# pulire prima i dati!!!\n",
    "\n",
    "sub_numerical_tweets.sample(10000).corr()"
   ]
  },
  {
   "cell_type": "markdown",
   "id": "0c6812fe",
   "metadata": {},
   "source": [
    "## Created at"
   ]
  },
  {
   "cell_type": "code",
   "execution_count": 160,
   "id": "9980a924",
   "metadata": {},
   "outputs": [
    {
     "name": "stdout",
     "output_type": "stream",
     "text": [
      "All the dates are ok!\n"
     ]
    }
   ],
   "source": [
    "try:\n",
    "    pd.to_datetime(tweets.created_at, format='%Y-%m-%d %H:%M:%S', errors='raise')\n",
    "    # do something\n",
    "    print(\"All the dates are ok!\")\n",
    "except ValueError as e:\n",
    "    print(e)"
   ]
  },
  {
   "cell_type": "code",
   "execution_count": 161,
   "id": "d1580d46",
   "metadata": {},
   "outputs": [
    {
     "data": {
      "text/plain": [
       "'1953-04-17 12:24:33'"
      ]
     },
     "execution_count": 161,
     "metadata": {},
     "output_type": "execute_result"
    }
   ],
   "source": [
    "# prima della creazione di tweetter\n",
    "tweets.created_at.min()"
   ]
  },
  {
   "cell_type": "code",
   "execution_count": 162,
   "id": "f4e44528",
   "metadata": {},
   "outputs": [
    {
     "data": {
      "text/plain": [
       "'2040-04-27 11:03:25'"
      ]
     },
     "execution_count": 162,
     "metadata": {},
     "output_type": "execute_result"
    }
   ],
   "source": [
    "# nel futuro\n",
    "tweets.created_at.max()"
   ]
  }
 ],
 "metadata": {
  "kernelspec": {
   "display_name": "venv",
   "language": "python",
   "name": "venv"
  },
  "language_info": {
   "codemirror_mode": {
    "name": "ipython",
    "version": 3
   },
   "file_extension": ".py",
   "mimetype": "text/x-python",
   "name": "python",
   "nbconvert_exporter": "python",
   "pygments_lexer": "ipython3",
   "version": "3.9.7"
  }
 },
 "nbformat": 4,
 "nbformat_minor": 5
}
