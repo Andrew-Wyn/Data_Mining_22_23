{
 "cells": [
  {
   "cell_type": "markdown",
   "id": "1f700b7d",
   "metadata": {},
   "source": [
    "# Classification with KNN"
   ]
  },
  {
   "cell_type": "code",
   "execution_count": 1,
   "id": "fd8b955c",
   "metadata": {},
   "outputs": [],
   "source": [
    "import pandas as pd\n",
    "from sklearn import metrics\n",
    "from sklearn.metrics import classification_report\n",
    "from sklearn.model_selection import cross_validate\n",
    "import statistics\n",
    "from sklearn.metrics import ConfusionMatrixDisplay, confusion_matrix\n",
    "import matplotlib.pyplot as plt\n",
    "from sklearn.decomposition import PCA\n",
    "from sklearn.datasets import make_blobs\n",
    "from classification_utils import *\n",
    "import sklearn\n",
    "from sklearn import neighbors, datasets\n",
    "from sklearn.model_selection import GridSearchCV\n",
    "from sklearn.neighbors import KNeighborsClassifier\n",
    "import pickle\n",
    "from sklearn.metrics import RocCurveDisplay"
   ]
  },
  {
   "cell_type": "markdown",
   "id": "b0faed82",
   "metadata": {},
   "source": [
    "## Load data"
   ]
  },
  {
   "cell_type": "code",
   "execution_count": 2,
   "id": "d7a54c12",
   "metadata": {},
   "outputs": [],
   "source": [
    "data = pd.read_csv(\"../dataset/cleaned_user_profiles.csv\", index_col=0)"
   ]
  },
  {
   "cell_type": "code",
   "execution_count": 3,
   "id": "32fe643e",
   "metadata": {},
   "outputs": [
    {
     "data": {
      "text/html": [
       "<div>\n",
       "<style scoped>\n",
       "    .dataframe tbody tr th:only-of-type {\n",
       "        vertical-align: middle;\n",
       "    }\n",
       "\n",
       "    .dataframe tbody tr th {\n",
       "        vertical-align: top;\n",
       "    }\n",
       "\n",
       "    .dataframe thead th {\n",
       "        text-align: right;\n",
       "    }\n",
       "</style>\n",
       "<table border=\"1\" class=\"dataframe\">\n",
       "  <thead>\n",
       "    <tr style=\"text-align: right;\">\n",
       "      <th></th>\n",
       "      <th>name</th>\n",
       "      <th>lang</th>\n",
       "      <th>bot</th>\n",
       "      <th>created_at</th>\n",
       "      <th>statuses_count</th>\n",
       "      <th>avg_length</th>\n",
       "      <th>avg_special_chars</th>\n",
       "      <th>urls_ratio</th>\n",
       "      <th>mentions_ratio</th>\n",
       "      <th>hashtags_ratio</th>\n",
       "      <th>reply_count_mean</th>\n",
       "      <th>reply_count_std</th>\n",
       "      <th>favorite_count_mean</th>\n",
       "      <th>favorite_count_std</th>\n",
       "      <th>favorite_count_entropy</th>\n",
       "      <th>retweet_count_mean</th>\n",
       "      <th>retweet_count_std</th>\n",
       "      <th>retweet_count_entropy</th>\n",
       "    </tr>\n",
       "  </thead>\n",
       "  <tbody>\n",
       "    <tr>\n",
       "      <th>2353593986</th>\n",
       "      <td>Lamonica Raborn</td>\n",
       "      <td>en</td>\n",
       "      <td>1</td>\n",
       "      <td>2019-02-22 18:00:42</td>\n",
       "      <td>76</td>\n",
       "      <td>62.340909</td>\n",
       "      <td>14.015152</td>\n",
       "      <td>0.000000</td>\n",
       "      <td>0.272727</td>\n",
       "      <td>0.098485</td>\n",
       "      <td>0.0</td>\n",
       "      <td>0.0</td>\n",
       "      <td>0.037879</td>\n",
       "      <td>0.190903</td>\n",
       "      <td>0.232481</td>\n",
       "      <td>0.037879</td>\n",
       "      <td>0.190903</td>\n",
       "      <td>0.232481</td>\n",
       "    </tr>\n",
       "    <tr>\n",
       "      <th>2358850842</th>\n",
       "      <td>Lourie Botton</td>\n",
       "      <td>en</td>\n",
       "      <td>0</td>\n",
       "      <td>2019-02-26 03:02:32</td>\n",
       "      <td>54</td>\n",
       "      <td>69.082645</td>\n",
       "      <td>15.041322</td>\n",
       "      <td>0.000000</td>\n",
       "      <td>0.338843</td>\n",
       "      <td>0.024793</td>\n",
       "      <td>0.0</td>\n",
       "      <td>0.0</td>\n",
       "      <td>0.049587</td>\n",
       "      <td>0.217090</td>\n",
       "      <td>0.284639</td>\n",
       "      <td>0.024793</td>\n",
       "      <td>0.155495</td>\n",
       "      <td>0.167568</td>\n",
       "    </tr>\n",
       "    <tr>\n",
       "      <th>137959629</th>\n",
       "      <td>Dadan Syarifudin</td>\n",
       "      <td>en</td>\n",
       "      <td>1</td>\n",
       "      <td>2015-04-30 07:09:56</td>\n",
       "      <td>53</td>\n",
       "      <td>65.340909</td>\n",
       "      <td>14.694444</td>\n",
       "      <td>0.000000</td>\n",
       "      <td>0.000000</td>\n",
       "      <td>0.000000</td>\n",
       "      <td>0.0</td>\n",
       "      <td>0.0</td>\n",
       "      <td>0.000000</td>\n",
       "      <td>0.000000</td>\n",
       "      <td>0.000000</td>\n",
       "      <td>0.000000</td>\n",
       "      <td>0.000000</td>\n",
       "      <td>-0.000000</td>\n",
       "    </tr>\n",
       "    <tr>\n",
       "      <th>466124818</th>\n",
       "      <td>Carletto Focia</td>\n",
       "      <td>it</td>\n",
       "      <td>1</td>\n",
       "      <td>2017-01-18 02:49:18</td>\n",
       "      <td>50</td>\n",
       "      <td>86.944871</td>\n",
       "      <td>18.689463</td>\n",
       "      <td>0.022331</td>\n",
       "      <td>0.006281</td>\n",
       "      <td>0.072575</td>\n",
       "      <td>0.0</td>\n",
       "      <td>0.0</td>\n",
       "      <td>0.165387</td>\n",
       "      <td>0.530838</td>\n",
       "      <td>0.669155</td>\n",
       "      <td>0.826239</td>\n",
       "      <td>13.034008</td>\n",
       "      <td>0.392850</td>\n",
       "    </tr>\n",
       "    <tr>\n",
       "      <th>2571493866</th>\n",
       "      <td>MBK Ebook</td>\n",
       "      <td>en</td>\n",
       "      <td>0</td>\n",
       "      <td>2019-06-18 19:30:21</td>\n",
       "      <td>7085</td>\n",
       "      <td>72.311246</td>\n",
       "      <td>14.582073</td>\n",
       "      <td>0.000825</td>\n",
       "      <td>0.506461</td>\n",
       "      <td>0.118229</td>\n",
       "      <td>0.0</td>\n",
       "      <td>0.0</td>\n",
       "      <td>0.056365</td>\n",
       "      <td>0.243387</td>\n",
       "      <td>0.317182</td>\n",
       "      <td>0.016772</td>\n",
       "      <td>0.142619</td>\n",
       "      <td>0.120737</td>\n",
       "    </tr>\n",
       "  </tbody>\n",
       "</table>\n",
       "</div>"
      ],
      "text/plain": [
       "                        name lang  bot           created_at  statuses_count  \\\n",
       "2353593986   Lamonica Raborn   en    1  2019-02-22 18:00:42              76   \n",
       "2358850842     Lourie Botton   en    0  2019-02-26 03:02:32              54   \n",
       "137959629   Dadan Syarifudin   en    1  2015-04-30 07:09:56              53   \n",
       "466124818     Carletto Focia   it    1  2017-01-18 02:49:18              50   \n",
       "2571493866         MBK Ebook   en    0  2019-06-18 19:30:21            7085   \n",
       "\n",
       "            avg_length  avg_special_chars  urls_ratio  mentions_ratio  \\\n",
       "2353593986   62.340909          14.015152    0.000000        0.272727   \n",
       "2358850842   69.082645          15.041322    0.000000        0.338843   \n",
       "137959629    65.340909          14.694444    0.000000        0.000000   \n",
       "466124818    86.944871          18.689463    0.022331        0.006281   \n",
       "2571493866   72.311246          14.582073    0.000825        0.506461   \n",
       "\n",
       "            hashtags_ratio  reply_count_mean  reply_count_std  \\\n",
       "2353593986        0.098485               0.0              0.0   \n",
       "2358850842        0.024793               0.0              0.0   \n",
       "137959629         0.000000               0.0              0.0   \n",
       "466124818         0.072575               0.0              0.0   \n",
       "2571493866        0.118229               0.0              0.0   \n",
       "\n",
       "            favorite_count_mean  favorite_count_std  favorite_count_entropy  \\\n",
       "2353593986             0.037879            0.190903                0.232481   \n",
       "2358850842             0.049587            0.217090                0.284639   \n",
       "137959629              0.000000            0.000000                0.000000   \n",
       "466124818              0.165387            0.530838                0.669155   \n",
       "2571493866             0.056365            0.243387                0.317182   \n",
       "\n",
       "            retweet_count_mean  retweet_count_std  retweet_count_entropy  \n",
       "2353593986            0.037879           0.190903               0.232481  \n",
       "2358850842            0.024793           0.155495               0.167568  \n",
       "137959629             0.000000           0.000000              -0.000000  \n",
       "466124818             0.826239          13.034008               0.392850  \n",
       "2571493866            0.016772           0.142619               0.120737  "
      ]
     },
     "execution_count": 3,
     "metadata": {},
     "output_type": "execute_result"
    }
   ],
   "source": [
    "data.head()"
   ]
  },
  {
   "cell_type": "code",
   "execution_count": 4,
   "id": "112bf764",
   "metadata": {},
   "outputs": [
    {
     "data": {
      "text/html": [
       "<div>\n",
       "<style scoped>\n",
       "    .dataframe tbody tr th:only-of-type {\n",
       "        vertical-align: middle;\n",
       "    }\n",
       "\n",
       "    .dataframe tbody tr th {\n",
       "        vertical-align: top;\n",
       "    }\n",
       "\n",
       "    .dataframe thead th {\n",
       "        text-align: right;\n",
       "    }\n",
       "</style>\n",
       "<table border=\"1\" class=\"dataframe\">\n",
       "  <thead>\n",
       "    <tr style=\"text-align: right;\">\n",
       "      <th></th>\n",
       "      <th>bot</th>\n",
       "      <th>statuses_count</th>\n",
       "      <th>avg_length</th>\n",
       "      <th>avg_special_chars</th>\n",
       "      <th>urls_ratio</th>\n",
       "      <th>mentions_ratio</th>\n",
       "      <th>hashtags_ratio</th>\n",
       "      <th>reply_count_mean</th>\n",
       "      <th>reply_count_std</th>\n",
       "      <th>favorite_count_mean</th>\n",
       "      <th>favorite_count_std</th>\n",
       "      <th>favorite_count_entropy</th>\n",
       "      <th>retweet_count_mean</th>\n",
       "      <th>retweet_count_std</th>\n",
       "      <th>retweet_count_entropy</th>\n",
       "    </tr>\n",
       "  </thead>\n",
       "  <tbody>\n",
       "    <tr>\n",
       "      <th>count</th>\n",
       "      <td>11508.000000</td>\n",
       "      <td>11508.000000</td>\n",
       "      <td>11508.000000</td>\n",
       "      <td>11508.000000</td>\n",
       "      <td>11508.000000</td>\n",
       "      <td>11508.000000</td>\n",
       "      <td>11508.000000</td>\n",
       "      <td>11508.000000</td>\n",
       "      <td>11508.000000</td>\n",
       "      <td>11508.000000</td>\n",
       "      <td>11508.000000</td>\n",
       "      <td>11508.000000</td>\n",
       "      <td>11508.000000</td>\n",
       "      <td>11508.000000</td>\n",
       "      <td>11508.000000</td>\n",
       "    </tr>\n",
       "    <tr>\n",
       "      <th>mean</th>\n",
       "      <td>0.531456</td>\n",
       "      <td>5148.794751</td>\n",
       "      <td>67.100135</td>\n",
       "      <td>15.045892</td>\n",
       "      <td>0.031045</td>\n",
       "      <td>0.347537</td>\n",
       "      <td>0.101921</td>\n",
       "      <td>0.001967</td>\n",
       "      <td>0.023941</td>\n",
       "      <td>0.084282</td>\n",
       "      <td>0.365569</td>\n",
       "      <td>0.385430</td>\n",
       "      <td>98.347409</td>\n",
       "      <td>361.956697</td>\n",
       "      <td>1.011612</td>\n",
       "    </tr>\n",
       "    <tr>\n",
       "      <th>std</th>\n",
       "      <td>0.499031</td>\n",
       "      <td>18496.606420</td>\n",
       "      <td>12.755296</td>\n",
       "      <td>2.454106</td>\n",
       "      <td>0.053379</td>\n",
       "      <td>0.343735</td>\n",
       "      <td>0.093837</td>\n",
       "      <td>0.007796</td>\n",
       "      <td>0.068508</td>\n",
       "      <td>0.109623</td>\n",
       "      <td>0.408441</td>\n",
       "      <td>0.390787</td>\n",
       "      <td>329.248000</td>\n",
       "      <td>626.207734</td>\n",
       "      <td>1.412183</td>\n",
       "    </tr>\n",
       "    <tr>\n",
       "      <th>min</th>\n",
       "      <td>0.000000</td>\n",
       "      <td>0.000000</td>\n",
       "      <td>32.500000</td>\n",
       "      <td>9.644166</td>\n",
       "      <td>0.000000</td>\n",
       "      <td>0.000000</td>\n",
       "      <td>0.000000</td>\n",
       "      <td>0.000000</td>\n",
       "      <td>0.000000</td>\n",
       "      <td>0.000000</td>\n",
       "      <td>0.000000</td>\n",
       "      <td>0.000000</td>\n",
       "      <td>0.000000</td>\n",
       "      <td>0.000000</td>\n",
       "      <td>-0.000000</td>\n",
       "    </tr>\n",
       "    <tr>\n",
       "      <th>25%</th>\n",
       "      <td>0.000000</td>\n",
       "      <td>53.000000</td>\n",
       "      <td>59.686796</td>\n",
       "      <td>13.553296</td>\n",
       "      <td>0.000000</td>\n",
       "      <td>0.010260</td>\n",
       "      <td>0.045455</td>\n",
       "      <td>0.000000</td>\n",
       "      <td>0.000000</td>\n",
       "      <td>0.017751</td>\n",
       "      <td>0.136692</td>\n",
       "      <td>0.119116</td>\n",
       "      <td>0.022901</td>\n",
       "      <td>0.151796</td>\n",
       "      <td>0.136059</td>\n",
       "    </tr>\n",
       "    <tr>\n",
       "      <th>50%</th>\n",
       "      <td>1.000000</td>\n",
       "      <td>57.000000</td>\n",
       "      <td>65.340909</td>\n",
       "      <td>14.694444</td>\n",
       "      <td>0.005109</td>\n",
       "      <td>0.303797</td>\n",
       "      <td>0.073394</td>\n",
       "      <td>0.000000</td>\n",
       "      <td>0.000000</td>\n",
       "      <td>0.045752</td>\n",
       "      <td>0.230747</td>\n",
       "      <td>0.268594</td>\n",
       "      <td>0.096931</td>\n",
       "      <td>0.437106</td>\n",
       "      <td>0.312150</td>\n",
       "    </tr>\n",
       "    <tr>\n",
       "      <th>75%</th>\n",
       "      <td>1.000000</td>\n",
       "      <td>2041.000000</td>\n",
       "      <td>74.254999</td>\n",
       "      <td>16.772205</td>\n",
       "      <td>0.037445</td>\n",
       "      <td>0.500000</td>\n",
       "      <td>0.128810</td>\n",
       "      <td>0.000000</td>\n",
       "      <td>0.000000</td>\n",
       "      <td>0.088862</td>\n",
       "      <td>0.451218</td>\n",
       "      <td>0.491767</td>\n",
       "      <td>74.499524</td>\n",
       "      <td>533.013057</td>\n",
       "      <td>1.462435</td>\n",
       "    </tr>\n",
       "    <tr>\n",
       "      <th>max</th>\n",
       "      <td>1.000000</td>\n",
       "      <td>399555.000000</td>\n",
       "      <td>104.449541</td>\n",
       "      <td>22.000000</td>\n",
       "      <td>0.287760</td>\n",
       "      <td>1.726592</td>\n",
       "      <td>0.478261</td>\n",
       "      <td>0.044444</td>\n",
       "      <td>0.333767</td>\n",
       "      <td>0.529903</td>\n",
       "      <td>2.183383</td>\n",
       "      <td>1.723913</td>\n",
       "      <td>14432.000000</td>\n",
       "      <td>5442.443396</td>\n",
       "      <td>9.161105</td>\n",
       "    </tr>\n",
       "  </tbody>\n",
       "</table>\n",
       "</div>"
      ],
      "text/plain": [
       "                bot  statuses_count    avg_length  avg_special_chars  \\\n",
       "count  11508.000000    11508.000000  11508.000000       11508.000000   \n",
       "mean       0.531456     5148.794751     67.100135          15.045892   \n",
       "std        0.499031    18496.606420     12.755296           2.454106   \n",
       "min        0.000000        0.000000     32.500000           9.644166   \n",
       "25%        0.000000       53.000000     59.686796          13.553296   \n",
       "50%        1.000000       57.000000     65.340909          14.694444   \n",
       "75%        1.000000     2041.000000     74.254999          16.772205   \n",
       "max        1.000000   399555.000000    104.449541          22.000000   \n",
       "\n",
       "         urls_ratio  mentions_ratio  hashtags_ratio  reply_count_mean  \\\n",
       "count  11508.000000    11508.000000    11508.000000      11508.000000   \n",
       "mean       0.031045        0.347537        0.101921          0.001967   \n",
       "std        0.053379        0.343735        0.093837          0.007796   \n",
       "min        0.000000        0.000000        0.000000          0.000000   \n",
       "25%        0.000000        0.010260        0.045455          0.000000   \n",
       "50%        0.005109        0.303797        0.073394          0.000000   \n",
       "75%        0.037445        0.500000        0.128810          0.000000   \n",
       "max        0.287760        1.726592        0.478261          0.044444   \n",
       "\n",
       "       reply_count_std  favorite_count_mean  favorite_count_std  \\\n",
       "count     11508.000000         11508.000000        11508.000000   \n",
       "mean          0.023941             0.084282            0.365569   \n",
       "std           0.068508             0.109623            0.408441   \n",
       "min           0.000000             0.000000            0.000000   \n",
       "25%           0.000000             0.017751            0.136692   \n",
       "50%           0.000000             0.045752            0.230747   \n",
       "75%           0.000000             0.088862            0.451218   \n",
       "max           0.333767             0.529903            2.183383   \n",
       "\n",
       "       favorite_count_entropy  retweet_count_mean  retweet_count_std  \\\n",
       "count            11508.000000        11508.000000       11508.000000   \n",
       "mean                 0.385430           98.347409         361.956697   \n",
       "std                  0.390787          329.248000         626.207734   \n",
       "min                  0.000000            0.000000           0.000000   \n",
       "25%                  0.119116            0.022901           0.151796   \n",
       "50%                  0.268594            0.096931           0.437106   \n",
       "75%                  0.491767           74.499524         533.013057   \n",
       "max                  1.723913        14432.000000        5442.443396   \n",
       "\n",
       "       retweet_count_entropy  \n",
       "count           11508.000000  \n",
       "mean                1.011612  \n",
       "std                 1.412183  \n",
       "min                -0.000000  \n",
       "25%                 0.136059  \n",
       "50%                 0.312150  \n",
       "75%                 1.462435  \n",
       "max                 9.161105  "
      ]
     },
     "execution_count": 4,
     "metadata": {},
     "output_type": "execute_result"
    }
   ],
   "source": [
    "# A descrption of the dataset\n",
    "data.describe()"
   ]
  },
  {
   "cell_type": "code",
   "execution_count": 5,
   "id": "09be82cc",
   "metadata": {},
   "outputs": [
    {
     "data": {
      "text/plain": [
       "False"
      ]
     },
     "execution_count": 5,
     "metadata": {},
     "output_type": "execute_result"
    }
   ],
   "source": [
    "# Checks if there is any null value\n",
    "data.isnull().values.any()"
   ]
  },
  {
   "cell_type": "code",
   "execution_count": 6,
   "id": "c870ee2f",
   "metadata": {},
   "outputs": [
    {
     "data": {
      "image/png": "[encoded data removed]",
      "text/plain": [
       "<Figure size 640x480 with 1 Axes>"
      ]
     },
     "metadata": {},
     "output_type": "display_data"
    }
   ],
   "source": [
    "plot_lang_hist(data)"
   ]
  },
  {
   "cell_type": "markdown",
   "id": "678fe1ae",
   "metadata": {},
   "source": [
    "Apply the **One-Hot-Encoding** of **Lang** feature"
   ]
  },
  {
   "cell_type": "code",
   "execution_count": 7,
   "id": "40ed1765",
   "metadata": {},
   "outputs": [],
   "source": [
    "data = data.join(pd.get_dummies(data[\"lang\"]))"
   ]
  },
  {
   "cell_type": "code",
   "execution_count": 8,
   "id": "4e1400f1",
   "metadata": {
    "scrolled": true
   },
   "outputs": [
    {
     "name": "stdout",
     "output_type": "stream",
     "text": [
      "Classification features : ['created_at', 'statuses_count', 'avg_length', 'avg_special_chars', 'urls_ratio', 'mentions_ratio', 'hashtags_ratio', 'reply_count_mean', 'reply_count_std', 'favorite_count_mean', 'favorite_count_std', 'favorite_count_entropy', 'retweet_count_mean', 'retweet_count_std', 'retweet_count_entropy', 'ar', 'da', 'de', 'el', 'en', 'es', 'fil', 'fr', 'id', 'it', 'ja', 'ko', 'nl', 'pl', 'pt', 'ru', 'sv', 'tr', 'zh']\n"
     ]
    }
   ],
   "source": [
    "train_set, test_set, train_label, test_label = prepare_data(data)"
   ]
  },
  {
   "cell_type": "code",
   "execution_count": 9,
   "id": "c4db9964",
   "metadata": {},
   "outputs": [
    {
     "data": {
      "text/html": [
       "<div>\n",
       "<style scoped>\n",
       "    .dataframe tbody tr th:only-of-type {\n",
       "        vertical-align: middle;\n",
       "    }\n",
       "\n",
       "    .dataframe tbody tr th {\n",
       "        vertical-align: top;\n",
       "    }\n",
       "\n",
       "    .dataframe thead th {\n",
       "        text-align: right;\n",
       "    }\n",
       "</style>\n",
       "<table border=\"1\" class=\"dataframe\">\n",
       "  <thead>\n",
       "    <tr style=\"text-align: right;\">\n",
       "      <th></th>\n",
       "      <th>created_at</th>\n",
       "      <th>statuses_count</th>\n",
       "      <th>avg_length</th>\n",
       "      <th>avg_special_chars</th>\n",
       "      <th>urls_ratio</th>\n",
       "      <th>mentions_ratio</th>\n",
       "      <th>hashtags_ratio</th>\n",
       "      <th>reply_count_mean</th>\n",
       "      <th>reply_count_std</th>\n",
       "      <th>favorite_count_mean</th>\n",
       "      <th>...</th>\n",
       "      <th>it</th>\n",
       "      <th>ja</th>\n",
       "      <th>ko</th>\n",
       "      <th>nl</th>\n",
       "      <th>pl</th>\n",
       "      <th>pt</th>\n",
       "      <th>ru</th>\n",
       "      <th>sv</th>\n",
       "      <th>tr</th>\n",
       "      <th>zh</th>\n",
       "    </tr>\n",
       "  </thead>\n",
       "  <tbody>\n",
       "    <tr>\n",
       "      <th>2351467735</th>\n",
       "      <td>1550743978</td>\n",
       "      <td>53</td>\n",
       "      <td>46.951807</td>\n",
       "      <td>9.884337</td>\n",
       "      <td>0.000000</td>\n",
       "      <td>0.387952</td>\n",
       "      <td>0.038554</td>\n",
       "      <td>0.0</td>\n",
       "      <td>0.0</td>\n",
       "      <td>0.043373</td>\n",
       "      <td>...</td>\n",
       "      <td>0</td>\n",
       "      <td>0</td>\n",
       "      <td>0</td>\n",
       "      <td>0</td>\n",
       "      <td>0</td>\n",
       "      <td>0</td>\n",
       "      <td>0</td>\n",
       "      <td>0</td>\n",
       "      <td>0</td>\n",
       "      <td>0</td>\n",
       "    </tr>\n",
       "    <tr>\n",
       "      <th>347587058</th>\n",
       "      <td>1470273787</td>\n",
       "      <td>53</td>\n",
       "      <td>78.573190</td>\n",
       "      <td>17.079357</td>\n",
       "      <td>0.005109</td>\n",
       "      <td>0.000000</td>\n",
       "      <td>0.000000</td>\n",
       "      <td>0.0</td>\n",
       "      <td>0.0</td>\n",
       "      <td>0.013137</td>\n",
       "      <td>...</td>\n",
       "      <td>0</td>\n",
       "      <td>0</td>\n",
       "      <td>0</td>\n",
       "      <td>0</td>\n",
       "      <td>0</td>\n",
       "      <td>0</td>\n",
       "      <td>0</td>\n",
       "      <td>0</td>\n",
       "      <td>0</td>\n",
       "      <td>0</td>\n",
       "    </tr>\n",
       "    <tr>\n",
       "      <th>1129895606</th>\n",
       "      <td>1517367911</td>\n",
       "      <td>53</td>\n",
       "      <td>55.833333</td>\n",
       "      <td>12.611111</td>\n",
       "      <td>0.000000</td>\n",
       "      <td>0.000000</td>\n",
       "      <td>0.111111</td>\n",
       "      <td>0.0</td>\n",
       "      <td>0.0</td>\n",
       "      <td>0.000000</td>\n",
       "      <td>...</td>\n",
       "      <td>0</td>\n",
       "      <td>0</td>\n",
       "      <td>0</td>\n",
       "      <td>0</td>\n",
       "      <td>0</td>\n",
       "      <td>0</td>\n",
       "      <td>0</td>\n",
       "      <td>0</td>\n",
       "      <td>0</td>\n",
       "      <td>0</td>\n",
       "    </tr>\n",
       "    <tr>\n",
       "      <th>269193431</th>\n",
       "      <td>1458547948</td>\n",
       "      <td>9105</td>\n",
       "      <td>60.301689</td>\n",
       "      <td>12.949343</td>\n",
       "      <td>0.051782</td>\n",
       "      <td>0.505816</td>\n",
       "      <td>0.036398</td>\n",
       "      <td>0.0</td>\n",
       "      <td>0.0</td>\n",
       "      <td>0.160600</td>\n",
       "      <td>...</td>\n",
       "      <td>0</td>\n",
       "      <td>0</td>\n",
       "      <td>0</td>\n",
       "      <td>0</td>\n",
       "      <td>0</td>\n",
       "      <td>0</td>\n",
       "      <td>0</td>\n",
       "      <td>0</td>\n",
       "      <td>0</td>\n",
       "      <td>0</td>\n",
       "    </tr>\n",
       "    <tr>\n",
       "      <th>2368471386</th>\n",
       "      <td>1551683554</td>\n",
       "      <td>54</td>\n",
       "      <td>63.949580</td>\n",
       "      <td>15.117647</td>\n",
       "      <td>0.000000</td>\n",
       "      <td>0.352941</td>\n",
       "      <td>0.084034</td>\n",
       "      <td>0.0</td>\n",
       "      <td>0.0</td>\n",
       "      <td>0.050420</td>\n",
       "      <td>...</td>\n",
       "      <td>0</td>\n",
       "      <td>0</td>\n",
       "      <td>0</td>\n",
       "      <td>0</td>\n",
       "      <td>0</td>\n",
       "      <td>0</td>\n",
       "      <td>0</td>\n",
       "      <td>0</td>\n",
       "      <td>0</td>\n",
       "      <td>0</td>\n",
       "    </tr>\n",
       "  </tbody>\n",
       "</table>\n",
       "<p>5 rows × 34 columns</p>\n",
       "</div>"
      ],
      "text/plain": [
       "            created_at  statuses_count  avg_length  avg_special_chars  \\\n",
       "2351467735  1550743978              53   46.951807           9.884337   \n",
       "347587058   1470273787              53   78.573190          17.079357   \n",
       "1129895606  1517367911              53   55.833333          12.611111   \n",
       "269193431   1458547948            9105   60.301689          12.949343   \n",
       "2368471386  1551683554              54   63.949580          15.117647   \n",
       "\n",
       "            urls_ratio  mentions_ratio  hashtags_ratio  reply_count_mean  \\\n",
       "2351467735    0.000000        0.387952        0.038554               0.0   \n",
       "347587058     0.005109        0.000000        0.000000               0.0   \n",
       "1129895606    0.000000        0.000000        0.111111               0.0   \n",
       "269193431     0.051782        0.505816        0.036398               0.0   \n",
       "2368471386    0.000000        0.352941        0.084034               0.0   \n",
       "\n",
       "            reply_count_std  favorite_count_mean  ...  it  ja  ko  nl  pl  pt  \\\n",
       "2351467735              0.0             0.043373  ...   0   0   0   0   0   0   \n",
       "347587058               0.0             0.013137  ...   0   0   0   0   0   0   \n",
       "1129895606              0.0             0.000000  ...   0   0   0   0   0   0   \n",
       "269193431               0.0             0.160600  ...   0   0   0   0   0   0   \n",
       "2368471386              0.0             0.050420  ...   0   0   0   0   0   0   \n",
       "\n",
       "            ru  sv  tr  zh  \n",
       "2351467735   0   0   0   0  \n",
       "347587058    0   0   0   0  \n",
       "1129895606   0   0   0   0  \n",
       "269193431    0   0   0   0  \n",
       "2368471386   0   0   0   0  \n",
       "\n",
       "[5 rows x 34 columns]"
      ]
     },
     "execution_count": 9,
     "metadata": {},
     "output_type": "execute_result"
    }
   ],
   "source": [
    "train_set.head()"
   ]
  },
  {
   "cell_type": "code",
   "execution_count": 10,
   "id": "2138655d",
   "metadata": {},
   "outputs": [],
   "source": [
    "# Normalizes the data\n",
    "train_X = sklearn.preprocessing.normalize(train_set.values)\n",
    "test_X = sklearn.preprocessing.normalize(test_set.values)"
   ]
  },
  {
   "cell_type": "markdown",
   "id": "566a07cb",
   "metadata": {},
   "source": [
    "Apply grid search over some parameters:\n",
    "- **n_neighbors**: number of neighbors to use by default for kneighbors queries;\n",
    "- **algorithm**: algorithm used to compute the nearest neighbors."
   ]
  },
  {
   "cell_type": "code",
   "execution_count": 11,
   "id": "dd7718da",
   "metadata": {},
   "outputs": [
    {
     "name": "stdout",
     "output_type": "stream",
     "text": [
      "Fitting 3 folds for each of 76 candidates, totalling 228 fits\n",
      "The best parameters are {'algorithm': 'ball_tree', 'n_neighbors': 15} with a score of 0.87685\n"
     ]
    }
   ],
   "source": [
    "k_range = list(range(1, 20))\n",
    "param_grid = dict(\n",
    "    n_neighbors = k_range,\n",
    "    algorithm = list({'auto', 'ball_tree', 'kd_tree', 'brute'})\n",
    ")\n",
    "\n",
    "knn = KNeighborsClassifier()\n",
    "\n",
    "grid = GridSearchCV(\n",
    "    knn,\n",
    "    param_grid,\n",
    "    cv=3,\n",
    "    scoring='accuracy',\n",
    "    return_train_score=False,\n",
    "    verbose=1\n",
    ")\n",
    "\n",
    "grid.fit(train_X, train_label)\n",
    "\n",
    "print(\n",
    "    \"The best parameters are %s with a score of %0.5f\"\n",
    "    % (grid.best_params_, grid.best_score_)\n",
    ")"
   ]
  },
  {
   "cell_type": "code",
   "execution_count": 12,
   "id": "659638a2",
   "metadata": {},
   "outputs": [],
   "source": [
    "knn = grid.best_estimator_"
   ]
  },
  {
   "cell_type": "code",
   "execution_count": 13,
   "id": "e611c80b",
   "metadata": {},
   "outputs": [],
   "source": [
    "train_pred = knn.predict(train_X)\n",
    "test_pred = knn.predict(test_X)"
   ]
  },
  {
   "cell_type": "markdown",
   "id": "42404a0f",
   "metadata": {},
   "source": [
    "## Print Metrics"
   ]
  },
  {
   "cell_type": "code",
   "execution_count": 14,
   "id": "a2fb1067",
   "metadata": {},
   "outputs": [
    {
     "name": "stdout",
     "output_type": "stream",
     "text": [
      "Accuracy train set  0.8830540037243948\n",
      "Accuracy test set  0.8760498117578916\n",
      "Precision train set  0.9005319256471527\n",
      "Recall train set  0.8830540037243948\n",
      "F1 score train set  0.8808467729527572\n",
      "Support train set  (array([0.9869326 , 0.82436371]), array([0.76046635, 0.99112357]), array([0.85902424, 0.90008485]), array([3774, 4281], dtype=int64))\n"
     ]
    }
   ],
   "source": [
    "print_metrics(train_label, train_pred, test_label, test_pred)"
   ]
  },
  {
   "cell_type": "code",
   "execution_count": 15,
   "id": "59a7b992",
   "metadata": {},
   "outputs": [
    {
     "name": "stdout",
     "output_type": "stream",
     "text": [
      "              precision    recall  f1-score   support\n",
      "\n",
      "        <=50       0.98      0.75      0.85      1618\n",
      "         >50       0.82      0.99      0.89      1835\n",
      "\n",
      "    accuracy                           0.88      3453\n",
      "   macro avg       0.90      0.87      0.87      3453\n",
      "weighted avg       0.89      0.88      0.87      3453\n",
      "\n"
     ]
    }
   ],
   "source": [
    "# Compute the performance of the model\n",
    "report_scores(test_label,test_pred)"
   ]
  },
  {
   "cell_type": "code",
   "execution_count": 16,
   "id": "226c2312",
   "metadata": {},
   "outputs": [
    {
     "name": "stdout",
     "output_type": "stream",
     "text": [
      "Fit time  0.015462398529052734\n",
      "Score time  0.21713892618815103\n",
      "Test score  0.876846679081316\n",
      "Train score  0.8808814400993171\n"
     ]
    }
   ],
   "source": [
    "# cross validation\n",
    "scores = cross_validate(knn, train_X, train_label, cv = 3, return_train_score= True)\n",
    "print('Fit time ', statistics.mean(scores['fit_time']))\n",
    "print('Score time ', statistics.mean(scores['score_time']))\n",
    "print('Test score ', statistics.mean(scores['test_score']))\n",
    "print('Train score ', statistics.mean(scores['train_score']))"
   ]
  },
  {
   "cell_type": "markdown",
   "id": "6099623a",
   "metadata": {},
   "source": [
    "## Confusion matrix"
   ]
  },
  {
   "cell_type": "code",
   "execution_count": 17,
   "id": "cf8233d5",
   "metadata": {},
   "outputs": [
    {
     "data": {
      "image/png": "[encoded data removed]",
      "text/plain": [
       "<Figure size 640x480 with 2 Axes>"
      ]
     },
     "metadata": {},
     "output_type": "display_data"
    }
   ],
   "source": [
    "predictions = knn.predict(test_X)\n",
    "\n",
    "cm = confusion_matrix(test_label, predictions)\n",
    "disp = ConfusionMatrixDisplay(confusion_matrix = cm)\n",
    "disp.plot()\n",
    "plt.show()"
   ]
  },
  {
   "cell_type": "markdown",
   "id": "31c2a619",
   "metadata": {},
   "source": [
    "## ROC-Curve"
   ]
  },
  {
   "cell_type": "code",
   "execution_count": 18,
   "id": "6c271c26",
   "metadata": {},
   "outputs": [
    {
     "data": {
      "image/png": "[encoded data removed]",
      "text/plain": [
       "<Figure size 640x480 with 1 Axes>"
      ]
     },
     "metadata": {},
     "output_type": "display_data"
    }
   ],
   "source": [
    "svc_disp = RocCurveDisplay.from_estimator(knn, test_X, test_label)\n",
    "plt.show()"
   ]
  },
  {
   "cell_type": "code",
   "execution_count": 19,
   "id": "fa8cb382",
   "metadata": {},
   "outputs": [],
   "source": [
    "pca = PCA(n_components=2)\n",
    "test_set_reduced = pca.fit_transform(test_X)"
   ]
  },
  {
   "cell_type": "code",
   "execution_count": 20,
   "id": "4cc87807",
   "metadata": {},
   "outputs": [
    {
     "data": {
      "image/png": "[encoded data removed]",
      "text/plain": [
       "<Figure size 640x480 with 1 Axes>"
      ]
     },
     "metadata": {},
     "output_type": "display_data"
    }
   ],
   "source": [
    "# True labels\n",
    "plt.scatter(test_set_reduced[:, 0], test_set_reduced[:, 1], c=test_label);"
   ]
  },
  {
   "cell_type": "code",
   "execution_count": 21,
   "id": "aa073eb0",
   "metadata": {},
   "outputs": [
    {
     "data": {
      "image/png": "[encoded data removed]",
      "text/plain": [
       "<Figure size 640x480 with 1 Axes>"
      ]
     },
     "metadata": {},
     "output_type": "display_data"
    }
   ],
   "source": [
    "# Predicted labels\n",
    "plt.scatter(test_set_reduced[:, 0], test_set_reduced[:, 1], c=test_pred);"
   ]
  },
  {
   "cell_type": "markdown",
   "id": "f279dfbd",
   "metadata": {},
   "source": [
    "## Save model"
   ]
  },
  {
   "cell_type": "code",
   "execution_count": 22,
   "id": "1d409e79",
   "metadata": {},
   "outputs": [],
   "source": [
    "with open(\"../models_checkpoints/knn_lang.bin\", \"wb\") as f:\n",
    "    pickle.dump(knn, f)"
   ]
  },
  {
   "cell_type": "markdown",
   "id": "497c0a9e",
   "metadata": {},
   "source": [
    "## Removed \"lang\" attribute for classification\n",
    "\n",
    "Since we are not sure in the usage of Lang feature, we will try to remove that feature to see the difference in the accuracy, we have tryed to remove other features, but in those cases the model drop something in accuracy, we will see that for Lang this is not true."
   ]
  },
  {
   "cell_type": "code",
   "execution_count": 23,
   "id": "c164c729",
   "metadata": {},
   "outputs": [],
   "source": [
    "data = pd.read_csv(\"../dataset/cleaned_user_profiles.csv\", index_col=0)"
   ]
  },
  {
   "cell_type": "code",
   "execution_count": 24,
   "id": "a0067996",
   "metadata": {},
   "outputs": [
    {
     "data": {
      "text/html": [
       "<div>\n",
       "<style scoped>\n",
       "    .dataframe tbody tr th:only-of-type {\n",
       "        vertical-align: middle;\n",
       "    }\n",
       "\n",
       "    .dataframe tbody tr th {\n",
       "        vertical-align: top;\n",
       "    }\n",
       "\n",
       "    .dataframe thead th {\n",
       "        text-align: right;\n",
       "    }\n",
       "</style>\n",
       "<table border=\"1\" class=\"dataframe\">\n",
       "  <thead>\n",
       "    <tr style=\"text-align: right;\">\n",
       "      <th></th>\n",
       "      <th>name</th>\n",
       "      <th>bot</th>\n",
       "      <th>created_at</th>\n",
       "      <th>statuses_count</th>\n",
       "      <th>avg_length</th>\n",
       "      <th>avg_special_chars</th>\n",
       "      <th>urls_ratio</th>\n",
       "      <th>mentions_ratio</th>\n",
       "      <th>hashtags_ratio</th>\n",
       "      <th>reply_count_mean</th>\n",
       "      <th>reply_count_std</th>\n",
       "      <th>favorite_count_mean</th>\n",
       "      <th>favorite_count_std</th>\n",
       "      <th>favorite_count_entropy</th>\n",
       "      <th>retweet_count_mean</th>\n",
       "      <th>retweet_count_std</th>\n",
       "      <th>retweet_count_entropy</th>\n",
       "    </tr>\n",
       "  </thead>\n",
       "  <tbody>\n",
       "    <tr>\n",
       "      <th>2353593986</th>\n",
       "      <td>Lamonica Raborn</td>\n",
       "      <td>1</td>\n",
       "      <td>2019-02-22 18:00:42</td>\n",
       "      <td>76</td>\n",
       "      <td>62.340909</td>\n",
       "      <td>14.015152</td>\n",
       "      <td>0.000000</td>\n",
       "      <td>0.272727</td>\n",
       "      <td>0.098485</td>\n",
       "      <td>0.0</td>\n",
       "      <td>0.0</td>\n",
       "      <td>0.037879</td>\n",
       "      <td>0.190903</td>\n",
       "      <td>0.232481</td>\n",
       "      <td>0.037879</td>\n",
       "      <td>0.190903</td>\n",
       "      <td>0.232481</td>\n",
       "    </tr>\n",
       "    <tr>\n",
       "      <th>2358850842</th>\n",
       "      <td>Lourie Botton</td>\n",
       "      <td>0</td>\n",
       "      <td>2019-02-26 03:02:32</td>\n",
       "      <td>54</td>\n",
       "      <td>69.082645</td>\n",
       "      <td>15.041322</td>\n",
       "      <td>0.000000</td>\n",
       "      <td>0.338843</td>\n",
       "      <td>0.024793</td>\n",
       "      <td>0.0</td>\n",
       "      <td>0.0</td>\n",
       "      <td>0.049587</td>\n",
       "      <td>0.217090</td>\n",
       "      <td>0.284639</td>\n",
       "      <td>0.024793</td>\n",
       "      <td>0.155495</td>\n",
       "      <td>0.167568</td>\n",
       "    </tr>\n",
       "    <tr>\n",
       "      <th>137959629</th>\n",
       "      <td>Dadan Syarifudin</td>\n",
       "      <td>1</td>\n",
       "      <td>2015-04-30 07:09:56</td>\n",
       "      <td>53</td>\n",
       "      <td>65.340909</td>\n",
       "      <td>14.694444</td>\n",
       "      <td>0.000000</td>\n",
       "      <td>0.000000</td>\n",
       "      <td>0.000000</td>\n",
       "      <td>0.0</td>\n",
       "      <td>0.0</td>\n",
       "      <td>0.000000</td>\n",
       "      <td>0.000000</td>\n",
       "      <td>0.000000</td>\n",
       "      <td>0.000000</td>\n",
       "      <td>0.000000</td>\n",
       "      <td>-0.000000</td>\n",
       "    </tr>\n",
       "    <tr>\n",
       "      <th>466124818</th>\n",
       "      <td>Carletto Focia</td>\n",
       "      <td>1</td>\n",
       "      <td>2017-01-18 02:49:18</td>\n",
       "      <td>50</td>\n",
       "      <td>86.944871</td>\n",
       "      <td>18.689463</td>\n",
       "      <td>0.022331</td>\n",
       "      <td>0.006281</td>\n",
       "      <td>0.072575</td>\n",
       "      <td>0.0</td>\n",
       "      <td>0.0</td>\n",
       "      <td>0.165387</td>\n",
       "      <td>0.530838</td>\n",
       "      <td>0.669155</td>\n",
       "      <td>0.826239</td>\n",
       "      <td>13.034008</td>\n",
       "      <td>0.392850</td>\n",
       "    </tr>\n",
       "    <tr>\n",
       "      <th>2571493866</th>\n",
       "      <td>MBK Ebook</td>\n",
       "      <td>0</td>\n",
       "      <td>2019-06-18 19:30:21</td>\n",
       "      <td>7085</td>\n",
       "      <td>72.311246</td>\n",
       "      <td>14.582073</td>\n",
       "      <td>0.000825</td>\n",
       "      <td>0.506461</td>\n",
       "      <td>0.118229</td>\n",
       "      <td>0.0</td>\n",
       "      <td>0.0</td>\n",
       "      <td>0.056365</td>\n",
       "      <td>0.243387</td>\n",
       "      <td>0.317182</td>\n",
       "      <td>0.016772</td>\n",
       "      <td>0.142619</td>\n",
       "      <td>0.120737</td>\n",
       "    </tr>\n",
       "    <tr>\n",
       "      <th>...</th>\n",
       "      <td>...</td>\n",
       "      <td>...</td>\n",
       "      <td>...</td>\n",
       "      <td>...</td>\n",
       "      <td>...</td>\n",
       "      <td>...</td>\n",
       "      <td>...</td>\n",
       "      <td>...</td>\n",
       "      <td>...</td>\n",
       "      <td>...</td>\n",
       "      <td>...</td>\n",
       "      <td>...</td>\n",
       "      <td>...</td>\n",
       "      <td>...</td>\n",
       "      <td>...</td>\n",
       "      <td>...</td>\n",
       "      <td>...</td>\n",
       "    </tr>\n",
       "    <tr>\n",
       "      <th>2911861962</th>\n",
       "      <td>Madrid Lae Maika .</td>\n",
       "      <td>0</td>\n",
       "      <td>2019-11-29 13:16:02</td>\n",
       "      <td>1126</td>\n",
       "      <td>52.677158</td>\n",
       "      <td>12.767086</td>\n",
       "      <td>0.024281</td>\n",
       "      <td>0.775180</td>\n",
       "      <td>0.192446</td>\n",
       "      <td>0.0</td>\n",
       "      <td>0.0</td>\n",
       "      <td>0.053058</td>\n",
       "      <td>0.250664</td>\n",
       "      <td>0.297762</td>\n",
       "      <td>217.882194</td>\n",
       "      <td>1238.065208</td>\n",
       "      <td>2.328383</td>\n",
       "    </tr>\n",
       "    <tr>\n",
       "      <th>1378532629</th>\n",
       "      <td>Clau Sato</td>\n",
       "      <td>0</td>\n",
       "      <td>2018-04-27 03:01:58</td>\n",
       "      <td>3024</td>\n",
       "      <td>59.716210</td>\n",
       "      <td>12.984608</td>\n",
       "      <td>0.088504</td>\n",
       "      <td>0.524772</td>\n",
       "      <td>0.114959</td>\n",
       "      <td>0.0</td>\n",
       "      <td>0.0</td>\n",
       "      <td>0.199134</td>\n",
       "      <td>0.506598</td>\n",
       "      <td>0.773291</td>\n",
       "      <td>141.810005</td>\n",
       "      <td>894.863822</td>\n",
       "      <td>1.180227</td>\n",
       "    </tr>\n",
       "    <tr>\n",
       "      <th>126984069</th>\n",
       "      <td>ALMA LETICIA NUÑO</td>\n",
       "      <td>0</td>\n",
       "      <td>2015-03-29 17:01:24</td>\n",
       "      <td>6</td>\n",
       "      <td>67.666667</td>\n",
       "      <td>15.833333</td>\n",
       "      <td>0.005109</td>\n",
       "      <td>0.333333</td>\n",
       "      <td>0.333333</td>\n",
       "      <td>0.0</td>\n",
       "      <td>0.0</td>\n",
       "      <td>0.000000</td>\n",
       "      <td>0.000000</td>\n",
       "      <td>0.000000</td>\n",
       "      <td>0.000000</td>\n",
       "      <td>0.000000</td>\n",
       "      <td>-0.000000</td>\n",
       "    </tr>\n",
       "    <tr>\n",
       "      <th>2383025796</th>\n",
       "      <td>Minnie Guadagno</td>\n",
       "      <td>1</td>\n",
       "      <td>2019-03-13 02:44:13</td>\n",
       "      <td>42</td>\n",
       "      <td>63.278846</td>\n",
       "      <td>13.971154</td>\n",
       "      <td>0.000000</td>\n",
       "      <td>0.365385</td>\n",
       "      <td>0.009615</td>\n",
       "      <td>0.0</td>\n",
       "      <td>0.0</td>\n",
       "      <td>0.076923</td>\n",
       "      <td>0.266469</td>\n",
       "      <td>0.391244</td>\n",
       "      <td>0.067308</td>\n",
       "      <td>0.286371</td>\n",
       "      <td>0.355717</td>\n",
       "    </tr>\n",
       "    <tr>\n",
       "      <th>933183398</th>\n",
       "      <td>Corvanna</td>\n",
       "      <td>0</td>\n",
       "      <td>2017-11-09 23:24:16</td>\n",
       "      <td>5279</td>\n",
       "      <td>52.068064</td>\n",
       "      <td>11.291587</td>\n",
       "      <td>0.011707</td>\n",
       "      <td>0.785189</td>\n",
       "      <td>0.041111</td>\n",
       "      <td>0.0</td>\n",
       "      <td>0.0</td>\n",
       "      <td>0.118160</td>\n",
       "      <td>0.381551</td>\n",
       "      <td>0.541522</td>\n",
       "      <td>334.418459</td>\n",
       "      <td>1400.586883</td>\n",
       "      <td>4.096404</td>\n",
       "    </tr>\n",
       "  </tbody>\n",
       "</table>\n",
       "<p>11508 rows × 17 columns</p>\n",
       "</div>"
      ],
      "text/plain": [
       "                          name  bot           created_at  statuses_count  \\\n",
       "2353593986     Lamonica Raborn    1  2019-02-22 18:00:42              76   \n",
       "2358850842       Lourie Botton    0  2019-02-26 03:02:32              54   \n",
       "137959629     Dadan Syarifudin    1  2015-04-30 07:09:56              53   \n",
       "466124818       Carletto Focia    1  2017-01-18 02:49:18              50   \n",
       "2571493866           MBK Ebook    0  2019-06-18 19:30:21            7085   \n",
       "...                        ...  ...                  ...             ...   \n",
       "2911861962  Madrid Lae Maika .    0  2019-11-29 13:16:02            1126   \n",
       "1378532629           Clau Sato    0  2018-04-27 03:01:58            3024   \n",
       "126984069   ALMA LETICIA NUÑO     0  2015-03-29 17:01:24               6   \n",
       "2383025796     Minnie Guadagno    1  2019-03-13 02:44:13              42   \n",
       "933183398            Corvanna     0  2017-11-09 23:24:16            5279   \n",
       "\n",
       "            avg_length  avg_special_chars  urls_ratio  mentions_ratio  \\\n",
       "2353593986   62.340909          14.015152    0.000000        0.272727   \n",
       "2358850842   69.082645          15.041322    0.000000        0.338843   \n",
       "137959629    65.340909          14.694444    0.000000        0.000000   \n",
       "466124818    86.944871          18.689463    0.022331        0.006281   \n",
       "2571493866   72.311246          14.582073    0.000825        0.506461   \n",
       "...                ...                ...         ...             ...   \n",
       "2911861962   52.677158          12.767086    0.024281        0.775180   \n",
       "1378532629   59.716210          12.984608    0.088504        0.524772   \n",
       "126984069    67.666667          15.833333    0.005109        0.333333   \n",
       "2383025796   63.278846          13.971154    0.000000        0.365385   \n",
       "933183398    52.068064          11.291587    0.011707        0.785189   \n",
       "\n",
       "            hashtags_ratio  reply_count_mean  reply_count_std  \\\n",
       "2353593986        0.098485               0.0              0.0   \n",
       "2358850842        0.024793               0.0              0.0   \n",
       "137959629         0.000000               0.0              0.0   \n",
       "466124818         0.072575               0.0              0.0   \n",
       "2571493866        0.118229               0.0              0.0   \n",
       "...                    ...               ...              ...   \n",
       "2911861962        0.192446               0.0              0.0   \n",
       "1378532629        0.114959               0.0              0.0   \n",
       "126984069         0.333333               0.0              0.0   \n",
       "2383025796        0.009615               0.0              0.0   \n",
       "933183398         0.041111               0.0              0.0   \n",
       "\n",
       "            favorite_count_mean  favorite_count_std  favorite_count_entropy  \\\n",
       "2353593986             0.037879            0.190903                0.232481   \n",
       "2358850842             0.049587            0.217090                0.284639   \n",
       "137959629              0.000000            0.000000                0.000000   \n",
       "466124818              0.165387            0.530838                0.669155   \n",
       "2571493866             0.056365            0.243387                0.317182   \n",
       "...                         ...                 ...                     ...   \n",
       "2911861962             0.053058            0.250664                0.297762   \n",
       "1378532629             0.199134            0.506598                0.773291   \n",
       "126984069              0.000000            0.000000                0.000000   \n",
       "2383025796             0.076923            0.266469                0.391244   \n",
       "933183398              0.118160            0.381551                0.541522   \n",
       "\n",
       "            retweet_count_mean  retweet_count_std  retweet_count_entropy  \n",
       "2353593986            0.037879           0.190903               0.232481  \n",
       "2358850842            0.024793           0.155495               0.167568  \n",
       "137959629             0.000000           0.000000              -0.000000  \n",
       "466124818             0.826239          13.034008               0.392850  \n",
       "2571493866            0.016772           0.142619               0.120737  \n",
       "...                        ...                ...                    ...  \n",
       "2911861962          217.882194        1238.065208               2.328383  \n",
       "1378532629          141.810005         894.863822               1.180227  \n",
       "126984069             0.000000           0.000000              -0.000000  \n",
       "2383025796            0.067308           0.286371               0.355717  \n",
       "933183398           334.418459        1400.586883               4.096404  \n",
       "\n",
       "[11508 rows x 17 columns]"
      ]
     },
     "execution_count": 24,
     "metadata": {},
     "output_type": "execute_result"
    }
   ],
   "source": [
    "data.drop(columns=['lang'])"
   ]
  },
  {
   "cell_type": "code",
   "execution_count": 25,
   "id": "09bd8e1b",
   "metadata": {},
   "outputs": [
    {
     "name": "stdout",
     "output_type": "stream",
     "text": [
      "Classification features : ['created_at', 'statuses_count', 'avg_length', 'avg_special_chars', 'urls_ratio', 'mentions_ratio', 'hashtags_ratio', 'reply_count_mean', 'reply_count_std', 'favorite_count_mean', 'favorite_count_std', 'favorite_count_entropy', 'retweet_count_mean', 'retweet_count_std', 'retweet_count_entropy']\n"
     ]
    }
   ],
   "source": [
    "train_set, test_set, train_label, test_label = prepare_data(data)"
   ]
  },
  {
   "cell_type": "code",
   "execution_count": 26,
   "id": "def70727",
   "metadata": {},
   "outputs": [
    {
     "data": {
      "text/html": [
       "<div>\n",
       "<style scoped>\n",
       "    .dataframe tbody tr th:only-of-type {\n",
       "        vertical-align: middle;\n",
       "    }\n",
       "\n",
       "    .dataframe tbody tr th {\n",
       "        vertical-align: top;\n",
       "    }\n",
       "\n",
       "    .dataframe thead th {\n",
       "        text-align: right;\n",
       "    }\n",
       "</style>\n",
       "<table border=\"1\" class=\"dataframe\">\n",
       "  <thead>\n",
       "    <tr style=\"text-align: right;\">\n",
       "      <th></th>\n",
       "      <th>created_at</th>\n",
       "      <th>statuses_count</th>\n",
       "      <th>avg_length</th>\n",
       "      <th>avg_special_chars</th>\n",
       "      <th>urls_ratio</th>\n",
       "      <th>mentions_ratio</th>\n",
       "      <th>hashtags_ratio</th>\n",
       "      <th>reply_count_mean</th>\n",
       "      <th>reply_count_std</th>\n",
       "      <th>favorite_count_mean</th>\n",
       "      <th>favorite_count_std</th>\n",
       "      <th>favorite_count_entropy</th>\n",
       "      <th>retweet_count_mean</th>\n",
       "      <th>retweet_count_std</th>\n",
       "      <th>retweet_count_entropy</th>\n",
       "    </tr>\n",
       "  </thead>\n",
       "  <tbody>\n",
       "    <tr>\n",
       "      <th>2351467735</th>\n",
       "      <td>1550743978</td>\n",
       "      <td>53</td>\n",
       "      <td>46.951807</td>\n",
       "      <td>9.884337</td>\n",
       "      <td>0.000000</td>\n",
       "      <td>0.387952</td>\n",
       "      <td>0.038554</td>\n",
       "      <td>0.0</td>\n",
       "      <td>0.0</td>\n",
       "      <td>0.043373</td>\n",
       "      <td>0.203696</td>\n",
       "      <td>0.257551</td>\n",
       "      <td>0.089157</td>\n",
       "      <td>1.095116</td>\n",
       "      <td>0.249622</td>\n",
       "    </tr>\n",
       "    <tr>\n",
       "      <th>347587058</th>\n",
       "      <td>1470273787</td>\n",
       "      <td>53</td>\n",
       "      <td>78.573190</td>\n",
       "      <td>17.079357</td>\n",
       "      <td>0.005109</td>\n",
       "      <td>0.000000</td>\n",
       "      <td>0.000000</td>\n",
       "      <td>0.0</td>\n",
       "      <td>0.0</td>\n",
       "      <td>0.013137</td>\n",
       "      <td>0.127206</td>\n",
       "      <td>0.098533</td>\n",
       "      <td>0.013137</td>\n",
       "      <td>0.122918</td>\n",
       "      <td>0.099408</td>\n",
       "    </tr>\n",
       "    <tr>\n",
       "      <th>1129895606</th>\n",
       "      <td>1517367911</td>\n",
       "      <td>53</td>\n",
       "      <td>55.833333</td>\n",
       "      <td>12.611111</td>\n",
       "      <td>0.000000</td>\n",
       "      <td>0.000000</td>\n",
       "      <td>0.111111</td>\n",
       "      <td>0.0</td>\n",
       "      <td>0.0</td>\n",
       "      <td>0.000000</td>\n",
       "      <td>0.000000</td>\n",
       "      <td>0.000000</td>\n",
       "      <td>0.000000</td>\n",
       "      <td>0.000000</td>\n",
       "      <td>-0.000000</td>\n",
       "    </tr>\n",
       "    <tr>\n",
       "      <th>269193431</th>\n",
       "      <td>1458547948</td>\n",
       "      <td>9105</td>\n",
       "      <td>60.301689</td>\n",
       "      <td>12.949343</td>\n",
       "      <td>0.051782</td>\n",
       "      <td>0.505816</td>\n",
       "      <td>0.036398</td>\n",
       "      <td>0.0</td>\n",
       "      <td>0.0</td>\n",
       "      <td>0.160600</td>\n",
       "      <td>0.495103</td>\n",
       "      <td>0.661001</td>\n",
       "      <td>156.657786</td>\n",
       "      <td>1127.737572</td>\n",
       "      <td>1.775016</td>\n",
       "    </tr>\n",
       "    <tr>\n",
       "      <th>2368471386</th>\n",
       "      <td>1551683554</td>\n",
       "      <td>54</td>\n",
       "      <td>63.949580</td>\n",
       "      <td>15.117647</td>\n",
       "      <td>0.000000</td>\n",
       "      <td>0.352941</td>\n",
       "      <td>0.084034</td>\n",
       "      <td>0.0</td>\n",
       "      <td>0.0</td>\n",
       "      <td>0.050420</td>\n",
       "      <td>0.254332</td>\n",
       "      <td>0.281797</td>\n",
       "      <td>0.016807</td>\n",
       "      <td>0.128547</td>\n",
       "      <td>0.123115</td>\n",
       "    </tr>\n",
       "  </tbody>\n",
       "</table>\n",
       "</div>"
      ],
      "text/plain": [
       "            created_at  statuses_count  avg_length  avg_special_chars  \\\n",
       "2351467735  1550743978              53   46.951807           9.884337   \n",
       "347587058   1470273787              53   78.573190          17.079357   \n",
       "1129895606  1517367911              53   55.833333          12.611111   \n",
       "269193431   1458547948            9105   60.301689          12.949343   \n",
       "2368471386  1551683554              54   63.949580          15.117647   \n",
       "\n",
       "            urls_ratio  mentions_ratio  hashtags_ratio  reply_count_mean  \\\n",
       "2351467735    0.000000        0.387952        0.038554               0.0   \n",
       "347587058     0.005109        0.000000        0.000000               0.0   \n",
       "1129895606    0.000000        0.000000        0.111111               0.0   \n",
       "269193431     0.051782        0.505816        0.036398               0.0   \n",
       "2368471386    0.000000        0.352941        0.084034               0.0   \n",
       "\n",
       "            reply_count_std  favorite_count_mean  favorite_count_std  \\\n",
       "2351467735              0.0             0.043373            0.203696   \n",
       "347587058               0.0             0.013137            0.127206   \n",
       "1129895606              0.0             0.000000            0.000000   \n",
       "269193431               0.0             0.160600            0.495103   \n",
       "2368471386              0.0             0.050420            0.254332   \n",
       "\n",
       "            favorite_count_entropy  retweet_count_mean  retweet_count_std  \\\n",
       "2351467735                0.257551            0.089157           1.095116   \n",
       "347587058                 0.098533            0.013137           0.122918   \n",
       "1129895606                0.000000            0.000000           0.000000   \n",
       "269193431                 0.661001          156.657786        1127.737572   \n",
       "2368471386                0.281797            0.016807           0.128547   \n",
       "\n",
       "            retweet_count_entropy  \n",
       "2351467735               0.249622  \n",
       "347587058                0.099408  \n",
       "1129895606              -0.000000  \n",
       "269193431                1.775016  \n",
       "2368471386               0.123115  "
      ]
     },
     "execution_count": 26,
     "metadata": {},
     "output_type": "execute_result"
    }
   ],
   "source": [
    "train_set.head()"
   ]
  },
  {
   "cell_type": "code",
   "execution_count": 27,
   "id": "12f7a112",
   "metadata": {},
   "outputs": [],
   "source": [
    "# Normalizes the data\n",
    "train_X = sklearn.preprocessing.normalize(train_set.values)\n",
    "test_X = sklearn.preprocessing.normalize(test_set.values)"
   ]
  },
  {
   "cell_type": "code",
   "execution_count": 28,
   "id": "2ba50cf1",
   "metadata": {},
   "outputs": [],
   "source": [
    "pca = PCA(n_components=2)\n",
    "test_set_reduced = pca.fit_transform(test_X)"
   ]
  },
  {
   "cell_type": "markdown",
   "id": "e2443139",
   "metadata": {},
   "source": [
    "Apply grid search over some parameters:\n",
    "- **n_neighbors**: number of neighbors to use by default for kneighbors queries;\n",
    "- **algorithm**: algorithm used to compute the nearest neighbors."
   ]
  },
  {
   "cell_type": "code",
   "execution_count": 29,
   "id": "e6107966",
   "metadata": {},
   "outputs": [
    {
     "name": "stdout",
     "output_type": "stream",
     "text": [
      "Fitting 3 folds for each of 76 candidates, totalling 228 fits\n",
      "The best parameters are {'algorithm': 'ball_tree', 'n_neighbors': 15} with a score of 0.87685\n"
     ]
    }
   ],
   "source": [
    "k_range = list(range(1, 20))\n",
    "param_grid = dict(\n",
    "    n_neighbors = k_range,\n",
    "    algorithm = list({'auto', 'ball_tree', 'kd_tree', 'brute'})\n",
    ")\n",
    "\n",
    "knn = KNeighborsClassifier()\n",
    "\n",
    "grid = GridSearchCV(\n",
    "    knn,\n",
    "    param_grid,\n",
    "    cv=3,\n",
    "    scoring='accuracy',\n",
    "    return_train_score=False,\n",
    "    verbose=1\n",
    ")\n",
    "\n",
    "grid.fit(train_X, train_label)\n",
    "\n",
    "print(\n",
    "    \"The best parameters are %s with a score of %0.5f\"\n",
    "    % (grid.best_params_, grid.best_score_)\n",
    ")"
   ]
  },
  {
   "cell_type": "code",
   "execution_count": 30,
   "id": "ba7b3630",
   "metadata": {},
   "outputs": [],
   "source": [
    "knn = grid.best_estimator_"
   ]
  },
  {
   "cell_type": "code",
   "execution_count": 31,
   "id": "dae4ccd1",
   "metadata": {},
   "outputs": [],
   "source": [
    "train_pred = knn.predict(train_X)\n",
    "test_pred = knn.predict(test_X)"
   ]
  },
  {
   "cell_type": "markdown",
   "id": "980ca050",
   "metadata": {},
   "source": [
    "## Print Metrics"
   ]
  },
  {
   "cell_type": "code",
   "execution_count": 32,
   "id": "719b0864",
   "metadata": {},
   "outputs": [
    {
     "name": "stdout",
     "output_type": "stream",
     "text": [
      "Accuracy train set  0.8831781502172563\n",
      "Accuracy test set  0.8760498117578916\n",
      "Precision train set  0.9007091245844553\n",
      "Recall train set  0.8831781502172563\n",
      "F1 score train set  0.8809690124449417\n",
      "Support train set  (array([0.9872721 , 0.82439782]), array([0.76046635, 0.99135716]), array([0.85915282, 0.90020151]), array([3774, 4281], dtype=int64))\n"
     ]
    }
   ],
   "source": [
    "print_metrics(train_label, train_pred, test_label, test_pred)"
   ]
  },
  {
   "cell_type": "code",
   "execution_count": 33,
   "id": "6c642ba1",
   "metadata": {},
   "outputs": [
    {
     "name": "stdout",
     "output_type": "stream",
     "text": [
      "              precision    recall  f1-score   support\n",
      "\n",
      "        <=50       0.98      0.75      0.85      1618\n",
      "         >50       0.82      0.99      0.89      1835\n",
      "\n",
      "    accuracy                           0.88      3453\n",
      "   macro avg       0.90      0.87      0.87      3453\n",
      "weighted avg       0.89      0.88      0.87      3453\n",
      "\n"
     ]
    }
   ],
   "source": [
    "# Computes the performance of the model\n",
    "report_scores(test_label,test_pred)"
   ]
  },
  {
   "cell_type": "code",
   "execution_count": 34,
   "id": "2e2514db",
   "metadata": {},
   "outputs": [
    {
     "name": "stdout",
     "output_type": "stream",
     "text": [
      "Fit time  0.010775248209635416\n",
      "Score time  0.15636094411214194\n",
      "Test score  0.876846679081316\n",
      "Train score  0.8808814400993172\n"
     ]
    }
   ],
   "source": [
    "# cross validation\n",
    "scores = cross_validate(knn, train_X, train_label, cv = 3, return_train_score= True)\n",
    "print('Fit time ', statistics.mean(scores['fit_time']))\n",
    "print('Score time ', statistics.mean(scores['score_time']))\n",
    "print('Test score ', statistics.mean(scores['test_score']))\n",
    "print('Train score ', statistics.mean(scores['train_score']))"
   ]
  },
  {
   "cell_type": "markdown",
   "id": "650281f6",
   "metadata": {},
   "source": [
    "## Confusion matrix"
   ]
  },
  {
   "cell_type": "code",
   "execution_count": 35,
   "id": "ed15dfd5",
   "metadata": {},
   "outputs": [
    {
     "data": {
      "image/png": "[encoded data removed]",
      "text/plain": [
       "<Figure size 640x480 with 2 Axes>"
      ]
     },
     "metadata": {},
     "output_type": "display_data"
    }
   ],
   "source": [
    "predictions = knn.predict(test_X)\n",
    "\n",
    "cm = confusion_matrix(test_label, predictions)\n",
    "disp = ConfusionMatrixDisplay(confusion_matrix = cm)\n",
    "disp.plot()\n",
    "plt.show()"
   ]
  },
  {
   "cell_type": "markdown",
   "id": "6ddf52bb",
   "metadata": {},
   "source": [
    "## ROC-Curve"
   ]
  },
  {
   "cell_type": "code",
   "execution_count": 36,
   "id": "a2082750",
   "metadata": {},
   "outputs": [
    {
     "data": {
      "image/png": "[encoded data removed]",
      "text/plain": [
       "<Figure size 640x480 with 1 Axes>"
      ]
     },
     "metadata": {},
     "output_type": "display_data"
    }
   ],
   "source": [
    "svc_disp = RocCurveDisplay.from_estimator(knn, test_X, test_label)\n",
    "plt.show()"
   ]
  },
  {
   "cell_type": "code",
   "execution_count": 37,
   "id": "ad2e6eb7",
   "metadata": {},
   "outputs": [
    {
     "data": {
      "image/png": "[encoded data removed]",
      "text/plain": [
       "<Figure size 640x480 with 1 Axes>"
      ]
     },
     "metadata": {},
     "output_type": "display_data"
    }
   ],
   "source": [
    "# True labels\n",
    "plt.scatter(test_set_reduced[:, 0], test_set_reduced[:, 1], c=test_label);"
   ]
  },
  {
   "cell_type": "code",
   "execution_count": 38,
   "id": "8d2ac317",
   "metadata": {},
   "outputs": [
    {
     "data": {
      "image/png": "[encoded data removed]",
      "text/plain": [
       "<Figure size 640x480 with 1 Axes>"
      ]
     },
     "metadata": {},
     "output_type": "display_data"
    }
   ],
   "source": [
    "# Predicted labels\n",
    "plt.scatter(test_set_reduced[:, 0], test_set_reduced[:, 1], c=test_pred);"
   ]
  },
  {
   "cell_type": "markdown",
   "id": "5b149985",
   "metadata": {},
   "source": [
    "## Save model"
   ]
  },
  {
   "cell_type": "code",
   "execution_count": 39,
   "id": "a8345062",
   "metadata": {},
   "outputs": [],
   "source": [
    "with open(\"../models_checkpoints/knn_no_lang.bin\", \"wb\") as f:\n",
    "    pickle.dump(knn, f)"
   ]
  }
 ],
 "metadata": {
  "kernelspec": {
   "display_name": "Python 3 (ipykernel)",
   "language": "python",
   "name": "python3"
  },
  "language_info": {
   "codemirror_mode": {
    "name": "ipython",
    "version": 3
   },
   "file_extension": ".py",
   "mimetype": "text/x-python",
   "name": "python",
   "nbconvert_exporter": "python",
   "pygments_lexer": "ipython3",
   "version": "3.9.13"
  }
 },
 "nbformat": 4,
 "nbformat_minor": 5
}
