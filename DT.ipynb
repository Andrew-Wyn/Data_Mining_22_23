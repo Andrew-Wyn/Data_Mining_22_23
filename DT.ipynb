{
 "cells": [
  {
   "cell_type": "markdown",
   "id": "b3da3945",
   "metadata": {},
   "source": [
    "# Classification with Decision Trees and Random Forests"
   ]
  },
  {
   "cell_type": "code",
   "execution_count": null,
   "id": "abe8c086",
   "metadata": {},
   "outputs": [],
   "source": [
    "import pandas as pd\n",
    "import numpy as np\n",
    "from sklearn.model_selection import train_test_split\n",
    "from sklearn import tree\n",
    "from sklearn.ensemble import RandomForestClassifier\n",
    "from classification_utils import *\n",
    "from sklearn.model_selection import GridSearchCV\n",
    "from sklearn.model_selection import RandomizedSearchCV\n",
    "from sklearn.model_selection import cross_validate\n",
    "from sklearn.datasets import make_blobs\n",
    "import statistics\n",
    "from sklearn.metrics import ConfusionMatrixDisplay, confusion_matrix\n",
    "from sklearn.decomposition import PCA\n",
    "import pickle\n",
    "from sklearn.metrics import RocCurveDisplay"
   ]
  },
  {
   "cell_type": "markdown",
   "id": "830582be",
   "metadata": {},
   "source": [
    "The only preprocessing step applyed is the one-hot-encoding of the **Lang** feature"
   ]
  },
  {
   "cell_type": "markdown",
   "id": "e1f3ada6",
   "metadata": {},
   "source": [
    "## Decision trees\n",
    "\n",
    "Run grid search - cross validation over the Decision Tree sklearn implementation, the parameters over which the grid search will run are:\n",
    "- **ccp_alpha**: Complexity parameter used for Minimal Cost-Complexity Pruning.\n",
    "- **min_weight_fraction_leaf**: The minimum weighted fraction of the sum total of weights (of all the input samples) required to be at a leaf node.\n",
    "- **min_sample_split**: The minimum number of samples required to split an internal node.\n",
    "- **min_sample_leaf**: The minimum number of samples required to be at a leaf node.\n",
    "- **criterion**: The function to measure the quality of a split."
   ]
  },
  {
   "cell_type": "code",
   "execution_count": null,
   "id": "b13fcb0f",
   "metadata": {},
   "outputs": [],
   "source": [
    "data = pd.read_csv(\"dataset/cleaned_user_profiles.csv\", index_col=0)\n",
    "data = data.join(pd.get_dummies(data[\"lang\"]))\n",
    "train_set, test_set, train_label, test_label = prepare_data(data)"
   ]
  },
  {
   "cell_type": "code",
   "execution_count": null,
   "id": "ffad790f",
   "metadata": {},
   "outputs": [],
   "source": [
    "param_grid = {\n",
    "              'ccp_alpha': [0.0, 0.1, 0.05, 0.01, 0.005, 0.001, 0.0005, 0.0001, 0.5, 0.2],\n",
    "              'min_weight_fraction_leaf': [0.0, 0.1, 0.05, 0.01, 0.005, 0.001, 0.0005, 0.0001, 0.5, 0.2],\n",
    "              'min_samples_split': [2, 3, 4],\n",
    "              'min_samples_leaf': [1, 2, 3, 4],\n",
    "              'criterion': ['gini', 'entropy']\n",
    "             }\n",
    "\n",
    "\n",
    "dt = tree.DecisionTreeClassifier()\n",
    "\n",
    "grid = GridSearchCV(\n",
    "    dt,\n",
    "    param_grid,\n",
    "    cv=3,\n",
    "    scoring='accuracy',\n",
    "    return_train_score=False,\n",
    "    verbose=1\n",
    ")\n",
    "\n",
    "\n",
    "grid.fit(train_set.values, train_label)\n",
    "print(\n",
    "    \"The best parameters are %s with a score of %0.5f\"\n",
    "    % (grid.best_params_, grid.best_score_)\n",
    ")\n"
   ]
  },
  {
   "cell_type": "code",
   "execution_count": null,
   "id": "d9d3e480",
   "metadata": {},
   "outputs": [],
   "source": [
    "dt = grid.best_estimator_\n",
    "dt"
   ]
  },
  {
   "cell_type": "markdown",
   "id": "6f5af1bc",
   "metadata": {},
   "source": [
    "## Print Metrics"
   ]
  },
  {
   "cell_type": "code",
   "execution_count": null,
   "id": "209d3a16",
   "metadata": {},
   "outputs": [],
   "source": [
    "train_pred = dt.predict(train_set.values)\n",
    "test_pred = dt.predict(test_set.values)"
   ]
  },
  {
   "cell_type": "code",
   "execution_count": null,
   "id": "6721e512",
   "metadata": {
    "scrolled": true
   },
   "outputs": [],
   "source": [
    "print_metrics(train_label, train_pred, test_label, test_pred)"
   ]
  },
  {
   "cell_type": "code",
   "execution_count": null,
   "id": "cae58629",
   "metadata": {},
   "outputs": [],
   "source": [
    "report_scores(test_label, test_pred)"
   ]
  },
  {
   "cell_type": "markdown",
   "id": "1b6b0e4e",
   "metadata": {},
   "source": [
    "### Confusion Matrix"
   ]
  },
  {
   "cell_type": "code",
   "execution_count": null,
   "id": "2d9e4184",
   "metadata": {},
   "outputs": [],
   "source": [
    "predictions = dt.predict(test_set.values)\n",
    "\n",
    "cm = confusion_matrix(test_label, predictions)\n",
    "disp = ConfusionMatrixDisplay(confusion_matrix = cm)\n",
    "disp.plot()\n",
    "plt.show()"
   ]
  },
  {
   "cell_type": "markdown",
   "id": "bde5ee44",
   "metadata": {},
   "source": [
    "### ROC-Curve"
   ]
  },
  {
   "cell_type": "code",
   "execution_count": null,
   "id": "fa07b501",
   "metadata": {},
   "outputs": [],
   "source": [
    "RocCurveDisplay.from_estimator(dt, test_set.values, test_label)\n",
    "plt.show()"
   ]
  },
  {
   "cell_type": "markdown",
   "id": "b9e6cec2",
   "metadata": {},
   "source": [
    "### PCA blobs"
   ]
  },
  {
   "cell_type": "code",
   "execution_count": null,
   "id": "45805acf",
   "metadata": {},
   "outputs": [],
   "source": [
    "pca = PCA(n_components=2)\n",
    "test_set_reduced = pca.fit_transform(test_set.values)"
   ]
  },
  {
   "cell_type": "code",
   "execution_count": null,
   "id": "25bffc1a",
   "metadata": {},
   "outputs": [],
   "source": [
    "#true labels\n",
    "plt.scatter(test_set_reduced[:, 0], test_set_reduced[:, 1], c=test_label, s=25);"
   ]
  },
  {
   "cell_type": "code",
   "execution_count": null,
   "id": "cd862e11",
   "metadata": {},
   "outputs": [],
   "source": [
    "#predicted labels\n",
    "plt.scatter(test_set_reduced[:, 0], test_set_reduced[:, 1], c=test_pred, s=25);"
   ]
  },
  {
   "cell_type": "markdown",
   "id": "e268af4c",
   "metadata": {},
   "source": [
    "### Save model"
   ]
  },
  {
   "cell_type": "code",
   "execution_count": null,
   "id": "60810df2",
   "metadata": {
    "scrolled": false
   },
   "outputs": [],
   "source": [
    "with open(\"models_checkpoints/decision_tree_lang.bin\", \"wb\") as f:\n",
    "    pickle.dump(dt, f)"
   ]
  },
  {
   "cell_type": "markdown",
   "id": "570522a2",
   "metadata": {},
   "source": [
    "### Removed \"lang\" attribute for classification\n",
    "\n",
    "Since we are not sure in the usage of Lang feature, we will try to remove that feature to see the difference in the accuracy, we have tryed to remove other features, but in those cases the model drop something in accuracy, we will see that for Lang this is not true."
   ]
  },
  {
   "cell_type": "code",
   "execution_count": null,
   "id": "8675d1ad",
   "metadata": {},
   "outputs": [],
   "source": [
    "data = pd.read_csv(\"dataset/cleaned_user_profiles.csv\", index_col=0)\n",
    "data.drop(columns=['lang'])\n",
    "train_set, test_set, train_label, test_label = prepare_data(data)"
   ]
  },
  {
   "cell_type": "code",
   "execution_count": null,
   "id": "cfed52c3",
   "metadata": {},
   "outputs": [],
   "source": [
    "param_grid = {\n",
    "              'ccp_alpha': [0.0, 0.1, 0.05, 0.01, 0.005, 0.001, 0.0005, 0.0001, 0.5, 0.2],\n",
    "              'min_weight_fraction_leaf': [0.0, 0.1, 0.05, 0.01, 0.005, 0.001, 0.0005, 0.0001, 0.5, 0.2],\n",
    "              'min_samples_split': [2, 3, 4],\n",
    "              'min_samples_leaf': [1, 2, 3, 4],\n",
    "              'criterion': ['gini', 'entropy']\n",
    "             }\n",
    "\n",
    "\n",
    "dt = tree.DecisionTreeClassifier()\n",
    "\n",
    "grid = GridSearchCV(\n",
    "    dt,\n",
    "    param_grid,\n",
    "    cv=3,\n",
    "    scoring='accuracy',\n",
    "    return_train_score=False,\n",
    "    verbose=1\n",
    ")\n",
    "\n",
    "\n",
    "grid.fit(train_set.values, train_label)\n",
    "print(\n",
    "    \"The best parameters are %s with a score of %0.5f\"\n",
    "    % (grid.best_params_, grid.best_score_)\n",
    ")\n"
   ]
  },
  {
   "cell_type": "code",
   "execution_count": null,
   "id": "218c87b5",
   "metadata": {},
   "outputs": [],
   "source": [
    "dt = grid.best_estimator_\n",
    "dt"
   ]
  },
  {
   "cell_type": "markdown",
   "id": "72d79a91",
   "metadata": {},
   "source": [
    "## Print Metrics"
   ]
  },
  {
   "cell_type": "code",
   "execution_count": null,
   "id": "9cce9387",
   "metadata": {},
   "outputs": [],
   "source": [
    "train_pred = dt.predict(train_set.values)\n",
    "test_pred = dt.predict(test_set.values)"
   ]
  },
  {
   "cell_type": "code",
   "execution_count": null,
   "id": "488db36e",
   "metadata": {
    "scrolled": true
   },
   "outputs": [],
   "source": [
    "print_metrics(train_label, train_pred, test_label, test_pred)"
   ]
  },
  {
   "cell_type": "code",
   "execution_count": null,
   "id": "e4e02805",
   "metadata": {},
   "outputs": [],
   "source": [
    "report_scores(test_label,test_pred)"
   ]
  },
  {
   "cell_type": "markdown",
   "id": "da5748e0",
   "metadata": {},
   "source": [
    "### Confusion Matrix"
   ]
  },
  {
   "cell_type": "code",
   "execution_count": null,
   "id": "90638844",
   "metadata": {},
   "outputs": [],
   "source": [
    "predictions = dt.predict(test_set.values)\n",
    "\n",
    "cm = confusion_matrix(test_label, predictions)\n",
    "disp = ConfusionMatrixDisplay(confusion_matrix = cm)\n",
    "disp.plot()\n",
    "plt.show()"
   ]
  },
  {
   "cell_type": "markdown",
   "id": "f01e1e3e",
   "metadata": {},
   "source": [
    "### ROC-Curve"
   ]
  },
  {
   "cell_type": "code",
   "execution_count": null,
   "id": "4fae33a4",
   "metadata": {},
   "outputs": [],
   "source": [
    "RocCurveDisplay.from_estimator(dt, test_set.values, test_label)\n",
    "plt.show()"
   ]
  },
  {
   "cell_type": "markdown",
   "id": "1f3bdab9",
   "metadata": {},
   "source": [
    "### PCA Blobs"
   ]
  },
  {
   "cell_type": "code",
   "execution_count": null,
   "id": "3bc971cd",
   "metadata": {},
   "outputs": [],
   "source": [
    "pca = PCA(n_components=2)\n",
    "test_set_reduced = pca.fit_transform(test_set.values)"
   ]
  },
  {
   "cell_type": "code",
   "execution_count": null,
   "id": "c0257af3",
   "metadata": {},
   "outputs": [],
   "source": [
    "#true labels\n",
    "plt.scatter(test_set_reduced[:, 0], test_set_reduced[:, 1], c=test_label, s=25);"
   ]
  },
  {
   "cell_type": "code",
   "execution_count": null,
   "id": "3d9dfbe7",
   "metadata": {},
   "outputs": [],
   "source": [
    "#predicted labels\n",
    "plt.scatter(test_set_reduced[:, 0], test_set_reduced[:, 1], c=test_pred, s=25);"
   ]
  },
  {
   "cell_type": "markdown",
   "id": "87bb2b7f",
   "metadata": {},
   "source": [
    "### Save model"
   ]
  },
  {
   "cell_type": "code",
   "execution_count": null,
   "id": "bae568e2",
   "metadata": {
    "scrolled": false
   },
   "outputs": [],
   "source": [
    "with open(\"models_checkpoints/decision_tree_no_lang.bin\", \"wb\") as f:\n",
    "    pickle.dump(dt, f)"
   ]
  },
  {
   "cell_type": "markdown",
   "id": "293f7a1d",
   "metadata": {},
   "source": [
    "## Random forest\n",
    "\n",
    "A random forest is a meta estimator that fits a number of decision tree classifiers on various sub-samples of the dataset and uses averaging to improve the predictive accuracy and control over-fitting.\n",
    "\n",
    "Run grid search - cross validation over the RandomForestClassifier sklearn implementation, the parameters over which the grid search will run are:\n",
    "- **ccp_alpha**: Complexity parameter used for Minimal Cost-Complexity Pruning.\n",
    "- **min_weight_fraction_leaf**: The minimum weighted fraction of the sum total of weights (of all the input samples) required to be at a leaf node.\n",
    "- **min_sample_split**: The minimum number of samples required to split an internal node.\n",
    "- **min_sample_leaf**: The minimum number of samples required to be at a leaf node.\n",
    "- **n_estimators**: The number of trees in the forest."
   ]
  },
  {
   "cell_type": "code",
   "execution_count": null,
   "id": "c0ff4cca",
   "metadata": {},
   "outputs": [],
   "source": [
    "data = pd.read_csv(\"dataset/cleaned_user_profiles.csv\", index_col=0)\n",
    "data = data.join(pd.get_dummies(data[\"lang\"]))\n",
    "train_set, test_set, train_label, test_label = prepare_data(data)"
   ]
  },
  {
   "cell_type": "code",
   "execution_count": null,
   "id": "8bc3706b",
   "metadata": {},
   "outputs": [],
   "source": [
    "param_grid = {\n",
    "    'min_samples_leaf': [1, 2, 3],\n",
    "    'min_samples_split': [2, 3, 4],\n",
    "    'ccp_alpha': [0.0, 0.1, 0.05, 0.001],\n",
    "    'min_weight_fraction_leaf': [0.0, 0.1, 0.05, 0.001],\n",
    "    'n_estimators': np.arange(80, 150, 10),\n",
    "}\n",
    "\n",
    "rf = RandomForestClassifier()\n",
    "\n",
    "grid = GridSearchCV(\n",
    "    rf,\n",
    "    param_grid,\n",
    "    cv=3,\n",
    "    scoring='accuracy',\n",
    "    return_train_score=False,\n",
    "    verbose=1\n",
    ")\n",
    "\n",
    "grid.fit(train_set.values, train_label)"
   ]
  },
  {
   "cell_type": "code",
   "execution_count": null,
   "id": "a62ac0d6",
   "metadata": {},
   "outputs": [],
   "source": [
    "rf = grid.best_estimator_\n",
    "rf"
   ]
  },
  {
   "cell_type": "markdown",
   "id": "ad345d92",
   "metadata": {},
   "source": [
    "## Print Metrics"
   ]
  },
  {
   "cell_type": "code",
   "execution_count": null,
   "id": "ad04aeb9",
   "metadata": {},
   "outputs": [],
   "source": [
    "train_pred = rf.predict(train_set.values)\n",
    "test_pred = rf.predict(test_set.values)"
   ]
  },
  {
   "cell_type": "code",
   "execution_count": null,
   "id": "462f1ddf",
   "metadata": {
    "scrolled": true
   },
   "outputs": [],
   "source": [
    "print_metrics(train_label, train_pred, test_label, test_pred)"
   ]
  },
  {
   "cell_type": "markdown",
   "id": "ebac083c",
   "metadata": {},
   "source": [
    "### Confusion Matrix"
   ]
  },
  {
   "cell_type": "code",
   "execution_count": null,
   "id": "18eb592d",
   "metadata": {
    "scrolled": true
   },
   "outputs": [],
   "source": [
    "predictions = rf.predict(test_set.values)\n",
    "\n",
    "cm = confusion_matrix(test_label, predictions)\n",
    "disp = ConfusionMatrixDisplay(confusion_matrix = cm)\n",
    "disp.plot()\n",
    "plt.show()"
   ]
  },
  {
   "cell_type": "markdown",
   "id": "ae3c7007",
   "metadata": {},
   "source": [
    "### ROC-Curve"
   ]
  },
  {
   "cell_type": "code",
   "execution_count": null,
   "id": "1c0671d2",
   "metadata": {},
   "outputs": [],
   "source": [
    "RocCurveDisplay.from_estimator(rf, test_set.values, test_label)\n",
    "plt.show()"
   ]
  },
  {
   "cell_type": "markdown",
   "id": "56820683",
   "metadata": {},
   "source": [
    "### PCA Blobs"
   ]
  },
  {
   "cell_type": "code",
   "execution_count": null,
   "id": "3964c311",
   "metadata": {},
   "outputs": [],
   "source": [
    "pca = PCA(n_components=2)\n",
    "test_set_reduced = pca.fit_transform(test_set.values)"
   ]
  },
  {
   "cell_type": "code",
   "execution_count": null,
   "id": "aff00f1c",
   "metadata": {
    "scrolled": true
   },
   "outputs": [],
   "source": [
    "#true labels\n",
    "plt.scatter(test_set_reduced[:, 0], test_set_reduced[:, 1], c=test_label, s=25);"
   ]
  },
  {
   "cell_type": "code",
   "execution_count": null,
   "id": "0062b542",
   "metadata": {
    "scrolled": false
   },
   "outputs": [],
   "source": [
    "#predicted labels\n",
    "plt.scatter(test_set_reduced[:, 0], test_set_reduced[:, 1], c=test_pred, s=25);"
   ]
  },
  {
   "cell_type": "markdown",
   "id": "7a841573",
   "metadata": {},
   "source": [
    "### Save model"
   ]
  },
  {
   "cell_type": "code",
   "execution_count": null,
   "id": "dee18e14",
   "metadata": {
    "scrolled": false
   },
   "outputs": [],
   "source": [
    "with open(\"models_checkpoints/random_forest_lang.bin\", \"wb\") as f:\n",
    "    pickle.dump(rf, f)"
   ]
  },
  {
   "cell_type": "markdown",
   "id": "bf3cef33",
   "metadata": {},
   "source": [
    "### Removed \"lang\" attribute for classification"
   ]
  },
  {
   "cell_type": "code",
   "execution_count": null,
   "id": "8ed6fab4",
   "metadata": {},
   "outputs": [],
   "source": [
    "data = pd.read_csv(\"dataset/cleaned_user_profiles.csv\", index_col=0)\n",
    "train_set, test_set, train_label, test_label = prepare_data(data)"
   ]
  },
  {
   "cell_type": "code",
   "execution_count": null,
   "id": "9985e952",
   "metadata": {
    "scrolled": false
   },
   "outputs": [],
   "source": [
    "param_grid = {\n",
    "    'min_samples_leaf': [1, 2, 3],\n",
    "    'min_samples_split': [2, 3, 4],\n",
    "    'ccp_alpha': [0.0, 0.1, 0.05, 0.001],\n",
    "    'min_weight_fraction_leaf': [0.0, 0.1, 0.05, 0.001],\n",
    "    'n_estimators': np.arange(80, 150, 10),\n",
    "}\n",
    "\n",
    "rf = RandomForestClassifier()\n",
    "\n",
    "grid = GridSearchCV(\n",
    "    rf,\n",
    "    param_grid,\n",
    "    cv=3,\n",
    "    scoring='accuracy',\n",
    "    return_train_score=False,\n",
    "    verbose=4\n",
    ")\n",
    "\n",
    "grid.fit(train_set.values, train_label)"
   ]
  },
  {
   "cell_type": "code",
   "execution_count": null,
   "id": "b6d06dec",
   "metadata": {},
   "outputs": [],
   "source": [
    "rf = grid.best_estimator_\n",
    "rf"
   ]
  },
  {
   "cell_type": "markdown",
   "id": "becb50c3",
   "metadata": {},
   "source": [
    "## Print Metrics"
   ]
  },
  {
   "cell_type": "code",
   "execution_count": null,
   "id": "be9e3d50",
   "metadata": {},
   "outputs": [],
   "source": [
    "train_pred = rf.predict(train_set.values)\n",
    "test_pred = rf.predict(test_set.values)"
   ]
  },
  {
   "cell_type": "code",
   "execution_count": null,
   "id": "25271844",
   "metadata": {
    "scrolled": true
   },
   "outputs": [],
   "source": [
    "print_metrics(train_label, train_pred, test_label, test_pred)"
   ]
  },
  {
   "cell_type": "markdown",
   "id": "e4fc9b36",
   "metadata": {},
   "source": [
    "### Confusion Matrix"
   ]
  },
  {
   "cell_type": "code",
   "execution_count": null,
   "id": "95ee08b0",
   "metadata": {
    "scrolled": true
   },
   "outputs": [],
   "source": [
    "predictions = rf.predict(test_set.values)\n",
    "\n",
    "cm = confusion_matrix(test_label, predictions)\n",
    "disp = ConfusionMatrixDisplay(confusion_matrix = cm)\n",
    "disp.plot()\n",
    "plt.show()"
   ]
  },
  {
   "cell_type": "markdown",
   "id": "f2e87db2",
   "metadata": {},
   "source": [
    "### ROC-Curve"
   ]
  },
  {
   "cell_type": "code",
   "execution_count": null,
   "id": "3b3f41f4",
   "metadata": {},
   "outputs": [],
   "source": [
    "RocCurveDisplay.from_estimator(rf, test_set.values, test_label)\n",
    "plt.show()"
   ]
  },
  {
   "cell_type": "markdown",
   "id": "8d811032",
   "metadata": {},
   "source": [
    "### PCA Blobs"
   ]
  },
  {
   "cell_type": "code",
   "execution_count": null,
   "id": "417070d8",
   "metadata": {},
   "outputs": [],
   "source": [
    "pca = PCA(n_components=2)\n",
    "test_set_reduced = pca.fit_transform(test_set.values)"
   ]
  },
  {
   "cell_type": "code",
   "execution_count": null,
   "id": "185cbd74",
   "metadata": {
    "scrolled": true
   },
   "outputs": [],
   "source": [
    "#true labels\n",
    "plt.scatter(test_set_reduced[:, 0], test_set_reduced[:, 1], c=test_label, s=25);"
   ]
  },
  {
   "cell_type": "code",
   "execution_count": null,
   "id": "cc851859",
   "metadata": {
    "scrolled": true
   },
   "outputs": [],
   "source": [
    "#predicted labels\n",
    "plt.scatter(test_set_reduced[:, 0], test_set_reduced[:, 1], c=test_pred, s=25);"
   ]
  },
  {
   "cell_type": "markdown",
   "id": "ba8c0dfc",
   "metadata": {},
   "source": [
    "### Save model"
   ]
  },
  {
   "cell_type": "code",
   "execution_count": null,
   "id": "d00f4c35",
   "metadata": {
    "scrolled": false
   },
   "outputs": [],
   "source": [
    "with open(\"models_checkpoints/random_forest_no_lang.bin\", \"wb\") as f:\n",
    "    pickle.dump(rf, f)"
   ]
  },
  {
   "cell_type": "markdown",
   "id": "2fbd96a1",
   "metadata": {},
   "source": [
    "## Random Hyperparameter Grid Search\n",
    "\n",
    "Try the RandomizedSearchCV from Sklearn, over the dataset without the **Lang** feature.\n",
    "\n",
    "In contrast to GridSearchCV, not all parameter values are tried out, but rather a fixed number of parameter settings is sampled from the specified distributions"
   ]
  },
  {
   "cell_type": "code",
   "execution_count": null,
   "id": "d61ebdba",
   "metadata": {},
   "outputs": [],
   "source": [
    "n_estimators = [int(x) for x in np.linspace(start = 200, stop = 2000, num = 10)]\n",
    "max_features = ['auto', 'sqrt']\n",
    "max_depth = [int(x) for x in np.linspace(10, 110, num = 11)]\n",
    "max_depth.append(None)\n",
    "min_samples_split = [2, 5, 10]\n",
    "min_samples_leaf = [1, 2, 4]\n",
    "bootstrap = [True, False]\n",
    "\n",
    "random_grid = {'n_estimators': n_estimators,\n",
    "               'max_features': max_features,\n",
    "               'max_depth': max_depth,\n",
    "               'min_samples_split': min_samples_split,\n",
    "               'min_samples_leaf': min_samples_leaf,\n",
    "               'bootstrap': bootstrap}\n",
    "\n",
    "rf = RandomForestClassifier()\n",
    "\n",
    "rf_random = RandomizedSearchCV(\n",
    "    estimator = rf,\n",
    "    param_distributions = random_grid,\n",
    "    n_iter = 100,\n",
    "    cv = 3,\n",
    "    verbose=4,\n",
    "    random_state=42,\n",
    "    n_jobs = -1\n",
    ")\n",
    "\n",
    "rf_random.fit(train_set.values, train_label)\n",
    "print(\n",
    "    \"The best parameters are %s with a score of %0.5f\"\n",
    "    % (rf_random.best_params_, rf_random.best_score_)\n",
    ")"
   ]
  },
  {
   "cell_type": "code",
   "execution_count": null,
   "id": "6a20faa3",
   "metadata": {},
   "outputs": [],
   "source": [
    "rf = rf_random.best_estimator_"
   ]
  },
  {
   "cell_type": "markdown",
   "id": "eeae4ace",
   "metadata": {},
   "source": [
    "## Print Metrics"
   ]
  },
  {
   "cell_type": "code",
   "execution_count": null,
   "id": "d893f8c3",
   "metadata": {},
   "outputs": [],
   "source": [
    "train_pred = rf.predict(train_set.values)\n",
    "test_pred = rf.predict(test_set.values)"
   ]
  },
  {
   "cell_type": "code",
   "execution_count": null,
   "id": "46637ec8",
   "metadata": {},
   "outputs": [],
   "source": [
    "print_metrics(train_label, train_pred, test_label, test_pred)"
   ]
  },
  {
   "cell_type": "markdown",
   "id": "7e7d91c6",
   "metadata": {},
   "source": [
    "### Confusion Matrix"
   ]
  },
  {
   "cell_type": "code",
   "execution_count": null,
   "id": "62800662",
   "metadata": {},
   "outputs": [],
   "source": [
    "predictions = rf.predict(test_set.values)\n",
    "\n",
    "cm = confusion_matrix(test_label, predictions)\n",
    "disp = ConfusionMatrixDisplay(confusion_matrix = cm)\n",
    "disp.plot()\n",
    "plt.show()"
   ]
  },
  {
   "cell_type": "markdown",
   "id": "6104c21c",
   "metadata": {},
   "source": [
    "### ROC-Curve"
   ]
  },
  {
   "cell_type": "code",
   "execution_count": null,
   "id": "f4f606a2",
   "metadata": {},
   "outputs": [],
   "source": [
    "RocCurveDisplay.from_estimator(rf, test_set.values, test_label)\n",
    "plt.show()"
   ]
  },
  {
   "cell_type": "markdown",
   "id": "0bc915c1",
   "metadata": {},
   "source": [
    "### PCA Blobs"
   ]
  },
  {
   "cell_type": "code",
   "execution_count": null,
   "id": "d6a2bf5a",
   "metadata": {},
   "outputs": [],
   "source": [
    "pca = PCA(n_components=2)\n",
    "test_set_reduced = pca.fit_transform(test_set.values)"
   ]
  },
  {
   "cell_type": "code",
   "execution_count": null,
   "id": "41113756",
   "metadata": {},
   "outputs": [],
   "source": [
    "#true labels\n",
    "plt.scatter(test_set_reduced[:, 0], test_set_reduced[:, 1], c=test_label, s=25);"
   ]
  },
  {
   "cell_type": "code",
   "execution_count": null,
   "id": "a53bc3dc",
   "metadata": {},
   "outputs": [],
   "source": [
    "#predicted labels\n",
    "plt.scatter(test_set_reduced[:, 0], test_set_reduced[:, 1], c=test_pred, s=25);"
   ]
  },
  {
   "cell_type": "markdown",
   "id": "a0eb5021",
   "metadata": {},
   "source": [
    "### Save Model"
   ]
  },
  {
   "cell_type": "code",
   "execution_count": null,
   "id": "8141a91e",
   "metadata": {},
   "outputs": [],
   "source": [
    "with open(\"models_checkpoints/random_forest_2_no_lang.bin\", \"wb\") as f:\n",
    "    pickle.dump(rf, f)"
   ]
  }
 ],
 "metadata": {
  "kernelspec": {
   "display_name": "venv",
   "language": "python",
   "name": "venv"
  },
  "language_info": {
   "codemirror_mode": {
    "name": "ipython",
    "version": 3
   },
   "file_extension": ".py",
   "mimetype": "text/x-python",
   "name": "python",
   "nbconvert_exporter": "python",
   "pygments_lexer": "ipython3",
   "version": "3.9.15"
  }
 },
 "nbformat": 4,
 "nbformat_minor": 5
}
