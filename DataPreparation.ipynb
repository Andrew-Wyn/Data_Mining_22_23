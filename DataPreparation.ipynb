{
 "cells": [
  {
   "cell_type": "code",
   "execution_count": 1,
   "id": "a2bd4607",
   "metadata": {},
   "outputs": [],
   "source": [
    "import numpy as np\n",
    "import pandas as pd\n",
    "import matplotlib.pyplot as plt\n",
    "import scipy"
   ]
  },
  {
   "cell_type": "code",
   "execution_count": 2,
   "id": "a9d4524f",
   "metadata": {},
   "outputs": [],
   "source": [
    "users = pd.read_csv(\"cleaned_users.csv\")"
   ]
  },
  {
   "cell_type": "code",
   "execution_count": 3,
   "id": "543b937b",
   "metadata": {
    "scrolled": true
   },
   "outputs": [],
   "source": [
    "tweets = pd.read_csv(\"cleaned_tweets.csv\", index_col = 0, lineterminator = '\\n')"
   ]
  },
  {
   "cell_type": "code",
   "execution_count": 4,
   "id": "e30fee9a",
   "metadata": {},
   "outputs": [],
   "source": [
    "users.rename(columns = {'id':'user_id'}, inplace = True)"
   ]
  },
  {
   "cell_type": "code",
   "execution_count": 5,
   "id": "3b6e29c6",
   "metadata": {},
   "outputs": [],
   "source": [
    "joined_df = tweets.merge(users, on='user_id')"
   ]
  },
  {
   "cell_type": "code",
   "execution_count": 6,
   "id": "2a93cac7",
   "metadata": {
    "scrolled": true
   },
   "outputs": [
    {
     "data": {
      "text/html": [
       "<div>\n",
       "<style scoped>\n",
       "    .dataframe tbody tr th:only-of-type {\n",
       "        vertical-align: middle;\n",
       "    }\n",
       "\n",
       "    .dataframe tbody tr th {\n",
       "        vertical-align: top;\n",
       "    }\n",
       "\n",
       "    .dataframe thead th {\n",
       "        text-align: right;\n",
       "    }\n",
       "</style>\n",
       "<table border=\"1\" class=\"dataframe\">\n",
       "  <thead>\n",
       "    <tr style=\"text-align: right;\">\n",
       "      <th></th>\n",
       "      <th>user_id</th>\n",
       "      <th>retweet_count</th>\n",
       "      <th>reply_count</th>\n",
       "      <th>favorite_count</th>\n",
       "      <th>num_hashtags</th>\n",
       "      <th>num_urls</th>\n",
       "      <th>num_mentions</th>\n",
       "      <th>created_at_x</th>\n",
       "      <th>text</th>\n",
       "      <th>name</th>\n",
       "      <th>lang</th>\n",
       "      <th>bot</th>\n",
       "      <th>created_at_y</th>\n",
       "      <th>statuses_count</th>\n",
       "    </tr>\n",
       "  </thead>\n",
       "  <tbody>\n",
       "    <tr>\n",
       "      <th>0</th>\n",
       "      <td>327746321</td>\n",
       "      <td>0</td>\n",
       "      <td>0</td>\n",
       "      <td>0</td>\n",
       "      <td>0</td>\n",
       "      <td>0</td>\n",
       "      <td>0</td>\n",
       "      <td>2019-09-11 14:53:55</td>\n",
       "      <td>If man is a little lower than angels, then ang...</td>\n",
       "      <td>The Amazing Rhythm</td>\n",
       "      <td>en</td>\n",
       "      <td>1</td>\n",
       "      <td>2016-07-03 02:37:46</td>\n",
       "      <td>291.615157</td>\n",
       "    </tr>\n",
       "    <tr>\n",
       "      <th>1</th>\n",
       "      <td>327746321</td>\n",
       "      <td>0</td>\n",
       "      <td>0</td>\n",
       "      <td>0</td>\n",
       "      <td>0</td>\n",
       "      <td>0</td>\n",
       "      <td>0</td>\n",
       "      <td>2019-10-21 17:42:10</td>\n",
       "      <td>Read the Biography of Don Henley  http://t.co/...</td>\n",
       "      <td>The Amazing Rhythm</td>\n",
       "      <td>en</td>\n",
       "      <td>1</td>\n",
       "      <td>2016-07-03 02:37:46</td>\n",
       "      <td>291.615157</td>\n",
       "    </tr>\n",
       "    <tr>\n",
       "      <th>2</th>\n",
       "      <td>327746321</td>\n",
       "      <td>0</td>\n",
       "      <td>0</td>\n",
       "      <td>0</td>\n",
       "      <td>0</td>\n",
       "      <td>0</td>\n",
       "      <td>0</td>\n",
       "      <td>2019-11-02 15:11:22</td>\n",
       "      <td>Don't tell me where your priorities are. Show ...</td>\n",
       "      <td>The Amazing Rhythm</td>\n",
       "      <td>en</td>\n",
       "      <td>1</td>\n",
       "      <td>2016-07-03 02:37:46</td>\n",
       "      <td>291.615157</td>\n",
       "    </tr>\n",
       "    <tr>\n",
       "      <th>3</th>\n",
       "      <td>327746321</td>\n",
       "      <td>0</td>\n",
       "      <td>0</td>\n",
       "      <td>0</td>\n",
       "      <td>0</td>\n",
       "      <td>0</td>\n",
       "      <td>0</td>\n",
       "      <td>2019-11-07 22:07:20</td>\n",
       "      <td>Learn About the Great Music of Bill Justis  ht...</td>\n",
       "      <td>The Amazing Rhythm</td>\n",
       "      <td>en</td>\n",
       "      <td>1</td>\n",
       "      <td>2016-07-03 02:37:46</td>\n",
       "      <td>291.615157</td>\n",
       "    </tr>\n",
       "    <tr>\n",
       "      <th>4</th>\n",
       "      <td>327746321</td>\n",
       "      <td>0</td>\n",
       "      <td>0</td>\n",
       "      <td>0</td>\n",
       "      <td>0</td>\n",
       "      <td>0</td>\n",
       "      <td>0</td>\n",
       "      <td>2019-10-12 04:46:17</td>\n",
       "      <td>Do you love James Bond? Â Check out these cool...</td>\n",
       "      <td>The Amazing Rhythm</td>\n",
       "      <td>en</td>\n",
       "      <td>1</td>\n",
       "      <td>2016-07-03 02:37:46</td>\n",
       "      <td>291.615157</td>\n",
       "    </tr>\n",
       "  </tbody>\n",
       "</table>\n",
       "</div>"
      ],
      "text/plain": [
       "     user_id  retweet_count  reply_count  favorite_count  num_hashtags  \\\n",
       "0  327746321              0            0               0             0   \n",
       "1  327746321              0            0               0             0   \n",
       "2  327746321              0            0               0             0   \n",
       "3  327746321              0            0               0             0   \n",
       "4  327746321              0            0               0             0   \n",
       "\n",
       "   num_urls  num_mentions         created_at_x  \\\n",
       "0         0             0  2019-09-11 14:53:55   \n",
       "1         0             0  2019-10-21 17:42:10   \n",
       "2         0             0  2019-11-02 15:11:22   \n",
       "3         0             0  2019-11-07 22:07:20   \n",
       "4         0             0  2019-10-12 04:46:17   \n",
       "\n",
       "                                                text                name lang  \\\n",
       "0  If man is a little lower than angels, then ang...  The Amazing Rhythm   en   \n",
       "1  Read the Biography of Don Henley  http://t.co/...  The Amazing Rhythm   en   \n",
       "2  Don't tell me where your priorities are. Show ...  The Amazing Rhythm   en   \n",
       "3  Learn About the Great Music of Bill Justis  ht...  The Amazing Rhythm   en   \n",
       "4  Do you love James Bond? Â Check out these cool...  The Amazing Rhythm   en   \n",
       "\n",
       "   bot         created_at_y  statuses_count  \n",
       "0    1  2016-07-03 02:37:46      291.615157  \n",
       "1    1  2016-07-03 02:37:46      291.615157  \n",
       "2    1  2016-07-03 02:37:46      291.615157  \n",
       "3    1  2016-07-03 02:37:46      291.615157  \n",
       "4    1  2016-07-03 02:37:46      291.615157  "
      ]
     },
     "execution_count": 6,
     "metadata": {},
     "output_type": "execute_result"
    }
   ],
   "source": [
    "joined_df.head()"
   ]
  },
  {
   "cell_type": "markdown",
   "id": "55f02afa",
   "metadata": {},
   "source": [
    "## Average length of a tweet"
   ]
  },
  {
   "cell_type": "code",
   "execution_count": 7,
   "id": "350639db",
   "metadata": {},
   "outputs": [],
   "source": [
    "text = joined_df['text'].astype(str)"
   ]
  },
  {
   "cell_type": "code",
   "execution_count": 8,
   "id": "36fff868",
   "metadata": {},
   "outputs": [
    {
     "name": "stdout",
     "output_type": "stream",
     "text": [
      "Average length of a tweet: 71.53352429598813\n"
     ]
    }
   ],
   "source": [
    "print('Average length of a tweet:', text.apply(len).mean())"
   ]
  },
  {
   "cell_type": "markdown",
   "id": "8f9d121f",
   "metadata": {},
   "source": [
    "## Ratio between the number of likes and the number of tweets"
   ]
  },
  {
   "cell_type": "code",
   "execution_count": 9,
   "id": "2ebb5482",
   "metadata": {},
   "outputs": [
    {
     "name": "stdout",
     "output_type": "stream",
     "text": [
      "Ratio between favorite_count and number of tweets: 0.18481920823388165\n"
     ]
    }
   ],
   "source": [
    "print('Ratio between favorite_count and number of tweets:', joined_df['favorite_count'].sum()/len(joined_df))"
   ]
  },
  {
   "cell_type": "markdown",
   "id": "59c32235",
   "metadata": {},
   "source": [
    "## Total number of tweets per user"
   ]
  },
  {
   "cell_type": "code",
   "execution_count": 10,
   "id": "aa795bd4",
   "metadata": {},
   "outputs": [
    {
     "data": {
      "text/plain": [
       "user_id\n",
       "21706899         1\n",
       "1385297372       1\n",
       "1386172154       1\n",
       "126216653        1\n",
       "1208102538       1\n",
       "              ... \n",
       "164940888     3903\n",
       "157029836     3903\n",
       "1693274954    3906\n",
       "497404180     3919\n",
       "491630583     3929\n",
       "Name: num_tweets, Length: 11508, dtype: int64"
      ]
     },
     "execution_count": 10,
     "metadata": {},
     "output_type": "execute_result"
    }
   ],
   "source": [
    "num_tweets = joined_df.groupby(['user_id'])['reply_count'].count().to_frame()\n",
    "num_tweets.rename(columns = {'reply_count':'num_tweets'}, inplace = True)\n",
    "num_tweets.num_tweets.sort_values()"
   ]
  },
  {
   "cell_type": "markdown",
   "id": "39bc9179",
   "metadata": {},
   "source": [
    "## Ratio between the number of urls and number of tweets (per user)"
   ]
  },
  {
   "cell_type": "code",
   "execution_count": 11,
   "id": "a7bcdd73",
   "metadata": {},
   "outputs": [
    {
     "data": {
      "text/html": [
       "<div>\n",
       "<style scoped>\n",
       "    .dataframe tbody tr th:only-of-type {\n",
       "        vertical-align: middle;\n",
       "    }\n",
       "\n",
       "    .dataframe tbody tr th {\n",
       "        vertical-align: top;\n",
       "    }\n",
       "\n",
       "    .dataframe thead th {\n",
       "        text-align: right;\n",
       "    }\n",
       "</style>\n",
       "<table border=\"1\" class=\"dataframe\">\n",
       "  <thead>\n",
       "    <tr style=\"text-align: right;\">\n",
       "      <th></th>\n",
       "      <th>num_urls</th>\n",
       "    </tr>\n",
       "    <tr>\n",
       "      <th>user_id</th>\n",
       "      <th></th>\n",
       "    </tr>\n",
       "  </thead>\n",
       "  <tbody>\n",
       "    <tr>\n",
       "      <th>678033</th>\n",
       "      <td>0</td>\n",
       "    </tr>\n",
       "    <tr>\n",
       "      <th>722623</th>\n",
       "      <td>0</td>\n",
       "    </tr>\n",
       "    <tr>\n",
       "      <th>755116</th>\n",
       "      <td>0</td>\n",
       "    </tr>\n",
       "    <tr>\n",
       "      <th>755746</th>\n",
       "      <td>0</td>\n",
       "    </tr>\n",
       "    <tr>\n",
       "      <th>785080</th>\n",
       "      <td>0</td>\n",
       "    </tr>\n",
       "    <tr>\n",
       "      <th>...</th>\n",
       "      <td>...</td>\n",
       "    </tr>\n",
       "    <tr>\n",
       "      <th>3156622237</th>\n",
       "      <td>0</td>\n",
       "    </tr>\n",
       "    <tr>\n",
       "      <th>3158349782</th>\n",
       "      <td>0</td>\n",
       "    </tr>\n",
       "    <tr>\n",
       "      <th>3159993463</th>\n",
       "      <td>0</td>\n",
       "    </tr>\n",
       "    <tr>\n",
       "      <th>3161171948</th>\n",
       "      <td>0</td>\n",
       "    </tr>\n",
       "    <tr>\n",
       "      <th>3164941860</th>\n",
       "      <td>0</td>\n",
       "    </tr>\n",
       "  </tbody>\n",
       "</table>\n",
       "<p>11508 rows × 1 columns</p>\n",
       "</div>"
      ],
      "text/plain": [
       "            num_urls\n",
       "user_id             \n",
       "678033             0\n",
       "722623             0\n",
       "755116             0\n",
       "755746             0\n",
       "785080             0\n",
       "...              ...\n",
       "3156622237         0\n",
       "3158349782         0\n",
       "3159993463         0\n",
       "3161171948         0\n",
       "3164941860         0\n",
       "\n",
       "[11508 rows x 1 columns]"
      ]
     },
     "execution_count": 11,
     "metadata": {},
     "output_type": "execute_result"
    }
   ],
   "source": [
    "num_urls = joined_df.groupby(['user_id'])['num_urls'].sum().to_frame()\n",
    "num_urls"
   ]
  },
  {
   "cell_type": "code",
   "execution_count": 12,
   "id": "35a077f4",
   "metadata": {},
   "outputs": [
    {
     "data": {
      "text/html": [
       "<div>\n",
       "<style scoped>\n",
       "    .dataframe tbody tr th:only-of-type {\n",
       "        vertical-align: middle;\n",
       "    }\n",
       "\n",
       "    .dataframe tbody tr th {\n",
       "        vertical-align: top;\n",
       "    }\n",
       "\n",
       "    .dataframe thead th {\n",
       "        text-align: right;\n",
       "    }\n",
       "</style>\n",
       "<table border=\"1\" class=\"dataframe\">\n",
       "  <thead>\n",
       "    <tr style=\"text-align: right;\">\n",
       "      <th></th>\n",
       "      <th>num_tweets</th>\n",
       "      <th>num_urls</th>\n",
       "    </tr>\n",
       "    <tr>\n",
       "      <th>user_id</th>\n",
       "      <th></th>\n",
       "      <th></th>\n",
       "    </tr>\n",
       "  </thead>\n",
       "  <tbody>\n",
       "    <tr>\n",
       "      <th>678033</th>\n",
       "      <td>2374</td>\n",
       "      <td>0</td>\n",
       "    </tr>\n",
       "    <tr>\n",
       "      <th>722623</th>\n",
       "      <td>2021</td>\n",
       "      <td>0</td>\n",
       "    </tr>\n",
       "    <tr>\n",
       "      <th>755116</th>\n",
       "      <td>2144</td>\n",
       "      <td>0</td>\n",
       "    </tr>\n",
       "    <tr>\n",
       "      <th>755746</th>\n",
       "      <td>2017</td>\n",
       "      <td>0</td>\n",
       "    </tr>\n",
       "    <tr>\n",
       "      <th>785080</th>\n",
       "      <td>3436</td>\n",
       "      <td>0</td>\n",
       "    </tr>\n",
       "    <tr>\n",
       "      <th>...</th>\n",
       "      <td>...</td>\n",
       "      <td>...</td>\n",
       "    </tr>\n",
       "    <tr>\n",
       "      <th>3156622237</th>\n",
       "      <td>3701</td>\n",
       "      <td>0</td>\n",
       "    </tr>\n",
       "    <tr>\n",
       "      <th>3158349782</th>\n",
       "      <td>109</td>\n",
       "      <td>0</td>\n",
       "    </tr>\n",
       "    <tr>\n",
       "      <th>3159993463</th>\n",
       "      <td>125</td>\n",
       "      <td>0</td>\n",
       "    </tr>\n",
       "    <tr>\n",
       "      <th>3161171948</th>\n",
       "      <td>6</td>\n",
       "      <td>0</td>\n",
       "    </tr>\n",
       "    <tr>\n",
       "      <th>3164941860</th>\n",
       "      <td>146</td>\n",
       "      <td>0</td>\n",
       "    </tr>\n",
       "  </tbody>\n",
       "</table>\n",
       "<p>11508 rows × 2 columns</p>\n",
       "</div>"
      ],
      "text/plain": [
       "            num_tweets  num_urls\n",
       "user_id                         \n",
       "678033            2374         0\n",
       "722623            2021         0\n",
       "755116            2144         0\n",
       "755746            2017         0\n",
       "785080            3436         0\n",
       "...                ...       ...\n",
       "3156622237        3701         0\n",
       "3158349782         109         0\n",
       "3159993463         125         0\n",
       "3161171948           6         0\n",
       "3164941860         146         0\n",
       "\n",
       "[11508 rows x 2 columns]"
      ]
     },
     "execution_count": 12,
     "metadata": {},
     "output_type": "execute_result"
    }
   ],
   "source": [
    "joined_urls = num_tweets.merge(num_urls, on = 'user_id')\n",
    "joined_urls"
   ]
  },
  {
   "cell_type": "code",
   "execution_count": 20,
   "id": "f22a28dd",
   "metadata": {},
   "outputs": [
    {
     "data": {
      "text/plain": [
       "user_id\n",
       "678033        0.0\n",
       "722623        0.0\n",
       "755116        0.0\n",
       "755746        0.0\n",
       "785080        0.0\n",
       "             ... \n",
       "3156622237    0.0\n",
       "3158349782    0.0\n",
       "3159993463    0.0\n",
       "3161171948    0.0\n",
       "3164941860    0.0\n",
       "Name: urls_ratio, Length: 11508, dtype: float64"
      ]
     },
     "execution_count": 20,
     "metadata": {},
     "output_type": "execute_result"
    }
   ],
   "source": [
    "num_tweets['urls_ratio'] = joined_urls['num_urls']/joined_urls['num_tweets']\n",
    "num_tweets['urls_ratio']"
   ]
  },
  {
   "cell_type": "markdown",
   "id": "ed1e045c",
   "metadata": {},
   "source": [
    "## Ratio between the number of mention and number of tweets (per user)"
   ]
  },
  {
   "cell_type": "code",
   "execution_count": 14,
   "id": "8a3b9153",
   "metadata": {},
   "outputs": [],
   "source": [
    "num_mentions = joined_df.groupby(['user_id'])['num_mentions'].sum().to_frame()"
   ]
  },
  {
   "cell_type": "code",
   "execution_count": 15,
   "id": "a4a400ba",
   "metadata": {},
   "outputs": [],
   "source": [
    "joined_mentions = num_tweets.merge(num_mentions, on = 'user_id')"
   ]
  },
  {
   "cell_type": "code",
   "execution_count": 22,
   "id": "395da9e2",
   "metadata": {},
   "outputs": [
    {
     "data": {
      "text/plain": [
       "array([0.74894693, 0.53686294, 0.61007463, ..., 0.68807339, 0.208     ,\n",
       "       0.84931507])"
      ]
     },
     "execution_count": 22,
     "metadata": {},
     "output_type": "execute_result"
    }
   ],
   "source": [
    "num_tweets['mentions_ratio'] = joined_mentions['num_mentions']/joined_urls['num_tweets']\n",
    "num_tweets['mentions_ratio'].sort_values()\n",
    "num_tweets['mentions_ratio'].unique()"
   ]
  },
  {
   "cell_type": "markdown",
   "id": "a7780ea8",
   "metadata": {},
   "source": [
    "## Ratio between the number of hashtags and number of tweets (per user)"
   ]
  },
  {
   "cell_type": "code",
   "execution_count": 17,
   "id": "fccab9a4",
   "metadata": {},
   "outputs": [],
   "source": [
    "num_hashtags = joined_df.groupby(['user_id'])['num_hashtags'].sum().to_frame()"
   ]
  },
  {
   "cell_type": "code",
   "execution_count": 18,
   "id": "ba37366e",
   "metadata": {},
   "outputs": [],
   "source": [
    "joined_hashtags = num_tweets.merge(num_hashtags, on = 'user_id')"
   ]
  },
  {
   "cell_type": "code",
   "execution_count": 29,
   "id": "63c92356",
   "metadata": {},
   "outputs": [
    {
     "data": {
      "text/plain": [
       "array([0.00000000e+00, 1.00000000e+00, 3.76081234e-04, 2.27790433e-03,\n",
       "       2.59268862e-04, 2.57731959e-04, 3.13283208e-04, 5.97371565e-04,\n",
       "       6.15384615e-04, 9.99070200e-01, 9.99456817e-01, 7.28407908e-03,\n",
       "       2.71223217e-04, 5.21920668e-04, 6.78794461e-03, 4.14078675e-04,\n",
       "       5.35905681e-04, 1.12317484e-03, 4.67289720e-04, 5.47345375e-04,\n",
       "       9.97632576e-01, 9.99490056e-01, 5.37634409e-04, 9.98714653e-01,\n",
       "       8.20568928e-04, 4.53720508e-04, 2.37404379e-03, 4.19287212e-04,\n",
       "       4.61254613e-04, 1.73913043e-03, 4.27350427e-04, 5.43773790e-04,\n",
       "       5.59284116e-04, 9.99640546e-01, 8.80281690e-04, 2.24215247e-03,\n",
       "       9.99731760e-01, 3.37154417e-04, 4.16666667e-03, 4.76871722e-04,\n",
       "       9.98335183e-01, 1.36736554e-03, 1.14351058e-03, 7.30460190e-04,\n",
       "       9.99014293e-01, 5.45553737e-03, 4.59347726e-04, 8.00640512e-04,\n",
       "       8.11688312e-04, 1.08577633e-03, 3.72578241e-04, 1.37362637e-03,\n",
       "       8.53242321e-04, 3.25884544e-03, 4.99251123e-04, 5.80720093e-04,\n",
       "       1.70551450e-03, 5.99161174e-04, 1.36472194e-03, 1.18906064e-03,\n",
       "       2.73074823e-04, 3.93236335e-04, 8.87311446e-04, 4.96963004e-03,\n",
       "       9.99730094e-01, 5.73723465e-04, 5.00000000e-04, 4.89715965e-04,\n",
       "       4.25713069e-04, 2.68024658e-04, 1.25575555e-03, 5.38358008e-04,\n",
       "       3.25027086e-03, 9.11992704e-04, 3.02297461e-04, 7.61324705e-04,\n",
       "       1.33868809e-03, 4.76644423e-04, 4.48833034e-04, 9.96668517e-01,\n",
       "       5.46149645e-04, 3.52685838e-03, 3.96667989e-04, 5.46746856e-04,\n",
       "       6.23830318e-04, 1.11358575e-03, 5.16573396e-03, 1.24575311e-02,\n",
       "       5.46000546e-04, 9.13043478e-03, 3.32889481e-04, 1.63220892e-03,\n",
       "       8.88888889e-04, 3.04529882e-03, 1.34336378e-03, 7.20201656e-04,\n",
       "       3.15789474e-03, 1.10466722e-03, 9.78260870e-03, 1.58061117e-03,\n",
       "       5.39811066e-04, 3.92310710e-04, 4.84730974e-04, 6.18811881e-04,\n",
       "       1.27877238e-03, 5.48998079e-04, 4.69043152e-04, 4.88281250e-04,\n",
       "       4.04203719e-04, 8.90471950e-04, 2.72975432e-03, 5.05902192e-03,\n",
       "       2.69759914e-04, 1.16009281e-03, 1.22349103e-03, 8.32292967e-04,\n",
       "       2.72108844e-04, 6.73400673e-04, 2.73000273e-04, 8.31255195e-04,\n",
       "       2.71296799e-03, 3.87296669e-04, 7.17617510e-04, 9.99447056e-01,\n",
       "       5.87544066e-04, 5.62429696e-04, 4.70843897e-03, 3.64963504e-04,\n",
       "       2.69541779e-04, 7.40466494e-03, 9.98690242e-01, 4.11184211e-04,\n",
       "       9.91543340e-01, 8.31024931e-04, 4.50856628e-04, 2.75938190e-04,\n",
       "       2.94985251e-03, 3.61010830e-03, 4.32152118e-04, 3.43760743e-04,\n",
       "       2.81463611e-03, 2.70635995e-04, 1.60599572e-03, 1.08342362e-03,\n",
       "       2.87172942e-03, 9.97966446e-01, 4.95049505e-04, 4.39753738e-04,\n",
       "       3.30250991e-04, 6.30119723e-04, 1.58227848e-03, 1.17302053e-03,\n",
       "       1.04465918e-03, 3.61532899e-04, 8.81834215e-04, 9.99458435e-01,\n",
       "       2.62467192e-04, 2.72553829e-04, 5.59105431e-03, 2.74951883e-04,\n",
       "       4.72813239e-04, 3.96353547e-04, 5.46896363e-04, 3.14169023e-04,\n",
       "       3.67242012e-04, 2.07382829e-03, 4.04157044e-03, 5.62746201e-04,\n",
       "       5.39374326e-04, 5.90667454e-04, 5.44662309e-04, 2.70197244e-04,\n",
       "       1.23304562e-03, 6.18429190e-04, 4.24728646e-03, 4.65766185e-04,\n",
       "       2.96096904e-03, 9.99179655e-01, 2.44631693e-03, 2.74649821e-04,\n",
       "       4.12711515e-04, 1.13250283e-03, 2.71149675e-04, 1.70068027e-03,\n",
       "       9.29368030e-04, 1.00806452e-03, 9.99593000e-01, 4.43786982e-03,\n",
       "       7.66283525e-04, 1.62601626e-03, 9.99174009e-01, 4.46627959e-04,\n",
       "       4.52079566e-04, 2.02020202e-03, 5.81733566e-04, 8.20793434e-04,\n",
       "       8.62068966e-04, 6.54878847e-04, 2.35710077e-03, 9.94238683e-01,\n",
       "       3.59582884e-04, 4.40140845e-04, 9.99440090e-01, 3.75234522e-04,\n",
       "       5.59910414e-04, 9.99728187e-01, 1.15473441e-03, 1.02951270e-03,\n",
       "       9.99477534e-01, 2.82885431e-04, 3.63504180e-04, 1.65152766e-03,\n",
       "       6.87285223e-04, 3.44115623e-03, 9.96837945e-01, 1.31752306e-03,\n",
       "       1.65715838e-02, 5.53556601e-04, 2.70562771e-04, 9.99500000e-01,\n",
       "       3.89755011e-03, 8.13669650e-04, 8.21242814e-04, 2.94204178e-04,\n",
       "       3.53232073e-04, 6.93000693e-04, 4.56829603e-04, 1.27986348e-03,\n",
       "       5.19750520e-04, 9.99546074e-01, 2.67308206e-04, 9.46969697e-04,\n",
       "       9.94811933e-01, 4.85908649e-04, 5.53403431e-04, 3.51123596e-04,\n",
       "       2.72257011e-04, 5.02008032e-04, 2.74122807e-04, 7.44601638e-04,\n",
       "       4.32713111e-04, 3.91236307e-04, 5.28541226e-04, 4.54959054e-04,\n",
       "       8.12347685e-04, 1.04547831e-03, 5.84795322e-03, 5.84112150e-04,\n",
       "       2.46062992e-03, 7.36919676e-04, 3.48189415e-04, 8.70700914e-04,\n",
       "       4.46030330e-04, 7.06464147e-04, 4.17885499e-04, 1.05097215e-03,\n",
       "       7.50750751e-04, 4.63392030e-04, 1.33333333e-03, 3.77643505e-04,\n",
       "       4.91400491e-04, 8.28271673e-04, 4.84027106e-04, 2.69832704e-04,\n",
       "       9.98616396e-01, 3.80228137e-04, 3.55871886e-03, 4.03551251e-04,\n",
       "       4.98504487e-04, 4.68603561e-04, 3.60638846e-03, 8.34028357e-04,\n",
       "       2.83607487e-04, 9.99190939e-01, 4.41306267e-04, 8.09935205e-04,\n",
       "       3.63240102e-04, 9.99732477e-01, 2.71665308e-04, 2.75254611e-04,\n",
       "       5.55555556e-04, 3.18809777e-03, 5.87889477e-04, 9.06618314e-04,\n",
       "       4.20521447e-04, 1.40056022e-03, 2.15575317e-03, 1.45631068e-03,\n",
       "       5.38502962e-04, 6.52315721e-04, 6.01684717e-04, 4.14421881e-04,\n",
       "       2.70782562e-04, 2.47524752e-03, 6.96324952e-03, 5.14403292e-04,\n",
       "       9.99739515e-01, 9.98431783e-01, 9.94505495e-01, 4.43262411e-04,\n",
       "       2.54517689e-04, 6.43293664e-04, 5.18134715e-04, 2.74941084e-03,\n",
       "       2.66169816e-04, 4.22832981e-04, 2.44831338e-03, 2.58899676e-03,\n",
       "       3.13087038e-04, 1.33067199e-03, 4.12371134e-04, 4.03714170e-04,\n",
       "       5.70125428e-04, 4.57456542e-03, 9.87038058e-01, 1.42298115e-03,\n",
       "       2.66666667e-03, 1.29954516e-03, 9.99432785e-01, 5.64812200e-04,\n",
       "       2.01106083e-03, 4.37636761e-04, 5.39956803e-04, 9.32400932e-04,\n",
       "       6.61813369e-04, 7.06214689e-04, 2.69905533e-04, 1.05708245e-03,\n",
       "       1.63934426e-03, 3.20821303e-04, 9.99716473e-01, 3.53606789e-04,\n",
       "       1.40778977e-03, 1.07913669e-03, 2.73298715e-04, 5.56792873e-04,\n",
       "       4.70957614e-03, 3.91389432e-04, 1.76522507e-03, 3.94477318e-04,\n",
       "       6.48088140e-04, 1.87617261e-03, 9.91695164e-01, 3.39213026e-04,\n",
       "       5.02765209e-04, 2.74122807e-03, 9.69665272e-01, 1.87265918e-03,\n",
       "       2.96208531e-04, 2.07039337e-03, 2.68384326e-04, 4.02738623e-04,\n",
       "       8.85347499e-04, 9.83767831e-04, 7.09723208e-04, 3.94166338e-04,\n",
       "       4.80076812e-04, 2.98284862e-03, 5.44069641e-04, 8.10810811e-04,\n",
       "       2.69323997e-04, 1.96078431e-03, 1.84956843e-03, 1.48367953e-03,\n",
       "       2.94406281e-03, 9.77028206e-01, 2.73149413e-04, 1.25052105e-03,\n",
       "       8.10701257e-04, 4.54752160e-04, 5.82411182e-04, 2.96559905e-03,\n",
       "       4.01929260e-04, 4.71920717e-04, 8.16993464e-04, 1.74367916e-03,\n",
       "       5.49450549e-04, 1.38121547e-03, 1.09229929e-03, 7.39644970e-04,\n",
       "       9.94781653e-01, 3.65096751e-04, 7.24112962e-04, 5.52181115e-04,\n",
       "       4.69483568e-03, 9.99630178e-01, 5.39665407e-04, 1.60771704e-03,\n",
       "       9.97267760e-01, 1.30378096e-03, 1.96592398e-03, 5.06329114e-03,\n",
       "       1.63265306e-02, 9.20386562e-04, 8.07971990e-04, 4.16493128e-04,\n",
       "       1.09849872e-03, 9.99316005e-01, 8.89284126e-04, 9.99383097e-01,\n",
       "       6.19962802e-04, 6.05326877e-04, 2.73822563e-04, 9.99729730e-01,\n",
       "       1.11413043e-02, 1.49700599e-03, 6.75675676e-04, 9.92091628e-01,\n",
       "       1.15696105e-03, 3.52112676e-03, 1.97238659e-03, 1.62866450e-03,\n",
       "       7.62776506e-04, 3.34112930e-04, 2.57201646e-04, 6.95410292e-04,\n",
       "       4.30107527e-04, 3.46140533e-04, 1.33689840e-03, 5.42446433e-04,\n",
       "       5.74382539e-04, 7.75995861e-04, 6.45577792e-04, 1.23966942e-02,\n",
       "       9.99377141e-01, 1.08225108e-03, 3.79650721e-04, 4.11353353e-04,\n",
       "       2.73373428e-04, 1.05263158e-03, 2.76243094e-04, 3.94632991e-04,\n",
       "       8.99427637e-03, 6.28930818e-04, 1.08666123e-03, 3.32225914e-03,\n",
       "       5.86854460e-04, 3.97772474e-04, 5.43035569e-04, 9.97692815e-01,\n",
       "       7.59013283e-04, 8.15993472e-04, 5.52638851e-04, 1.59235669e-03,\n",
       "       2.69978402e-04, 5.40979172e-04, 4.86144871e-04, 9.94853738e-01,\n",
       "       2.68312316e-04, 9.97836434e-01, 1.89035917e-03, 1.47275405e-03,\n",
       "       2.72776869e-04, 7.22021661e-04, 8.10153929e-04, 2.05655527e-03,\n",
       "       2.71296799e-04, 9.91346674e-01, 2.67594327e-04, 9.99457406e-01,\n",
       "       2.28767515e-03, 5.11770727e-04, 9.99726402e-01, 7.10227273e-04,\n",
       "       9.96455834e-01, 1.04712042e-02, 9.98924153e-01, 1.04931794e-03,\n",
       "       7.47943156e-04, 9.99416229e-01, 9.95963402e-01, 1.42925202e-03,\n",
       "       2.71002710e-04, 7.75193798e-03, 2.70855905e-04, 9.11708253e-03,\n",
       "       2.72851296e-04, 9.26784059e-04, 3.92927308e-04, 8.20344545e-04,\n",
       "       1.05207785e-03, 3.11235605e-04, 4.70002765e-03, 9.53678474e-03,\n",
       "       4.46428571e-04, 8.15660685e-04, 6.54236179e-04, 9.99728703e-01,\n",
       "       6.53167864e-04, 7.98722045e-04, 5.10986203e-04, 2.69469146e-04,\n",
       "       1.04493208e-03, 6.31711939e-04, 9.96742671e-01, 1.61812298e-03,\n",
       "       9.94475138e-01, 4.35919791e-04, 2.68456376e-04, 2.72034820e-04,\n",
       "       8.94454383e-04, 1.41843972e-03, 8.25991189e-04, 5.91016548e-04,\n",
       "       1.32860939e-03, 5.48696845e-04, 5.45851528e-04, 3.07692308e-04,\n",
       "       3.34896182e-04, 9.95522388e-01, 9.98682043e-01, 4.51467269e-04,\n",
       "       2.71591526e-04, 7.76156473e-03, 1.44404332e-03, 2.84090909e-03,\n",
       "       4.16233091e-03, 1.36649358e-03, 9.97054492e-01, 3.24324324e-03,\n",
       "       5.74712644e-03, 7.33272227e-03, 9.55109838e-04, 5.07614213e-03,\n",
       "       9.99186771e-01, 2.69179004e-04, 1.08078898e-03])"
      ]
     },
     "execution_count": 29,
     "metadata": {},
     "output_type": "execute_result"
    }
   ],
   "source": [
    "num_tweets['hashtags_ratio'] = joined_hashtags['num_hashtags']/joined_urls['num_tweets']\n",
    "num_tweets['hashtags_ratio'"
   ]
  },
  {
   "cell_type": "markdown",
   "id": "e6e2a653",
   "metadata": {},
   "source": [
    "## Total | Std | Avg | Entropy, for every numerical features of the tweets and users ds (per user)"
   ]
  },
  {
   "cell_type": "code",
   "execution_count": null,
   "id": "eda55fb7",
   "metadata": {},
   "outputs": [],
   "source": []
  },
  {
   "cell_type": "code",
   "execution_count": null,
   "id": "b4c6ed9a",
   "metadata": {},
   "outputs": [],
   "source": []
  }
 ],
 "metadata": {
  "kernelspec": {
   "display_name": "Python 3 (ipykernel)",
   "language": "python",
   "name": "python3"
  },
  "language_info": {
   "codemirror_mode": {
    "name": "ipython",
    "version": 3
   },
   "file_extension": ".py",
   "mimetype": "text/x-python",
   "name": "python",
   "nbconvert_exporter": "python",
   "pygments_lexer": "ipython3",
   "version": "3.9.12"
  }
 },
 "nbformat": 4,
 "nbformat_minor": 5
}
