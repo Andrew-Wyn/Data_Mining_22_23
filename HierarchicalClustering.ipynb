{
 "cells": [
  {
   "cell_type": "markdown",
   "id": "4f358cee",
   "metadata": {},
   "source": [
    "# Hierarchical Cluster"
   ]
  },
  {
   "cell_type": "code",
   "execution_count": 1,
   "id": "dda4f9ae",
   "metadata": {},
   "outputs": [],
   "source": [
    "%matplotlib inline\n",
    "\n",
    "import numpy as np\n",
    "import pandas as pd\n",
    "import matplotlib.pyplot as plt\n",
    "from sklearn.preprocessing import StandardScaler, MinMaxScaler\n",
    "from sklearn.cluster import KMeans\n",
    "from sklearn.metrics import silhouette_score\n",
    "from tqdm import tqdm\n",
    "from sklearn.decomposition import PCA\n",
    "from sklearn import metrics\n",
    "from clustering_utils import *"
   ]
  },
  {
   "cell_type": "markdown",
   "id": "fa6a25cb",
   "metadata": {},
   "source": [
    "## Load the Data"
   ]
  },
  {
   "cell_type": "code",
   "execution_count": 2,
   "id": "621f7cde",
   "metadata": {},
   "outputs": [],
   "source": [
    "df = pd.read_csv(\"dataset/cleaned_user_profiles.csv\", index_col=0)"
   ]
  },
  {
   "cell_type": "code",
   "execution_count": 3,
   "id": "b1a565cd",
   "metadata": {},
   "outputs": [
    {
     "name": "stdout",
     "output_type": "stream",
     "text": [
      "<class 'pandas.core.frame.DataFrame'>\n",
      "Int64Index: 11508 entries, 2353593986 to 933183398\n",
      "Data columns (total 17 columns):\n",
      " #   Column                  Non-Null Count  Dtype  \n",
      "---  ------                  --------------  -----  \n",
      " 0   name                    11508 non-null  object \n",
      " 1   lang                    11508 non-null  object \n",
      " 2   bot                     11508 non-null  int64  \n",
      " 3   created_at              11508 non-null  object \n",
      " 4   statuses_count          11508 non-null  int64  \n",
      " 5   avg_length              11508 non-null  float64\n",
      " 6   avg_special_chars       11508 non-null  float64\n",
      " 7   urls_ratio              11508 non-null  float64\n",
      " 8   mentions_ratio          11508 non-null  float64\n",
      " 9   hashtags_ratio          11508 non-null  float64\n",
      " 10  reply_count_mean        11508 non-null  float64\n",
      " 11  reply_count_std         11508 non-null  float64\n",
      " 12  favorite_count_mean     11508 non-null  float64\n",
      " 13  favorite_count_std      11508 non-null  float64\n",
      " 14  favorite_count_entropy  11508 non-null  float64\n",
      " 15  retweet_count_mean      11508 non-null  float64\n",
      " 16  retweet_count_std       11508 non-null  float64\n",
      "dtypes: float64(12), int64(2), object(3)\n",
      "memory usage: 1.6+ MB\n"
     ]
    }
   ],
   "source": [
    "df.info()"
   ]
  },
  {
   "cell_type": "markdown",
   "id": "8eaa8daf",
   "metadata": {},
   "source": [
    "loaded the data, we separate the numerical features (used to run the clustering algorithms) and the categorical ones (used to understand the results of the clustering algorithms)"
   ]
  },
  {
   "cell_type": "code",
   "execution_count": 4,
   "id": "f9fb3b3d",
   "metadata": {},
   "outputs": [],
   "source": [
    "# remove categorical features\n",
    "cat_features = [\"name\", \"lang\", \"bot\", \"created_at\"]\n",
    "df_cat = df[cat_features]\n",
    "df_num = df.loc[:, ~df.columns.isin(cat_features)]"
   ]
  },
  {
   "cell_type": "code",
   "execution_count": 5,
   "id": "a2cd0d32",
   "metadata": {},
   "outputs": [
    {
     "data": {
      "text/html": [
       "<div>\n",
       "<style scoped>\n",
       "    .dataframe tbody tr th:only-of-type {\n",
       "        vertical-align: middle;\n",
       "    }\n",
       "\n",
       "    .dataframe tbody tr th {\n",
       "        vertical-align: top;\n",
       "    }\n",
       "\n",
       "    .dataframe thead th {\n",
       "        text-align: right;\n",
       "    }\n",
       "</style>\n",
       "<table border=\"1\" class=\"dataframe\">\n",
       "  <thead>\n",
       "    <tr style=\"text-align: right;\">\n",
       "      <th></th>\n",
       "      <th>name</th>\n",
       "      <th>lang</th>\n",
       "      <th>bot</th>\n",
       "      <th>created_at</th>\n",
       "    </tr>\n",
       "  </thead>\n",
       "  <tbody>\n",
       "    <tr>\n",
       "      <th>2353593986</th>\n",
       "      <td>Lamonica Raborn</td>\n",
       "      <td>en</td>\n",
       "      <td>1</td>\n",
       "      <td>2019-02-22 18:00:42</td>\n",
       "    </tr>\n",
       "    <tr>\n",
       "      <th>2358850842</th>\n",
       "      <td>Lourie Botton</td>\n",
       "      <td>en</td>\n",
       "      <td>0</td>\n",
       "      <td>2019-02-26 03:02:32</td>\n",
       "    </tr>\n",
       "    <tr>\n",
       "      <th>137959629</th>\n",
       "      <td>Dadan Syarifudin</td>\n",
       "      <td>en</td>\n",
       "      <td>1</td>\n",
       "      <td>2015-04-30 07:09:56</td>\n",
       "    </tr>\n",
       "    <tr>\n",
       "      <th>466124818</th>\n",
       "      <td>Carletto Focia</td>\n",
       "      <td>it</td>\n",
       "      <td>1</td>\n",
       "      <td>2017-01-18 02:49:18</td>\n",
       "    </tr>\n",
       "    <tr>\n",
       "      <th>2571493866</th>\n",
       "      <td>MBK Ebook</td>\n",
       "      <td>en</td>\n",
       "      <td>0</td>\n",
       "      <td>2019-06-18 19:30:21</td>\n",
       "    </tr>\n",
       "  </tbody>\n",
       "</table>\n",
       "</div>"
      ],
      "text/plain": [
       "                        name lang  bot           created_at\n",
       "2353593986   Lamonica Raborn   en    1  2019-02-22 18:00:42\n",
       "2358850842     Lourie Botton   en    0  2019-02-26 03:02:32\n",
       "137959629   Dadan Syarifudin   en    1  2015-04-30 07:09:56\n",
       "466124818     Carletto Focia   it    1  2017-01-18 02:49:18\n",
       "2571493866         MBK Ebook   en    0  2019-06-18 19:30:21"
      ]
     },
     "execution_count": 5,
     "metadata": {},
     "output_type": "execute_result"
    }
   ],
   "source": [
    "df_cat.head()"
   ]
  },
  {
   "cell_type": "code",
   "execution_count": 6,
   "id": "692b91fd",
   "metadata": {},
   "outputs": [
    {
     "data": {
      "text/html": [
       "<div>\n",
       "<style scoped>\n",
       "    .dataframe tbody tr th:only-of-type {\n",
       "        vertical-align: middle;\n",
       "    }\n",
       "\n",
       "    .dataframe tbody tr th {\n",
       "        vertical-align: top;\n",
       "    }\n",
       "\n",
       "    .dataframe thead th {\n",
       "        text-align: right;\n",
       "    }\n",
       "</style>\n",
       "<table border=\"1\" class=\"dataframe\">\n",
       "  <thead>\n",
       "    <tr style=\"text-align: right;\">\n",
       "      <th></th>\n",
       "      <th>statuses_count</th>\n",
       "      <th>avg_length</th>\n",
       "      <th>avg_special_chars</th>\n",
       "      <th>urls_ratio</th>\n",
       "      <th>mentions_ratio</th>\n",
       "      <th>hashtags_ratio</th>\n",
       "      <th>reply_count_mean</th>\n",
       "      <th>reply_count_std</th>\n",
       "      <th>favorite_count_mean</th>\n",
       "      <th>favorite_count_std</th>\n",
       "      <th>favorite_count_entropy</th>\n",
       "      <th>retweet_count_mean</th>\n",
       "      <th>retweet_count_std</th>\n",
       "    </tr>\n",
       "  </thead>\n",
       "  <tbody>\n",
       "    <tr>\n",
       "      <th>2353593986</th>\n",
       "      <td>76</td>\n",
       "      <td>62.340909</td>\n",
       "      <td>14.015152</td>\n",
       "      <td>0.000000</td>\n",
       "      <td>0.272727</td>\n",
       "      <td>0.098485</td>\n",
       "      <td>0.0</td>\n",
       "      <td>0.0</td>\n",
       "      <td>0.037879</td>\n",
       "      <td>0.190903</td>\n",
       "      <td>0.232481</td>\n",
       "      <td>0.037879</td>\n",
       "      <td>0.190903</td>\n",
       "    </tr>\n",
       "    <tr>\n",
       "      <th>2358850842</th>\n",
       "      <td>54</td>\n",
       "      <td>69.082645</td>\n",
       "      <td>15.041322</td>\n",
       "      <td>0.000000</td>\n",
       "      <td>0.338843</td>\n",
       "      <td>0.024793</td>\n",
       "      <td>0.0</td>\n",
       "      <td>0.0</td>\n",
       "      <td>0.049587</td>\n",
       "      <td>0.217090</td>\n",
       "      <td>0.284639</td>\n",
       "      <td>0.024793</td>\n",
       "      <td>0.155495</td>\n",
       "    </tr>\n",
       "    <tr>\n",
       "      <th>137959629</th>\n",
       "      <td>53</td>\n",
       "      <td>65.340909</td>\n",
       "      <td>14.694444</td>\n",
       "      <td>0.000000</td>\n",
       "      <td>0.000000</td>\n",
       "      <td>0.000000</td>\n",
       "      <td>0.0</td>\n",
       "      <td>0.0</td>\n",
       "      <td>0.000000</td>\n",
       "      <td>0.000000</td>\n",
       "      <td>0.000000</td>\n",
       "      <td>0.000000</td>\n",
       "      <td>0.000000</td>\n",
       "    </tr>\n",
       "    <tr>\n",
       "      <th>466124818</th>\n",
       "      <td>50</td>\n",
       "      <td>86.944871</td>\n",
       "      <td>18.689463</td>\n",
       "      <td>0.022331</td>\n",
       "      <td>0.006281</td>\n",
       "      <td>0.072575</td>\n",
       "      <td>0.0</td>\n",
       "      <td>0.0</td>\n",
       "      <td>0.165387</td>\n",
       "      <td>0.530838</td>\n",
       "      <td>0.669155</td>\n",
       "      <td>0.826239</td>\n",
       "      <td>13.034008</td>\n",
       "    </tr>\n",
       "    <tr>\n",
       "      <th>2571493866</th>\n",
       "      <td>7085</td>\n",
       "      <td>72.311246</td>\n",
       "      <td>14.582073</td>\n",
       "      <td>0.000825</td>\n",
       "      <td>0.506461</td>\n",
       "      <td>0.118229</td>\n",
       "      <td>0.0</td>\n",
       "      <td>0.0</td>\n",
       "      <td>0.056365</td>\n",
       "      <td>0.243387</td>\n",
       "      <td>0.317182</td>\n",
       "      <td>0.016772</td>\n",
       "      <td>0.142619</td>\n",
       "    </tr>\n",
       "  </tbody>\n",
       "</table>\n",
       "</div>"
      ],
      "text/plain": [
       "            statuses_count  avg_length  avg_special_chars  urls_ratio  \\\n",
       "2353593986              76   62.340909          14.015152    0.000000   \n",
       "2358850842              54   69.082645          15.041322    0.000000   \n",
       "137959629               53   65.340909          14.694444    0.000000   \n",
       "466124818               50   86.944871          18.689463    0.022331   \n",
       "2571493866            7085   72.311246          14.582073    0.000825   \n",
       "\n",
       "            mentions_ratio  hashtags_ratio  reply_count_mean  reply_count_std  \\\n",
       "2353593986        0.272727        0.098485               0.0              0.0   \n",
       "2358850842        0.338843        0.024793               0.0              0.0   \n",
       "137959629         0.000000        0.000000               0.0              0.0   \n",
       "466124818         0.006281        0.072575               0.0              0.0   \n",
       "2571493866        0.506461        0.118229               0.0              0.0   \n",
       "\n",
       "            favorite_count_mean  favorite_count_std  favorite_count_entropy  \\\n",
       "2353593986             0.037879            0.190903                0.232481   \n",
       "2358850842             0.049587            0.217090                0.284639   \n",
       "137959629              0.000000            0.000000                0.000000   \n",
       "466124818              0.165387            0.530838                0.669155   \n",
       "2571493866             0.056365            0.243387                0.317182   \n",
       "\n",
       "            retweet_count_mean  retweet_count_std  \n",
       "2353593986            0.037879           0.190903  \n",
       "2358850842            0.024793           0.155495  \n",
       "137959629             0.000000           0.000000  \n",
       "466124818             0.826239          13.034008  \n",
       "2571493866            0.016772           0.142619  "
      ]
     },
     "execution_count": 6,
     "metadata": {},
     "output_type": "execute_result"
    }
   ],
   "source": [
    "df_num.head()"
   ]
  },
  {
   "cell_type": "markdown",
   "id": "30fddac4",
   "metadata": {},
   "source": [
    "## Preprocessing\n",
    "\n",
    "First apply the log scale of the feature with a skewed distribution (see DataProfileUnderstanding.ipynb), following the results presented in data understanding of the profiling."
   ]
  },
  {
   "cell_type": "code",
   "execution_count": 7,
   "id": "cf30d4da",
   "metadata": {},
   "outputs": [],
   "source": [
    "# TODO : Review the DataUnderstandingProfiling\n",
    "\n",
    "skewed_features = [\n",
    "    \"statuses_count\",\n",
    "    \"avg_special_chars\",\n",
    "    \"urls_ratio\",\n",
    "    \"mentions_ratio\",\n",
    "    \"hashtags_ratio\",\n",
    "    \"reply_count_mean\",\n",
    "    \"reply_count_std\",\n",
    "    \"favorite_count_mean\",\n",
    "    \"favorite_count_std\",\n",
    "    \"retweet_count_mean\",\n",
    "    \"retweet_count_std\"]\n",
    "\n",
    "df_num_not_skewed = preprocess_skewed_features(df_num, skewed_features)"
   ]
  },
  {
   "cell_type": "markdown",
   "id": "927d7b08",
   "metadata": {},
   "source": [
    "Apply Standard Scaling as preprocessing step"
   ]
  },
  {
   "cell_type": "code",
   "execution_count": 8,
   "id": "d95f72df",
   "metadata": {},
   "outputs": [],
   "source": [
    "scaler = StandardScaler()"
   ]
  },
  {
   "cell_type": "code",
   "execution_count": 9,
   "id": "9c3cdc66",
   "metadata": {},
   "outputs": [],
   "source": [
    "X = scaler.fit_transform(df_num_not_skewed.values)"
   ]
  }
 ],
 "metadata": {
  "kernelspec": {
   "display_name": "venv",
   "language": "python",
   "name": "venv"
  },
  "language_info": {
   "codemirror_mode": {
    "name": "ipython",
    "version": 3
   },
   "file_extension": ".py",
   "mimetype": "text/x-python",
   "name": "python",
   "nbconvert_exporter": "python",
   "pygments_lexer": "ipython3",
   "version": "3.9.15"
  }
 },
 "nbformat": 4,
 "nbformat_minor": 5
}
