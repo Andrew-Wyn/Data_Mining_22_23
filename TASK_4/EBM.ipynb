{
 "cells": [
  {
   "cell_type": "markdown",
   "id": "e7fac224",
   "metadata": {},
   "source": [
    "# XAI - EBM"
   ]
  },
  {
   "cell_type": "markdown",
   "id": "ed317235",
   "metadata": {},
   "source": [
    "## Loading libraries"
   ]
  },
  {
   "cell_type": "code",
   "execution_count": 1,
   "id": "d960a350",
   "metadata": {},
   "outputs": [],
   "source": [
    "import pandas as pd\n",
    "import numpy as np\n",
    "from sklearn.model_selection import train_test_split\n",
    "from sklearn.metrics import classification_report\n",
    "\n",
    "from interpret.glassbox import ExplainableBoostingClassifier\n",
    "from interpret import show"
   ]
  },
  {
   "cell_type": "markdown",
   "id": "8d00f971",
   "metadata": {},
   "source": [
    "## Loading dataset"
   ]
  },
  {
   "cell_type": "code",
   "execution_count": 2,
   "id": "6a885e60",
   "metadata": {},
   "outputs": [],
   "source": [
    "data = pd.read_csv(\"../dataset/cleaned_user_profiles.csv\", index_col=0)"
   ]
  },
  {
   "cell_type": "code",
   "execution_count": 3,
   "id": "ed4cc5d3",
   "metadata": {
    "scrolled": true
   },
   "outputs": [
    {
     "data": {
      "text/html": [
       "<div>\n",
       "<style scoped>\n",
       "    .dataframe tbody tr th:only-of-type {\n",
       "        vertical-align: middle;\n",
       "    }\n",
       "\n",
       "    .dataframe tbody tr th {\n",
       "        vertical-align: top;\n",
       "    }\n",
       "\n",
       "    .dataframe thead th {\n",
       "        text-align: right;\n",
       "    }\n",
       "</style>\n",
       "<table border=\"1\" class=\"dataframe\">\n",
       "  <thead>\n",
       "    <tr style=\"text-align: right;\">\n",
       "      <th></th>\n",
       "      <th>name</th>\n",
       "      <th>lang</th>\n",
       "      <th>bot</th>\n",
       "      <th>created_at</th>\n",
       "      <th>statuses_count</th>\n",
       "      <th>avg_length</th>\n",
       "      <th>avg_special_chars</th>\n",
       "      <th>urls_ratio</th>\n",
       "      <th>mentions_ratio</th>\n",
       "      <th>hashtags_ratio</th>\n",
       "      <th>reply_count_mean</th>\n",
       "      <th>reply_count_std</th>\n",
       "      <th>favorite_count_mean</th>\n",
       "      <th>favorite_count_std</th>\n",
       "      <th>favorite_count_entropy</th>\n",
       "      <th>retweet_count_mean</th>\n",
       "      <th>retweet_count_std</th>\n",
       "      <th>retweet_count_entropy</th>\n",
       "    </tr>\n",
       "  </thead>\n",
       "  <tbody>\n",
       "    <tr>\n",
       "      <th>2353593986</th>\n",
       "      <td>Lamonica Raborn</td>\n",
       "      <td>en</td>\n",
       "      <td>1</td>\n",
       "      <td>2019-02-22 18:00:42</td>\n",
       "      <td>76</td>\n",
       "      <td>62.340909</td>\n",
       "      <td>14.015152</td>\n",
       "      <td>0.000000</td>\n",
       "      <td>0.272727</td>\n",
       "      <td>0.098485</td>\n",
       "      <td>0.0</td>\n",
       "      <td>0.0</td>\n",
       "      <td>0.037879</td>\n",
       "      <td>0.190903</td>\n",
       "      <td>0.232481</td>\n",
       "      <td>0.037879</td>\n",
       "      <td>0.190903</td>\n",
       "      <td>0.232481</td>\n",
       "    </tr>\n",
       "    <tr>\n",
       "      <th>2358850842</th>\n",
       "      <td>Lourie Botton</td>\n",
       "      <td>en</td>\n",
       "      <td>0</td>\n",
       "      <td>2019-02-26 03:02:32</td>\n",
       "      <td>54</td>\n",
       "      <td>69.082645</td>\n",
       "      <td>15.041322</td>\n",
       "      <td>0.000000</td>\n",
       "      <td>0.338843</td>\n",
       "      <td>0.024793</td>\n",
       "      <td>0.0</td>\n",
       "      <td>0.0</td>\n",
       "      <td>0.049587</td>\n",
       "      <td>0.217090</td>\n",
       "      <td>0.284639</td>\n",
       "      <td>0.024793</td>\n",
       "      <td>0.155495</td>\n",
       "      <td>0.167568</td>\n",
       "    </tr>\n",
       "    <tr>\n",
       "      <th>137959629</th>\n",
       "      <td>Dadan Syarifudin</td>\n",
       "      <td>en</td>\n",
       "      <td>1</td>\n",
       "      <td>2015-04-30 07:09:56</td>\n",
       "      <td>53</td>\n",
       "      <td>65.340909</td>\n",
       "      <td>14.694444</td>\n",
       "      <td>0.000000</td>\n",
       "      <td>0.000000</td>\n",
       "      <td>0.000000</td>\n",
       "      <td>0.0</td>\n",
       "      <td>0.0</td>\n",
       "      <td>0.000000</td>\n",
       "      <td>0.000000</td>\n",
       "      <td>0.000000</td>\n",
       "      <td>0.000000</td>\n",
       "      <td>0.000000</td>\n",
       "      <td>-0.000000</td>\n",
       "    </tr>\n",
       "    <tr>\n",
       "      <th>466124818</th>\n",
       "      <td>Carletto Focia</td>\n",
       "      <td>it</td>\n",
       "      <td>1</td>\n",
       "      <td>2017-01-18 02:49:18</td>\n",
       "      <td>50</td>\n",
       "      <td>86.944871</td>\n",
       "      <td>18.689463</td>\n",
       "      <td>0.022331</td>\n",
       "      <td>0.006281</td>\n",
       "      <td>0.072575</td>\n",
       "      <td>0.0</td>\n",
       "      <td>0.0</td>\n",
       "      <td>0.165387</td>\n",
       "      <td>0.530838</td>\n",
       "      <td>0.669155</td>\n",
       "      <td>0.826239</td>\n",
       "      <td>13.034008</td>\n",
       "      <td>0.392850</td>\n",
       "    </tr>\n",
       "    <tr>\n",
       "      <th>2571493866</th>\n",
       "      <td>MBK Ebook</td>\n",
       "      <td>en</td>\n",
       "      <td>0</td>\n",
       "      <td>2019-06-18 19:30:21</td>\n",
       "      <td>7085</td>\n",
       "      <td>72.311246</td>\n",
       "      <td>14.582073</td>\n",
       "      <td>0.000825</td>\n",
       "      <td>0.506461</td>\n",
       "      <td>0.118229</td>\n",
       "      <td>0.0</td>\n",
       "      <td>0.0</td>\n",
       "      <td>0.056365</td>\n",
       "      <td>0.243387</td>\n",
       "      <td>0.317182</td>\n",
       "      <td>0.016772</td>\n",
       "      <td>0.142619</td>\n",
       "      <td>0.120737</td>\n",
       "    </tr>\n",
       "  </tbody>\n",
       "</table>\n",
       "</div>"
      ],
      "text/plain": [
       "                        name lang  bot           created_at  statuses_count  \\\n",
       "2353593986   Lamonica Raborn   en    1  2019-02-22 18:00:42              76   \n",
       "2358850842     Lourie Botton   en    0  2019-02-26 03:02:32              54   \n",
       "137959629   Dadan Syarifudin   en    1  2015-04-30 07:09:56              53   \n",
       "466124818     Carletto Focia   it    1  2017-01-18 02:49:18              50   \n",
       "2571493866         MBK Ebook   en    0  2019-06-18 19:30:21            7085   \n",
       "\n",
       "            avg_length  avg_special_chars  urls_ratio  mentions_ratio  \\\n",
       "2353593986   62.340909          14.015152    0.000000        0.272727   \n",
       "2358850842   69.082645          15.041322    0.000000        0.338843   \n",
       "137959629    65.340909          14.694444    0.000000        0.000000   \n",
       "466124818    86.944871          18.689463    0.022331        0.006281   \n",
       "2571493866   72.311246          14.582073    0.000825        0.506461   \n",
       "\n",
       "            hashtags_ratio  reply_count_mean  reply_count_std  \\\n",
       "2353593986        0.098485               0.0              0.0   \n",
       "2358850842        0.024793               0.0              0.0   \n",
       "137959629         0.000000               0.0              0.0   \n",
       "466124818         0.072575               0.0              0.0   \n",
       "2571493866        0.118229               0.0              0.0   \n",
       "\n",
       "            favorite_count_mean  favorite_count_std  favorite_count_entropy  \\\n",
       "2353593986             0.037879            0.190903                0.232481   \n",
       "2358850842             0.049587            0.217090                0.284639   \n",
       "137959629              0.000000            0.000000                0.000000   \n",
       "466124818              0.165387            0.530838                0.669155   \n",
       "2571493866             0.056365            0.243387                0.317182   \n",
       "\n",
       "            retweet_count_mean  retweet_count_std  retweet_count_entropy  \n",
       "2353593986            0.037879           0.190903               0.232481  \n",
       "2358850842            0.024793           0.155495               0.167568  \n",
       "137959629             0.000000           0.000000              -0.000000  \n",
       "466124818             0.826239          13.034008               0.392850  \n",
       "2571493866            0.016772           0.142619               0.120737  "
      ]
     },
     "execution_count": 3,
     "metadata": {},
     "output_type": "execute_result"
    }
   ],
   "source": [
    "data.head()"
   ]
  },
  {
   "cell_type": "markdown",
   "id": "c589f26f",
   "metadata": {},
   "source": [
    "## Preprocessing of the data"
   ]
  },
  {
   "cell_type": "code",
   "execution_count": 4,
   "id": "605424bf",
   "metadata": {},
   "outputs": [],
   "source": [
    "target = data.pop('bot')"
   ]
  },
  {
   "cell_type": "code",
   "execution_count": 5,
   "id": "975abeb7",
   "metadata": {},
   "outputs": [],
   "source": [
    "# convert datetime to timestamp to permit classification\n",
    "data[\"created_at\"] = pd.to_datetime(data.created_at).values.astype(np.int64) // 10 ** 9"
   ]
  },
  {
   "cell_type": "code",
   "execution_count": 6,
   "id": "676c8d75",
   "metadata": {},
   "outputs": [
    {
     "data": {
      "text/html": [
       "<div>\n",
       "<style scoped>\n",
       "    .dataframe tbody tr th:only-of-type {\n",
       "        vertical-align: middle;\n",
       "    }\n",
       "\n",
       "    .dataframe tbody tr th {\n",
       "        vertical-align: top;\n",
       "    }\n",
       "\n",
       "    .dataframe thead th {\n",
       "        text-align: right;\n",
       "    }\n",
       "</style>\n",
       "<table border=\"1\" class=\"dataframe\">\n",
       "  <thead>\n",
       "    <tr style=\"text-align: right;\">\n",
       "      <th></th>\n",
       "      <th>name</th>\n",
       "      <th>lang</th>\n",
       "      <th>created_at</th>\n",
       "      <th>statuses_count</th>\n",
       "      <th>avg_length</th>\n",
       "      <th>avg_special_chars</th>\n",
       "      <th>urls_ratio</th>\n",
       "      <th>mentions_ratio</th>\n",
       "      <th>hashtags_ratio</th>\n",
       "      <th>reply_count_mean</th>\n",
       "      <th>reply_count_std</th>\n",
       "      <th>favorite_count_mean</th>\n",
       "      <th>favorite_count_std</th>\n",
       "      <th>favorite_count_entropy</th>\n",
       "      <th>retweet_count_mean</th>\n",
       "      <th>retweet_count_std</th>\n",
       "      <th>retweet_count_entropy</th>\n",
       "    </tr>\n",
       "  </thead>\n",
       "  <tbody>\n",
       "    <tr>\n",
       "      <th>2353593986</th>\n",
       "      <td>Lamonica Raborn</td>\n",
       "      <td>en</td>\n",
       "      <td>1550858442</td>\n",
       "      <td>76</td>\n",
       "      <td>62.340909</td>\n",
       "      <td>14.015152</td>\n",
       "      <td>0.000000</td>\n",
       "      <td>0.272727</td>\n",
       "      <td>0.098485</td>\n",
       "      <td>0.0</td>\n",
       "      <td>0.0</td>\n",
       "      <td>0.037879</td>\n",
       "      <td>0.190903</td>\n",
       "      <td>0.232481</td>\n",
       "      <td>0.037879</td>\n",
       "      <td>0.190903</td>\n",
       "      <td>0.232481</td>\n",
       "    </tr>\n",
       "    <tr>\n",
       "      <th>2358850842</th>\n",
       "      <td>Lourie Botton</td>\n",
       "      <td>en</td>\n",
       "      <td>1551150152</td>\n",
       "      <td>54</td>\n",
       "      <td>69.082645</td>\n",
       "      <td>15.041322</td>\n",
       "      <td>0.000000</td>\n",
       "      <td>0.338843</td>\n",
       "      <td>0.024793</td>\n",
       "      <td>0.0</td>\n",
       "      <td>0.0</td>\n",
       "      <td>0.049587</td>\n",
       "      <td>0.217090</td>\n",
       "      <td>0.284639</td>\n",
       "      <td>0.024793</td>\n",
       "      <td>0.155495</td>\n",
       "      <td>0.167568</td>\n",
       "    </tr>\n",
       "    <tr>\n",
       "      <th>137959629</th>\n",
       "      <td>Dadan Syarifudin</td>\n",
       "      <td>en</td>\n",
       "      <td>1430377796</td>\n",
       "      <td>53</td>\n",
       "      <td>65.340909</td>\n",
       "      <td>14.694444</td>\n",
       "      <td>0.000000</td>\n",
       "      <td>0.000000</td>\n",
       "      <td>0.000000</td>\n",
       "      <td>0.0</td>\n",
       "      <td>0.0</td>\n",
       "      <td>0.000000</td>\n",
       "      <td>0.000000</td>\n",
       "      <td>0.000000</td>\n",
       "      <td>0.000000</td>\n",
       "      <td>0.000000</td>\n",
       "      <td>-0.000000</td>\n",
       "    </tr>\n",
       "    <tr>\n",
       "      <th>466124818</th>\n",
       "      <td>Carletto Focia</td>\n",
       "      <td>it</td>\n",
       "      <td>1484707758</td>\n",
       "      <td>50</td>\n",
       "      <td>86.944871</td>\n",
       "      <td>18.689463</td>\n",
       "      <td>0.022331</td>\n",
       "      <td>0.006281</td>\n",
       "      <td>0.072575</td>\n",
       "      <td>0.0</td>\n",
       "      <td>0.0</td>\n",
       "      <td>0.165387</td>\n",
       "      <td>0.530838</td>\n",
       "      <td>0.669155</td>\n",
       "      <td>0.826239</td>\n",
       "      <td>13.034008</td>\n",
       "      <td>0.392850</td>\n",
       "    </tr>\n",
       "    <tr>\n",
       "      <th>2571493866</th>\n",
       "      <td>MBK Ebook</td>\n",
       "      <td>en</td>\n",
       "      <td>1560886221</td>\n",
       "      <td>7085</td>\n",
       "      <td>72.311246</td>\n",
       "      <td>14.582073</td>\n",
       "      <td>0.000825</td>\n",
       "      <td>0.506461</td>\n",
       "      <td>0.118229</td>\n",
       "      <td>0.0</td>\n",
       "      <td>0.0</td>\n",
       "      <td>0.056365</td>\n",
       "      <td>0.243387</td>\n",
       "      <td>0.317182</td>\n",
       "      <td>0.016772</td>\n",
       "      <td>0.142619</td>\n",
       "      <td>0.120737</td>\n",
       "    </tr>\n",
       "  </tbody>\n",
       "</table>\n",
       "</div>"
      ],
      "text/plain": [
       "                        name lang  created_at  statuses_count  avg_length  \\\n",
       "2353593986   Lamonica Raborn   en  1550858442              76   62.340909   \n",
       "2358850842     Lourie Botton   en  1551150152              54   69.082645   \n",
       "137959629   Dadan Syarifudin   en  1430377796              53   65.340909   \n",
       "466124818     Carletto Focia   it  1484707758              50   86.944871   \n",
       "2571493866         MBK Ebook   en  1560886221            7085   72.311246   \n",
       "\n",
       "            avg_special_chars  urls_ratio  mentions_ratio  hashtags_ratio  \\\n",
       "2353593986          14.015152    0.000000        0.272727        0.098485   \n",
       "2358850842          15.041322    0.000000        0.338843        0.024793   \n",
       "137959629           14.694444    0.000000        0.000000        0.000000   \n",
       "466124818           18.689463    0.022331        0.006281        0.072575   \n",
       "2571493866          14.582073    0.000825        0.506461        0.118229   \n",
       "\n",
       "            reply_count_mean  reply_count_std  favorite_count_mean  \\\n",
       "2353593986               0.0              0.0             0.037879   \n",
       "2358850842               0.0              0.0             0.049587   \n",
       "137959629                0.0              0.0             0.000000   \n",
       "466124818                0.0              0.0             0.165387   \n",
       "2571493866               0.0              0.0             0.056365   \n",
       "\n",
       "            favorite_count_std  favorite_count_entropy  retweet_count_mean  \\\n",
       "2353593986            0.190903                0.232481            0.037879   \n",
       "2358850842            0.217090                0.284639            0.024793   \n",
       "137959629             0.000000                0.000000            0.000000   \n",
       "466124818             0.530838                0.669155            0.826239   \n",
       "2571493866            0.243387                0.317182            0.016772   \n",
       "\n",
       "            retweet_count_std  retweet_count_entropy  \n",
       "2353593986           0.190903               0.232481  \n",
       "2358850842           0.155495               0.167568  \n",
       "137959629            0.000000              -0.000000  \n",
       "466124818           13.034008               0.392850  \n",
       "2571493866           0.142619               0.120737  "
      ]
     },
     "execution_count": 6,
     "metadata": {},
     "output_type": "execute_result"
    }
   ],
   "source": [
    "data.head()"
   ]
  },
  {
   "cell_type": "code",
   "execution_count": 7,
   "id": "1de7b1dc",
   "metadata": {},
   "outputs": [],
   "source": [
    "# categorical_features = [\"lang\", \"bot\", \"created_at\", \"name\"]\n",
    "categorical_features = [\"lang\", \"name\"]\n",
    "\n",
    "# remove categorical variables\n",
    "numerical_features = list(data.columns).copy()\n",
    "\n",
    "for feat in categorical_features:\n",
    "    numerical_features.remove(feat)"
   ]
  },
  {
   "cell_type": "code",
   "execution_count": 8,
   "id": "a4f73785",
   "metadata": {},
   "outputs": [],
   "source": [
    "numerical_data = data[numerical_features]"
   ]
  },
  {
   "cell_type": "markdown",
   "id": "2f101ffa",
   "metadata": {},
   "source": [
    "## Training the model"
   ]
  },
  {
   "cell_type": "code",
   "execution_count": 9,
   "id": "d4549849",
   "metadata": {},
   "outputs": [
    {
     "data": {
      "text/html": [
       "<style>#sk-container-id-1 {color: black;background-color: white;}#sk-container-id-1 pre{padding: 0;}#sk-container-id-1 div.sk-toggleable {background-color: white;}#sk-container-id-1 label.sk-toggleable__label {cursor: pointer;display: block;width: 100%;margin-bottom: 0;padding: 0.3em;box-sizing: border-box;text-align: center;}#sk-container-id-1 label.sk-toggleable__label-arrow:before {content: \"▸\";float: left;margin-right: 0.25em;color: #696969;}#sk-container-id-1 label.sk-toggleable__label-arrow:hover:before {color: black;}#sk-container-id-1 div.sk-estimator:hover label.sk-toggleable__label-arrow:before {color: black;}#sk-container-id-1 div.sk-toggleable__content {max-height: 0;max-width: 0;overflow: hidden;text-align: left;background-color: #f0f8ff;}#sk-container-id-1 div.sk-toggleable__content pre {margin: 0.2em;color: black;border-radius: 0.25em;background-color: #f0f8ff;}#sk-container-id-1 input.sk-toggleable__control:checked~div.sk-toggleable__content {max-height: 200px;max-width: 100%;overflow: auto;}#sk-container-id-1 input.sk-toggleable__control:checked~label.sk-toggleable__label-arrow:before {content: \"▾\";}#sk-container-id-1 div.sk-estimator input.sk-toggleable__control:checked~label.sk-toggleable__label {background-color: #d4ebff;}#sk-container-id-1 div.sk-label input.sk-toggleable__control:checked~label.sk-toggleable__label {background-color: #d4ebff;}#sk-container-id-1 input.sk-hidden--visually {border: 0;clip: rect(1px 1px 1px 1px);clip: rect(1px, 1px, 1px, 1px);height: 1px;margin: -1px;overflow: hidden;padding: 0;position: absolute;width: 1px;}#sk-container-id-1 div.sk-estimator {font-family: monospace;background-color: #f0f8ff;border: 1px dotted black;border-radius: 0.25em;box-sizing: border-box;margin-bottom: 0.5em;}#sk-container-id-1 div.sk-estimator:hover {background-color: #d4ebff;}#sk-container-id-1 div.sk-parallel-item::after {content: \"\";width: 100%;border-bottom: 1px solid gray;flex-grow: 1;}#sk-container-id-1 div.sk-label:hover label.sk-toggleable__label {background-color: #d4ebff;}#sk-container-id-1 div.sk-serial::before {content: \"\";position: absolute;border-left: 1px solid gray;box-sizing: border-box;top: 0;bottom: 0;left: 50%;z-index: 0;}#sk-container-id-1 div.sk-serial {display: flex;flex-direction: column;align-items: center;background-color: white;padding-right: 0.2em;padding-left: 0.2em;position: relative;}#sk-container-id-1 div.sk-item {position: relative;z-index: 1;}#sk-container-id-1 div.sk-parallel {display: flex;align-items: stretch;justify-content: center;background-color: white;position: relative;}#sk-container-id-1 div.sk-item::before, #sk-container-id-1 div.sk-parallel-item::before {content: \"\";position: absolute;border-left: 1px solid gray;box-sizing: border-box;top: 0;bottom: 0;left: 50%;z-index: -1;}#sk-container-id-1 div.sk-parallel-item {display: flex;flex-direction: column;z-index: 1;position: relative;background-color: white;}#sk-container-id-1 div.sk-parallel-item:first-child::after {align-self: flex-end;width: 50%;}#sk-container-id-1 div.sk-parallel-item:last-child::after {align-self: flex-start;width: 50%;}#sk-container-id-1 div.sk-parallel-item:only-child::after {width: 0;}#sk-container-id-1 div.sk-dashed-wrapped {border: 1px dashed gray;margin: 0 0.4em 0.5em 0.4em;box-sizing: border-box;padding-bottom: 0.4em;background-color: white;}#sk-container-id-1 div.sk-label label {font-family: monospace;font-weight: bold;display: inline-block;line-height: 1.2em;}#sk-container-id-1 div.sk-label-container {text-align: center;}#sk-container-id-1 div.sk-container {/* jupyter's `normalize.less` sets `[hidden] { display: none; }` but bootstrap.min.css set `[hidden] { display: none !important; }` so we also need the `!important` here to be able to override the default hidden behavior on the sphinx rendered scikit-learn.org. See: https://github.com/scikit-learn/scikit-learn/issues/21755 */display: inline-block !important;position: relative;}#sk-container-id-1 div.sk-text-repr-fallback {display: none;}</style><div id=\"sk-container-id-1\" class=\"sk-top-container\"><div class=\"sk-text-repr-fallback\"><pre>ExplainableBoostingClassifier()</pre><b>In a Jupyter environment, please rerun this cell to show the HTML representation or trust the notebook. <br />On GitHub, the HTML representation is unable to render, please try loading this page with nbviewer.org.</b></div><div class=\"sk-container\" hidden><div class=\"sk-item\"><div class=\"sk-estimator sk-toggleable\"><input class=\"sk-toggleable__control sk-hidden--visually\" id=\"sk-estimator-id-1\" type=\"checkbox\" checked><label for=\"sk-estimator-id-1\" class=\"sk-toggleable__label sk-toggleable__label-arrow\">ExplainableBoostingClassifier</label><div class=\"sk-toggleable__content\"><pre>ExplainableBoostingClassifier()</pre></div></div></div></div></div>"
      ],
      "text/plain": [
       "ExplainableBoostingClassifier()"
      ]
     },
     "execution_count": 9,
     "metadata": {},
     "output_type": "execute_result"
    }
   ],
   "source": [
    "X_train, X_test, y_train, y_test = train_test_split(numerical_data, target, test_size=0.20, random_state=42)\n",
    "\n",
    "ebm = ExplainableBoostingClassifier(random_state=42)\n",
    "ebm.fit(X_train, y_train)"
   ]
  },
  {
   "cell_type": "markdown",
   "id": "ebe4a9a9",
   "metadata": {},
   "source": [
    "## Evaluation"
   ]
  },
  {
   "cell_type": "code",
   "execution_count": 10,
   "id": "cf2cee75",
   "metadata": {},
   "outputs": [
    {
     "name": "stdout",
     "output_type": "stream",
     "text": [
      "              precision    recall  f1-score   support\n",
      "\n",
      "           0       0.98      0.78      0.87      1037\n",
      "           1       0.85      0.99      0.91      1265\n",
      "\n",
      "    accuracy                           0.90      2302\n",
      "   macro avg       0.92      0.89      0.89      2302\n",
      "weighted avg       0.91      0.90      0.89      2302\n",
      "\n"
     ]
    }
   ],
   "source": [
    "print(classification_report(y_test, ebm.predict(X_test)))"
   ]
  },
  {
   "cell_type": "markdown",
   "id": "5064375c",
   "metadata": {},
   "source": [
    "## Plot Explanataions\n",
    "\n",
    "We can see that in the global explanation of the importance of each feature in the predictions, the **statuses_count** is the most important one; this result is consistent with the Shap and Lime ones."
   ]
  },
  {
   "cell_type": "code",
   "execution_count": 11,
   "id": "fc4653a6",
   "metadata": {},
   "outputs": [
    {
     "data": {
      "text/html": [
       "<!-- http://127.0.0.1:7001/4549369664/ -->\n",
       "<iframe src=\"http://127.0.0.1:7001/4549369664/\" width=100% height=800 frameBorder=\"0\"></iframe>"
      ]
     },
     "metadata": {},
     "output_type": "display_data"
    },
    {
     "data": {
      "text/html": [
       "<!-- http://127.0.0.1:7001/5064292096/ -->\n",
       "<iframe src=\"http://127.0.0.1:7001/5064292096/\" width=100% height=800 frameBorder=\"0\"></iframe>"
      ]
     },
     "metadata": {},
     "output_type": "display_data"
    }
   ],
   "source": [
    "ebm_global = ebm.explain_global()\n",
    "show(ebm_global)\n",
    "\n",
    "ebm_local = ebm.explain_local(X_test[:20], y_test[:20])\n",
    "show(ebm_local)"
   ]
  }
 ],
 "metadata": {
  "kernelspec": {
   "display_name": "venv",
   "language": "python",
   "name": "venv"
  },
  "language_info": {
   "codemirror_mode": {
    "name": "ipython",
    "version": 3
   },
   "file_extension": ".py",
   "mimetype": "text/x-python",
   "name": "python",
   "nbconvert_exporter": "python",
   "pygments_lexer": "ipython3",
   "version": "3.9.15"
  }
 },
 "nbformat": 4,
 "nbformat_minor": 5
}
