{
 "cells": [
  {
   "cell_type": "code",
   "execution_count": 1,
   "id": "868306f0",
   "metadata": {},
   "outputs": [],
   "source": [
    "import pandas as pd\n",
    "from sklearn import metrics\n",
    "from sklearn.metrics import classification_report\n",
    "from sklearn.model_selection import cross_validate\n",
    "import statistics\n",
    "from sklearn.metrics import confusion_matrix\n",
    "from sklearn.metrics import plot_confusion_matrix\n",
    "import matplotlib.pyplot as plt\n",
    "from sklearn.decomposition import PCA\n",
    "import numpy as np\n",
    "from sklearn.pipeline import make_pipeline\n",
    "from sklearn.preprocessing import StandardScaler\n",
    "from sklearn.svm import SVC\n",
    "from sklearn.model_selection import GridSearchCV\n",
    "from classification_utils import *"
   ]
  },
  {
   "cell_type": "code",
   "execution_count": 2,
   "id": "114a902f",
   "metadata": {},
   "outputs": [],
   "source": [
    "data = pd.read_csv(\"dataset/cleaned_user_profiles.csv\", index_col=0)"
   ]
  },
  {
   "cell_type": "code",
   "execution_count": 3,
   "id": "c9b74740",
   "metadata": {},
   "outputs": [
    {
     "data": {
      "text/html": [
       "<div>\n",
       "<style scoped>\n",
       "    .dataframe tbody tr th:only-of-type {\n",
       "        vertical-align: middle;\n",
       "    }\n",
       "\n",
       "    .dataframe tbody tr th {\n",
       "        vertical-align: top;\n",
       "    }\n",
       "\n",
       "    .dataframe thead th {\n",
       "        text-align: right;\n",
       "    }\n",
       "</style>\n",
       "<table border=\"1\" class=\"dataframe\">\n",
       "  <thead>\n",
       "    <tr style=\"text-align: right;\">\n",
       "      <th></th>\n",
       "      <th>name</th>\n",
       "      <th>lang</th>\n",
       "      <th>bot</th>\n",
       "      <th>created_at</th>\n",
       "      <th>statuses_count</th>\n",
       "      <th>avg_length</th>\n",
       "      <th>avg_special_chars</th>\n",
       "      <th>urls_ratio</th>\n",
       "      <th>mentions_ratio</th>\n",
       "      <th>hashtags_ratio</th>\n",
       "      <th>reply_count_mean</th>\n",
       "      <th>reply_count_std</th>\n",
       "      <th>favorite_count_mean</th>\n",
       "      <th>favorite_count_std</th>\n",
       "      <th>favorite_count_entropy</th>\n",
       "      <th>retweet_count_mean</th>\n",
       "      <th>retweet_count_std</th>\n",
       "    </tr>\n",
       "  </thead>\n",
       "  <tbody>\n",
       "    <tr>\n",
       "      <th>2353593986</th>\n",
       "      <td>Lamonica Raborn</td>\n",
       "      <td>en</td>\n",
       "      <td>1</td>\n",
       "      <td>2019-02-22 18:00:42</td>\n",
       "      <td>76</td>\n",
       "      <td>62.340909</td>\n",
       "      <td>14.015152</td>\n",
       "      <td>0.000000</td>\n",
       "      <td>0.272727</td>\n",
       "      <td>0.098485</td>\n",
       "      <td>0.0</td>\n",
       "      <td>0.0</td>\n",
       "      <td>0.037879</td>\n",
       "      <td>0.190903</td>\n",
       "      <td>0.232481</td>\n",
       "      <td>0.037879</td>\n",
       "      <td>0.190903</td>\n",
       "    </tr>\n",
       "    <tr>\n",
       "      <th>2358850842</th>\n",
       "      <td>Lourie Botton</td>\n",
       "      <td>en</td>\n",
       "      <td>0</td>\n",
       "      <td>2019-02-26 03:02:32</td>\n",
       "      <td>54</td>\n",
       "      <td>69.082645</td>\n",
       "      <td>15.041322</td>\n",
       "      <td>0.000000</td>\n",
       "      <td>0.338843</td>\n",
       "      <td>0.024793</td>\n",
       "      <td>0.0</td>\n",
       "      <td>0.0</td>\n",
       "      <td>0.049587</td>\n",
       "      <td>0.217090</td>\n",
       "      <td>0.284639</td>\n",
       "      <td>0.024793</td>\n",
       "      <td>0.155495</td>\n",
       "    </tr>\n",
       "    <tr>\n",
       "      <th>137959629</th>\n",
       "      <td>Dadan Syarifudin</td>\n",
       "      <td>en</td>\n",
       "      <td>1</td>\n",
       "      <td>2015-04-30 07:09:56</td>\n",
       "      <td>53</td>\n",
       "      <td>65.340909</td>\n",
       "      <td>14.694444</td>\n",
       "      <td>0.000000</td>\n",
       "      <td>0.000000</td>\n",
       "      <td>0.000000</td>\n",
       "      <td>0.0</td>\n",
       "      <td>0.0</td>\n",
       "      <td>0.000000</td>\n",
       "      <td>0.000000</td>\n",
       "      <td>0.000000</td>\n",
       "      <td>0.000000</td>\n",
       "      <td>0.000000</td>\n",
       "    </tr>\n",
       "    <tr>\n",
       "      <th>466124818</th>\n",
       "      <td>Carletto Focia</td>\n",
       "      <td>it</td>\n",
       "      <td>1</td>\n",
       "      <td>2017-01-18 02:49:18</td>\n",
       "      <td>50</td>\n",
       "      <td>86.944871</td>\n",
       "      <td>18.689463</td>\n",
       "      <td>0.022331</td>\n",
       "      <td>0.006281</td>\n",
       "      <td>0.072575</td>\n",
       "      <td>0.0</td>\n",
       "      <td>0.0</td>\n",
       "      <td>0.165387</td>\n",
       "      <td>0.530838</td>\n",
       "      <td>0.669155</td>\n",
       "      <td>0.826239</td>\n",
       "      <td>13.034008</td>\n",
       "    </tr>\n",
       "    <tr>\n",
       "      <th>2571493866</th>\n",
       "      <td>MBK Ebook</td>\n",
       "      <td>en</td>\n",
       "      <td>0</td>\n",
       "      <td>2019-06-18 19:30:21</td>\n",
       "      <td>7085</td>\n",
       "      <td>72.311246</td>\n",
       "      <td>14.582073</td>\n",
       "      <td>0.000825</td>\n",
       "      <td>0.506461</td>\n",
       "      <td>0.118229</td>\n",
       "      <td>0.0</td>\n",
       "      <td>0.0</td>\n",
       "      <td>0.056365</td>\n",
       "      <td>0.243387</td>\n",
       "      <td>0.317182</td>\n",
       "      <td>0.016772</td>\n",
       "      <td>0.142619</td>\n",
       "    </tr>\n",
       "  </tbody>\n",
       "</table>\n",
       "</div>"
      ],
      "text/plain": [
       "                        name lang  bot           created_at  statuses_count  \\\n",
       "2353593986   Lamonica Raborn   en    1  2019-02-22 18:00:42              76   \n",
       "2358850842     Lourie Botton   en    0  2019-02-26 03:02:32              54   \n",
       "137959629   Dadan Syarifudin   en    1  2015-04-30 07:09:56              53   \n",
       "466124818     Carletto Focia   it    1  2017-01-18 02:49:18              50   \n",
       "2571493866         MBK Ebook   en    0  2019-06-18 19:30:21            7085   \n",
       "\n",
       "            avg_length  avg_special_chars  urls_ratio  mentions_ratio  \\\n",
       "2353593986   62.340909          14.015152    0.000000        0.272727   \n",
       "2358850842   69.082645          15.041322    0.000000        0.338843   \n",
       "137959629    65.340909          14.694444    0.000000        0.000000   \n",
       "466124818    86.944871          18.689463    0.022331        0.006281   \n",
       "2571493866   72.311246          14.582073    0.000825        0.506461   \n",
       "\n",
       "            hashtags_ratio  reply_count_mean  reply_count_std  \\\n",
       "2353593986        0.098485               0.0              0.0   \n",
       "2358850842        0.024793               0.0              0.0   \n",
       "137959629         0.000000               0.0              0.0   \n",
       "466124818         0.072575               0.0              0.0   \n",
       "2571493866        0.118229               0.0              0.0   \n",
       "\n",
       "            favorite_count_mean  favorite_count_std  favorite_count_entropy  \\\n",
       "2353593986             0.037879            0.190903                0.232481   \n",
       "2358850842             0.049587            0.217090                0.284639   \n",
       "137959629              0.000000            0.000000                0.000000   \n",
       "466124818              0.165387            0.530838                0.669155   \n",
       "2571493866             0.056365            0.243387                0.317182   \n",
       "\n",
       "            retweet_count_mean  retweet_count_std  \n",
       "2353593986            0.037879           0.190903  \n",
       "2358850842            0.024793           0.155495  \n",
       "137959629             0.000000           0.000000  \n",
       "466124818             0.826239          13.034008  \n",
       "2571493866            0.016772           0.142619  "
      ]
     },
     "execution_count": 3,
     "metadata": {},
     "output_type": "execute_result"
    }
   ],
   "source": [
    "data.head()"
   ]
  },
  {
   "cell_type": "code",
   "execution_count": 4,
   "id": "17b71d5c",
   "metadata": {},
   "outputs": [
    {
     "data": {
      "text/html": [
       "<div>\n",
       "<style scoped>\n",
       "    .dataframe tbody tr th:only-of-type {\n",
       "        vertical-align: middle;\n",
       "    }\n",
       "\n",
       "    .dataframe tbody tr th {\n",
       "        vertical-align: top;\n",
       "    }\n",
       "\n",
       "    .dataframe thead th {\n",
       "        text-align: right;\n",
       "    }\n",
       "</style>\n",
       "<table border=\"1\" class=\"dataframe\">\n",
       "  <thead>\n",
       "    <tr style=\"text-align: right;\">\n",
       "      <th></th>\n",
       "      <th>bot</th>\n",
       "      <th>statuses_count</th>\n",
       "      <th>avg_length</th>\n",
       "      <th>avg_special_chars</th>\n",
       "      <th>urls_ratio</th>\n",
       "      <th>mentions_ratio</th>\n",
       "      <th>hashtags_ratio</th>\n",
       "      <th>reply_count_mean</th>\n",
       "      <th>reply_count_std</th>\n",
       "      <th>favorite_count_mean</th>\n",
       "      <th>favorite_count_std</th>\n",
       "      <th>favorite_count_entropy</th>\n",
       "      <th>retweet_count_mean</th>\n",
       "      <th>retweet_count_std</th>\n",
       "    </tr>\n",
       "  </thead>\n",
       "  <tbody>\n",
       "    <tr>\n",
       "      <th>count</th>\n",
       "      <td>11508.000000</td>\n",
       "      <td>11508.000000</td>\n",
       "      <td>11508.000000</td>\n",
       "      <td>11508.000000</td>\n",
       "      <td>11508.000000</td>\n",
       "      <td>11508.000000</td>\n",
       "      <td>11508.000000</td>\n",
       "      <td>11508.000000</td>\n",
       "      <td>11508.000000</td>\n",
       "      <td>11508.000000</td>\n",
       "      <td>11508.000000</td>\n",
       "      <td>11508.000000</td>\n",
       "      <td>11508.000000</td>\n",
       "      <td>11508.000000</td>\n",
       "    </tr>\n",
       "    <tr>\n",
       "      <th>mean</th>\n",
       "      <td>0.531456</td>\n",
       "      <td>5148.794751</td>\n",
       "      <td>67.100135</td>\n",
       "      <td>15.045892</td>\n",
       "      <td>0.031045</td>\n",
       "      <td>0.329076</td>\n",
       "      <td>0.088484</td>\n",
       "      <td>0.001967</td>\n",
       "      <td>0.023941</td>\n",
       "      <td>0.084281</td>\n",
       "      <td>0.365536</td>\n",
       "      <td>0.385427</td>\n",
       "      <td>1.357545</td>\n",
       "      <td>14.574041</td>\n",
       "    </tr>\n",
       "    <tr>\n",
       "      <th>std</th>\n",
       "      <td>0.499031</td>\n",
       "      <td>18496.606420</td>\n",
       "      <td>12.755296</td>\n",
       "      <td>2.454106</td>\n",
       "      <td>0.053379</td>\n",
       "      <td>0.315589</td>\n",
       "      <td>0.070828</td>\n",
       "      <td>0.007796</td>\n",
       "      <td>0.068508</td>\n",
       "      <td>0.109621</td>\n",
       "      <td>0.408358</td>\n",
       "      <td>0.390777</td>\n",
       "      <td>2.827068</td>\n",
       "      <td>23.390000</td>\n",
       "    </tr>\n",
       "    <tr>\n",
       "      <th>min</th>\n",
       "      <td>0.000000</td>\n",
       "      <td>0.000000</td>\n",
       "      <td>32.500000</td>\n",
       "      <td>9.644166</td>\n",
       "      <td>0.000000</td>\n",
       "      <td>0.000000</td>\n",
       "      <td>0.000000</td>\n",
       "      <td>0.000000</td>\n",
       "      <td>0.000000</td>\n",
       "      <td>0.000000</td>\n",
       "      <td>0.000000</td>\n",
       "      <td>0.000000</td>\n",
       "      <td>0.000000</td>\n",
       "      <td>0.000000</td>\n",
       "    </tr>\n",
       "    <tr>\n",
       "      <th>25%</th>\n",
       "      <td>0.000000</td>\n",
       "      <td>53.000000</td>\n",
       "      <td>59.686796</td>\n",
       "      <td>13.553296</td>\n",
       "      <td>0.000000</td>\n",
       "      <td>0.010260</td>\n",
       "      <td>0.045455</td>\n",
       "      <td>0.000000</td>\n",
       "      <td>0.000000</td>\n",
       "      <td>0.017751</td>\n",
       "      <td>0.136692</td>\n",
       "      <td>0.119116</td>\n",
       "      <td>0.010526</td>\n",
       "      <td>0.104251</td>\n",
       "    </tr>\n",
       "    <tr>\n",
       "      <th>50%</th>\n",
       "      <td>1.000000</td>\n",
       "      <td>57.000000</td>\n",
       "      <td>65.340909</td>\n",
       "      <td>14.694444</td>\n",
       "      <td>0.005109</td>\n",
       "      <td>0.300971</td>\n",
       "      <td>0.070423</td>\n",
       "      <td>0.000000</td>\n",
       "      <td>0.000000</td>\n",
       "      <td>0.045752</td>\n",
       "      <td>0.230747</td>\n",
       "      <td>0.268594</td>\n",
       "      <td>0.043478</td>\n",
       "      <td>0.238606</td>\n",
       "    </tr>\n",
       "    <tr>\n",
       "      <th>75%</th>\n",
       "      <td>1.000000</td>\n",
       "      <td>2041.000000</td>\n",
       "      <td>74.254999</td>\n",
       "      <td>16.772205</td>\n",
       "      <td>0.037445</td>\n",
       "      <td>0.450781</td>\n",
       "      <td>0.113295</td>\n",
       "      <td>0.000000</td>\n",
       "      <td>0.000000</td>\n",
       "      <td>0.088862</td>\n",
       "      <td>0.451218</td>\n",
       "      <td>0.491767</td>\n",
       "      <td>0.949402</td>\n",
       "      <td>24.144412</td>\n",
       "    </tr>\n",
       "    <tr>\n",
       "      <th>max</th>\n",
       "      <td>1.000000</td>\n",
       "      <td>399555.000000</td>\n",
       "      <td>104.449541</td>\n",
       "      <td>22.000000</td>\n",
       "      <td>0.287760</td>\n",
       "      <td>1.210354</td>\n",
       "      <td>0.337268</td>\n",
       "      <td>0.044444</td>\n",
       "      <td>0.333767</td>\n",
       "      <td>0.529903</td>\n",
       "      <td>2.183383</td>\n",
       "      <td>1.723913</td>\n",
       "      <td>12.902439</td>\n",
       "      <td>198.461303</td>\n",
       "    </tr>\n",
       "  </tbody>\n",
       "</table>\n",
       "</div>"
      ],
      "text/plain": [
       "                bot  statuses_count    avg_length  avg_special_chars  \\\n",
       "count  11508.000000    11508.000000  11508.000000       11508.000000   \n",
       "mean       0.531456     5148.794751     67.100135          15.045892   \n",
       "std        0.499031    18496.606420     12.755296           2.454106   \n",
       "min        0.000000        0.000000     32.500000           9.644166   \n",
       "25%        0.000000       53.000000     59.686796          13.553296   \n",
       "50%        1.000000       57.000000     65.340909          14.694444   \n",
       "75%        1.000000     2041.000000     74.254999          16.772205   \n",
       "max        1.000000   399555.000000    104.449541          22.000000   \n",
       "\n",
       "         urls_ratio  mentions_ratio  hashtags_ratio  reply_count_mean  \\\n",
       "count  11508.000000    11508.000000    11508.000000      11508.000000   \n",
       "mean       0.031045        0.329076        0.088484          0.001967   \n",
       "std        0.053379        0.315589        0.070828          0.007796   \n",
       "min        0.000000        0.000000        0.000000          0.000000   \n",
       "25%        0.000000        0.010260        0.045455          0.000000   \n",
       "50%        0.005109        0.300971        0.070423          0.000000   \n",
       "75%        0.037445        0.450781        0.113295          0.000000   \n",
       "max        0.287760        1.210354        0.337268          0.044444   \n",
       "\n",
       "       reply_count_std  favorite_count_mean  favorite_count_std  \\\n",
       "count     11508.000000         11508.000000        11508.000000   \n",
       "mean          0.023941             0.084281            0.365536   \n",
       "std           0.068508             0.109621            0.408358   \n",
       "min           0.000000             0.000000            0.000000   \n",
       "25%           0.000000             0.017751            0.136692   \n",
       "50%           0.000000             0.045752            0.230747   \n",
       "75%           0.000000             0.088862            0.451218   \n",
       "max           0.333767             0.529903            2.183383   \n",
       "\n",
       "       favorite_count_entropy  retweet_count_mean  retweet_count_std  \n",
       "count            11508.000000        11508.000000       11508.000000  \n",
       "mean                 0.385427            1.357545          14.574041  \n",
       "std                  0.390777            2.827068          23.390000  \n",
       "min                  0.000000            0.000000           0.000000  \n",
       "25%                  0.119116            0.010526           0.104251  \n",
       "50%                  0.268594            0.043478           0.238606  \n",
       "75%                  0.491767            0.949402          24.144412  \n",
       "max                  1.723913           12.902439         198.461303  "
      ]
     },
     "execution_count": 4,
     "metadata": {},
     "output_type": "execute_result"
    }
   ],
   "source": [
    "#a descrption of the dataset\n",
    "data.describe()"
   ]
  },
  {
   "cell_type": "code",
   "execution_count": 5,
   "id": "f06af9a5",
   "metadata": {},
   "outputs": [
    {
     "data": {
      "text/plain": [
       "False"
      ]
     },
     "execution_count": 5,
     "metadata": {},
     "output_type": "execute_result"
    }
   ],
   "source": [
    "#check if there is any null value\n",
    "data.isnull().values.any()"
   ]
  },
  {
   "cell_type": "code",
   "execution_count": 6,
   "id": "b6d5b872",
   "metadata": {},
   "outputs": [
    {
     "data": {
      "image/png": "[encoded data removed]",
      "text/plain": [
       "<Figure size 640x480 with 1 Axes>"
      ]
     },
     "metadata": {},
     "output_type": "display_data"
    }
   ],
   "source": [
    "plot_lang_hist(data)"
   ]
  },
  {
   "cell_type": "code",
   "execution_count": 7,
   "id": "e3968041",
   "metadata": {},
   "outputs": [],
   "source": [
    "data = data.join(pd.get_dummies(data[\"lang\"]))"
   ]
  },
  {
   "cell_type": "code",
   "execution_count": 8,
   "id": "28368004",
   "metadata": {},
   "outputs": [
    {
     "name": "stdout",
     "output_type": "stream",
     "text": [
      "Classification features : ['statuses_count', 'avg_length', 'avg_special_chars', 'urls_ratio', 'mentions_ratio', 'hashtags_ratio', 'reply_count_mean', 'reply_count_std', 'favorite_count_mean', 'favorite_count_std', 'favorite_count_entropy', 'retweet_count_mean', 'retweet_count_std', 'ar', 'da', 'de', 'el', 'en', 'es', 'fil', 'fr', 'id', 'it', 'ja', 'ko', 'nl', 'pl', 'pt', 'ru', 'sv', 'tr', 'zh']\n"
     ]
    }
   ],
   "source": [
    "train_set, test_set, train_label, test_label = prepare_data(data)"
   ]
  },
  {
   "cell_type": "code",
   "execution_count": 9,
   "id": "7476ef51",
   "metadata": {},
   "outputs": [
    {
     "data": {
      "text/html": [
       "<div>\n",
       "<style scoped>\n",
       "    .dataframe tbody tr th:only-of-type {\n",
       "        vertical-align: middle;\n",
       "    }\n",
       "\n",
       "    .dataframe tbody tr th {\n",
       "        vertical-align: top;\n",
       "    }\n",
       "\n",
       "    .dataframe thead th {\n",
       "        text-align: right;\n",
       "    }\n",
       "</style>\n",
       "<table border=\"1\" class=\"dataframe\">\n",
       "  <thead>\n",
       "    <tr style=\"text-align: right;\">\n",
       "      <th></th>\n",
       "      <th>statuses_count</th>\n",
       "      <th>avg_length</th>\n",
       "      <th>avg_special_chars</th>\n",
       "      <th>urls_ratio</th>\n",
       "      <th>mentions_ratio</th>\n",
       "      <th>hashtags_ratio</th>\n",
       "      <th>reply_count_mean</th>\n",
       "      <th>reply_count_std</th>\n",
       "      <th>favorite_count_mean</th>\n",
       "      <th>favorite_count_std</th>\n",
       "      <th>...</th>\n",
       "      <th>it</th>\n",
       "      <th>ja</th>\n",
       "      <th>ko</th>\n",
       "      <th>nl</th>\n",
       "      <th>pl</th>\n",
       "      <th>pt</th>\n",
       "      <th>ru</th>\n",
       "      <th>sv</th>\n",
       "      <th>tr</th>\n",
       "      <th>zh</th>\n",
       "    </tr>\n",
       "  </thead>\n",
       "  <tbody>\n",
       "    <tr>\n",
       "      <th>21671968</th>\n",
       "      <td>1148</td>\n",
       "      <td>80.828092</td>\n",
       "      <td>18.249476</td>\n",
       "      <td>0.005109</td>\n",
       "      <td>0.354298</td>\n",
       "      <td>0.070423</td>\n",
       "      <td>0.0</td>\n",
       "      <td>0.0</td>\n",
       "      <td>0.040881</td>\n",
       "      <td>0.222916</td>\n",
       "      <td>...</td>\n",
       "      <td>0</td>\n",
       "      <td>0</td>\n",
       "      <td>0</td>\n",
       "      <td>0</td>\n",
       "      <td>0</td>\n",
       "      <td>0</td>\n",
       "      <td>0</td>\n",
       "      <td>0</td>\n",
       "      <td>0</td>\n",
       "      <td>0</td>\n",
       "    </tr>\n",
       "    <tr>\n",
       "      <th>303932719</th>\n",
       "      <td>2041</td>\n",
       "      <td>65.340909</td>\n",
       "      <td>14.694444</td>\n",
       "      <td>0.005109</td>\n",
       "      <td>0.300971</td>\n",
       "      <td>0.070423</td>\n",
       "      <td>0.0</td>\n",
       "      <td>0.0</td>\n",
       "      <td>0.042994</td>\n",
       "      <td>0.934852</td>\n",
       "      <td>...</td>\n",
       "      <td>0</td>\n",
       "      <td>0</td>\n",
       "      <td>0</td>\n",
       "      <td>0</td>\n",
       "      <td>0</td>\n",
       "      <td>0</td>\n",
       "      <td>0</td>\n",
       "      <td>0</td>\n",
       "      <td>0</td>\n",
       "      <td>0</td>\n",
       "    </tr>\n",
       "    <tr>\n",
       "      <th>434790178</th>\n",
       "      <td>53</td>\n",
       "      <td>85.174727</td>\n",
       "      <td>18.273011</td>\n",
       "      <td>0.031201</td>\n",
       "      <td>0.005720</td>\n",
       "      <td>0.082683</td>\n",
       "      <td>0.0</td>\n",
       "      <td>0.0</td>\n",
       "      <td>0.045752</td>\n",
       "      <td>1.854182</td>\n",
       "      <td>...</td>\n",
       "      <td>0</td>\n",
       "      <td>0</td>\n",
       "      <td>0</td>\n",
       "      <td>0</td>\n",
       "      <td>0</td>\n",
       "      <td>0</td>\n",
       "      <td>0</td>\n",
       "      <td>0</td>\n",
       "      <td>0</td>\n",
       "      <td>0</td>\n",
       "    </tr>\n",
       "    <tr>\n",
       "      <th>620404975</th>\n",
       "      <td>3806</td>\n",
       "      <td>83.044824</td>\n",
       "      <td>18.517076</td>\n",
       "      <td>0.114728</td>\n",
       "      <td>1.144610</td>\n",
       "      <td>0.070423</td>\n",
       "      <td>0.0</td>\n",
       "      <td>0.0</td>\n",
       "      <td>0.351654</td>\n",
       "      <td>1.273501</td>\n",
       "      <td>...</td>\n",
       "      <td>0</td>\n",
       "      <td>0</td>\n",
       "      <td>0</td>\n",
       "      <td>0</td>\n",
       "      <td>0</td>\n",
       "      <td>0</td>\n",
       "      <td>0</td>\n",
       "      <td>0</td>\n",
       "      <td>0</td>\n",
       "      <td>0</td>\n",
       "    </tr>\n",
       "    <tr>\n",
       "      <th>20412275</th>\n",
       "      <td>1051</td>\n",
       "      <td>77.465046</td>\n",
       "      <td>17.537994</td>\n",
       "      <td>0.005109</td>\n",
       "      <td>0.223404</td>\n",
       "      <td>0.070423</td>\n",
       "      <td>0.0</td>\n",
       "      <td>0.0</td>\n",
       "      <td>0.085106</td>\n",
       "      <td>0.376421</td>\n",
       "      <td>...</td>\n",
       "      <td>0</td>\n",
       "      <td>0</td>\n",
       "      <td>0</td>\n",
       "      <td>0</td>\n",
       "      <td>0</td>\n",
       "      <td>0</td>\n",
       "      <td>0</td>\n",
       "      <td>0</td>\n",
       "      <td>0</td>\n",
       "      <td>0</td>\n",
       "    </tr>\n",
       "  </tbody>\n",
       "</table>\n",
       "<p>5 rows × 32 columns</p>\n",
       "</div>"
      ],
      "text/plain": [
       "           statuses_count  avg_length  avg_special_chars  urls_ratio  \\\n",
       "21671968             1148   80.828092          18.249476    0.005109   \n",
       "303932719            2041   65.340909          14.694444    0.005109   \n",
       "434790178              53   85.174727          18.273011    0.031201   \n",
       "620404975            3806   83.044824          18.517076    0.114728   \n",
       "20412275             1051   77.465046          17.537994    0.005109   \n",
       "\n",
       "           mentions_ratio  hashtags_ratio  reply_count_mean  reply_count_std  \\\n",
       "21671968         0.354298        0.070423               0.0              0.0   \n",
       "303932719        0.300971        0.070423               0.0              0.0   \n",
       "434790178        0.005720        0.082683               0.0              0.0   \n",
       "620404975        1.144610        0.070423               0.0              0.0   \n",
       "20412275         0.223404        0.070423               0.0              0.0   \n",
       "\n",
       "           favorite_count_mean  favorite_count_std  ...  it  ja  ko  nl  pl  \\\n",
       "21671968              0.040881            0.222916  ...   0   0   0   0   0   \n",
       "303932719             0.042994            0.934852  ...   0   0   0   0   0   \n",
       "434790178             0.045752            1.854182  ...   0   0   0   0   0   \n",
       "620404975             0.351654            1.273501  ...   0   0   0   0   0   \n",
       "20412275              0.085106            0.376421  ...   0   0   0   0   0   \n",
       "\n",
       "           pt  ru  sv  tr  zh  \n",
       "21671968    0   0   0   0   0  \n",
       "303932719   0   0   0   0   0  \n",
       "434790178   0   0   0   0   0  \n",
       "620404975   0   0   0   0   0  \n",
       "20412275    0   0   0   0   0  \n",
       "\n",
       "[5 rows x 32 columns]"
      ]
     },
     "execution_count": 9,
     "metadata": {},
     "output_type": "execute_result"
    }
   ],
   "source": [
    "train_set.head()"
   ]
  },
  {
   "cell_type": "code",
   "execution_count": 10,
   "id": "acc15d5d",
   "metadata": {},
   "outputs": [
    {
     "data": {
      "text/plain": [
       "21671968     0\n",
       "303932719    0\n",
       "434790178    1\n",
       "620404975    0\n",
       "20412275     0\n",
       "Name: bot, dtype: int64"
      ]
     },
     "execution_count": 10,
     "metadata": {},
     "output_type": "execute_result"
    }
   ],
   "source": [
    "train_label.head()"
   ]
  },
  {
   "cell_type": "markdown",
   "id": "d3e32718",
   "metadata": {},
   "source": [
    "### Usage of Lang"
   ]
  },
  {
   "cell_type": "code",
   "execution_count": 11,
   "id": "ca0bc857",
   "metadata": {},
   "outputs": [],
   "source": [
    "scaler = StandardScaler()\n",
    "\n",
    "train_X = scaler.fit_transform(train_set.values)\n",
    "test_X = scaler.transform(test_set.values)"
   ]
  },
  {
   "cell_type": "code",
   "execution_count": 12,
   "id": "7f61ae38",
   "metadata": {},
   "outputs": [
    {
     "data": {
      "text/html": [
       "<style>#sk-container-id-1 {color: black;background-color: white;}#sk-container-id-1 pre{padding: 0;}#sk-container-id-1 div.sk-toggleable {background-color: white;}#sk-container-id-1 label.sk-toggleable__label {cursor: pointer;display: block;width: 100%;margin-bottom: 0;padding: 0.3em;box-sizing: border-box;text-align: center;}#sk-container-id-1 label.sk-toggleable__label-arrow:before {content: \"▸\";float: left;margin-right: 0.25em;color: #696969;}#sk-container-id-1 label.sk-toggleable__label-arrow:hover:before {color: black;}#sk-container-id-1 div.sk-estimator:hover label.sk-toggleable__label-arrow:before {color: black;}#sk-container-id-1 div.sk-toggleable__content {max-height: 0;max-width: 0;overflow: hidden;text-align: left;background-color: #f0f8ff;}#sk-container-id-1 div.sk-toggleable__content pre {margin: 0.2em;color: black;border-radius: 0.25em;background-color: #f0f8ff;}#sk-container-id-1 input.sk-toggleable__control:checked~div.sk-toggleable__content {max-height: 200px;max-width: 100%;overflow: auto;}#sk-container-id-1 input.sk-toggleable__control:checked~label.sk-toggleable__label-arrow:before {content: \"▾\";}#sk-container-id-1 div.sk-estimator input.sk-toggleable__control:checked~label.sk-toggleable__label {background-color: #d4ebff;}#sk-container-id-1 div.sk-label input.sk-toggleable__control:checked~label.sk-toggleable__label {background-color: #d4ebff;}#sk-container-id-1 input.sk-hidden--visually {border: 0;clip: rect(1px 1px 1px 1px);clip: rect(1px, 1px, 1px, 1px);height: 1px;margin: -1px;overflow: hidden;padding: 0;position: absolute;width: 1px;}#sk-container-id-1 div.sk-estimator {font-family: monospace;background-color: #f0f8ff;border: 1px dotted black;border-radius: 0.25em;box-sizing: border-box;margin-bottom: 0.5em;}#sk-container-id-1 div.sk-estimator:hover {background-color: #d4ebff;}#sk-container-id-1 div.sk-parallel-item::after {content: \"\";width: 100%;border-bottom: 1px solid gray;flex-grow: 1;}#sk-container-id-1 div.sk-label:hover label.sk-toggleable__label {background-color: #d4ebff;}#sk-container-id-1 div.sk-serial::before {content: \"\";position: absolute;border-left: 1px solid gray;box-sizing: border-box;top: 0;bottom: 0;left: 50%;z-index: 0;}#sk-container-id-1 div.sk-serial {display: flex;flex-direction: column;align-items: center;background-color: white;padding-right: 0.2em;padding-left: 0.2em;position: relative;}#sk-container-id-1 div.sk-item {position: relative;z-index: 1;}#sk-container-id-1 div.sk-parallel {display: flex;align-items: stretch;justify-content: center;background-color: white;position: relative;}#sk-container-id-1 div.sk-item::before, #sk-container-id-1 div.sk-parallel-item::before {content: \"\";position: absolute;border-left: 1px solid gray;box-sizing: border-box;top: 0;bottom: 0;left: 50%;z-index: -1;}#sk-container-id-1 div.sk-parallel-item {display: flex;flex-direction: column;z-index: 1;position: relative;background-color: white;}#sk-container-id-1 div.sk-parallel-item:first-child::after {align-self: flex-end;width: 50%;}#sk-container-id-1 div.sk-parallel-item:last-child::after {align-self: flex-start;width: 50%;}#sk-container-id-1 div.sk-parallel-item:only-child::after {width: 0;}#sk-container-id-1 div.sk-dashed-wrapped {border: 1px dashed gray;margin: 0 0.4em 0.5em 0.4em;box-sizing: border-box;padding-bottom: 0.4em;background-color: white;}#sk-container-id-1 div.sk-label label {font-family: monospace;font-weight: bold;display: inline-block;line-height: 1.2em;}#sk-container-id-1 div.sk-label-container {text-align: center;}#sk-container-id-1 div.sk-container {/* jupyter's `normalize.less` sets `[hidden] { display: none; }` but bootstrap.min.css set `[hidden] { display: none !important; }` so we also need the `!important` here to be able to override the default hidden behavior on the sphinx rendered scikit-learn.org. See: https://github.com/scikit-learn/scikit-learn/issues/21755 */display: inline-block !important;position: relative;}#sk-container-id-1 div.sk-text-repr-fallback {display: none;}</style><div id=\"sk-container-id-1\" class=\"sk-top-container\"><div class=\"sk-text-repr-fallback\"><pre>GridSearchCV(estimator=SVC(),\n",
       "             param_grid={&#x27;C&#x27;: [0.1, 1, 10], &#x27;gamma&#x27;: [&#x27;scale&#x27;, &#x27;auto&#x27;],\n",
       "                         &#x27;kernel&#x27;: (&#x27;linear&#x27;, &#x27;rbf&#x27;, &#x27;poly&#x27;, &#x27;sigmoid&#x27;)})</pre><b>In a Jupyter environment, please rerun this cell to show the HTML representation or trust the notebook. <br />On GitHub, the HTML representation is unable to render, please try loading this page with nbviewer.org.</b></div><div class=\"sk-container\" hidden><div class=\"sk-item sk-dashed-wrapped\"><div class=\"sk-label-container\"><div class=\"sk-label sk-toggleable\"><input class=\"sk-toggleable__control sk-hidden--visually\" id=\"sk-estimator-id-1\" type=\"checkbox\" ><label for=\"sk-estimator-id-1\" class=\"sk-toggleable__label sk-toggleable__label-arrow\">GridSearchCV</label><div class=\"sk-toggleable__content\"><pre>GridSearchCV(estimator=SVC(),\n",
       "             param_grid={&#x27;C&#x27;: [0.1, 1, 10], &#x27;gamma&#x27;: [&#x27;scale&#x27;, &#x27;auto&#x27;],\n",
       "                         &#x27;kernel&#x27;: (&#x27;linear&#x27;, &#x27;rbf&#x27;, &#x27;poly&#x27;, &#x27;sigmoid&#x27;)})</pre></div></div></div><div class=\"sk-parallel\"><div class=\"sk-parallel-item\"><div class=\"sk-item\"><div class=\"sk-label-container\"><div class=\"sk-label sk-toggleable\"><input class=\"sk-toggleable__control sk-hidden--visually\" id=\"sk-estimator-id-2\" type=\"checkbox\" ><label for=\"sk-estimator-id-2\" class=\"sk-toggleable__label sk-toggleable__label-arrow\">estimator: SVC</label><div class=\"sk-toggleable__content\"><pre>SVC()</pre></div></div></div><div class=\"sk-serial\"><div class=\"sk-item\"><div class=\"sk-estimator sk-toggleable\"><input class=\"sk-toggleable__control sk-hidden--visually\" id=\"sk-estimator-id-3\" type=\"checkbox\" ><label for=\"sk-estimator-id-3\" class=\"sk-toggleable__label sk-toggleable__label-arrow\">SVC</label><div class=\"sk-toggleable__content\"><pre>SVC()</pre></div></div></div></div></div></div></div></div></div></div>"
      ],
      "text/plain": [
       "GridSearchCV(estimator=SVC(),\n",
       "             param_grid={'C': [0.1, 1, 10], 'gamma': ['scale', 'auto'],\n",
       "                         'kernel': ('linear', 'rbf', 'poly', 'sigmoid')})"
      ]
     },
     "execution_count": 12,
     "metadata": {},
     "output_type": "execute_result"
    }
   ],
   "source": [
    "# make grid search\n",
    "\n",
    "parameters = {\n",
    "    'kernel':('linear', 'rbf', 'poly', 'sigmoid'), \n",
    "    'C':[0.1, 1, 10],\n",
    "    'gamma' : ['scale', 'auto'],\n",
    "}\n",
    "\n",
    "svc = SVC()\n",
    "\n",
    "grid_search = GridSearchCV(svc, parameters)\n",
    "\n",
    "\n",
    "grid_search.fit(train_X, train_label)"
   ]
  },
  {
   "cell_type": "code",
   "execution_count": 13,
   "id": "abd16b08",
   "metadata": {},
   "outputs": [],
   "source": [
    "clf = grid_search.best_estimator_"
   ]
  },
  {
   "cell_type": "code",
   "execution_count": 14,
   "id": "dcb24a03",
   "metadata": {},
   "outputs": [
    {
     "data": {
      "text/html": [
       "<style>#sk-container-id-2 {color: black;background-color: white;}#sk-container-id-2 pre{padding: 0;}#sk-container-id-2 div.sk-toggleable {background-color: white;}#sk-container-id-2 label.sk-toggleable__label {cursor: pointer;display: block;width: 100%;margin-bottom: 0;padding: 0.3em;box-sizing: border-box;text-align: center;}#sk-container-id-2 label.sk-toggleable__label-arrow:before {content: \"▸\";float: left;margin-right: 0.25em;color: #696969;}#sk-container-id-2 label.sk-toggleable__label-arrow:hover:before {color: black;}#sk-container-id-2 div.sk-estimator:hover label.sk-toggleable__label-arrow:before {color: black;}#sk-container-id-2 div.sk-toggleable__content {max-height: 0;max-width: 0;overflow: hidden;text-align: left;background-color: #f0f8ff;}#sk-container-id-2 div.sk-toggleable__content pre {margin: 0.2em;color: black;border-radius: 0.25em;background-color: #f0f8ff;}#sk-container-id-2 input.sk-toggleable__control:checked~div.sk-toggleable__content {max-height: 200px;max-width: 100%;overflow: auto;}#sk-container-id-2 input.sk-toggleable__control:checked~label.sk-toggleable__label-arrow:before {content: \"▾\";}#sk-container-id-2 div.sk-estimator input.sk-toggleable__control:checked~label.sk-toggleable__label {background-color: #d4ebff;}#sk-container-id-2 div.sk-label input.sk-toggleable__control:checked~label.sk-toggleable__label {background-color: #d4ebff;}#sk-container-id-2 input.sk-hidden--visually {border: 0;clip: rect(1px 1px 1px 1px);clip: rect(1px, 1px, 1px, 1px);height: 1px;margin: -1px;overflow: hidden;padding: 0;position: absolute;width: 1px;}#sk-container-id-2 div.sk-estimator {font-family: monospace;background-color: #f0f8ff;border: 1px dotted black;border-radius: 0.25em;box-sizing: border-box;margin-bottom: 0.5em;}#sk-container-id-2 div.sk-estimator:hover {background-color: #d4ebff;}#sk-container-id-2 div.sk-parallel-item::after {content: \"\";width: 100%;border-bottom: 1px solid gray;flex-grow: 1;}#sk-container-id-2 div.sk-label:hover label.sk-toggleable__label {background-color: #d4ebff;}#sk-container-id-2 div.sk-serial::before {content: \"\";position: absolute;border-left: 1px solid gray;box-sizing: border-box;top: 0;bottom: 0;left: 50%;z-index: 0;}#sk-container-id-2 div.sk-serial {display: flex;flex-direction: column;align-items: center;background-color: white;padding-right: 0.2em;padding-left: 0.2em;position: relative;}#sk-container-id-2 div.sk-item {position: relative;z-index: 1;}#sk-container-id-2 div.sk-parallel {display: flex;align-items: stretch;justify-content: center;background-color: white;position: relative;}#sk-container-id-2 div.sk-item::before, #sk-container-id-2 div.sk-parallel-item::before {content: \"\";position: absolute;border-left: 1px solid gray;box-sizing: border-box;top: 0;bottom: 0;left: 50%;z-index: -1;}#sk-container-id-2 div.sk-parallel-item {display: flex;flex-direction: column;z-index: 1;position: relative;background-color: white;}#sk-container-id-2 div.sk-parallel-item:first-child::after {align-self: flex-end;width: 50%;}#sk-container-id-2 div.sk-parallel-item:last-child::after {align-self: flex-start;width: 50%;}#sk-container-id-2 div.sk-parallel-item:only-child::after {width: 0;}#sk-container-id-2 div.sk-dashed-wrapped {border: 1px dashed gray;margin: 0 0.4em 0.5em 0.4em;box-sizing: border-box;padding-bottom: 0.4em;background-color: white;}#sk-container-id-2 div.sk-label label {font-family: monospace;font-weight: bold;display: inline-block;line-height: 1.2em;}#sk-container-id-2 div.sk-label-container {text-align: center;}#sk-container-id-2 div.sk-container {/* jupyter's `normalize.less` sets `[hidden] { display: none; }` but bootstrap.min.css set `[hidden] { display: none !important; }` so we also need the `!important` here to be able to override the default hidden behavior on the sphinx rendered scikit-learn.org. See: https://github.com/scikit-learn/scikit-learn/issues/21755 */display: inline-block !important;position: relative;}#sk-container-id-2 div.sk-text-repr-fallback {display: none;}</style><div id=\"sk-container-id-2\" class=\"sk-top-container\"><div class=\"sk-text-repr-fallback\"><pre>SVC(C=10, kernel=&#x27;linear&#x27;)</pre><b>In a Jupyter environment, please rerun this cell to show the HTML representation or trust the notebook. <br />On GitHub, the HTML representation is unable to render, please try loading this page with nbviewer.org.</b></div><div class=\"sk-container\" hidden><div class=\"sk-item\"><div class=\"sk-estimator sk-toggleable\"><input class=\"sk-toggleable__control sk-hidden--visually\" id=\"sk-estimator-id-4\" type=\"checkbox\" checked><label for=\"sk-estimator-id-4\" class=\"sk-toggleable__label sk-toggleable__label-arrow\">SVC</label><div class=\"sk-toggleable__content\"><pre>SVC(C=10, kernel=&#x27;linear&#x27;)</pre></div></div></div></div></div>"
      ],
      "text/plain": [
       "SVC(C=10, kernel='linear')"
      ]
     },
     "execution_count": 14,
     "metadata": {},
     "output_type": "execute_result"
    }
   ],
   "source": [
    "clf"
   ]
  },
  {
   "cell_type": "code",
   "execution_count": 15,
   "id": "e53ca914",
   "metadata": {},
   "outputs": [],
   "source": [
    "#predict on the test set\n",
    "train_pred = clf.predict(train_X)\n",
    "test_pred = clf.predict(test_X)"
   ]
  },
  {
   "cell_type": "code",
   "execution_count": 16,
   "id": "4754179b",
   "metadata": {},
   "outputs": [
    {
     "name": "stdout",
     "output_type": "stream",
     "text": [
      "Accuracy train set  0.8432029795158287\n",
      "Accuracy test set  0.8410078192875761\n",
      "Precision train set  0.8688619613379112\n",
      "Recall train set  0.8432029795158287\n",
      "F1 score train set  0.8387751632701842\n",
      "Support train set  (array([0.96899514, 0.78058758]), array([0.68733439, 0.98061201]), array([0.8042164 , 0.86924112]), array([3774, 4281]))\n"
     ]
    }
   ],
   "source": [
    "print_metrics(train_label, train_pred, test_label, test_pred)"
   ]
  },
  {
   "cell_type": "code",
   "execution_count": 17,
   "id": "8036a9ed",
   "metadata": {},
   "outputs": [
    {
     "name": "stdout",
     "output_type": "stream",
     "text": [
      "              precision    recall  f1-score   support\n",
      "\n",
      "        <=50       0.97      0.68      0.80      1618\n",
      "         >50       0.78      0.98      0.87      1835\n",
      "\n",
      "    accuracy                           0.84      3453\n",
      "   macro avg       0.87      0.83      0.83      3453\n",
      "weighted avg       0.87      0.84      0.84      3453\n",
      "\n"
     ]
    }
   ],
   "source": [
    "#compute the performance of the model\n",
    "report_scores(test_label,test_pred)"
   ]
  },
  {
   "cell_type": "code",
   "execution_count": 18,
   "id": "829dbd39",
   "metadata": {},
   "outputs": [
    {
     "name": "stdout",
     "output_type": "stream",
     "text": [
      "Fit time  5.033199230829875\n",
      "Score time  0.0964208443959554\n",
      "Test score  0.8402234636871508\n",
      "Train score  0.8423339540657976\n"
     ]
    }
   ],
   "source": [
    "# cross validation\n",
    "scores = cross_validate(clf, train_X, train_label, cv=3, return_train_score= True)\n",
    "print('Fit time ', statistics.mean(scores['fit_time']))\n",
    "print('Score time ', statistics.mean(scores['score_time']))\n",
    "print('Test score ', statistics.mean(scores['test_score']))\n",
    "print('Train score ', statistics.mean(scores['train_score']))"
   ]
  },
  {
   "cell_type": "code",
   "execution_count": 19,
   "id": "ba42100d",
   "metadata": {},
   "outputs": [
    {
     "name": "stderr",
     "output_type": "stream",
     "text": [
      "/Users/lucamoroni/Desktop/__WorkSpace/__Universita/unipi/DataMining/Data_Mining_22_23/venv/lib/python3.9/site-packages/sklearn/utils/deprecation.py:87: FutureWarning: Function plot_confusion_matrix is deprecated; Function `plot_confusion_matrix` is deprecated in 1.0 and will be removed in 1.2. Use one of the class methods: ConfusionMatrixDisplay.from_predictions or ConfusionMatrixDisplay.from_estimator.\n",
      "  warnings.warn(msg, category=FutureWarning)\n"
     ]
    },
    {
     "data": {
      "image/png": "[encoded data removed]",
      "text/plain": [
       "<Figure size 640x480 with 2 Axes>"
      ]
     },
     "metadata": {},
     "output_type": "display_data"
    }
   ],
   "source": [
    "#it is possible to plot the confusion matrix \n",
    "#compute confusion matrix\n",
    "cm = confusion_matrix(test_label, test_pred)\n",
    "plot_confusion_matrix(clf, test_X, test_label)\n",
    "plt.show() "
   ]
  },
  {
   "cell_type": "code",
   "execution_count": 20,
   "id": "7b8e741e",
   "metadata": {},
   "outputs": [],
   "source": [
    "pca = PCA(n_components=2)\n",
    "test_set_reduced = pca.fit_transform(test_set.values)"
   ]
  },
  {
   "cell_type": "code",
   "execution_count": 21,
   "id": "e222d9db",
   "metadata": {},
   "outputs": [
    {
     "data": {
      "image/png": "[encoded data removed]",
      "text/plain": [
       "<Figure size 640x480 with 1 Axes>"
      ]
     },
     "metadata": {},
     "output_type": "display_data"
    }
   ],
   "source": [
    "#true labels\n",
    "from sklearn.datasets import make_blobs\n",
    "plt.scatter(test_set_reduced[:, 0], test_set_reduced[:, 1], c=test_label, s=25, cmap='YlGn');"
   ]
  },
  {
   "cell_type": "code",
   "execution_count": 22,
   "id": "081d0300",
   "metadata": {},
   "outputs": [
    {
     "data": {
      "image/png": "[encoded data removed]",
      "text/plain": [
       "<Figure size 640x480 with 1 Axes>"
      ]
     },
     "metadata": {},
     "output_type": "display_data"
    }
   ],
   "source": [
    "#predicted labels\n",
    "plt.scatter(test_set_reduced[:, 0], test_set_reduced[:, 1], c=test_pred, s=25, cmap='YlGn');"
   ]
  },
  {
   "cell_type": "markdown",
   "id": "605970ef",
   "metadata": {},
   "source": [
    "### Removed Lang Attribute for classification"
   ]
  },
  {
   "cell_type": "code",
   "execution_count": 23,
   "id": "950176e8",
   "metadata": {},
   "outputs": [
    {
     "data": {
      "text/html": [
       "<div>\n",
       "<style scoped>\n",
       "    .dataframe tbody tr th:only-of-type {\n",
       "        vertical-align: middle;\n",
       "    }\n",
       "\n",
       "    .dataframe tbody tr th {\n",
       "        vertical-align: top;\n",
       "    }\n",
       "\n",
       "    .dataframe thead th {\n",
       "        text-align: right;\n",
       "    }\n",
       "</style>\n",
       "<table border=\"1\" class=\"dataframe\">\n",
       "  <thead>\n",
       "    <tr style=\"text-align: right;\">\n",
       "      <th></th>\n",
       "      <th>statuses_count</th>\n",
       "      <th>avg_length</th>\n",
       "      <th>avg_special_chars</th>\n",
       "      <th>urls_ratio</th>\n",
       "      <th>mentions_ratio</th>\n",
       "      <th>hashtags_ratio</th>\n",
       "      <th>reply_count_mean</th>\n",
       "      <th>reply_count_std</th>\n",
       "      <th>favorite_count_mean</th>\n",
       "      <th>favorite_count_std</th>\n",
       "      <th>...</th>\n",
       "      <th>it</th>\n",
       "      <th>ja</th>\n",
       "      <th>ko</th>\n",
       "      <th>nl</th>\n",
       "      <th>pl</th>\n",
       "      <th>pt</th>\n",
       "      <th>ru</th>\n",
       "      <th>sv</th>\n",
       "      <th>tr</th>\n",
       "      <th>zh</th>\n",
       "    </tr>\n",
       "  </thead>\n",
       "  <tbody>\n",
       "    <tr>\n",
       "      <th>21671968</th>\n",
       "      <td>1148</td>\n",
       "      <td>80.828092</td>\n",
       "      <td>18.249476</td>\n",
       "      <td>0.005109</td>\n",
       "      <td>0.354298</td>\n",
       "      <td>0.070423</td>\n",
       "      <td>0.0</td>\n",
       "      <td>0.0</td>\n",
       "      <td>0.040881</td>\n",
       "      <td>0.222916</td>\n",
       "      <td>...</td>\n",
       "      <td>0</td>\n",
       "      <td>0</td>\n",
       "      <td>0</td>\n",
       "      <td>0</td>\n",
       "      <td>0</td>\n",
       "      <td>0</td>\n",
       "      <td>0</td>\n",
       "      <td>0</td>\n",
       "      <td>0</td>\n",
       "      <td>0</td>\n",
       "    </tr>\n",
       "    <tr>\n",
       "      <th>303932719</th>\n",
       "      <td>2041</td>\n",
       "      <td>65.340909</td>\n",
       "      <td>14.694444</td>\n",
       "      <td>0.005109</td>\n",
       "      <td>0.300971</td>\n",
       "      <td>0.070423</td>\n",
       "      <td>0.0</td>\n",
       "      <td>0.0</td>\n",
       "      <td>0.042994</td>\n",
       "      <td>0.934852</td>\n",
       "      <td>...</td>\n",
       "      <td>0</td>\n",
       "      <td>0</td>\n",
       "      <td>0</td>\n",
       "      <td>0</td>\n",
       "      <td>0</td>\n",
       "      <td>0</td>\n",
       "      <td>0</td>\n",
       "      <td>0</td>\n",
       "      <td>0</td>\n",
       "      <td>0</td>\n",
       "    </tr>\n",
       "    <tr>\n",
       "      <th>434790178</th>\n",
       "      <td>53</td>\n",
       "      <td>85.174727</td>\n",
       "      <td>18.273011</td>\n",
       "      <td>0.031201</td>\n",
       "      <td>0.005720</td>\n",
       "      <td>0.082683</td>\n",
       "      <td>0.0</td>\n",
       "      <td>0.0</td>\n",
       "      <td>0.045752</td>\n",
       "      <td>1.854182</td>\n",
       "      <td>...</td>\n",
       "      <td>0</td>\n",
       "      <td>0</td>\n",
       "      <td>0</td>\n",
       "      <td>0</td>\n",
       "      <td>0</td>\n",
       "      <td>0</td>\n",
       "      <td>0</td>\n",
       "      <td>0</td>\n",
       "      <td>0</td>\n",
       "      <td>0</td>\n",
       "    </tr>\n",
       "    <tr>\n",
       "      <th>620404975</th>\n",
       "      <td>3806</td>\n",
       "      <td>83.044824</td>\n",
       "      <td>18.517076</td>\n",
       "      <td>0.114728</td>\n",
       "      <td>1.144610</td>\n",
       "      <td>0.070423</td>\n",
       "      <td>0.0</td>\n",
       "      <td>0.0</td>\n",
       "      <td>0.351654</td>\n",
       "      <td>1.273501</td>\n",
       "      <td>...</td>\n",
       "      <td>0</td>\n",
       "      <td>0</td>\n",
       "      <td>0</td>\n",
       "      <td>0</td>\n",
       "      <td>0</td>\n",
       "      <td>0</td>\n",
       "      <td>0</td>\n",
       "      <td>0</td>\n",
       "      <td>0</td>\n",
       "      <td>0</td>\n",
       "    </tr>\n",
       "    <tr>\n",
       "      <th>20412275</th>\n",
       "      <td>1051</td>\n",
       "      <td>77.465046</td>\n",
       "      <td>17.537994</td>\n",
       "      <td>0.005109</td>\n",
       "      <td>0.223404</td>\n",
       "      <td>0.070423</td>\n",
       "      <td>0.0</td>\n",
       "      <td>0.0</td>\n",
       "      <td>0.085106</td>\n",
       "      <td>0.376421</td>\n",
       "      <td>...</td>\n",
       "      <td>0</td>\n",
       "      <td>0</td>\n",
       "      <td>0</td>\n",
       "      <td>0</td>\n",
       "      <td>0</td>\n",
       "      <td>0</td>\n",
       "      <td>0</td>\n",
       "      <td>0</td>\n",
       "      <td>0</td>\n",
       "      <td>0</td>\n",
       "    </tr>\n",
       "  </tbody>\n",
       "</table>\n",
       "<p>5 rows × 32 columns</p>\n",
       "</div>"
      ],
      "text/plain": [
       "           statuses_count  avg_length  avg_special_chars  urls_ratio  \\\n",
       "21671968             1148   80.828092          18.249476    0.005109   \n",
       "303932719            2041   65.340909          14.694444    0.005109   \n",
       "434790178              53   85.174727          18.273011    0.031201   \n",
       "620404975            3806   83.044824          18.517076    0.114728   \n",
       "20412275             1051   77.465046          17.537994    0.005109   \n",
       "\n",
       "           mentions_ratio  hashtags_ratio  reply_count_mean  reply_count_std  \\\n",
       "21671968         0.354298        0.070423               0.0              0.0   \n",
       "303932719        0.300971        0.070423               0.0              0.0   \n",
       "434790178        0.005720        0.082683               0.0              0.0   \n",
       "620404975        1.144610        0.070423               0.0              0.0   \n",
       "20412275         0.223404        0.070423               0.0              0.0   \n",
       "\n",
       "           favorite_count_mean  favorite_count_std  ...  it  ja  ko  nl  pl  \\\n",
       "21671968              0.040881            0.222916  ...   0   0   0   0   0   \n",
       "303932719             0.042994            0.934852  ...   0   0   0   0   0   \n",
       "434790178             0.045752            1.854182  ...   0   0   0   0   0   \n",
       "620404975             0.351654            1.273501  ...   0   0   0   0   0   \n",
       "20412275              0.085106            0.376421  ...   0   0   0   0   0   \n",
       "\n",
       "           pt  ru  sv  tr  zh  \n",
       "21671968    0   0   0   0   0  \n",
       "303932719   0   0   0   0   0  \n",
       "434790178   0   0   0   0   0  \n",
       "620404975   0   0   0   0   0  \n",
       "20412275    0   0   0   0   0  \n",
       "\n",
       "[5 rows x 32 columns]"
      ]
     },
     "execution_count": 23,
     "metadata": {},
     "output_type": "execute_result"
    }
   ],
   "source": [
    "train_set.head()"
   ]
  },
  {
   "cell_type": "code",
   "execution_count": 24,
   "id": "e842ee0f",
   "metadata": {},
   "outputs": [],
   "source": [
    "for lang in data.lang.unique():\n",
    "    del train_set[lang]\n",
    "    del test_set[lang]"
   ]
  },
  {
   "cell_type": "code",
   "execution_count": 25,
   "id": "b9912840",
   "metadata": {},
   "outputs": [
    {
     "data": {
      "text/html": [
       "<div>\n",
       "<style scoped>\n",
       "    .dataframe tbody tr th:only-of-type {\n",
       "        vertical-align: middle;\n",
       "    }\n",
       "\n",
       "    .dataframe tbody tr th {\n",
       "        vertical-align: top;\n",
       "    }\n",
       "\n",
       "    .dataframe thead th {\n",
       "        text-align: right;\n",
       "    }\n",
       "</style>\n",
       "<table border=\"1\" class=\"dataframe\">\n",
       "  <thead>\n",
       "    <tr style=\"text-align: right;\">\n",
       "      <th></th>\n",
       "      <th>statuses_count</th>\n",
       "      <th>avg_length</th>\n",
       "      <th>avg_special_chars</th>\n",
       "      <th>urls_ratio</th>\n",
       "      <th>mentions_ratio</th>\n",
       "      <th>hashtags_ratio</th>\n",
       "      <th>reply_count_mean</th>\n",
       "      <th>reply_count_std</th>\n",
       "      <th>favorite_count_mean</th>\n",
       "      <th>favorite_count_std</th>\n",
       "      <th>favorite_count_entropy</th>\n",
       "      <th>retweet_count_mean</th>\n",
       "      <th>retweet_count_std</th>\n",
       "    </tr>\n",
       "  </thead>\n",
       "  <tbody>\n",
       "    <tr>\n",
       "      <th>21671968</th>\n",
       "      <td>1148</td>\n",
       "      <td>80.828092</td>\n",
       "      <td>18.249476</td>\n",
       "      <td>0.005109</td>\n",
       "      <td>0.354298</td>\n",
       "      <td>0.070423</td>\n",
       "      <td>0.0</td>\n",
       "      <td>0.0</td>\n",
       "      <td>0.040881</td>\n",
       "      <td>0.222916</td>\n",
       "      <td>0.243399</td>\n",
       "      <td>1.992662</td>\n",
       "      <td>20.828514</td>\n",
       "    </tr>\n",
       "    <tr>\n",
       "      <th>303932719</th>\n",
       "      <td>2041</td>\n",
       "      <td>65.340909</td>\n",
       "      <td>14.694444</td>\n",
       "      <td>0.005109</td>\n",
       "      <td>0.300971</td>\n",
       "      <td>0.070423</td>\n",
       "      <td>0.0</td>\n",
       "      <td>0.0</td>\n",
       "      <td>0.042994</td>\n",
       "      <td>0.934852</td>\n",
       "      <td>0.037373</td>\n",
       "      <td>4.694268</td>\n",
       "      <td>36.521704</td>\n",
       "    </tr>\n",
       "    <tr>\n",
       "      <th>434790178</th>\n",
       "      <td>53</td>\n",
       "      <td>85.174727</td>\n",
       "      <td>18.273011</td>\n",
       "      <td>0.031201</td>\n",
       "      <td>0.005720</td>\n",
       "      <td>0.082683</td>\n",
       "      <td>0.0</td>\n",
       "      <td>0.0</td>\n",
       "      <td>0.045752</td>\n",
       "      <td>1.854182</td>\n",
       "      <td>0.268594</td>\n",
       "      <td>0.831513</td>\n",
       "      <td>2.921348</td>\n",
       "    </tr>\n",
       "    <tr>\n",
       "      <th>620404975</th>\n",
       "      <td>3806</td>\n",
       "      <td>83.044824</td>\n",
       "      <td>18.517076</td>\n",
       "      <td>0.114728</td>\n",
       "      <td>1.144610</td>\n",
       "      <td>0.070423</td>\n",
       "      <td>0.0</td>\n",
       "      <td>0.0</td>\n",
       "      <td>0.351654</td>\n",
       "      <td>1.273501</td>\n",
       "      <td>1.024142</td>\n",
       "      <td>7.700107</td>\n",
       "      <td>36.288594</td>\n",
       "    </tr>\n",
       "    <tr>\n",
       "      <th>20412275</th>\n",
       "      <td>1051</td>\n",
       "      <td>77.465046</td>\n",
       "      <td>17.537994</td>\n",
       "      <td>0.005109</td>\n",
       "      <td>0.223404</td>\n",
       "      <td>0.070423</td>\n",
       "      <td>0.0</td>\n",
       "      <td>0.0</td>\n",
       "      <td>0.085106</td>\n",
       "      <td>0.376421</td>\n",
       "      <td>0.409411</td>\n",
       "      <td>0.063830</td>\n",
       "      <td>0.295146</td>\n",
       "    </tr>\n",
       "  </tbody>\n",
       "</table>\n",
       "</div>"
      ],
      "text/plain": [
       "           statuses_count  avg_length  avg_special_chars  urls_ratio  \\\n",
       "21671968             1148   80.828092          18.249476    0.005109   \n",
       "303932719            2041   65.340909          14.694444    0.005109   \n",
       "434790178              53   85.174727          18.273011    0.031201   \n",
       "620404975            3806   83.044824          18.517076    0.114728   \n",
       "20412275             1051   77.465046          17.537994    0.005109   \n",
       "\n",
       "           mentions_ratio  hashtags_ratio  reply_count_mean  reply_count_std  \\\n",
       "21671968         0.354298        0.070423               0.0              0.0   \n",
       "303932719        0.300971        0.070423               0.0              0.0   \n",
       "434790178        0.005720        0.082683               0.0              0.0   \n",
       "620404975        1.144610        0.070423               0.0              0.0   \n",
       "20412275         0.223404        0.070423               0.0              0.0   \n",
       "\n",
       "           favorite_count_mean  favorite_count_std  favorite_count_entropy  \\\n",
       "21671968              0.040881            0.222916                0.243399   \n",
       "303932719             0.042994            0.934852                0.037373   \n",
       "434790178             0.045752            1.854182                0.268594   \n",
       "620404975             0.351654            1.273501                1.024142   \n",
       "20412275              0.085106            0.376421                0.409411   \n",
       "\n",
       "           retweet_count_mean  retweet_count_std  \n",
       "21671968             1.992662          20.828514  \n",
       "303932719            4.694268          36.521704  \n",
       "434790178            0.831513           2.921348  \n",
       "620404975            7.700107          36.288594  \n",
       "20412275             0.063830           0.295146  "
      ]
     },
     "execution_count": 25,
     "metadata": {},
     "output_type": "execute_result"
    }
   ],
   "source": [
    "train_set.head()"
   ]
  },
  {
   "cell_type": "code",
   "execution_count": 26,
   "id": "3997569e",
   "metadata": {},
   "outputs": [],
   "source": [
    "scaler = StandardScaler()\n",
    "\n",
    "train_X = scaler.fit_transform(train_set.values)\n",
    "test_X = scaler.transform(test_set.values)"
   ]
  },
  {
   "cell_type": "code",
   "execution_count": 27,
   "id": "1b4bf2a8",
   "metadata": {},
   "outputs": [
    {
     "data": {
      "text/html": [
       "<style>#sk-container-id-3 {color: black;background-color: white;}#sk-container-id-3 pre{padding: 0;}#sk-container-id-3 div.sk-toggleable {background-color: white;}#sk-container-id-3 label.sk-toggleable__label {cursor: pointer;display: block;width: 100%;margin-bottom: 0;padding: 0.3em;box-sizing: border-box;text-align: center;}#sk-container-id-3 label.sk-toggleable__label-arrow:before {content: \"▸\";float: left;margin-right: 0.25em;color: #696969;}#sk-container-id-3 label.sk-toggleable__label-arrow:hover:before {color: black;}#sk-container-id-3 div.sk-estimator:hover label.sk-toggleable__label-arrow:before {color: black;}#sk-container-id-3 div.sk-toggleable__content {max-height: 0;max-width: 0;overflow: hidden;text-align: left;background-color: #f0f8ff;}#sk-container-id-3 div.sk-toggleable__content pre {margin: 0.2em;color: black;border-radius: 0.25em;background-color: #f0f8ff;}#sk-container-id-3 input.sk-toggleable__control:checked~div.sk-toggleable__content {max-height: 200px;max-width: 100%;overflow: auto;}#sk-container-id-3 input.sk-toggleable__control:checked~label.sk-toggleable__label-arrow:before {content: \"▾\";}#sk-container-id-3 div.sk-estimator input.sk-toggleable__control:checked~label.sk-toggleable__label {background-color: #d4ebff;}#sk-container-id-3 div.sk-label input.sk-toggleable__control:checked~label.sk-toggleable__label {background-color: #d4ebff;}#sk-container-id-3 input.sk-hidden--visually {border: 0;clip: rect(1px 1px 1px 1px);clip: rect(1px, 1px, 1px, 1px);height: 1px;margin: -1px;overflow: hidden;padding: 0;position: absolute;width: 1px;}#sk-container-id-3 div.sk-estimator {font-family: monospace;background-color: #f0f8ff;border: 1px dotted black;border-radius: 0.25em;box-sizing: border-box;margin-bottom: 0.5em;}#sk-container-id-3 div.sk-estimator:hover {background-color: #d4ebff;}#sk-container-id-3 div.sk-parallel-item::after {content: \"\";width: 100%;border-bottom: 1px solid gray;flex-grow: 1;}#sk-container-id-3 div.sk-label:hover label.sk-toggleable__label {background-color: #d4ebff;}#sk-container-id-3 div.sk-serial::before {content: \"\";position: absolute;border-left: 1px solid gray;box-sizing: border-box;top: 0;bottom: 0;left: 50%;z-index: 0;}#sk-container-id-3 div.sk-serial {display: flex;flex-direction: column;align-items: center;background-color: white;padding-right: 0.2em;padding-left: 0.2em;position: relative;}#sk-container-id-3 div.sk-item {position: relative;z-index: 1;}#sk-container-id-3 div.sk-parallel {display: flex;align-items: stretch;justify-content: center;background-color: white;position: relative;}#sk-container-id-3 div.sk-item::before, #sk-container-id-3 div.sk-parallel-item::before {content: \"\";position: absolute;border-left: 1px solid gray;box-sizing: border-box;top: 0;bottom: 0;left: 50%;z-index: -1;}#sk-container-id-3 div.sk-parallel-item {display: flex;flex-direction: column;z-index: 1;position: relative;background-color: white;}#sk-container-id-3 div.sk-parallel-item:first-child::after {align-self: flex-end;width: 50%;}#sk-container-id-3 div.sk-parallel-item:last-child::after {align-self: flex-start;width: 50%;}#sk-container-id-3 div.sk-parallel-item:only-child::after {width: 0;}#sk-container-id-3 div.sk-dashed-wrapped {border: 1px dashed gray;margin: 0 0.4em 0.5em 0.4em;box-sizing: border-box;padding-bottom: 0.4em;background-color: white;}#sk-container-id-3 div.sk-label label {font-family: monospace;font-weight: bold;display: inline-block;line-height: 1.2em;}#sk-container-id-3 div.sk-label-container {text-align: center;}#sk-container-id-3 div.sk-container {/* jupyter's `normalize.less` sets `[hidden] { display: none; }` but bootstrap.min.css set `[hidden] { display: none !important; }` so we also need the `!important` here to be able to override the default hidden behavior on the sphinx rendered scikit-learn.org. See: https://github.com/scikit-learn/scikit-learn/issues/21755 */display: inline-block !important;position: relative;}#sk-container-id-3 div.sk-text-repr-fallback {display: none;}</style><div id=\"sk-container-id-3\" class=\"sk-top-container\"><div class=\"sk-text-repr-fallback\"><pre>GridSearchCV(estimator=SVC(),\n",
       "             param_grid={&#x27;C&#x27;: [0.1, 1, 10], &#x27;gamma&#x27;: [&#x27;scale&#x27;, &#x27;auto&#x27;],\n",
       "                         &#x27;kernel&#x27;: (&#x27;linear&#x27;, &#x27;rbf&#x27;, &#x27;poly&#x27;, &#x27;sigmoid&#x27;)})</pre><b>In a Jupyter environment, please rerun this cell to show the HTML representation or trust the notebook. <br />On GitHub, the HTML representation is unable to render, please try loading this page with nbviewer.org.</b></div><div class=\"sk-container\" hidden><div class=\"sk-item sk-dashed-wrapped\"><div class=\"sk-label-container\"><div class=\"sk-label sk-toggleable\"><input class=\"sk-toggleable__control sk-hidden--visually\" id=\"sk-estimator-id-5\" type=\"checkbox\" ><label for=\"sk-estimator-id-5\" class=\"sk-toggleable__label sk-toggleable__label-arrow\">GridSearchCV</label><div class=\"sk-toggleable__content\"><pre>GridSearchCV(estimator=SVC(),\n",
       "             param_grid={&#x27;C&#x27;: [0.1, 1, 10], &#x27;gamma&#x27;: [&#x27;scale&#x27;, &#x27;auto&#x27;],\n",
       "                         &#x27;kernel&#x27;: (&#x27;linear&#x27;, &#x27;rbf&#x27;, &#x27;poly&#x27;, &#x27;sigmoid&#x27;)})</pre></div></div></div><div class=\"sk-parallel\"><div class=\"sk-parallel-item\"><div class=\"sk-item\"><div class=\"sk-label-container\"><div class=\"sk-label sk-toggleable\"><input class=\"sk-toggleable__control sk-hidden--visually\" id=\"sk-estimator-id-6\" type=\"checkbox\" ><label for=\"sk-estimator-id-6\" class=\"sk-toggleable__label sk-toggleable__label-arrow\">estimator: SVC</label><div class=\"sk-toggleable__content\"><pre>SVC()</pre></div></div></div><div class=\"sk-serial\"><div class=\"sk-item\"><div class=\"sk-estimator sk-toggleable\"><input class=\"sk-toggleable__control sk-hidden--visually\" id=\"sk-estimator-id-7\" type=\"checkbox\" ><label for=\"sk-estimator-id-7\" class=\"sk-toggleable__label sk-toggleable__label-arrow\">SVC</label><div class=\"sk-toggleable__content\"><pre>SVC()</pre></div></div></div></div></div></div></div></div></div></div>"
      ],
      "text/plain": [
       "GridSearchCV(estimator=SVC(),\n",
       "             param_grid={'C': [0.1, 1, 10], 'gamma': ['scale', 'auto'],\n",
       "                         'kernel': ('linear', 'rbf', 'poly', 'sigmoid')})"
      ]
     },
     "execution_count": 27,
     "metadata": {},
     "output_type": "execute_result"
    }
   ],
   "source": [
    "# make grid search\n",
    "\n",
    "parameters = {\n",
    "    'kernel':('linear', 'rbf', 'poly', 'sigmoid'), \n",
    "    'C':[0.1, 1, 10],\n",
    "    'gamma' : ['scale', 'auto'],\n",
    "}\n",
    "\n",
    "svc = SVC()\n",
    "\n",
    "grid_search = GridSearchCV(svc, parameters)\n",
    "\n",
    "\n",
    "grid_search.fit(train_X, train_label)"
   ]
  },
  {
   "cell_type": "code",
   "execution_count": 28,
   "id": "e919860d",
   "metadata": {},
   "outputs": [],
   "source": [
    "clf = grid_search.best_estimator_"
   ]
  },
  {
   "cell_type": "code",
   "execution_count": 29,
   "id": "ae17273d",
   "metadata": {},
   "outputs": [
    {
     "data": {
      "text/html": [
       "<style>#sk-container-id-4 {color: black;background-color: white;}#sk-container-id-4 pre{padding: 0;}#sk-container-id-4 div.sk-toggleable {background-color: white;}#sk-container-id-4 label.sk-toggleable__label {cursor: pointer;display: block;width: 100%;margin-bottom: 0;padding: 0.3em;box-sizing: border-box;text-align: center;}#sk-container-id-4 label.sk-toggleable__label-arrow:before {content: \"▸\";float: left;margin-right: 0.25em;color: #696969;}#sk-container-id-4 label.sk-toggleable__label-arrow:hover:before {color: black;}#sk-container-id-4 div.sk-estimator:hover label.sk-toggleable__label-arrow:before {color: black;}#sk-container-id-4 div.sk-toggleable__content {max-height: 0;max-width: 0;overflow: hidden;text-align: left;background-color: #f0f8ff;}#sk-container-id-4 div.sk-toggleable__content pre {margin: 0.2em;color: black;border-radius: 0.25em;background-color: #f0f8ff;}#sk-container-id-4 input.sk-toggleable__control:checked~div.sk-toggleable__content {max-height: 200px;max-width: 100%;overflow: auto;}#sk-container-id-4 input.sk-toggleable__control:checked~label.sk-toggleable__label-arrow:before {content: \"▾\";}#sk-container-id-4 div.sk-estimator input.sk-toggleable__control:checked~label.sk-toggleable__label {background-color: #d4ebff;}#sk-container-id-4 div.sk-label input.sk-toggleable__control:checked~label.sk-toggleable__label {background-color: #d4ebff;}#sk-container-id-4 input.sk-hidden--visually {border: 0;clip: rect(1px 1px 1px 1px);clip: rect(1px, 1px, 1px, 1px);height: 1px;margin: -1px;overflow: hidden;padding: 0;position: absolute;width: 1px;}#sk-container-id-4 div.sk-estimator {font-family: monospace;background-color: #f0f8ff;border: 1px dotted black;border-radius: 0.25em;box-sizing: border-box;margin-bottom: 0.5em;}#sk-container-id-4 div.sk-estimator:hover {background-color: #d4ebff;}#sk-container-id-4 div.sk-parallel-item::after {content: \"\";width: 100%;border-bottom: 1px solid gray;flex-grow: 1;}#sk-container-id-4 div.sk-label:hover label.sk-toggleable__label {background-color: #d4ebff;}#sk-container-id-4 div.sk-serial::before {content: \"\";position: absolute;border-left: 1px solid gray;box-sizing: border-box;top: 0;bottom: 0;left: 50%;z-index: 0;}#sk-container-id-4 div.sk-serial {display: flex;flex-direction: column;align-items: center;background-color: white;padding-right: 0.2em;padding-left: 0.2em;position: relative;}#sk-container-id-4 div.sk-item {position: relative;z-index: 1;}#sk-container-id-4 div.sk-parallel {display: flex;align-items: stretch;justify-content: center;background-color: white;position: relative;}#sk-container-id-4 div.sk-item::before, #sk-container-id-4 div.sk-parallel-item::before {content: \"\";position: absolute;border-left: 1px solid gray;box-sizing: border-box;top: 0;bottom: 0;left: 50%;z-index: -1;}#sk-container-id-4 div.sk-parallel-item {display: flex;flex-direction: column;z-index: 1;position: relative;background-color: white;}#sk-container-id-4 div.sk-parallel-item:first-child::after {align-self: flex-end;width: 50%;}#sk-container-id-4 div.sk-parallel-item:last-child::after {align-self: flex-start;width: 50%;}#sk-container-id-4 div.sk-parallel-item:only-child::after {width: 0;}#sk-container-id-4 div.sk-dashed-wrapped {border: 1px dashed gray;margin: 0 0.4em 0.5em 0.4em;box-sizing: border-box;padding-bottom: 0.4em;background-color: white;}#sk-container-id-4 div.sk-label label {font-family: monospace;font-weight: bold;display: inline-block;line-height: 1.2em;}#sk-container-id-4 div.sk-label-container {text-align: center;}#sk-container-id-4 div.sk-container {/* jupyter's `normalize.less` sets `[hidden] { display: none; }` but bootstrap.min.css set `[hidden] { display: none !important; }` so we also need the `!important` here to be able to override the default hidden behavior on the sphinx rendered scikit-learn.org. See: https://github.com/scikit-learn/scikit-learn/issues/21755 */display: inline-block !important;position: relative;}#sk-container-id-4 div.sk-text-repr-fallback {display: none;}</style><div id=\"sk-container-id-4\" class=\"sk-top-container\"><div class=\"sk-text-repr-fallback\"><pre>SVC(C=10, kernel=&#x27;linear&#x27;)</pre><b>In a Jupyter environment, please rerun this cell to show the HTML representation or trust the notebook. <br />On GitHub, the HTML representation is unable to render, please try loading this page with nbviewer.org.</b></div><div class=\"sk-container\" hidden><div class=\"sk-item\"><div class=\"sk-estimator sk-toggleable\"><input class=\"sk-toggleable__control sk-hidden--visually\" id=\"sk-estimator-id-8\" type=\"checkbox\" checked><label for=\"sk-estimator-id-8\" class=\"sk-toggleable__label sk-toggleable__label-arrow\">SVC</label><div class=\"sk-toggleable__content\"><pre>SVC(C=10, kernel=&#x27;linear&#x27;)</pre></div></div></div></div></div>"
      ],
      "text/plain": [
       "SVC(C=10, kernel='linear')"
      ]
     },
     "execution_count": 29,
     "metadata": {},
     "output_type": "execute_result"
    }
   ],
   "source": [
    "clf"
   ]
  },
  {
   "cell_type": "code",
   "execution_count": 30,
   "id": "9ed464ef",
   "metadata": {},
   "outputs": [],
   "source": [
    "#predict on the test set\n",
    "train_pred = clf.predict(train_X)\n",
    "test_pred = clf.predict(test_X)"
   ]
  },
  {
   "cell_type": "code",
   "execution_count": 31,
   "id": "5d426e85",
   "metadata": {},
   "outputs": [
    {
     "name": "stdout",
     "output_type": "stream",
     "text": [
      "Accuracy train set  0.8432029795158287\n",
      "Accuracy test set  0.8415870257746887\n",
      "Precision train set  0.8709797594972041\n",
      "Recall train set  0.8432029795158287\n",
      "F1 score train set  0.8385039498740893\n",
      "Support train set  (array([0.97574839, 0.77861891]), array([0.68229995, 0.98505022]), array([0.80305629, 0.86975353]), array([3774, 4281]))\n"
     ]
    }
   ],
   "source": [
    "print_metrics(train_label, train_pred, test_label, test_pred)"
   ]
  },
  {
   "cell_type": "code",
   "execution_count": 32,
   "id": "aa31be14",
   "metadata": {},
   "outputs": [
    {
     "name": "stdout",
     "output_type": "stream",
     "text": [
      "              precision    recall  f1-score   support\n",
      "\n",
      "        <=50       0.97      0.68      0.80      1618\n",
      "         >50       0.78      0.98      0.87      1835\n",
      "\n",
      "    accuracy                           0.84      3453\n",
      "   macro avg       0.88      0.83      0.83      3453\n",
      "weighted avg       0.87      0.84      0.84      3453\n",
      "\n"
     ]
    }
   ],
   "source": [
    "#compute the performance of the model\n",
    "report_scores(test_label,test_pred)"
   ]
  },
  {
   "cell_type": "code",
   "execution_count": 33,
   "id": "44e83f31",
   "metadata": {},
   "outputs": [
    {
     "name": "stdout",
     "output_type": "stream",
     "text": [
      "Fit time  2.3801642258961997\n",
      "Score time  0.10218350092569987\n",
      "Test score  0.8414649286157666\n",
      "Train score  0.8418994413407821\n"
     ]
    }
   ],
   "source": [
    "# cross validation\n",
    "scores = cross_validate(clf, train_X, train_label, cv=3, return_train_score= True)\n",
    "print('Fit time ', statistics.mean(scores['fit_time']))\n",
    "print('Score time ', statistics.mean(scores['score_time']))\n",
    "print('Test score ', statistics.mean(scores['test_score']))\n",
    "print('Train score ', statistics.mean(scores['train_score']))"
   ]
  },
  {
   "cell_type": "code",
   "execution_count": 34,
   "id": "6d7b04ce",
   "metadata": {},
   "outputs": [
    {
     "name": "stderr",
     "output_type": "stream",
     "text": [
      "/Users/lucamoroni/Desktop/__WorkSpace/__Universita/unipi/DataMining/Data_Mining_22_23/venv/lib/python3.9/site-packages/sklearn/utils/deprecation.py:87: FutureWarning: Function plot_confusion_matrix is deprecated; Function `plot_confusion_matrix` is deprecated in 1.0 and will be removed in 1.2. Use one of the class methods: ConfusionMatrixDisplay.from_predictions or ConfusionMatrixDisplay.from_estimator.\n",
      "  warnings.warn(msg, category=FutureWarning)\n"
     ]
    },
    {
     "data": {
      "image/png": "[encoded data removed]",
      "text/plain": [
       "<Figure size 640x480 with 2 Axes>"
      ]
     },
     "metadata": {},
     "output_type": "display_data"
    }
   ],
   "source": [
    "#it is possible to plot the confusion matrix \n",
    "#compute confusion matrix\n",
    "cm = confusion_matrix(test_label, test_pred)\n",
    "plot_confusion_matrix(clf, test_X, test_label)\n",
    "plt.show() "
   ]
  },
  {
   "cell_type": "code",
   "execution_count": 35,
   "id": "6140d23b",
   "metadata": {},
   "outputs": [],
   "source": [
    "pca = PCA(n_components=2)\n",
    "test_set_reduced = pca.fit_transform(test_set.values)"
   ]
  },
  {
   "cell_type": "code",
   "execution_count": 36,
   "id": "74f6330a",
   "metadata": {},
   "outputs": [
    {
     "data": {
      "image/png": "[encoded data removed]",
      "text/plain": [
       "<Figure size 640x480 with 1 Axes>"
      ]
     },
     "metadata": {},
     "output_type": "display_data"
    }
   ],
   "source": [
    "#true labels\n",
    "from sklearn.datasets import make_blobs\n",
    "plt.scatter(test_set_reduced[:, 0], test_set_reduced[:, 1], c=test_label, s=25, cmap='YlGn');"
   ]
  },
  {
   "cell_type": "code",
   "execution_count": 37,
   "id": "1c32cc2f",
   "metadata": {},
   "outputs": [
    {
     "data": {
      "image/png": "[encoded data removed]",
      "text/plain": [
       "<Figure size 640x480 with 1 Axes>"
      ]
     },
     "metadata": {},
     "output_type": "display_data"
    }
   ],
   "source": [
    "#predicted labels\n",
    "plt.scatter(test_set_reduced[:, 0], test_set_reduced[:, 1], c=test_pred, s=25, cmap='YlGn');"
   ]
  }
 ],
 "metadata": {
  "kernelspec": {
   "display_name": "venv",
   "language": "python",
   "name": "venv"
  },
  "language_info": {
   "codemirror_mode": {
    "name": "ipython",
    "version": 3
   },
   "file_extension": ".py",
   "mimetype": "text/x-python",
   "name": "python",
   "nbconvert_exporter": "python",
   "pygments_lexer": "ipython3",
   "version": "3.9.15"
  }
 },
 "nbformat": 4,
 "nbformat_minor": 5
}
