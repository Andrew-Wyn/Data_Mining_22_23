{
 "cells": [
  {
   "cell_type": "markdown",
   "id": "547838a1",
   "metadata": {},
   "source": [
    "# Ensemble classifiers"
   ]
  },
  {
   "cell_type": "code",
   "execution_count": null,
   "id": "4e8ae8b4",
   "metadata": {},
   "outputs": [],
   "source": [
    "import statistics\n",
    "import pandas as pd\n",
    "import numpy as np\n",
    "from sklearn.ensemble import BaggingClassifier\n",
    "from sklearn.neighbors import KNeighborsClassifier\n",
    "from sklearn.ensemble import AdaBoostClassifier\n",
    "from sklearn.ensemble import GradientBoostingClassifier\n",
    "from sklearn.ensemble import HistGradientBoostingClassifier\n",
    "from sklearn.model_selection import GridSearchCV\n",
    "from sklearn.tree import DecisionTreeClassifier\n",
    "from sklearn.datasets import make_blobs\n",
    "from classification_utils import *\n",
    "from sklearn.model_selection import cross_validate\n",
    "from sklearn.metrics import ConfusionMatrixDisplay, confusion_matrix\n",
    "from sklearn.ensemble import ExtraTreesClassifier\n",
    "import statistics\n",
    "from sklearn.metrics import ConfusionMatrixDisplay, confusion_matrix\n",
    "from sklearn.decomposition import PCA\n",
    "import pickle\n",
    "from sklearn.metrics import RocCurveDisplay"
   ]
  },
  {
   "cell_type": "markdown",
   "id": "5c31e812",
   "metadata": {},
   "source": [
    "## Load Data\n",
    "\n",
    "The only preprocessing step done is the one-hot-encoding of the **Lang** feature."
   ]
  },
  {
   "cell_type": "code",
   "execution_count": null,
   "id": "0bc792e8",
   "metadata": {},
   "outputs": [],
   "source": [
    "data = pd.read_csv(\"dataset/cleaned_user_profiles.csv\", index_col=0)\n",
    "data = data.join(pd.get_dummies(data[\"lang\"]))\n",
    "train_set, test_set, train_label, test_label = prepare_data(data)"
   ]
  },
  {
   "cell_type": "markdown",
   "id": "818d9c89",
   "metadata": {},
   "source": [
    "## Bagging\n",
    "\n",
    "Bagging methods form a class of algorithms which build several instances of a black-box estimator on random subsets of the original training set and then aggregate their individual predictions to form a final prediction. These methods are used as a way to reduce the variance of a base estimator (e.g., a decision tree), by introducing randomization into its construction procedure and then making an ensemble out of it.\n",
    "\n",
    "We will run a Grid-Search Cross-Validation over several parameters:\n",
    "- **n_estimators**: The number of base estimators in the ensemble.\n",
    "- **max_features**: The number of features to draw from X to train each base estimator.\n",
    "- **max_samples**: The number of samples to draw from X to train each base estimator."
   ]
  },
  {
   "cell_type": "code",
   "execution_count": null,
   "id": "3dfe708d",
   "metadata": {},
   "outputs": [],
   "source": [
    "param_grid = {\n",
    "                'n_estimators': np.arange(2, 40, 1),\n",
    "                'max_features': [0.7, 0.8, 0.85, 0.9, 1.0],\n",
    "                'max_samples': [0.7, 0.8, 0.85, 0.9, 1.0]\n",
    "             }\n",
    "\n",
    "bagging = BaggingClassifier()\n",
    "\n",
    "grid = GridSearchCV(\n",
    "    bagging,\n",
    "    param_grid,\n",
    "    cv=3,\n",
    "    scoring='accuracy',\n",
    "    return_train_score=False,\n",
    "    verbose=4\n",
    ")\n",
    "\n",
    "grid.fit(train_set, train_label)"
   ]
  },
  {
   "cell_type": "code",
   "execution_count": null,
   "id": "940a7b3e",
   "metadata": {},
   "outputs": [],
   "source": [
    "bagging = grid.best_estimator_\n",
    "bagging"
   ]
  },
  {
   "cell_type": "markdown",
   "id": "7607f446",
   "metadata": {},
   "source": [
    "## Print Metrics"
   ]
  },
  {
   "cell_type": "code",
   "execution_count": null,
   "id": "10c07645",
   "metadata": {},
   "outputs": [],
   "source": [
    "train_pred = bagging.predict(train_set)\n",
    "test_pred = bagging.predict(test_set)\n",
    "\n",
    "print_metrics(train_label, train_pred, test_label, test_pred)"
   ]
  },
  {
   "cell_type": "code",
   "execution_count": null,
   "id": "09c02a77",
   "metadata": {},
   "outputs": [],
   "source": [
    "report_scores(test_label,test_pred)"
   ]
  },
  {
   "cell_type": "markdown",
   "id": "662b48b5",
   "metadata": {},
   "source": [
    "### Confusion Matrix"
   ]
  },
  {
   "cell_type": "code",
   "execution_count": null,
   "id": "fcd68d79",
   "metadata": {},
   "outputs": [],
   "source": [
    "predictions = bagging.predict(test_set)\n",
    "\n",
    "cm = confusion_matrix(test_label, predictions)\n",
    "disp = ConfusionMatrixDisplay(confusion_matrix = cm)\n",
    "disp.plot()\n",
    "plt.show()"
   ]
  },
  {
   "cell_type": "markdown",
   "id": "aefa2729",
   "metadata": {},
   "source": [
    "### ROC-Curve"
   ]
  },
  {
   "cell_type": "code",
   "execution_count": null,
   "id": "24d1e938",
   "metadata": {},
   "outputs": [],
   "source": [
    "RocCurveDisplay.from_estimator(bagging, test_set, test_label)\n",
    "plt.show()"
   ]
  },
  {
   "cell_type": "markdown",
   "id": "262cf616",
   "metadata": {},
   "source": [
    "### PCA Blobs"
   ]
  },
  {
   "cell_type": "code",
   "execution_count": null,
   "id": "f2b8c03a",
   "metadata": {},
   "outputs": [],
   "source": [
    "pca = PCA(n_components=2)\n",
    "test_set_reduced = pca.fit_transform(test_set.values)"
   ]
  },
  {
   "cell_type": "code",
   "execution_count": null,
   "id": "39079acf",
   "metadata": {},
   "outputs": [],
   "source": [
    "#true labels\n",
    "plt.scatter(test_set_reduced[:, 0], test_set_reduced[:, 1], c=test_label, s=25);"
   ]
  },
  {
   "cell_type": "code",
   "execution_count": null,
   "id": "f557fac4",
   "metadata": {},
   "outputs": [],
   "source": [
    "#predicted labels\n",
    "plt.scatter(test_set_reduced[:, 0], test_set_reduced[:, 1], c=test_pred, s=25);"
   ]
  },
  {
   "cell_type": "markdown",
   "id": "93737105",
   "metadata": {},
   "source": [
    "## Extremely Randomized Trees\n",
    "\n",
    "A meta estimator that fits a number of randomized decision trees (a.k.a. extra-trees) on various sub-samples of the dataset and uses averaging to improve the predictive accuracy and control over-fitting.\n",
    "\n",
    "We will run a Grid-Search Cross-Validation over several parameters:\n",
    "- **max_features**: The number of features to consider when looking for the best split.\n",
    "- **min_sample_split**: The minimum number of samples required to split an internal node.\n",
    "- **min_samples_leaf**: The minimum number of samples required to be at a leaf node.\n",
    "- **n_estimators**: The number of trees in the forest.\n",
    "- **ccp_alpha**: Complexity parameter used for Minimal Cost-Complexity Pruning.\n",
    "- **min_weight_fraction_leaf**: The minimum weighted fraction of the sum total of weights (of all the input samples) required to be at a leaf node.\n",
    "- **criterion**: The function to measure the quality of a split."
   ]
  },
  {
   "cell_type": "code",
   "execution_count": null,
   "id": "5414883a",
   "metadata": {},
   "outputs": [],
   "source": [
    "param_grid = {'max_features': ['sqrt', 'log2', None],\n",
    "              'min_samples_split': [1, 2, 3, 4, 5],\n",
    "              'min_samples_leaf': [1, 2, 3, 4],\n",
    "              'n_estimators': np.arange(50, 200, 10),\n",
    "              'ccp_alpha': [0, 0.1, 0.05, 0.3, 0.5],\n",
    "              'min_weight_fraction_leaf': [0, 0.1, 0.05, 0.3, 0.5],\n",
    "              'criterion' :['gini', 'entropy', 'log_loss']\n",
    "             }\n",
    "\n",
    "ert = ExtraTreesClassifier()\n",
    "\n",
    "grid = GridSearchCV(\n",
    "    ert,\n",
    "    param_grid,\n",
    "    cv=3,\n",
    "    scoring='accuracy',\n",
    "    return_train_score=False,\n",
    "    verbose=4\n",
    ")\n",
    "\n",
    "grid.fit(train_set, train_label)"
   ]
  },
  {
   "cell_type": "code",
   "execution_count": null,
   "id": "79d65b27",
   "metadata": {},
   "outputs": [],
   "source": [
    "ert = grid.best_estimator_\n",
    "ert"
   ]
  },
  {
   "cell_type": "markdown",
   "id": "ed318681",
   "metadata": {},
   "source": [
    "## Print Metrics"
   ]
  },
  {
   "cell_type": "code",
   "execution_count": null,
   "id": "ffa88171",
   "metadata": {},
   "outputs": [],
   "source": [
    "train_pred = ert.predict(train_set)\n",
    "test_pred = ert.predict(test_set)\n",
    "\n",
    "print_metrics(train_label, train_pred, test_label, test_pred)"
   ]
  },
  {
   "cell_type": "code",
   "execution_count": null,
   "id": "3819167e",
   "metadata": {},
   "outputs": [],
   "source": [
    "report_scores(test_label,test_pred)"
   ]
  },
  {
   "cell_type": "markdown",
   "id": "8b9b6d4c",
   "metadata": {},
   "source": [
    "### Confusion Matrix"
   ]
  },
  {
   "cell_type": "code",
   "execution_count": null,
   "id": "ca7769fa",
   "metadata": {},
   "outputs": [],
   "source": [
    "predictions = ert.predict(test_set)\n",
    "\n",
    "cm = confusion_matrix(test_label, predictions)\n",
    "disp = ConfusionMatrixDisplay(confusion_matrix = cm)\n",
    "disp.plot()\n",
    "plt.show()"
   ]
  },
  {
   "cell_type": "markdown",
   "id": "06746335",
   "metadata": {},
   "source": [
    "### ROC-Curve"
   ]
  },
  {
   "cell_type": "code",
   "execution_count": null,
   "id": "7689d4bd",
   "metadata": {},
   "outputs": [],
   "source": [
    "RocCurveDisplay.from_estimator(ert, test_set, test_label)\n",
    "plt.show()"
   ]
  },
  {
   "cell_type": "markdown",
   "id": "ceaf78cf",
   "metadata": {},
   "source": [
    "### PCA Blobs"
   ]
  },
  {
   "cell_type": "code",
   "execution_count": null,
   "id": "d155f457",
   "metadata": {},
   "outputs": [],
   "source": [
    "pca = PCA(n_components=2)\n",
    "test_set_reduced = pca.fit_transform(test_set.values)"
   ]
  },
  {
   "cell_type": "code",
   "execution_count": null,
   "id": "e6dddc0d",
   "metadata": {},
   "outputs": [],
   "source": [
    "#true labels\n",
    "plt.scatter(test_set_reduced[:, 0], test_set_reduced[:, 1], c=test_label, s=25);"
   ]
  },
  {
   "cell_type": "code",
   "execution_count": null,
   "id": "39e2b0fc",
   "metadata": {},
   "outputs": [],
   "source": [
    "#predicted labels\n",
    "plt.scatter(test_set_reduced[:, 0], test_set_reduced[:, 1], c=test_pred, s=25);"
   ]
  },
  {
   "cell_type": "markdown",
   "id": "e299dbc7",
   "metadata": {},
   "source": [
    "## AdaBoost\n",
    "\n",
    "A meta-estimator that begins by fitting a classifier on the original dataset and then fits additional copies of the classifier on the same dataset but where the weights of incorrectly classified instances are adjusted such that subsequent classifiers focus more on difficult cases.\n",
    "\n",
    "We will run a Grid-Search Cross-Validation over several parameters:\n",
    "- **n_estimators**: The maximum number of estimators at which boosting is terminated.\n",
    "- **learnign_rate**: Weight applied to each classifier at each boosting iteration.\n",
    "- **algorithm**: If ‘SAMME.R’ then use the SAMME.R real boosting algorithm. estimator must support calculation of class probabilities. If ‘SAMME’ then use the SAMME discrete boosting algorithm. The SAMME.R algorithm typically converges faster than SAMME, achieving a lower test error with fewer boosting iterations."
   ]
  },
  {
   "cell_type": "code",
   "execution_count": null,
   "id": "f76f0a7c",
   "metadata": {},
   "outputs": [],
   "source": [
    "param_grid = {'n_estimators': np.arange(5, 100, 5),\n",
    "              'learning_rate': [0.8, 0.9, 1.0, 1.1, 1.2],\n",
    "              'algorithm': ['SAMME', 'SAMME.R'],\n",
    "             }\n",
    "\n",
    "ada = AdaBoostClassifier()\n",
    "\n",
    "grid = GridSearchCV(\n",
    "    ada,\n",
    "    param_grid,\n",
    "    cv=3,\n",
    "    scoring='accuracy',\n",
    "    return_train_score=False,\n",
    "    verbose=4\n",
    ")\n",
    "\n",
    "grid.fit(train_set, train_label)"
   ]
  },
  {
   "cell_type": "code",
   "execution_count": null,
   "id": "0cd8adab",
   "metadata": {},
   "outputs": [],
   "source": [
    "ada = grid.best_estimator_\n",
    "ada"
   ]
  },
  {
   "cell_type": "markdown",
   "id": "942e8488",
   "metadata": {},
   "source": [
    "## Print Metrics"
   ]
  },
  {
   "cell_type": "code",
   "execution_count": null,
   "id": "480147a3",
   "metadata": {},
   "outputs": [],
   "source": [
    "train_pred = ada.predict(train_set)\n",
    "test_pred = ada.predict(test_set)\n",
    "\n",
    "print_metrics(train_label, train_pred, test_label, test_pred)"
   ]
  },
  {
   "cell_type": "code",
   "execution_count": null,
   "id": "40706ad5",
   "metadata": {},
   "outputs": [],
   "source": [
    "report_scores(test_label,test_pred)"
   ]
  },
  {
   "cell_type": "markdown",
   "id": "5a5d7171",
   "metadata": {},
   "source": [
    "### Confusion Matrix"
   ]
  },
  {
   "cell_type": "code",
   "execution_count": null,
   "id": "1187658d",
   "metadata": {},
   "outputs": [],
   "source": [
    "predictions = ada.predict(test_set)\n",
    "\n",
    "cm = confusion_matrix(test_label, predictions)\n",
    "disp = ConfusionMatrixDisplay(confusion_matrix = cm)\n",
    "disp.plot()\n",
    "plt.show()"
   ]
  },
  {
   "cell_type": "markdown",
   "id": "cc33467b",
   "metadata": {},
   "source": [
    "### ROC-Curve"
   ]
  },
  {
   "cell_type": "code",
   "execution_count": null,
   "id": "14cc1cf6",
   "metadata": {},
   "outputs": [],
   "source": [
    "RocCurveDisplay.from_estimator(ada, test_set, test_label)\n",
    "plt.show()"
   ]
  },
  {
   "cell_type": "markdown",
   "id": "290661e4",
   "metadata": {},
   "source": [
    "### PCA Blobs"
   ]
  },
  {
   "cell_type": "code",
   "execution_count": null,
   "id": "462f7e19",
   "metadata": {},
   "outputs": [],
   "source": [
    "pca = PCA(n_components=2)\n",
    "test_set_reduced = pca.fit_transform(test_set.values)"
   ]
  },
  {
   "cell_type": "code",
   "execution_count": null,
   "id": "7b11554c",
   "metadata": {},
   "outputs": [],
   "source": [
    "#true labels\n",
    "plt.scatter(test_set_reduced[:, 0], test_set_reduced[:, 1], c=test_label, s=25);"
   ]
  },
  {
   "cell_type": "code",
   "execution_count": null,
   "id": "51427e0d",
   "metadata": {},
   "outputs": [],
   "source": [
    "#predicted labels\n",
    "plt.scatter(test_set_reduced[:, 0], test_set_reduced[:, 1], c=test_pred, s=25);"
   ]
  },
  {
   "cell_type": "markdown",
   "id": "a41e7861",
   "metadata": {},
   "source": [
    "## Gradient Tree Boosting\n",
    "\n",
    "This algorithm builds an additive model in a forward stage-wise fashion; it allows for the optimization of arbitrary differentiable loss functions. In each stage n_classes_ regression trees are fit on the negative gradient of the loss function.\n",
    "\n",
    "We will run the model with default parameters without doing a Grid Search, since the fact that this model is not mandatory, and due the timing limitation."
   ]
  },
  {
   "cell_type": "code",
   "execution_count": null,
   "id": "9b26d85d",
   "metadata": {},
   "outputs": [],
   "source": [
    "gbc = GradientBoostingClassifier()\n",
    "gbc.fit(train_set, train_label)\n",
    "gbc"
   ]
  },
  {
   "cell_type": "markdown",
   "id": "f56d7938",
   "metadata": {},
   "source": [
    "## Print Metrics"
   ]
  },
  {
   "cell_type": "code",
   "execution_count": null,
   "id": "998f01ae",
   "metadata": {},
   "outputs": [],
   "source": [
    "train_pred = gbc.predict(train_set)\n",
    "test_pred = gbc.predict(test_set)\n",
    "\n",
    "print_metrics(train_label, train_pred, test_label, test_pred)"
   ]
  },
  {
   "cell_type": "code",
   "execution_count": null,
   "id": "2f7ba1ef",
   "metadata": {},
   "outputs": [],
   "source": [
    "report_scores(test_label,test_pred)"
   ]
  },
  {
   "cell_type": "markdown",
   "id": "d3ed7445",
   "metadata": {},
   "source": [
    "### Confusion Matrix"
   ]
  },
  {
   "cell_type": "code",
   "execution_count": null,
   "id": "3d092fd1",
   "metadata": {},
   "outputs": [],
   "source": [
    "predictions = gbc.predict(test_set)\n",
    "\n",
    "cm = confusion_matrix(test_label, predictions)\n",
    "disp = ConfusionMatrixDisplay(confusion_matrix = cm)\n",
    "disp.plot()\n",
    "plt.show()"
   ]
  },
  {
   "cell_type": "markdown",
   "id": "59f866a9",
   "metadata": {},
   "source": [
    "### ROC-Curve"
   ]
  },
  {
   "cell_type": "code",
   "execution_count": null,
   "id": "3ee3a9e2",
   "metadata": {},
   "outputs": [],
   "source": [
    "RocCurveDisplay.from_estimator(gbc, test_set, test_label)\n",
    "plt.show()"
   ]
  },
  {
   "cell_type": "markdown",
   "id": "a209db2d",
   "metadata": {},
   "source": [
    "### PCA Blobs"
   ]
  },
  {
   "cell_type": "code",
   "execution_count": null,
   "id": "da8344db",
   "metadata": {},
   "outputs": [],
   "source": [
    "pca = PCA(n_components=2)\n",
    "test_set_reduced = pca.fit_transform(test_set.values)"
   ]
  },
  {
   "cell_type": "code",
   "execution_count": null,
   "id": "4091bd79",
   "metadata": {},
   "outputs": [],
   "source": [
    "#true labels\n",
    "plt.scatter(test_set_reduced[:, 0], test_set_reduced[:, 1], c=test_label, s=25);"
   ]
  },
  {
   "cell_type": "code",
   "execution_count": null,
   "id": "68789eef",
   "metadata": {},
   "outputs": [],
   "source": [
    "#predicted labels\n",
    "plt.scatter(test_set_reduced[:, 0], test_set_reduced[:, 1], c=test_pred, s=25);"
   ]
  },
  {
   "cell_type": "markdown",
   "id": "cebbd507",
   "metadata": {},
   "source": [
    "##  Histogram-Based Gradient Boosting\n",
    "\n",
    "During training, the tree grower learns at each split point whether samples with missing values should go to the left or right child, based on the potential gain. When predicting, samples with missing values are assigned to the left or right child consequently.\n",
    "\n",
    "We will run the model with default parameters without doing a Grid Search, since the fact that this model is not mandatory, and due the timing limitation."
   ]
  },
  {
   "cell_type": "code",
   "execution_count": null,
   "id": "e2b248ee",
   "metadata": {},
   "outputs": [],
   "source": [
    "hgbc = HistGradientBoostingClassifier()\n",
    "hgbc.fit(train_set, train_label)\n",
    "hgbc"
   ]
  },
  {
   "cell_type": "markdown",
   "id": "2e12d036",
   "metadata": {},
   "source": [
    "## Print Metrics"
   ]
  },
  {
   "cell_type": "code",
   "execution_count": null,
   "id": "96aa3063",
   "metadata": {},
   "outputs": [],
   "source": [
    "train_pred = hgbc.predict(train_set)\n",
    "test_pred = hgbc.predict(test_set)\n",
    "\n",
    "print_metrics(train_label, train_pred, test_label, test_pred)"
   ]
  },
  {
   "cell_type": "code",
   "execution_count": null,
   "id": "066d2713",
   "metadata": {},
   "outputs": [],
   "source": [
    "report_scores(test_label,test_pred)"
   ]
  },
  {
   "cell_type": "markdown",
   "id": "1b946c5e",
   "metadata": {},
   "source": [
    "### Confusion Matrix"
   ]
  },
  {
   "cell_type": "code",
   "execution_count": null,
   "id": "de8989e0",
   "metadata": {},
   "outputs": [],
   "source": [
    "predictions = hgbc.predict(test_set)\n",
    "\n",
    "cm = confusion_matrix(test_label, predictions)\n",
    "disp = ConfusionMatrixDisplay(confusion_matrix = cm)\n",
    "disp.plot()\n",
    "plt.show()"
   ]
  },
  {
   "cell_type": "markdown",
   "id": "237e0dff",
   "metadata": {},
   "source": [
    "### ROC-Curve"
   ]
  },
  {
   "cell_type": "code",
   "execution_count": null,
   "id": "3739ecaf",
   "metadata": {},
   "outputs": [],
   "source": [
    "RocCurveDisplay.from_estimator(hgbc, test_set, test_label)\n",
    "plt.show()"
   ]
  },
  {
   "cell_type": "markdown",
   "id": "14140342",
   "metadata": {},
   "source": [
    "### PCA Blobs"
   ]
  },
  {
   "cell_type": "code",
   "execution_count": null,
   "id": "e5f42d64",
   "metadata": {},
   "outputs": [],
   "source": [
    "pca = PCA(n_components=2)\n",
    "test_set_reduced = pca.fit_transform(test_set.values)"
   ]
  },
  {
   "cell_type": "code",
   "execution_count": null,
   "id": "f7ea594c",
   "metadata": {},
   "outputs": [],
   "source": [
    "#true labels\n",
    "plt.scatter(test_set_reduced[:, 0], test_set_reduced[:, 1], c=test_label, s=25);"
   ]
  },
  {
   "cell_type": "code",
   "execution_count": null,
   "id": "df1abd29",
   "metadata": {},
   "outputs": [],
   "source": [
    "#predicted labels\n",
    "plt.scatter(test_set_reduced[:, 0], test_set_reduced[:, 1], c=test_pred, s=25);"
   ]
  },
  {
   "cell_type": "markdown",
   "id": "6893a669",
   "metadata": {},
   "source": [
    "## Save models"
   ]
  },
  {
   "cell_type": "code",
   "execution_count": null,
   "id": "25a975d7",
   "metadata": {},
   "outputs": [],
   "source": [
    "with open(\"models_checkpoints/bagging_lang.bin\", \"wb\") as f:\n",
    "    pickle.dump(bagging, f)\n",
    "    \n",
    "with open(\"models_checkpoints/adaboost_lang.bin\", \"wb\") as f:\n",
    "    pickle.dump(ada, f)"
   ]
  },
  {
   "cell_type": "markdown",
   "id": "7fadba21",
   "metadata": {},
   "source": [
    "## Removed \"lang\" attribute for classification\n",
    "\n",
    "### Load Data"
   ]
  },
  {
   "cell_type": "code",
   "execution_count": null,
   "id": "d698a85d",
   "metadata": {},
   "outputs": [],
   "source": [
    "data = pd.read_csv(\"dataset/cleaned_user_profiles.csv\", index_col=0)\n",
    "data.drop(columns=['lang'])\n",
    "train_set, test_set, train_label, test_label = prepare_data(data)"
   ]
  },
  {
   "cell_type": "markdown",
   "id": "3985542f",
   "metadata": {},
   "source": [
    "## Bagging"
   ]
  },
  {
   "cell_type": "code",
   "execution_count": null,
   "id": "cc455317",
   "metadata": {},
   "outputs": [],
   "source": [
    "param_grid = {\n",
    "                'n_estimators': np.arange(2, 40, 1),\n",
    "                'max_features': [0.7, 0.8, 0.85, 0.9, 1.0],\n",
    "                'max_samples': [0.7, 0.8, 0.85, 0.9, 1.0]\n",
    "             }\n",
    "\n",
    "bagging = BaggingClassifier()\n",
    "\n",
    "grid = GridSearchCV(\n",
    "    bagging,\n",
    "    param_grid,\n",
    "    cv=3,\n",
    "    scoring='accuracy',\n",
    "    return_train_score=False,\n",
    "    verbose=4\n",
    ")\n",
    "\n",
    "grid.fit(train_set, train_label)"
   ]
  },
  {
   "cell_type": "code",
   "execution_count": null,
   "id": "654485db",
   "metadata": {},
   "outputs": [],
   "source": [
    "bagging = grid.best_estimator_\n",
    "bagging"
   ]
  },
  {
   "cell_type": "markdown",
   "id": "b86f930c",
   "metadata": {},
   "source": [
    "## Print Metrics"
   ]
  },
  {
   "cell_type": "code",
   "execution_count": null,
   "id": "e9ad5ea2",
   "metadata": {},
   "outputs": [],
   "source": [
    "train_pred = bagging.predict(train_set)\n",
    "test_pred = bagging.predict(test_set)\n",
    "\n",
    "print_metrics(train_label, train_pred, test_label, test_pred)"
   ]
  },
  {
   "cell_type": "code",
   "execution_count": null,
   "id": "2c331262",
   "metadata": {},
   "outputs": [],
   "source": [
    "report_scores(test_label,test_pred)"
   ]
  },
  {
   "cell_type": "markdown",
   "id": "beac954e",
   "metadata": {},
   "source": [
    "### Confusion Matrix"
   ]
  },
  {
   "cell_type": "code",
   "execution_count": null,
   "id": "5489c1d1",
   "metadata": {},
   "outputs": [],
   "source": [
    "predictions = bagging.predict(test_set)\n",
    "\n",
    "cm = confusion_matrix(test_label, predictions)\n",
    "disp = ConfusionMatrixDisplay(confusion_matrix = cm)\n",
    "disp.plot()\n",
    "plt.show()"
   ]
  },
  {
   "cell_type": "markdown",
   "id": "540e82e5",
   "metadata": {},
   "source": [
    "### ROC-Curve"
   ]
  },
  {
   "cell_type": "code",
   "execution_count": null,
   "id": "93bcccee",
   "metadata": {},
   "outputs": [],
   "source": [
    "RocCurveDisplay.from_estimator(bagging, test_set, test_label)\n",
    "plt.show()"
   ]
  },
  {
   "cell_type": "markdown",
   "id": "7ff67b20",
   "metadata": {},
   "source": [
    "### PCA Blobs"
   ]
  },
  {
   "cell_type": "code",
   "execution_count": null,
   "id": "f0cb7270",
   "metadata": {},
   "outputs": [],
   "source": [
    "pca = PCA(n_components=2)\n",
    "test_set_reduced = pca.fit_transform(test_set.values)"
   ]
  },
  {
   "cell_type": "code",
   "execution_count": null,
   "id": "ed90a00d",
   "metadata": {},
   "outputs": [],
   "source": [
    "#true labels\n",
    "plt.scatter(test_set_reduced[:, 0], test_set_reduced[:, 1], c=test_label, s=25);"
   ]
  },
  {
   "cell_type": "code",
   "execution_count": null,
   "id": "f83222f7",
   "metadata": {},
   "outputs": [],
   "source": [
    "#predicted labels\n",
    "plt.scatter(test_set_reduced[:, 0], test_set_reduced[:, 1], c=test_pred, s=25);"
   ]
  },
  {
   "cell_type": "markdown",
   "id": "71ad925f",
   "metadata": {},
   "source": [
    "## AdaBoost"
   ]
  },
  {
   "cell_type": "code",
   "execution_count": null,
   "id": "42db2573",
   "metadata": {},
   "outputs": [],
   "source": [
    "param_grid = {'n_estimators': np.arange(5, 100, 5),\n",
    "              'learning_rate': [0.8, 0.9, 1.0, 1.1, 1.2],\n",
    "              'algorithm': ['SAMME', 'SAMME.R'],\n",
    "             }\n",
    "\n",
    "ada = AdaBoostClassifier()\n",
    "\n",
    "grid = GridSearchCV(\n",
    "    ada,\n",
    "    param_grid,\n",
    "    cv=3,\n",
    "    scoring='accuracy',\n",
    "    return_train_score=False,\n",
    "    verbose=4\n",
    ")\n",
    "\n",
    "grid.fit(train_set, train_label)"
   ]
  },
  {
   "cell_type": "code",
   "execution_count": null,
   "id": "b0d08f27",
   "metadata": {},
   "outputs": [],
   "source": [
    "ada = grid.best_estimator_\n",
    "ada"
   ]
  },
  {
   "cell_type": "markdown",
   "id": "e8658b82",
   "metadata": {},
   "source": [
    "## Print Metrics"
   ]
  },
  {
   "cell_type": "code",
   "execution_count": null,
   "id": "259a36a3",
   "metadata": {},
   "outputs": [],
   "source": [
    "train_pred = ada.predict(train_set)\n",
    "test_pred = ada.predict(test_set)\n",
    "\n",
    "print_metrics(train_label, train_pred, test_label, test_pred)"
   ]
  },
  {
   "cell_type": "code",
   "execution_count": null,
   "id": "43448b04",
   "metadata": {},
   "outputs": [],
   "source": [
    "report_scores(test_label,test_pred)"
   ]
  },
  {
   "cell_type": "markdown",
   "id": "b124e9fb",
   "metadata": {},
   "source": [
    "### Confusion Matrix"
   ]
  },
  {
   "cell_type": "code",
   "execution_count": null,
   "id": "5878e905",
   "metadata": {},
   "outputs": [],
   "source": [
    "predictions = ada.predict(test_set)\n",
    "\n",
    "cm = confusion_matrix(test_label, predictions)\n",
    "disp = ConfusionMatrixDisplay(confusion_matrix = cm)\n",
    "disp.plot()\n",
    "plt.show()"
   ]
  },
  {
   "cell_type": "markdown",
   "id": "502ac394",
   "metadata": {},
   "source": [
    "### ROC-Curve"
   ]
  },
  {
   "cell_type": "code",
   "execution_count": null,
   "id": "81ac83a0",
   "metadata": {},
   "outputs": [],
   "source": [
    "RocCurveDisplay.from_estimator(ada, test_set, test_label)\n",
    "plt.show()"
   ]
  },
  {
   "cell_type": "markdown",
   "id": "7d8d0940",
   "metadata": {},
   "source": [
    "### PCA Blobs"
   ]
  },
  {
   "cell_type": "code",
   "execution_count": null,
   "id": "a195daec",
   "metadata": {},
   "outputs": [],
   "source": [
    "pca = PCA(n_components=2)\n",
    "test_set_reduced = pca.fit_transform(test_set.values)"
   ]
  },
  {
   "cell_type": "code",
   "execution_count": null,
   "id": "b59339b4",
   "metadata": {},
   "outputs": [],
   "source": [
    "#true labels\n",
    "plt.scatter(test_set_reduced[:, 0], test_set_reduced[:, 1], c=test_label, s=25);"
   ]
  },
  {
   "cell_type": "code",
   "execution_count": null,
   "id": "884e0c16",
   "metadata": {},
   "outputs": [],
   "source": [
    "#predicted labels\n",
    "plt.scatter(test_set_reduced[:, 0], test_set_reduced[:, 1], c=test_pred, s=25);"
   ]
  },
  {
   "cell_type": "markdown",
   "id": "44fc4e1a",
   "metadata": {},
   "source": [
    "## Save models"
   ]
  },
  {
   "cell_type": "code",
   "execution_count": null,
   "id": "2db3608f",
   "metadata": {},
   "outputs": [],
   "source": [
    "with open(\"models_checkpoints/bagging_no_lang.bin\", \"wb\") as f:\n",
    "    pickle.dump(bagging, f)\n",
    "    \n",
    "with open(\"models_checkpoints/adaboost_no_lang.bin\", \"wb\") as f:\n",
    "    pickle.dump(ada, f)"
   ]
  }
 ],
 "metadata": {
  "kernelspec": {
   "display_name": "Python 3 (ipykernel)",
   "language": "python",
   "name": "python3"
  },
  "language_info": {
   "codemirror_mode": {
    "name": "ipython",
    "version": 3
   },
   "file_extension": ".py",
   "mimetype": "text/x-python",
   "name": "python",
   "nbconvert_exporter": "python",
   "pygments_lexer": "ipython3",
   "version": "3.9.15"
  }
 },
 "nbformat": 4,
 "nbformat_minor": 5
}
